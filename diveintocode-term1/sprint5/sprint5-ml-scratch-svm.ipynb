{
 "cells": [
  {
   "cell_type": "markdown",
   "metadata": {},
   "source": [
    "# Sprint5課題 機械学習スクラッチSVM   \n",
    "\n",
    "**この課題の目的**    \n",
    "- スクラッチを通してSVMを理解する\n",
    "- 線形モデルと異なる手法に触れる"
   ]
  },
  {
   "cell_type": "markdown",
   "metadata": {},
   "source": [
    "**スクラッチによる実装**   \n",
    "NumPyなど最低限のライブラリのみを使いアルゴリズムを実装していきます。\n",
    "\n",
    "SVMは分類と回帰双方に使用できますが、分類のみを扱います。SVMで重要な要素としてカーネルがありますが、まずは線形カーネルを作成します。他のカーネルの作成はアドバンス課題とします。また、SVMにはハードマージン、ソフトマージンという考え方がありますが、より単純なハードマージンを扱います。\n",
    "\n",
    "<img src='svmclassification.png' width='400'>\n",
    "\n",
    "今回は上の表の左側の条件に当てはまるものを実装していただきます。"
   ]
  },
  {
   "cell_type": "markdown",
   "metadata": {},
   "source": [
    "## 【問題1】 SVM分類機のクラスを作成する"
   ]
  },
  {
   "cell_type": "markdown",
   "metadata": {},
   "source": [
    "SVM分類器のクラスを作成し、Sprint0で作成した分類のパイプラインに組み込んでください。\n",
    "\n",
    "クラスの基本構造はSprint3の線形回帰を参考にし、名前は<font color='red'>ScratchSVMClassifier</font>としてください。\n",
    "\n",
    "メソッドやパラメータなどはscikit-learnを参考にしてください。\n",
    "\n",
    "[sklearn.svm.SVC — scikit-learn 0.20.2 documentation](https://scikit-learn.org/stable/modules/generated/sklearn.svm.SVC.html)\n",
    "\n",
    "検証段階ではJupyter Notebook上で書いていき、最終的にはpyファイルにモジュールとしてまとめてください。\n",
    "\n",
    "scikit-learnにおけるパラメータについて\n",
    "\n",
    "scikit-learnの実装はソフトマージンSVMになっています。ハードマージンSVMを再現するには、パラメータCを<font color='red'>C=1e10</font>のように非常に大きな値を設定します。（無限大に向けてCを大きくするほどハードマージンSVMに近づきます）\n",
    "\n",
    "また、線形カーネルをscikit-learnで使う場合は<font color='red'>kernel=\"linear\"</font>と指定します。デフォルトでは<font color='red'>kernel=\"rbf\"</font>になっており、多項式カーネルと呼ばれるものになっています。"
   ]
  },
  {
   "cell_type": "markdown",
   "metadata": {},
   "source": [
    "### ・ラグランジュの未定乗数法による最急降下   \n",
    "\n",
    "SVMの最適化問題は、ラグランジュの未定乗数法により解くことができます。サンプル数分のラグランジュ乗数 $\\lambda$ を用意して、以下の式により更新していきます。\n",
    " \n",
    "$$ \\lambda_i^{new} = \\lambda_i + \\alpha(1 - \\sum_{j=1}^{n}{\\lambda_j y_i y_j k(x_i, x_j)}) $$\n",
    "\n",
    "ここで $k(x_i,x_j)$ はカーネル関数です。線形カーネルの場合は次のようになります。他のカーネル関数にも対応できるように、この部分はメソッド化しておきましょう。\n",
    "\n",
    "$$ k(x_i, x_j) = x_{i}^{T} x_j $$\n",
    "\n",
    "条件として、更新毎に $\\lambda_i >= 0$ を満たす必要があります。満たさない場合は $ \\lambda_i = 0$ とします。\n",
    "\n",
    "$ \\lambda^{new}_{i} $ : 更新後のi番目のサンプルのラグランジュ乗数\n",
    "\n",
    "$ \\lambda_i $ : 更新前のi番目のサンプルのラグランジュ乗数\n",
    "\n",
    "$ \\alpha $ : 学習率\n",
    "\n",
    "$ \\lambda_j $ : j番目のサンプルのラグランジュ乗数\n",
    "\n",
    "$ y_i $ : i番目のサンプルのラベル\n",
    "\n",
    "$ y_j $ : j番目のサンプルのラベル\n",
    "\n",
    "$ x_i $ : i番目のサンプルの特徴量ベクトル\n",
    "\n",
    "$ x_j $ : j番目のサンプルの特徴量ベクトル\n",
    "\n",
    "あるサンプルに対しての全てのサンプルとの関係を計算していくことになります。"
   ]
  },
  {
   "cell_type": "code",
   "execution_count": 1,
   "metadata": {},
   "outputs": [],
   "source": [
    "import numpy as np\n",
    "import pandas as pd\n",
    "import matplotlib.pyplot as plt\n",
    "from matplotlib.colors import ListedColormap\n",
    "import matplotlib.patches as mpatches\n",
    "%matplotlib inline\n",
    "from sklearn import datasets\n",
    "from sklearn.model_selection import train_test_split\n",
    "from sklearn.preprocessing import StandardScaler\n",
    "from sklearn.svm import SVC\n",
    "from sklearn.metrics import accuracy_score, precision_score, recall_score, f1_score"
   ]
  },
  {
   "cell_type": "code",
   "execution_count": 2,
   "metadata": {},
   "outputs": [],
   "source": [
    "def kernel_func(Xi, Xj):\n",
    "    '''\n",
    "    カーネル計算を行う関数\n",
    "    Parameters\n",
    "    --------------\n",
    "    Xi : 次の形のndarray, shape (n_samples, n_features)\n",
    "        検証用データの特徴量\n",
    "    Xj : 次の形のndarray, shape (n_samples, n_features)\n",
    "        検証用データの特徴量\n",
    "        \n",
    "    Returns\n",
    "    ----------\n",
    "    カーネルの計算結果\n",
    "    ''' \n",
    "    return np.dot(Xi, Xj.T)"
   ]
  },
  {
   "cell_type": "markdown",
   "metadata": {},
   "source": [
    "適当に値を決めて計算する"
   ]
  },
  {
   "cell_type": "code",
   "execution_count": 3,
   "metadata": {},
   "outputs": [],
   "source": [
    "#ラグランジュ乗数\n",
    "lam = np.array([1, 1, 1, 1], dtype=np.float)[:, np.newaxis]\n",
    "\n",
    "#学習率\n",
    "eta = 0.5\n",
    "\n",
    "#サンプルのラベル\n",
    "y = np.array([-1, -1, 1, 1])[:, np.newaxis]\n",
    "\n",
    "#特徴量\n",
    "x = np.array([[1, 3, 3],\n",
    "                        [1, 3, 2],\n",
    "                        [1, 5, 4],\n",
    "                        [1, 4, 6]], dtype=np.float)"
   ]
  },
  {
   "cell_type": "code",
   "execution_count": 4,
   "metadata": {},
   "outputs": [],
   "source": [
    "def _gradient_descent(X, y):\n",
    "    '''\n",
    "    ラグランジュ未定乗数法による最急降下法でパラメータを更新する関数\n",
    "\n",
    "    Parameter\n",
    "    --------------\n",
    "    X : 次の形のndarray, shape (n_samples, n_features)\n",
    "        学習用データ\n",
    "    y : 次の形のndarray, shape (n_samples, 1)\n",
    "        学習用データの正解ラベル\n",
    "        \n",
    "    Returns\n",
    "    -----------\n",
    "    lam : 次の形のndarray, shape (n_samples, 1)\n",
    "        更新されたラグランジュ乗数\n",
    "    '''\n",
    "    #ラグランジュの未定乗数法による再急降下\n",
    "    for i in range(len(y)):\n",
    "        \n",
    "        ans = 0  #初期化\n",
    "        for j in range(len(y)):\n",
    "                \n",
    "            #1つのインデックスに対してすべてのインデックスをかけ、合計する\n",
    "            ans += lam[j] * y[i] * y[j] * kernel_func(X[i, :], X[j, :])\n",
    "\n",
    "        #ラグランジュ乗数を更新\n",
    "        lam[i] += eta * (1 - ans)\n",
    "\n",
    "        #ラグランジュ乗数が0未満の時、0を代入\n",
    "        if  lam[i] < 0:\n",
    "            lam[i] = 0\n",
    "        \n",
    "    return lam"
   ]
  },
  {
   "cell_type": "code",
   "execution_count": 5,
   "metadata": {},
   "outputs": [
    {
     "data": {
      "text/plain": [
       "array([[19., 16., 28., 31.],\n",
       "       [16., 14., 24., 25.],\n",
       "       [28., 24., 42., 45.],\n",
       "       [31., 25., 45., 53.]])"
      ]
     },
     "execution_count": 5,
     "metadata": {},
     "output_type": "execute_result"
    }
   ],
   "source": [
    "kernel_func(x, x)"
   ]
  },
  {
   "cell_type": "markdown",
   "metadata": {},
   "source": [
    "### ・サポートベクターの決定   \n",
    "計算したラグランジュ乗数 $\\lambda$\n",
    " が設定した閾値より大きいサンプルをサポートベクターとして扱います。推定時にサポートベクターが必要になります。\n",
    "\n",
    "閾値はハイパーパラメータですが、1e-5程度からはじめると良いでしょう。"
   ]
  },
  {
   "cell_type": "code",
   "execution_count": 6,
   "metadata": {},
   "outputs": [],
   "source": [
    "#しきい値\n",
    "threshold=1e-5"
   ]
  },
  {
   "cell_type": "code",
   "execution_count": 7,
   "metadata": {},
   "outputs": [
    {
     "data": {
      "text/plain": [
       "array([0, 2])"
      ]
     },
     "execution_count": 7,
     "metadata": {},
     "output_type": "execute_result"
    }
   ],
   "source": [
    "#ラグランジュ乗数の初期化\n",
    "lam = np.ones(x.shape[0])[:, np.newaxis]\n",
    "        \n",
    "#イテレーションの回数実行(10回)\n",
    "for i in range(10):\n",
    "    lam = _gradient_descent(x, y)\n",
    "        \n",
    "#しきい値以上のサポートベクターを取り出す\n",
    "sv = np.where(lam > threshold)[0]\n",
    "sv"
   ]
  },
  {
   "cell_type": "markdown",
   "metadata": {},
   "source": [
    "### ・推定   \n",
    "推定時には、推定したいデータの特徴量とサポートベクターの特徴量をカーネル関数によって計算します。求めた $y(x)$ の符号が分類結果です。\n",
    "\n",
    "$$ y(x) = \\sum_{n=1}^{N}\\lambda_n y_n k(x, s_n) $$\n",
    "\n",
    "$ x $ : 推定したいデータの特徴量ベクトル\n",
    "\n",
    "$ N $ : サポートベクターの数\n",
    "\n",
    "$ n $ : サポートベクターのインデックス\n",
    "\n",
    "$ \\lambda_n $ : $ n $番目のサポートベクターのラグランジュ乗数\n",
    "\n",
    "$ y_n $ : $ n $番目のサポートベクターのラベル\n",
    "\n",
    "$ k() $ : カーネル関数\n",
    "\n",
    "$ s_n $ : $ n $番目のサポートベクターの特徴量"
   ]
  },
  {
   "cell_type": "markdown",
   "metadata": {},
   "source": [
    "### ・これまでのまとめ   \n",
    "\n",
    "SVMによるマージン最大化問題が以下の式の双対表現に帰着できることは、上記の説明と講義で理解されたかと思います。\n",
    "\n",
    "$ \\mathrm{argmin}_{w,b}\\frac{1}{2}||w||^2 $\n",
    "\n",
    "この制約付き最小化問題を解くために、ラグランジュ乗数λを導入し、wとbの制約条件を用いて、$ \\theta $と$\\theta_0 $を消去すれば\n",
    "\n",
    "$ L(\\lambda) = \\sum_{i=1}^{n} \\lambda_i -\\frac{1}{2}\\sum_{i=1}^{n}\\sum_{j=1}^{n}\\lambda_{i}\\lambda_{j}y_{i}y_{j}x_i^Tx_j $\n",
    "\n",
    "という関数が得られ、この関数を$ \\lambda $に対して最大化すれば良いのでした。この$ \\lambda $の最適解を求める方法はみなさんがこれまでに学習してきた勾配降下法を用いれば良いわけです。$ \\lambda $がわかれば$ \\theta $と$\\theta_0 $が求まるので、分類境界線が求まります。\n",
    "\n",
    "以下の図は、SVMを実装するフローを示したものです。実装の際に参考にしてください\n",
    "\n",
    "<img src='svmflow.png' width='600'>"
   ]
  },
  {
   "cell_type": "code",
   "execution_count": 30,
   "metadata": {},
   "outputs": [],
   "source": [
    "import numpy as np\n",
    "\n",
    "class ScratchSVMClassifier:\n",
    "    '''\n",
    "    SVMのスクラッチ実装\n",
    "\n",
    "    Parameters\n",
    "    ----------\n",
    "    num_iter : int\n",
    "        イテレーション数\n",
    "    eta : float\n",
    "        学習率(0 < eta <= 1の範囲)\n",
    "    threshold : float\n",
    "        しきい値\n",
    "    bias : bool\n",
    "        バイアス項を入れない場合はFalse\n",
    "    kernel : object\n",
    "        カーネルの式, 多項式の場合は'poly'\n",
    "    gamma : float\n",
    "        'poly'のカーネル係数\n",
    "    degree : int\n",
    "        'poly'のカーネル係数\n",
    "    coef0 : float\n",
    "        'poly'の独立項\n",
    "\n",
    "    Attributes\n",
    "    ----------\n",
    "    self.lam_ : 次の形のndarray, shape (n_features,)\n",
    "        ラグランジュ乗数\n",
    "    self.y_label : list\n",
    "        ラベルのユニーク値\n",
    "    self.sv_X : 次の形のndarray, shape (n_samples, n_features)\n",
    "        サポートベクターの特徴量\n",
    "    self.sv_lam : 次の形のndarray, shape (n_samples, 1)\n",
    "        サポートベクターのラグランジュ乗数\n",
    "    self.sv_y : 次の形のndarray, shape (n_samples, 1)\n",
    "        サポートベクターのラベル\n",
    "    self.theta : 次の形のndarray, shape (n_samples, n_features)\n",
    "        分類境界の勾配\n",
    "        \n",
    "    '''\n",
    "    def __init__(self, num_iter=50, eta=0.05, threshold=1e-5, \n",
    "                             bias=True, kernel='linear', gamma=5, degree=5, coef0=0):\n",
    "        # ハイパーパラメータを属性として記録\n",
    "        self.iter              = num_iter     #イテレーション数\n",
    "        self.eta              = eta               #学習率\n",
    "        self.threshold   = threshold     # しきい値\n",
    "        self.bias             = bias             #バイアス項(True : あり, False : なし)\n",
    "        self.kernel         = kernel          #カーネルの式(linear :  線形カーネル, poly : 多項式カーネル)\n",
    "        self.gamma       = gamma       #カーネル係数\n",
    "        self.degree       = degree        #カーネル係数\n",
    "        self.coef0         = coef0          #'poly'の独立項\n",
    "\n",
    "        #　インスタンス変数\n",
    "        self.lam        = None      #ラグランジュ乗数\n",
    "        self.y_label  = None      #ラベルのユニーク値\n",
    "        self.sv_X      = None      #サポートベクターの特徴量\n",
    "        self.sv_lam  = None      #サポートベクターのラグランジュ乗数\n",
    "        self.sv_y      = None      #サポートベクターのラベル\n",
    "        self.theta     = None     #分類境界の勾配\n",
    "        \n",
    "\n",
    "    def fit(self, X, y):\n",
    "        '''\n",
    "        SVMで学習する。\n",
    "\n",
    "        Parameters\n",
    "        ----------\n",
    "        X : 次の形のndarray, shape (n_samples, n_features)\n",
    "            学習用データの特徴量\n",
    "        y : 次の形のndarray, shape (n_samples, )\n",
    "            学習用データの正解値\n",
    "        '''\n",
    "        #yのラベルのユニーク値をリストに保管\n",
    "        self.y_label = []\n",
    "        self.y_label.append(np.unique(y)[0])\n",
    "        self.y_label.append(np.unique(y)[1])\n",
    "        \n",
    "        #yをコピーし、-1, 1に変換\n",
    "        y_copy = y.copy()\n",
    "        y_copy[y_copy == np.unique(y_copy)[0]] = -1\n",
    "        y_copy[y_copy == np.unique(y_copy)[1]] = 1\n",
    "        \n",
    "        #ラグランジュ乗数の初期化\n",
    "        self.lam = np.ones(X.shape[0])[:, np.newaxis]\n",
    "        \n",
    "        #イテレーションの回数実行\n",
    "        for i in range(self.iter):\n",
    "            self.lam = self._gradient_descent(X, y_copy)\n",
    "        \n",
    "        #しきい値以上のサポートベクターを取り出す\n",
    "        sv = np.where(self.lam > self.threshold)[0]\n",
    "            \n",
    "        #サポートベクターの数を取得\n",
    "        sv_nam = len(sv)\n",
    "\n",
    "        #サポートベクターのデータを格納\n",
    "        self.sv_X = X[sv, :] #特徴量ベクトル\n",
    "        self.sv_lam = self.lam[sv] #ラグランジュ乗数\n",
    "        self.sv_y = y_copy[sv] #ラベル\n",
    "\n",
    "        #thetaの計算\n",
    "        self.theta = np.zeros(X.shape[1]) #Xの特徴量の数の0配列を用意\n",
    "        for n in range(sv_nam):\n",
    "            self.theta += self.sv_lam[n] * self.sv_y[n] * self.sv_X[n] #サポートベクターの数だけ足す\n",
    "\n",
    "        #theta0の計算\n",
    "        self.theta0 = np.sum(self.sv_y) #サポートベクターのラベル名の合計\n",
    "        self.theta0 -= np.sum(np.dot(self.theta, self.sv_X.T)) #thetaとサポートベクターの特徴量の合計を引く\n",
    "        self.theta0 /= sv_nam  #サポートベクターの数で割る\n",
    "\n",
    "\n",
    "    def predict(self, X):\n",
    "        '''\n",
    "        SVMを使いラベルを推定する。\n",
    "\n",
    "        Parameters\n",
    "        ----------\n",
    "        X : 次の形のndarray, shape (n_samples, n_features)\n",
    "            検証用データの特徴量\n",
    "\n",
    "        Returns\n",
    "        -------\n",
    "        y_pred : 次の形のndarray, shape (1, n_samples)\n",
    "            予測したラベル\n",
    "        '''        \n",
    "        #線形カーネルの時\n",
    "        if self.kernel == 'linear':\n",
    "            y_pred = (np.sum((self.sv_lam.T * self.sv_y) \n",
    "                               * self._kernel_func(X, self.sv_X), axis=1))\n",
    "        \n",
    "        #多項式カーネルの時\n",
    "        elif self.kernel == 'poly':\n",
    "            y_pred = (np.sum((self.sv_lam.T * self.sv_y) \n",
    "                              * self._poly_kernel_func(X, self.sv_X), axis=1))\n",
    "\n",
    "        #バイアス項がないとき\n",
    "        if self.bias == False:\n",
    "            y_pred = np.dot(self.theta, X.T)\n",
    "        \n",
    "        #予測結果が0未満なら-1側, 0より大きいなら1側のラベルを割り振る\n",
    "        for i in range(X.shape[0]):\n",
    "            if y_pred[i] < 0:\n",
    "                y_pred[i] = self.y_label[0]\n",
    "            else:\n",
    "                y_pred[i] = self.y_label[1]\n",
    "\n",
    "        return y_pred\n",
    "    \n",
    "    \n",
    "    def _kernel_func(self, Xi, Xj):\n",
    "        '''\n",
    "        線形カーネル計算を行う関数\n",
    "        Parameters\n",
    "        --------------\n",
    "        Xi : 次の形のndarray, shape (n_samples, n_features)\n",
    "            検証用データの特徴量\n",
    "        Xj : 次の形のndarray, shape (n_samples, n_features)\n",
    "            検証用データの特徴量\n",
    "            \n",
    "        Returns\n",
    "        ----------\n",
    "        線形カーネルの計算結果\n",
    "        ''' \n",
    "        return np.dot(Xi, Xj.T)\n",
    "    \n",
    "\n",
    "    def _poly_kernel_func(self, Xi, Xj):\n",
    "        '''\n",
    "        多項式カーネル計算を行う関数\n",
    "        Parameters\n",
    "        --------------\n",
    "        Xi : 次の形のndarray, shape (n_samples, n_features)\n",
    "            検証用データの特徴量\n",
    "        Xj : 次の形のndarray, shape (n_samples, n_features)\n",
    "            検証用データの特徴量\n",
    "        \n",
    "        Returns\n",
    "        ----------\n",
    "        多項式カーネルの計算結果\n",
    "        ''' \n",
    "        return self.gamma * (np.dot(Xi, Xj.T) + self.coef0)**self.degree\n",
    "            \n",
    "    \n",
    "    def _gradient_descent(self, X, y):\n",
    "        '''\n",
    "        最急降下法でパラメータを更新する関数\n",
    "\n",
    "        Parameter\n",
    "        --------------\n",
    "        X : 次の形のndarray, shape (n_samples, n_features)\n",
    "            学習用データの特徴量\n",
    "        y : 次の形のndarray, shape (n_samples, 1)\n",
    "            学習用データの正解ラベル\n",
    "\n",
    "        Returns\n",
    "        -----------\n",
    "        lam : 次の形のndarray, shape (n_samples, 1)\n",
    "            更新されたパラメータ   \n",
    "        '''\n",
    "        #カーネル関数の計算\n",
    "        #線形\n",
    "        if self.kernel == 'linear':\n",
    "            k = self._kernel_func(X, X)\n",
    "        #多項式\n",
    "        elif self.kernel == 'poly':\n",
    "            k = self._poly_kernel_func(X, X)\n",
    "                \n",
    "        #サンプル数の一時変数\n",
    "        samples = len(y)\n",
    "\n",
    "        #ラグランジュ乗数の未定乗数法による再急降下\n",
    "        for i in range(samples):\n",
    "            ans = 0  #初期化\n",
    "            for j in range(samples):\n",
    "                #1つのインデックスに対してすべてのインデックスをかけ、合計する\n",
    "                ans += self.lam[j] * y[i] * y[j] * k[i, j]\n",
    "\n",
    "            #ラグランジュ乗数を更新\n",
    "            self.lam[i] += self.eta * (1 - ans)\n",
    "            \n",
    "            #ラグランジュ乗数が0未満の時、0を代入\n",
    "            if  self.lam[i] < 0:\n",
    "                self.lam[i] = 0\n",
    "\n",
    "        return self.lam"
   ]
  },
  {
   "cell_type": "markdown",
   "metadata": {},
   "source": [
    "シンプルデータセット1で線形カーネル, irisデータで多項式カーネルを検証する"
   ]
  },
  {
   "cell_type": "code",
   "execution_count": 9,
   "metadata": {},
   "outputs": [],
   "source": [
    "#シンプルデータセット1の読み込み\n",
    "np.random.seed(seed=0)\n",
    "n_samples = 500\n",
    "f0 = [-1, 2]\n",
    "f1 = [2, -1]\n",
    "cov = [[1.0,0.8], [0.8, 1.0]]\n",
    "\n",
    "f0 = np.random.multivariate_normal(f0, cov, int(n_samples/2))\n",
    "f1 = np.random.multivariate_normal(f1, cov, int(n_samples/2))\n",
    "\n",
    "X = np.concatenate((f0, f1))\n",
    "y = np.concatenate((np.ones((int(n_samples/2))), \n",
    "                                        np.ones((int(n_samples/2))) *(-1))).astype(np.int)\n",
    "\n",
    "random_index = np.random.permutation(np.arange(n_samples))\n",
    "X = X[random_index]\n",
    "y = y[random_index]\n",
    "\n",
    "#データを分割\n",
    "X_train, X_test, y_train, y_test = train_test_split(X, y, test_size=0.25)"
   ]
  },
  {
   "cell_type": "code",
   "execution_count": 10,
   "metadata": {},
   "outputs": [],
   "source": [
    "#irisデータセットの読み込み\n",
    "iris = datasets.load_iris()\n",
    "\n",
    "#説明変数をX_dfに、目的変数をy_dfに格納し、列目を付ける\n",
    "X_df = pd.DataFrame(iris.data, columns=iris.feature_names)\n",
    "y_df = pd.DataFrame(iris.target, columns=['Species'])\n",
    "\n",
    "#結合\n",
    "df = pd.concat([X_df, y_df], axis=1)\n",
    "\n",
    "#抜き出し\n",
    "df = df[(df['Species'] == 1) | (df['Species'] == 2)][['petal length (cm)', 'petal width (cm)', 'Species']]\n",
    "\n",
    "#説明変数をX、目的変数をyというndarrayに格納\n",
    "X_iris = df.iloc[:, :-1].values\n",
    "y_iris = df.iloc[:, -1].values\n",
    "\n",
    "#データを分割\n",
    "X_train_iris, X_test_iris, y_train_iris, y_test_iris = train_test_split(X_iris, y_iris, test_size=0.25)\n",
    "\n",
    "#学習用データをfit(平均と標準偏差を計算)し、transform(標準化)\n",
    "sc = StandardScaler()\n",
    "X_train_iris_std = sc.fit_transform(X_train_iris)\n",
    "\n",
    "#検証用データをtransform(標準化)\n",
    "X_test_iris_std = sc.transform(X_test_iris)"
   ]
  },
  {
   "cell_type": "markdown",
   "metadata": {},
   "source": [
    "**シンプルデータセット1で線形カーネルの検証**   \n",
    "スクラッチしたクラス"
   ]
  },
  {
   "cell_type": "code",
   "execution_count": 11,
   "metadata": {
    "scrolled": false
   },
   "outputs": [],
   "source": [
    "#学習\n",
    "s_svm = ScratchSVMClassifier()\n",
    "s_svm.fit(X_train, y_train)"
   ]
  },
  {
   "cell_type": "code",
   "execution_count": 12,
   "metadata": {
    "scrolled": false
   },
   "outputs": [
    {
     "data": {
      "text/plain": [
       "array([-1.,  1., -1.,  1., -1., -1., -1., -1.,  1., -1., -1., -1.,  1.,\n",
       "        1., -1., -1., -1.,  1., -1., -1., -1.,  1., -1., -1., -1.,  1.,\n",
       "       -1.,  1.,  1.,  1.,  1.,  1., -1.,  1., -1.,  1., -1.,  1.,  1.,\n",
       "        1., -1., -1.,  1.,  1., -1.,  1., -1., -1., -1., -1., -1.,  1.,\n",
       "        1.,  1., -1.,  1., -1.,  1.,  1., -1., -1., -1., -1.,  1., -1.,\n",
       "        1.,  1., -1., -1.,  1.,  1.,  1.,  1., -1.,  1.,  1.,  1.,  1.,\n",
       "       -1.,  1., -1., -1., -1., -1., -1., -1.,  1., -1.,  1., -1.,  1.,\n",
       "        1., -1., -1.,  1., -1.,  1., -1.,  1.,  1.,  1., -1.,  1.,  1.,\n",
       "        1., -1.,  1.,  1.,  1.,  1., -1., -1., -1., -1.,  1.,  1.,  1.,\n",
       "        1., -1., -1.,  1.,  1.,  1.,  1., -1.])"
      ]
     },
     "execution_count": 12,
     "metadata": {},
     "output_type": "execute_result"
    }
   ],
   "source": [
    "#予測\n",
    "s_y_pred = s_svm.predict(X_test)\n",
    "s_y_pred"
   ]
  },
  {
   "cell_type": "markdown",
   "metadata": {},
   "source": [
    "scikit learn"
   ]
  },
  {
   "cell_type": "code",
   "execution_count": 13,
   "metadata": {},
   "outputs": [
    {
     "data": {
      "text/plain": [
       "array([-1,  1, -1,  1, -1, -1, -1, -1,  1, -1, -1, -1,  1,  1, -1, -1, -1,\n",
       "        1, -1, -1, -1,  1, -1, -1, -1,  1, -1,  1,  1,  1,  1,  1, -1,  1,\n",
       "       -1,  1, -1,  1,  1,  1, -1, -1,  1,  1, -1,  1, -1, -1, -1, -1, -1,\n",
       "        1,  1,  1, -1,  1, -1,  1,  1, -1, -1, -1, -1,  1, -1,  1,  1, -1,\n",
       "       -1,  1,  1,  1,  1, -1,  1,  1,  1,  1, -1,  1, -1, -1, -1, -1, -1,\n",
       "       -1,  1, -1,  1, -1,  1,  1, -1, -1,  1, -1,  1, -1,  1,  1,  1, -1,\n",
       "        1,  1,  1, -1,  1,  1,  1,  1, -1, -1, -1, -1,  1,  1,  1,  1, -1,\n",
       "       -1,  1,  1,  1,  1, -1])"
      ]
     },
     "execution_count": 13,
     "metadata": {},
     "output_type": "execute_result"
    }
   ],
   "source": [
    "svm = SVC(kernel='linear')\n",
    "\n",
    "#学習\n",
    "svm.fit(X_train, y_train)\n",
    "\n",
    "#予測\n",
    "y_pred = svm.predict(X_test)\n",
    "y_pred"
   ]
  },
  {
   "cell_type": "markdown",
   "metadata": {},
   "source": [
    "**irisデータで多項式カーネルの検証**  \n",
    "スクラッチしたクラス"
   ]
  },
  {
   "cell_type": "code",
   "execution_count": 14,
   "metadata": {
    "scrolled": true
   },
   "outputs": [],
   "source": [
    "#学習\n",
    "s_svm_poly = ScratchSVMClassifier(num_iter=300, eta=0.01, kernel='poly', gamma=3, degree=3, coef0=1)\n",
    "s_svm_poly.fit(X_train_iris_std, y_train_iris)"
   ]
  },
  {
   "cell_type": "code",
   "execution_count": 15,
   "metadata": {
    "scrolled": false
   },
   "outputs": [
    {
     "data": {
      "text/plain": [
       "array([1., 1., 2., 2., 2., 1., 1., 1., 1., 2., 1., 2., 2., 2., 1., 2., 1.,\n",
       "       1., 1., 1., 2., 2., 2., 2., 1.])"
      ]
     },
     "execution_count": 15,
     "metadata": {},
     "output_type": "execute_result"
    }
   ],
   "source": [
    "#予測\n",
    "s_y_pred_poly = s_svm_poly.predict(X_test_iris_std)\n",
    "s_y_pred_poly"
   ]
  },
  {
   "cell_type": "markdown",
   "metadata": {},
   "source": [
    "scikit learn"
   ]
  },
  {
   "cell_type": "code",
   "execution_count": 16,
   "metadata": {},
   "outputs": [
    {
     "data": {
      "text/plain": [
       "array([1, 1, 2, 2, 2, 1, 1, 1, 1, 2, 1, 2, 2, 2, 1, 2, 1, 1, 1, 1, 2, 2,\n",
       "       2, 2, 1])"
      ]
     },
     "execution_count": 16,
     "metadata": {},
     "output_type": "execute_result"
    }
   ],
   "source": [
    "#学習\n",
    "svm_poly = SVC(kernel='poly', gamma=3, degree=3, coef0=1)\n",
    "svm_poly.fit(X_train_iris_std, y_train_iris)\n",
    "\n",
    "#予測\n",
    "y_pred_poly = svm_poly.predict(X_test_iris_std)\n",
    "y_pred_poly"
   ]
  },
  {
   "cell_type": "markdown",
   "metadata": {},
   "source": [
    "## 【問題2】 多項式カーネルの作成"
   ]
  },
  {
   "cell_type": "markdown",
   "metadata": {},
   "source": [
    "問題1では線形カーネルを使用しましたが、多項式カーネルにも切り替えられるようにしましょう。\n",
    "\n",
    "「線形カーネルの式」\n",
    "\n",
    "$$ k(x_i, x_j) = x_{i}^{T} x_j $$\n",
    "\n",
    "「多項式カーネルの式」\n",
    "\n",
    "$$ k(x_i, x_j) = \\gamma(x_{i}^{T} x_j + \\theta_0)^{d} $$\n",
    "\n",
    "$ \\gamma $, $\\theta_0 $, $ d $はハイパーパラメータです。\n",
    "\n",
    "線形カーネルは$ \\gamma = 1 $, $ \\theta_0 = 0 $, $ d = 1 $の場合の多項式カーネルと等しいと言えます"
   ]
  },
  {
   "cell_type": "markdown",
   "metadata": {},
   "source": [
    "## 【問題3】 指標値の算出"
   ]
  },
  {
   "cell_type": "markdown",
   "metadata": {},
   "source": [
    "分類に関する指標値で精度を確認してください。"
   ]
  },
  {
   "cell_type": "code",
   "execution_count": 17,
   "metadata": {},
   "outputs": [],
   "source": [
    "def evalution(y_test, y_pred):\n",
    "    '''\n",
    "     分類問題の指標値を出力する関数\n",
    " \n",
    "     Paraeters\n",
    "     -------------\n",
    "    y_test : 次の形のndarray, shape (n_samples, )\n",
    "        正解値\n",
    "    y_pred : 次の形のndarray, shape (n_samples, )\n",
    "        予測したラベル\n",
    "    '''\n",
    "    #accuracy\n",
    "    accuracy = accuracy_score(y_test, y_pred)\n",
    "    print('accuracy :', accuracy)\n",
    "\n",
    "    #precision\n",
    "    precision = precision_score(y_test, y_pred)\n",
    "    print('precision :', precision)\n",
    "\n",
    "    #recall\n",
    "    recall = recall_score(y_test, y_pred)\n",
    "    print('recall :', recall)\n",
    "\n",
    "    #f1\n",
    "    f1 = f1_score(y_test, y_pred)\n",
    "    print('f1 :', f1)"
   ]
  },
  {
   "cell_type": "markdown",
   "metadata": {},
   "source": [
    "**シンプルデータセット1で線形カーネルの検証**   \n",
    "スクラッチしたクラス"
   ]
  },
  {
   "cell_type": "code",
   "execution_count": 18,
   "metadata": {
    "scrolled": true
   },
   "outputs": [
    {
     "name": "stdout",
     "output_type": "stream",
     "text": [
      "accuracy : 1.0\n",
      "precision : 1.0\n",
      "recall : 1.0\n",
      "f1 : 1.0\n"
     ]
    }
   ],
   "source": [
    "evalution(y_test, s_y_pred)"
   ]
  },
  {
   "cell_type": "markdown",
   "metadata": {},
   "source": [
    "scikit learn"
   ]
  },
  {
   "cell_type": "code",
   "execution_count": 19,
   "metadata": {
    "scrolled": true
   },
   "outputs": [
    {
     "name": "stdout",
     "output_type": "stream",
     "text": [
      "accuracy : 1.0\n",
      "precision : 1.0\n",
      "recall : 1.0\n",
      "f1 : 1.0\n"
     ]
    }
   ],
   "source": [
    "evalution(y_test, y_pred)"
   ]
  },
  {
   "cell_type": "markdown",
   "metadata": {},
   "source": [
    "線形カーネルでのスコアは、スクラッチクラス、sklearともにすべて1.0であり、正確に分類できていた。"
   ]
  },
  {
   "cell_type": "markdown",
   "metadata": {},
   "source": [
    "**irisデータで多項式カーネルの検証**  \n",
    "スクラッチしたクラス"
   ]
  },
  {
   "cell_type": "code",
   "execution_count": 20,
   "metadata": {},
   "outputs": [
    {
     "name": "stdout",
     "output_type": "stream",
     "text": [
      "accuracy : 0.92\n",
      "precision : 0.9230769230769231\n",
      "recall : 0.9230769230769231\n",
      "f1 : 0.9230769230769231\n"
     ]
    }
   ],
   "source": [
    "evalution(y_test_iris, s_y_pred_poly)"
   ]
  },
  {
   "cell_type": "markdown",
   "metadata": {},
   "source": [
    "scikit learn"
   ]
  },
  {
   "cell_type": "code",
   "execution_count": 21,
   "metadata": {},
   "outputs": [
    {
     "name": "stdout",
     "output_type": "stream",
     "text": [
      "accuracy : 0.92\n",
      "precision : 0.9230769230769231\n",
      "recall : 0.9230769230769231\n",
      "f1 : 0.9230769230769231\n"
     ]
    }
   ],
   "source": [
    "evalution(y_test_iris, y_pred_poly)"
   ]
  },
  {
   "cell_type": "markdown",
   "metadata": {},
   "source": [
    "多項式カーネルの精度は、sklearnのモデルと同じであった。"
   ]
  },
  {
   "cell_type": "markdown",
   "metadata": {},
   "source": [
    "## 【問題4】 決定領域の可視化"
   ]
  },
  {
   "cell_type": "markdown",
   "metadata": {},
   "source": [
    "値分類のデータセットに対して決定領域を可視化してください。\n",
    "\n",
    "これまで使用してきた関数に、サポートベクターを色を変えて表示する機能を加えてください。\n",
    "\n",
    "特にSprint0で作成したシンプルデータセット1に対して以下のように分類ができるかを検証してください。\n",
    "\n",
    "![](decisionregion.png)"
   ]
  },
  {
   "cell_type": "code",
   "execution_count": 22,
   "metadata": {},
   "outputs": [],
   "source": [
    "def decision_region(X_train, y_train, model, sv_X=None, sv_y=None, \n",
    "                                    step=0.01, title='decision region', \n",
    "                                    xlabel='f0', ylabel='f1', \n",
    "                                    target_names=['versicolor', 'virginica']):\n",
    "    \"\"\"\n",
    "    2値分類を2次元の特徴量で学習したモデルの決定領域を描く。\n",
    "    背景の色が学習したモデルによる推定値から描画される。\n",
    "    散布図の点は学習用データである。\n",
    "\n",
    "    Parameters\n",
    "    ----------------\n",
    "    X_train : ndarray, shape(n_samples, 2)\n",
    "        学習用データの特徴量\n",
    "    y_train : ndarray, shape(n_samples, 2)\n",
    "        学習用データの正解値\n",
    "    model : object\n",
    "        学習したモデルのインスンタスを入れる\n",
    "    step : float, (default : 0.1)\n",
    "        推定値を計算する間隔を設定する\n",
    "    title : str\n",
    "        グラフのタイトルの文章を与える\n",
    "    xlabel, ylabel : str\n",
    "        軸ラベルの文章を与える\n",
    "    target_names= : list of str\n",
    "        凡例の一覧を与える\n",
    "    \"\"\"\n",
    "    # setting\n",
    "    scatter_color = ['red', 'blue']\n",
    "    contourf_color = ['pink', 'skyblue']\n",
    "    n_class = 2\n",
    "\n",
    "    # pred\n",
    "    mesh_f0, mesh_f1  = np.meshgrid(np.arange(np.min(X_train[:,0])-0.5, np.max(X_train[:,0])+0.5, step),\n",
    "                                                                    np.arange(np.min(X_train[:,1])-0.5, np.max(X_train[:,1])+0.5, step))\n",
    "    mesh = np.c_[np.ravel(mesh_f0),np.ravel(mesh_f1)]\n",
    "    pred = model.predict(mesh).reshape(mesh_f0.shape)\n",
    "\n",
    "    # plot\n",
    "    plt.title(title)\n",
    "    plt.xlabel(xlabel)\n",
    "    plt.ylabel(ylabel)\n",
    "    plt.contourf(mesh_f0, mesh_f1, pred, n_class-1, cmap=ListedColormap(contourf_color))\n",
    "    plt.contour(mesh_f0, mesh_f1, pred, n_class-1, colors='y', linewidths=3, alpha=0.5)\n",
    "    for i, target in enumerate(set(y_train)):\n",
    "        plt.scatter(X_train[y_train==target][:, 0], X_train[y_train==target][:, 1], s=80, color=scatter_color[i], label=target_names[i], marker='o')\n",
    "    if sv_X is not None and sv_y is not None:\n",
    "        for i, target in enumerate(set(sv_y)):\n",
    "            plt.scatter(sv_X[sv_y==target][:, 0], sv_X[sv_y==target][:, 1], s=80, color='yellow' , marker='o')\n",
    "    patches = [mpatches.Patch(color=scatter_color[i], label=target_names[i]) for i in range(n_class)]\n",
    "    plt.legend(handles=patches)\n",
    "    plt.legend()\n",
    "    plt.show()"
   ]
  },
  {
   "cell_type": "markdown",
   "metadata": {},
   "source": [
    "**シンプルデータセット1で線形カーネルの検証**   \n",
    "スクラッチしたクラス"
   ]
  },
  {
   "cell_type": "code",
   "execution_count": 23,
   "metadata": {},
   "outputs": [
    {
     "data": {
      "image/png": "[encoded data removed]",
      "text/plain": [
       "<Figure size 432x288 with 1 Axes>"
      ]
     },
     "metadata": {
      "needs_background": "light"
     },
     "output_type": "display_data"
    },
    {
     "data": {
      "image/png": "[encoded data removed]",
      "text/plain": [
       "<Figure size 432x288 with 1 Axes>"
      ]
     },
     "metadata": {
      "needs_background": "light"
     },
     "output_type": "display_data"
    }
   ],
   "source": [
    "#可視化\n",
    "#学習用データ\n",
    "decision_region(X_train, y_train, s_svm, s_svm.sv_X, s_svm.sv_y,\n",
    "                            title='ScratchSVM(train data, linear)')\n",
    "\n",
    "#検証用データ\n",
    "decision_region(X_test, y_test, s_svm, \n",
    "                s_svm.sv_X, s_svm.sv_y, title='ScratchSVM(test data, linear)')"
   ]
  },
  {
   "cell_type": "markdown",
   "metadata": {},
   "source": [
    "scikit learn"
   ]
  },
  {
   "cell_type": "code",
   "execution_count": 24,
   "metadata": {},
   "outputs": [
    {
     "data": {
      "image/png": "[encoded data removed]",
      "text/plain": [
       "<Figure size 432x288 with 1 Axes>"
      ]
     },
     "metadata": {
      "needs_background": "light"
     },
     "output_type": "display_data"
    },
    {
     "data": {
      "image/png": "[encoded data removed]",
      "text/plain": [
       "<Figure size 432x288 with 1 Axes>"
      ]
     },
     "metadata": {
      "needs_background": "light"
     },
     "output_type": "display_data"
    }
   ],
   "source": [
    "#可視化\n",
    "#学習用データ\n",
    "decision_region(X_train, y_train, svm, \n",
    "                            title='SVM(train data, linear)', xlabel='x', ylabel='y')\n",
    "\n",
    "#検証用データ\n",
    "decision_region(X_test, y_test, svm, title='SVM(test data, linear)')"
   ]
  },
  {
   "cell_type": "markdown",
   "metadata": {},
   "source": [
    "シンプルデータセット1の分布を可視化すると、いくつかサポートベクターが選ばれており、目視だと最も近いサポートベクター同士のマージンが最大であったので、しっかり学習できていると言える。決定境界もほぼ同様のものとなっていた。"
   ]
  },
  {
   "cell_type": "markdown",
   "metadata": {},
   "source": [
    "**irisデータで多項式カーネルの検証**  \n",
    "スクラッチしたクラス"
   ]
  },
  {
   "cell_type": "code",
   "execution_count": 25,
   "metadata": {},
   "outputs": [
    {
     "data": {
      "image/png": "[encoded data removed]",
      "text/plain": [
       "<Figure size 432x288 with 1 Axes>"
      ]
     },
     "metadata": {
      "needs_background": "light"
     },
     "output_type": "display_data"
    },
    {
     "data": {
      "image/png": "[encoded data removed]",
      "text/plain": [
       "<Figure size 432x288 with 1 Axes>"
      ]
     },
     "metadata": {
      "needs_background": "light"
     },
     "output_type": "display_data"
    }
   ],
   "source": [
    "#可視化\n",
    "#学習用データ\n",
    "decision_region(X_train_iris_std, y_train_iris, s_svm_poly, \n",
    "                        s_svm_poly.sv_X, s_svm_poly.sv_y, title='ScratchSVM(train data, poly)')\n",
    "\n",
    "#検証用データ\n",
    "decision_region(X_test_iris_std, y_test_iris, s_svm_poly,  \n",
    "                            s_svm_poly.sv_X, s_svm_poly.sv_y, title='ScratchSVM(test data, poly)')"
   ]
  },
  {
   "cell_type": "markdown",
   "metadata": {},
   "source": [
    "scikit learn"
   ]
  },
  {
   "cell_type": "code",
   "execution_count": 26,
   "metadata": {},
   "outputs": [
    {
     "data": {
      "image/png": "[encoded data removed]",
      "text/plain": [
       "<Figure size 432x288 with 1 Axes>"
      ]
     },
     "metadata": {
      "needs_background": "light"
     },
     "output_type": "display_data"
    },
    {
     "data": {
      "image/png": "[encoded data removed]",
      "text/plain": [
       "<Figure size 432x288 with 1 Axes>"
      ]
     },
     "metadata": {
      "needs_background": "light"
     },
     "output_type": "display_data"
    }
   ],
   "source": [
    "#可視化\n",
    "#学習用データ\n",
    "decision_region(X_train_iris_std, y_train_iris, svm_poly, \n",
    "                            title='SVM(train data)', xlabel='x', ylabel='y')\n",
    "\n",
    "#検証用データ\n",
    "decision_region(X_test_iris_std, y_test_iris, svm_poly, title='SVM(test data)')"
   ]
  },
  {
   "cell_type": "markdown",
   "metadata": {},
   "source": [
    "多項式カーネルでは、sklearnの決定境界とは若干異なっていたが、分類自体はそれなりにできていた。スクラッチしたクラスでは、イテレーション回数を増やすと上手く分類できなかったことがあり、カーネル係数であるgammaとdegreeを変えると分類できるようになった。そのため、グリッドサーチなどでパラメータを上手く調節することが大事だと感じた。"
   ]
  },
  {
   "cell_type": "markdown",
   "metadata": {},
   "source": [
    "## 【問題5】 時間の計測"
   ]
  },
  {
   "cell_type": "markdown",
   "metadata": {},
   "source": [
    "SVMの学習には時間がかかるため、効率的な実装が望まれます。事前学習期間に行なったように、時間を計測して改善していきましょう。特に$ \\lambda $\n",
    "の更新部分は繰り返し処理が多いため、効率的なコードを目指してください。"
   ]
  },
  {
   "cell_type": "markdown",
   "metadata": {},
   "source": [
    "イテレーション50回で学習"
   ]
  },
  {
   "cell_type": "code",
   "execution_count": 31,
   "metadata": {},
   "outputs": [
    {
     "name": "stdout",
     "output_type": "stream",
     "text": [
      "time : 44.8110568523407s\n"
     ]
    }
   ],
   "source": [
    "import time\n",
    "t0 = time.time()\n",
    "\n",
    "#学習\n",
    "s_svm = ScratchSVMClassifier()\n",
    "s_svm.fit(X_train, y_train)\n",
    "\n",
    "t1 = time.time()\n",
    "print('time : {}s'.format(t1-t0))"
   ]
  },
  {
   "cell_type": "markdown",
   "metadata": {},
   "source": [
    "イテレーション回数50回のとき、学習に要する時間は約50秒であった。ラグランジュ関数を使用している部分で、rangeの中をlen(y)としていたので、その部分を一時変数を取得して行うと約45秒となり、若干だが時間が短縮した。\n",
    "\n",
    "[Pythonを速くしたいときにやったこと](https://qiita.com/shaka/items/f180ae4dc945dc7b9066)"
   ]
  },
  {
   "cell_type": "markdown",
   "metadata": {},
   "source": [
    "## 【問題6】 ロジスティック回帰とSVM"
   ]
  },
  {
   "cell_type": "markdown",
   "metadata": {},
   "source": [
    "最終発表時に以下の内容についてディスカッションを行います。自分なりの意見を用意しておいてください。\n",
    "\n",
    "- ロジスティック回帰とSVMは本質的に何が異なっているか\n",
    "\n",
    "注意点\n",
    "答えがある問いではありません。いろいろな視点から見て理解を深めていきましょう。"
   ]
  },
  {
   "cell_type": "markdown",
   "metadata": {},
   "source": [
    "- ロジスティック回帰  \n",
    "仮説にシグモイド関数使用する。予測に確率を使用し、しきい値より大きいなら1、小さいなら0とすることで分類。\n",
    "\n",
    "- SVM  \n",
    "マージンが最大となるような決定境界、つまり重みが最小となるような決定境界を引くことを目指す。クラスラベルyが-1, 1とすると、決定境界が0より大きければy=1、決定境界が0より小さければy=-1となるような勾配、切片を求める。"
   ]
  }
 ],
 "metadata": {
  "kernelspec": {
   "display_name": "Python 3",
   "language": "python",
   "name": "python3"
  },
  "language_info": {
   "codemirror_mode": {
    "name": "ipython",
    "version": 3
   },
   "file_extension": ".py",
   "mimetype": "text/x-python",
   "name": "python",
   "nbconvert_exporter": "python",
   "pygments_lexer": "ipython3",
   "version": "3.7.2"
  },
  "varInspector": {
   "cols": {
    "lenName": 16,
    "lenType": 16,
    "lenVar": 40
   },
   "kernels_config": {
    "python": {
     "delete_cmd_postfix": "",
     "delete_cmd_prefix": "del ",
     "library": "var_list.py",
     "varRefreshCmd": "print(var_dic_list())"
    },
    "r": {
     "delete_cmd_postfix": ") ",
     "delete_cmd_prefix": "rm(",
     "library": "var_list.r",
     "varRefreshCmd": "cat(var_dic_list()) "
    }
   },
   "types_to_exclude": [
    "module",
    "function",
    "builtin_function_or_method",
    "instance",
    "_Feature"
   ],
   "window_display": false
  }
 },
 "nbformat": 4,
 "nbformat_minor": 2
}
