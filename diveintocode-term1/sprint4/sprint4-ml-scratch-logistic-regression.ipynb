{
 "cells": [
  {
   "cell_type": "markdown",
   "metadata": {},
   "source": [
    "# Sprint4 機械学習スクラッチロジスティック回帰   \n",
    "\n",
    "この課題の目的\n",
    "- スクラッチを通してロジスティック回帰を理解する\n",
    "- 分類問題についての基礎を学ぶ"
   ]
  },
  {
   "cell_type": "code",
   "execution_count": 1,
   "metadata": {},
   "outputs": [],
   "source": [
    "import numpy as np\n",
    "import pandas as pd\n",
    "import matplotlib.pyplot as plt\n",
    "from matplotlib.colors import ListedColormap\n",
    "import matplotlib.patches as mpatches\n",
    "% matplotlib inline\n",
    "from sklearn import datasets\n",
    "from sklearn.model_selection import train_test_split\n",
    "from sklearn.preprocessing import StandardScaler\n",
    "from sklearn.linear_model import LogisticRegression\n",
    "from sklearn.metrics import accuracy_score, precision_score, recall_score, f1_score\n",
    "import pickle"
   ]
  },
  {
   "cell_type": "markdown",
   "metadata": {},
   "source": [
    "## 【問題1】 ロジスティック回帰のクラスを作成する"
   ]
  },
  {
   "cell_type": "markdown",
   "metadata": {},
   "source": [
    "ロジスティック回帰のクラスを作成し、Sprint2で作成した分類のパイプラインに組み込んでください。\n",
    "\n",
    "クラスの基本構造はSprint3の線形回帰を参考にし、名前は<font color=\"Red\">ScratchLogisticRegression</font>としてください。\n",
    "\n",
    "メソッドやパラメータなどはscikit-learnを参考にしてください。推定関係ではラベルを出力するpredictメソッドと、確率を出力するpredict_probaメソッドの2種類を作成します。\n",
    "\n",
    "[sklearn.linear_model.LinearRegression — scikit-learn 0.20.0 documentation](https://scikit-learn.org/stable/modules/generated/sklearn.linear_model.LinearRegression.html)\n",
    "\n",
    "検証段階ではJupyter Notebook上で書いていき、最終的にはpyファイルにモジュールとしてまとめてください。"
   ]
  },
  {
   "cell_type": "markdown",
   "metadata": {},
   "source": [
    "### シグモイド関数"
   ]
  },
  {
   "cell_type": "markdown",
   "metadata": {},
   "source": [
    "シグモイド関数を実装しましょう。\n",
    "\n",
    "$$ g(z) = \\frac{1}{1+e^{-z}} $$\n",
    "\n",
    "正しく動作しているかを確認するために、この関数に-10から10の値を入力したときの出力をプロットしておいてください。"
   ]
  },
  {
   "cell_type": "code",
   "execution_count": 2,
   "metadata": {},
   "outputs": [],
   "source": [
    "def sigmoid(z):\n",
    "    '''\n",
    "    シグモイド関数の関数\n",
    "    \n",
    "    Parameter\n",
    "    --------------\n",
    "    z : 次の形のndarray, shape (n_sanples, 1)\n",
    "        ある範囲の配列\n",
    "        \n",
    "    Returns\n",
    "    -----------\n",
    "    シグモイド関数\n",
    "    '''\n",
    "    return 1 / (1 + np.exp(-z))"
   ]
  },
  {
   "cell_type": "markdown",
   "metadata": {},
   "source": [
    "- シグモイド関数に10~10の値を入力"
   ]
  },
  {
   "cell_type": "code",
   "execution_count": 3,
   "metadata": {},
   "outputs": [
    {
     "data": {
      "image/png": "[encoded data removed]",
      "text/plain": [
       "<Figure size 432x288 with 1 Axes>"
      ]
     },
     "metadata": {
      "needs_background": "light"
     },
     "output_type": "display_data"
    }
   ],
   "source": [
    "#-10~10のnumpy配列を作成\n",
    "z = np.arange(-10, 10)[:, np.newaxis]\n",
    "\n",
    "#シグモイド関数にzを入力\n",
    "phi_z = sigmoid(z)\n",
    "\n",
    "#シグモイド曲線を出力\n",
    "plt.plot(z, phi_z)\n",
    "plt.axvline(0)\n",
    "plt.ylim(-0.1, 1.1)\n",
    "plt.title('sigmoid curve')\n",
    "plt.xlabel('z')\n",
    "plt.ylabel('$φ (z)')\n",
    "plt.yticks([0, 0.5, 1])\n",
    "plt.gca().yaxis.grid(True)\n",
    "plt.show()"
   ]
  },
  {
   "cell_type": "markdown",
   "metadata": {},
   "source": [
    "縦軸が0~1の範囲内で、シグモイド曲線が作成された。   "
   ]
  },
  {
   "cell_type": "markdown",
   "metadata": {},
   "source": [
    "### 目的関数"
   ]
  },
  {
   "cell_type": "markdown",
   "metadata": {},
   "source": [
    "正しく動作しているかを確認するために、この関数に-10から10の値を入力したときの出力をプロットしておいてください。   \n",
    "$$ h_\\theta(x) = g(\\theta^T x) $$   \n",
    "$$ g(z) = \\frac{1}{1+e^{-z}} $$   \n",
    "$$ J(\\theta)=  \\frac{1}{m}  \\sum_{i=1}^{m}[-y^{(i)} log(h_\\theta(x^{(i)})) - (1-y^{(i)}) log(1-h_\\theta(x^{(i)}))] +\n",
    "\\frac{\\lambda}{2m}\\sum_{j=1}^n \\theta^2_j $$   \n",
    "$ m $ : 入力されるデータの数   \n",
    "$ h_\\theta() $ : 仮定関数   \n",
    "$ x $ : 特徴量ベクトル   \n",
    "$ \\theta $ : パラメータベクトル   \n",
    "$ g() $ : シグモイド関数   \n",
    "$ x^{(i)} $ :i 番目のサンプルの特徴量ベクトル   \n",
    "$ y^{(i)} $ :i 番目のサンプルの正解ラベル   \n",
    "$ \\theta_j $ :j 番目のパラメータ(重み)   \n",
    "$ n $ : 特徴量の数   \n",
    "$ \\lambda $ : 正則化パラメータ"
   ]
  },
  {
   "cell_type": "markdown",
   "metadata": {},
   "source": [
    "とりあえず適当に値を決める。"
   ]
  },
  {
   "cell_type": "code",
   "execution_count": 4,
   "metadata": {},
   "outputs": [],
   "source": [
    "#適当に配列等を定義\n",
    "#x\n",
    "x = np.array([[1, 5, 3],\n",
    "                    [1, 3, 2],\n",
    "                    [1, 5, 6], \n",
    "                    [1, 2, 2]])\n",
    "\n",
    "#theta\n",
    "np.random.seed(0)\n",
    "theta = np.random.randn(x.shape[1])[np.newaxis, :]\n",
    "\n",
    "#y\n",
    "y = np.array([[1],\n",
    "                     [1],\n",
    "                     [2],\n",
    "                     [2]])\n",
    "\n",
    "#学習率\n",
    "eta = 0.1\n",
    "\n",
    "#正則化パラメータ\n",
    "lam = 0.1"
   ]
  },
  {
   "cell_type": "code",
   "execution_count": 5,
   "metadata": {},
   "outputs": [
    {
     "data": {
      "text/plain": [
       "array([[0.99877189],\n",
       "       [0.99276813],\n",
       "       [0.99993475],\n",
       "       [0.98924789]])"
      ]
     },
     "execution_count": 5,
     "metadata": {},
     "output_type": "execute_result"
    }
   ],
   "source": [
    "#仮定関数\n",
    "y_hat = sigmoid(np.dot(x, theta.T))\n",
    "y_hat"
   ]
  },
  {
   "cell_type": "markdown",
   "metadata": {},
   "source": [
    "式を分解して、ひとつずつ計算する。   \n",
    "$ -y^{(i)}log(h^{}_{0}(x^{(i)})) $"
   ]
  },
  {
   "cell_type": "code",
   "execution_count": 6,
   "metadata": {},
   "outputs": [
    {
     "data": {
      "text/plain": [
       "array([[0.00122886],\n",
       "       [0.00725814],\n",
       "       [0.0001305 ],\n",
       "       [0.02162067]])"
      ]
     },
     "execution_count": 6,
     "metadata": {},
     "output_type": "execute_result"
    }
   ],
   "source": [
    "-y * np.log(y_hat)"
   ]
  },
  {
   "cell_type": "markdown",
   "metadata": {},
   "source": [
    "$ (1 - y^{(i)})log(1- h^{}_{0}(x^{(i)})) $"
   ]
  },
  {
   "cell_type": "code",
   "execution_count": 7,
   "metadata": {},
   "outputs": [
    {
     "data": {
      "text/plain": [
       "array([[-0.        ],\n",
       "       [-0.        ],\n",
       "       [ 9.63733154],\n",
       "       [ 4.53265306]])"
      ]
     },
     "execution_count": 7,
     "metadata": {},
     "output_type": "execute_result"
    }
   ],
   "source": [
    "(1 - y) * np.log(1 - y_hat)"
   ]
  },
  {
   "cell_type": "markdown",
   "metadata": {},
   "source": [
    "$ \\frac{1}{m} \\sum_{i=1}^{m}[-y^{(i)}log(h^{}_{0}(x^{(i)})) - (1 - y^{(i)})log(1- h^{}_{0}(x^{(i)}))] $"
   ]
  },
  {
   "cell_type": "code",
   "execution_count": 8,
   "metadata": {},
   "outputs": [
    {
     "name": "stdout",
     "output_type": "stream",
     "text": [
      "インデックスごとに計算した値 [array([0.00122886]), array([0.00725814]), array([-9.63720104]), array([-4.5110324])]\n",
      "インデックスの合計 [-14.13974644]\n",
      "インデックス数で割った値 [-3.53493661]\n"
     ]
    }
   ],
   "source": [
    "#空のリスト\n",
    "j_list = []\n",
    "\n",
    "#i番目のインデックスを計算し、リストに格納\n",
    "for i in range(x.shape[0]):\n",
    "    j_list.append((-y[i] * np.log(y_hat[i])) - ((1 - y[i]) * np.log(1 - y_hat[i])))\n",
    "\n",
    "#出力\n",
    "print('インデックスごとに計算した値', j_list)\n",
    "\n",
    "#リストの合計を出力\n",
    "j_list_sum = (sum(j_list))\n",
    "print('インデックスの合計', j_list_sum)\n",
    "\n",
    "#リストの合計をデータ数(インデックス数)で割る\n",
    "print('インデックス数で割った値', j_list_sum / x.shape[0])"
   ]
  },
  {
   "cell_type": "code",
   "execution_count": 9,
   "metadata": {},
   "outputs": [
    {
     "data": {
      "text/plain": [
       "-3.5349366087838185"
      ]
     },
     "execution_count": 9,
     "metadata": {},
     "output_type": "execute_result"
    }
   ],
   "source": [
    "#まとめて計算\n",
    "np.sum((-y * np.log(y_hat)) - ((1 - y) * np.log(1 - y_hat))) / x.shape[0]"
   ]
  },
  {
   "cell_type": "markdown",
   "metadata": {},
   "source": [
    "$ \\frac{\\lambda}{2m} \\sum_{j=1}^{n} \\theta^{2}_{j} $ : 正則化項(過学習を防ぐ)"
   ]
  },
  {
   "cell_type": "code",
   "execution_count": 10,
   "metadata": {},
   "outputs": [
    {
     "name": "stdout",
     "output_type": "stream",
     "text": [
      "パラメータのリスト [array([3.11188068]), array([0.16012579]), array([0.95792804])]\n",
      "パラメータのリストの合計 [4.22993451]\n",
      "正則化項 [0.8459869]\n"
     ]
    }
   ],
   "source": [
    "#空のリスト\n",
    "theta_list = []\n",
    "\n",
    "#j番目の特徴量を計算し、リストに格納\n",
    "for j in range(x.shape[1]):\n",
    "    theta_list.append(theta[:, j]**2)\n",
    "\n",
    "#出力\n",
    "print('パラメータのリスト', theta_list)\n",
    "\n",
    "#リストの合計を出力\n",
    "theta_list_sum = sum(theta_list)\n",
    "print('パラメータのリストの合計', theta_list_sum)\n",
    "\n",
    "#リストの合計をデータ数(インデックス数)で割る\n",
    "print('正則化項', (lam / 2 * x.shape[0]) * theta_list_sum)"
   ]
  },
  {
   "cell_type": "code",
   "execution_count": 11,
   "metadata": {},
   "outputs": [
    {
     "data": {
      "text/plain": [
       "0.845986902450727"
      ]
     },
     "execution_count": 11,
     "metadata": {},
     "output_type": "execute_result"
    }
   ],
   "source": [
    "#まとめて計算\n",
    "(lam / 2 * x.shape[0]) * np.sum(theta**2)"
   ]
  },
  {
   "cell_type": "markdown",
   "metadata": {},
   "source": [
    "$ \\frac{1}{m} \\sum_{i=1}^{m}[-y^{(i)}log(h^{}_{0}(x^{(i)})) - (1 - y^{(i)})log(1- h^{}_{0}(x^{(i)}))] + \\frac{\\lambda}{2m} \\sum_{j=1}^{n} \\theta^{2}_{j} $"
   ]
  },
  {
   "cell_type": "code",
   "execution_count": 12,
   "metadata": {},
   "outputs": [],
   "source": [
    "def target_function(X, y, y_hat, theta, lam):\n",
    "    '''\n",
    "    目的関数を計算する関数\n",
    "\n",
    "    Parameter\n",
    "     --------------\n",
    "    X : 次の形のndarray, shape (n_samples, n_features)\n",
    "        学習用データの特徴量\n",
    "    y : 次の形のndarray, shape (n_samples, 1)\n",
    "        学習用データの正解値\n",
    "    y_hat : 次の形のndarray, shape (n_samples, 1)\n",
    "        仮定関数\n",
    "    theta : 次の形のndarray, shape (n_features, 1)\n",
    "        パラメータ \n",
    "    lam : float\n",
    "        正則化パラメータ \n",
    "\n",
    "    Returns\n",
    "    -----------\n",
    "    j : float\n",
    "        目的関数\n",
    "    '''    \n",
    "    j = (np.sum((-y * np.log(y_hat)) - ((1 - y) * np.log(1 - y_hat))) / x.shape[0]) + \n",
    "                                                                    ((lam / 2 * x.shape[0]) * np.sum(theta**2))\n",
    "    return j"
   ]
  },
  {
   "cell_type": "code",
   "execution_count": 13,
   "metadata": {},
   "outputs": [
    {
     "data": {
      "text/plain": [
       "-2.6889497063330916"
      ]
     },
     "execution_count": 13,
     "metadata": {},
     "output_type": "execute_result"
    }
   ],
   "source": [
    "target_function(x, y, y_hat, theta, lam)"
   ]
  },
  {
   "cell_type": "markdown",
   "metadata": {},
   "source": [
    "クラス用に書き換え"
   ]
  },
  {
   "cell_type": "code",
   "execution_count": 14,
   "metadata": {},
   "outputs": [],
   "source": [
    "def _target_function(self, X, y, y_hat):\n",
    "    '''\n",
    "    目的関数を計算する関数\n",
    "\n",
    "    Parameter\n",
    "     --------------\n",
    "    X : 次の形のndarray, shape (n_samples, n_features)\n",
    "        学習用データの特徴量\n",
    "    y : 次の形のndarray, shape (n_samples, 1)\n",
    "        学習用データの正解値\n",
    "    y_hat : 次の形のndarray, shape (n_samples, 1)\n",
    "        仮定関数\n",
    "            \n",
    "    Returns\n",
    "    -----------\n",
    "    j : float\n",
    "        目的関数\n",
    "    '''\n",
    "    j = (np.sum((-y * np.log(y_hat)) - ((1 - y) * np.log(1 - y_hat))) / X.shape[0]) + \n",
    "                                                ((self.lam / 2 * X.shape[0]) * np.sum(self.theta**2))\n",
    "    return j"
   ]
  },
  {
   "cell_type": "markdown",
   "metadata": {},
   "source": [
    "### 最急降下法"
   ]
  },
  {
   "cell_type": "markdown",
   "metadata": {},
   "source": [
    "最急降下法により学習させてください。バイアス項およびj番目のパラメータの更新には以下の式を使います。   \n",
    "$$ \\frac{\\partial J(\\theta)}{\\partial \\theta_0} = \\frac{1}{m}  \\sum_{i=1}^{m}(h_\\theta(x^{(i)}) - y^{(i)})x_j^{(i)}  ,j = 0 $$   \n",
    "$$ \\frac{\\partial J(\\theta)}{\\partial \\theta_j} = \\biggl(\\frac{1}{m}  \\sum_{i=1}^{m}(h_\\theta(x^{(i)}) - y^{(i)})x_j^{(i)} \\biggr) + \\frac{\\lambda}{m}\\theta_j　 ,j\\geq 1 $$   \n",
    "$ i $ : サンプルのインデックス   \n",
    "$ j $ : 特徴量のインデックス"
   ]
  },
  {
   "cell_type": "code",
   "execution_count": 15,
   "metadata": {},
   "outputs": [
    {
     "data": {
      "text/plain": [
       "array([[-0.00122811],\n",
       "       [-0.00723187],\n",
       "       [-1.00006525],\n",
       "       [-1.01075211]])"
      ]
     },
     "execution_count": 15,
     "metadata": {},
     "output_type": "execute_result"
    }
   ],
   "source": [
    "#error\n",
    "error = (y_hat - y)\n",
    "error"
   ]
  },
  {
   "cell_type": "markdown",
   "metadata": {},
   "source": [
    "$ \\frac{\\partial J(\\theta)}{\\partial \\theta_0} = \\frac{1}{m}  \\sum_{i=1}^{m}(h_\\theta(x^{(i)}) - y^{(i)})x_j^{(i)}  ,j = 0 $ について計算"
   ]
  },
  {
   "cell_type": "code",
   "execution_count": 16,
   "metadata": {},
   "outputs": [
    {
     "name": "stdout",
     "output_type": "stream",
     "text": [
      "リスト [array([-0.00122811]), array([-0.00723187]), array([-1.00006525]), array([-1.01075211])]\n",
      "合計 [-2.01927733]\n",
      "全体 [-0.50481933]\n"
     ]
    }
   ],
   "source": [
    "#j = 0のとき\n",
    "#空のリスト\n",
    "theta0 = []\n",
    "\n",
    "#インデックスの回数シグマの中を計算\n",
    "for i in range(x.shape[0]):\n",
    "    theta0.append(error[i] * x[i, 0])\n",
    "\n",
    "print('リスト', theta0)\n",
    "\n",
    "print('合計', sum(theta0))\n",
    "\n",
    "print('全体', sum(theta0) / x.shape[0])"
   ]
  },
  {
   "cell_type": "code",
   "execution_count": 17,
   "metadata": {},
   "outputs": [
    {
     "data": {
      "text/plain": [
       "array([-0.50481933])"
      ]
     },
     "execution_count": 17,
     "metadata": {},
     "output_type": "execute_result"
    }
   ],
   "source": [
    "#まとめて計算\n",
    "np.dot(error.T, x[:, 0]) / x.shape[0]"
   ]
  },
  {
   "cell_type": "markdown",
   "metadata": {},
   "source": [
    "$ \\frac{\\partial J(\\theta)}{\\partial \\theta_j} = \\biggl(\\frac{1}{m}  \\sum_{i=1}^{m}(h_\\theta(x^{(i)}) - y^{(i)})x_j^{(i)} \\biggr) + \\frac{\\lambda}{m}\\theta_j　 ,j\\geq 1 $ について計算"
   ]
  },
  {
   "cell_type": "code",
   "execution_count": 18,
   "metadata": {},
   "outputs": [
    {
     "name": "stdout",
     "output_type": "stream",
     "text": [
      "リスト [array([-0.00614054, -0.00368432]), array([-0.0216956 , -0.01446373]), array([-5.00032623, -6.00039148]), array([-2.02150422, -2.02150422])]\n",
      "合計 [-7.04966659 -8.04004376]\n",
      "括弧の中 [-1.76241665 -2.01001094]\n",
      "全体 [[-1.75241272 -1.98554249]]\n"
     ]
    }
   ],
   "source": [
    "#j >= 1のとき\n",
    "#空のリスト\n",
    "theta1 = []\n",
    "\n",
    "#インデックスの回数シグマの中を計算\n",
    "for i in range(x.shape[0]):\n",
    "    theta1.append(error[i] * x[i, 1:])\n",
    "\n",
    "print('リスト', theta1)\n",
    "\n",
    "print('合計', sum(theta1))\n",
    "\n",
    "print('括弧の中', (sum(theta1) / x.shape[0]))\n",
    "\n",
    "print('全体', (sum(theta1) / x.shape[0]) + (lam / x.shape[0]) * theta[:, 1:])"
   ]
  },
  {
   "cell_type": "code",
   "execution_count": 19,
   "metadata": {},
   "outputs": [
    {
     "data": {
      "text/plain": [
       "array([[-1.75241272, -1.98554249]])"
      ]
     },
     "execution_count": 19,
     "metadata": {},
     "output_type": "execute_result"
    }
   ],
   "source": [
    "#まとめて計算\n",
    "(np.dot(error.T, x[:, 1:]) / x.shape[0]) + ((lam / x.shape[0]) * theta[:, 1:])"
   ]
  },
  {
   "cell_type": "markdown",
   "metadata": {},
   "source": [
    "更新式 $ \\theta_j := \\theta_j - \\frac{\\partial}{\\partial \\theta_j}J(\\theta) $ について計算"
   ]
  },
  {
   "cell_type": "code",
   "execution_count": 20,
   "metadata": {},
   "outputs": [
    {
     "name": "stdout",
     "output_type": "stream",
     "text": [
      "[1.81453428]\n"
     ]
    }
   ],
   "source": [
    "#j = 0のときの更新されたパラメータ\n",
    "eta = 0.1\n",
    "newtheta0 = theta[:, 0] - eta * (np.dot(error.T, x[:, 0]) / x.shape[0])\n",
    "print(newtheta0)"
   ]
  },
  {
   "cell_type": "code",
   "execution_count": 21,
   "metadata": {},
   "outputs": [
    {
     "name": "stdout",
     "output_type": "stream",
     "text": [
      "[[0.57539848 1.17729223]]\n"
     ]
    }
   ],
   "source": [
    "#j >= 1のときの更新されたパラメータ\n",
    "newtheta1 = theta[:, 1:] - eta * ((np.dot(error.T, x[:, 1:]) / x.shape[0]) + ((lam / x.shape[0]) * theta[:, 1:]))\n",
    "print(newtheta1)"
   ]
  },
  {
   "cell_type": "code",
   "execution_count": 22,
   "metadata": {},
   "outputs": [],
   "source": [
    "def _gradient_descent(X, error, eta, lam):\n",
    "    '''\n",
    "    最急降下法でパラメータを更新する関数\n",
    "\n",
    "    Parameter\n",
    "    --------------\n",
    "    X : 次の形のndarray, shape (n_samples, n_features)\n",
    "        学習用データ\n",
    "    error : 次の形のndarray, shape (n_samples, 1)\n",
    "        推定した値と正解値の差\n",
    "    eta : float\n",
    "        学習率(0 < eta <= 1の範囲)\n",
    "    lam : float\n",
    "        正則化パラメータ \n",
    "\n",
    "    Returns\n",
    "    -----------\n",
    "    self.coef_ : 次の形のndarray, shape (n_samples, 1)\n",
    "        更新されたパラメータ   \n",
    "    '''            \n",
    "    theta[:, 0] = theta[:, 0] - eta * (np.dot(error.T, x[:, 0]) / x.shape[0])\n",
    "    theta[:, 1:] = theta[:, 1:] - eta * ((np.dot(error.T, x[:, 1:]) / x.shape[0]) + ((lam / x.shape[0]) * theta[:, 1:]))\n",
    "\n",
    "    print(theta)"
   ]
  },
  {
   "cell_type": "code",
   "execution_count": 23,
   "metadata": {},
   "outputs": [
    {
     "name": "stdout",
     "output_type": "stream",
     "text": [
      "[[1.81453428 0.57539848 1.17729223]]\n"
     ]
    }
   ],
   "source": [
    "_gradient_descent(x, error, eta, lam)"
   ]
  },
  {
   "cell_type": "markdown",
   "metadata": {},
   "source": [
    "クラス用に書き換える"
   ]
  },
  {
   "cell_type": "code",
   "execution_count": 24,
   "metadata": {},
   "outputs": [],
   "source": [
    "def _gradient_descent(self, X, error):\n",
    "    '''\n",
    "    最急降下法でパラメータを更新する関数\n",
    "\n",
    "    Parameter\n",
    "    --------------\n",
    "    X : 次の形のndarray, shape (n_samples, n_features)\n",
    "        学習用データ\n",
    "    error : 次の形のndarray, shape (n_samples, 1)\n",
    "        推定した値と正解値の差\n",
    "\n",
    "    Returns\n",
    "    -----------\n",
    "    self.coef_ : 次の形のndarray, shape (n_samples, 1)\n",
    "        更新されたパラメータ   \n",
    "    '''        \n",
    "    #特徴量のインデックスが0の場合\n",
    "    self.coef_[:, 0] = self.coef_[:, 0] - self.eta * (np.dot(error.T, X[:, 0]) / X.shape[0])\n",
    "    #特徴量のインデックスが1以上の場合\n",
    "    self.coef_[:, 1:] = self.coef_[:, 1:] - self.eta * ((np.dot(error.T, X[:, 1:]) / X.shape[0]) +\n",
    "                                                                                    ((self.lam / X.shape[0]) * self.coef_[:, 1:]))\n",
    "        \n",
    "    return self.coef_"
   ]
  },
  {
   "cell_type": "markdown",
   "metadata": {},
   "source": [
    "### ロジスティック回帰のクラス作成"
   ]
  },
  {
   "cell_type": "markdown",
   "metadata": {},
   "source": [
    "- irisデータの読み込み   \n",
    "irisの種類はversicolorとvirginicaの2種類、特徴量はpetal lengthとpetal widthの2種類を選択する。"
   ]
  },
  {
   "cell_type": "code",
   "execution_count": 25,
   "metadata": {},
   "outputs": [
    {
     "data": {
      "text/html": [
       "<div>\n",
       "<style scoped>\n",
       "    .dataframe tbody tr th:only-of-type {\n",
       "        vertical-align: middle;\n",
       "    }\n",
       "\n",
       "    .dataframe tbody tr th {\n",
       "        vertical-align: top;\n",
       "    }\n",
       "\n",
       "    .dataframe thead th {\n",
       "        text-align: right;\n",
       "    }\n",
       "</style>\n",
       "<table border=\"1\" class=\"dataframe\">\n",
       "  <thead>\n",
       "    <tr style=\"text-align: right;\">\n",
       "      <th></th>\n",
       "      <th>petal length (cm)</th>\n",
       "      <th>petal width (cm)</th>\n",
       "      <th>Species</th>\n",
       "    </tr>\n",
       "  </thead>\n",
       "  <tbody>\n",
       "    <tr>\n",
       "      <th>50</th>\n",
       "      <td>4.7</td>\n",
       "      <td>1.4</td>\n",
       "      <td>1</td>\n",
       "    </tr>\n",
       "    <tr>\n",
       "      <th>51</th>\n",
       "      <td>4.5</td>\n",
       "      <td>1.5</td>\n",
       "      <td>1</td>\n",
       "    </tr>\n",
       "    <tr>\n",
       "      <th>52</th>\n",
       "      <td>4.9</td>\n",
       "      <td>1.5</td>\n",
       "      <td>1</td>\n",
       "    </tr>\n",
       "    <tr>\n",
       "      <th>53</th>\n",
       "      <td>4.0</td>\n",
       "      <td>1.3</td>\n",
       "      <td>1</td>\n",
       "    </tr>\n",
       "    <tr>\n",
       "      <th>54</th>\n",
       "      <td>4.6</td>\n",
       "      <td>1.5</td>\n",
       "      <td>1</td>\n",
       "    </tr>\n",
       "  </tbody>\n",
       "</table>\n",
       "</div>"
      ],
      "text/plain": [
       "    petal length (cm)  petal width (cm)  Species\n",
       "50                4.7               1.4        1\n",
       "51                4.5               1.5        1\n",
       "52                4.9               1.5        1\n",
       "53                4.0               1.3        1\n",
       "54                4.6               1.5        1"
      ]
     },
     "execution_count": 25,
     "metadata": {},
     "output_type": "execute_result"
    }
   ],
   "source": [
    "#irisデータセットの読み込み\n",
    "iris = datasets.load_iris()\n",
    "\n",
    "#説明変数をX_dfに、目的変数をy_dfに格納し、列目を付ける\n",
    "X_df = pd.DataFrame(iris.data, columns=iris.feature_names)\n",
    "y_df = pd.DataFrame(iris.target, columns=['Species'])\n",
    "\n",
    "#結合\n",
    "df = pd.concat([X_df, y_df], axis=1)\n",
    "\n",
    "#抜き出し\n",
    "df = df[(df['Species'] == 1) | (df['Species'] == 2)][['petal length (cm)', 'petal width (cm)', 'Species']]\n",
    "df.head()"
   ]
  },
  {
   "cell_type": "code",
   "execution_count": 26,
   "metadata": {},
   "outputs": [],
   "source": [
    "#説明変数をX、目的変数をyというndarrayに格納\n",
    "X = df.iloc[:, :-1].values\n",
    "y = df.iloc[:, -1].values\n",
    "\n",
    "#データを分割\n",
    "X_train, X_test, y_train, y_test = train_test_split(X, y, test_size=0.25)"
   ]
  },
  {
   "cell_type": "code",
   "execution_count": 27,
   "metadata": {},
   "outputs": [],
   "source": [
    "#学習用データをfit(平均と標準偏差を計算)し、transform(標準化)\n",
    "sc = StandardScaler()\n",
    "X_train_std = sc.fit_transform(X_train)\n",
    "\n",
    "#検証用データをtransform(標準化)\n",
    "X_test_std = sc.transform(X_test)"
   ]
  },
  {
   "cell_type": "code",
   "execution_count": 28,
   "metadata": {},
   "outputs": [],
   "source": [
    "import numpy as np\n",
    "\n",
    "class ScratchLogisticRegression():\n",
    "    '''\n",
    "    ロジスティック回帰のスクラッチ実装\n",
    "\n",
    "    Parameters\n",
    "    ----------\n",
    "    num_iter : int\n",
    "        イテレーション数\n",
    "    eta : float\n",
    "        学習率(0 < eta <= 1の範囲)\n",
    "    lam : float\n",
    "        正則化パラメータ\n",
    "    bias : bool\n",
    "        バイアス項を入れない場合はFalse\n",
    "    verbose : bool\n",
    "        学習過程を出力する場合はTrue\n",
    "\n",
    "    Attributes\n",
    "    ----------\n",
    "    self.coef_ : 次の形のndarray, shape (n_features,)\n",
    "        パラメータ\n",
    "    self.loss : 次の形のndarray, shape (self.iter,)\n",
    "        学習用データに対する損失の記録\n",
    "    self.val_loss : 次の形のndarray, shape (self.iter,)\n",
    "        検証用データに対する損失の記録\n",
    "    self.y : list\n",
    "        学習用データのラベルを入れるリスト\n",
    "    self.y_val : list\n",
    "        検証用データのラベルを入れるリスト\n",
    "    '''\n",
    "    def __init__(self, num_iter=200, eta=0.05, lam=1, bias=True, verbose=False):\n",
    "        # ハイパーパラメータを属性として記録\n",
    "        self.iter        = num_iter      #イテレーション数\n",
    "        self.eta        = eta                #学習率\n",
    "        self.lam        = lam               #正則化パラメータ\n",
    "        self.bias       = bias              #バイアス項(True : あり, False : なし)\n",
    "        self.verbose = verbose      #学習過程(True : 出力する, False : 出力しない)\n",
    "\n",
    "        # 損失を記録する配列を用意\n",
    "        self.loss       = np.zeros(self.iter)\n",
    "        self.val_loss = np.zeros(self.iter)\n",
    "        \n",
    "        #パラメータを用意\n",
    "        np.random.seed(1)\n",
    "        self.coef_ = 0\n",
    "        \n",
    "        #yのラベルを入れるリストを用意\n",
    "        self.y = []\n",
    "        self.y_val = []\n",
    "\n",
    "        \n",
    "    def fit(self, X, y, X_val=None, y_val=None):\n",
    "        '''\n",
    "        ロジスティック回帰を学習する。検証用データが入力された場合はそれに対する損失と精度もイテレーションごとに計算する。\n",
    "\n",
    "        Parameters\n",
    "        ----------\n",
    "        X : 次の形のndarray, shape (n_samples, n_features)\n",
    "            学習用データの特徴量\n",
    "        y : 次の形のndarray, shape (n_samples, )\n",
    "            学習用データの正解値\n",
    "        X_val : 次の形のndarray, shape (n_samples, n_features)\n",
    "            検証用データの特徴量\n",
    "        y_val : 次の形のndarray, shape (n_samples, )\n",
    "            検証用データの正解値     \n",
    "        '''\n",
    "        #1次元なら2次元にする\n",
    "        if X.ndim == 1:\n",
    "            X = X[:, np.newaxis]\n",
    "        if y.ndim == 1:\n",
    "            y = y[:, np.newaxis]\n",
    "            \n",
    "        #yのラベルのユニーク値をリストに保管\n",
    "        self.y = []\n",
    "        self.y.append(np.unique(y)[0])\n",
    "        self.y.append(np.unique(y)[1])\n",
    "\n",
    "        #yをコピーし、0, 1に変換\n",
    "        y_copy = y.copy()\n",
    "        y_copy[y_copy == np.unique(y_copy)[0]] = 0\n",
    "        y_copy[y_copy == np.unique(y_copy)[1]] = 1\n",
    "    \n",
    "        #検証用データあり\n",
    "        if X_val is not None and y_val is not None:\n",
    "            if X_val.ndim == 1:\n",
    "                X_val = X_val[:, np.newaxis]\n",
    "            if y_val.ndim == 1:\n",
    "                y_val = y_val[:, np.newaxis]\n",
    "                \n",
    "            #y_valのラベルのユニーク値をリストに保管\n",
    "            self.y_val = []\n",
    "            self.y_val.append(np.unique(y)[0])\n",
    "            self.y_val.append(np.unique(y)[1])\n",
    "\n",
    "            #y_valを変換0, 1に変換\n",
    "            y_val_copy = y_val.copy()\n",
    "            y_val_copy[y_val_copy == np.unique(y_val_copy)[0]] = 0\n",
    "            y_val_copy[y_val_copy == np.unique(y_val_copy)[1]] = 1    \n",
    "\n",
    "        #バイアス項あり\n",
    "        if self.bias == True:\n",
    "            #1列目に1の配列を挿入\n",
    "            X = np.insert(X, 0, np.ones(X.shape[0]), axis=1)\n",
    "            \n",
    "            #検証用データあり\n",
    "            if X_val is not None and y_val is not None:\n",
    "                #1列目に1の配列を挿入\n",
    "                X_val = np.insert(X_val, 0, np.ones(X_val.shape[0]), axis=1)\n",
    "\n",
    "        #パラメータをランダムに設定\n",
    "        self.coef_ = np.random.randn(X.shape[1])[np.newaxis, :]     \n",
    "        \n",
    "        '''\n",
    "        ここから学習\n",
    "        '''\n",
    "        for i in range(self.iter):\n",
    "            # 線形結合\n",
    "            linear_join = self._logistic_hypothesis(X)\n",
    "\n",
    "            #シグモイド関数で推定\n",
    "            y_hat = self._sigmoid(linear_join)\n",
    "   \n",
    "            #エラーの計算\n",
    "            error = y_hat - y_copy\n",
    "            \n",
    "            #損失の記録を格納\n",
    "            cost = np.sum((-y_copy * np.log(y_hat)) - ((1 - y_copy) * np.log(1 - y_hat))) / X.shape[0]\n",
    "            self.loss[i] += cost\n",
    "            \n",
    "            #パラメータの更新\n",
    "            self.coef_ = self._gradient_descent(X, error)\n",
    "\n",
    "            #検証用データあり\n",
    "            if X_val is not None and y_val is not None:\n",
    "                # 線形結合\n",
    "                val_linear_join = self._logistic_hypothesis(X_val)\n",
    "\n",
    "                #シグモイド関数で推定\n",
    "                y_val_hat = self._sigmoid(val_linear_join)\n",
    "\n",
    "                #損失の記録を格納\n",
    "                cost_val = np.sum((-y_val_copy * np.log(y_val_hat)) - \n",
    "                                                  ((1 - y_val_copy) * np.log(1 - y_val_hat))) / X_val.shape[0]\n",
    "                self.val_loss[i] += cost_val\n",
    "                \n",
    "            #学習過程を出力する場合\n",
    "            if self.verbose == True:\n",
    "                print('学習用データの学習過程' + str(i + 1) + '番目 : ' + str(self.loss[i]))\n",
    "\n",
    "                #検証用データあり\n",
    "                if X_val is not None or y_val is not None:\n",
    "                    print('検証用データの学習過程' + str(i + 1) + '番目 : ' + str(self.val_loss[i]))\n",
    "\n",
    "\n",
    "    def predict(self, X, threshold=0.5):\n",
    "        '''\n",
    "        ロジスティック回帰を使いラベルを推定する。\n",
    "\n",
    "        Parameters\n",
    "        ----------\n",
    "        X : 次の形のndarray, shape (n_samples, n_features)\n",
    "            検証用データの特徴量\n",
    "        threshold : float\n",
    "            しきい値\n",
    "\n",
    "        Returns\n",
    "        -------\n",
    "        y_pred : 次の形のndarray, shape (1, n_samples)\n",
    "            予測したラベル\n",
    "        '''\n",
    "        if self.bias == True:\n",
    "            #Xの1列目に1を挿入\n",
    "            X = np.insert(X, 0, np.ones(X.shape[0]), axis=1) \n",
    "        \n",
    "        #推定(元のラベルに戻す)\n",
    "        y_pred = np.where(self._sigmoid(np.dot(X, self.coef_.T)) >= threshold, self.y[1], self.y[0])\n",
    "            \n",
    "        return y_pred\n",
    "    \n",
    "\n",
    "    def predict_proba(self, X):\n",
    "        '''\n",
    "        ロジスティック回帰を使い各クラスに属する確率を推定する\n",
    "\n",
    "        Parameters\n",
    "        ----------\n",
    "        X : 次の形のndarray, shape (n_samples, n_features)\n",
    "            検証用データの特徴量\n",
    "\n",
    "        Returns\n",
    "        -------\n",
    "        y_pred_proba : 次の形のndarray, shape (n_samples, n_classes)\n",
    "             各クラスのサンプルの確率\n",
    "        '''\n",
    "        if self.bias == True:\n",
    "            #Xの1列目に1を挿入\n",
    "            X = np.insert(X, 0, np.ones(X.shape[0]), axis=1) \n",
    "\n",
    "        #推定\n",
    "        y_pred_proba = np.concatenate([1 - self._sigmoid(np.dot(X, self.coef_.T)), \n",
    "                                                                   self._sigmoid(np.dot(X, self.coef_.T))], 1)\n",
    "\n",
    "        return y_pred_proba\n",
    "                \n",
    "\n",
    "    def _logistic_hypothesis(self, X):\n",
    "        '''\n",
    "        線型結合を行う\n",
    "\n",
    "        Parameters\n",
    "        ----------\n",
    "        X : 次の形のndarray, shape (n_samples, n_features)\n",
    "          学習データ\n",
    "\n",
    "        Returns\n",
    "        -------\n",
    "        次の形のndarray, shape (n_samples, )\n",
    "            線形結合した結果\n",
    "        '''\n",
    "        return np.dot(X, self.coef_.T)\n",
    "    \n",
    "    \n",
    "    def _sigmoid(self, z):\n",
    "        '''\n",
    "        シグモイド関数を計算する関数\n",
    "\n",
    "        Parameter\n",
    "        --------------\n",
    "        z : 次の形のndarray, shape (n_sanples, 1)\n",
    "            ある範囲の配列\n",
    "        \n",
    "        Returns\n",
    "        -----------\n",
    "        シグモイド関数\n",
    "        '''\n",
    "        return 1 / (1 + np.exp(-z))\n",
    "    \n",
    "\n",
    "    def _target_function(self, X, y, y_hat):\n",
    "        '''\n",
    "        目的関数を計算する関数\n",
    "\n",
    "        Parameter\n",
    "        --------------\n",
    "        X : 次の形のndarray, shape (n_samples, n_features)\n",
    "            学習用データの特徴量\n",
    "        y : 次の形のndarray, shape (n_samples, 1)\n",
    "            学習用データの正解値\n",
    "        y_hat : 次の形のndarray, shape (n_samples, 1)\n",
    "            仮定関数\n",
    "            \n",
    "        Returns\n",
    "        -----------\n",
    "        j : float\n",
    "            目的関数\n",
    "        '''\n",
    "        j = (np.sum((-y * np.log(y_hat)) - ((1 - y) * np.log(1 - y_hat))) / X.shape[0]) + \n",
    "                                                        ((self.lam / 2 * X.shape[0]) * np.sum(self.coef_**2))\n",
    "        \n",
    "        return j\n",
    "\n",
    "\n",
    "    def _gradient_descent(self, X, error):\n",
    "        '''\n",
    "        最急降下法でパラメータを更新する関数\n",
    "\n",
    "        Parameter\n",
    "        --------------\n",
    "        X : 次の形のndarray, shape (n_samples, n_features)\n",
    "            学習用データ\n",
    "        error : 次の形のndarray, shape (n_samples, 1)\n",
    "            推定した値と正解値の差\n",
    "\n",
    "        Returns\n",
    "        -----------\n",
    "        self.coef_ : 次の形のndarray, shape (n_samples, 1)\n",
    "            更新されたパラメータ   \n",
    "        '''\n",
    "        #バイアス項がある場合\n",
    "        if self.bias == True:\n",
    "            #特徴量のインデックスが0の場合\n",
    "            self.coef_[:, 0] = self.coef_[:, 0] - self.eta * (np.dot(error.T, X[:, 0]) / X.shape[0])\n",
    "            #特徴量のインデックスが1以上の場合\n",
    "            self.coef_[:, 1:] = self.coef_[:, 1:] - self.eta * ((np.dot(error.T, X[:, 1:]) / X.shape[0]) + \n",
    "                                                                                            ((self.lam / X.shape[0]) * self.coef_[:, 1:]))\n",
    "        \n",
    "        #バイアス項がない場合\n",
    "        else:\n",
    "            self.coef_= self.coef_- self.eta * ((np.dot(error.T, X) / X.shape[0]) + ((self.lam / X.shape[0]) * self.coef_))\n",
    "        \n",
    "        return self.coef_"
   ]
  },
  {
   "cell_type": "code",
   "execution_count": 29,
   "metadata": {
    "scrolled": false
   },
   "outputs": [
    {
     "name": "stdout",
     "output_type": "stream",
     "text": [
      "学習用データの学習過程1番目 : 1.5044330124292549\n",
      "検証用データの学習過程1番目 : 1.708108203409704\n",
      "学習用データの学習過程2番目 : 1.4701207286612459\n",
      "検証用データの学習過程2番目 : 1.6669346138923797\n",
      "学習用データの学習過程3番目 : 1.4364745501021545\n",
      "検証用データの学習過程3番目 : 1.6265479436364498\n",
      "学習用データの学習過程4番目 : 1.4034888301091257\n",
      "検証用データの学習過程4番目 : 1.5869463116144598\n",
      "学習用データの学習過程5番目 : 1.3711579636088795\n",
      "検証用データの学習過程5番目 : 1.5481275686078073\n",
      "学習用データの学習過程6番目 : 1.3394764578655816\n",
      "検証用データの学習過程6番目 : 1.5100893959288595\n",
      "学習用データの学習過程7番目 : 1.3084389917971313\n",
      "検証用データの学習過程7番目 : 1.472829396313041\n",
      "学習用データの学習過程8番目 : 1.2780404628813427\n",
      "検証用データの学習過程8番目 : 1.4363451739916024\n",
      "学習用データの学習過程9番目 : 1.2482760210272246\n",
      "検証用データの学習過程9番目 : 1.400634401293437\n",
      "学習用データの学習過程10番目 : 1.219141089114456\n",
      "検証用データの学習過程10番目 : 1.3656948695513975\n",
      "学習用データの学習過程11番目 : 1.1906313702191333\n",
      "検証用データの学習過程11番目 : 1.3315245225878505\n",
      "学習用データの学習過程12番目 : 1.1627428418411874\n",
      "検証用データの学習過程12番目 : 1.298121471607336\n",
      "学習用データの学習過程13番目 : 1.13547173772545\n",
      "検証用データの学習過程13番目 : 1.2654839909132016\n",
      "学習用データの学習過程14番目 : 1.1088145181222813\n",
      "検証用データの学習過程14番目 : 1.2336104944724489\n",
      "学習用データの学習過程15番目 : 1.0827678295637682\n",
      "検証用データの学習過程15番目 : 1.2024994939620626\n",
      "学習用データの学習過程16番目 : 1.057328455436569\n",
      "検証用データの学習過程16番目 : 1.1721495395247055\n",
      "学習用データの学習過程17番目 : 1.0324932588110112\n",
      "検証用データの学習過程17番目 : 1.1425591450258628\n",
      "学習用データの学習過程18番目 : 1.00825911913588\n",
      "検証用データの学習過程18番目 : 1.113726700122287\n",
      "学習用データの学習過程19番目 : 0.9846228645265365\n",
      "検証用データの学習過程19番目 : 1.0856503719063928\n",
      "学習用データの学習過程20番目 : 0.9615812014570141\n",
      "検証用データの学習過程20番目 : 1.0583279992664079\n",
      "学習用データの学習過程21番目 : 0.9391306437105907\n",
      "検証用データの学習過程21番目 : 1.0317569833811864\n",
      "学習用データの学習過程22番目 : 0.9172674424441489\n",
      "検証用データの学習過程22番目 : 1.005934177936465\n",
      "学習用データの学習過程23番目 : 0.8959875191761489\n",
      "検証用データの学習過程23番目 : 0.9808557826935023\n",
      "学習用データの学習過程24番目 : 0.8752864034142311\n",
      "検証用データの学習過程24番目 : 0.9565172439530744\n",
      "学習用データの学習過程25番目 : 0.8551591764960615\n",
      "検証用データの学習過程25番目 : 0.9329131652350244\n",
      "学習用データの学習過程26番目 : 0.8356004230280579\n",
      "検証用データの学習過程26番目 : 0.9100372311402267\n",
      "学習用データの学習過程27番目 : 0.8166041910756104\n",
      "検証用データの学習過程27番目 : 0.8878821468898235\n",
      "学習用データの学習過程28番目 : 0.7981639619924279\n",
      "検証用データの学習過程28番目 : 0.8664395954656071\n",
      "学習用データの学習過程29番目 : 0.7802726304851598\n",
      "検証用データの学習過程29番目 : 0.8457002136319022\n",
      "学習用データの学習過程30番目 : 0.7629224952037498\n",
      "検証用データの学習過程30番目 : 0.8256535874351743\n",
      "学習用データの学習過程31番目 : 0.7461052598405898\n",
      "検証用データの学習過程31番目 : 0.8062882670876178\n",
      "学習用データの学習過程32番目 : 0.7298120444252285\n",
      "検証用データの学習過程32番目 : 0.7875918004804128\n",
      "学習用データの学習過程33番目 : 0.7140334062283952\n",
      "検証用データの学習過程33番目 : 0.7695507839738392\n",
      "学習用データの学習過程34番目 : 0.698759369450178\n",
      "検証用データの学習過程34番目 : 0.752150928602726\n",
      "学習用データの学習過程35番目 : 0.6839794626709308\n",
      "検証用データの学習過程35番目 : 0.7353771394374333\n",
      "学習用データの学習過程36番目 : 0.6696827628957621\n",
      "検証用データの学習過程36番目 : 0.7192136055651115\n",
      "学習用データの学習過程37番目 : 0.6558579449271631\n",
      "検証用データの学習過程37番目 : 0.7036438980070294\n",
      "学習用データの学習過程38番目 : 0.6424933347554034\n",
      "検証用データの学習過程38番目 : 0.6886510728608454\n",
      "学習用データの学習過程39番目 : 0.6295769656599436\n",
      "検証用データの学習過程39番目 : 0.6742177770402473\n",
      "学習用データの学習過程40番目 : 0.6170966357621946\n",
      "検証用データの学習過程40番目 : 0.6603263541614769\n",
      "学習用データの学習過程41番目 : 0.605039965853705\n",
      "検証用データの学習過程41番目 : 0.6469589483765807\n",
      "学習用データの学習過程42番目 : 0.5933944564364156\n",
      "検証用データの学習過程42番目 : 0.6340976042549291\n",
      "学習用データの学習過程43番目 : 0.5821475430447021\n",
      "検証用データの学習過程43番目 : 0.6217243611461306\n",
      "学習用データの学習過程44番目 : 0.5712866490644135\n",
      "検証用データの学習過程44番目 : 0.6098213407991839\n",
      "学習用データの学習過程45番目 : 0.5607992354144651\n",
      "検証用データの学習過程45番目 : 0.5983708273475574\n",
      "学習用データの学習過程46番目 : 0.5506728466052426\n",
      "検証用データの学習過程46番目 : 0.5873553390843095\n",
      "学習用データの学習過程47番目 : 0.5408951528297259\n",
      "検証用データの学習過程47番目 : 0.5767576917354167\n",
      "学習用データの学習過程48番目 : 0.5314539878737398\n",
      "検証用データの学習過程48番目 : 0.5665610531866923\n",
      "学習用データの学習過程49番目 : 0.5223373827482479\n",
      "検証用データの学習過程49番目 : 0.5567489898268133\n",
      "学習用データの学習過程50番目 : 0.5135335950474188\n",
      "検証用データの学習過程50番目 : 0.5473055048354124\n",
      "学習用データの学習過程51番目 : 0.5050311341206173\n",
      "検証用データの学習過程51番目 : 0.5382150688724213\n",
      "学習用データの学習過程52番目 : 0.49681878221468717\n",
      "検証用データの学習過程52番目 : 0.5294626437159331\n",
      "学習用データの学習過程53番目 : 0.48888561179563766\n",
      "検証用データの学習過程53番目 : 0.5210336994547606\n",
      "学習用データの学習過程54番目 : 0.48122099929742157\n",
      "検証用データの学習過程54番目 : 0.5129142258731855\n",
      "学習用データの学習過程55番目 : 0.47381463557139997\n",
      "検証用データの学習過程55番目 : 0.5050907386738254\n",
      "学習用データの学習過程56番目 : 0.46665653332504814\n",
      "検証用データの学習過程56番目 : 0.497550281174656\n",
      "学習用データの学習過程57番目 : 0.4597370318442029\n",
      "検証用データの学習過程57番目 : 0.4902804220922991\n",
      "学習用データの学習過程58番目 : 0.4530467992913565\n",
      "検証用データの学習過程58番目 : 0.483269249989509\n",
      "学習用データの学習過程59番目 : 0.4465768328647581\n",
      "検証用データの学習過程59番目 : 0.47650536492366635\n",
      "学習用データの学習過程60番目 : 0.44031845709082007\n",
      "検証用データの学習過程60番目 : 0.4699778677877684\n",
      "学習用データの学習過程61番目 : 0.4342633205067848\n",
      "検証用データの学習過程61番目 : 0.4636763477881361\n",
      "学習用データの学習過程62番目 : 0.42840339097287267\n",
      "検証用データの学習過程62番目 : 0.4575908684556046\n",
      "学習用データの学習過程63番目 : 0.42273094983411436\n",
      "検証用データの学習過程63番目 : 0.4517119525406659\n",
      "学習用データの学習過程64番目 : 0.4172385851324723\n",
      "検証用データの学習過程64番目 : 0.4460305660988451\n",
      "学習用データの学習過程65番目 : 0.4119191840502882\n",
      "検証用データの学習過程65番目 : 0.4405381020312064\n",
      "学習用データの学習過程66番目 : 0.4067659247469864\n",
      "検証用データの学習過程66番目 : 0.4352263633066851\n",
      "学習用データの学習過程67番目 : 0.40177226773263963\n",
      "検証用データの学習過程67番目 : 0.43008754605815647\n",
      "学習用データの学習過程68番目 : 0.39693194690471556\n",
      "検証用データの学習過程68番目 : 0.425114222712831\n",
      "学習用データの学習過程69番目 : 0.3922389603581986\n",
      "検証用データの学習過程69番目 : 0.42029932528966\n",
      "学習用データの学習過程70番目 : 0.38768756106442054\n",
      "検証用データの学習過程70番目 : 0.4156361289717937\n",
      "学習用データの学習過程71番目 : 0.38327224750036476\n",
      "検証用データの学習過程71番目 : 0.41111823604058173\n",
      "学習用データの学習過程72番目 : 0.37898775429792836\n",
      "検証用データの学習過程72番目 : 0.4067395602388901\n",
      "学習用データの学習過程73番目 : 0.3748290429715919\n",
      "検証用データの学習過程73番目 : 0.40249431161540883\n",
      "学習用データの学習過程74番目 : 0.37079129277311557\n",
      "検証用データの学習過程74番目 : 0.3983769818878674\n",
      "学習用データの学習過程75番目 : 0.36686989171316664\n",
      "検証用データの学習過程75番目 : 0.3943823303514219\n",
      "学習用データの学習過程76番目 : 0.3630604277821208\n",
      "検証用データの学習過程76番目 : 0.39050537034869776\n",
      "学習用データの学習過程77番目 : 0.35935868039557517\n",
      "検証用データの学習過程77番目 : 0.38674135630981665\n",
      "学習用データの学習過程78番目 : 0.3557606120842856\n",
      "検証用データの学習過程78番目 : 0.38308577136402816\n",
      "学習用データの学習過程79番目 : 0.352262360443209\n",
      "検証用データの学習過程79番目 : 0.3795343155190902\n",
      "学習用データの学習過程80番目 : 0.34886023035001096\n",
      "検証用データの学習過程80番目 : 0.37608289440013976\n",
      "学習用データの学習過程81番目 : 0.3455506864597165\n",
      "検証用データの学習過程81番目 : 0.3727276085363124\n",
      "学習用データの学習過程82番目 : 0.3423303459790598\n",
      "検証用データの学習過程82番目 : 0.3694647431806597\n",
      "学習用データの学習過程83番目 : 0.3391959717214743\n",
      "検証用データの学習過程83番目 : 0.36629075864687044\n",
      "学習用データの学習過程84番目 : 0.3361444654414736\n",
      "検証用データの学習過程84番目 : 0.36320228114480946\n",
      "学習用データの学習過程85番目 : 0.33317286144538116\n",
      "検証用データの学習過程85番目 : 0.36019609409586034\n",
      "学習用データの学習過程86番目 : 0.3302783204738943\n",
      "検証用データの学習過程86番目 : 0.3572691299084139\n",
      "学習用データの学習過程87番目 : 0.3274581238507909\n",
      "検証用データの学習過程87番目 : 0.35441846219351514\n",
      "学習用データの学習過程88番目 : 0.32470966789115413\n",
      "検証用データの学習過程88番目 : 0.3516412984006104\n",
      "学習用データの学習過程89番目 : 0.3220304585617788\n",
      "検証用データの学習過程89番目 : 0.34893497285347186\n",
      "学習用データの学習過程90番目 : 0.3194181063858772\n",
      "検証用データの学習過程90番目 : 0.3462969401666742\n",
      "学習用データの学習過程91番目 : 0.3168703215838314\n",
      "検証用データの学習過程91番目 : 0.3437247690234307\n",
      "学習用データの学習過程92番目 : 0.31438490944147984\n",
      "検証用データの学習過程92番目 : 0.3412161362961216\n",
      "学習用データの学習過程93番目 : 0.3119597658972897\n",
      "検証用データの学習過程93番目 : 0.338768821491449\n",
      "学習用データの学習過程94番目 : 0.30959287333971225\n",
      "検証用データの学習過程94番目 : 0.3363807015028108\n",
      "学習用データの学習過程95番目 : 0.30728229660604817\n",
      "検証用データの学習過程95番目 : 0.3340497456531692\n",
      "学習用データの学習過程96番目 : 0.30502617917422953\n",
      "検証用データの学習過程96番目 : 0.33177401101241166\n",
      "学習用データの学習過程97番目 : 0.30282273953907146\n",
      "検証用データの学習過程97番目 : 0.32955163797391335\n",
      "学習用データの学習過程98番目 : 0.3006702677647116\n",
      "検証用データの学習過程98番目 : 0.3273808460757418\n",
      "学習用データの学習過程99番目 : 0.29856712220517506\n",
      "検証用データの学習過程99番目 : 0.32525993005265497\n",
      "学習用データの学習過程100番目 : 0.29651172638522577\n",
      "検証用データの学習過程100番目 : 0.3231872561057495\n",
      "学習用データの学習過程101番目 : 0.29450256603391867\n",
      "検証用データの学習過程101番目 : 0.3211612583773034\n",
      "学習用データの学習過程102番目 : 0.29253818626352984\n",
      "検証用データの学習過程102番目 : 0.3191804356190231\n",
      "学習用データの学習過程103番目 : 0.29061718888681265\n",
      "検証用データの学習過程103番目 : 0.3172433480425462\n",
      "学習用データの学習過程104番目 : 0.28873822986579906\n",
      "検証用データの学習過程104番目 : 0.3153486143416745\n",
      "学習用データの学習過程105番目 : 0.28690001688564787\n",
      "検証用データの学習過程105番目 : 0.3134949088763994\n",
      "学習用データの学習過程106番目 : 0.28510130704731446\n",
      "検証用データの学習過程106番目 : 0.3116809590093534\n",
      "学習用データの学習過程107番目 : 0.28334090467308864\n",
      "検証用データの学習過程107番目 : 0.30990554258585723\n",
      "学習用データの学習過程108番目 : 0.28161765921931786\n",
      "検証用データの学習過程108番目 : 0.30816748554924916\n",
      "学習用データの学習過程109番目 : 0.2799304632908946\n",
      "検証用データの学習過程109番目 : 0.3064656596836658\n",
      "学習用データの学習過程110番目 : 0.27827825075234064\n",
      "検証用データの学習過程110番目 : 0.3047989804769109\n",
      "学習用データの学習過程111番目 : 0.2766599949305735\n",
      "検証用データの学習過程111番目 : 0.30316640509647963\n",
      "学習用データの学習過程112番目 : 0.2750747069046734\n",
      "検証用データの学習過程112番目 : 0.3015669304722217\n",
      "学習用データの学習過程113番目 : 0.27352143387820793\n",
      "検証用データの学習過程113番目 : 0.2999995914795158\n",
      "学習用データの学習過程114番目 : 0.27199925762988747\n",
      "検証用データの学習過程114番目 : 0.29846345921719253\n",
      "学習用データの学習過程115番目 : 0.2705072930385417\n",
      "検証用データの学習過程115番目 : 0.2969576393747908\n",
      "学習用データの学習過程116番目 : 0.26904468667861187\n",
      "検証用データの学習過程116番目 : 0.2954812706840572\n",
      "学習用データの学習過程117番目 : 0.26761061548254644\n",
      "検証用データの学習過程117番目 : 0.29403352344990413\n",
      "学習用データの学習過程118番目 : 0.2662042854666779\n",
      "検証用データの学習過程118番目 : 0.2926135981563276\n",
      "学習用データの学習過程119番目 : 0.2648249305173342\n",
      "検証用データの学習過程119番目 : 0.2912207241430619\n",
      "学習用データの学習過程120番目 : 0.263471811234108\n",
      "検証用データの学習過程120番目 : 0.28985415834899436\n",
      "学習用データの学習過程121番目 : 0.26214421382737224\n",
      "検証用データの学習過程121番目 : 0.2885131841186084\n",
      "学習用データの学習過程122番目 : 0.2608414490672755\n",
      "検証用データの学習過程122番目 : 0.2871971100679423\n",
      "学習用データの学習過程123番目 : 0.2595628512816069\n",
      "検証用データの学習過程123番目 : 0.2859052690067651\n",
      "学習用データの学習過程124番目 : 0.25830777740004995\n",
      "検証用データの学習過程124番目 : 0.2846370169138624\n",
      "学習用データの学習過程125番目 : 0.25707560604248164\n",
      "検証用データの学習過程125番目 : 0.2833917319625169\n",
      "学習用データの学習過程126番目 : 0.25586573664909357\n",
      "検証用データの学習過程126番目 : 0.282168813593435\n",
      "学習用データの学習過程127番目 : 0.2546775886502335\n",
      "検証用データの学習過程127番目 : 0.2809676816325385\n",
      "学習用データの学習過程128番目 : 0.2535106006739733\n",
      "検証用データの学習過程128番目 : 0.27978777545118894\n",
      "学習用データの学習過程129番目 : 0.25236422978951956\n",
      "検証用データの学習過程129番目 : 0.2786285531665589\n",
      "学習用データの学習過程130番目 : 0.25123795078467914\n",
      "検証用データの学習過程130番目 : 0.27748949087999636\n",
      "学習用データの学習過程131番目 : 0.2501312554756883\n",
      "検証用データの学習過程131番目 : 0.2763700819513543\n",
      "学習用データの学習過程132番目 : 0.24904365204780624\n",
      "検証用データの学習過程132番目 : 0.27526983630737695\n",
      "学習用データの学習過程133番目 : 0.24797466442515168\n",
      "検証用データの学習過程133番目 : 0.27418827978234356\n",
      "学習用データの学習過程134番目 : 0.24692383166835066\n",
      "検証用データの学習過程134番目 : 0.27312495348927607\n",
      "学習用データの学習過程135番目 : 0.24589070739863048\n",
      "検証用データの学習過程135番目 : 0.2720794132201125\n",
      "学習用データの学習過程136番目 : 0.24487485924707272\n",
      "検証用データの学習過程136番目 : 0.27105122887334177\n",
      "学習用データの学習過程137番目 : 0.24387586832780278\n",
      "検証用データの学習過程137番目 : 0.2700399839076797\n",
      "学習用データの学習過程138番目 : 0.24289332873395827\n",
      "検証用データの学習過程138番目 : 0.26904527482044766\n",
      "学習用データの学習過程139番目 : 0.24192684705533962\n",
      "検証用データの学習過程139番目 : 0.268066710649391\n",
      "学習用データの学習過程140番目 : 0.2409760419167028\n",
      "検証用データの学習過程140番目 : 0.2671039124967449\n",
      "学習用データの学習過程141番目 : 0.24004054353570767\n",
      "検証用データの学習過程141番目 : 0.2661565130744226\n",
      "学習用データの学習過程142番目 : 0.23911999329958833\n",
      "検証用データの学習過程142番目 : 0.2652241562692652\n",
      "学習用データの学習過程143番目 : 0.2382140433596585\n",
      "検証用データの学習過程143番目 : 0.2643064967273475\n",
      "学習用データの学習過程144番目 : 0.23732235624281017\n",
      "検証用データの学習過程144番目 : 0.2634031994563934\n",
      "学習用データの学習過程145番目 : 0.23644460447921029\n",
      "検証用データの学習過程145番目 : 0.2625139394454058\n",
      "学習用データの学習過程146番目 : 0.23558047024543688\n",
      "検証用データの学習過程146番目 : 0.26163840130066324\n",
      "学習用データの学習過程147番目 : 0.23472964502233717\n",
      "検証用データの学習過程147番目 : 0.2607762788972841\n",
      "学習用データの学習過程148番目 : 0.23389182926692512\n",
      "検証用データの学習過程148番目 : 0.25992727504559965\n",
      "学習用データの学習過程149番目 : 0.2330667320976742\n",
      "検証用データの学習過程149番目 : 0.2590911011716219\n",
      "学習用データの学習過程150番目 : 0.232254070992587\n",
      "検証用データの学習過程150番目 : 0.2582674770109273\n",
      "学習用データの学習過程151番目 : 0.23145357149946094\n",
      "検証用データの学習過程151番目 : 0.2574561303153149\n",
      "学習用データの学習過程152番目 : 0.23066496695779573\n",
      "検証用データの学習過程152番目 : 0.25665679657163204\n",
      "学習用データの学習過程153番目 : 0.22988799823181386\n",
      "検証用データの学習過程153番目 : 0.255869218732192\n",
      "学習用データの学習過程154番目 : 0.22912241345409654\n",
      "検証用データの学習過程154番目 : 0.25509314695623864\n",
      "学習用データの学習過程155番目 : 0.22836796777935728\n",
      "検証用データの学習過程155番目 : 0.2543283383619421\n",
      "学習用データの学習過程156番目 : 0.22762442314790182\n",
      "検証用データの学習過程156番目 : 0.2535745567884349\n",
      "学習用データの学習過程157番目 : 0.22689154805834452\n",
      "検証用データの学習過程157番目 : 0.2528315725674262\n",
      "学習用データの学習過程158番目 : 0.22616911734917214\n",
      "検証用データの学習過程158番目 : 0.25209916230395185\n",
      "学習用データの学習過程159番目 : 0.22545691198876583\n",
      "検証用データの学習過程159番目 : 0.2513771086658435\n",
      "学習用データの学習過程160番目 : 0.22475471887351162\n",
      "検証用データの学習過程160番目 : 0.25066520018152194\n",
      "学習用データの学習過程161番目 : 0.2240623306336464\n",
      "検証用データの学習過程161番目 : 0.2499632310457351\n",
      "学習用データの学習過程162番目 : 0.22337954544650582\n",
      "検証用データの学習過程162番目 : 0.24927100093288723\n",
      "学習用データの学習過程163番目 : 0.22270616685685246\n",
      "検証用データの学習過程163番目 : 0.24858831481761695\n",
      "学習用データの学習過程164番目 : 0.22204200360398213\n",
      "検証用データの学習過程164番目 : 0.24791498280230434\n",
      "学習用データの学習過程165番目 : 0.22138686945531863\n",
      "検証用データの学習過程165番目 : 0.24725081995119882\n",
      "学習用データの学習過程166番目 : 0.22074058304622027\n",
      "検証用データの学習過程166番目 : 0.24659564613087803\n",
      "学習用データの学習過程167番目 : 0.2201029677257354\n",
      "検証用データの学習過程167番目 : 0.24594928585676024\n",
      "学習用データの学習過程168番目 : 0.21947385140805797\n",
      "検証用データの学習過程168番目 : 0.2453115681454077\n",
      "学習用データの学習過程169番目 : 0.21885306642944177\n",
      "検証用データの学習過程169番目 : 0.24468232637236972\n",
      "学習用データの学習過程170番目 : 0.2182404494103483\n",
      "検証用データの学習過程170番目 : 0.244061398135328\n",
      "学習用データの学習過程171番目 : 0.21763584112260886\n",
      "検証用データの学習過程171番目 : 0.24344862512231685\n",
      "学習用データの学習過程172番目 : 0.21703908636139546\n",
      "検証用データの学習過程172番目 : 0.2428438529848031\n",
      "学習用データの学習過程173番目 : 0.21645003382180125\n",
      "検証用データの学習過程173番目 : 0.24224693121541882\n",
      "学習用データの学習過程174番目 : 0.21586853597984382\n",
      "検証用データの学習過程174番目 : 0.24165771303015302\n",
      "学習用データの学習過程175番目 : 0.21529444897770925\n",
      "検証用データの学習過程175番目 : 0.24107605525481346\n",
      "学習用データの学習過程176番目 : 0.21472763251306673\n",
      "検証用データの学習過程176番目 : 0.24050181821558309\n",
      "学習用データの学習過程177番目 : 0.21416794973228884\n",
      "検証用データの学習過程177番目 : 0.2399348656334991\n",
      "学習用データの学習過程178番目 : 0.21361526712742018\n",
      "検証用データの学習過程178番目 : 0.2393750645226959\n",
      "学習用データの学習過程179番目 : 0.2130694544367462\n",
      "検証用データの学習過程179番目 : 0.2388222850922547\n",
      "学習用データの学習過程180番目 : 0.21253038454881748\n",
      "検証用データの学習過程180番目 : 0.2382764006515157\n",
      "学習用データの学習過程181番目 : 0.21199793340979387\n",
      "検証用データの学習過程181番目 : 0.23773728751871037\n",
      "学習用データの学習過程182番目 : 0.21147197993397682\n",
      "検証用データの学習過程182番目 : 0.23720482493278058\n",
      "学習用データの学習過程183番目 : 0.2109524059174059\n",
      "検証用データの学習過程183番目 : 0.2366788949682579\n",
      "学習用データの学習過程184番目 : 0.2104390959543992\n",
      "検証用データの学習過程184番目 : 0.23615938245307894\n",
      "学習用データの学習過程185番目 : 0.20993193735692384\n",
      "検証用データの学習過程185番目 : 0.23564617488922202\n",
      "学習用データの学習過程186番目 : 0.20943082007668679\n",
      "検証用データの学習過程186番目 : 0.23513916237605215\n",
      "学習用データの学習過程187番目 : 0.2089356366298416\n",
      "検証用データの学習過程187番目 : 0.23463823753627008\n",
      "学習用データの学習過程188番目 : 0.20844628202421114\n",
      "検証用データの学習過程188番目 : 0.234143295444361\n",
      "学習用データの学習過程189番目 : 0.2079626536889299\n",
      "検証用データの学習過程189番目 : 0.23365423355744788\n",
      "学習用データの学習過程190番目 : 0.2074846514064144\n",
      "検証用データの学習過程190番目 : 0.2331709516484558\n",
      "学習用データの学習過程191番目 : 0.20701217724657398\n",
      "検証用データの学習過程191番目 : 0.2326933517414973\n",
      "学習用データの学習過程192番目 : 0.20654513550317755\n",
      "検証用データの学習過程192番目 : 0.23222133804939568\n",
      "学習用データの学習過程193番目 : 0.20608343263229556\n",
      "検証用データの学習過程193番目 : 0.23175481691326294\n",
      "学習用データの学習過程194番目 : 0.20562697719274042\n",
      "検証用データの学習過程194番目 : 0.2312936967440558\n",
      "学習用データの学習過程195番目 : 0.20517567978843052\n",
      "検証用データの学習過程195番目 : 0.23083788796603424\n",
      "学習用データの学習過程196番目 : 0.20472945301260745\n",
      "検証用データの学習過程196番目 : 0.23038730296205245\n",
      "学習用データの学習過程197番目 : 0.20428821139383863\n",
      "検証用データの学習過程197番目 : 0.22994185602061157\n",
      "学習用データの学習過程198番目 : 0.20385187134373928\n",
      "検証用データの学習過程198番目 : 0.2295014632846119\n",
      "学習用データの学習過程199番目 : 0.20342035110635148\n",
      "検証用データの学習過程199番目 : 0.2290660427017386\n",
      "学習用データの学習過程200番目 : 0.20299357070912072\n",
      "検証用データの学習過程200番目 : 0.22863551397642337\n"
     ]
    }
   ],
   "source": [
    "#学習(バイアス項あり、学習過程を出力)\n",
    "slr= ScratchLogisticRegression(verbose=True)\n",
    "slr.fit(X_train_std, y_train, X_test_std, y_test)"
   ]
  },
  {
   "cell_type": "code",
   "execution_count": 30,
   "metadata": {},
   "outputs": [
    {
     "data": {
      "text/plain": [
       "array([[1, 2, 1, 2, 2, 1, 1, 2, 1, 1, 2, 2, 2, 1, 1, 1, 1, 1, 2, 1, 1, 2,\n",
       "        1, 2, 2]])"
      ]
     },
     "execution_count": 30,
     "metadata": {},
     "output_type": "execute_result"
    }
   ],
   "source": [
    "#予測したラベル\n",
    "y_pred_slr = slr.predict(X_test_std)\n",
    "y_pred_slr.T"
   ]
  },
  {
   "cell_type": "code",
   "execution_count": 31,
   "metadata": {},
   "outputs": [
    {
     "data": {
      "text/plain": [
       "array([[0.65495084, 0.34504916],\n",
       "       [0.15491383, 0.84508617],\n",
       "       [0.54323791, 0.45676209],\n",
       "       [0.06713552, 0.93286448],\n",
       "       [0.01439151, 0.98560849],\n",
       "       [0.98921443, 0.01078557],\n",
       "       [0.69709055, 0.30290945],\n",
       "       [0.00728735, 0.99271265],\n",
       "       [0.55689072, 0.44310928],\n",
       "       [0.90343145, 0.09656855],\n",
       "       [0.15133693, 0.84866307],\n",
       "       [0.13776128, 0.86223872],\n",
       "       [0.20318247, 0.79681753],\n",
       "       [0.69123459, 0.30876541],\n",
       "       [0.98695338, 0.01304662],\n",
       "       [0.9607781 , 0.0392219 ],\n",
       "       [0.54323791, 0.45676209],\n",
       "       [0.85426587, 0.14573413],\n",
       "       [0.38719269, 0.61280731],\n",
       "       [0.78132183, 0.21867817],\n",
       "       [0.98695338, 0.01304662],\n",
       "       [0.00388471, 0.99611529],\n",
       "       [0.90581133, 0.09418867],\n",
       "       [0.04919135, 0.95080865],\n",
       "       [0.04314706, 0.95685294]])"
      ]
     },
     "execution_count": 31,
     "metadata": {},
     "output_type": "execute_result"
    }
   ],
   "source": [
    "#各ラベルに属する確率\n",
    "y_pred_proba = slr.predict_proba(X_test_std)\n",
    "y_pred_proba"
   ]
  },
  {
   "cell_type": "code",
   "execution_count": 32,
   "metadata": {
    "scrolled": false
   },
   "outputs": [
    {
     "name": "stdout",
     "output_type": "stream",
     "text": [
      "学習用データの学習過程1番目 : 0.4333259642334927\n",
      "検証用データの学習過程1番目 : 0.44456340599388405\n",
      "学習用データの学習過程2番目 : 0.42822018750828195\n",
      "検証用データの学習過程2番目 : 0.44053465468834696\n",
      "学習用データの学習過程3番目 : 0.42326690804290396\n",
      "検証用データの学習過程3番目 : 0.4366245851493772\n",
      "学習用データの学習過程4番目 : 0.4184599368820892\n",
      "検証用データの学習過程4番目 : 0.4328281078084302\n",
      "学習用データの学習過程5番目 : 0.4137933826646774\n",
      "検証用データの学習過程5番目 : 0.4291404061754614\n",
      "学習用データの学習過程6番目 : 0.4092616363410561\n",
      "検証用データの学習過程6番目 : 0.4255569199841791\n",
      "学習用データの学習過程7番目 : 0.40485935661485173\n",
      "検証用データの学習過程7番目 : 0.4220733294587288\n",
      "学習用データの学習過程8番目 : 0.40058145609140333\n",
      "検証用データの学習過程8番目 : 0.41868554062727803\n",
      "学習用データの学習過程9番目 : 0.39642308811275384\n",
      "検証用データの学習過程9番目 : 0.41538967161218004\n",
      "学習用データの学習過程10番目 : 0.3923796342567939\n",
      "検証用データの学習過程10番目 : 0.41218203983054585\n",
      "学習用データの学習過程11番目 : 0.3884466924766934\n",
      "検証用データの学習過程11番目 : 0.4090591500431113\n",
      "学習用データの学習過程12番目 : 0.38462006585575925\n",
      "検証用データの学習過程12番目 : 0.406017683193195\n",
      "学習用データの学習過程13番目 : 0.38089575195227116\n",
      "検証用データの学習過程13番目 : 0.4030544859813156\n",
      "学習用データの学習過程14番目 : 0.3772699327086052\n",
      "検証用データの学習過程14番目 : 0.400166561124622\n",
      "学習用データの学習過程15番目 : 0.37373896489899483\n",
      "検証用データの学習過程15番目 : 0.39735105825371014\n",
      "学習用データの学習過程16番目 : 0.37029937109053873\n",
      "検証用データの学習過程16番目 : 0.3946052654026244\n",
      "学習用データの学習過程17番目 : 0.36694783109251217\n",
      "検証用データの学習過程17番目 : 0.391926601050897\n",
      "学習用データの学習過程18番目 : 0.36368117386962007\n",
      "検証用データの学習過程18番目 : 0.38931260667933193\n",
      "学習用データの学習過程19番目 : 0.36049636989552525\n",
      "検証用データの学習過程19番目 : 0.38676093980393916\n",
      "学習用データの学習過程20番目 : 0.35739052392375664\n",
      "検証用データの学習過程20番目 : 0.38426936745492946\n",
      "学習用データの学習過程21番目 : 0.3543608681539365\n",
      "検証用データの学習過程21番目 : 0.38183576007003595\n",
      "学習用データの学習過程22番目 : 0.351404755772134\n",
      "検証用データの学習過程22番目 : 0.379458085773617\n",
      "学習用データの学習過程23番目 : 0.3485196548450445\n",
      "検証用データの学習過程23番目 : 0.37713440501503653\n",
      "学習用データの学習過程24番目 : 0.3457031425485997\n",
      "検証用データの学習過程24番目 : 0.3748628655417187\n",
      "学習用データの学習過程25番目 : 0.3429528997125118\n",
      "検証用データの学習過程25番目 : 0.3726416976840376\n",
      "学習用データの学習過程26番目 : 0.3402667056631506\n",
      "検証用データの学習過程26番目 : 0.37046920993084376\n",
      "学習用データの学習過程27番目 : 0.33764243334802896\n",
      "検証用データの学習過程27番目 : 0.3683437847759508\n",
      "学習用データの学習過程28番目 : 0.3350780447260279\n",
      "検証用データの学習過程28番目 : 0.3662638748173171\n",
      "学習用データの学習過程29番目 : 0.3325715864083241\n",
      "検証用データの学習過程29番目 : 0.36422799909196746\n",
      "学習用データの学習過程30番目 : 0.33012118553578584\n",
      "検証用データの学習過程30番目 : 0.3622347396309118\n",
      "学習用データの学習過程31番目 : 0.3277250458793787\n",
      "検証用データの学習過程31番目 : 0.3602827382194437\n",
      "学習用データの学習過程32番目 : 0.32538144415086157\n",
      "検証用データの学習過程32番目 : 0.3583706933492418\n",
      "学習用データの学習過程33番目 : 0.3230887265117673\n",
      "検証用データの学習過程33番目 : 0.3564973573496614\n",
      "学習用データの学習過程34番目 : 0.3208453052693365\n",
      "検証用データの学習過程34番目 : 0.3546615336864988\n",
      "学習用データの学習過程35番目 : 0.3186496557487235\n",
      "検証用データの学習過程35番目 : 0.35286207441733664\n",
      "学習用データの学習過程36番目 : 0.31650031333140033\n",
      "検証用データの学習過程36番目 : 0.35109787779334517\n",
      "学習用データの学習過程37番目 : 0.3143958706502735\n",
      "検証用データの学習過程37番目 : 0.3493678859981239\n",
      "学習用データの学習過程38番目 : 0.3123349749325772\n",
      "検証用データの学習過程38番目 : 0.3476710830148242\n",
      "学習用データの学習過程39番目 : 0.3103163254821249\n",
      "検証用データの学習過程39番目 : 0.3460064926134059\n",
      "学習用データの学習過程40番目 : 0.30833867129300346\n",
      "検証用データの学習過程40番目 : 0.3443731764504389\n",
      "学習用データの学習過程41番目 : 0.30640080878725084\n",
      "検証用データの学習過程41番目 : 0.3427702322743888\n",
      "学習用データの学習過程42番目 : 0.3045015796695033\n",
      "検証用データの学習過程42番目 : 0.3411967922298062\n",
      "学習用データの学習過程43番目 : 0.30263986889201044\n",
      "検証用データの学習過程43番目 : 0.3396520212542904\n",
      "学習用データの学習過程44番目 : 0.3008146027238092\n",
      "検証用データの学習過程44番目 : 0.3381351155625132\n",
      "学習用データの学習過程45番目 : 0.2990247469182095\n",
      "検証用データの学習過程45番目 : 0.3366453012119736\n",
      "学習用データの学習過程46番目 : 0.29726930497309806\n",
      "検証用データの学習過程46番目 : 0.33518183274551605\n",
      "学習用データの学習過程47番目 : 0.29554731647888716\n",
      "検証用データの学習過程47番目 : 0.33374399190597065\n",
      "学習用データの学習過程48番目 : 0.2938578555492406\n",
      "検証用データの学習過程48番目 : 0.3323310864185887\n",
      "学習用データの学習過程49番目 : 0.2922000293300006\n",
      "検証用データの学習過程49番目 : 0.33094244883722923\n",
      "学習用データの学習過程50番目 : 0.2905729765820056\n",
      "検証用データの学習過程50番目 : 0.3295774354505181\n",
      "学習用データの学習過程51番目 : 0.28897586633374484\n",
      "検証用データの学習過程51番目 : 0.3282354252444514\n",
      "学習用データの学習過程52番目 : 0.2874078966000345\n",
      "検証用データの学習過程52番目 : 0.32691581891813953\n",
      "学習用データの学習過程53番目 : 0.28586829316312234\n",
      "検証用データの学習過程53番目 : 0.32561803794960636\n",
      "学習用データの学習過程54番目 : 0.2843563084128383\n",
      "検証用データの学習過程54番目 : 0.32434152370875474\n",
      "学習用データの学習過程55番目 : 0.2828712202426104\n",
      "検証用データの学習過程55番目 : 0.32308573661479106\n",
      "学習用データの学習過程56番目 : 0.281412330998343\n",
      "検証用データの学習過程56番目 : 0.32185015533558087\n",
      "学習用データの学習過程57番目 : 0.27997896647733533\n",
      "検証用データの学習過程57番目 : 0.3206342760265575\n",
      "学習用データの学習過程58番目 : 0.2785704749745798\n",
      "検証用データの学習過程58番目 : 0.3194376116069657\n",
      "学習用データの学習過程59番目 : 0.27718622637393053\n",
      "検証用データの学習過程59番目 : 0.3182596910713506\n",
      "学習用データの学習過程60番目 : 0.2758256112817817\n",
      "検証用データの学習過程60番目 : 0.31710005883434006\n",
      "学習用データの学習過程61番目 : 0.27448804020102585\n",
      "検証用データの学習過程61番目 : 0.3159582741068835\n",
      "学習用データの学習過程62番目 : 0.2731729427431937\n",
      "検証用データの学習過程62番目 : 0.314833910302226\n",
      "学習用データの学習過程63番目 : 0.271879766876793\n",
      "検証用データの学習過程63番目 : 0.3137265544699999\n",
      "学習用データの学習過程64番目 : 0.270607978209979\n",
      "検証用データの学習過程64番目 : 0.3126358067569147\n",
      "学習用データの学習過程65番目 : 0.26935705930579307\n",
      "検証用データの学習過程65番目 : 0.3115612798926179\n",
      "学習用データの学習過程66番目 : 0.26812650902830576\n",
      "検証用データの学習過程66番目 : 0.31050259869938274\n",
      "学習用データの学習過程67番目 : 0.2669158419180939\n",
      "検証用データの学習過程67番目 : 0.3094593996243635\n",
      "学習用データの学習過程68番目 : 0.2657245875955678\n",
      "検証用データの学習過程68番目 : 0.3084313302932272\n",
      "学習用データの学習過程69番目 : 0.2645522901907489\n",
      "検証用データの学習過程69番目 : 0.3074180490840458\n",
      "学習用データの学習過程70番目 : 0.2633985077981741\n",
      "検証用データの学習過程70番目 : 0.3064192247203957\n",
      "学習用データの学習過程71番目 : 0.2622628119556763\n",
      "検証用データの学習過程71番目 : 0.3054345358826729\n",
      "学習用データの学習過程72番目 : 0.2611447871458602\n",
      "検証用データの学習過程72番目 : 0.3044636708366901\n",
      "学習用データの学習過程73番目 : 0.2600440303191537\n",
      "検証用データの学習過程73番目 : 0.3035063270786747\n",
      "学習用データの学習過程74番目 : 0.25896015043738213\n",
      "検証用データの学習過程74番目 : 0.3025622109958367\n",
      "学習用データの学習過程75番目 : 0.257892768036861\n",
      "検証用データの学習過程75番目 : 0.30163103754172477\n",
      "学習用データの学習過程76番目 : 0.25684151481006656\n",
      "検証用データの学習過程76番目 : 0.30071252992563013\n",
      "学習用データの学習過程77番目 : 0.2558060332049842\n",
      "検証用データの学習過程77番目 : 0.29980641931534036\n",
      "学習用データの学習過程78番目 : 0.2547859760412912\n",
      "検証用データの学習過程78番目 : 0.29891244455258553\n",
      "学習用データの学習過程79番目 : 0.2537810061425699\n",
      "検証用データの学習過程79番目 : 0.2980303518805526\n",
      "学習用データの学習過程80番目 : 0.2527907959837902\n",
      "検証用データの学習過程80番目 : 0.2971598946828814\n",
      "学習用データの学習過程81番目 : 0.2518150273533436\n",
      "検証用データの学習過程81番目 : 0.296300833233585\n",
      "学習用データの学習過程82番目 : 0.25085339102894527\n",
      "検証用データの学習過程82番目 : 0.29545293445736986\n",
      "学習用データの学習過程83番目 : 0.24990558646675567\n",
      "検証用データの学習過程83番目 : 0.2946159716998571\n",
      "学習用データの学習過程84番目 : 0.24897132150311208\n",
      "検証用データの学習過程84番目 : 0.2937897245072358\n",
      "学習用データの学習過程85番目 : 0.24805031206828454\n",
      "検証用データの学習過程85番目 : 0.29297397841490164\n",
      "学習用データの学習過程86番目 : 0.247142281911706\n",
      "検証用データの学習過程86番目 : 0.29216852474465954\n",
      "学習用データの学習過程87番目 : 0.2462469623381539\n",
      "検証用データの学習過程87番目 : 0.29137316041009115\n",
      "学習用データの学習過程88番目 : 0.2453640919543838\n",
      "検証用データの学習過程88番目 : 0.2905876877297074\n",
      "学習用データの学習過程89番目 : 0.2444934164257442\n",
      "検証用データの学習過程89番目 : 0.28981191424752917\n",
      "学習用データの学習過程90番目 : 0.24363468824232518\n",
      "検証用データの学習過程90番目 : 0.2890456525607538\n",
      "学習用データの学習過程91番目 : 0.24278766649421332\n",
      "検証用データの学習過程91番目 : 0.28828872015418694\n",
      "学習用データの学習過程92番目 : 0.24195211665544933\n",
      "検証用データの学習過程92番目 : 0.28754093924113117\n",
      "学習用データの学習過程93番目 : 0.24112781037630346\n",
      "検証用データの学習過程93番目 : 0.28680213661044357\n",
      "学習用データの学習過程94番目 : 0.24031452528350333\n",
      "検証用データの学習過程94番目 : 0.2860721434794843\n",
      "学習用データの学習過程95番目 : 0.23951204478806667\n",
      "検証用データの学習過程95番目 : 0.2853507953526952\n",
      "学習用データの学習過程96番目 : 0.2387201579004066\n",
      "検証用データの学習過程96番目 : 0.2846379318855599\n",
      "学習用データの学習過程97番目 : 0.2379386590523979\n",
      "検証用データの学習過程97番目 : 0.2839333967537089\n",
      "学習用データの学習過程98番目 : 0.23716734792610192\n",
      "検証用データの学習過程98番目 : 0.2832370375269443\n",
      "学習用データの学習過程99番目 : 0.2364060292888669\n",
      "検証用データの学習過程99番目 : 0.2825487055479716\n",
      "学習用データの学習過程100番目 : 0.2356545128345313\n",
      "検証用データの学習過程100番目 : 0.28186825581563507\n",
      "学習用データの学習過程101番目 : 0.23491261303047226\n",
      "検証用データの学習過程101番目 : 0.2811955468724631\n",
      "学習用データの学習過程102番目 : 0.23418014897025258\n",
      "検証用データの学習過程102番目 : 0.2805304406963403\n",
      "学習用データの学習過程103番目 : 0.2334569442316326\n",
      "検証用データの学習過程103番目 : 0.2798728025961308\n",
      "学習用データの学習過程104番目 : 0.23274282673972144\n",
      "検証用データの学習過程104番目 : 0.2792225011110863\n",
      "学習用データの学習過程105番目 : 0.23203762863505653\n",
      "検証用データの学習過程105番目 : 0.27857940791388097\n",
      "学習用データの学習過程106番目 : 0.23134118614640709\n",
      "検証用データの学習過程106番目 : 0.27794339771712046\n",
      "学習用データの学習過程107番目 : 0.2306533394681073\n",
      "検証用データの学習過程107番目 : 0.2773143481831819\n",
      "学習用データの学習過程108番目 : 0.22997393264173582\n",
      "検証用データの学習過程108番目 : 0.27669213983724833\n",
      "学習用データの学習過程109番目 : 0.22930281344196327\n",
      "検証用データの学習過程109番目 : 0.2760766559834047\n",
      "学習用データの学習過程110番目 : 0.22863983326640072\n",
      "検証用データの学習過程110番目 : 0.2754677826236732\n",
      "学習用データの学習過程111番目 : 0.22798484702928717\n",
      "検証用データの学習過程111番目 : 0.27486540837986606\n",
      "学習用データの学習過程112番目 : 0.22733771305886435\n",
      "検証用データの学習過程112番目 : 0.27426942441814434\n",
      "学習用データの学習過程113番目 : 0.22669829299828895\n",
      "検証用データの学習過程113番目 : 0.27367972437617355\n",
      "学習用データの学習過程114番目 : 0.22606645170994677\n",
      "検証用データの学習過程114番目 : 0.273096204292772\n",
      "学習用データの学習過程115番目 : 0.22544205718302954\n",
      "検証用データの学習過程115番目 : 0.2725187625399542\n",
      "学習用データの学習過程116番目 : 0.22482498044425134\n",
      "検証用データの学習過程116番目 : 0.27194729975727394\n",
      "学習用データの学習過程117番目 : 0.22421509547157972\n",
      "検証用データの学習過程117番目 : 0.27138171878837747\n",
      "学習用データの学習過程118番目 : 0.22361227911086418\n",
      "検証用データの学習過程118番目 : 0.2708219246196799\n",
      "学習用データの学習過程119番目 : 0.223016410995252\n",
      "検証用データの学習過程119番目 : 0.2702678243210834\n",
      "学習用データの学習過程120番目 : 0.22242737346728322\n",
      "検証用データの学習過程120番目 : 0.2697193269886575\n",
      "学習用データの学習過程121番目 : 0.22184505150356215\n",
      "検証用データの学習過程121番目 : 0.26917634368920684\n",
      "学習用データの学習過程122番目 : 0.2212693326419083\n",
      "検証用データの学習過程122番目 : 0.26863878740665387\n",
      "学習用データの学習過程123番目 : 0.2207001069108925\n",
      "検証用データの学習過程123番目 : 0.26810657299016805\n",
      "学習用データの学習過程124番目 : 0.2201372667616685\n",
      "検証用データの学習過程124番目 : 0.26757961710397504\n",
      "学習用データの学習過程125番目 : 0.21958070700201318\n",
      "検証用データの学習過程125番目 : 0.26705783817878315\n",
      "学習用データの学習過程126番目 : 0.21903032473249526\n",
      "検証用データの学習過程126番目 : 0.26654115636476655\n",
      "学習用データの学習過程127番目 : 0.21848601928469047\n",
      "検証用データの学習過程127番目 : 0.266029493486047\n",
      "学習用データの学習過程128番目 : 0.21794769216137103\n",
      "検証用データの学習過程128番目 : 0.2655227729966195\n",
      "学習用データの学習過程129番目 : 0.21741524697859338\n",
      "検証用データの学習過程129番目 : 0.26502091993766763\n",
      "学習用データの学習過程130番目 : 0.2168885894096176\n",
      "検証用データの学習過程130番目 : 0.26452386089621843\n",
      "学習用データの学習過程131番目 : 0.2163676271305909\n",
      "検証用データの学習過程131番目 : 0.264031523965088\n",
      "学習用データの学習過程132番目 : 0.21585226976793023\n",
      "検証用データの学習過程132番目 : 0.26354383870407055\n",
      "学習用データの学習過程133番目 : 0.21534242884734472\n",
      "検証用データの学習過程133番目 : 0.263060736102327\n",
      "学習用データの学習過程134番目 : 0.2148380177444376\n",
      "検証用データの学習過程134番目 : 0.26258214854192874\n",
      "学習用データの学習過程135番目 : 0.21433895163683161\n",
      "検証用データの学習過程135番目 : 0.2621080097625168\n",
      "学習用データの学習過程136番目 : 0.21384514745776476\n",
      "検証用データの学習過程136番目 : 0.26163825482703545\n",
      "学習用データの学習過程137番目 : 0.21335652385110251\n",
      "検証用データの学習過程137番目 : 0.2611728200885036\n",
      "学習用データの学習過程138番目 : 0.21287300112771812\n",
      "検証用データの学習過程138番目 : 0.2607116431577866\n",
      "学習用データの学習過程139番目 : 0.21239450122319317\n",
      "検証用データの学習過程139番目 : 0.2602546628723328\n",
      "学習用データの学習過程140番目 : 0.21192094765679048\n",
      "検証用データの学習過程140番目 : 0.2598018192658437\n",
      "学習用データの学習過程141番目 : 0.21145226549165821\n",
      "検証用データの学習過程141番目 : 0.2593530535388428\n",
      "学習用データの学習過程142番目 : 0.2109883812962195\n",
      "検証用データの学習過程142番目 : 0.2589083080301129\n",
      "学習用データの学習過程143番目 : 0.210529223106709\n",
      "検証用データの学習過程143番目 : 0.2584675261889733\n",
      "学習用データの学習過程144番目 : 0.21007472039081665\n",
      "検証用データの学習過程144番目 : 0.25803065254836677\n",
      "学習用データの学習過程145番目 : 0.20962480401239983\n",
      "検証用データの学習過程145番目 : 0.25759763269872843\n",
      "学習用データの学習過程146番目 : 0.20917940619722908\n",
      "検証用データの学習過程146番目 : 0.25716841326261225\n",
      "学習用データの学習過程147番目 : 0.20873846049973205\n",
      "検証用データの学習過程147番目 : 0.256742941870048\n",
      "学習用データの学習過程148番目 : 0.2083019017707014\n",
      "検証用データの学習過程148番目 : 0.2563211671346034\n",
      "学習用データの学習過程149番目 : 0.20786966612593538\n",
      "検証用データの学習過程149番目 : 0.2559030386301307\n",
      "学習用データの学習過程150番目 : 0.2074416909157797\n",
      "検証用データの学習過程150番目 : 0.2554885068681722\n",
      "学習用データの学習過程151番目 : 0.20701791469554018\n",
      "検証用データの学習過程151番目 : 0.2550775232760047\n",
      "学習用データの学習過程152番目 : 0.20659827719673884\n",
      "検証用データの学習過程152番目 : 0.2546700401753009\n",
      "学習用データの学習過程153番目 : 0.20618271929918372\n",
      "検証用データの学習過程153番目 : 0.2542660107613886\n",
      "学習用データの学習過程154番目 : 0.20577118300382805\n",
      "検証用データの学習過程154番目 : 0.2538653890830867\n",
      "学習用データの学習過程155番目 : 0.20536361140639098\n",
      "検証用データの学習過程155番目 : 0.253468130023101\n",
      "学習用データの学習過程156番目 : 0.2049599486717166\n",
      "検証用データの学習過程156番目 : 0.2530741892789604\n",
      "学習用データの学習過程157番目 : 0.20456014000884706\n",
      "検証用データの学習過程157番目 : 0.2526835233444772\n",
      "学習用データの学習過程158番目 : 0.2041641316467861\n",
      "検証用データの学習過程158番目 : 0.25229608949171367\n",
      "学習用データの学習過程159番目 : 0.2037718708109318\n",
      "検証用データの学習過程159番目 : 0.2519118457534396\n",
      "学習用データの学習過程160番目 : 0.2033833057001572\n",
      "検証用データの学習過程160番目 : 0.2515307509060653\n",
      "学習用データの学習過程161番目 : 0.2029983854645172\n",
      "検証用データの学習過程161番目 : 0.25115276445303447\n",
      "学習用データの学習過程162番目 : 0.20261706018356343\n",
      "検証用データの学習過程162番目 : 0.2507778466086625\n",
      "学習用データの学習過程163番目 : 0.20223928084524628\n",
      "検証用データの学習過程163番目 : 0.25040595828240747\n",
      "学習用データの学習過程164番目 : 0.20186499932538768\n",
      "検証用データの学習過程164番目 : 0.25003706106355866\n",
      "学習用データの学習過程165番目 : 0.20149416836770478\n",
      "検証用データの学習過程165番目 : 0.24967111720633053\n",
      "学習用データの学習過程166番目 : 0.20112674156436902\n",
      "検証用データの学習過程166番目 : 0.249308089615351\n",
      "学習用データの学習過程167番目 : 0.20076267333708295\n",
      "検証用データの学習過程167番目 : 0.24894794183152796\n",
      "学習用データの学習過程168番目 : 0.20040191891865958\n",
      "検証用データの学習過程168番目 : 0.24859063801828757\n",
      "学習用データの学習過程169番目 : 0.20004443433508848\n",
      "検証用データの学習過程169番目 : 0.24823614294816923\n",
      "学習用データの学習過程170番目 : 0.19969017638807368\n",
      "検証用データの学習過程170番目 : 0.2478844219897676\n",
      "学習用データの学習過程171番目 : 0.19933910263802923\n",
      "検証用データの学習過程171番目 : 0.24753544109501202\n",
      "学習用データの学習過程172番目 : 0.19899117138751868\n",
      "検証用データの学習過程172番目 : 0.24718916678677147\n",
      "学習用データの学習過程173番目 : 0.19864634166512454\n",
      "検証用データの学習過程173番目 : 0.24684556614677752\n",
      "学習用データの学習過程174番目 : 0.19830457320973555\n",
      "検証用データの学習過程174番目 : 0.24650460680385325\n",
      "学習用データの学習過程175番目 : 0.19796582645523844\n",
      "検証用データの学習過程175番目 : 0.24616625692244187\n",
      "学習用データの学習過程176番目 : 0.19763006251560283\n",
      "検証用データの学習過程176番目 : 0.24583048519142317\n",
      "学習用データの学習過程177番目 : 0.1972972431703472\n",
      "検証用データの学習過程177番目 : 0.24549726081321238\n",
      "学習用データの学習過程178番目 : 0.1969673308503749\n",
      "検証用データの学習過程178番目 : 0.24516655349313063\n",
      "学習用データの学習過程179番目 : 0.19664028862416905\n",
      "検証用データの学習過程179番目 : 0.2448383334290405\n",
      "学習用データの学習過程180番目 : 0.19631608018433586\n",
      "検証用データの学習過程180番目 : 0.244512571301239\n",
      "学習用データの学習過程181番目 : 0.19599466983448666\n",
      "検証用データの学習過程181番目 : 0.24418923826259964\n",
      "学習用データの学習過程182番目 : 0.1956760224764477\n",
      "検証用データの学習過程182番目 : 0.2438683059289568\n",
      "学習用データの学習過程183番目 : 0.19536010359778988\n",
      "検証用データの学習過程183番目 : 0.24354974636972654\n",
      "学習用データの学習過程184番目 : 0.19504687925966735\n",
      "検証用データの学習過程184番目 : 0.24323353209875465\n",
      "学習用データの学習過程185番目 : 0.1947363160849574\n",
      "検証用データの学習過程185番目 : 0.24291963606538863\n",
      "学習用データの学習過程186番目 : 0.19442838124669248\n",
      "検証用データの学習過程186番目 : 0.2426080316457643\n",
      "学習用データの学習過程187番目 : 0.19412304245677622\n",
      "検証用データの学習過程187番目 : 0.2422986926343028\n",
      "学習用データの学習過程188番目 : 0.19382026795497526\n",
      "検証用データの学習過程188番目 : 0.2419915932354116\n",
      "学習用データの学習過程189番目 : 0.19352002649817893\n",
      "検証用データの学習過程189番目 : 0.24168670805538375\n",
      "学習用データの学習過程190番目 : 0.19322228734991956\n",
      "検証用データの学習過程190番目 : 0.24138401209448973\n",
      "学習用データの学習過程191番目 : 0.19292702027014602\n",
      "検証用データの学習過程191番目 : 0.2410834807392566\n",
      "学習用データの学習過程192番目 : 0.19263419550524336\n",
      "検証用データの学習過程192番目 : 0.24078508975492954\n",
      "学習用データの学習過程193番目 : 0.1923437837782914\n",
      "検証用データの学習過程193番目 : 0.24048881527811097\n",
      "学習用データの学習過程194番目 : 0.1920557562795561\n",
      "検証用データの学習過程194番目 : 0.24019463380957112\n",
      "学習用データの学習過程195番目 : 0.19177008465720718\n",
      "検証用データの学習過程195番目 : 0.2399025222072266\n",
      "学習用データの学習過程196番目 : 0.19148674100825572\n",
      "検証用データの学習過程196番目 : 0.23961245767928252\n",
      "学習用データの学習過程197番目 : 0.1912056978697051\n",
      "検証用データの学習過程197番目 : 0.23932441777753244\n",
      "学習用データの学習過程198番目 : 0.19092692820991072\n",
      "検証用データの学習過程198番目 : 0.23903838039081365\n",
      "学習用データの学習過程199番目 : 0.1906504054201417\n",
      "検証用データの学習過程199番目 : 0.23875432373861125\n",
      "学習用データの学習過程200番目 : 0.1903761033063392\n",
      "検証用データの学習過程200番目 : 0.23847222636481008\n"
     ]
    }
   ],
   "source": [
    "#学習(バイアス項なし、学習過程を出力)\n",
    "nobias_slr= ScratchLogisticRegression(verbose=True, bias=False)\n",
    "nobias_slr.fit(X_train_std, y_train, X_test_std, y_test)"
   ]
  },
  {
   "cell_type": "code",
   "execution_count": 33,
   "metadata": {},
   "outputs": [
    {
     "data": {
      "text/plain": [
       "array([[1, 2, 1, 2, 2, 1, 1, 2, 1, 1, 2, 2, 2, 1, 1, 1, 1, 1, 2, 1, 1, 2,\n",
       "        1, 2, 2]])"
      ]
     },
     "execution_count": 33,
     "metadata": {},
     "output_type": "execute_result"
    }
   ],
   "source": [
    "#予測したラベル\n",
    "y_nobias_pred_slr = nobias_slr.predict(X_test_std)\n",
    "y_nobias_pred_slr.T"
   ]
  },
  {
   "cell_type": "code",
   "execution_count": 34,
   "metadata": {},
   "outputs": [
    {
     "data": {
      "text/plain": [
       "array([[0.68462365, 0.31537635],\n",
       "       [0.19905705, 0.80094295],\n",
       "       [0.58458943, 0.41541057],\n",
       "       [0.09456581, 0.90543419],\n",
       "       [0.01370918, 0.98629082],\n",
       "       [0.99832021, 0.00167979],\n",
       "       [0.81630162, 0.18369838],\n",
       "       [0.00285833, 0.99714167],\n",
       "       [0.76843433, 0.23156567],\n",
       "       [0.94223487, 0.05776513],\n",
       "       [0.13929919, 0.86070081],\n",
       "       [0.22257289, 0.77742711],\n",
       "       [0.30634239, 0.69365761],\n",
       "       [0.74318025, 0.25681975],\n",
       "       [0.99656748, 0.00343252],\n",
       "       [0.9834993 , 0.0165007 ],\n",
       "       [0.58458943, 0.41541057],\n",
       "       [0.91360031, 0.08639969],\n",
       "       [0.40630072, 0.59369928],\n",
       "       [0.81698077, 0.18301923],\n",
       "       [0.99656748, 0.00343252],\n",
       "       [0.00139206, 0.99860794],\n",
       "       [0.96160933, 0.03839067],\n",
       "       [0.0555121 , 0.9444879 ],\n",
       "       [0.06341269, 0.93658731]])"
      ]
     },
     "execution_count": 34,
     "metadata": {},
     "output_type": "execute_result"
    }
   ],
   "source": [
    "#各ラベルに属する確率\n",
    "y_nobias_pred_proba = nobias_slr.predict_proba(X_test_std)\n",
    "y_nobias_pred_proba"
   ]
  },
  {
   "cell_type": "markdown",
   "metadata": {},
   "source": [
    "## 【問題2】 学習曲線のプロット"
   ]
  },
  {
   "cell_type": "markdown",
   "metadata": {},
   "source": [
    "学習曲線をプロットしてください。"
   ]
  },
  {
   "cell_type": "code",
   "execution_count": 35,
   "metadata": {},
   "outputs": [],
   "source": [
    "def model_loss(loss, val_loss, title='model loss'):\n",
    "    '''\n",
    "    学習曲線を作成する関数\n",
    "    \n",
    "    Parameters\n",
    "    ----------------\n",
    "    loss : 次の形のndarray, shape (self.iter,)\n",
    "        学習用データに対する損失の記録\n",
    "    val_loss : 次の形のndarray, shape (self.iter,)\n",
    "        検証用データに対する損失の記録\n",
    "    title : str\n",
    "        タイトルの名前 \n",
    "    '''\n",
    "    plt.title(title)\n",
    "    plt.xlabel('iter')\n",
    "    plt.ylabel('loss')\n",
    "    plt.plot(range(len(loss)), loss, color='red', label='loss')\n",
    "    plt.plot(range(len(val_loss)), val_loss, color='blue', label='val_loss')\n",
    "    plt.legend()\n",
    "    plt.show()"
   ]
  },
  {
   "cell_type": "code",
   "execution_count": 36,
   "metadata": {},
   "outputs": [
    {
     "data": {
      "image/png": "[encoded data removed]",
      "text/plain": [
       "<Figure size 432x288 with 1 Axes>"
      ]
     },
     "metadata": {
      "needs_background": "light"
     },
     "output_type": "display_data"
    }
   ],
   "source": [
    "#学習曲線を出力(バイアスあり)\n",
    "model_loss(slr.loss, slr.val_loss)"
   ]
  },
  {
   "cell_type": "code",
   "execution_count": 37,
   "metadata": {},
   "outputs": [
    {
     "data": {
      "image/png": "[encoded data removed]",
      "text/plain": [
       "<Figure size 432x288 with 1 Axes>"
      ]
     },
     "metadata": {
      "needs_background": "light"
     },
     "output_type": "display_data"
    }
   ],
   "source": [
    "#学習曲線を出力(バイアスなし)\n",
    "model_loss(nobias_slr.loss, nobias_slr.val_loss, title='model loss(no bias)')"
   ]
  },
  {
   "cell_type": "markdown",
   "metadata": {},
   "source": [
    "バイアス項ありの学習曲線では、イテレーション回数を増やすにつれ学習用、検証用データの誤差がどちらも同じように減っていた。バイアス項なしでは検証用データが学習用データに比べて途中から誤差の減り具合が悪くなっているように見えるが、縦軸の比率が違うので、数値だけで見ると、最終的な誤差はバイアス項ありの学習用データ0.20、検証用データで0.23、バイアス項なしの学習用データが0.19、検証用データが0.24であったので、それほど変わらなかった。"
   ]
  },
  {
   "cell_type": "markdown",
   "metadata": {},
   "source": [
    "## 【問題3】 指標値の算出"
   ]
  },
  {
   "cell_type": "markdown",
   "metadata": {},
   "source": [
    "分類に関する指標値で精度を確認してください。"
   ]
  },
  {
   "cell_type": "code",
   "execution_count": 38,
   "metadata": {},
   "outputs": [],
   "source": [
    "def evalution(y_test, y_pred):\n",
    "    '''\n",
    "     分類問題の指標値を出力する関数\n",
    " \n",
    "     Paraeters\n",
    "     -------------\n",
    "    y_test : 次の形のndarray, shape (n_samples, )\n",
    "        正解値\n",
    "    y_pred : 次の形のndarray, shape (n_samples, )\n",
    "        予測したラベル\n",
    "    '''\n",
    "    #accuracy\n",
    "    accuracy = accuracy_score(y_test, y_pred)\n",
    "    print('accuracy :', accuracy)\n",
    "\n",
    "    #precision\n",
    "    precision = precision_score(y_test, y_pred)\n",
    "    print('precision :', precision)\n",
    "\n",
    "    #recall\n",
    "    recall = recall_score(y_test, y_pred)\n",
    "    print('recall :', recall)\n",
    "\n",
    "    #f1\n",
    "    f1 = f1_score(y_test, y_pred)\n",
    "    print('f1 :', f1)"
   ]
  },
  {
   "cell_type": "code",
   "execution_count": 39,
   "metadata": {},
   "outputs": [
    {
     "name": "stdout",
     "output_type": "stream",
     "text": [
      "accuracy : 0.92\n",
      "precision : 0.9285714285714286\n",
      "recall : 0.9285714285714286\n",
      "f1 : 0.9285714285714286\n"
     ]
    }
   ],
   "source": [
    "#指標値の出力(バイアス項あり)\n",
    "evalution(y_test, y_pred_slr)"
   ]
  },
  {
   "cell_type": "code",
   "execution_count": 40,
   "metadata": {},
   "outputs": [
    {
     "name": "stdout",
     "output_type": "stream",
     "text": [
      "accuracy : 0.92\n",
      "precision : 0.9285714285714286\n",
      "recall : 0.9285714285714286\n",
      "f1 : 0.9285714285714286\n"
     ]
    }
   ],
   "source": [
    "#指標値の出力(バイアス項なし)\n",
    "evalution(y_test, y_nobias_pred_slr)"
   ]
  },
  {
   "cell_type": "markdown",
   "metadata": {},
   "source": [
    "sklearnのLogisticLegressionと精度を比較する。"
   ]
  },
  {
   "cell_type": "code",
   "execution_count": 41,
   "metadata": {},
   "outputs": [
    {
     "name": "stdout",
     "output_type": "stream",
     "text": [
      "accuracy : 0.92\n",
      "precision : 0.9285714285714286\n",
      "recall : 0.9285714285714286\n",
      "f1 : 0.9285714285714286\n"
     ]
    }
   ],
   "source": [
    "#sklearnと比較\n",
    "lr = LogisticRegression(solver='lbfgs')\n",
    "\n",
    "#学習\n",
    "lr.fit(X_train_std, y_train)\n",
    "\n",
    "#予測\n",
    "y_pred_lr = lr.predict(X_test_std)\n",
    "\n",
    "#指標値の出力\n",
    "evalution(y_test, y_pred_lr)"
   ]
  },
  {
   "cell_type": "markdown",
   "metadata": {},
   "source": [
    "スクラッチしたクラスで、sklearnと同等の精度を出すことができていた。また、今回バイアス項ありとなしでは精度は変わらなかった。"
   ]
  },
  {
   "cell_type": "markdown",
   "metadata": {},
   "source": [
    "## 【問題4】 決定領域の可視化"
   ]
  },
  {
   "cell_type": "markdown",
   "metadata": {},
   "source": [
    "2値分類のデータセットに対して決定領域を可視化してください。"
   ]
  },
  {
   "cell_type": "code",
   "execution_count": 42,
   "metadata": {},
   "outputs": [],
   "source": [
    "def decision_region(X_train, y_train, model, step=0.01, title='decision region', \n",
    "                                xlabel='xlabel', ylabel='ylabel', target_names=['versicolor', 'virginica']):\n",
    "    \"\"\"\n",
    "    2値分類を2次元の特徴量で学習したモデルの決定領域を描く。\n",
    "    背景の色が学習したモデルによる推定値から描画される。\n",
    "    散布図の点は学習用データである。\n",
    "\n",
    "    Parameters\n",
    "    ----------------\n",
    "    X_train : ndarray, shape(n_samples, 2)\n",
    "        学習用データの特徴量\n",
    "    y_train : ndarray, shape(n_samples, 1)\n",
    "        学習用データの正解値\n",
    "    model : object\n",
    "        学習したモデルのインスンタスを入れる\n",
    "    step : float, (default : 0.1)\n",
    "        推定値を計算する間隔を設定する\n",
    "    title : str\n",
    "        グラフのタイトルの文章を与える\n",
    "    xlabel, ylabel : str\n",
    "        軸ラベルの文章を与える\n",
    "    target_names= : list of str\n",
    "        凡例の一覧を与える\n",
    "    \"\"\"\n",
    "    # setting\n",
    "    scatter_color = ['red', 'blue']\n",
    "    contourf_color = ['pink', 'skyblue']\n",
    "    n_class = 2\n",
    "\n",
    "    # pred\n",
    "    mesh_f0, mesh_f1  = np.meshgrid(np.arange(np.min(X_train[:,0])-0.5, np.max(X_train[:,0])+0.5, step), \n",
    "                                                                         np.arange(np.min(X_train[:,1])-0.5, np.max(X_train[:,1])+0.5, step))\n",
    "    mesh = np.c_[np.ravel(mesh_f0),np.ravel(mesh_f1)]\n",
    "    pred = model.predict(mesh).reshape(mesh_f0.shape)\n",
    "\n",
    "    # plot\n",
    "    plt.title(title)\n",
    "    plt.xlabel(xlabel)\n",
    "    plt.ylabel(ylabel)\n",
    "    plt.contourf(mesh_f0, mesh_f1, pred, n_class-1, cmap=ListedColormap(contourf_color))\n",
    "    plt.contour(mesh_f0, mesh_f1, pred, n_class-1, colors='y', linewidths=3, alpha=0.5)\n",
    "    for i, target in enumerate(set(y_train)):\n",
    "        plt.scatter(X_train[y_train==target][:, 0], X_train[y_train==target][:, 1], s=80, color=scatter_color[i], label=target_names[i], marker='o')\n",
    "    patches = [mpatches.Patch(color=scatter_color[i], label=target_names[i]) for i in range(n_class)]\n",
    "    plt.legend(handles=patches)\n",
    "    plt.legend()\n",
    "    plt.show()"
   ]
  },
  {
   "cell_type": "markdown",
   "metadata": {},
   "source": [
    "スクラッチしたクラスの決定領域"
   ]
  },
  {
   "cell_type": "code",
   "execution_count": 43,
   "metadata": {},
   "outputs": [
    {
     "data": {
      "image/png": "[encoded data removed]",
      "text/plain": [
       "<Figure size 432x288 with 1 Axes>"
      ]
     },
     "metadata": {
      "needs_background": "light"
     },
     "output_type": "display_data"
    },
    {
     "data": {
      "image/png": "[encoded data removed]",
      "text/plain": [
       "<Figure size 432x288 with 1 Axes>"
      ]
     },
     "metadata": {
      "needs_background": "light"
     },
     "output_type": "display_data"
    }
   ],
   "source": [
    "#可視化\n",
    "#学習用データ\n",
    "decision_region(X_train_std, y_train, slr, title='LogisticRegression(train data)', \n",
    "                        xlabel='petal length (standardized)', ylabel='petal width (standardized)')\n",
    "\n",
    "#検証用データ\n",
    "decision_region(X_test_std, y_test, slr, title='LogisticRegression(test data)', \n",
    "                        xlabel='petal length (standardized)', ylabel='petal width (standardized)')"
   ]
  },
  {
   "cell_type": "code",
   "execution_count": 44,
   "metadata": {},
   "outputs": [
    {
     "data": {
      "image/png": "[encoded data removed]",
      "text/plain": [
       "<Figure size 432x288 with 1 Axes>"
      ]
     },
     "metadata": {
      "needs_background": "light"
     },
     "output_type": "display_data"
    },
    {
     "data": {
      "image/png": "[encoded data removed]",
      "text/plain": [
       "<Figure size 432x288 with 1 Axes>"
      ]
     },
     "metadata": {
      "needs_background": "light"
     },
     "output_type": "display_data"
    }
   ],
   "source": [
    "#可視化\n",
    "#学習用データ\n",
    "decision_region(X_train_std, y_train, nobias_slr, title='LogisticRegression(train data, no bias)', \n",
    "                        xlabel='petal length (standardized)', ylabel='petal width (standardized)')\n",
    "\n",
    "#検証用データ\n",
    "decision_region(X_test_std, y_test, nobias_slr, title='LogisticRegression(test data, no bias)', \n",
    "                        xlabel='petal length (standardized)', ylabel='petal width (standardized)')"
   ]
  },
  {
   "cell_type": "markdown",
   "metadata": {},
   "source": [
    "sklearnの決定領域"
   ]
  },
  {
   "cell_type": "code",
   "execution_count": 45,
   "metadata": {},
   "outputs": [
    {
     "data": {
      "image/png": "[encoded data removed]",
      "text/plain": [
       "<Figure size 432x288 with 1 Axes>"
      ]
     },
     "metadata": {
      "needs_background": "light"
     },
     "output_type": "display_data"
    },
    {
     "data": {
      "image/png": "[encoded data removed]",
      "text/plain": [
       "<Figure size 432x288 with 1 Axes>"
      ]
     },
     "metadata": {
      "needs_background": "light"
     },
     "output_type": "display_data"
    }
   ],
   "source": [
    "#可視化\n",
    "#学習用データ\n",
    "decision_region(X_train_std, y_train, lr, title='LogisticRegression(train data, sklearm)', \n",
    "                        xlabel='petal length (standardized)', ylabel='petal width (standardized)')\n",
    "\n",
    "#検証用データ\n",
    "decision_region(X_test_std, y_test, lr, title='LogisticRegression(test data, sklearn)', \n",
    "                        xlabel='petal length (standardized)', ylabel='petal width (standardized)')"
   ]
  },
  {
   "cell_type": "markdown",
   "metadata": {},
   "source": [
    "スクラッチしたクラス(バイアス項あり)とsklearnモデルでは似たような決定領域になっていた。バイアス項ありとなしの比較では、決定境界の傾きがバイアス項なしの場合では急な傾きになっていた。今回はある程度分類できていたが、バイアス項がある方がよりベストな決定境界ではないかと感じた。"
   ]
  },
  {
   "cell_type": "markdown",
   "metadata": {},
   "source": [
    "## 【問題5】 重みの保存"
   ]
  },
  {
   "cell_type": "markdown",
   "metadata": {},
   "source": [
    "検証が容易になるように、学習した重みを保存および読み込みができるようにしましょう。pickleモジュールやnumpy.savezを利用します。\n",
    "\n",
    "[pickle — Python オブジェクトの直列化 — Python 3.7.1 ドキュメント](https://docs.python.org/ja/3/library/pickle.html)\n",
    "\n",
    "[numpy.savez — NumPy v1.15 Manual](https://docs.scipy.org/doc/numpy-1.15.0/reference/generated/numpy.savez.html#numpy.savez)\n",
    "\n"
   ]
  },
  {
   "cell_type": "code",
   "execution_count": 46,
   "metadata": {},
   "outputs": [
    {
     "data": {
      "text/plain": [
       "array([[0.4425521 , 1.27151983, 1.28111674]])"
      ]
     },
     "execution_count": 46,
     "metadata": {},
     "output_type": "execute_result"
    }
   ],
   "source": [
    "#学習した重み\n",
    "slr.coef_"
   ]
  },
  {
   "cell_type": "code",
   "execution_count": 47,
   "metadata": {},
   "outputs": [],
   "source": [
    "#保存\n",
    "with open('logistic_coef_.pickle', mode='wb') as f:\n",
    "    pickle.dump(slr.coef_, f)"
   ]
  },
  {
   "cell_type": "code",
   "execution_count": 48,
   "metadata": {},
   "outputs": [],
   "source": [
    "#読み込み\n",
    "with open('logistic_coef_.pickle', mode='rb') as f:\n",
    "    coef = pickle.load(f)"
   ]
  },
  {
   "cell_type": "code",
   "execution_count": 49,
   "metadata": {},
   "outputs": [
    {
     "data": {
      "text/plain": [
       "array([[0.4425521 , 1.27151983, 1.28111674]])"
      ]
     },
     "execution_count": 49,
     "metadata": {},
     "output_type": "execute_result"
    }
   ],
   "source": [
    "#重みを出力\n",
    "coef"
   ]
  },
  {
   "cell_type": "markdown",
   "metadata": {},
   "source": [
    "pickleを用いて保存、読み込みを行い、同じであることが確認できた。"
   ]
  },
  {
   "cell_type": "markdown",
   "metadata": {},
   "source": [
    "## 【問題6】 分類と回帰"
   ]
  },
  {
   "cell_type": "markdown",
   "metadata": {},
   "source": [
    "最終発表時に以下の内容についてディスカッションを行います。自分なりの意見を用意しておいてください。\n",
    "\n",
    "- 分類問題と回帰問題は本質的に何が異なっているか   \n",
    "\n",
    "注意点   \n",
    "答えがある問いではありません。いろいろな視点から見て理解を深めていきましょう。"
   ]
  },
  {
   "cell_type": "markdown",
   "metadata": {},
   "source": [
    "- 分類問題   \n",
    "具体的な数字を出すのではなく、各クラスに分けることを行う。　(0 or 1に分けるなど)\n",
    "\n",
    "- 回帰問題   \n",
    "連続するデータの予測を行う。(この商品の値段は〇〇円、××円など)"
   ]
  }
 ],
 "metadata": {
  "kernelspec": {
   "display_name": "Python 3",
   "language": "python",
   "name": "python3"
  },
  "language_info": {
   "codemirror_mode": {
    "name": "ipython",
    "version": 3
   },
   "file_extension": ".py",
   "mimetype": "text/x-python",
   "name": "python",
   "nbconvert_exporter": "python",
   "pygments_lexer": "ipython3",
   "version": "3.6.8"
  },
  "latex_envs": {
   "LaTeX_envs_menu_present": true,
   "autoclose": false,
   "autocomplete": true,
   "bibliofile": "biblio.bib",
   "cite_by": "apalike",
   "current_citInitial": 1,
   "eqLabelWithNumbers": true,
   "eqNumInitial": 1,
   "hotkeys": {
    "equation": "Ctrl-E",
    "itemize": "Ctrl-I"
   },
   "labels_anchors": false,
   "latex_user_defs": false,
   "report_style_numbering": false,
   "user_envs_cfg": false
  },
  "toc": {
   "base_numbering": 1,
   "nav_menu": {},
   "number_sections": true,
   "sideBar": true,
   "skip_h1_title": false,
   "title_cell": "Table of Contents",
   "title_sidebar": "Contents",
   "toc_cell": false,
   "toc_position": {},
   "toc_section_display": true,
   "toc_window_display": false
  }
 },
 "nbformat": 4,
 "nbformat_minor": 2
}
