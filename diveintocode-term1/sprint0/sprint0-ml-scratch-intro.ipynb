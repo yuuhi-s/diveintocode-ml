{
 "cells": [
  {
   "cell_type": "markdown",
   "metadata": {},
   "source": [
    "# Sprint0授業前課題 機械学習スクラッチ入門"
   ]
  },
  {
   "cell_type": "markdown",
   "metadata": {},
   "source": [
    "この課題の目的   \n",
    "- pyファイルを扱うことに慣れる\n",
    "- 機械学習スクラッチの準備をする"
   ]
  },
  {
   "cell_type": "markdown",
   "metadata": {},
   "source": [
    "## スクラッチ\n",
    "\n",
    "次回から機械学習手法のスクラッチを行っていきます。Sprint2ではその準備として、scikit-learnのtrain_test_splitのスクラッチと、分類・回帰のパイプラインの作成を行います。\n",
    "\n",
    "スクラッチ課題は、最終的にpyファイルをJupyter Notebook上から実行する形で作成していただきます。補助教材「pyファイルの利用方法」をご覧ください。\n",
    "\n",
    "### スクラッチの意義\n",
    "\n",
    "ここでのスクラッチとは、NumPyなどの基本的なライブラリを組み合わせることで、scikit-learnのような応用的なライブラリと同じ機能のクラス・関数を自作することを指します。\n",
    "\n",
    "スクラッチをすることでscikit-learnなどのライブラリを動かすだけでは掴みづらい、アルゴリズムの深い理解を目指します。コーディングのスキル向上も兼ねますが、それは主な目的ではありません。\n",
    "\n",
    "以下のような効果を狙っています。\n",
    "\n",
    "- 新たな手法に出会った時に理論・数式を理解しやすくする\n",
    "- ライブラリを使う上での曖昧さを減らす\n",
    "- 既存の実装を読みやすくする\n",
    "\n",
    "### GitHubにディレクトリを作成\n",
    "\n",
    "スクラッチのコードを管理するため、「diveintocoe-term1」配下に以下のような構造で「ml-scratch」を作成してください。この構造は一例なので、随時自分なりに追加、変更していってください。"
   ]
  },
  {
   "cell_type": "markdown",
   "metadata": {},
   "source": [
    "```\n",
    "diveintocode-term1/\n",
    "　├ ml-scratch/\n",
    "　│　├ utils/\n",
    "　│　└ model/\n",
    "　├ sprint1/\n",
    "　└ sprint2/\n",
    " ```"
   ]
  },
  {
   "cell_type": "markdown",
   "metadata": {},
   "source": [
    "- utils : 手法に関わらず共通して使うコードを格納\n",
    "- model : 各種モデルのコードを格納\n",
    "\n",
    "この後作成するtrain_test_splitなどの関数は複数のSprintで使用するため、utilsの中に置いておき、それをインポートして使えるようにしていきます。\n",
    "\n"
   ]
  },
  {
   "cell_type": "markdown",
   "metadata": {},
   "source": [
    "## 【問題1】 train_test_splitのスクラッチ\n",
    "\n",
    "まずはスクラッチの練習として、scikit-learnのtrain_test_splitを自作してみましょう。Jupyter Notebookでコーディングを進め、完成後はpyファイルとします。utilsディレクトリの中にsplit.pyを作ってください。\n",
    "\n",
    "[sklearn.model_selection.train_test_split — scikit-learn 0.20.0 documentation](https://scikit-learn.org/stable/modules/generated/sklearn.model_selection.train_test_split.html)\n",
    "\n",
    "雛形"
   ]
  },
  {
   "cell_type": "markdown",
   "metadata": {},
   "source": [
    "```python\n",
    "def train_test_split(X, y, train_size=0.8,):\n",
    "    \"\"\"\n",
    "    学習用データを分割する。\n",
    "\n",
    "    Parameters\n",
    "    ----------\n",
    "    X : 次の形のndarray, shape (n_samples, n_features)\n",
    "      学習データ\n",
    "    y : 次の形のndarray, shape (n_samples, )\n",
    "      正解値\n",
    "    train_size : float (0<train_size<1)\n",
    "      何割をtrainとするか指定\n",
    "\n",
    "    Returns\n",
    "    ----------\n",
    "    X_train : 次の形のndarray, shape (n_samples, n_features)\n",
    "      学習データ\n",
    "    X_test : 次の形のndarray, shape (n_samples, n_features)\n",
    "      検証データ\n",
    "    y_train : 次の形のndarray, shape (n_samples, )\n",
    "      学習データの正解値\n",
    "    y_test : 次の形のndarray, shape (n_samples, )\n",
    "      検証データの正解値\n",
    "    \"\"\"\n",
    "    #ここにコードを書く\n",
    "    pass\n",
    "\n",
    "    return X_train, X_test, y_train, y_test\n",
    "```"
   ]
  },
  {
   "cell_type": "markdown",
   "metadata": {},
   "source": [
    "テストの重要性\n",
    "\n",
    "scikit-learnのtrain_test_splitと同じ動作をしているか必ずテストをするようにしましょう。ライブラリが存在するものをスクラッチする学習方法は動作の正しさを確認しやすいという利点があります。\n",
    "\n"
   ]
  },
  {
   "cell_type": "code",
   "execution_count": 1,
   "metadata": {},
   "outputs": [],
   "source": [
    "import numpy as np\n",
    "def scratch_train_test_split(X, y, train_size=0.8):\n",
    "    \"\"\"\n",
    "    学習用データを分割する。\n",
    "\n",
    "    Parameters\n",
    "    ----------\n",
    "    X : 次の形のndarray, shape (n_samples, n_features)\n",
    "      学習データ\n",
    "    y : 次の形のndarray, shape (n_samples, )\n",
    "      正解値\n",
    "    train_size : float (0<train_size<1)\n",
    "      何割をtrainとするか指定\n",
    "\n",
    "    Returns\n",
    "    ----------\n",
    "    X_train : 次の形のndarray, shape (n_samples, n_features)\n",
    "      学習データ\n",
    "    X_test : 次の形のndarray, shape (n_samples, n_features)\n",
    "      検証データ\n",
    "    y_train : 次の形のndarray, shape (n_samples, )\n",
    "      学習データの正解値\n",
    "    y_test : 次の形のndarray, shape (n_samples, )\n",
    "      検証データの正解値\n",
    "    \"\"\"\n",
    "    #Xの配列をシャッフルし、行番号を抽出\n",
    "    permu = np.random.permutation(X[:, 0].size)\n",
    "\n",
    "    #Xとyを、シャッフルした行番号順に並び替える\n",
    "    X = X[permu]\n",
    "    y = y[permu]\n",
    "\n",
    "    #X_train, X_testをtrain_sizeの割合で行を分割\n",
    "    X_train, X_test = np.vsplit(X, [int(X[:, 0].size * train_size)])\n",
    "    #y_train, y_testをtrain_sizeの割合で列を分割\n",
    "    y_train, y_test = np.split(y, [int(y.size * train_size)])\n",
    "\n",
    "    return X_train, X_test, y_train, y_test"
   ]
  },
  {
   "cell_type": "code",
   "execution_count": 2,
   "metadata": {},
   "outputs": [],
   "source": [
    "#テスト用のnumpy配列を作成\n",
    "scratch_test_X = np.arange(0, 40).reshape(20, 2)\n",
    "scratch_test_y = np.arange(50, 70)"
   ]
  },
  {
   "cell_type": "code",
   "execution_count": 3,
   "metadata": {},
   "outputs": [
    {
     "data": {
      "text/plain": [
       "array([[ 0,  1],\n",
       "       [ 2,  3],\n",
       "       [ 4,  5],\n",
       "       [ 6,  7],\n",
       "       [ 8,  9],\n",
       "       [10, 11],\n",
       "       [12, 13],\n",
       "       [14, 15],\n",
       "       [16, 17],\n",
       "       [18, 19],\n",
       "       [20, 21],\n",
       "       [22, 23],\n",
       "       [24, 25],\n",
       "       [26, 27],\n",
       "       [28, 29],\n",
       "       [30, 31],\n",
       "       [32, 33],\n",
       "       [34, 35],\n",
       "       [36, 37],\n",
       "       [38, 39]])"
      ]
     },
     "execution_count": 3,
     "metadata": {},
     "output_type": "execute_result"
    }
   ],
   "source": [
    "scratch_test_X"
   ]
  },
  {
   "cell_type": "code",
   "execution_count": 4,
   "metadata": {},
   "outputs": [
    {
     "data": {
      "text/plain": [
       "array([50, 51, 52, 53, 54, 55, 56, 57, 58, 59, 60, 61, 62, 63, 64, 65, 66,\n",
       "       67, 68, 69])"
      ]
     },
     "execution_count": 4,
     "metadata": {},
     "output_type": "execute_result"
    }
   ],
   "source": [
    "scratch_test_y"
   ]
  },
  {
   "cell_type": "code",
   "execution_count": 5,
   "metadata": {},
   "outputs": [
    {
     "data": {
      "text/plain": [
       "(array([[ 0,  1],\n",
       "        [24, 25],\n",
       "        [26, 27],\n",
       "        [ 6,  7],\n",
       "        [ 2,  3],\n",
       "        [16, 17],\n",
       "        [10, 11],\n",
       "        [12, 13],\n",
       "        [14, 15],\n",
       "        [18, 19],\n",
       "        [28, 29],\n",
       "        [38, 39],\n",
       "        [20, 21],\n",
       "        [36, 37],\n",
       "        [30, 31],\n",
       "        [32, 33]]), array([[ 8,  9],\n",
       "        [22, 23],\n",
       "        [ 4,  5],\n",
       "        [34, 35]]), array([50, 62, 63, 53, 51, 58, 55, 56, 57, 59, 64, 69, 60, 68, 65, 66]), array([54, 61, 52, 67]))"
      ]
     },
     "execution_count": 5,
     "metadata": {},
     "output_type": "execute_result"
    }
   ],
   "source": [
    "#スクラッチしたtrain_test_split_scratchの場合\n",
    "scratch_train_test_split(scratch_test_X, scratch_test_y, train_size=0.8)"
   ]
  },
  {
   "cell_type": "code",
   "execution_count": 6,
   "metadata": {},
   "outputs": [
    {
     "data": {
      "text/plain": [
       "[array([[28, 29],\n",
       "        [30, 31],\n",
       "        [34, 35],\n",
       "        [ 2,  3],\n",
       "        [16, 17],\n",
       "        [20, 21],\n",
       "        [18, 19],\n",
       "        [26, 27],\n",
       "        [36, 37],\n",
       "        [38, 39],\n",
       "        [ 6,  7],\n",
       "        [24, 25],\n",
       "        [ 8,  9],\n",
       "        [12, 13],\n",
       "        [14, 15],\n",
       "        [10, 11]]), array([[22, 23],\n",
       "        [ 0,  1],\n",
       "        [32, 33],\n",
       "        [ 4,  5]]), array([64, 65, 67, 51, 58, 60, 59, 63, 68, 69, 53, 62, 54, 56, 57, 55]), array([61, 50, 66, 52])]"
      ]
     },
     "execution_count": 6,
     "metadata": {},
     "output_type": "execute_result"
    }
   ],
   "source": [
    "#sklearnのtrain_test_splitの場合\n",
    "from sklearn.model_selection import train_test_split\n",
    "\n",
    "train_test_split(scratch_test_X, scratch_test_y, test_size=0.2)"
   ]
  },
  {
   "cell_type": "markdown",
   "metadata": {},
   "source": [
    "スクラッチしたtrain_test_splitと、sklearnのtrain_test_splitで同様の動作を確認できたので、スクラッチしたtrain_test_split関数はpyファイルとして、utilsディレクトリの中にsplit.pyとして格納。"
   ]
  },
  {
   "cell_type": "markdown",
   "metadata": {},
   "source": [
    "## 【問題2】 分類パイプラインの作成\n",
    "\n",
    "分類は3種類の手法を扱います。pyファイルで実行できる分類のパイプラインを作成してください。\n",
    "\n",
    "- ロジスティック回帰\n",
    "- SVM\n",
    "- 決定木\n",
    "\n",
    "データセットは3種類用意します。\n",
    "\n",
    "1つ目は事前学習期間同様にirisデータセットです。\n",
    "\n",
    "[sklearn.datasets.load_iris — scikit-learn 0.20.2 documentation](https://scikit-learn.org/stable/modules/generated/sklearn.datasets.load_iris.html)\n",
    "\n",
    "2値分類としたいため、以下の2つの目的変数のみ利用します。特徴量は4種類全て使います。\n",
    "\n",
    "virgicolorとvirginica\n",
    "また、残り2つは可視化が可能な特徴量が2つのデータセットを人工的に用意します。以下のコードで説明変数X,目的変数yが作成可能です。「シンプルデータセット1」「シンプルデータセット2」とします。\n",
    "\n",
    "シンプルデータセット1作成コード"
   ]
  },
  {
   "cell_type": "markdown",
   "metadata": {},
   "source": [
    "```python\n",
    "import numpy as np\n",
    "\n",
    "np.random.seed(seed=0)\n",
    "n_samples = 500\n",
    "f0 = [-1, 2]\n",
    "f1 = [2, -1]\n",
    "cov = [[1.0,0.8], [0.8, 1.0]]\n",
    "\n",
    "f0 = np.random.multivariate_normal(f0, cov, int(n_samples/2))\n",
    "f1 = np.random.multivariate_normal(f1, cov, int(n_samples/2))\n",
    "\n",
    "X = np.concatenate((f0, f1))\n",
    "y = np.concatenate((np.ones((int(n_samples/2))), np.ones((int(n_samples/2))) *(-1))).astype(np.int)\n",
    "\n",
    "random_index = np.random.permutation(np.arange(n_samples))\n",
    "X = X[random_index]\n",
    "y = y[random_index]\n",
    "```"
   ]
  },
  {
   "cell_type": "markdown",
   "metadata": {},
   "source": [
    "シンプルデータセット2作成コード\n",
    "\n",
    "```python\n",
    "X = np.array([[-0.44699 , -2.8073  ],[-1.4621  , -2.4586  ],\n",
    "       [ 0.10645 ,  1.9242  ],[-3.5944  , -4.0112  ],\n",
    "       [-0.9888  ,  4.5718  ],[-3.1625  , -3.9606  ],\n",
    "       [ 0.56421 ,  0.72888 ],[-0.60216 ,  8.4636  ],\n",
    "       [-0.61251 , -0.75345 ],[-0.73535 , -2.2718  ],\n",
    "       [-0.80647 , -2.2135  ],[ 0.86291 ,  2.3946  ],\n",
    "       [-3.1108  ,  0.15394 ],[-2.9362  ,  2.5462  ],\n",
    "       [-0.57242 , -2.9915  ],[ 1.4771  ,  3.4896  ],\n",
    "       [ 0.58619 ,  0.37158 ],[ 0.6017  ,  4.3439  ],\n",
    "       [-2.1086  ,  8.3428  ],[-4.1013  , -4.353   ],\n",
    "       [-1.9948  , -1.3927  ],[ 0.35084 , -0.031994],\n",
    "       [ 0.96765 ,  7.8929  ],[-1.281   , 15.6824  ],\n",
    "       [ 0.96765 , 10.083   ],[ 1.3763  ,  1.3347  ],\n",
    "       [-2.234   , -2.5323  ],[-2.9452  , -1.8219  ],\n",
    "       [ 0.14654 , -0.28733 ],[ 0.5461  ,  5.8245  ],\n",
    "       [-0.65259 ,  9.3444  ],[ 0.59912 ,  5.3524  ],\n",
    "       [ 0.50214 , -0.31818 ],[-3.0603  , -3.6461  ],\n",
    "       [-6.6797  ,  0.67661 ],[-2.353   , -0.72261 ],\n",
    "       [ 1.1319  ,  2.4023  ],[-0.12243 ,  9.0162  ],\n",
    "       [-2.5677  , 13.1779  ],[ 0.057313,  5.4681  ]])\n",
    "y = np.array([0, 0, 0, 0, 0, 0, 0, 0, 0, 0, 0, 0, 0, 0, 0, 0, 0, 0, 0, 0, 1, 1,\n",
    "       1, 1, 1, 1, 1, 1, 1, 1, 1, 1, 1, 1, 1, 1, 1, 1, 1, 1])\n",
    "```\n"
   ]
  },
  {
   "cell_type": "markdown",
   "metadata": {},
   "source": [
    "ロジスティック回帰、SVM、決定木のパイプラインを作成し、pyファイルとしてsprint0に格納。"
   ]
  },
  {
   "cell_type": "markdown",
   "metadata": {},
   "source": [
    "### ・irisデータセット"
   ]
  },
  {
   "cell_type": "code",
   "execution_count": 7,
   "metadata": {},
   "outputs": [],
   "source": [
    "from sklearn import datasets\n",
    "import pandas as pd\n",
    "\n",
    "#irisデータセットの読み込み\n",
    "iris = datasets.load_iris()\n",
    "\n",
    "#virgicolorとvirginicaを抜き出して、ndarrayに格納\n",
    "X = iris.data[50:]\n",
    "y = iris.target[50:]\n",
    "\n",
    "#分割\n",
    "X_train, X_test, y_train, y_test = train_test_split(X, y)"
   ]
  },
  {
   "cell_type": "code",
   "execution_count": 8,
   "metadata": {},
   "outputs": [],
   "source": [
    "from sklearn.preprocessing import StandardScaler\n",
    "\n",
    "#学習用データをfit(平均と標準偏差を計算)し、transform(標準化)\n",
    "sc = StandardScaler()\n",
    "X_train_std = sc.fit_transform(X_train)\n",
    "\n",
    "#検証用データをtransform(標準化)\n",
    "X_test_std = sc.transform(X_test)"
   ]
  },
  {
   "cell_type": "code",
   "execution_count": 9,
   "metadata": {},
   "outputs": [],
   "source": [
    "#作成したロジスティック回帰のパイプラインを呼び出し\n",
    "%run ScratchLogisticRegression"
   ]
  },
  {
   "cell_type": "code",
   "execution_count": 10,
   "metadata": {},
   "outputs": [
    {
     "name": "stderr",
     "output_type": "stream",
     "text": [
      "/Users/yuhisoejima/.pyenv/versions/anaconda3-5.3.1/lib/python3.7/site-packages/sklearn/linear_model/logistic.py:433: FutureWarning: Default solver will be changed to 'lbfgs' in 0.22. Specify a solver to silence this warning.\n",
      "  FutureWarning)\n"
     ]
    },
    {
     "data": {
      "text/plain": [
       "array([2, 1, 1, 1, 2, 1, 1, 2, 2, 1, 2, 1, 1, 2, 1, 2, 1, 2, 2, 2, 1, 1,\n",
       "       1, 2, 1])"
      ]
     },
     "execution_count": 10,
     "metadata": {},
     "output_type": "execute_result"
    }
   ],
   "source": [
    "#モデルをfitさせ、予測するパイプラインを実行\n",
    "ScratchLogisticRegression(X_train_std, X_test_std, y_train)"
   ]
  },
  {
   "cell_type": "code",
   "execution_count": 11,
   "metadata": {},
   "outputs": [],
   "source": [
    "#作成したSVMのパイプラインを呼び出し\n",
    "%run ScratchSVC"
   ]
  },
  {
   "cell_type": "code",
   "execution_count": 12,
   "metadata": {},
   "outputs": [
    {
     "data": {
      "text/plain": [
       "array([2, 1, 1, 1, 2, 1, 1, 2, 2, 1, 2, 1, 1, 2, 1, 2, 1, 2, 2, 2, 1, 1,\n",
       "       1, 2, 1])"
      ]
     },
     "execution_count": 12,
     "metadata": {},
     "output_type": "execute_result"
    }
   ],
   "source": [
    "#モデルをfitさせ、予測するパイプラインを実行\n",
    "ScratchSVC(X_train_std, X_test_std, y_train)"
   ]
  },
  {
   "cell_type": "code",
   "execution_count": 13,
   "metadata": {},
   "outputs": [],
   "source": [
    "#作成した決定木のパイプラインを呼び出し\n",
    "%run ScratchDecisionTreeClassifier"
   ]
  },
  {
   "cell_type": "code",
   "execution_count": 14,
   "metadata": {},
   "outputs": [
    {
     "data": {
      "text/plain": [
       "array([2, 1, 1, 1, 2, 1, 1, 2, 2, 1, 2, 1, 1, 2, 1, 2, 1, 2, 2, 2, 1, 1,\n",
       "       1, 2, 1])"
      ]
     },
     "execution_count": 14,
     "metadata": {},
     "output_type": "execute_result"
    }
   ],
   "source": [
    "#モデルをfitさせ、予測するパイプラインを実行\n",
    "ScratchDecisionTreeClassifier(X_train_std, X_test_std, y_train)"
   ]
  },
  {
   "cell_type": "markdown",
   "metadata": {},
   "source": [
    "### ・シンプルデータセット1"
   ]
  },
  {
   "cell_type": "code",
   "execution_count": 15,
   "metadata": {},
   "outputs": [],
   "source": [
    " #シンプルデータセット1を作成\n",
    "import numpy as np\n",
    "\n",
    "np.random.seed(seed=0)\n",
    "n_samples = 500\n",
    "f0 = [-1, 2]\n",
    "f1 = [2, -1]\n",
    "cov = [[1.0,0.8], [0.8, 1.0]]\n",
    "\n",
    "f0 = np.random.multivariate_normal(f0, cov, int(n_samples/2))\n",
    "f1 = np.random.multivariate_normal(f1, cov, int(n_samples/2))\n",
    "\n",
    "X = np.concatenate((f0, f1))\n",
    "y = np.concatenate((np.ones((int(n_samples/2))), np.ones((int(n_samples/2))) *(-1))).astype(np.int)\n",
    "\n",
    "random_index = np.random.permutation(np.arange(n_samples))\n",
    "X = X[random_index]\n",
    "y = y[random_index]"
   ]
  },
  {
   "cell_type": "code",
   "execution_count": 16,
   "metadata": {},
   "outputs": [],
   "source": [
    "X_train, X_test, y_train, y_test = train_test_split(X, y)"
   ]
  },
  {
   "cell_type": "code",
   "execution_count": 17,
   "metadata": {},
   "outputs": [
    {
     "name": "stderr",
     "output_type": "stream",
     "text": [
      "/Users/yuhisoejima/.pyenv/versions/anaconda3-5.3.1/lib/python3.7/site-packages/sklearn/linear_model/logistic.py:433: FutureWarning: Default solver will be changed to 'lbfgs' in 0.22. Specify a solver to silence this warning.\n",
      "  FutureWarning)\n"
     ]
    },
    {
     "data": {
      "text/plain": [
       "array([-1,  1, -1,  1, -1, -1, -1, -1,  1, -1, -1, -1,  1,  1, -1, -1, -1,\n",
       "        1, -1, -1, -1,  1, -1, -1, -1,  1, -1,  1,  1,  1,  1,  1, -1,  1,\n",
       "       -1,  1, -1,  1,  1,  1, -1, -1,  1,  1, -1,  1, -1, -1, -1, -1, -1,\n",
       "        1,  1,  1, -1,  1, -1,  1,  1, -1, -1, -1, -1,  1, -1,  1,  1, -1,\n",
       "       -1,  1,  1,  1,  1, -1,  1,  1,  1,  1, -1,  1, -1, -1, -1, -1, -1,\n",
       "       -1,  1, -1,  1, -1,  1,  1, -1, -1,  1, -1,  1, -1,  1,  1,  1, -1,\n",
       "        1,  1,  1, -1,  1,  1,  1,  1, -1, -1, -1, -1,  1,  1,  1,  1, -1,\n",
       "       -1,  1,  1,  1,  1, -1])"
      ]
     },
     "execution_count": 17,
     "metadata": {},
     "output_type": "execute_result"
    }
   ],
   "source": [
    "#ロジスティック回帰\n",
    "#modelをfitさせ、予測するパイプラインを実行\n",
    "ScratchLogisticRegression(X_train, X_test, y_train)"
   ]
  },
  {
   "cell_type": "code",
   "execution_count": 18,
   "metadata": {},
   "outputs": [
    {
     "name": "stderr",
     "output_type": "stream",
     "text": [
      "/Users/yuhisoejima/.pyenv/versions/anaconda3-5.3.1/lib/python3.7/site-packages/sklearn/svm/base.py:196: FutureWarning: The default value of gamma will change from 'auto' to 'scale' in version 0.22 to account better for unscaled features. Set gamma explicitly to 'auto' or 'scale' to avoid this warning.\n",
      "  \"avoid this warning.\", FutureWarning)\n"
     ]
    },
    {
     "data": {
      "text/plain": [
       "array([-1,  1, -1,  1, -1, -1, -1, -1,  1, -1, -1, -1,  1,  1, -1, -1, -1,\n",
       "        1, -1, -1, -1,  1, -1, -1, -1,  1, -1,  1,  1,  1,  1,  1, -1,  1,\n",
       "       -1,  1, -1,  1,  1,  1, -1, -1,  1,  1, -1,  1, -1, -1, -1, -1, -1,\n",
       "        1,  1,  1, -1,  1, -1,  1,  1, -1, -1, -1, -1,  1, -1,  1,  1, -1,\n",
       "       -1,  1,  1,  1,  1, -1,  1,  1,  1,  1, -1,  1, -1, -1, -1, -1, -1,\n",
       "       -1,  1, -1,  1, -1,  1,  1, -1, -1,  1, -1,  1, -1,  1,  1,  1, -1,\n",
       "        1,  1,  1, -1,  1,  1,  1,  1, -1, -1, -1, -1,  1,  1,  1,  1, -1,\n",
       "       -1,  1,  1,  1,  1, -1])"
      ]
     },
     "execution_count": 18,
     "metadata": {},
     "output_type": "execute_result"
    }
   ],
   "source": [
    "#SVM\n",
    "#モデルをfitさせ、予測するパイプラインを実行\n",
    "ScratchSVC(X_train, X_test, y_train)"
   ]
  },
  {
   "cell_type": "code",
   "execution_count": 19,
   "metadata": {},
   "outputs": [
    {
     "data": {
      "text/plain": [
       "array([-1,  1, -1,  1, -1, -1, -1, -1,  1, -1, -1, -1,  1,  1, -1, -1, -1,\n",
       "        1, -1, -1, -1,  1, -1, -1, -1,  1, -1,  1,  1,  1,  1,  1, -1,  1,\n",
       "       -1,  1, -1,  1,  1,  1, -1, -1,  1,  1, -1,  1, -1, -1, -1, -1, -1,\n",
       "        1,  1,  1, -1,  1, -1,  1,  1, -1, -1, -1, -1,  1, -1,  1,  1, -1,\n",
       "       -1,  1,  1,  1,  1, -1,  1,  1,  1,  1, -1,  1, -1, -1, -1, -1, -1,\n",
       "       -1,  1, -1,  1, -1,  1,  1, -1, -1,  1, -1,  1, -1,  1,  1,  1, -1,\n",
       "        1,  1,  1, -1,  1,  1,  1,  1, -1, -1, -1,  1,  1,  1,  1,  1, -1,\n",
       "       -1,  1,  1,  1,  1, -1])"
      ]
     },
     "execution_count": 19,
     "metadata": {},
     "output_type": "execute_result"
    }
   ],
   "source": [
    "#決定木\n",
    "#モデルをfitさせ、予測するパイプラインを実行\n",
    "ScratchDecisionTreeClassifier(X_train, X_test, y_train)"
   ]
  },
  {
   "cell_type": "markdown",
   "metadata": {},
   "source": [
    "## ・シンプルデータセット2"
   ]
  },
  {
   "cell_type": "code",
   "execution_count": 20,
   "metadata": {},
   "outputs": [],
   "source": [
    "#シンプルデータセット2を作成\n",
    "X = np.array([[-0.44699 , -2.8073  ],[-1.4621  , -2.4586  ],\n",
    "       [ 0.10645 ,  1.9242  ],[-3.5944  , -4.0112  ],\n",
    "       [-0.9888  ,  4.5718  ],[-3.1625  , -3.9606  ],\n",
    "       [ 0.56421 ,  0.72888 ],[-0.60216 ,  8.4636  ],\n",
    "       [-0.61251 , -0.75345 ],[-0.73535 , -2.2718  ],\n",
    "       [-0.80647 , -2.2135  ],[ 0.86291 ,  2.3946  ],\n",
    "       [-3.1108  ,  0.15394 ],[-2.9362  ,  2.5462  ],\n",
    "       [-0.57242 , -2.9915  ],[ 1.4771  ,  3.4896  ],\n",
    "       [ 0.58619 ,  0.37158 ],[ 0.6017  ,  4.3439  ],\n",
    "       [-2.1086  ,  8.3428  ],[-4.1013  , -4.353   ],\n",
    "       [-1.9948  , -1.3927  ],[ 0.35084 , -0.031994],\n",
    "       [ 0.96765 ,  7.8929  ],[-1.281   , 15.6824  ],\n",
    "       [ 0.96765 , 10.083   ],[ 1.3763  ,  1.3347  ],\n",
    "       [-2.234   , -2.5323  ],[-2.9452  , -1.8219  ],\n",
    "       [ 0.14654 , -0.28733 ],[ 0.5461  ,  5.8245  ],\n",
    "       [-0.65259 ,  9.3444  ],[ 0.59912 ,  5.3524  ],\n",
    "       [ 0.50214 , -0.31818 ],[-3.0603  , -3.6461  ],\n",
    "       [-6.6797  ,  0.67661 ],[-2.353   , -0.72261 ],\n",
    "       [ 1.1319  ,  2.4023  ],[-0.12243 ,  9.0162  ],\n",
    "       [-2.5677  , 13.1779  ],[ 0.057313,  5.4681  ]])\n",
    "y = np.array([0, 0, 0, 0, 0, 0, 0, 0, 0, 0, 0, 0, 0, 0, 0, 0, 0, 0, 0, 0, 1, 1,\n",
    "       1, 1, 1, 1, 1, 1, 1, 1, 1, 1, 1, 1, 1, 1, 1, 1, 1, 1])"
   ]
  },
  {
   "cell_type": "code",
   "execution_count": 21,
   "metadata": {},
   "outputs": [],
   "source": [
    "X_train, X_test, y_train, y_test = train_test_split(X, y)"
   ]
  },
  {
   "cell_type": "code",
   "execution_count": 22,
   "metadata": {},
   "outputs": [
    {
     "name": "stderr",
     "output_type": "stream",
     "text": [
      "/Users/yuhisoejima/.pyenv/versions/anaconda3-5.3.1/lib/python3.7/site-packages/sklearn/linear_model/logistic.py:433: FutureWarning: Default solver will be changed to 'lbfgs' in 0.22. Specify a solver to silence this warning.\n",
      "  FutureWarning)\n"
     ]
    },
    {
     "data": {
      "text/plain": [
       "array([1, 0, 0, 0, 1, 1, 1, 0, 0, 1])"
      ]
     },
     "execution_count": 22,
     "metadata": {},
     "output_type": "execute_result"
    }
   ],
   "source": [
    "#ロジスティック回帰\n",
    "#modelをfitさせ、予測するパイプラインを実行\n",
    "ScratchLogisticRegression(X_train, X_test, y_train)"
   ]
  },
  {
   "cell_type": "code",
   "execution_count": 23,
   "metadata": {},
   "outputs": [
    {
     "name": "stderr",
     "output_type": "stream",
     "text": [
      "/Users/yuhisoejima/.pyenv/versions/anaconda3-5.3.1/lib/python3.7/site-packages/sklearn/svm/base.py:196: FutureWarning: The default value of gamma will change from 'auto' to 'scale' in version 0.22 to account better for unscaled features. Set gamma explicitly to 'auto' or 'scale' to avoid this warning.\n",
      "  \"avoid this warning.\", FutureWarning)\n"
     ]
    },
    {
     "data": {
      "text/plain": [
       "array([1, 0, 0, 1, 0, 0, 1, 1, 1, 0])"
      ]
     },
     "execution_count": 23,
     "metadata": {},
     "output_type": "execute_result"
    }
   ],
   "source": [
    "#SVM\n",
    "#モデルをfitさせ、予測するパイプラインを実行\n",
    "ScratchSVC(X_train, X_test, y_train)"
   ]
  },
  {
   "cell_type": "code",
   "execution_count": 24,
   "metadata": {},
   "outputs": [
    {
     "data": {
      "text/plain": [
       "array([1, 0, 0, 1, 0, 0, 1, 1, 1, 0])"
      ]
     },
     "execution_count": 24,
     "metadata": {},
     "output_type": "execute_result"
    }
   ],
   "source": [
    "#決定木\n",
    "#モデルをfitさせ、予測するパイプラインを実行\n",
    "ScratchDecisionTreeClassifier(X_train, X_test, y_train)"
   ]
  },
  {
   "cell_type": "markdown",
   "metadata": {},
   "source": [
    "## 【問題3】 回帰パイプラインの作成\n",
    "\n",
    "回帰は1種類を扱います。pyファイルで実行できる回帰のパイプラインを作成してください。\n",
    "\n",
    "- 線形回帰\n",
    "\n",
    "データセットは事前学習期間同様にHouse Pricesコンペティションのものを使います。\n",
    "\n",
    "[House Prices: Advanced Regression Techniques](https://www.kaggle.com/c/house-prices-advanced-regression-techniques/data)\n",
    "\n",
    "train.csvをダウンロードし、目的変数としてSalePrice、説明変数として、GrLivAreaとYearBuiltを使います。"
   ]
  },
  {
   "cell_type": "markdown",
   "metadata": {},
   "source": [
    "線形回帰のパイプラインを作成し、pyファイルとしてsprint0に格納。"
   ]
  },
  {
   "cell_type": "code",
   "execution_count": 25,
   "metadata": {},
   "outputs": [
    {
     "name": "stderr",
     "output_type": "stream",
     "text": [
      "/Users/yuhisoejima/.pyenv/versions/anaconda3-5.3.1/lib/python3.7/site-packages/sklearn/utils/validation.py:595: DataConversionWarning: Data with input dtype int64 was converted to float64 by StandardScaler.\n",
      "  warnings.warn(msg, DataConversionWarning)\n",
      "/Users/yuhisoejima/.pyenv/versions/anaconda3-5.3.1/lib/python3.7/site-packages/sklearn/utils/validation.py:595: DataConversionWarning: Data with input dtype int64 was converted to float64 by StandardScaler.\n",
      "  warnings.warn(msg, DataConversionWarning)\n",
      "/Users/yuhisoejima/.pyenv/versions/anaconda3-5.3.1/lib/python3.7/site-packages/sklearn/utils/validation.py:595: DataConversionWarning: Data with input dtype int64 was converted to float64 by StandardScaler.\n",
      "  warnings.warn(msg, DataConversionWarning)\n",
      "/Users/yuhisoejima/.pyenv/versions/anaconda3-5.3.1/lib/python3.7/site-packages/sklearn/utils/validation.py:595: DataConversionWarning: Data with input dtype int64 was converted to float64 by StandardScaler.\n",
      "  warnings.warn(msg, DataConversionWarning)\n",
      "/Users/yuhisoejima/.pyenv/versions/anaconda3-5.3.1/lib/python3.7/site-packages/sklearn/utils/validation.py:595: DataConversionWarning: Data with input dtype int64 was converted to float64 by StandardScaler.\n",
      "  warnings.warn(msg, DataConversionWarning)\n",
      "/Users/yuhisoejima/.pyenv/versions/anaconda3-5.3.1/lib/python3.7/site-packages/sklearn/utils/validation.py:595: DataConversionWarning: Data with input dtype int64 was converted to float64 by StandardScaler.\n",
      "  warnings.warn(msg, DataConversionWarning)\n"
     ]
    }
   ],
   "source": [
    "#データセットの読み込み\n",
    "df = pd.read_csv('train.csv')\n",
    "\n",
    "#データの抜き出して、ndarrayに格納\n",
    "X = df[['GrLivArea', 'YearBuilt']].values\n",
    "y = df['SalePrice'].values\n",
    "\n",
    "#データの分割\n",
    "X_train, X_test, y_train, y_test = train_test_split(X, y)\n",
    "\n",
    "#前処理\n",
    "sc_X = StandardScaler()\n",
    "sc_y = StandardScaler()\n",
    "\n",
    "#学習用データをfit_transform\n",
    "X_train_std = sc_X.fit_transform(X_train)\n",
    "y_train_std = sc_y.fit_transform(y_train[:, np.newaxis]).flatten()\n",
    "\n",
    "#検証用データをtransform\n",
    "X_test_std = sc_X.transform(X_test)\n",
    "y_test_std = sc_y.transform(y_test[:, np.newaxis]).flatten()"
   ]
  },
  {
   "cell_type": "code",
   "execution_count": 26,
   "metadata": {},
   "outputs": [],
   "source": [
    "#作成した線形回帰のパイプラインを呼び出し\n",
    "%run ScratchLinearRegression"
   ]
  },
  {
   "cell_type": "code",
   "execution_count": 27,
   "metadata": {
    "scrolled": false
   },
   "outputs": [
    {
     "data": {
      "text/plain": [
       "array([ 3.91323186e-01, -1.48214027e+00, -1.99198109e-01,  1.02193746e+00,\n",
       "       -8.20893059e-02,  4.34169124e-01, -4.33400698e-01,  2.19898088e-01,\n",
       "       -9.98206408e-01,  4.04833042e-01,  5.80301450e-01,  6.60986011e-01,\n",
       "        3.00020784e-01, -8.34292283e-01, -8.50867662e-01, -5.15382496e-01,\n",
       "       -5.01393135e-02, -6.80635203e-01,  7.66373916e-01,  4.14861454e-01,\n",
       "        5.71798909e-01, -7.74434372e-01, -1.01459450e+00,  5.46707206e-01,\n",
       "        7.22175614e-01,  1.46226244e+00, -3.27236076e-01,  9.09471541e-03,\n",
       "        1.38838950e-01,  8.45984548e-02, -5.51879735e-02,  7.81402752e-01,\n",
       "        1.51357238e-01, -3.76039553e-01,  8.10384929e-01, -6.14445176e-01,\n",
       "        3.33025599e-01, -2.97484072e-01, -5.30036755e-01, -3.42015606e-01,\n",
       "       -5.02448287e-01,  2.34807946e+00,  6.21607736e-01,  4.86273648e-01,\n",
       "        1.36553681e+00,  3.12365565e-01, -3.03053253e-01, -3.80665400e-01,\n",
       "       -2.39318647e-01, -4.10993051e-01, -1.37597565e+00,  4.20471979e-01,\n",
       "       -5.88757155e-01, -3.36058067e-01, -7.45146526e-01, -6.33718392e-01,\n",
       "       -7.47622620e-01, -1.35954621e+00,  3.94027914e-01,  1.41708635e+00,\n",
       "       -7.53580159e-01, -6.50209845e-01,  7.88961960e-01,  5.15637293e-01,\n",
       "        1.25703671e-01,  5.34931182e-01,  9.54956930e-01,  4.12746155e-01,\n",
       "       -9.21967297e-01, -4.84399361e-02, -6.18856172e-01,  2.56973776e-01,\n",
       "       -6.82798738e-01,  4.72195036e-01, -1.17094942e+00,  5.37240660e-01,\n",
       "       -2.35079593e-02, -1.01863092e+00, -6.42937249e-02, -4.08850188e-01,\n",
       "        1.39623903e+00,  4.57339706e-01,  7.86069944e-01, -1.15308643e-02,\n",
       "       -5.76357247e-01, -7.26567337e-01, -5.54601046e-01,  7.01716650e-01,\n",
       "       -9.21724882e-01,  1.77787522e-01,  6.09054994e-01,  3.34156220e-01,\n",
       "       -7.53580159e-01,  1.25435798e+00, -1.01342942e+00,  8.20534524e-02,\n",
       "        6.22960100e-01,  4.31450615e-01, -7.32732836e-01,  7.87575142e-01,\n",
       "       -4.71558771e-01, -5.02524189e-03, -4.08822625e-01, -7.66514368e-01,\n",
       "       -1.18718467e+00, -1.25474774e+00,  4.37456389e-01,  3.33407067e-01,\n",
       "        3.45342817e-01,  1.37747945e+00,  4.17725907e-01, -1.80875117e-01,\n",
       "        7.37864352e-02, -7.00148827e-03, -3.23192766e-01,  1.69215863e+00,\n",
       "       -6.79830923e-01,  6.41283092e-01, -7.44543315e-01,  6.14003094e-02,\n",
       "       -1.32461339e+00,  1.48361650e+00,  3.58894018e-01,  6.82610050e-01,\n",
       "        2.20300228e-01, -1.70417002e-01, -4.95311891e-01, -5.88140163e-01,\n",
       "       -7.49744810e-01,  3.65267479e-01,  1.10342839e-01, -8.27833331e-02,\n",
       "        5.77985081e-01, -1.61980567e-02,  6.78941317e-01,  4.84900612e-01,\n",
       "        8.62702689e-02,  1.22818546e-01,  6.53031553e-01, -6.24057666e-01,\n",
       "        5.98541752e-01, -4.11950165e-01, -6.71182438e-01, -7.73876595e-02,\n",
       "        1.33349600e+00,  1.30530588e-01, -1.49580985e+00,  1.02137559e+00,\n",
       "        4.79913969e-01,  1.41932036e-01,  7.25060739e-01, -5.83160411e-01,\n",
       "        1.97977677e+00,  4.50002240e-01, -1.00318616e+00, -5.60613712e-01,\n",
       "        1.66379183e-01,  9.15786616e-01,  1.38991785e-01,  5.49411934e-01,\n",
       "        2.97316057e-01,  4.18155610e-01, -1.63425770e+00,  8.21564635e-01,\n",
       "       -9.00772961e-01, -3.13067883e-01, -7.66514368e-01, -6.41437326e-01,\n",
       "        5.41076009e-01, -7.53580159e-01,  8.20121075e-02,  3.18711463e-01,\n",
       "       -7.76556562e-01,  8.01320523e-01, -1.30138244e-03,  7.11939241e-01,\n",
       "        1.62502490e-01,  3.52333269e-01, -5.87578298e-01, -1.91954568e+00,\n",
       "       -3.27596871e-01, -5.58824754e-01, -8.97652312e-01,  1.10133980e+00,\n",
       "        4.50191094e-02, -6.57311787e-01,  1.42190638e+00,  9.57869619e-01,\n",
       "       -2.89932134e-02,  1.96085745e+00,  1.16833443e-01, -1.73403508e+00,\n",
       "       -1.26690523e+00, -8.34292283e-01,  6.40138689e-01,  1.43146584e-01,\n",
       "        9.37403764e-01,  6.72942434e-01, -4.98057963e-01, -8.34292283e-01,\n",
       "       -9.31607350e-01, -3.43582822e-01, -2.27369116e-01,  6.51720534e-01,\n",
       "        6.37780975e-01,  6.71756686e-01,  5.56361041e-01,  7.17307352e-01,\n",
       "        1.48958179e-01, -2.27188718e-01,  1.48104427e-01,  4.05602868e-01,\n",
       "       -2.21002546e-01,  6.90516272e-01, -5.55954388e-03, -6.79830923e-01,\n",
       "       -5.99361214e-01,  5.74309457e-01, -9.70583485e-01,  1.42442382e+00,\n",
       "        6.65043102e-01, -1.13199395e+00, -2.07312292e-01, -6.84491225e-01,\n",
       "       -4.45516845e-01, -7.51090283e-01, -5.81773593e-01, -9.33715758e-01,\n",
       "        5.52893379e-01, -5.21235436e-01, -7.90281270e-01, -6.36235831e-01,\n",
       "       -6.53240914e-01, -1.09337861e+00, -4.51481275e-01, -5.28136308e-01,\n",
       "        8.79688715e-01, -3.16673362e-01, -6.74497267e-01, -2.94176135e-01,\n",
       "        4.74892872e-01, -8.58454434e-01, -7.00719590e-01, -1.11925236e-01,\n",
       "       -5.91059742e-01,  2.50399246e-01, -8.79066232e-01, -2.96887753e-01,\n",
       "       -1.38584153e-01, -1.38984630e+00, -8.51512217e-01,  1.60622715e-01,\n",
       "       -6.75995574e-01, -5.92800465e-01,  5.85274311e-01,  1.24085501e+00,\n",
       "        4.65828466e-01,  4.71237921e-01,  1.87416596e-02,  8.20807461e-04,\n",
       "       -5.72327719e-01, -4.88349002e-01, -6.83527219e-01, -2.13692643e-01,\n",
       "        6.38980504e-01,  5.29916976e-01,  4.79144143e-01,  1.89799071e-01,\n",
       "       -5.29634615e-01,  7.06737747e-01,  2.54622953e-01, -3.58216409e-01,\n",
       "        7.58467694e-01, -1.66690861e+00, -7.83505669e-01, -5.97606710e-01,\n",
       "       -5.96080839e-01, -2.62523684e-01,  2.64110172e-01, -9.83503913e-01,\n",
       "       -8.31992548e-02, -8.01460975e-01, -2.17948003e-02, -1.78974670e-01,\n",
       "       -5.45751491e-01,  4.45917586e-01, -5.97433203e-01,  6.49952249e-01,\n",
       "        1.72130743e+00,  5.89948394e-01,  4.31665467e-01, -2.27285189e-01,\n",
       "        1.25899416e-02, -8.24090365e-01,  1.48666292e-01, -4.03426952e-01,\n",
       "        1.41959001e+00,  2.70677812e-01, -6.55557283e-01, -1.35259021e+00,\n",
       "       -2.54263557e-01,  6.16337333e-01, -1.50387741e-01,  4.55598984e-01,\n",
       "       -7.27378508e-01, -1.10048745e+00, -2.64638983e-01, -5.64227318e-01,\n",
       "       -1.11844964e+00,  2.98044538e-01, -4.08461830e-01, -4.59415060e-01,\n",
       "       -2.08262516e-01,  7.87422308e-01, -9.21724882e-01, -3.58216409e-01,\n",
       "       -1.45974640e+00, -5.48768779e-01,  5.27787895e-01,  2.72224355e-01,\n",
       "       -5.23496679e-01, -4.43609507e-01,  2.18947865e-01,  4.65174168e-02,\n",
       "       -1.18660213e+00,  2.24305235e+00, -6.17316520e-01, -3.97642920e-01,\n",
       "        3.06581533e-01, -6.83339931e-01,  7.51900054e-01,  1.08102554e+00,\n",
       "        8.31613719e-01, -5.03620253e-01, -4.75664098e-01, -2.48840320e-01,\n",
       "       -1.15359732e+00,  2.78195675e-01,  4.26831658e-01, -7.74240192e-01,\n",
       "        1.64707369e-01,  6.48599885e-01, -1.08546550e+00,  3.96919930e-01,\n",
       "        5.00386715e-01,  5.78748016e-01,  1.10147761e+00, -8.80439268e-01,\n",
       "        6.37621250e-01,  3.23565943e-01,  3.22796117e-01, -6.90677397e-01,\n",
       "       -8.44923905e-01,  1.25294640e-01,  1.88204292e-01,  3.57660035e-01,\n",
       "        4.15839241e-01,  5.73144381e-01,  9.65401264e-01,  5.38995164e-01,\n",
       "       -8.27329394e-01, -2.46295318e-01,  1.24837288e+00,  5.59065769e-01,\n",
       "        1.85166333e-01])"
      ]
     },
     "execution_count": 27,
     "metadata": {},
     "output_type": "execute_result"
    }
   ],
   "source": [
    "#モデルをfitさせ、予測するパイプラインを実行\n",
    "ScratchLinearRegression(X_train_std, X_test_std, y_train_std)"
   ]
  }
 ],
 "metadata": {
  "kernelspec": {
   "display_name": "Python 3",
   "language": "python",
   "name": "python3"
  },
  "language_info": {
   "codemirror_mode": {
    "name": "ipython",
    "version": 3
   },
   "file_extension": ".py",
   "mimetype": "text/x-python",
   "name": "python",
   "nbconvert_exporter": "python",
   "pygments_lexer": "ipython3",
   "version": "3.7.2"
  },
  "varInspector": {
   "cols": {
    "lenName": 16,
    "lenType": 16,
    "lenVar": 40
   },
   "kernels_config": {
    "python": {
     "delete_cmd_postfix": "",
     "delete_cmd_prefix": "del ",
     "library": "var_list.py",
     "varRefreshCmd": "print(var_dic_list())"
    },
    "r": {
     "delete_cmd_postfix": ") ",
     "delete_cmd_prefix": "rm(",
     "library": "var_list.r",
     "varRefreshCmd": "cat(var_dic_list()) "
    }
   },
   "types_to_exclude": [
    "module",
    "function",
    "builtin_function_or_method",
    "instance",
    "_Feature"
   ],
   "window_display": false
  }
 },
 "nbformat": 4,
 "nbformat_minor": 2
}
