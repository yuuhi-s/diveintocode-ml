{
 "cells": [
  {
   "cell_type": "markdown",
   "metadata": {},
   "source": [
    "# Sprint6 機械学習スクラッチ決定木   \n",
    "\n",
    "**この課題の目的**\n",
    "- スクラッチを通して決定木を理解する\n",
    "- 複雑なアルゴリズムの実装に慣れる"
   ]
  },
  {
   "cell_type": "markdown",
   "metadata": {},
   "source": [
    "**スクラッチによる実装**   \n",
    "NumPyなど最低限のライブラリのみを使いアルゴリズムを実装していきます。\n",
    "\n",
    "決定木は分類と回帰双方に使用できますが、分類のみを扱います。\n",
    "\n",
    "必須課題としては空間の分割を1回だけ行う、深さ1の決定木を作成します。それよりも深い決定木の作成はアドバンス課題とします。"
   ]
  },
  {
   "cell_type": "markdown",
   "metadata": {},
   "source": [
    "## 【問題1】 ジニ不純度を求める関数"
   ]
  },
  {
   "cell_type": "markdown",
   "metadata": {},
   "source": [
    "まずは空間を分割するための指標値、ジニ不純度を計算する関数を作成してください。ノード$t$に対するジニ不純度$I(t)$は以下の数式で求まります。\n",
    "\n",
    "$$ I(t) = 1-\\sum_{i=1}^{K}P^2(C_i|t) = 1-\\sum_{i=1}^{K}(\\frac{N_{t,i}}{N_{t,all}})^{2} $$   \n",
    "\n",
    "$t$ : ノードのインデックス\n",
    "\n",
    "$i$ : クラスのインデックス\n",
    "\n",
    "$K$ : クラスの数\n",
    "\n",
    "$C_i$ : i番目のクラス\n",
    "\n",
    "$P(C_i|t)$ :　t番目のノードにおける$C_i$の割合\n",
    "\n",
    "$N_{t,i}$ : t番目のノードのi番目のクラスに属するサンプル数\n",
    "\n",
    "$N_{t,all}$ : t番目のノードのサンプルの総数 \n",
    "\n",
    "まずは簡単な例を作り、手計算と関数の結果を比較してください\n",
    "\n",
    "例   \n",
    "- クラス1:サンプル数15, クラス2:サンプル数15 → ジニ不純度0.500\n",
    "- クラス1:サンプル数15, クラス2:サンプル数15, クラス3:サンプル数15 → ジニ不純度0.667\n",
    "- クラス1:サンプル数18, クラス2:サンプル数12 → ジニ不純度0.480\n",
    "- クラス1:サンプル数30, クラス2:サンプル数0 → ジニ不純度0.000\n",
    "\n",
    "この他にもいくつか試してください。"
   ]
  },
  {
   "cell_type": "code",
   "execution_count": 1,
   "metadata": {},
   "outputs": [],
   "source": [
    "from sklearn.metrics import accuracy_score, precision_score, recall_score, f1_score\n",
    "from sklearn.preprocessing import StandardScaler\n",
    "from sklearn.model_selection import train_test_split\n",
    "from sklearn.tree import DecisionTreeClassifier\n",
    "import numpy as np\n",
    "import pandas as pd\n",
    "import matplotlib.pyplot as plt\n",
    "from matplotlib.colors import ListedColormap\n",
    "import matplotlib.patches as mpatches\n",
    "% matplotlib inline"
   ]
  },
  {
   "cell_type": "markdown",
   "metadata": {},
   "source": [
    "クラス1 : 15, クラス2 : 15のジニ不純度"
   ]
  },
  {
   "cell_type": "code",
   "execution_count": 2,
   "metadata": {
    "scrolled": true
   },
   "outputs": [
    {
     "data": {
      "text/plain": [
       "0.5"
      ]
     },
     "execution_count": 2,
     "metadata": {},
     "output_type": "execute_result"
    }
   ],
   "source": [
    "1 - ((15 / 30)**2 + (15 / 30)**2)"
   ]
  },
  {
   "cell_type": "markdown",
   "metadata": {},
   "source": [
    "クラス1 : 15, クラス2 : 15, クラス3 : 15ののジニ不純度"
   ]
  },
  {
   "cell_type": "code",
   "execution_count": 3,
   "metadata": {},
   "outputs": [
    {
     "data": {
      "text/plain": [
       "0.6666666666666667"
      ]
     },
     "execution_count": 3,
     "metadata": {},
     "output_type": "execute_result"
    }
   ],
   "source": [
    "1 - ((15 / 45)**2 + (15 / 45)**2 + (15 / 45)**2)"
   ]
  },
  {
   "cell_type": "markdown",
   "metadata": {},
   "source": [
    "クラス1 : 18, クラス2 : 12のジニ不純度"
   ]
  },
  {
   "cell_type": "code",
   "execution_count": 4,
   "metadata": {},
   "outputs": [
    {
     "data": {
      "text/plain": [
       "0.48"
      ]
     },
     "execution_count": 4,
     "metadata": {},
     "output_type": "execute_result"
    }
   ],
   "source": [
    "1 - ((18 / 30) ** 2 + (12 / 30) ** 2)"
   ]
  },
  {
   "cell_type": "markdown",
   "metadata": {},
   "source": [
    "クラス1 : 30, クラス2 : 0のジニ不純度"
   ]
  },
  {
   "cell_type": "code",
   "execution_count": 5,
   "metadata": {},
   "outputs": [
    {
     "data": {
      "text/plain": [
       "0.0"
      ]
     },
     "execution_count": 5,
     "metadata": {},
     "output_type": "execute_result"
    }
   ],
   "source": [
    "1 - ((30 / 30) ** 2 + (0 / 30) ** 2)"
   ]
  },
  {
   "cell_type": "markdown",
   "metadata": {},
   "source": [
    "適当なラベルの配列を作り関数と結果を比較する"
   ]
  },
  {
   "cell_type": "code",
   "execution_count": 6,
   "metadata": {},
   "outputs": [
    {
     "data": {
      "text/plain": [
       "array([[0],\n",
       "       [0],\n",
       "       [0],\n",
       "       [1],\n",
       "       [1]])"
      ]
     },
     "execution_count": 6,
     "metadata": {},
     "output_type": "execute_result"
    }
   ],
   "source": [
    "y = np.array([[0],\n",
    "              [0],\n",
    "              [0],\n",
    "              [1],\n",
    "              [1]])\n",
    "\n",
    "y"
   ]
  },
  {
   "cell_type": "code",
   "execution_count": 7,
   "metadata": {},
   "outputs": [
    {
     "data": {
      "text/plain": [
       "0.48"
      ]
     },
     "execution_count": 7,
     "metadata": {},
     "output_type": "execute_result"
    }
   ],
   "source": [
    "1 - ((3 / 5) ** 2 + (2 / 5) ** 2)"
   ]
  },
  {
   "cell_type": "code",
   "execution_count": 8,
   "metadata": {},
   "outputs": [],
   "source": [
    "def _gini_impure(y):\n",
    "    '''\n",
    "    ジニ不純度を計算する\n",
    "\n",
    "    Parameters\n",
    "     ----------\n",
    "    y : 次の形のndarray, shape (n_samples, 1)\n",
    "        学習用データのラベル\n",
    "\n",
    "    Returns\n",
    "    ----------\n",
    "    gini : float\n",
    "        ジニ不純度\n",
    "    '''\n",
    "    # yのクラスのユニーク値を取得\n",
    "    y_unique = np.unique(y)\n",
    "\n",
    "    # ラベルの総数を取得\n",
    "    labels = len(y)\n",
    "\n",
    "    # ラベルの総数が0の時はジニ不純度を0とする\n",
    "    if labels == 0:\n",
    "        gini = 0\n",
    "        return gini\n",
    "\n",
    "    # 初期値\n",
    "    gini = 1\n",
    "\n",
    "    # クラスの数だけ実行\n",
    "    for i in y_unique:\n",
    "        # あるクラスに属するサンプル数とノードのサンプルの総数を割る\n",
    "        val = len(y[y == i]) / labels\n",
    "\n",
    "        # 2乗したものを初期値から引く\n",
    "        gini = gini - val**2.0\n",
    "\n",
    "    return gini"
   ]
  },
  {
   "cell_type": "code",
   "execution_count": 9,
   "metadata": {},
   "outputs": [
    {
     "data": {
      "text/plain": [
       "0.48"
      ]
     },
     "execution_count": 9,
     "metadata": {},
     "output_type": "execute_result"
    }
   ],
   "source": [
    "_gini_impure(y)"
   ]
  },
  {
   "cell_type": "markdown",
   "metadata": {},
   "source": [
    "手計算と関数で同じ結果となった。"
   ]
  },
  {
   "cell_type": "markdown",
   "metadata": {},
   "source": [
    "## 【問題2】 情報利得を求める関数"
   ]
  },
  {
   "cell_type": "markdown",
   "metadata": {},
   "source": [
    "次に、情報利得を計算する関数を作成してください。先ほど作成したジニ不純度$I(t)$を計算する関数を呼び出して使います。情報利得$IG$は以下の数式で求まります。\n",
    "\n",
    "$$ IG(p) = I(p)-\\frac{N_{left,all}}{N_{p,all}}I(left)-\\frac{N_{right,all}}{N_{p,all}}I(right) $$\n",
    "\n",
    "$p$ : 親ノードを示すインデックス\n",
    "\n",
    "$left$ : 左側のノードを示すインデックス\n",
    "\n",
    "$right$ : 右側のノードを示すインデックス\n",
    "\n",
    "まずは簡単な例を作り、手計算と関数の結果を比較してください。\n",
    "\n",
    "例   \n",
    "左ノードクラス1:サンプル数10, 左ノードクラス2:サンプル数30, 右ノードクラス1:サンプル数20, 右ノードクラス2:サンプル数5 → 情報利得0.143\n",
    "\n",
    "この他にもいくつか試してください。"
   ]
  },
  {
   "cell_type": "markdown",
   "metadata": {},
   "source": [
    "左ノードクラス1:サンプル数10, 左ノードクラス2:サンプル数30, 右ノードクラス1:サンプル数20, 右ノードクラス2:サンプル数5"
   ]
  },
  {
   "cell_type": "code",
   "execution_count": 10,
   "metadata": {
    "scrolled": false
   },
   "outputs": [
    {
     "data": {
      "text/plain": [
       "0.4970414201183432"
      ]
     },
     "execution_count": 10,
     "metadata": {},
     "output_type": "execute_result"
    }
   ],
   "source": [
    "# 親ノード\n",
    "p = 1 - ((30 / 65)**2 + (35 / 65)**2)\n",
    "p"
   ]
  },
  {
   "cell_type": "code",
   "execution_count": 11,
   "metadata": {},
   "outputs": [
    {
     "data": {
      "text/plain": [
       "0.23076923076923078"
      ]
     },
     "execution_count": 11,
     "metadata": {},
     "output_type": "execute_result"
    }
   ],
   "source": [
    "# 左\n",
    "left = (40 / 65) * (1 - ((10 / 40) ** 2 + (30 / 40)**2))\n",
    "left"
   ]
  },
  {
   "cell_type": "code",
   "execution_count": 12,
   "metadata": {},
   "outputs": [
    {
     "data": {
      "text/plain": [
       "0.12307692307692303"
      ]
     },
     "execution_count": 12,
     "metadata": {},
     "output_type": "execute_result"
    }
   ],
   "source": [
    "# 右\n",
    "right = (25 / 65) * (1 - ((20 / 25)**2 + (5 / 25)**2))\n",
    "right"
   ]
  },
  {
   "cell_type": "code",
   "execution_count": 13,
   "metadata": {},
   "outputs": [
    {
     "data": {
      "text/plain": [
       "0.14319526627218937"
      ]
     },
     "execution_count": 13,
     "metadata": {},
     "output_type": "execute_result"
    }
   ],
   "source": [
    "# 情報利得\n",
    "p - left - right"
   ]
  },
  {
   "cell_type": "markdown",
   "metadata": {},
   "source": [
    "関数を作成し、手計算と比較する。"
   ]
  },
  {
   "cell_type": "code",
   "execution_count": 14,
   "metadata": {},
   "outputs": [],
   "source": [
    "# 親ノード\n",
    "p1 = np.zeros(30)\n",
    "p2 = np.ones(35)\n",
    "p = np.concatenate([p1, p2])[:, np.newaxis]\n",
    "\n",
    "# 左ノード\n",
    "left1 = np.zeros(10)\n",
    "left2 = np.ones(30)\n",
    "left = np.concatenate([left1, left2])[:, np.newaxis]\n",
    "\n",
    "# 右ノード\n",
    "right1 = np.zeros(20)\n",
    "right2 = np.ones(5)\n",
    "right = np.concatenate([right1, right2])[:, np.newaxis]"
   ]
  },
  {
   "cell_type": "code",
   "execution_count": 15,
   "metadata": {},
   "outputs": [],
   "source": [
    "def _information_gain(y_p, y_left, y_right):\n",
    "    '''\n",
    "    情報利得を計算する\n",
    "\n",
    "    Parameters\n",
    "    ----------\n",
    "    y_p : 次の形のndarray, shape (n_samples, 1)\n",
    "        親ノードの学習用データのラベル\n",
    "    y_left : 次の形のndarray, shape (n_samples, 1)\n",
    "        左側のノードの学習用データのラベル\n",
    "    y_right : 次の形のndarray, shape (n_samples, 1)\n",
    "        右側のノードの学習用データのラベル\n",
    "\n",
    "    Returns\n",
    "    ----------\n",
    "    ig : float\n",
    "        情報利得\n",
    "    '''\n",
    "    # 親ノード、左側のノード、右側のノードのジニ不純度の計算\n",
    "    p = _gini_impure(y_p)\n",
    "    left = _gini_impure(y_left)\n",
    "    right = _gini_impure(y_right)\n",
    "\n",
    "    # 情報利得の計算\n",
    "    ig = p - (len(y_left) / len(y_p) * left) - (len(y_right) / len(y_p) * right)\n",
    "\n",
    "    return ig"
   ]
  },
  {
   "cell_type": "code",
   "execution_count": 16,
   "metadata": {},
   "outputs": [
    {
     "data": {
      "text/plain": [
       "0.14319526627218943"
      ]
     },
     "execution_count": 16,
     "metadata": {},
     "output_type": "execute_result"
    }
   ],
   "source": [
    "_information_gain(p, left, right)"
   ]
  },
  {
   "cell_type": "markdown",
   "metadata": {},
   "source": [
    "手計算で行ったものと同じ結果になった。"
   ]
  },
  {
   "cell_type": "markdown",
   "metadata": {},
   "source": [
    "## 【問題3】 深さ1の決定木分類器クラスの作成"
   ]
  },
  {
   "cell_type": "markdown",
   "metadata": {},
   "source": [
    "深さが1の決定機分類器のクラスを作成し、Sprint2で作成した分類のパイプラインに組み込んでください。\n",
    "\n",
    "クラスの基本構造はSprint3の線形回帰を参考にし、名前は\n",
    "<font color='red'>ScratchDecesionTreeClassifier</font>としてください。\n",
    "\n",
    "メソッドやパラメータなどはscikit-learnを参考にしてください。\n",
    "\n",
    "[sklearn.tree.DecisionTreeClassifier — scikit-learn 0.20.2 documentation](https://scikit-learn.org/stable/modules/generated/sklearn.tree.DecisionTreeClassifier.html)\n",
    "\n",
    "検証段階ではJupyter Notebook上で書いていき、最終的にはpyファイルにモジュールとしてまとめてください。\n",
    "\n",
    "深さ1とは空間の分割を1回だけ行うことを指します。\n",
    "\n",
    "決定木のアルゴリズム\n",
    "\n",
    "ある特徴量の軸に対して、全てのパターンのしきい値を考え、それぞれの情報利得を計算していきます。各点の値をしきい値にする方法が一般的です。（ただし、実際にはしきい値の数は点の数よりひとつ少なくて良いことになります）分割の全候補の中で最も情報利得が大きくなるものをそのノードの分割方法として採用します。\n",
    "\n",
    "ジニ不純度が0になるノード、または指定された深さのノードは葉と呼ばれます。葉にはそれぞれ推定時にどのクラスに分類するかを記録しておきます。ジニ不純度が0でない場合は、多数決により分類するクラスを決定します。\n",
    "\n",
    "ヒント\n",
    "\n",
    "これまでのスクラッチ課題に比べてアルゴリズムが複雑です。コードを書く前に、フローチャートなどで整理するようにしましょう。"
   ]
  },
  {
   "cell_type": "markdown",
   "metadata": {},
   "source": [
    "## 【問題4】 深さ2の決定木分類器クラスの作成"
   ]
  },
  {
   "cell_type": "markdown",
   "metadata": {},
   "source": [
    "問題3で作成したクラスを発展させ、深さが2の決定木分類器のクラスを作成してください。\n",
    "\n",
    "深さ2とは空間の分割を2回行うことを指します。\n",
    "\n",
    "ヒント\n",
    "\n",
    "各ノードをインスタンスとして扱うと、任意の深さへの拡張が行いやすくなります。"
   ]
  },
  {
   "cell_type": "markdown",
   "metadata": {},
   "source": [
    "## 【問題5】 任意の深さに対応できる決定木分類器クラスの作成"
   ]
  },
  {
   "cell_type": "markdown",
   "metadata": {},
   "source": [
    "問題3,4で作成したクラスを発展させ、任意の深さに対応できる決定木分類器のクラスを作成してください。深さを特定の値で指定せず、全ての葉がジニ不純度0となるまで続けられるようにしてください。"
   ]
  },
  {
   "cell_type": "markdown",
   "metadata": {},
   "source": [
    "以下で問題3, 4で作成しクラスを発展させ、任意の深さに対応できるクラスを作成した。"
   ]
  },
  {
   "cell_type": "code",
   "execution_count": 17,
   "metadata": {},
   "outputs": [],
   "source": [
    "import numpy as np\n",
    "\n",
    "class ScratchDecesionTreeClassifier():\n",
    "    '''\n",
    "    決定木のスクラッチ実装\n",
    "\n",
    "    Parameters\n",
    "    --------------\n",
    "    max_depth : int\n",
    "        決定木の深さ\n",
    "\n",
    "    Attributes\n",
    "    -------------\n",
    "    self.node : instance\n",
    "        Nodeクラスのインスタンス\n",
    "    '''\n",
    "\n",
    "    def __init__(self, max_depth=None):\n",
    "        # ハイパーパラメータ\n",
    "        self.max_depth = max_depth  # 木の最大の深さ\n",
    "\n",
    "        # インスタンス変数\n",
    "        self.node = None  # Nodeクラスのインスタンス\n",
    "        \n",
    "\n",
    "    def fit(self, X, y):\n",
    "        '''\n",
    "        決定木を学習する。\n",
    "\n",
    "        Parameters\n",
    "        ----------\n",
    "        X : 次の形のndarray, shape (n_samples, n_features)\n",
    "            学習用データの特徴量\n",
    "        y : 次の形のndarray, shape (n_samples, )\n",
    "            学習用データの正解値\n",
    "        '''\n",
    "        # 1次元なら2次元にする\n",
    "        if X.ndim == 1:\n",
    "            X = X[:, np.newaxis]\n",
    "        if y.ndim == 1:\n",
    "            y = y[:, np.newaxis]\n",
    "\n",
    "        # Nodeクラスをインスタンス化\n",
    "        self.node = Node(self.max_depth)\n",
    "\n",
    "        # Nodeクラスで学習\n",
    "        self.node.node_split(X, y, 0)\n",
    "\n",
    "\n",
    "    def predict(self, X):\n",
    "        '''\n",
    "        決定木を使いラベルを推定する。\n",
    "\n",
    "        Parameters\n",
    "        ----------\n",
    "        X : 次の形のndarray, shape (n_samples, n_features)\n",
    "            検証用データの特徴量\n",
    "\n",
    "        Returns\n",
    "        -------\n",
    "        y_pred : 次の形のndarray, shape (n_samples, 1)\n",
    "            予測したラベル\n",
    "        '''\n",
    "        # 1次元なら2次元にする\n",
    "        if X.ndim == 1:\n",
    "            X = X[:, np.newaxis]\n",
    "\n",
    "        # ラベルを格納していくリスト\n",
    "        y_pred = []\n",
    "\n",
    "        # データのサンプル数だけ予測\n",
    "        for i in X:\n",
    "            y_pred.append(self.node.predict(i))\n",
    "        \n",
    "        #numpy配列でReturn\n",
    "        return np.array(y_pred)\n",
    "\n",
    "\n",
    "class Node():\n",
    "    '''\n",
    "    決定木のノードを分けるクラス\n",
    "\n",
    "    Parameters\n",
    "    --------------\n",
    "    max_depth : int\n",
    "        決定木の深さ\n",
    "\n",
    "    Attributes\n",
    "    -------------\n",
    "    self.depth : int\n",
    "        木の深さ\n",
    "    self.info_gein : float\n",
    "        最大の情報利得\n",
    "    self.feature : int\n",
    "        情報利得が最大の時の特徴量の列番号\n",
    "    self.threshold : float\n",
    "        情報利得が最大の時のしきい値\n",
    "    self.left_node : instance\n",
    "        左側のノード\n",
    "    self.right_node : instance\n",
    "        右側のノード\n",
    "    self.label : int\n",
    "        予測ラベル\n",
    "    '''\n",
    "    def __init__(self, max_depth=None):\n",
    "        # ハイパーパラメータ\n",
    "        self.max_depth = max_depth  # 木の最大の深さ\n",
    "\n",
    "        # インスタンス変数\n",
    "        self.depth          = None  # 木の深さ\n",
    "        self.info_gain    = None  # 最大の情報利得\n",
    "        self.feature        = None  # 情報利得が最大のときの特徴量の列番号\n",
    "        self.threshold     = None  # 情報利得が最大のときのしきい値\n",
    "        self.left_node    = None  # 左ノードのインスタンス\n",
    "        self.right_node  = None  # 右ノードのインスタンス\n",
    "        self.label             = None  # 予測ラベル\n",
    "\n",
    "\n",
    "    def node_split(self, X, y, depth):\n",
    "        '''\n",
    "        ノードを分ける関数\n",
    "\n",
    "        Parameters\n",
    "        ----------\n",
    "        X : 次の形のndarray, shape (n_samples, n_features)\n",
    "            学習用データの特徴量\n",
    "        y : 次の形のndarray, shape (n_samples, 1)\n",
    "            学習用データの正解値\n",
    "        depth : int\n",
    "            木の深さ\n",
    "        '''\n",
    "        # 木の深さ\n",
    "        self.depth = depth\n",
    "\n",
    "        # dict{クラス名: ラベルの数}\n",
    "        class_count = {i: len(y[y == i]) for i in np.unique(y)}\n",
    "\n",
    "        # ラベルの数が最大のクラス名\n",
    "        self.label = max(class_count.items(), key=lambda x: x[1])[0]\n",
    "\n",
    "        # 木の深さが最大のときReturn\n",
    "        if self.depth == self.max_depth:\n",
    "            return\n",
    "\n",
    "        # 特徴量の数\n",
    "        num_features = X.shape[1]\n",
    "\n",
    "        # 情報利得の初期値\n",
    "        self.info_gain = 0\n",
    "\n",
    "        # 特徴量の列数実施\n",
    "        for f in range(num_features):\n",
    "            # 特徴量の行数実施\n",
    "            for threshold in X[:, f]:\n",
    "\n",
    "                # あるしきい値を設定したときのノードと情報利得\n",
    "                left = y[X[:, f] < threshold]  # 左ノード\n",
    "                right = y[X[:, f] >= threshold]  # 右ノード\n",
    "                ig = self._information_gain(y, left, right)  # 情報利得\n",
    "\n",
    "                # 情報利得が今までより上回った時更新\n",
    "                if self.info_gain < ig:\n",
    "                    self.info_gain = ig  # 情報利得\n",
    "                    self.feature = f  # 特徴量の列番号\n",
    "                    self.threshold = threshold  # しきい値\n",
    "\n",
    "        # 情報利得が0のときReturn\n",
    "        if self.info_gain == 0:\n",
    "            return\n",
    "\n",
    "        # 左側のノード\n",
    "        X_left = X[X[:, self.feature] < self.threshold]  # サンプル\n",
    "        y_left = y[X[:, self.feature] < self.threshold]  # ラベル\n",
    "        self.left_node = Node(self.max_depth)  # インスタンス化\n",
    "        self.left_node.node_split(X_left, y_left, depth + 1)  # 再度分割\n",
    "\n",
    "        # 右側のノード\n",
    "        X_right = X[X[:, self.feature] >= self.threshold]  # サンプル\n",
    "        y_right = y[X[:, self.feature] >= self.threshold]  # ラベル\n",
    "        self.right_node = Node(self.max_depth)  # インスタンス化\n",
    "        self.right_node.node_split(X_right, y_right, depth + 1)  # 再度分割\n",
    "\n",
    "\n",
    "    def predict(self, X):\n",
    "        '''\n",
    "        ラベルを推定する\n",
    "\n",
    "        Parameters\n",
    "        ----------\n",
    "        X : 次の形のndarray, shape (n_samples, n_features)\n",
    "            検証用データの特徴量\n",
    "\n",
    "        Returns\n",
    "        ----------\n",
    "        self.label : int\n",
    "            予測したラベル\n",
    "        self.left_node.predict(X) : method\n",
    "            左のノードで予測するメソッド\n",
    "        self.right_node.predict(X) : method\n",
    "            右のノードで予測するメソッド\n",
    "        '''\n",
    "        #特徴量の列番号がない(ノードの時など) or 深さが最大ならラベルをReturn\n",
    "        if self.feature == None or self.depth == self.max_depth:\n",
    "            return self.label\n",
    "\n",
    "        else:\n",
    "            '''\n",
    "            ある列のある特徴量がしきい値未満のときは左ノード、\n",
    "            しきい値以上のときは右ノードを返し、多数決で予測\n",
    "            '''\n",
    "            if X[self.feature] < self.threshold:\n",
    "                return self.left_node.predict(X) #左ノード\n",
    "            else:\n",
    "                return self.right_node.predict(X) #右ノード\n",
    "\n",
    "    \n",
    "    def _gini_impure(self, y):\n",
    "        '''\n",
    "        ジニ不純度を計算する\n",
    "\n",
    "        Parameters\n",
    "        ----------\n",
    "        y : 次の形のndarray, shape (n_samples, 1)\n",
    "            学習用データのラベル\n",
    "\n",
    "        Returns\n",
    "        ----------\n",
    "        gini : float\n",
    "            ジニ不純度\n",
    "        '''\n",
    "        # yのクラスのユニーク値を取得\n",
    "        y_unique = np.unique(y)\n",
    "\n",
    "        # ラベルの総数を取得\n",
    "        labels = len(y)\n",
    "\n",
    "        # ラベルの総数が0の時はジニ不純度を0とする\n",
    "        if labels == 0:\n",
    "            gini = 0\n",
    "            return gini\n",
    "\n",
    "        # 初期値\n",
    "        gini = 1\n",
    "\n",
    "        # クラスの数だけ実行\n",
    "        for i in y_unique:\n",
    "            val = len(y[y == i]) / labels # あるクラスに属するサンプル数とノードのサンプルの総数を割る\n",
    "            gini = gini - val**2.0  # 2乗したものを初期値から引く\n",
    "\n",
    "        return gini\n",
    "    \n",
    "\n",
    "    def _information_gain(self, y_p, y_left, y_right):\n",
    "        '''\n",
    "        情報利得を計算する\n",
    "\n",
    "        Parameters\n",
    "        ----------\n",
    "        y_p : 次の形のndarray, shape (n_samples, 1)\n",
    "            親ノードの学習用データのラベル\n",
    "        y_left : 次の形のndarray, shape (n_samples, 1)\n",
    "            左側のノードの学習用データのラベル\n",
    "        y_right : 次の形のndarray, shape (n_samples, 1)\n",
    "            右側のノードの学習用データのラベル\n",
    "\n",
    "        Returns\n",
    "        ----------\n",
    "        ig : float\n",
    "            情報利得\n",
    "        '''\n",
    "        #ジニ不純度の計算\n",
    "        p = self._gini_impure(y_p)  #親ノード\n",
    "        left = self._gini_impure(y_left) #左側のノード\n",
    "        right = self._gini_impure(y_right) #右側のノード\n",
    "\n",
    "        # 情報利得の計算\n",
    "        ig = p - (len(y_left) / len(y_p) * left) - (len(y_right) / len(y_p) * right)\n",
    "\n",
    "        return ig"
   ]
  },
  {
   "cell_type": "markdown",
   "metadata": {},
   "source": [
    "シンプルデータセット2でscikit learnと比較"
   ]
  },
  {
   "cell_type": "code",
   "execution_count": 18,
   "metadata": {},
   "outputs": [],
   "source": [
    "# シンプルデータセット2を作成\n",
    "X = np.array([[-0.44699, -2.8073], [-1.4621, -2.4586],\n",
    "              [0.10645,  1.9242], [-3.5944, -4.0112],\n",
    "              [-0.9888,  4.5718], [-3.1625, -3.9606],\n",
    "              [0.56421,  0.72888], [-0.60216,  8.4636],\n",
    "              [-0.61251, -0.75345], [-0.73535, -2.2718],\n",
    "              [-0.80647, -2.2135], [0.86291,  2.3946],\n",
    "              [-3.1108,  0.15394], [-2.9362,  2.5462],\n",
    "              [-0.57242, -2.9915], [1.4771,  3.4896],\n",
    "              [0.58619,  0.37158], [0.6017,  4.3439],\n",
    "              [-2.1086,  8.3428], [-4.1013, -4.353],\n",
    "              [-1.9948, -1.3927], [0.35084, -0.031994],\n",
    "              [0.96765,  7.8929], [-1.281, 15.6824],\n",
    "              [0.96765, 10.083], [1.3763,  1.3347],\n",
    "              [-2.234, -2.5323], [-2.9452, -1.8219],\n",
    "              [0.14654, -0.28733], [0.5461,  5.8245],\n",
    "              [-0.65259,  9.3444], [0.59912,  5.3524],\n",
    "              [0.50214, -0.31818], [-3.0603, -3.6461],\n",
    "              [-6.6797,  0.67661], [-2.353, -0.72261],\n",
    "              [1.1319,  2.4023], [-0.12243,  9.0162],\n",
    "              [-2.5677, 13.1779], [0.057313,  5.4681]])\n",
    "y = np.array([0, 0, 0, 0, 0, 0, 0, 0, 0, 0, 0, 0, 0, 0, 0, 0, 0, 0, 0, 0, 1, 1,\n",
    "              1, 1, 1, 1, 1, 1, 1, 1, 1, 1, 1, 1, 1, 1, 1, 1, 1, 1])"
   ]
  },
  {
   "cell_type": "code",
   "execution_count": 19,
   "metadata": {},
   "outputs": [],
   "source": [
    "# データを分割\n",
    "X_train, X_test, y_train, y_test = train_test_split(X, y, test_size=0.25)\n",
    "\n",
    "# 学習用データをfit(平均と標準偏差を計算)し、transform(標準化)\n",
    "sc = StandardScaler()\n",
    "X_train_std = sc.fit_transform(X_train)\n",
    "\n",
    "# 検証用データをtransform(標準化)\n",
    "X_test_std = sc.transform(X_test)"
   ]
  },
  {
   "cell_type": "markdown",
   "metadata": {},
   "source": [
    "スクラッチしたクラス"
   ]
  },
  {
   "cell_type": "code",
   "execution_count": 20,
   "metadata": {
    "scrolled": false
   },
   "outputs": [],
   "source": [
    "# 学習\n",
    "stree = ScratchDecesionTreeClassifier()\n",
    "stree.fit(X_train_std, y_train)"
   ]
  },
  {
   "cell_type": "code",
   "execution_count": 21,
   "metadata": {},
   "outputs": [
    {
     "data": {
      "text/plain": [
       "array([1, 0, 0, 1, 0, 1, 1, 0, 0, 1])"
      ]
     },
     "execution_count": 21,
     "metadata": {},
     "output_type": "execute_result"
    }
   ],
   "source": [
    "# 予測\n",
    "y_pred_s = stree.predict(X_test_std)\n",
    "y_pred_s"
   ]
  },
  {
   "cell_type": "markdown",
   "metadata": {},
   "source": [
    "sklearn"
   ]
  },
  {
   "cell_type": "code",
   "execution_count": 22,
   "metadata": {},
   "outputs": [
    {
     "data": {
      "text/plain": [
       "array([1, 0, 0, 1, 0, 1, 1, 1, 0, 1])"
      ]
     },
     "execution_count": 22,
     "metadata": {},
     "output_type": "execute_result"
    }
   ],
   "source": [
    "#学習\n",
    "tree = DecisionTreeClassifier()\n",
    "tree.fit(X_train_std, y_train)\n",
    "\n",
    "# 予測\n",
    "y_pred = tree.predict(X_test_std)\n",
    "y_pred"
   ]
  },
  {
   "cell_type": "markdown",
   "metadata": {},
   "source": [
    "## 【問題6】 指標値の算出"
   ]
  },
  {
   "cell_type": "markdown",
   "metadata": {},
   "source": [
    "分類に関する指標値で精度を確認してください。"
   ]
  },
  {
   "cell_type": "code",
   "execution_count": 23,
   "metadata": {},
   "outputs": [],
   "source": [
    "def evalution(y_test, y_pred):\n",
    "    '''\n",
    "     分類問題の指標値を出力する関数\n",
    "\n",
    "     Paraeters\n",
    "     -------------\n",
    "    y_test : 次の形のndarray, shape (n_samples, )\n",
    "        正解値\n",
    "    y_pred : 次の形のndarray, shape (n_samples, )\n",
    "        予測したラベル\n",
    "    '''\n",
    "    # accuracy\n",
    "    accuracy = accuracy_score(y_test, y_pred)\n",
    "    print('accuracy :', accuracy)\n",
    "\n",
    "    # precision\n",
    "    precision = precision_score(y_test, y_pred)\n",
    "    print('precision :', precision)\n",
    "\n",
    "    # recall\n",
    "    recall = recall_score(y_test, y_pred)\n",
    "    print('recall :', recall)\n",
    "\n",
    "    # f1\n",
    "    f1 = f1_score(y_test, y_pred)\n",
    "    print('f1 :', f1)"
   ]
  },
  {
   "cell_type": "markdown",
   "metadata": {},
   "source": [
    "スクラッチしたクラス"
   ]
  },
  {
   "cell_type": "code",
   "execution_count": 24,
   "metadata": {},
   "outputs": [
    {
     "name": "stdout",
     "output_type": "stream",
     "text": [
      "accuracy : 0.7\n",
      "precision : 0.6\n",
      "recall : 0.75\n",
      "f1 : 0.6666666666666665\n"
     ]
    }
   ],
   "source": [
    "evalution(y_test, y_pred_s)"
   ]
  },
  {
   "cell_type": "markdown",
   "metadata": {},
   "source": [
    "sklearn"
   ]
  },
  {
   "cell_type": "code",
   "execution_count": 25,
   "metadata": {},
   "outputs": [
    {
     "name": "stdout",
     "output_type": "stream",
     "text": [
      "accuracy : 0.6\n",
      "precision : 0.5\n",
      "recall : 0.75\n",
      "f1 : 0.6\n"
     ]
    }
   ],
   "source": [
    "evalution(y_test, y_pred)"
   ]
  },
  {
   "cell_type": "markdown",
   "metadata": {},
   "source": [
    "## 【問題7】 決定領域の可視化"
   ]
  },
  {
   "cell_type": "markdown",
   "metadata": {},
   "source": [
    "2値分類のデータセットに対して決定領域を可視化してください。"
   ]
  },
  {
   "cell_type": "code",
   "execution_count": 26,
   "metadata": {},
   "outputs": [],
   "source": [
    "def decision_region(X_train, y_train, model, step=0.01, title='decision region',\n",
    "                    xlabel='xlabel', ylabel='ylabel', target_names=['versicolor', 'virginica']):\n",
    "    \"\"\"\n",
    "    2値分類を2次元の特徴量で学習したモデルの決定領域を描く。\n",
    "    背景の色が学習したモデルによる推定値から描画される。\n",
    "    散布図の点は学習用データである。\n",
    "\n",
    "    Parameters\n",
    "    ----------------\n",
    "    X_train : ndarray, shape(n_samples, 2)\n",
    "        学習用データの特徴量\n",
    "    y_train : ndarray, shape(n_samples, 1)\n",
    "        学習用データの正解値\n",
    "    model : object\n",
    "        学習したモデルのインスンタスを入れる\n",
    "    step : float, (default : 0.1)\n",
    "        推定値を計算する間隔を設定する\n",
    "    title : str\n",
    "        グラフのタイトルの文章を与える\n",
    "    xlabel, ylabel : str\n",
    "        軸ラベルの文章を与える\n",
    "    target_names= : list of str\n",
    "        凡例の一覧を与える\n",
    "    \"\"\"\n",
    "    # setting\n",
    "    scatter_color = ['red', 'blue']\n",
    "    contourf_color = ['pink', 'skyblue']\n",
    "    n_class = 2\n",
    "\n",
    "    # pred\n",
    "    mesh_f0, mesh_f1 = np.meshgrid(np.arange(np.min(X_train[:, 0])-0.5, np.max(X_train[:, 0])+0.5, step),\n",
    "                                   np.arange(np.min(X_train[:, 1])-0.5, np.max(X_train[:, 1])+0.5, step))\n",
    "    mesh = np.c_[np.ravel(mesh_f0), np.ravel(mesh_f1)]\n",
    "    pred = model.predict(mesh).reshape(mesh_f0.shape)\n",
    "\n",
    "    # plot\n",
    "    plt.title(title)\n",
    "    plt.xlabel(xlabel)\n",
    "    plt.ylabel(ylabel)\n",
    "    plt.contourf(mesh_f0, mesh_f1, pred, n_class-1,\n",
    "                 cmap=ListedColormap(contourf_color))\n",
    "    plt.contour(mesh_f0, mesh_f1, pred, n_class-1,\n",
    "                colors='y', linewidths=3, alpha=0.5)\n",
    "    for i, target in enumerate(set(y_train)):\n",
    "        plt.scatter(X_train[y_train == target][:, 0], X_train[y_train == target]\n",
    "                    [:, 1], s=80, color=scatter_color[i], label=target_names[i], marker='o')\n",
    "    patches = [mpatches.Patch(color=scatter_color[i],\n",
    "                              label=target_names[i]) for i in range(n_class)]\n",
    "    plt.legend(handles=patches)\n",
    "    plt.legend()\n",
    "    plt.show()"
   ]
  },
  {
   "cell_type": "markdown",
   "metadata": {},
   "source": [
    "スクラッチしたクラス"
   ]
  },
  {
   "cell_type": "code",
   "execution_count": 27,
   "metadata": {
    "scrolled": false
   },
   "outputs": [
    {
     "data": {
      "image/png": "[encoded data removed]",
      "text/plain": [
       "<Figure size 432x288 with 1 Axes>"
      ]
     },
     "metadata": {
      "needs_background": "light"
     },
     "output_type": "display_data"
    },
    {
     "data": {
      "image/png": "[encoded data removed]",
      "text/plain": [
       "<Figure size 432x288 with 1 Axes>"
      ]
     },
     "metadata": {
      "needs_background": "light"
     },
     "output_type": "display_data"
    }
   ],
   "source": [
    "# 可視化\n",
    "# 学習用データ\n",
    "decision_region(X_train_std, y_train, stree, \n",
    "                title='ScratchDecesionTreeClassifier(train data)',\n",
    "                            xlabel='f0', ylabel='f1', target_names=['0', '1'])\n",
    "\n",
    "# 検証用データ\n",
    "decision_region(X_test_std, y_test, stree, \n",
    "                            title='ScratchDecesionTreeClassifier(test data)',\n",
    "                            xlabel='f0', ylabel='f1', target_names=['0', '1'])"
   ]
  },
  {
   "cell_type": "markdown",
   "metadata": {},
   "source": [
    "sklearn"
   ]
  },
  {
   "cell_type": "code",
   "execution_count": 28,
   "metadata": {
    "scrolled": false
   },
   "outputs": [
    {
     "data": {
      "image/png": "[encoded data removed]",
      "text/plain": [
       "<Figure size 432x288 with 1 Axes>"
      ]
     },
     "metadata": {
      "needs_background": "light"
     },
     "output_type": "display_data"
    },
    {
     "data": {
      "image/png": "[encoded data removed]",
      "text/plain": [
       "<Figure size 432x288 with 1 Axes>"
      ]
     },
     "metadata": {
      "needs_background": "light"
     },
     "output_type": "display_data"
    }
   ],
   "source": [
    "# 可視化\n",
    "# 学習用データ\n",
    "decision_region(X_train_std, y_train, tree, \n",
    "                title='DecesionTreeClassifier(train data)',\n",
    "                            xlabel='f0', ylabel='f1', target_names=['0', '1'])\n",
    "\n",
    "# 検証用データ\n",
    "decision_region(X_test_std, y_test, tree, \n",
    "                            title='DecesionTreeClassifier(test data)',\n",
    "                            xlabel='f0', ylabel='f1', target_names=['0', '1'])"
   ]
  },
  {
   "cell_type": "markdown",
   "metadata": {},
   "source": [
    "今回のデータセットはランダムに分布しているデータだったので、スクラッチしたクラスとsklearnのモデルを比較すると、精度には多少差があったが、決定境界は似た形になった。若干の誤差は、しきい値の取り方によるものではないかと感じた。"
   ]
  },
  {
   "cell_type": "markdown",
   "metadata": {},
   "source": [
    "## 【問題8】 決定木の利用場面"
   ]
  },
  {
   "cell_type": "markdown",
   "metadata": {},
   "source": [
    "最終発表時に以下の内容についてディスカッションを行います。自分なりの意見を用意しておいてください。\n",
    "- 決定木が他の手法に比べて有効だと考えられるのはどういった場面か\n",
    "\n",
    "注意点   \n",
    "答えがある問いではありません。いろいろな視点から見て理解を深めていきましょう。"
   ]
  },
  {
   "cell_type": "markdown",
   "metadata": {},
   "source": [
    "**Answer**  \n",
    "決定木は木の枝が分かれていくようなイメージであるため、可視化しやすく、可読性が高い。そのため、機械学習を知らない人に対しても説明しやすいところが有効と思われる。"
   ]
  }
 ],
 "metadata": {
  "kernelspec": {
   "display_name": "Python 3",
   "language": "python",
   "name": "python3"
  },
  "language_info": {
   "codemirror_mode": {
    "name": "ipython",
    "version": 3
   },
   "file_extension": ".py",
   "mimetype": "text/x-python",
   "name": "python",
   "nbconvert_exporter": "python",
   "pygments_lexer": "ipython3",
   "version": "3.7.2"
  }
 },
 "nbformat": 4,
 "nbformat_minor": 2
}
