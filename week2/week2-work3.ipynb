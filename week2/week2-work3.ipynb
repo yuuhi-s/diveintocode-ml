{
 "cells": [
  {
   "cell_type": "markdown",
   "metadata": {},
   "source": [
    "# Week3授業前課題\n",
    "この課題の目的\n",
    "\n",
    "- 数式演算ライブラリのnumpyに慣れる\n",
    "- 機械学習に必須な行列演算に慣れる"
   ]
  },
  {
   "cell_type": "markdown",
   "metadata": {},
   "source": [
    "## 【課題1】 内積を手計算しよう\n",
    "\n",
    "以下のような行列A,Bを考えます。\n",
    "\n",
    "$$\n",
    "A = \\left[\n",
    "    \\begin{array}{ccc}\n",
    "      -1 & 2 & 3 \\\\\n",
    "      4 & -5 & 6 \\\\\n",
    "      7 & 8 & -9\n",
    "    \\end{array}\n",
    "  \\right],\n",
    "  B = \\left[\n",
    "    \\begin{array}{ccc}\n",
    "      0 & 2 & 1 \\\\\n",
    "      0 & 2 & -8 \\\\\n",
    "      2 & 9 & -1\n",
    "    \\end{array}\n",
    "  \\right]\n",
    "$$"
   ]
  },
  {
   "cell_type": "markdown",
   "metadata": {},
   "source": [
    "行列の内積A\\*Bを手計算で解きなさい。"
   ]
  },
  {
   "cell_type": "markdown",
   "metadata": {},
   "source": [
    "$    \n",
    "A * B =\n",
    "\\begin{bmatrix}\n",
    "-1 & 2 & 3 \\\\\\ \n",
    "4 & -5 & 6 \\\\\\\n",
    "7 & 8 & -9\\end{bmatrix}\n",
    "\\hspace{2mm}*\\hspace{2mm}\n",
    "\\begin{bmatrix}\n",
    "0 & 2 & 1 \\\\\\ \n",
    "0 & 2 & -8 \\\\\\\n",
    "2 & 9 & -1\n",
    "\\end{bmatrix}\n",
    "$\n",
    "\n",
    "$\n",
    "\\hspace{11mm}=\n",
    "\\begin{bmatrix}\n",
    "(-1) \\times 0 + 2 \\times 0 + 3 \\times 2 & (-1) \\times 2 + 2 \\times 2 + 3 \\times 9 & (-1) \\times 1 + 2 \\times (-8) + 3 \\times (-1)\\\\\\ \n",
    "4 \\times 0 + (-5) \\times 0 + 6 \\times 2 & 4 \\times 2 + (-5) \\times 2 + 6 \\times 9 & 4 \\times 1 + (-5) \\times (-8) + 6 \\times (-1) \\\\\\\n",
    "7 \\times 0 + 8 \\times 0 + (-9) \\times 2 & 7 \\times 2 + 8 \\times 2 + (-9) \\times 9 & 7 \\times 1 + 8 \\times (-8) + (-9) \\times (-1)\n",
    "\\end{bmatrix}   \n",
    "$\n",
    "\n",
    "$\n",
    "\\hspace{11mm}=\n",
    "\\begin{bmatrix}\n",
    "6 & 29 & -20 \\\\\\ \n",
    "12 & 52 & 38 \\\\\\\n",
    "-18 & -51 & -48\n",
    "\\end{bmatrix}\n",
    "$"
   ]
  },
  {
   "cell_type": "markdown",
   "metadata": {},
   "source": [
    "## 【課題2】 1次元配列の内積をfor文で計算しよう\n",
    "\n",
    "これ以降の課題はNumPyを使って解いてください。\n",
    "\n",
    "【課題1】では手計算してもらいました。一つ一つの演算はさほど難しくありませんが、演算数は多くかなり面倒くさかったと思います。\n",
    "\n",
    "この演算をpythonを使って実装するとどうなるのでしょうか？\n",
    "\n",
    "手計算する際には、まず行列Aの1行目と行列Bの1列目に注目したと思います。そして、\n",
    "\n",
    "- 行列Aの(0,0)の要素と行列Bの(0,0)の要素を掛け合わせる\n",
    "- 行列Aの(0,1)の要素と行列Bの(1,0)の要素を掛け合わせる\n",
    "- 行列Aの(0,2)の要素と行列Bの(2,0)の要素を掛け合わせる\n",
    "- それらの値を全て足し合わせる\n",
    "というフローを得て、ようやく一つ目の要素が求まるわけです。\n",
    "\n",
    "次の要素を計算するには、行列のindexを増やし、上の過程を再度繰り返して行けば良いわけです。下図のようなイメージですね。"
   ]
  },
  {
   "cell_type": "markdown",
   "metadata": {},
   "source": [
    "![](image/image3_1.png)"
   ]
  },
  {
   "cell_type": "markdown",
   "metadata": {},
   "source": [
    "まずは、ご自身で配列のindexを指定し、\n",
    "\n",
    "- 行列Aの(0,0)の要素と行列Bの(0,1)の要素を掛け合わせる\n",
    "- 行列Aの(0,1)の要素と行列Bの(1,1)の要素を掛け合わせる\n",
    "- 行列Aの(0,2)の要素と行列Bの(2,1)の要素を掛け合わせる\n",
    "それらの値を全て足し合わせる\n",
    "のフローをfor文を使って計算してください。"
   ]
  },
  {
   "cell_type": "code",
   "execution_count": 1,
   "metadata": {},
   "outputs": [
    {
     "name": "stdout",
     "output_type": "stream",
     "text": [
      "6\n"
     ]
    }
   ],
   "source": [
    "import numpy as np\n",
    "\n",
    "#行列A、行列Bを作成\n",
    "A = np.array([[-1, 2, 3], [4, -5, 6], [7, 8, -9]])\n",
    "B = np.array([[0, 2, 1], [0, 2, -8], [2, 9, -1]])\n",
    "\n",
    "#初期値を設定\n",
    "total = 0\n",
    "\n",
    "#行列Aの(0, i)と行列Bの(i, 0)を掛け合わせ、足し合わせる\n",
    "for i in range(3):\n",
    "    total += A[0, i] * B[i, 0]\n",
    "\n",
    "#出力\n",
    "print(total)"
   ]
  },
  {
   "cell_type": "markdown",
   "metadata": {},
   "source": [
    "## 【課題3】 多次元配列の内積をfor文で計算しよう\n",
    "\n",
    "【課題2】ではA\\*Bの(0,0)だけ計算するコードを実装してもらいましたが、全要素を求めるにはどうしたら良いでしょうか？\n",
    "\n",
    "行列A\\*Bの(0,1)を求めるには\n",
    "\n",
    "行列Aのインデックスは固定（0行目を選択したまま）で、行列Bのインデックスを0列目から1列目に指定しなおせば良いわけです。理解できない方は、手計算でのフローを思い出してください！\n",
    "\n",
    "- 行列Aの(0,0)の要素と行列Bの(0,1)の要素を掛け合わせる\n",
    "- 行列Aの(0,1)の要素と行列Bの(1,1)の要素を掛け合わせる\n",
    "- 行列Aの(0,2)の要素と行列Bの(2,1)の要素を掛け合わせる\n",
    "- 1、2、3で求めた値を足し合わせる\n",
    "\n",
    "とすればA\\*Bの(0,1)の要素が求まります。\n",
    "\n",
    "このように同じ計算を順次インデックスを増やして行けば、全要素の計算ができます。\n",
    "\n",
    "計算の処理自体は全て同じなので、指定する要素の場所をなんとか効率よくできないかというところで登場するのが、for文です。\n",
    "\n",
    "説明はここまでになります。\n",
    "\n",
    "for文を使って行列A、Bの積を計算しましょう！【課題2】では(0,0)のみ計算していただきましたが、全て計算してください。\n",
    "\n",
    ">ヒント  \n",
    "indexの移行は行方向と列方向があるので、【課題2】で実装していただいたコードに加えて、さらに2回for文が必要になります。\n",
    "\n"
   ]
  },
  {
   "cell_type": "code",
   "execution_count": 2,
   "metadata": {},
   "outputs": [
    {
     "data": {
      "text/plain": [
       "array([[  6.,  29., -20.],\n",
       "       [ 12.,  52.,  38.],\n",
       "       [-18., -51., -48.]])"
      ]
     },
     "execution_count": 2,
     "metadata": {},
     "output_type": "execute_result"
    }
   ],
   "source": [
    "#要素が全て0, 3行, 3列の2次元配列を作成\n",
    "np_zeros = np.zeros((3, 3))\n",
    "\n",
    "#A*Bの(0, 0), (0, 1), ..., (2, 2)の要素を計算し、np_zerosに代入\n",
    "for i in range(3):\n",
    "    for j in range(3):\n",
    "        for k in range(3):\n",
    "            np_zeros[i, j] += A[i, k] * B[k, j]\n",
    "\n",
    "#出力\n",
    "np_zeros"
   ]
  },
  {
   "cell_type": "markdown",
   "metadata": {},
   "source": [
    "## 【課題4】 内積をnp.dotで計算しよう\n",
    "\n",
    "【課題3】ではfor文を使うことで、内積を計算していただきましたが、行列の内積演算の度にこのようにfor文の処理を何回も実装しなくてもはならないのでしょうか？\n",
    "\n",
    "当然そんなことはなく、実はみなさんがやっていただいた処理はnumpyのメソッドですでに用意されています。\n",
    "\n",
    "np.dot(A,B)と計算すると、【課題3】で計算していただいたことが一瞬でできます。\n",
    "\n",
    "np.dot(A,B)を計算して、【課題3】と同じになることを試してください。"
   ]
  },
  {
   "cell_type": "code",
   "execution_count": 3,
   "metadata": {},
   "outputs": [
    {
     "data": {
      "text/plain": [
       "array([[  6,  29, -20],\n",
       "       [ 12,  52,  38],\n",
       "       [-18, -51, -48]])"
      ]
     },
     "execution_count": 3,
     "metadata": {},
     "output_type": "execute_result"
    }
   ],
   "source": [
    "AB = np.dot(A, B)\n",
    "AB"
   ]
  },
  {
   "cell_type": "markdown",
   "metadata": {},
   "source": [
    "## 【課題5】 内積ができないときはどうするか\n",
    "\n",
    "以下のような例を考えます。\n",
    "\n",
    "$$\n",
    "A = \\left[\n",
    "    \\begin{array}{ccc}\n",
    "      -1 & 2 & 3 \\\\\n",
    "      4 & -5 & 6 \n",
    "    \\end{array}\n",
    "  \\right],\n",
    "  B = \\left[\n",
    "    \\begin{array}{ccc}\n",
    "       -9 & 8 & 7 \\\\\n",
    "      6 & -5 & 4 \n",
    "    \\end{array}\n",
    "  \\right]\n",
    "$$"
   ]
  },
  {
   "cell_type": "markdown",
   "metadata": {},
   "source": [
    "行列A\\*Bを計算しようとすると、エラーが出て計算できません。なぜエラーが出るのか理由を記載してください。\n",
    "\n",
    "そして、行列A、Bのどちらかにある操作をするとエラーが出ずに計算できます。\n",
    "\n",
    "自分である操作を施し、内積を計算してください。"
   ]
  },
  {
   "cell_type": "markdown",
   "metadata": {},
   "source": [
    "内積の計算は、左側(行列A)の行ベクトルの要素数と、右側(行列B)の列ベクトルの要素数が等しい時に計算が可能である。   \n",
    "そのため、どちらかを転置することでこの要素数を揃えることができ、内積の計算ができる。"
   ]
  },
  {
   "cell_type": "code",
   "execution_count": 4,
   "metadata": {},
   "outputs": [
    {
     "data": {
      "text/plain": [
       "array([[ 33, -28,   9],\n",
       "       [-48,  41,  -6],\n",
       "       [  9,  -6,  45]])"
      ]
     },
     "execution_count": 4,
     "metadata": {},
     "output_type": "execute_result"
    }
   ],
   "source": [
    "#行列A, Bを作成\n",
    "A = np.array([[-1, 2, 3], [4, -5, 6]])\n",
    "B = np.array([[-9, 8, 7], [6, -5, 4]])\n",
    "\n",
    "#行列Aを転置し、内積を計算\n",
    "AB_error = np.dot(A.T, B)\n",
    "AB_error"
   ]
  },
  {
   "cell_type": "markdown",
   "metadata": {},
   "source": [
    "week2授業前課題は以上になります。内積の演算、np.dot()の便利さを体感していただいかと思います。行列の演算は複数の変数間のかけ算をfor文を使うことなく一気に計算できるので、科学計算にはよく使われます。当然機械学習にもです。\n",
    "\n",
    "また【課題5】を通じて、どんな行列でも内積が計算できるわけではないことを理解していただいたかと思います。内積計算するための行列形状はアルゴリズムをスクラッチ実装する上で重要です。意図的に内積を計算するために転置を施すという技術もよく使うことになるので，覚えておきましょう！"
   ]
  }
 ],
 "metadata": {
  "kernelspec": {
   "display_name": "Python 3",
   "language": "python",
   "name": "python3"
  },
  "language_info": {
   "codemirror_mode": {
    "name": "ipython",
    "version": 3
   },
   "file_extension": ".py",
   "mimetype": "text/x-python",
   "name": "python",
   "nbconvert_exporter": "python",
   "pygments_lexer": "ipython3",
   "version": "3.7.2"
  },
  "varInspector": {
   "cols": {
    "lenName": 16,
    "lenType": 16,
    "lenVar": 40
   },
   "kernels_config": {
    "python": {
     "delete_cmd_postfix": "",
     "delete_cmd_prefix": "del ",
     "library": "var_list.py",
     "varRefreshCmd": "print(var_dic_list())"
    },
    "r": {
     "delete_cmd_postfix": ") ",
     "delete_cmd_prefix": "rm(",
     "library": "var_list.r",
     "varRefreshCmd": "cat(var_dic_list()) "
    }
   },
   "types_to_exclude": [
    "module",
    "function",
    "builtin_function_or_method",
    "instance",
    "_Feature"
   ],
   "window_display": false
  }
 },
 "nbformat": 4,
 "nbformat_minor": 2
}
