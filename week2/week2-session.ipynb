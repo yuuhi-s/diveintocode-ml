{
 "cells": [
  {
   "cell_type": "markdown",
   "metadata": {},
   "source": [
    "# Week2授業課題 富士下山\n",
    "\n",
    "この課題の目的\n",
    "- 機械学習で使われている勾配降下法の仕組みを知る"
   ]
  },
  {
   "cell_type": "markdown",
   "metadata": {},
   "source": [
    "## 富士山から下りたい\n",
    "\n",
    "\n",
    "授業前課題2では「勾配降下法」に触れました。勾配降下法は山や谷を下ることに例えられます。先週は紙を折って超えることを目指した富士山を、今週は頂上付近から下りていくことにしましょう。"
   ]
  },
  {
   "cell_type": "markdown",
   "metadata": {},
   "source": [
    "### 断面図の確認\n",
    "\n",
    "以下の図は富士山の断面図です。相模湾から富士山頂上付近を通り南アルプス方面へと切り取りました。縦軸は標高、横軸は300等分した番号が振られています。"
   ]
  },
  {
   "cell_type": "markdown",
   "metadata": {},
   "source": [
    "![](image/image1.png)"
   ]
  },
  {
   "cell_type": "markdown",
   "metadata": {},
   "source": [
    "この断面図を見れば低い場所はすぐに分かりますが、あなたは暗闇の中、赤い点の箇所(x=136)にいるという状況を想像します。足元の傾きしか分からない中で富士山から下りるというプログラムを作っていきましょう。\n",
    "\n",
    "出典\n",
    "\n",
    "今回使用するデータは国土地理院の電子地形図の断面図機能を使用し取得しました。\n",
    "\n",
    "[立体地図（日本の主な山岳）](https://cyberjapandata.gsi.go.jp/3d/mountain/mountain.html)"
   ]
  },
  {
   "cell_type": "markdown",
   "metadata": {},
   "source": [
    "### データの取得\n",
    "\n",
    "このデータをcsvファイルで配布しますので、以下のコードで読み込みます。"
   ]
  },
  {
   "cell_type": "markdown",
   "metadata": {},
   "source": [
    "```python\n",
    "import numpy as np\n",
    "np.set_printoptions(suppress=True) # 指数表示の禁止を設定する\n",
    "fuji = np.loadtxt(\"week2_session1_mtfuji_data.csv\",delimiter=\",\", skiprows=1)\n",
    "```"
   ]
  },
  {
   "cell_type": "markdown",
   "metadata": {},
   "source": [
    "一部を出力させると、以下のような中身になっています。"
   ]
  },
  {
   "cell_type": "markdown",
   "metadata": {},
   "source": [
    "![](image/image2.png)"
   ]
  },
  {
   "cell_type": "markdown",
   "metadata": {},
   "source": [
    "左から順番に「その地点の番号(x)」「緯度」「経度」「標高(elevation)」「地点0からの距離」となっています。標高と距離の単位はメートルです。"
   ]
  },
  {
   "cell_type": "markdown",
   "metadata": {},
   "source": [
    "## 【問題1】 断面図の作成\n",
    "\n",
    "前述の断面図をMatplotlibを使い作成してください。x=136の地点の赤い点や矢印も表示させてください。\n",
    "\n",
    "これ以降の問題では下りる過程の可視化を行いますが、その際にはこの断面図を活用してください。"
   ]
  },
  {
   "cell_type": "code",
   "execution_count": 1,
   "metadata": {},
   "outputs": [],
   "source": [
    "import numpy as np\n",
    "np.set_printoptions(suppress=True) # 指数表示の禁止を設定する\n",
    "\n",
    "#データの取得\n",
    "fuji = np.loadtxt(\"week2_session_mtfuji_data.csv\",delimiter=\",\", skiprows=1)"
   ]
  },
  {
   "cell_type": "code",
   "execution_count": 2,
   "metadata": {},
   "outputs": [
    {
     "data": {
      "image/png": "[encoded data removed]",
      "text/plain": [
       "<Figure size 432x288 with 1 Axes>"
      ]
     },
     "metadata": {
      "needs_background": "light"
     },
     "output_type": "display_data"
    }
   ],
   "source": [
    "import matplotlib.pyplot as plt\n",
    "%matplotlib inline\n",
    "\n",
    "#断面図を描写\n",
    "plt.title(\"Mt. Fuji\")\n",
    "plt.xlabel(\"x\")\n",
    "plt.ylabel(\"elevation(m)\")\n",
    "plt.plot(fuji[:, 0], fuji[:, 3], color='blue')\n",
    "plt.plot(136, fuji[136,3], marker = 'o', color = 'red', markersize = 10)\n",
    "\n",
    "#矢印をつける\n",
    "plt.annotate('you', xy=(136, fuji[136, 3]), xytext=(100, 2000), \n",
    "             arrowprops = dict(facecolor='purple', width =1.0, headwidth=7.0, headlength=7.0, shrink=0.01));"
   ]
  },
  {
   "cell_type": "markdown",
   "metadata": {},
   "source": [
    "## 【問題2】 勾配の計算の関数\n",
    "\n",
    "授業前課題では各地点での勾配を最初に求めました。しかし、暗闇の富士山の比喩を考えると、知ることができるのはあなたがいる地点の勾配だけです。\n",
    "\n",
    "ここでは「あなたが今いる地点x」と「その隣の地点x-1」の関係による勾配を求める関数を作成しましょう。この関数が返す値を「今いる地点の勾配」として次の問題で作成する関数内で使ってください。\n",
    "\n",
    "勾配は授業前課題で行ったように、以下の計算で求まります。\n",
    "\n"
   ]
  },
  {
   "cell_type": "markdown",
   "metadata": {},
   "source": [
    "![](image/image2_2.png)"
   ]
  },
  {
   "cell_type": "markdown",
   "metadata": {},
   "source": [
    "このデータでは「標高（elevation)」がyに相当します。xはそのまま「その地点の番号(x)」です。"
   ]
  },
  {
   "cell_type": "code",
   "execution_count": 3,
   "metadata": {},
   "outputs": [],
   "source": [
    "'''\n",
    "勾配を求める関数\n",
    "-------------------------\n",
    "input\n",
    "現在の地点：x\n",
    "勾配データ : data(デフォルト 富士山の断面図 : fuji)\n",
    "\n",
    "output\n",
    "今の地点の勾配\n",
    "'''\n",
    "def gradient_calculate(x, data=fuji):\n",
    "    \n",
    "    #今いる地点が1~299の場合\n",
    "    if 1 <= x and x <= 299:\n",
    "        #xの変化量\n",
    "        delta_x = data[x, 0] - data[x-1, 0]\n",
    "        #yの変化量\n",
    "        delta_y = data[x, 3] - data[x-1, 3]\n",
    "\n",
    "        return delta_y / delta_x\n",
    "\n",
    "    #1~299以外の場合\n",
    "    else:\n",
    "        print('1~299の整数で入力してください')"
   ]
  },
  {
   "cell_type": "code",
   "execution_count": 4,
   "metadata": {},
   "outputs": [
    {
     "data": {
      "text/plain": [
       "168.35000000000036"
      ]
     },
     "execution_count": 4,
     "metadata": {},
     "output_type": "execute_result"
    }
   ],
   "source": [
    "#今いる地点xが136のときの勾配\n",
    "gradient_calculate(136)"
   ]
  },
  {
   "cell_type": "markdown",
   "metadata": {},
   "source": [
    "## 【問題3】 勾配降下法の関数を作成\n",
    "\n",
    "授業前課題では説明までとした勾配降下法ですが、これを行う関数を作成してください。\n",
    "\n",
    "数式で表すと 「移動すべき地点 = 今いる地点 - \n",
    "α\n",
    " ×今いる地点の勾配」 となります。\n",
    "\n",
    "この関数を使い、あなたが今いるxが136の地点（標高3434.59[m]）から、山を下っていきましょう。移動毎の標高はリストに記録し、その過程を可視化してください。断面図を目視したり、読み込んだ数値を確認して分かることと比べてどうなっているでしょうか。\n",
    "\n",
    "実装上の注意\n",
    "\n",
    "移動すべき地点は基本的には少数となりますが、勾配の情報は整数値の場所でしか得られません。そのため、四捨五入により整数値に変換する必要があります。\n",
    "\n",
    "可視化のヒント\n",
    "\n",
    "断面図の中に点を表示したり、繰り返し毎の標高や勾配を折れ線グラフで見てみることができます。\n",
    "\n",
    "α\n",
    " の補足\n",
    "\n",
    "α\n",
    " は0より大きい任意の値をとるハイパーパラメータです。機械学習の分野では学習率という名前で呼ばれます。この値によって下り方が変わりますから、関数の引数にしてください。複数試し、うまく下りられる \n",
    "α\n",
    " の値を見つけましょう。\n",
    "\n",
    "初期値の補足\n",
    "\n",
    "最初に居たx=136の地点のことを初期値と呼びます。この初期値によってどこに下っていくかが変わりますから、これも関数の引数にしてください。"
   ]
  },
  {
   "cell_type": "code",
   "execution_count": 5,
   "metadata": {},
   "outputs": [],
   "source": [
    "'''\n",
    "勾配降下法の関数：gradient_descent_method\n",
    "\n",
    "input\n",
    "今いる地点：x\n",
    "学習率：a(デフォルト : 0.2)\n",
    "勾配データ : data(デフォルト 富士山の断面図 : fuji)\n",
    "\n",
    "output\n",
    "移動すべき地点\n",
    "'''\n",
    "def gradient_descent_method(x, a=0.2, data=fuji):\n",
    "    \n",
    "    #今いる地点が1~299の場合\n",
    "    if 1 <= x and x <=299:\n",
    "        return int(round(data[x, 0] - a * gradient_calculate(x)))\n",
    "    \n",
    "    #1~299以外の場合\n",
    "    else:\n",
    "        print('1~299の整数で入力してください')"
   ]
  },
  {
   "cell_type": "code",
   "execution_count": 6,
   "metadata": {},
   "outputs": [
    {
     "name": "stdout",
     "output_type": "stream",
     "text": [
      "[136, 102, 98, 95, 93, 89, 85, 82, 79, 73]\n"
     ]
    }
   ],
   "source": [
    "#xが136の時\n",
    "x = 136\n",
    "x_movement = []\n",
    "\n",
    "#勾配が正の時、勾配が0以下になる手前まで移動する\n",
    "if gradient_calculate(x) > 0:\n",
    "    while gradient_calculate(x) >= 0:\n",
    "        \n",
    "        #リストの過程を追加\n",
    "        x_movement.append(x)\n",
    "        \n",
    "        #xの地点を更新\n",
    "        x = gradient_descent_method(x)\n",
    "\n",
    "        \n",
    "#勾配が負の時、勾配が0以上になる手前まで移動する\n",
    "else:\n",
    "    while gradient_calculate(x) <= 0:\n",
    "        \n",
    "        #リストの過程を追加\n",
    "        x_movement.append(x)\n",
    "        \n",
    "        #xの地点を更新\n",
    "        x = gradient_descent_method(x)\n",
    "\n",
    "#過程のリストを出力\n",
    "print(x_movement)"
   ]
  },
  {
   "cell_type": "code",
   "execution_count": 7,
   "metadata": {},
   "outputs": [
    {
     "data": {
      "image/png": "[encoded data removed]",
      "text/plain": [
       "<Figure size 432x288 with 1 Axes>"
      ]
     },
     "metadata": {
      "needs_background": "light"
     },
     "output_type": "display_data"
    }
   ],
   "source": [
    "#グラフの描写\n",
    "plt.title(\"Mt. Fuji\")\n",
    "plt.xlabel(\"x\")\n",
    "plt.ylabel(\"elevation(m)\")\n",
    "plt.plot(fuji[:, 0], fuji[:, 3], color='blue')\n",
    "plt.plot(fuji[x_movement, 0], fuji[x_movement, 3], marker='o', color = 'red', markersize = 5);"
   ]
  },
  {
   "cell_type": "markdown",
   "metadata": {},
   "source": [
    "## 【問題4】 初期値の変更\n",
    "\n",
    "ここまでの問題では最初のxを136としましたが、xの初期値を変更すると結果が変化します。特にxを139より大きい値にすると、富士山の反対側の斜面を下りていくことになります。\n",
    "\n",
    "そういった初期値を設定した上で、移動毎の標高はリストに記録し、その過程を可視化してください。\n",
    "\n"
   ]
  },
  {
   "cell_type": "code",
   "execution_count": 8,
   "metadata": {},
   "outputs": [
    {
     "name": "stdout",
     "output_type": "stream",
     "text": [
      "[139, 144, 191, 216]\n"
     ]
    }
   ],
   "source": [
    "#xが139の時\n",
    "x = 139\n",
    "#ハイパーパラメータを0.3に設定\n",
    "a = 0.3\n",
    "x_movement = []\n",
    "\n",
    "#勾配が正の時、勾配が0以下になる手前まで移動する\n",
    "\n",
    "if gradient_calculate(x) > 0:\n",
    "    while gradient_calculate(x) >= 0:\n",
    "        \n",
    "        #リストの過程を追加\n",
    "        x_movement.append(x)\n",
    "        \n",
    "        #xの地点を更新\n",
    "        x = gradient_descent_method(x, a)\n",
    "        \n",
    "#勾配が負の時、勾配が0以上になる手前まで移動する\n",
    "else:\n",
    "    while gradient_calculate(x) <= 0:\n",
    "                \n",
    "        #リストの過程を追加\n",
    "        x_movement.append(x)\n",
    "\n",
    "        #xの地点を更新\n",
    "        x = gradient_descent_method(x, a)\n",
    "        \n",
    "#過程のリストを出力\n",
    "print(x_movement)"
   ]
  },
  {
   "cell_type": "code",
   "execution_count": 9,
   "metadata": {},
   "outputs": [
    {
     "data": {
      "image/png": "[encoded data removed]",
      "text/plain": [
       "<Figure size 432x288 with 1 Axes>"
      ]
     },
     "metadata": {
      "needs_background": "light"
     },
     "output_type": "display_data"
    }
   ],
   "source": [
    "#グラフの描写\n",
    "plt.title(\"Mt. Fuji\")\n",
    "plt.xlabel(\"x\")\n",
    "plt.ylabel(\"elevation(m)\")\n",
    "plt.plot(fuji[:, 0], fuji[:, 3], color='blue')\n",
    "plt.plot(fuji[x_movement, 0], fuji[x_movement, 3], marker='o', color = 'red', markersize = 5);"
   ]
  },
  {
   "cell_type": "markdown",
   "metadata": {},
   "source": [
    "## 【課題5】 並列計算\n",
    "\n",
    "初期値によって結果が変化するわけですから、0から299まで全ての初期値の計算を行ってみるということを考えられます。\n",
    "\n",
    "for文を使い繰り返すこともできますが、NumPyの配列を工夫して使うことで複数の計算を同時に行うことができます。ここまで作成した関数を複数の初期値が同時に計算できるように改良してください。\n",
    "\n",
    "この改良は次のハイパーパラメータの検証にも応用することができます。\n",
    "\n",
    "ヒント\n",
    "\n",
    "NumPyは配列間で四則演算などの操作が可能です。以下のサンプルコードの3行目と4行目の挙動を参考にしてください。特に4行目の計算はブロードキャストと呼ばれるNumPy独特の機能であるため、各自でも調査してください。"
   ]
  },
  {
   "cell_type": "markdown",
   "metadata": {},
   "source": [
    "```python\n",
    "array1 = np.ones(300)\n",
    "array2 = np.arange(300)\n",
    "array3 = array1*array2\n",
    "array4 = array3 + 1 # ブロードキャスト\n",
    "```"
   ]
  },
  {
   "cell_type": "code",
   "execution_count": 10,
   "metadata": {},
   "outputs": [],
   "source": [
    "#0~299の1次元配列を取得\n",
    "array1 = np.ones(300)\n",
    "array2 = np.arange(300)\n",
    "array3 = (array1*array2).astype(int)"
   ]
  },
  {
   "cell_type": "code",
   "execution_count": 11,
   "metadata": {},
   "outputs": [],
   "source": [
    "#勾配を求める関数を修正\n",
    "def re_gradient_calculate(x, data=fuji):\n",
    "        \n",
    "    #xの変化量\n",
    "    delta_x = data[x, 0] - data[x-1, 0]\n",
    "    #yの変化量\n",
    "    delta_y = data[x, 3] - data[x-1, 3]\n",
    "\n",
    "    return delta_y / delta_x"
   ]
  },
  {
   "cell_type": "code",
   "execution_count": 12,
   "metadata": {},
   "outputs": [],
   "source": [
    "#勾配降下法の関数を修正\n",
    "def re_gradient_descent_method(x, a=0.3, data=fuji):\n",
    "    \n",
    "    #numpy配列の時\n",
    "    if type(x) == np.ndarray:\n",
    "        \n",
    "        #配列の要素数を取得\n",
    "        num = len(x)\n",
    "        \n",
    "        #配列の要素ごとに計算\n",
    "        for i in range(num):\n",
    "            \n",
    "            #勾配が正の時、勾配が負になる手前まで移動する\n",
    "            if re_gradient_calculate(x[i]) > 0:\n",
    "                while re_gradient_calculate(x[i]) >= 0:\n",
    "                   \n",
    "                    #xを出力\n",
    "                    print(x)\n",
    "                    \n",
    "                    #xを更新\n",
    "                    x = np.round(data[x, 0] - a * re_gradient_calculate(x)).astype(int)  \n",
    "            \n",
    "            #勾配が負の時、勾配が正になる手前まで移動する\n",
    "            else:\n",
    "                while gradient_calculate(x[i]) <= 0:\n",
    "                    \n",
    "                    #xを出力\n",
    "                    print(x)\n",
    "                    \n",
    "                    #xを更新\n",
    "                    x = np.round(data[x, 0] - a * re_gradient_calculate(x)).astype(int)\n",
    "    \n",
    "    \n",
    "    #numpy配列以外の時\n",
    "    else:\n",
    "            #xの過程のリスト\n",
    "            x_movement = []\n",
    "            \n",
    "            #勾配が正の時、勾配が負になる手前まで移動する\n",
    "            if re_gradient_calculate(x) > 0:\n",
    "                while re_gradient_calculate(x) >= 0:\n",
    "                    \n",
    "                    #リストの過程を追加\n",
    "                    x_movement.append(x)\n",
    "                    \n",
    "                    #xを更新\n",
    "                    x = (data[x, 0] - a * re_gradient_calculate(x)).astype(int)\n",
    "            \n",
    "            #勾配が負の時、勾配が正になる手前まで移動する\n",
    "            else:\n",
    "                while re_gradient_calculate(x) <= 0:\n",
    "                                    \n",
    "                    #リストの過程を追加\n",
    "                    x_movement.append(x)\n",
    "                    \n",
    "                    #xを更新\n",
    "                    x = (data[x, 0] - a * re_gradient_calculate(x)).astype(int)\n",
    "                    \n",
    "            return x_movement"
   ]
  },
  {
   "cell_type": "code",
   "execution_count": 13,
   "metadata": {},
   "outputs": [
    {
     "name": "stdout",
     "output_type": "stream",
     "text": [
      "[130 131 132]\n",
      "[89 89 95]\n",
      "[83 83 91]\n",
      "[79 79 87]\n",
      "[71 71 82]\n",
      "[86 86 77]\n",
      "[82 82 74]\n",
      "[77 77 73]\n",
      "[74 74 69]\n"
     ]
    }
   ],
   "source": [
    "#xが130~132の範囲の時\n",
    "re_gradient_descent_method(array3[130:133])"
   ]
  },
  {
   "cell_type": "markdown",
   "metadata": {},
   "source": [
    "## 【課題6】 ハイパーパラメータの検証\n",
    "\n",
    "勾配降下法の中で $\\alpha$ はハイパーパラメータであり、前の問題でも複数試して良い結果が得られるものを探しました。これを発展させ、$\\alpha$ を一定間隔で変化させていき、それぞれの山の下り方の比較を行ってください。うまい下り方となる $\\alpha$ を見つけるだけではなく、大きかったり小さかった時にどうなるのかを検証して説明してください。\n",
    "\n",
    "ヒント\n",
    "\n",
    "検証のための一例として、横軸を $\\alpha$ 、縦軸を一定回の繰り返し後のxや標高にした散布図を描いてみるという方法が考えられます。"
   ]
  },
  {
   "cell_type": "code",
   "execution_count": 14,
   "metadata": {},
   "outputs": [
    {
     "data": {
      "text/plain": [
       "array([0.1 , 0.11, 0.12, 0.13, 0.14, 0.15, 0.16, 0.17, 0.18, 0.19, 0.2 ,\n",
       "       0.21, 0.22, 0.23, 0.24, 0.25, 0.26, 0.27, 0.28, 0.29, 0.3 , 0.31,\n",
       "       0.32, 0.33, 0.34, 0.35, 0.36, 0.37, 0.38, 0.39, 0.4 ])"
      ]
     },
     "execution_count": 14,
     "metadata": {},
     "output_type": "execute_result"
    }
   ],
   "source": [
    "#ハイパーパラメータを0.1~0.4、0.01間隔で作成\n",
    "a = np.arange(0.1, 0.41, 0.01)\n",
    "a"
   ]
  },
  {
   "cell_type": "code",
   "execution_count": 15,
   "metadata": {},
   "outputs": [
    {
     "name": "stdout",
     "output_type": "stream",
     "text": [
      "[73, 73, 73, 73, 73, 73, 73, 73, 73, 73, 73, 73, 79, 79, 79, 79, 79, 69, 79, 69, 79, 73, 73, 69, 73, 73, 73, 73, 136, 136, 136]\n"
     ]
    }
   ],
   "source": [
    "#ハイパーパラメータを変えたときの最後の位置のリスト\n",
    "hyper_x = []\n",
    "\n",
    "#ハイパーパラメータの数だけ実行\n",
    "for i in range(len(a)):\n",
    "    \n",
    "    #勾配降下法\n",
    "    x = re_gradient_descent_method(136, a[i])\n",
    "    \n",
    "    #最後の位置をリストに格納\n",
    "    hyper_x.append(x[-1])\n",
    "\n",
    "print(hyper_x)"
   ]
  },
  {
   "cell_type": "code",
   "execution_count": 16,
   "metadata": {},
   "outputs": [
    {
     "data": {
      "image/png": "[encoded data removed]",
      "text/plain": [
       "<Figure size 432x288 with 1 Axes>"
      ]
     },
     "metadata": {
      "needs_background": "light"
     },
     "output_type": "display_data"
    }
   ],
   "source": [
    "#グラフの出力、縦軸に標高、横軸にハイパーパラメータ\n",
    "plt.xlabel('a')\n",
    "plt.ylabel('elevation')\n",
    "plt.scatter(a, fuji[hyper_x, 3]);"
   ]
  },
  {
   "cell_type": "markdown",
   "metadata": {},
   "source": [
    "ハイパーパラメータが0.1~0.37の間では、ある程度低い位置まで山を降りることができていたが、ハイパーパラメータが0.38を超えると、山を降りることができなかった。つまり、ハイパーパラメータを大きくしすぎると、勾配降下法による最小値を求めることが難しくなる。"
   ]
  },
  {
   "cell_type": "markdown",
   "metadata": {},
   "source": [
    "## 【課題7】局所最適解\n",
    "\n",
    "山を下りることで最終的には海（標高が0）に向かいたいですが、勾配降下法は「局所的最適解」となる地点にしか到達しない可能性があります。局所的最適解とはどういったもので、それへの対策はどういったことができるかを調査して説明してください。\n",
    "\n",
    "言葉だけではなく、作成した関数も活用できると良いでしょう。\n",
    "\n"
   ]
  },
  {
   "cell_type": "markdown",
   "metadata": {},
   "source": [
    "局所最適解とは、ある範囲における最適解のことで、例えば、グラフに谷が複数存在する場合、ある谷の最小値が最適解になるといったものであり、その位置が全体の最適解になるとは限らないものである。\n",
    "対策として、ミニバッチごとに勾配降下法を適用する確率勾配降下法(SGD)や、SGDを改良して慣性を加えたMoment SGDや、慣性に加えて一歩先の位置で勾配を使うNesterov accelerated gradient(NAG)などがある。"
   ]
  }
 ],
 "metadata": {
  "kernelspec": {
   "display_name": "Python 3",
   "language": "python",
   "name": "python3"
  },
  "language_info": {
   "codemirror_mode": {
    "name": "ipython",
    "version": 3
   },
   "file_extension": ".py",
   "mimetype": "text/x-python",
   "name": "python",
   "nbconvert_exporter": "python",
   "pygments_lexer": "ipython3",
   "version": "3.7.2"
  },
  "varInspector": {
   "cols": {
    "lenName": 16,
    "lenType": 16,
    "lenVar": 40
   },
   "kernels_config": {
    "python": {
     "delete_cmd_postfix": "",
     "delete_cmd_prefix": "del ",
     "library": "var_list.py",
     "varRefreshCmd": "print(var_dic_list())"
    },
    "r": {
     "delete_cmd_postfix": ") ",
     "delete_cmd_prefix": "rm(",
     "library": "var_list.r",
     "varRefreshCmd": "cat(var_dic_list()) "
    }
   },
   "types_to_exclude": [
    "module",
    "function",
    "builtin_function_or_method",
    "instance",
    "_Feature"
   ],
   "window_display": false
  }
 },
 "nbformat": 4,
 "nbformat_minor": 2
}
