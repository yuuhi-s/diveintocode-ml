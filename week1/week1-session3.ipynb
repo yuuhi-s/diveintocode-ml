{
 "cells": [
  {
   "cell_type": "markdown",
   "metadata": {},
   "source": [
    "# Week1授業課題3 栗まんじゅう問題\n",
    "\n",
    "### テキストの目的\n",
    "\n",
    "- 基礎的なプログラミング力を確認する\n",
    "- 誘導なしにプログラムを書いてみる\n",
    "- 有名な問題をプログラミングによって解いてみる"
   ]
  },
  {
   "cell_type": "markdown",
   "metadata": {},
   "source": [
    "## 栗まんじゅう問題\n",
    "\n",
    "漫画ドラえもんには「バイバイン」という道具が登場する、2のn乗に関する有名なエピソード\\[1\\]があります。\n",
    "\n",
    "\\[1\\] 藤子・Ｆ・不二雄(1979)『ドラえもん（１７）』小学館.\n",
    "\n",
    "「バイバイン」は薬品で、これを振掛けるとその物体は5分ごとに倍に増えるという働きがあります。作中では栗まんじゅうを増やしますが、食べきれなくなったためロケットを使い宇宙に捨てました。\n",
    "\n",
    "ここで度々話題になるのが、栗まんじゅうはその後宇宙でどのように増えていくのかについてです。様々な議論がされていますが、今回は単純に栗まんじゅうの体積がどう増えるかを計算してみましょう。"
   ]
  },
  {
   "cell_type": "markdown",
   "metadata": {},
   "source": [
    "## 【問題】栗まんじゅうが太陽系を覆う日\n",
    "\n",
    "1個の栗まんじゅうにバイバインを振りかけた場合、太陽系が栗まんじゅうで覆われるのは何分後でしょうか。これを計算するプログラムを作成してください。\n",
    "\n",
    "栗まんじゅうや太陽系の体積を調査した上で仮定して計算してください。栗まんじゅうの隙間や重力などは考えず、問題を単純化して構いません。\n",
    "\n",
    "ボールにバイバインを振りかけた時、東京ドームが一杯になる時間など他の状況にも適用できるような汎用的なプログラムを作成してください。また、グラフを表示するなど分かりやすいノートブックを作成してください。"
   ]
  },
  {
   "cell_type": "code",
   "execution_count": 1,
   "metadata": {},
   "outputs": [],
   "source": [
    "MANJU = 10**(-4) #m^3\n",
    "TAIYO_KEI = 3*(10**80) #m^3\n",
    "TOKYO_DOME = 124*(10**4)#m^3\n",
    "ONEROOM_HOUSE = 20 #m^3"
   ]
  },
  {
   "cell_type": "code",
   "execution_count": 2,
   "metadata": {},
   "outputs": [],
   "source": [
    "def time_to_occupy(occupying, to_be_occupied):\n",
    "    num = 0\n",
    "    while occupying <= to_be_occupied:\n",
    "        occupying *= 2\n",
    "        num += 1\n",
    "\n",
    "    # 5 minutes to divide once\n",
    "    minute = 5 * num\n",
    "    return minute"
   ]
  },
  {
   "cell_type": "code",
   "execution_count": 3,
   "metadata": {},
   "outputs": [
    {
     "name": "stdout",
     "output_type": "stream",
     "text": [
      "1405 min\n"
     ]
    }
   ],
   "source": [
    "## まんじゅうが太陽系を満たすのにかかる時間（分）\n",
    "a = time_to_occupy(MANJU , TAIYO_KEI)\n",
    "print(\"{} min\".format(a))"
   ]
  },
  {
   "cell_type": "code",
   "execution_count": 4,
   "metadata": {},
   "outputs": [
    {
     "name": "stdout",
     "output_type": "stream",
     "text": [
      "170 min\n"
     ]
    }
   ],
   "source": [
    "## まんじゅうが東京ドームを満たすのにかかる時間（分）\n",
    "b = time_to_occupy(MANJU , TOKYO_DOME)\n",
    "print(\"{} min\".format(b))"
   ]
  },
  {
   "cell_type": "code",
   "execution_count": 5,
   "metadata": {},
   "outputs": [
    {
     "name": "stdout",
     "output_type": "stream",
     "text": [
      "1240 min\n"
     ]
    }
   ],
   "source": [
    "## 東京ドームが太陽系を満たすのにかかる時間（分）\n",
    "c = time_to_occupy(TOKYO_DOME , TAIYO_KEI)\n",
    "print(\"{} min\".format(c))"
   ]
  },
  {
   "cell_type": "code",
   "execution_count": 6,
   "metadata": {},
   "outputs": [
    {
     "name": "stdout",
     "output_type": "stream",
     "text": [
      "90 min\n"
     ]
    }
   ],
   "source": [
    "## まんじゅうが６畳の部屋を満たすのにかかる時間（分）\n",
    "d = time_to_occupy(MANJU , ONEROOM_HOUSE)\n",
    "print(\"{} min\".format(d))"
   ]
  }
 ],
 "metadata": {
  "kernelspec": {
   "display_name": "Python 3",
   "language": "python",
   "name": "python3"
  },
  "language_info": {
   "codemirror_mode": {
    "name": "ipython",
    "version": 3
   },
   "file_extension": ".py",
   "mimetype": "text/x-python",
   "name": "python",
   "nbconvert_exporter": "python",
   "pygments_lexer": "ipython3",
   "version": "3.7.2"
  },
  "varInspector": {
   "cols": {
    "lenName": 16,
    "lenType": 16,
    "lenVar": 40
   },
   "kernels_config": {
    "python": {
     "delete_cmd_postfix": "",
     "delete_cmd_prefix": "del ",
     "library": "var_list.py",
     "varRefreshCmd": "print(var_dic_list())"
    },
    "r": {
     "delete_cmd_postfix": ") ",
     "delete_cmd_prefix": "rm(",
     "library": "var_list.r",
     "varRefreshCmd": "cat(var_dic_list()) "
    }
   },
   "types_to_exclude": [
    "module",
    "function",
    "builtin_function_or_method",
    "instance",
    "_Feature"
   ],
   "window_display": false
  }
 },
 "nbformat": 4,
 "nbformat_minor": 2
}
