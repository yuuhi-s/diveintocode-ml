{
 "cells": [
  {
   "cell_type": "markdown",
   "metadata": {},
   "source": [
    "# Week1授業課題1 曽呂利新左衛門問題\n",
    "\n",
    "\n",
    "## テキストの目的\n",
    "\n",
    "- 基礎的なプログラミング力を確認する\n",
    "- 見やすいコードを書けるようにする"
   ]
  },
  {
   "cell_type": "markdown",
   "metadata": {},
   "source": [
    "## 曽呂利新左衛門問題\n",
    "\n",
    "「Pythonを使ってみよう」の問題で扱った紙を折ると月に届く話に似たものとして、曽呂利新左衛門の逸話があります。これを題材にプログラミングを進めます。\n",
    "\n",
    "> 秀吉から褒美を下される際、何を希望するか尋ねられた新左衛門は、今日は米1粒、翌日には倍の2粒、その翌日には更に倍の4粒と、日ごとに倍の量の米を100日間もらう事を希望した。米粒なら大した事はないと思った秀吉は簡単に承諾したが、日ごとに倍ずつ増やして行くと100日後には膨大な量になる事に途中で気づき、他の褒美に変えてもらった。"
   ]
  },
  {
   "cell_type": "markdown",
   "metadata": {},
   "source": [
    "[曽呂利新左衛門 - Wikipedia](https://ja.wikipedia.org/wiki/%E6%9B%BD%E5%91%82%E5%88%A9%E6%96%B0%E5%B7%A6%E8%A1%9B%E9%96%80)\n",
    "\n",
    "（最終閲覧日：2019年5月23日）\n",
    "\n",
    "詳細な出典が気になる方は以下をご覧ください。\n",
    "\n",
    "[秀吉のお伽衆（おとぎしゅう）、曽呂利新左衛門（そろりしんざえもん）の「米の倍増し」に関する話の出典を… レファレンス協同データベース](http://crd.ndl.go.jp/reference/modules/d3ndlcrdentry/index.php?page=ref_view&id=1000060031)\n",
    "\n",
    "（最終閲覧日：2019年5月23日）"
   ]
  },
  {
   "cell_type": "markdown",
   "metadata": {},
   "source": [
    "## 【問題1】100日後の米粒の数\n",
    "\n",
    "100日後には合計で米粒をいくつもらっているのかを計算するコードを作成し、答えを出力してください。また、1日目から100日目までの「その日にもらう米の数」と「その日までに累計で貰う米の数」の推移を折れ線グラフで表現してください。（縦軸が米の数、横軸が日数）"
   ]
  },
  {
   "cell_type": "markdown",
   "metadata": {},
   "source": [
    "## 【問題2】100日後以外の米粒の数\n",
    "\n",
    "この逸話は30日だったり81日だったりと日数が曖昧です。どの話にも対応できるように日数を引数とした 関数 を作成しましょう。関数を作成した上で、コースを受講する日数の間でいくつ米粒をもらえるかを答えてください。前の問題同様に折れ線グラフも出力してください。\n",
    "\n",
    "以下の雛形には関数としての枠組みだけではなく、引数や返り値についてのコメントも記載してあります。参考にして、自分なりにも分かりやすくコメントを書き換えてください。"
   ]
  },
  {
   "cell_type": "markdown",
   "metadata": {},
   "source": [
    "雛形\n",
    "\n",
    "```python\n",
    "def compute_sorori_shinzaemon(day=100):\n",
    "    \"\"\"\n",
    "    曽呂利新左衛門の米の逸話を検証する関数。日にちごとの米の粒の数を計算する。\n",
    "\n",
    "    Parameteres\n",
    "    --------------\n",
    "    day: int\n",
    "        米を貰う日数 (default : 100)\n",
    "\n",
    "    Returns\n",
    "    --------------\n",
    "    list_n_grains : list\n",
    "        ある日に貰う米の数のリスト（リストの長さはdayに等しくなる）\n",
    "    list_total_grains : list\n",
    "        ある日までに累計で貰う米の数のリスト（リストの長さはdayに等しくなる）\n",
    "    \"\"\"\n",
    "\n",
    "    # ここにコードを書く。passは何もしないことを意味する命令である。\n",
    "    pass\n",
    "\n",
    "    return list_n_grains, list_total_grains\n",
    "\n",
    "list_n_grains, list_total_grains = compute_sorori_shinzaemon(day=10)\n",
    "```"
   ]
  },
  {
   "cell_type": "markdown",
   "metadata": {},
   "source": [
    "## 【問題3】何人が何日生活できる米か\n",
    "\n",
    "この米があれば何人が何日生活できるか計算する関数を作成してください。コースを受講する期間に貰える米粒で、このクラスにいる人数であれば、何日間生活できるかを出力してみましょう。\n",
    "\n",
    "関数の最低限の入力は 米粒の数(int) と 人数(int) 、出力は 生活できる日数(int) です。関数名やコメントなどは分かりやすく考えて作成してください。\n",
    "\n",
    "ここでは1日に必要な米粒の数は提示しません。自分なりに調べて、計算式に落とし込んでください。どう調べ、何を根拠にしたかもコメントを残しておいてください。"
   ]
  },
  {
   "cell_type": "code",
   "execution_count": 2,
   "metadata": {},
   "outputs": [
    {
     "data": {
      "image/png": "[encoded data removed]",
      "text/plain": [
       "<Figure size 432x288 with 1 Axes>"
      ]
     },
     "metadata": {
      "needs_background": "light"
     },
     "output_type": "display_data"
    },
    {
     "data": {
      "image/png": "[encoded data removed]",
      "text/plain": [
       "<Figure size 432x288 with 1 Axes>"
      ]
     },
     "metadata": {
      "needs_background": "light"
     },
     "output_type": "display_data"
    },
    {
     "name": "stdout",
     "output_type": "stream",
     "text": [
      "機械学習コースで何日間生活できるか\n"
     ]
    },
    {
     "data": {
      "text/plain": [
       "1.8461499941457166e+31"
      ]
     },
     "execution_count": 2,
     "metadata": {},
     "output_type": "execute_result"
    }
   ],
   "source": [
    "import time\n",
    "import matplotlib.pyplot as plt\n",
    "\n",
    "# ------課題1------\n",
    "rice = 1 # 1日目の米粒の数\n",
    "rice_acc = 1 #累積の米粒の数\n",
    "\n",
    "\"\"\"\n",
    "100日後の米粒の数を計算するコード\n",
    "\"\"\"\n",
    "# 空リスト（その日もらう数用）を作成\n",
    "list_rice = [1]\n",
    "\n",
    "# 空リスト（累積用）を作成\n",
    "list_rice_acc = [1]\n",
    "\n",
    "# 変数かける２して、リストに追加\n",
    "for i in range(100):\n",
    "    rice = rice * 2\n",
    "    list_rice.append(rice)\n",
    "    rice_acc += rice\n",
    "    list_rice_acc.append(rice_acc)\n",
    "\n",
    "# グラフ\n",
    "\"\"\"\n",
    "グラフを表示する。タイトルと軸ラベル名付き。\n",
    "\"\"\"\n",
    "\n",
    "plt.title(\"Rice accumuration\")\n",
    "plt.xlabel(\"day\")\n",
    "plt.ylabel(\"number of rices[pieces]\")\n",
    "plt.plot(list_rice, label=\"rice\")\n",
    "plt.plot(list_rice_acc, label=\"rice_acc\")\n",
    "plt.legend(loc=\"best\")\n",
    "plt.show()\n",
    "\n",
    "# ------課題2------\n",
    "def compute_sorori_shinzaemon(day=100):\n",
    "    \"\"\"\n",
    "    曽呂利新左衛門の米の逸話を検証する関数。日にちごとの米の粒の数を計算する。\n",
    "\n",
    "    Parameteres\n",
    "    --------------\n",
    "    day: int\n",
    "        米を貰う日数 (default : 100)\n",
    "\n",
    "    Returns\n",
    "    --------------\n",
    "    list_n_grains : list\n",
    "        ある日に貰う米の数のリスト（リストの長さはdayに等しくなる）\n",
    "    list_total_grains : list\n",
    "        ある日までに累計で貰う米の数のリスト（リストの長さはdayに等しくなる）\n",
    "    \"\"\"\n",
    "    # 初日の米粒数\n",
    "    rice=1\n",
    "    rice_acc=1\n",
    "\n",
    "    # 空リスト（その日もらう数用）を作成して、\n",
    "    list_n_grains = []\n",
    "    list_n_grains.append(rice)\n",
    "    \n",
    "    # 空リスト（累積用）を作成\n",
    "    list_total_grains = []\n",
    "    list_total_grains.append(rice)\n",
    "    \n",
    "    # 変数かける２して、リストに追加\n",
    "    for i in range(day):\n",
    "        rice = rice * 2\n",
    "        list_n_grains.append(rice)\n",
    "        rice_acc += rice\n",
    "        list_total_grains.append(rice_acc)\n",
    "\n",
    "    return list_n_grains, list_total_grains\n",
    "\n",
    "list_n_grains, list_total_grains = compute_sorori_shinzaemon(day=10)\n",
    "\n",
    "# グラフ\n",
    "\"\"\"\n",
    "グラフを表示する。タイトルと軸ラベル名付き。\n",
    "\"\"\"\n",
    "\n",
    "plt.title(\"Rice accumuration\")\n",
    "plt.xlabel(\"day\")\n",
    "plt.ylabel(\"number of rices[pieces]\")\n",
    "plt.plot(list_n_grains, label=\"n_grains\")\n",
    "plt.plot(list_total_grains, label=\"total_grains\")\n",
    "plt.legend(loc=\"best\")\n",
    "plt.show()\n",
    "\n",
    "# ------課題3------\n",
    "# 12,000粒/人、120日間と換算\n",
    "def predict_days(n_people, n_rice):\n",
    "    list_n_grains_dive, list_total_grains_dive = compute_sorori_shinzaemon(day=120)\n",
    "    days = list_total_grains_dive[-1]/(n_people * n_rice)\n",
    "    return days\n",
    "\n",
    "print(\"機械学習コースで何日間生活できるか\")\n",
    "predict_days(n_people=12, n_rice=12000)"
   ]
  },
  {
   "cell_type": "code",
   "execution_count": null,
   "metadata": {},
   "outputs": [],
   "source": []
  }
 ],
 "metadata": {
  "kernelspec": {
   "display_name": "Python 3",
   "language": "python",
   "name": "python3"
  },
  "language_info": {
   "codemirror_mode": {
    "name": "ipython",
    "version": 3
   },
   "file_extension": ".py",
   "mimetype": "text/x-python",
   "name": "python",
   "nbconvert_exporter": "python",
   "pygments_lexer": "ipython3",
   "version": "3.7.2"
  },
  "varInspector": {
   "cols": {
    "lenName": 16,
    "lenType": 16,
    "lenVar": 40
   },
   "kernels_config": {
    "python": {
     "delete_cmd_postfix": "",
     "delete_cmd_prefix": "del ",
     "library": "var_list.py",
     "varRefreshCmd": "print(var_dic_list())"
    },
    "r": {
     "delete_cmd_postfix": ") ",
     "delete_cmd_prefix": "rm(",
     "library": "var_list.r",
     "varRefreshCmd": "cat(var_dic_list()) "
    }
   },
   "types_to_exclude": [
    "module",
    "function",
    "builtin_function_or_method",
    "instance",
    "_Feature"
   ],
   "window_display": false
  }
 },
 "nbformat": 4,
 "nbformat_minor": 2
}
