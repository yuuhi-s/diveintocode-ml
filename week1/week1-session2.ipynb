{
 "cells": [
  {
   "cell_type": "markdown",
   "metadata": {},
   "source": [
    "# Week1授業課題2 何回折ったら富士山を超えるか問題\n",
    "\n",
    " ## テキストの目的\n",
    " \n",
    "- 基礎的なプログラミング力を確認する\n",
    "- 数式をプログラムに落とし込めるようにする"
   ]
  },
  {
   "cell_type": "markdown",
   "metadata": {},
   "source": [
    "## 何回折ったら富士山を超えるか問題\n",
    "\n",
    "「Pythonを使ってみよう」の問題では「1枚の紙を43回折り曲げた時の厚さを計算するプログラム」を作成し、43回折ることで月に届くことが確認できました。\n",
    "\n",
    "ここで「何回折ったらある厚さになるのか」という疑問が生まれます。こういったことを計算するプログラムを作成していきましょう。"
   ]
  },
  {
   "cell_type": "markdown",
   "metadata": {},
   "source": [
    "### 紙を折った時の厚さの数式\n",
    "\n",
    "授業前課題と同様ですが確認しておきます。\n",
    "\n",
    "n回折った紙の厚さ $t_n$ は以下のように表せます。\n",
    "\n",
    "$$ t_{n} = t_{0} \\times 2^{n} $$\n",
    "\n",
    "折る前の紙の厚さ $t_0$ は0.00008mとします。一般的なコピー用紙の厚さです。"
   ]
  },
  {
   "cell_type": "markdown",
   "metadata": {},
   "source": [
    "## 【問題1】富士山を超える最小の折る回数\n",
    "\n",
    "厚さが「富士山(3776m)」を超えるのは何回紙を折った時か計算するプログラムを作成してください。"
   ]
  },
  {
   "cell_type": "code",
   "execution_count": 1,
   "metadata": {},
   "outputs": [
    {
     "name": "stdout",
     "output_type": "stream",
     "text": [
      "厚さ： 5368.70912メートル、回数： 26回\n"
     ]
    }
   ],
   "source": [
    "\"\"\"\n",
    "厚さが富士山を超えるのは\n",
    "\"\"\"\n",
    "\n",
    "folded_thickness = 0.00008\n",
    "num = 0\n",
    "\n",
    "while folded_thickness <= 3776:\n",
    "    folded_thickness *= 2\n",
    "    num += 1\n",
    "\n",
    "print('厚さ： {}メートル、回数： {}回'.format(folded_thickness, num))\n"
   ]
  },
  {
   "cell_type": "markdown",
   "metadata": {},
   "source": [
    "## 【問題2】任意の厚さに対応した関数を作成\n",
    "\n",
    "距離を入力すると、何回折った時に超えるかを出力する関数を作成してください。引数として、折る前の厚さ $t_0$ も設定できるようにしましょう。\n",
    "\n",
    "この関数を利用して、「最も近い太陽以外の恒星」に到達するには紙を何回折る必要があるか計算してください。「最も近い太陽以外の恒星」の距離は調査してください。"
   ]
  },
  {
   "cell_type": "code",
   "execution_count": 2,
   "metadata": {},
   "outputs": [],
   "source": [
    "def folded_thickness_over(distance, thickness=0.00008):\n",
    "    num = 0\n",
    "    while thickness <= distance:\n",
    "        thickness *= 2\n",
    "        num += 1\n",
    "    return thickness, num"
   ]
  },
  {
   "cell_type": "markdown",
   "metadata": {},
   "source": [
    "### 最も近い太陽以外の恒星(プロキシマケンタウリ)の場合"
   ]
  },
  {
   "cell_type": "code",
   "execution_count": 3,
   "metadata": {},
   "outputs": [
    {
     "name": "stdout",
     "output_type": "stream",
     "text": [
      "厚さ： 4.7223664828696456e+16メートル、回数： 69回\n"
     ]
    }
   ],
   "source": [
    "proxima_distance, proxima_num = folded_thickness_over(4.243 * 9.461e+15)\n",
    "print('厚さ： {}メートル、回数： {}回'.format(proxima_distance, proxima_num))"
   ]
  },
  {
   "cell_type": "markdown",
   "metadata": {},
   "source": [
    "## 【問題3】必要な紙の長さ\n",
    "実際のところ身近にある紙は43回はおろか10回も折れません。しかし、大きな紙ほどたくさん折ることができ、トイレットペーパーのような長い紙を一方向に折ることを考えた時の折れる回数を求める公式が存在します。\n",
    "\n",
    "厚さ $t_0$ の紙をn回折るために必要な紙の長さLは以下の公式で求まります。\n",
    "\n",
    "$$ L = \\frac{\\pi t_{0}}{6}(2^n + 4)(2^n - 1) $$"
   ]
  },
  {
   "cell_type": "markdown",
   "metadata": {},
   "source": [
    "この公式を利用して、実際に紙を折り任意の厚さに到達するために必要な紙の長さを求める関数を作成してください。\n",
    "\n",
    "そしてこれを使って「月」「富士山」「最も近い太陽以外の恒星」に届くために必要な紙の長さを求めてください。\n",
    "\n",
    "公式の出典\n",
    "\n",
    "[Folding Paper in Half | Teachers of India](http://teachersofindia.org/en/ebook/folding-paper-half)\n",
    "\n",
    "解説記事\n",
    "\n",
    "[Britney Gallivan - Wikipedia](https://en.wikipedia.org/wiki/Britney_Gallivan)\n",
    "\n",
    "ヒント\n",
    "\n",
    "この公式の中で折る回数nが登場しますが、このnは先ほど作成した関数で求まります。関数の中で関数を使うことが可能です。"
   ]
  },
  {
   "cell_type": "code",
   "execution_count": 4,
   "metadata": {},
   "outputs": [],
   "source": [
    "import math\n",
    "def paper(number, thickness=0.00008):\n",
    "    a, b = folded_thickness_over(number)\n",
    "    l = (math.pi * thickness / 6) * (2**b + 4) * (2**b - 1)\n",
    "    return l"
   ]
  },
  {
   "cell_type": "code",
   "execution_count": 5,
   "metadata": {},
   "outputs": [
    {
     "name": "stdout",
     "output_type": "stream",
     "text": [
      "月までに届くために必要な長さは3.240919444170781e+21m\n"
     ]
    }
   ],
   "source": [
    "#月の場合\n",
    "moon = paper(384400000)\n",
    "print('月までに届くために必要な長さは{}m'.format(moon))"
   ]
  },
  {
   "cell_type": "code",
   "execution_count": 6,
   "metadata": {},
   "outputs": [
    {
     "name": "stdout",
     "output_type": "stream",
     "text": [
      "富士山までに届くために必要な長さは188646348487.24017m\n"
     ]
    }
   ],
   "source": [
    "#富士山の場合\n",
    "fuji = paper(3776)\n",
    "print('富士山までに届くために必要な長さは{}m'.format(fuji))"
   ]
  },
  {
   "cell_type": "code",
   "execution_count": 7,
   "metadata": {
    "scrolled": true
   },
   "outputs": [
    {
     "name": "stdout",
     "output_type": "stream",
     "text": [
      "プロキシマケンタウリまでに届くために必要な長さは1.4595803601100348e+37m\n"
     ]
    }
   ],
   "source": [
    "#プロキシマケンタウリの場合\n",
    "proxima = paper(4.243 * 9.461e+15)\n",
    "print('プロキシマケンタウリまでに届くために必要な長さは{}m'.format(proxima))"
   ]
  }
 ],
 "metadata": {
  "kernelspec": {
   "display_name": "Python 3",
   "language": "python",
   "name": "python3"
  },
  "language_info": {
   "codemirror_mode": {
    "name": "ipython",
    "version": 3
   },
   "file_extension": ".py",
   "mimetype": "text/x-python",
   "name": "python",
   "nbconvert_exporter": "python",
   "pygments_lexer": "ipython3",
   "version": "3.7.2"
  },
  "varInspector": {
   "cols": {
    "lenName": 16,
    "lenType": 16,
    "lenVar": 40
   },
   "kernels_config": {
    "python": {
     "delete_cmd_postfix": "",
     "delete_cmd_prefix": "del ",
     "library": "var_list.py",
     "varRefreshCmd": "print(var_dic_list())"
    },
    "r": {
     "delete_cmd_postfix": ") ",
     "delete_cmd_prefix": "rm(",
     "library": "var_list.r",
     "varRefreshCmd": "cat(var_dic_list()) "
    }
   },
   "types_to_exclude": [
    "module",
    "function",
    "builtin_function_or_method",
    "instance",
    "_Feature"
   ],
   "window_display": false
  }
 },
 "nbformat": 4,
 "nbformat_minor": 2
}
