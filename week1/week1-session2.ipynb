{
 "cells": [
  {
   "cell_type": "markdown",
   "metadata": {},
   "source": [
    "# Week1授業課題2 何回折ったら富士山を超えるか問題"
   ]
  },
  {
   "cell_type": "markdown",
   "metadata": {},
   "source": [
    "## 富士山を超える最小の折る回数"
   ]
  },
  {
   "cell_type": "code",
   "execution_count": 1,
   "metadata": {},
   "outputs": [
    {
     "name": "stdout",
     "output_type": "stream",
     "text": [
      "厚さ： 5368.70912メートル、回数： 26回\n"
     ]
    }
   ],
   "source": [
    "\"\"\"\n",
    "厚さが富士山を超えるのは\n",
    "\"\"\"\n",
    "\n",
    "folded_thickness = 0.00008\n",
    "num = 0\n",
    "\n",
    "while folded_thickness <= 3776:\n",
    "    folded_thickness *= 2\n",
    "    num += 1\n",
    "\n",
    "print('厚さ： {}メートル、回数： {}回'.format(folded_thickness, num))\n"
   ]
  },
  {
   "cell_type": "markdown",
   "metadata": {},
   "source": [
    "## 任意の厚さに対応した関数を作成"
   ]
  },
  {
   "cell_type": "code",
   "execution_count": 2,
   "metadata": {},
   "outputs": [],
   "source": [
    "def folded_thickness_over(distance, thickness=0.00008):\n",
    "    num = 0\n",
    "    while thickness <= distance:\n",
    "        thickness *= 2\n",
    "        num += 1\n",
    "    return thickness, num"
   ]
  },
  {
   "cell_type": "markdown",
   "metadata": {},
   "source": [
    "### 最も近い太陽以外の恒星(プロキシマケンタウリ)の場合"
   ]
  },
  {
   "cell_type": "code",
   "execution_count": 3,
   "metadata": {},
   "outputs": [
    {
     "name": "stdout",
     "output_type": "stream",
     "text": [
      "厚さ： 4.7223664828696456e+16メートル、回数： 69回\n"
     ]
    }
   ],
   "source": [
    "proxima_distance, proxima_num = folded_thickness_over(4.243 * 9.461e+15)\n",
    "print('厚さ： {}メートル、回数： {}回'.format(proxima_distance, proxima_num))"
   ]
  },
  {
   "cell_type": "markdown",
   "metadata": {},
   "source": [
    "## 必要な紙の長さ"
   ]
  },
  {
   "cell_type": "code",
   "execution_count": 4,
   "metadata": {},
   "outputs": [],
   "source": [
    "import math\n",
    "def paper(number, thickness=0.00008):\n",
    "    a, b = folded_thickness_over(number)\n",
    "    l = (math.pi * thickness / 6) * (2**b + 4) * (2**b - 1)\n",
    "    return l"
   ]
  },
  {
   "cell_type": "code",
   "execution_count": 5,
   "metadata": {},
   "outputs": [
    {
     "name": "stdout",
     "output_type": "stream",
     "text": [
      "月までに届くために必要な長さは3.240919444170781e+21m\n"
     ]
    }
   ],
   "source": [
    "#月の場合\n",
    "moon = paper(384400000)\n",
    "print('月までに届くために必要な長さは{}m'.format(moon))"
   ]
  },
  {
   "cell_type": "code",
   "execution_count": 6,
   "metadata": {},
   "outputs": [
    {
     "name": "stdout",
     "output_type": "stream",
     "text": [
      "富士山までに届くために必要な長さは188646348487.24017m\n"
     ]
    }
   ],
   "source": [
    "#富士山の場合\n",
    "fuji = paper(3776)\n",
    "print('富士山までに届くために必要な長さは{}m'.format(fuji))"
   ]
  },
  {
   "cell_type": "code",
   "execution_count": 7,
   "metadata": {
    "scrolled": true
   },
   "outputs": [
    {
     "name": "stdout",
     "output_type": "stream",
     "text": [
      "プロキシマケンタウリまでに届くために必要な長さは1.4595803601100348e+37m\n"
     ]
    }
   ],
   "source": [
    "#プロキシマケンタウリの場合\n",
    "proxima = paper(4.243 * 9.461e+15)\n",
    "print('プロキシマケンタウリまでに届くために必要な長さは{}m'.format(proxima))"
   ]
  },
  {
   "cell_type": "code",
   "execution_count": null,
   "metadata": {},
   "outputs": [],
   "source": []
  }
 ],
 "metadata": {
  "kernelspec": {
   "display_name": "Python 3",
   "language": "python",
   "name": "python3"
  },
  "language_info": {
   "codemirror_mode": {
    "name": "ipython",
    "version": 3
   },
   "file_extension": ".py",
   "mimetype": "text/x-python",
   "name": "python",
   "nbconvert_exporter": "python",
   "pygments_lexer": "ipython3",
   "version": "3.7.2"
  }
 },
 "nbformat": 4,
 "nbformat_minor": 2
}
