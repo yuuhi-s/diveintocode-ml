{
 "cells": [
  {
   "cell_type": "markdown",
   "metadata": {},
   "source": [
    "# Week1授業前課題1 Pythonを使ってみよう\n",
    "\n",
    "この課題の目的\n",
    "\n",
    "- 基礎的なプログラミング方法を確認する。\n",
    "- 調べながら進める習慣をつける。"
   ]
  },
  {
   "cell_type": "markdown",
   "metadata": {},
   "source": [
    "## 紙を折る\n",
    "\n",
    "紙を折り続けると厚さが増していき、43回で月に届くという話があります。しかし、実際には10回も折ることができません。また、手計算も大変です。\n",
    "\n",
    "そこで今回の課題では 1枚の紙を43回折り曲げた時の厚さを計算するプログラム を作成します。\n",
    "\n",
    "43回折った紙の厚さ $t_{43}$ は、折る前の紙の厚さ $t_0$ を使い以下の数式で求まります。\n",
    "\n",
    "$$ t_{43} = t_{0} \\times 2^{43} $$\n",
    "\n",
    "折る前の紙の厚さ $t_0$ は0.00008mとします。一般的なコピー用紙の厚さです。"
   ]
  },
  {
   "cell_type": "markdown",
   "metadata": {},
   "source": [
    "## 2つの方法による厚さの計算\n",
    "\n",
    "プログラミングでは同じ動作を様々な方法で記述することができます。今回は以下の2つを作成してください。\n",
    "\n",
    "- べき乗の算術演算子を使用\n",
    "- for文を使用"
   ]
  },
  {
   "cell_type": "markdown",
   "metadata": {},
   "source": [
    "## 【問題1】べき乗の算術演算子を使用して作成\n",
    "べき乗の算術演算子を使用したプログラムを作ってください。 \n",
    "雛形として紙を1回折った時の厚さを計算するコードを用意しました。これを43回折った時のコードに書き換えてください。"
   ]
  },
  {
   "cell_type": "markdown",
   "metadata": {},
   "source": [
    "雛形\n",
    "```python\n",
    "\"\"\"\n",
    "紙を1回折った時の厚さを計算するコード\n",
    "\"\"\"\n",
    "\n",
    "THICKNESS = 0.00008\n",
    "\n",
    "folded_thickness = THICKNESS*2\n",
    "\n",
    "print(\"厚さ： {}メートル\".format(folded_thickness))\n",
    "```"
   ]
  },
  {
   "cell_type": "code",
   "execution_count": 1,
   "metadata": {
    "scrolled": true
   },
   "outputs": [
    {
     "name": "stdout",
     "output_type": "stream",
     "text": [
      "厚さ： 703687441.77664メートル\n"
     ]
    }
   ],
   "source": [
    "\"\"\"\n",
    "紙を43回折った時の厚さを計算するコード\n",
    "\"\"\"\n",
    "\n",
    "thickness = 0.00008\n",
    "\n",
    "folded_thickness = thickness * (2 ** 43)\n",
    "\n",
    "print('厚さ： {}メートル'.format(folded_thickness))"
   ]
  },
  {
   "cell_type": "markdown",
   "metadata": {},
   "source": [
    "## 【問題2】単位の変換\n",
    "\n",
    "単位がメートルだと実感が湧きづらいので、◯◯万キロメートル に変換して表示させてください。\n",
    "\n",
    "サンプルとして ◯◯キロメートル に変換したコードを用意したので、参考にして取り組んでください。小数点以下は2桁まで表示されるようにも指定しています。"
   ]
  },
  {
   "cell_type": "markdown",
   "metadata": {},
   "source": [
    "サンプルコード\n",
    "\n",
    "```python\n",
    "# メートルをキロメートルに変換して小数点以下2桁で表示する\n",
    "print(\"厚さ： {:.2f}キロメートル\".format(folded_thickness/1000))\n",
    "```"
   ]
  },
  {
   "cell_type": "markdown",
   "metadata": {},
   "source": [
    "「月までの距離」を検索して、折った紙が月に届くかどうか確認してみましょう。"
   ]
  },
  {
   "cell_type": "code",
   "execution_count": 2,
   "metadata": {},
   "outputs": [
    {
     "name": "stdout",
     "output_type": "stream",
     "text": [
      "厚さ： 70.37万キロメートル\n"
     ]
    }
   ],
   "source": [
    "# メートルを万キロメートルに変換して小数点以下2桁で表示する\n",
    "print('厚さ： {:.2f}万キロメートル'.format(folded_thickness/10000000))"
   ]
  },
  {
   "cell_type": "markdown",
   "metadata": {},
   "source": [
    "月までの距離は約38万kmであり、対して紙を43回折った時の厚さは約70万kmであるため、折った紙は月に届く。\n",
    "\n",
    "[月までの距離はどれくらい？ - 天文情報 - 仙台市天文台](http://www.sendai-astro.jp/observation/blog/2010/08/q014.html)\n"
   ]
  },
  {
   "cell_type": "markdown",
   "metadata": {},
   "source": [
    "## 【問題3】for文を使用して作成\n",
    "次に、for文を使用したプログラムを作ってください。\n",
    "\n",
    "べき乗の算術演算子は使ってはいけません。算術演算子は四則演算（+、-、\\*、/）のみ使えます。\n",
    "\n",
    "ヒント\n",
    "\n",
    "べき乗は以下のように掛け算の繰り返しに置き換えることができます。\n",
    "\n",
    "$2^3$ =2×2×2\n",
    " \n",
    "$2^5$ =2×2×2×2×2"
   ]
  },
  {
   "cell_type": "code",
   "execution_count": 3,
   "metadata": {
    "scrolled": true
   },
   "outputs": [
    {
     "name": "stdout",
     "output_type": "stream",
     "text": [
      "厚さ： 703687441.77664メートル\n",
      "厚さ： 70.37万キロメートル\n"
     ]
    }
   ],
   "source": [
    "for i in range(44):\n",
    "    for_folded_thickness = thickness * (2 ** i)\n",
    "    \n",
    "print('厚さ： {}メートル'.format(for_folded_thickness))\n",
    "\n",
    "# メートルを万キロメートルに変換して小数点以下2桁で表示する\n",
    "print('厚さ： {:.2f}万キロメートル'.format(for_folded_thickness/10000000))"
   ]
  },
  {
   "cell_type": "markdown",
   "metadata": {},
   "source": [
    "## 【問題4】計算時間の比較\n",
    "2つの方法はどちらが正しいわけでもありませんが、コードの良さを評価する際には以下のような着目点があります。\n",
    "\n",
    "- 計算速度\n",
    "- メモリの使用量\n",
    "- 可読性\n",
    "- 拡張性\n",
    "- 再利用性\n",
    "\n",
    "今回は計算速度を比較してみます。以下の雛形を使用して、2つの方法の計算時間を出力してください。そして、それぞれの計算時間の関係を簡単に説明してください。どちらの書き方が良さそうでしょうか。"
   ]
  },
  {
   "cell_type": "markdown",
   "metadata": {},
   "source": [
    "雛形\n",
    "\n",
    "```python\n",
    "import time\n",
    "start = time.time()\n",
    "#####\n",
    "# ここに上で書いたコードを貼り付ける\n",
    "#####\n",
    "elapsed_time = time.time() - start\n",
    "print(\"time : {}[s]\".format(elapsed_time))\n",
    "```"
   ]
  },
  {
   "cell_type": "markdown",
   "metadata": {},
   "source": [
    "### ・べき乗演算子の場合"
   ]
  },
  {
   "cell_type": "code",
   "execution_count": 4,
   "metadata": {},
   "outputs": [
    {
     "name": "stdout",
     "output_type": "stream",
     "text": [
      "厚さ： 703687441.77664メートル\n",
      "time : 0.00019812583923339844[s]\n"
     ]
    }
   ],
   "source": [
    "import time\n",
    "start = time.time()\n",
    "\n",
    "thickness = 0.00008\n",
    "\n",
    "folded_thickness = thickness * (2 ** 43)\n",
    "\n",
    "print('厚さ： {}メートル'.format(folded_thickness))\n",
    "\n",
    "elapsed_time = time.time() - start\n",
    "print('time : {}[s]'.format(elapsed_time))"
   ]
  },
  {
   "cell_type": "markdown",
   "metadata": {},
   "source": [
    "### ・for文の場合"
   ]
  },
  {
   "cell_type": "code",
   "execution_count": 5,
   "metadata": {},
   "outputs": [
    {
     "name": "stdout",
     "output_type": "stream",
     "text": [
      "厚さ： 703687441.77664メートル\n",
      "time : 0.000247955322265625[s]\n"
     ]
    }
   ],
   "source": [
    "import time\n",
    "start = time.time()\n",
    "\n",
    "for i in range(44):\n",
    "    for_folded_thickness = thickness * (2 ** i)\n",
    "    \n",
    "print('厚さ： {}メートル'.format(for_folded_thickness))\n",
    "\n",
    "elapsed_time = time.time() - start\n",
    "print('time : {}[s]'.format(elapsed_time))"
   ]
  },
  {
   "cell_type": "markdown",
   "metadata": {},
   "source": [
    "べき乗演算子を用いた場合の計算時間は約0.00020秒、for文を用いた場合の計算時間は約0.00025秒であった。べき乗演算子を用いた場合の方が計算時間が短いため、こちらの書き方の方がより良好であると考えられる。"
   ]
  },
  {
   "cell_type": "markdown",
   "metadata": {},
   "source": [
    "## 過程の可視化\n",
    "\n",
    "折り曲げた時の厚さを毎回記録しておき、それを折れ線グラフで可視化してみます。\n",
    "\n",
    "数式を一般化し、n回折った紙の厚さ $t_n$ は以下のように表せます。\n",
    "\n",
    "$$ t_{n} = t_{0}\\times 2^{n} $$\n",
    "\n",
    "これは指数関数です。指数関数は値が急激に増加する性質があります。厚さが急激に増えて月に到達する様子をグラフで見てみましょう。"
   ]
  },
  {
   "cell_type": "markdown",
   "metadata": {},
   "source": [
    "## 【問題5】リストへの保存\n",
    "\n",
    "ここまでは43回折った後の最後の値だけを使用していましたが、グラフで可視化するためには過程の値も必要です。for文を使用したコードに、過程の値合計44個を記録するコードを加えてください。\n",
    "\n",
    "ヒント\n",
    "\n",
    "- 空のリストを作成する。\n",
    "- 折る前の値をリストに追加する。\n",
    "- for文の中でn回折った時の値をリストに追加していく。\n",
    "\n",
    "最終的にリストに44個の値が格納されていることをlen関数を用いて確認しておきましょう。"
   ]
  },
  {
   "cell_type": "code",
   "execution_count": 6,
   "metadata": {},
   "outputs": [
    {
     "name": "stdout",
     "output_type": "stream",
     "text": [
      "配列の要素数 : 44\n"
     ]
    }
   ],
   "source": [
    "numbers = []\n",
    "\n",
    "for i in range(44):\n",
    "    for_folded_thickness = thickness * (2 ** i)\n",
    "    numbers.append(for_folded_thickness)\n",
    "\n",
    "n_numbers = len(numbers)\n",
    "print('配列の要素数 : {}'.format(n_numbers))"
   ]
  },
  {
   "cell_type": "markdown",
   "metadata": {},
   "source": [
    "## 【問題6】折れ線グラフの表示\n",
    "\n",
    "グラフの描画には Matplotlib という ライブラリ を用います。リストへ記録するコードの後ろで以下の雛形を使用してください。"
   ]
  },
  {
   "cell_type": "markdown",
   "metadata": {},
   "source": [
    "雛形\n",
    "\n",
    "```python\n",
    "\"\"\"\n",
    "グラフを表示する。タイトルと軸ラベル名付き。\n",
    "\"\"\"\n",
    "import matplotlib.pyplot as plt\n",
    "%matplotlib inline\n",
    "\n",
    "plt.title(\"thickness of folded paper\")\n",
    "plt.xlabel(\"number of folds\")\n",
    "plt.ylabel(\"thickness[m]\")\n",
    "plt.plot(リスト名) # 「リスト名」のところにリストの変数名を入れる\n",
    "plt.show()\n",
    "```"
   ]
  },
  {
   "cell_type": "markdown",
   "metadata": {},
   "source": [
    "グラフを表示させた場合はそれに対する考察が重要です。厚さがどのように変化しているかを簡単に説明してください。"
   ]
  },
  {
   "cell_type": "code",
   "execution_count": 7,
   "metadata": {},
   "outputs": [
    {
     "data": {
      "image/png": "[encoded data removed]",
      "text/plain": [
       "<Figure size 432x288 with 1 Axes>"
      ]
     },
     "metadata": {
      "needs_background": "light"
     },
     "output_type": "display_data"
    }
   ],
   "source": [
    "import matplotlib.pyplot as plt\n",
    "%matplotlib inline\n",
    "\n",
    "plt.title('thickness of folded paper')\n",
    "plt.xlabel('number of folds')\n",
    "plt.ylabel('thickness[m]')\n",
    "plt.plot(numbers);"
   ]
  },
  {
   "cell_type": "markdown",
   "metadata": {},
   "source": [
    "上記のグラフは、縦軸が紙の厚さ(m)、横軸が紙を折った回数を示しており、紙を折った回数が40回の手前までは紙の厚さが1mを超えず、ほぼ平坦であったが、それ以降では急激な紙の厚さの増加が認められた。"
   ]
  },
  {
   "cell_type": "markdown",
   "metadata": {},
   "source": [
    "## 【問題7】グラフのカスタマイズ\n",
    "\n",
    "グラフをより見やすくカスタマイズしてみましょう。カスタマイズしたグラフを最低3種類作成してください。例えば以下のように書き換えることで、線の色を赤に変更できます。"
   ]
  },
  {
   "cell_type": "markdown",
   "metadata": {},
   "source": [
    "サンプルコード\n",
    "\n",
    "```python\n",
    "\"\"\"\n",
    "赤い折れ線グラフを表示する。\n",
    "\"\"\"\n",
    "plt.title(\"thickness of folded paper\")\n",
    "plt.xlabel(\"number of folds\")\n",
    "plt.ylabel(\"thickness[m]\")\n",
    "plt.plot(リスト名, color='red')\n",
    "plt.show()\n",
    "```"
   ]
  },
  {
   "cell_type": "markdown",
   "metadata": {},
   "source": [
    "どのようなことができるかはMatplotlibの公式ドキュメントを参考にします。\n",
    "\n",
    "[matplotlib.pyplot.plot — Matplotlib 3.0.2 documentation](https://matplotlib.org/api/_as_gen/matplotlib.pyplot.plot.html)\n",
    "\n",
    "カスタマイズ例\n",
    "\n",
    "- 線の色を青と赤以外にする。\n",
    "- 線を太くする。\n",
    "- 線を点線にする。\n",
    "- 値のフォントサイズを変更する。\n",
    "\n",
    "上記のページに載っていないカスタマイズも可能です。"
   ]
  },
  {
   "cell_type": "markdown",
   "metadata": {},
   "source": [
    "サンプルコード\n",
    "\n",
    "```python\n",
    "\"\"\"\n",
    "軸の値を大きく表示する。\n",
    "\"\"\"\n",
    "plt.title(\"thickness of folded paper\")\n",
    "plt.xlabel(\"number of folds\")\n",
    "plt.ylabel(\"thickness[m]\")\n",
    "plt.tick_params(labelsize=20) # 軸の値に関する設定を行う\n",
    "plt.plot(リスト名)\n",
    "plt.show()\n",
    "```"
   ]
  },
  {
   "cell_type": "markdown",
   "metadata": {},
   "source": [
    "このplt.tick_params()に関しては以下のページで説明されています。\n",
    "\n",
    "[matplotlib.pyplot.tick_params — Matplotlib 2.1.1 documentation](https://matplotlib.org/2.1.1/api/_as_gen/matplotlib.pyplot.tick_params.html)\n",
    "\n",
    "様々なカスタマイズ方法を調べて見やすいグラフを作成しましょう。\n",
    "\n",
    "この課題への回答を分かりやすく綺麗なものにまとめられたら完成です。"
   ]
  },
  {
   "cell_type": "code",
   "execution_count": 8,
   "metadata": {},
   "outputs": [
    {
     "data": {
      "image/png": "[encoded data removed]",
      "text/plain": [
       "<Figure size 432x288 with 1 Axes>"
      ]
     },
     "metadata": {
      "needs_background": "light"
     },
     "output_type": "display_data"
    }
   ],
   "source": [
    "#線の色を緑色に変更\n",
    "\n",
    "plt.title('thickness of folded paper')\n",
    "plt.xlabel('number of folds')\n",
    "plt.ylabel('thickness[m]')\n",
    "plt.plot(numbers, color='green');"
   ]
  },
  {
   "cell_type": "code",
   "execution_count": 9,
   "metadata": {},
   "outputs": [
    {
     "data": {
      "image/png": "[encoded data removed]",
      "text/plain": [
       "<Figure size 432x288 with 1 Axes>"
      ]
     },
     "metadata": {
      "needs_background": "light"
     },
     "output_type": "display_data"
    }
   ],
   "source": [
    "#線を点線に変更\n",
    "\n",
    "plt.title('thickness of folded paper')\n",
    "plt.xlabel('number of folds')\n",
    "plt.ylabel('thickness[m]')\n",
    "plt.plot(numbers, linestyle='dashed');"
   ]
  },
  {
   "cell_type": "code",
   "execution_count": 10,
   "metadata": {},
   "outputs": [
    {
     "data": {
      "image/png": "[encoded data removed]",
      "text/plain": [
       "<Figure size 432x288 with 1 Axes>"
      ]
     },
     "metadata": {
      "needs_background": "light"
     },
     "output_type": "display_data"
    }
   ],
   "source": [
    "#線を太くする\n",
    "\n",
    "plt.title('thickness of folded paper')\n",
    "plt.xlabel('number of folds')\n",
    "plt.ylabel('thickness[m]')\n",
    "plt.plot(numbers, linewidth=5);"
   ]
  },
  {
   "cell_type": "code",
   "execution_count": 11,
   "metadata": {},
   "outputs": [
    {
     "data": {
      "image/png": "[encoded data removed]",
      "text/plain": [
       "<Figure size 432x288 with 1 Axes>"
      ]
     },
     "metadata": {
      "needs_background": "light"
     },
     "output_type": "display_data"
    }
   ],
   "source": [
    "#線を薄くする(透過度を下げる)\n",
    "\n",
    "plt.title('thickness of folded paper')\n",
    "plt.xlabel('number of folds')\n",
    "plt.ylabel('thickness[m]')\n",
    "plt.plot(numbers, alpha=0.1);"
   ]
  },
  {
   "cell_type": "markdown",
   "metadata": {},
   "source": [
    "## 【オプション課題】 Pythonが使われる理由\n",
    "\n",
    "Pythonには機械学習向けのライブラリが豊富であり、効率的な開発が可能である。また、汎用性が高い言語であり、様々な場面で使用されている。"
   ]
  }
 ],
 "metadata": {
  "kernelspec": {
   "display_name": "Python 3",
   "language": "python",
   "name": "python3"
  },
  "language_info": {
   "codemirror_mode": {
    "name": "ipython",
    "version": 3
   },
   "file_extension": ".py",
   "mimetype": "text/x-python",
   "name": "python",
   "nbconvert_exporter": "python",
   "pygments_lexer": "ipython3",
   "version": "3.7.2"
  },
  "varInspector": {
   "cols": {
    "lenName": 16,
    "lenType": 16,
    "lenVar": 40
   },
   "kernels_config": {
    "python": {
     "delete_cmd_postfix": "",
     "delete_cmd_prefix": "del ",
     "library": "var_list.py",
     "varRefreshCmd": "print(var_dic_list())"
    },
    "r": {
     "delete_cmd_postfix": ") ",
     "delete_cmd_prefix": "rm(",
     "library": "var_list.r",
     "varRefreshCmd": "cat(var_dic_list()) "
    }
   },
   "types_to_exclude": [
    "module",
    "function",
    "builtin_function_or_method",
    "instance",
    "_Feature"
   ],
   "window_display": false
  }
 },
 "nbformat": 4,
 "nbformat_minor": 2
}
