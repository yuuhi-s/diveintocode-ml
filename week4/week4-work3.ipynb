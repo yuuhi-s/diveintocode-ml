{
 "cells": [
  {
   "cell_type": "markdown",
   "metadata": {},
   "source": [
    "# Week4授業前課題3 オブジェクト指向に慣れよう   \n",
    "\n",
    "この課題の目的   \n",
    "- クラスを利用したコードを読み書きできるようにする"
   ]
  },
  {
   "cell_type": "markdown",
   "metadata": {},
   "source": [
    "## オブジェクト指向\n",
    "\n",
    "これまでの課題では触れてきませんでしたが、StandardScalerやLinearRegressionのような クラス と呼ばれるものがPythonなどのプログラム言語では利用できます。\n",
    "\n",
    "クラスの構文は、オブジェクト指向と呼ばれる考え方を利用したプログラミングの基本的な道具になります。\n",
    "\n",
    "この課題ではこれまでに既に登場していたクラスを例に、クラスを活用することでどのようなことができるのかを見て学んでいきます。そして課題の後半ではStandardScalerのクラスをスクラッチで自作します。"
   ]
  },
  {
   "cell_type": "markdown",
   "metadata": {},
   "source": [
    "## scikit-learnの標準化クラス\n",
    "\n",
    "課題1で利用したscikit-learnに用意されている標準化を行うためのクラスStandardScalerを例に見ていきます。サンプルコードを用意しましたので、これを利用しながら理解していきます。\n",
    "\n",
    "[sklearn.preprocessing.StandardScaler — scikit-learn 0.20.0 documentation](https://scikit-learn.org/stable/modules/generated/sklearn.preprocessing.StandardScaler.html)\n",
    "\n",
    "サンプルコード"
   ]
  },
  {
   "cell_type": "markdown",
   "metadata": {},
   "source": [
    "```python\n",
    "import numpy as np\n",
    "from sklearn.preprocessing import StandardScaler\n",
    "from sklearn.datasets import load_iris\n",
    "\n",
    "data = load_iris()\n",
    "X = data.data[:10]\n",
    "\n",
    "scaler = StandardScaler()\n",
    "scaler.fit(X)\n",
    "print(\"平均 :\", scaler.mean_)\n",
    "print(\"分散 :\", scaler.var_)\n",
    "X_std = scaler.transform(X)\n",
    "```"
   ]
  },
  {
   "cell_type": "markdown",
   "metadata": {},
   "source": [
    "### インスタンス化\n",
    "クラスを使う際はまず以下のようなコードを書きますが、これを インスタンス化 と呼びます。\n",
    "\n",
    "scaler = StandardScaler()\n",
    "\n",
    "StandardScalerというクラスオブジェクトから、scalerと名前をつけたインスタンスオブジェクトが作られました。\n",
    "\n",
    "クラスの命名法\n",
    "\n",
    "Pythonではクラス名は頭文字が大文字、他は小文字という命名法がPEP8により定められています。単語間にアンダースコアは入れません。これを CapWords 方式と呼びます。\n",
    "\n",
    "はじめに — pep8-ja 1.0 ドキュメント クラスの名前\n",
    "\n",
    "こういった形式のものはクラスだと判断することができます。\n",
    "\n",
    "インスタンスは複数作れる\n",
    "\n",
    "あるクラスオブジェクトからは複数のインスタンスオブジェクトを作成することが可能です。"
   ]
  },
  {
   "cell_type": "markdown",
   "metadata": {},
   "source": [
    "```python\n",
    "scaler0 = StandardScaler()\n",
    "scaler1 = StandardScaler()\n",
    "scaler2 = StandardScaler()\n",
    "```"
   ]
  },
  {
   "cell_type": "markdown",
   "metadata": {},
   "source": [
    "## 【問題1】これまで利用してきたクラスの列挙\n",
    "\n",
    "クラスを使う際はインスタンス化を行うことと、クラスの命名法がわかりました。この情報を元に、これまでの課題で利用してきたコードの中でどのようなクラスがあったかを答えてください。\n",
    "\n",
    "最低でもPandas、matplotlib、scikit-learnからそれぞれ1つ以上見つけてください。\n",
    "\n"
   ]
  },
  {
   "cell_type": "markdown",
   "metadata": {},
   "source": [
    "- Pandas   \n",
    "DataFrame, Series   \n",
    "<br>\n",
    "- matplotlib   \n",
    "Figure   \n",
    "<br>\n",
    "- scikit-learn   \n",
    "StandardScaler, KNeighborsClassifier, LogisticRegression, SVC, DecisionTreeClassifier, RandomForestClassifier, LinearRegression, SVR、DecisionTreeRegression, RandomForestRegression"
   ]
  },
  {
   "cell_type": "markdown",
   "metadata": {},
   "source": [
    "### メソッド\n",
    "\n",
    "インスタンス化を行った後には、scaler.fit(X)のような メソッド の実行がきます。StandardScalerのfitメソッドは後でスケーリングに使われる平均と標準偏差を計算する機能があります。"
   ]
  },
  {
   "cell_type": "markdown",
   "metadata": {},
   "source": [
    "## インスタンス変数（アトリビュート）\n",
    "\n",
    "fitメソッドにより平均と標準偏差が計算されましたが、見た目には変化があるわけではありません。しかし、scalerインスタンスの内部では計算結果が保存されています。こういったインスタンスの中で値を保存するものを インスタンス変数 や アトリビュート（属性） と呼びます。ここで平均がscaler.mean_、標準偏差の2乗した値である分散がscaler.var_に保存されています。\n",
    "\n",
    "以下のようにprint文で出力させることができます。"
   ]
  },
  {
   "cell_type": "markdown",
   "metadata": {},
   "source": [
    "```python\n",
    "print(\"平均 :\", scaler.mean_) # 平均 : [4.86 3.31 1.45 0.22]\n",
    "print(\"分散 :\", scaler.var_) # 分散 : [0.0764 0.0849 0.0105 0.0056]\n",
    "```"
   ]
  },
  {
   "cell_type": "markdown",
   "metadata": {},
   "source": [
    "メソッドとインスタンス変数の命名法\n",
    "\n",
    "メソッドやインスタンス変数の命名は関数と同様に、全て小文字で行います。単語をつなぐときにはアンダースコアを入れます。\n",
    "\n",
    "[はじめに — pep8-ja 1.0 ドキュメント メソッド名とインスタンス変数](https://pep8-ja.readthedocs.io/ja/latest/#id37)"
   ]
  },
  {
   "cell_type": "markdown",
   "metadata": {},
   "source": [
    "## 【問題2】これまで利用してきたメソッドやインスタンス変数の列挙\n",
    "\n",
    "これまでの課題で利用してきたコードの中でどのようなメソッドやインスタンス変数があったかを答えてください。\n",
    "\n",
    "最低でもそれぞれ5つ以上答えてください。\n",
    "\n",
    "ndarrayやstrもインスタンス\n",
    "\n",
    "ドットをつけるというと、NumPyのndarrayに対してndarray.shapeやndarray.sum()のような使い方は何度も利用してきたかと思います。これは、ndarrayもインスタンスオブジェクトであり、shapeはインスタンス変数、sumはメソッドだったということです。\n",
    "\n",
    "Pythonのコードに登場するデータはどれもインスタンスオブジェクトであり、listやstrもメソッドを持ちます。\n",
    "\n",
    "（例）\n",
    "\n",
    "[5. データ構造 — Python 3.6.5 ドキュメント 5.1. リスト型についてもう少し](https://docs.python.org/ja/3/tutorial/datastructures.html#more-on-lists)"
   ]
  },
  {
   "cell_type": "markdown",
   "metadata": {},
   "source": [
    "```python\n",
    "l = ['a']\n",
    "l.append('b') # listのappendメソッド\n",
    "```"
   ]
  },
  {
   "cell_type": "markdown",
   "metadata": {},
   "source": [
    "[4. 組み込み型 — Python 3.6.5 ドキュメント 4.7.1. 文字列メソッド](https://docs.python.org/ja/3/library/stdtypes.html#string-methods)"
   ]
  },
  {
   "cell_type": "markdown",
   "metadata": {},
   "source": [
    "```python\n",
    "s = 'Hello, World!'\n",
    "s.find('W') # strのfindメソッド\n",
    "```"
   ]
  },
  {
   "cell_type": "markdown",
   "metadata": {},
   "source": [
    "- メソッド   \n",
    "    - pandas.DataFrame   \n",
    "      fillna, head, isnull, sort_values   \n",
    "      <br>\n",
    "    - sklearn.preprocessing.StanderdScaler   \n",
    "        it, fit_transform, transform   \n",
    "        <br>\n",
    "    - sklearn.neighbors.KNeighborsClassifier   \n",
    "        fit, predict   \n",
    "<br>\n",
    "- インスタンス変数\n",
    "    - pandas.DataFrame   \n",
    "      iloc, loc, shape, size   \n",
    "      <br>\n",
    "    - numpy.ndarray   \n",
    "      T, dtype, shape"
   ]
  },
  {
   "cell_type": "markdown",
   "metadata": {},
   "source": [
    "### インスタンス変数をメソッドが利用\n",
    "\n",
    "最終的に以下のようにして標準化を行います。\n",
    "\n",
    "X_std = scaler.transform(X)\n",
    "\n",
    "これはfitメソッドで計算したことでインスタンス変数mean_やvar_に保存されていた値を使い、Xを変換したということです。\n",
    "\n",
    "このようにクラスには複数のメソッドやインスタンス変数が存在し、これらを組み合わせていろいろな機能を実現します。"
   ]
  },
  {
   "cell_type": "markdown",
   "metadata": {},
   "source": [
    "## 【問題3】標準化クラスをスクラッチで作成\n",
    "\n",
    "理解をより深めるため、StandardScalerをスクラッチで作成しましょう。scikit-learnは使わず、NumPyなどを活用して標準化の計算を記述します。具体的にはfitメソッドとtransformメソッドを作ります。\n",
    "\n",
    "今回は雛形を用意しました。クラスの作成方法は関数に近いです。メソッドはクラスの中にさらにインデントを一段下げて記述します。\n",
    "\n",
    "インスタンス変数を作成する際はself.mean_のようにselfを付けます。クラスの外からscaler.mean_と書いていたscalerの部分が自分自身を表すselfになっています。\n",
    "\n",
    "雛形"
   ]
  },
  {
   "cell_type": "markdown",
   "metadata": {},
   "source": [
    "```python\n",
    "class ScratchStandardScaler():\n",
    "    \"\"\"\n",
    "    標準化のためのクラス\n",
    "\n",
    "    Attributes\n",
    "    ----------\n",
    "    mean_ : 次の形のndarray, shape(n_features,)\n",
    "        平均\n",
    "    var_ : 次の形のndarray, shape(n_features,)\n",
    "        分散\n",
    "    \"\"\"\n",
    "\n",
    "    def fit(self, X):\n",
    "        \"\"\"\n",
    "        標準化のために平均と標準偏差を計算する。\n",
    "\n",
    "        Parameters\n",
    "        ----------\n",
    "        X : 次の形のndarray, shape (n_samples, n_features)\n",
    "            学習データ\n",
    "        \"\"\"\n",
    "\n",
    "        self.mean_ =\n",
    "        self.var_ =\n",
    "\n",
    "        pass\n",
    "\n",
    "    def transform(self, X):\n",
    "        \"\"\"\n",
    "        fitで求めた値を使い標準化を行う。\n",
    "\n",
    "        Parameters\n",
    "        ----------\n",
    "        X : 次の形のndarray, shape (n_samples, n_features)\n",
    "            特徴量\n",
    "\n",
    "        Returns\n",
    "        ----------\n",
    "        X_scaled : 次の形のndarray, shape (n_samples, n_features)\n",
    "            標準化された特緒量\n",
    "        \"\"\"\n",
    "        pass\n",
    "        return X_scaled\n",
    "```"
   ]
  },
  {
   "cell_type": "markdown",
   "metadata": {},
   "source": [
    "以下のコードが実行できるようにしましょう。\n",
    "\n",
    "```python\n",
    "import numpy as np\n",
    "from sklearn.datasets import load_iris\n",
    "\n",
    "data = load_iris()\n",
    "X = data.data[:10]\n",
    "\n",
    "scratch_scaler = ScratchStandardScaler()\n",
    "scratch_scaler.fit(X)\n",
    "print(\"平均 :\", scratch_scaler.mean_)\n",
    "print(\"分散 :\", scratch_scaler.var_)\n",
    "X_std = scratch_scaler.transform(X)\n",
    "X_std\n",
    "```"
   ]
  },
  {
   "cell_type": "code",
   "execution_count": 10,
   "metadata": {},
   "outputs": [],
   "source": [
    "class ScratchStandardScaler():\n",
    "    \"\"\"\n",
    "    標準化のためのクラス\n",
    "    \n",
    "    Attributes\n",
    "    --------------\n",
    "    mean_ : 次の形のndarray, shape(n_features, )\n",
    "        平均\n",
    "    var_ : 次の形のndarray, shape(n_features, )\n",
    "        分散\n",
    "    \"\"\"\n",
    "    \n",
    "    def fit(self, X):\n",
    "        \"\"\"\n",
    "        標準化のために平均と標準偏差を計算する。\n",
    "        \n",
    "        Parameters\n",
    "        ---------------\n",
    "        X : 次の形のndarray, shape(n_samples, n_featrures)\n",
    "            学習データ\n",
    "        \"\"\"\n",
    "        self.mean_ = np.mean(X, axis=0)\n",
    "        self.var_ = np.var(X, axis=0)\n",
    "\n",
    "        \n",
    "    def transform(self, X):\n",
    "        \"\"\"\n",
    "        fitで求めた値を使い標準化を行う。\n",
    "        \n",
    "        Parameters\n",
    "        ----------------\n",
    "        X : 次の形のndarray, shape(n_samples, n_featrures)\n",
    "            特徴量\n",
    "            \n",
    "        Returns\n",
    "        ---------------\n",
    "        X_scaled : 次の形のndarray, shape(n_samples, n_featrures)\n",
    "            標準化された特徴量\n",
    "        \"\"\"\n",
    "\n",
    "        X_scaled = (X - self.mean_ ) / np.sqrt(self.var_)\n",
    "        return X_scaled"
   ]
  },
  {
   "cell_type": "code",
   "execution_count": 11,
   "metadata": {},
   "outputs": [
    {
     "name": "stdout",
     "output_type": "stream",
     "text": [
      "平均 ： [4.86 3.31 1.45 0.22]\n",
      "分散 ： [0.0764 0.0849 0.0105 0.0056]\n"
     ]
    }
   ],
   "source": [
    "#コードの実行\n",
    "import numpy as np\n",
    "from sklearn.datasets import load_iris\n",
    "\n",
    "data = load_iris()\n",
    "X = data.data[:10]\n",
    "\n",
    "scratch_scaler = ScratchStandardScaler()\n",
    "scratch_scaler.fit(X)\n",
    "print(\"平均 ：\", scratch_scaler.mean_)\n",
    "print(\"分散 ：\", scratch_scaler.var_)\n",
    "X_std = scratch_scaler.transform(X)"
   ]
  },
  {
   "cell_type": "markdown",
   "metadata": {},
   "source": [
    "### ライブラリのソースコードを確認\n",
    "\n",
    "scikit-learnの場合は公式ドキュメントの右上にソースコードへのリンクがあります。\n",
    "\n",
    "![](image/image3_1.png)"
   ]
  },
  {
   "cell_type": "markdown",
   "metadata": {},
   "source": [
    "[source](https://github.com/scikit-learn/scikit-learn/blob/7389dba/sklearn/preprocessing/data.py#L480)\n",
    "\n",
    "どのようなコードになっていたかを確認してみましょう。（問題3に取り組んだ後に見ることを推奨します）スクラッチで作成したものよりも全体的にコードが長いのではないかと思います。inverse_transformメソッドのように作成しなかったものもありますが、それだけではありません。例えば以下のように、warning文が記述されているなどします。"
   ]
  },
  {
   "cell_type": "markdown",
   "metadata": {},
   "source": [
    "```python\n",
    "if not isinstance(y, string_types) or y != 'deprecated':\n",
    "    warnings.warn(\"The parameter y on transform() is \"\n",
    "                  \"deprecated since 0.19 and will be removed in 0.21\",\n",
    "                  DeprecationWarning)\n",
    "```"
   ]
  },
  {
   "cell_type": "markdown",
   "metadata": {},
   "source": [
    "しかし、特に今注目したいのは次の特殊メソッドについてです。\n",
    "\n",
    "### 特殊メソッド\n",
    "\n",
    "ソースコードの中に含まれる、まだ説明していない重要な部分が以下です。\n",
    "\n",
    "このような\\_\\_init\\_\\_というメソッドは、どのクラスにも共通して置かれる コンストラクタ と呼ばれるメソッドです。"
   ]
  },
  {
   "cell_type": "markdown",
   "metadata": {},
   "source": [
    "```python\n",
    "def __init__(self, copy=True, with_mean=True, with_std=True):\n",
    "    self.with_mean = with_mean\n",
    "    self.with_std = with_std\n",
    "    self.copy = copy\n",
    "```"
   ]
  },
  {
   "cell_type": "markdown",
   "metadata": {},
   "source": [
    "今回のスクラッチではcopy、with_mean、with_stdなどのパラメータを省略しましたが、このようにインスタンス化の際にパラメータを指定して保存しておくということはよくある使い方です。\n",
    "\n",
    "コンストラクタの動作を確認するためのサンプルコードを用意しました。コンストラクタは、インスタンス化が行われる時に自動的に実行されるという働きがあります。こういった特殊な動作をするメソッドを、 特殊メソッド と呼びます。\n",
    "\n",
    "サンプルコード"
   ]
  },
  {
   "cell_type": "markdown",
   "metadata": {},
   "source": [
    "```python\n",
    "class ExampleClass():\n",
    "    \"\"\"\n",
    "    説明用の簡単なクラス\n",
    "\n",
    "    Parameters\n",
    "    ----------\n",
    "    value : float or int\n",
    "        初期値\n",
    "\n",
    "    Attributes\n",
    "    ----------\n",
    "    value : float or int\n",
    "        計算結果\n",
    "    \"\"\"\n",
    "    def __init__(self, value):\n",
    "        self.value = value\n",
    "        print(\"初期値{}が設定されました\".format(self.value))\n",
    "    def add(self, value2):\n",
    "        \"\"\"\n",
    "        受け取った引数をself.valueに加える\n",
    "        \"\"\"\n",
    "        self.value += value2\n",
    "\n",
    "example = ExampleClass(5)\n",
    "print(\"value :\", example.value)\n",
    "example.add(3)\n",
    "print(\"value :\", example.value)\n",
    "```"
   ]
  },
  {
   "cell_type": "markdown",
   "metadata": {},
   "source": [
    "## 【問題4】四則演算を行うクラスの作成\n",
    "\n",
    "上記ExampleClassは足し算のメソッドを持っていますが、これに引き算、掛け算、割り算のメソッドを加えてください。\n",
    "\n",
    "また、コンストラクタに入力されたvalueが文字列や配列など数値以外だった場合には警告文を出し、self.value=0とするコードを追加してください。\n",
    "\n",
    "クラス名や説明文も適切に書き換えてください。\n",
    "\n"
   ]
  },
  {
   "cell_type": "code",
   "execution_count": 12,
   "metadata": {},
   "outputs": [],
   "source": [
    "import warnings\n",
    "class CalculationClass():\n",
    "    \"\"\"\n",
    "    四則演算を行うクラス\n",
    "    \n",
    "    Parameters\n",
    "    ----------------\n",
    "    value : float or int\n",
    "    初期値\n",
    "        \n",
    "    Attributes\n",
    "    -------------\n",
    "    value : float or int\n",
    "    計算結果\n",
    "    \"\"\"\n",
    "\n",
    "    def __init__(self, value):\n",
    "        \"\"\"\n",
    "        コンストラクタ\n",
    "        valueがfloat or int以外の場合は警告文を出し、value = 0とする\n",
    "        \"\"\"\n",
    "            \n",
    "        if  isinstance(value, int) or isinstance(value, float):\n",
    "            self.value = value\n",
    "            print(\"初期値{}が設定されました\".format(self.value))\n",
    "                \n",
    "        else:\n",
    "            warnings.warn('数値を入力してください')\n",
    "            self.value = 0\n",
    "\n",
    "    def add(self, value2):\n",
    "        \"\"\"\n",
    "        受け取った引数をself.valueに加える\n",
    "\n",
    "        Parameters\n",
    "        ----------------\n",
    "        value2 : float or int\n",
    "        足す値\n",
    "        \"\"\"\n",
    "        self.value += value2\n",
    "\n",
    "    def sub(self, value3):\n",
    "        \"\"\"\n",
    "        受け取った引数をself.valueから引く\n",
    "\n",
    "        Parameters\n",
    "        ----------------\n",
    "        value3 : float or int\n",
    "        引く値\n",
    "        \"\"\"\n",
    "        self.value -= value3\n",
    "\n",
    "    def mul(self, value4):\n",
    "        \"\"\"\n",
    "        受け取った引数をself.valueとかける\n",
    "\n",
    "        Parameters\n",
    "        ----------------\n",
    "        value4: float or int\n",
    "        かける値\n",
    "        \"\"\"\n",
    "        self.value *= value4\n",
    "\n",
    "    def div(self, value5):\n",
    "        \"\"\"\n",
    "        受け取った引数をself.valueと割る\n",
    "\n",
    "        Parameters\n",
    "        ----------------\n",
    "        value5 : float or int\n",
    "        割る値\n",
    "        \"\"\"\n",
    "        self.value /= value5"
   ]
  },
  {
   "cell_type": "code",
   "execution_count": 13,
   "metadata": {},
   "outputs": [
    {
     "name": "stdout",
     "output_type": "stream",
     "text": [
      "初期値5が設定されました\n",
      "value : 5\n",
      "value : 8\n"
     ]
    }
   ],
   "source": [
    "#初期値5、3を足す\n",
    "cal_add = CalculationClass(5)\n",
    "print(\"value :\", cal_add.value)\n",
    "cal_add.add(3)\n",
    "print(\"value :\", cal_add.value)"
   ]
  },
  {
   "cell_type": "code",
   "execution_count": 14,
   "metadata": {},
   "outputs": [
    {
     "name": "stdout",
     "output_type": "stream",
     "text": [
      "初期値5が設定されました\n",
      "value : 5\n",
      "value : 2\n"
     ]
    }
   ],
   "source": [
    "#初期値5、3を引く\n",
    "cal_sub = CalculationClass(5)\n",
    "print(\"value :\", cal_sub.value)\n",
    "cal_sub .sub(3)\n",
    "print(\"value :\", cal_sub.value)"
   ]
  },
  {
   "cell_type": "code",
   "execution_count": 15,
   "metadata": {},
   "outputs": [
    {
     "name": "stdout",
     "output_type": "stream",
     "text": [
      "初期値5が設定されました\n",
      "value : 5\n",
      "value : 15\n"
     ]
    }
   ],
   "source": [
    "#初期値5、3をかける\n",
    "cal_mul = CalculationClass(5)\n",
    "print(\"value :\", cal_mul.value)\n",
    "cal_mul.mul(3)\n",
    "print(\"value :\", cal_mul.value)"
   ]
  },
  {
   "cell_type": "code",
   "execution_count": 16,
   "metadata": {},
   "outputs": [
    {
     "name": "stdout",
     "output_type": "stream",
     "text": [
      "初期値5が設定されました\n",
      "value : 5\n",
      "value : 1.6666666666666667\n"
     ]
    }
   ],
   "source": [
    "#初期値5、3で割る\n",
    "cal_div = CalculationClass(5)\n",
    "print(\"value :\", cal_div.value)\n",
    "cal_div.div(3)\n",
    "print(\"value :\", cal_div.value)"
   ]
  },
  {
   "cell_type": "code",
   "execution_count": 17,
   "metadata": {},
   "outputs": [
    {
     "name": "stdout",
     "output_type": "stream",
     "text": [
      "value : 0\n",
      "value : 3\n"
     ]
    },
    {
     "name": "stderr",
     "output_type": "stream",
     "text": [
      "/Users/yuhisoejima/.pyenv/versions/anaconda3-5.3.1/lib/python3.7/site-packages/ipykernel_launcher.py:28: UserWarning: 数値を入力してください\n"
     ]
    }
   ],
   "source": [
    "#初期値がstr型\n",
    "cal_str = CalculationClass('a')\n",
    "print(\"value :\", cal_str.value)\n",
    "cal_str.add(3)\n",
    "print(\"value :\", cal_str.value)"
   ]
  },
  {
   "cell_type": "code",
   "execution_count": 18,
   "metadata": {},
   "outputs": [
    {
     "name": "stdout",
     "output_type": "stream",
     "text": [
      "value : 0\n",
      "value : 3\n"
     ]
    },
    {
     "name": "stderr",
     "output_type": "stream",
     "text": [
      "/Users/yuhisoejima/.pyenv/versions/anaconda3-5.3.1/lib/python3.7/site-packages/ipykernel_launcher.py:28: UserWarning: 数値を入力してください\n"
     ]
    }
   ],
   "source": [
    "#初期値がlist型\n",
    "cal_list = CalculationClass([1, 2, 3])\n",
    "print(\"value :\", cal_list.value)\n",
    "cal_list.add(3)\n",
    "print(\"value :\", cal_list.value)"
   ]
  }
 ],
 "metadata": {
  "kernelspec": {
   "display_name": "Python 3",
   "language": "python",
   "name": "python3"
  },
  "language_info": {
   "codemirror_mode": {
    "name": "ipython",
    "version": 3
   },
   "file_extension": ".py",
   "mimetype": "text/x-python",
   "name": "python",
   "nbconvert_exporter": "python",
   "pygments_lexer": "ipython3",
   "version": "3.7.2"
  },
  "varInspector": {
   "cols": {
    "lenName": 16,
    "lenType": 16,
    "lenVar": 40
   },
   "kernels_config": {
    "python": {
     "delete_cmd_postfix": "",
     "delete_cmd_prefix": "del ",
     "library": "var_list.py",
     "varRefreshCmd": "print(var_dic_list())"
    },
    "r": {
     "delete_cmd_postfix": ") ",
     "delete_cmd_prefix": "rm(",
     "library": "var_list.r",
     "varRefreshCmd": "cat(var_dic_list()) "
    }
   },
   "types_to_exclude": [
    "module",
    "function",
    "builtin_function_or_method",
    "instance",
    "_Feature"
   ],
   "window_display": false
  }
 },
 "nbformat": 4,
 "nbformat_minor": 2
}
