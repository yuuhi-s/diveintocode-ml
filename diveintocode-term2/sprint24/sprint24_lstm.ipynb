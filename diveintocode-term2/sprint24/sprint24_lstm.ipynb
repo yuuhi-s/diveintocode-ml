{
 "cells": [
  {
   "cell_type": "markdown",
   "metadata": {
    "colab_type": "text",
    "id": "qGJz1Qu-bhGa"
   },
   "source": [
    "# Sprint24課題 ゲート付きリカレントニューラルネットワーク"
   ]
  },
  {
   "cell_type": "markdown",
   "metadata": {
    "colab_type": "text",
    "id": "dSzHEEBpbhGc"
   },
   "source": [
    "## この課題の目的\n",
    "\n",
    "- 発展的なRNNの手法を理解する"
   ]
  },
  {
   "cell_type": "markdown",
   "metadata": {
    "colab_type": "text",
    "id": "3dNjike1bhGc"
   },
   "source": [
    "## KerasのRecurrentレイヤー\n",
    "\n",
    "Kerasには複数のRecurrentレイヤーが用意されています。今回のSprintではこれら全てを動かし、それらを理解し区別できる状態を目指します。\n",
    "\n",
    "以下のドキュメントにまとめられています。\n",
    "\n",
    "[Recurrentレイヤー - Keras Documentation](https://keras.io/ja/layers/recurrent/)\n",
    "\n",
    "次の11個の項目があります。\n",
    "\n",
    "- RNN\n",
    "- SimpleRNN\n",
    "- GRU\n",
    "- LSTM\n",
    "- ConvLSTM2D\n",
    "- SimpleRNNCell\n",
    "- GRUCell\n",
    "- LSTMCell\n",
    "- StackedRNNCells\n",
    "- CuDNNGRU\n",
    "- CuDNNLSTM"
   ]
  },
  {
   "cell_type": "markdown",
   "metadata": {
    "colab_type": "text",
    "id": "dHqLv35cbhGd"
   },
   "source": [
    "## 【問題1】各種手法の実行\n",
    "\n",
    "Keras公式のサンプルをスタートコードとします。これを元に、上記11個の項目全てを使用してください。\n",
    "\n",
    "例えばこの中でSimpleRNNとLSTMなどは並列関係であり、精度の比較が行えます。そういった関係を見つけて比較をしてください。\n",
    "\n",
    "なおConvLSTM2Dのみ2次元配列を受け付ける手法であり、他と単純な精度の比較はできません。\n",
    "\n",
    "LSTMのサンプルコード\n",
    "\n",
    "[keras/imdb_lstm.py at master · keras-team/keras](https://github.com/keras-team/keras/blob/master/examples/imdb_lstm.py)\n",
    "\n",
    "ConvLSTM2Dのサンプルコード\n",
    "\n",
    "[keras/conv_lstm.py at master · keras-team/keras](https://github.com/keras-team/keras/blob/master/examples/conv_lstm.py)\n",
    "\n",
    "このサンプルコードをそのまま使う必要はなく、ノード数やエポックなどは変更して構いません。全て実行する上での実行時間を考慮した数に設定してください。"
   ]
  },
  {
   "cell_type": "markdown",
   "metadata": {
    "colab_type": "text",
    "id": "7brZ1Q2TbhIq"
   },
   "source": [
    "## 【問題2】比較結果の説明\n",
    "\n",
    "11の項目それぞれがどういうものなのかを説明してください。また、比較した結果を表やグラフで載せ、説明してください。今回は「RNNはそれほど詳しくないがタスクで必要になったためKerasのドキュメントを見た」という仮定を置きます。\n",
    "\n",
    "- RNN\n",
    "- SimpleRNN\n",
    "- GRU\n",
    "- LSTM\n",
    "- ConvLSTM2D\n",
    "- SimpleRNNCell\n",
    "- GRUCell\n",
    "- LSTMCell\n",
    "- StackedRNNCells\n",
    "- CuDNNGRU\n",
    "- CuDNNLSTM"
   ]
  },
  {
   "cell_type": "code",
   "execution_count": 1,
   "metadata": {
    "colab": {
     "base_uri": "https://localhost:8080/",
     "height": 34
    },
    "colab_type": "code",
    "id": "99xzHGttmoGr",
    "outputId": "55b1efd4-d2d7-4939-8e9b-9a6015a7f1c9"
   },
   "outputs": [
    {
     "name": "stdout",
     "output_type": "stream",
     "text": [
      "Requirement already satisfied: numpy==1.16.1 in /usr/local/lib/python3.6/dist-packages (1.16.1)\n"
     ]
    }
   ],
   "source": [
    "!pip install numpy==1.16.1"
   ]
  },
  {
   "cell_type": "code",
   "execution_count": 2,
   "metadata": {
    "colab": {
     "base_uri": "https://localhost:8080/",
     "height": 34
    },
    "colab_type": "code",
    "id": "unxeO_3dbhGe",
    "outputId": "cee8c583-0c71-476b-a3e8-5d14babac013"
   },
   "outputs": [
    {
     "name": "stderr",
     "output_type": "stream",
     "text": [
      "Using TensorFlow backend.\n"
     ]
    }
   ],
   "source": [
    "from __future__ import print_function\n",
    "\n",
    "from keras.preprocessing import sequence\n",
    "from keras.models import Sequential\n",
    "from keras.layers import (Dense, Embedding, LSTM, RNN, SimpleRNN, GRU, SimpleRNNCell, \n",
    "                                              GRUCell, LSTMCell, StackedRNNCells, CuDNNGRU, CuDNNLSTM)\n",
    "from keras.datasets import imdb\n",
    "from keras.layers.convolutional import Conv3D\n",
    "from keras.layers.convolutional_recurrent import ConvLSTM2D\n",
    "from keras.layers.normalization import BatchNormalization\n",
    "from keras import backend as K \n",
    "import time\n",
    "import numpy as np\n",
    "import matplotlib.pyplot as plt\n",
    "%matplotlib inline"
   ]
  },
  {
   "cell_type": "code",
   "execution_count": 3,
   "metadata": {
    "colab": {
     "base_uri": "https://localhost:8080/",
     "height": 153
    },
    "colab_type": "code",
    "id": "4BR-e_m1bhGh",
    "outputId": "c6b6e7ce-fc33-4bc7-f580-1b1c5f782a4c"
   },
   "outputs": [
    {
     "name": "stdout",
     "output_type": "stream",
     "text": [
      "Loading data...\n",
      "Downloading data from https://s3.amazonaws.com/text-datasets/imdb.npz\n",
      "17465344/17464789 [==============================] - 1s 0us/step\n",
      "25000 train sequences\n",
      "25000 test sequences\n",
      "Pad sequences (samples X time)\n",
      "X_train shape: (25000, 80)\n",
      "X_test shape: (25000, 80)\n"
     ]
    }
   ],
   "source": [
    "max_features = 20000\n",
    "# cut texts after this number of words (among top max_features most common words)\n",
    "maxlen = 80\n",
    "batch_size = 32\n",
    "\n",
    "print('Loading data...')\n",
    "(X_train, y_train), (X_test, y_test) = imdb.load_data(num_words=max_features)\n",
    "print(len(X_train), 'train sequences')\n",
    "print(len(X_test), 'test sequences')\n",
    "\n",
    "print('Pad sequences (samples X time)')\n",
    "X_train = sequence.pad_sequences(X_train, maxlen=maxlen)\n",
    "X_test = sequence.pad_sequences(X_test, maxlen=maxlen)\n",
    "print('X_train shape:', X_train.shape)\n",
    "print('X_test shape:', X_test.shape)"
   ]
  },
  {
   "cell_type": "markdown",
   "metadata": {
    "colab_type": "text",
    "id": "rwOWRov9bhGl"
   },
   "source": [
    "### SimpleRNN"
   ]
  },
  {
   "cell_type": "code",
   "execution_count": 4,
   "metadata": {
    "colab": {
     "base_uri": "https://localhost:8080/",
     "height": 258
    },
    "colab_type": "code",
    "id": "c-iYTwIqbhGm",
    "outputId": "4a485d15-e9e2-49ea-845d-6da4ce0f7a51"
   },
   "outputs": [
    {
     "name": "stderr",
     "output_type": "stream",
     "text": [
      "WARNING: Logging before flag parsing goes to stderr.\n",
      "W0627 01:56:24.980899 140129182734208 deprecation_wrapper.py:119] From /usr/local/lib/python3.6/dist-packages/keras/backend/tensorflow_backend.py:74: The name tf.get_default_graph is deprecated. Please use tf.compat.v1.get_default_graph instead.\n",
      "\n",
      "W0627 01:56:25.019551 140129182734208 deprecation_wrapper.py:119] From /usr/local/lib/python3.6/dist-packages/keras/backend/tensorflow_backend.py:517: The name tf.placeholder is deprecated. Please use tf.compat.v1.placeholder instead.\n",
      "\n",
      "W0627 01:56:25.025479 140129182734208 deprecation_wrapper.py:119] From /usr/local/lib/python3.6/dist-packages/keras/backend/tensorflow_backend.py:4138: The name tf.random_uniform is deprecated. Please use tf.random.uniform instead.\n",
      "\n",
      "W0627 01:56:25.065805 140129182734208 deprecation_wrapper.py:119] From /usr/local/lib/python3.6/dist-packages/keras/backend/tensorflow_backend.py:133: The name tf.placeholder_with_default is deprecated. Please use tf.compat.v1.placeholder_with_default instead.\n",
      "\n",
      "W0627 01:56:25.074829 140129182734208 deprecation.py:506] From /usr/local/lib/python3.6/dist-packages/keras/backend/tensorflow_backend.py:3445: calling dropout (from tensorflow.python.ops.nn_ops) with keep_prob is deprecated and will be removed in a future version.\n",
      "Instructions for updating:\n",
      "Please use `rate` instead of `keep_prob`. Rate should be set to `rate = 1 - keep_prob`.\n"
     ]
    },
    {
     "name": "stdout",
     "output_type": "stream",
     "text": [
      "Build model...\n"
     ]
    }
   ],
   "source": [
    "print('Build model...')\n",
    "model = Sequential()\n",
    "model.add(Embedding(max_features, 16))\n",
    "model.add(SimpleRNN(16, dropout=0.2, recurrent_dropout=0.2))\n",
    "model.add(Dense(1, activation='sigmoid'))"
   ]
  },
  {
   "cell_type": "code",
   "execution_count": 5,
   "metadata": {
    "colab": {
     "base_uri": "https://localhost:8080/",
     "height": 156
    },
    "colab_type": "code",
    "id": "90zJbz-BbhGo",
    "outputId": "6b3774fe-8e49-4fae-c5f9-bcd9c6f00b44"
   },
   "outputs": [
    {
     "name": "stderr",
     "output_type": "stream",
     "text": [
      "W0627 01:56:27.474921 140129182734208 deprecation_wrapper.py:119] From /usr/local/lib/python3.6/dist-packages/keras/optimizers.py:790: The name tf.train.Optimizer is deprecated. Please use tf.compat.v1.train.Optimizer instead.\n",
      "\n",
      "W0627 01:56:27.512780 140129182734208 deprecation_wrapper.py:119] From /usr/local/lib/python3.6/dist-packages/keras/backend/tensorflow_backend.py:3376: The name tf.log is deprecated. Please use tf.math.log instead.\n",
      "\n",
      "W0627 01:56:27.518773 140129182734208 deprecation.py:323] From /usr/local/lib/python3.6/dist-packages/tensorflow/python/ops/nn_impl.py:180: add_dispatch_support.<locals>.wrapper (from tensorflow.python.ops.array_ops) is deprecated and will be removed in a future version.\n",
      "Instructions for updating:\n",
      "Use tf.where in 2.0, which has the same broadcast rule as np.where\n"
     ]
    }
   ],
   "source": [
    "# try using different optimizers and different optimizer configs\n",
    "model.compile(loss='binary_crossentropy',\n",
    "              optimizer='adam',\n",
    "              metrics=['accuracy'])"
   ]
  },
  {
   "cell_type": "code",
   "execution_count": 6,
   "metadata": {
    "colab": {
     "base_uri": "https://localhost:8080/",
     "height": 153
    },
    "colab_type": "code",
    "id": "QWj4agC7bhGq",
    "outputId": "0e2c809a-e0fe-4948-bdad-f449df6b78a0"
   },
   "outputs": [
    {
     "name": "stdout",
     "output_type": "stream",
     "text": [
      "Train...\n",
      "Train on 25000 samples, validate on 25000 samples\n",
      "Epoch 1/3\n",
      "25000/25000 [==============================] - 35s 1ms/step - loss: 0.6889 - acc: 0.5449 - val_loss: 0.6583 - val_acc: 0.6482\n",
      "Epoch 2/3\n",
      "25000/25000 [==============================] - 31s 1ms/step - loss: 0.6072 - acc: 0.6753 - val_loss: 0.5240 - val_acc: 0.7488\n",
      "Epoch 3/3\n",
      "25000/25000 [==============================] - 31s 1ms/step - loss: 0.4884 - acc: 0.7671 - val_loss: 0.5208 - val_acc: 0.7434\n"
     ]
    }
   ],
   "source": [
    "t1 = time.time()\n",
    "\n",
    "print('Train...')\n",
    "model.fit(X_train, y_train,\n",
    "          batch_size=batch_size,\n",
    "          epochs=3,\n",
    "          validation_data=(X_test, y_test))\n",
    "\n",
    "t2 = time.time()\n",
    "\n",
    "#時間計測\n",
    "simplernn_time = t2 - t1"
   ]
  },
  {
   "cell_type": "code",
   "execution_count": 87,
   "metadata": {
    "colab": {
     "base_uri": "https://localhost:8080/",
     "height": 34
    },
    "colab_type": "code",
    "id": "7I9nkiga6ioh",
    "outputId": "fce67fec-1d88-4103-92f2-c06079fb79a6"
   },
   "outputs": [
    {
     "name": "stdout",
     "output_type": "stream",
     "text": [
      "実行時間 :  97.96296787261963 秒\n"
     ]
    }
   ],
   "source": [
    "print('実行時間 : ', simplernn_time, '秒')"
   ]
  },
  {
   "cell_type": "code",
   "execution_count": 7,
   "metadata": {
    "colab": {
     "base_uri": "https://localhost:8080/",
     "height": 68
    },
    "colab_type": "code",
    "id": "Z8SR3MHlbhGt",
    "outputId": "3a8bf909-b383-4b02-9bb4-9351fff2dd91"
   },
   "outputs": [
    {
     "name": "stdout",
     "output_type": "stream",
     "text": [
      "25000/25000 [==============================] - 6s 227us/step\n",
      "Test score: 0.5207754162311554\n",
      "Test accuracy: 0.7434\n"
     ]
    }
   ],
   "source": [
    "score, simplernn_acc = model.evaluate(X_test, y_test,\n",
    "                            batch_size=batch_size)\n",
    "print('Test score:', score)\n",
    "print('Test accuracy:', simplernn_acc)"
   ]
  },
  {
   "cell_type": "markdown",
   "metadata": {
    "colab_type": "text",
    "id": "41nE1aGNbhGv"
   },
   "source": [
    "### GRU"
   ]
  },
  {
   "cell_type": "code",
   "execution_count": 8,
   "metadata": {
    "colab": {
     "base_uri": "https://localhost:8080/",
     "height": 34
    },
    "colab_type": "code",
    "id": "QMwFvevFbhGw",
    "outputId": "d387960e-49db-48d3-9f17-34fca2a938f9"
   },
   "outputs": [
    {
     "name": "stdout",
     "output_type": "stream",
     "text": [
      "Build model...\n"
     ]
    }
   ],
   "source": [
    "print('Build model...')\n",
    "K.clear_session()\n",
    "model = Sequential()\n",
    "model.add(Embedding(max_features, 16))\n",
    "model.add(GRU(16, dropout=0.2, recurrent_dropout=0.2))\n",
    "model.add(Dense(1, activation='sigmoid'))"
   ]
  },
  {
   "cell_type": "code",
   "execution_count": 0,
   "metadata": {
    "colab": {},
    "colab_type": "code",
    "id": "XrPL9tO6bhGz"
   },
   "outputs": [],
   "source": [
    "# try using different optimizers and different optimizer configs\n",
    "model.compile(loss='binary_crossentropy',\n",
    "              optimizer='adam',\n",
    "              metrics=['accuracy'])"
   ]
  },
  {
   "cell_type": "code",
   "execution_count": 10,
   "metadata": {
    "colab": {
     "base_uri": "https://localhost:8080/",
     "height": 153
    },
    "colab_type": "code",
    "id": "wMebYfnNbhG3",
    "outputId": "f590f372-9ac1-4d0f-c17d-c739f2d8ff60"
   },
   "outputs": [
    {
     "name": "stdout",
     "output_type": "stream",
     "text": [
      "Train...\n",
      "Train on 25000 samples, validate on 25000 samples\n",
      "Epoch 1/3\n",
      "25000/25000 [==============================] - 95s 4ms/step - loss: 0.5353 - acc: 0.7193 - val_loss: 0.4434 - val_acc: 0.7954\n",
      "Epoch 2/3\n",
      "25000/25000 [==============================] - 94s 4ms/step - loss: 0.3657 - acc: 0.8463 - val_loss: 0.4109 - val_acc: 0.8127\n",
      "Epoch 3/3\n",
      "25000/25000 [==============================] - 95s 4ms/step - loss: 0.2918 - acc: 0.8832 - val_loss: 0.4008 - val_acc: 0.8220\n"
     ]
    }
   ],
   "source": [
    "t1 = time.time()\n",
    "\n",
    "print('Train...')\n",
    "model.fit(X_train, y_train,\n",
    "          batch_size=batch_size,\n",
    "          epochs=3,\n",
    "          validation_data=(X_test, y_test))\n",
    "\n",
    "t2 = time.time()\n",
    "\n",
    "#時間計測\n",
    "gru_time = t2 - t1"
   ]
  },
  {
   "cell_type": "code",
   "execution_count": 89,
   "metadata": {
    "colab": {
     "base_uri": "https://localhost:8080/",
     "height": 34
    },
    "colab_type": "code",
    "id": "O_DiNC5A6z_4",
    "outputId": "8e88f2c8-4829-475c-b80e-fc33a1891393"
   },
   "outputs": [
    {
     "name": "stdout",
     "output_type": "stream",
     "text": [
      "実行時間 :  284.9179027080536 秒\n"
     ]
    }
   ],
   "source": [
    "print('実行時間 : ', gru_time, '秒')"
   ]
  },
  {
   "cell_type": "code",
   "execution_count": 11,
   "metadata": {
    "colab": {
     "base_uri": "https://localhost:8080/",
     "height": 68
    },
    "colab_type": "code",
    "id": "QtAm_UdIbhG5",
    "outputId": "1c038dc8-b275-44e0-8c1a-5e31c5abb59b"
   },
   "outputs": [
    {
     "name": "stdout",
     "output_type": "stream",
     "text": [
      "25000/25000 [==============================] - 17s 668us/step\n",
      "Test score: 0.4007590243625641\n",
      "Test accuracy: 0.82196\n"
     ]
    }
   ],
   "source": [
    "score, gru_acc = model.evaluate(X_test, y_test,\n",
    "                            batch_size=batch_size)\n",
    "print('Test score:', score)\n",
    "print('Test accuracy:', gru_acc)"
   ]
  },
  {
   "cell_type": "markdown",
   "metadata": {
    "colab_type": "text",
    "id": "m73Qu9ObbhG8"
   },
   "source": [
    "### LSTM"
   ]
  },
  {
   "cell_type": "code",
   "execution_count": 12,
   "metadata": {
    "colab": {
     "base_uri": "https://localhost:8080/",
     "height": 34
    },
    "colab_type": "code",
    "id": "qWenxeJUbhG8",
    "outputId": "27be940a-bda9-4944-ce9d-211c5c421bfb"
   },
   "outputs": [
    {
     "name": "stdout",
     "output_type": "stream",
     "text": [
      "Build model...\n"
     ]
    }
   ],
   "source": [
    "print('Build model...')\n",
    "K.clear_session()\n",
    "model = Sequential()\n",
    "model.add(Embedding(max_features, 16))\n",
    "model.add(LSTM(16, dropout=0.2, recurrent_dropout=0.2))\n",
    "model.add(Dense(1, activation='sigmoid'))"
   ]
  },
  {
   "cell_type": "code",
   "execution_count": 0,
   "metadata": {
    "colab": {},
    "colab_type": "code",
    "id": "4xaIPsLwbhG-"
   },
   "outputs": [],
   "source": [
    "# try using different optimizers and different optimizer configs\n",
    "model.compile(loss='binary_crossentropy',\n",
    "              optimizer='adam',\n",
    "              metrics=['accuracy'])"
   ]
  },
  {
   "cell_type": "code",
   "execution_count": 14,
   "metadata": {
    "colab": {
     "base_uri": "https://localhost:8080/",
     "height": 153
    },
    "colab_type": "code",
    "id": "aXHjLUCpbhHA",
    "outputId": "efc52278-02e1-4aa1-f5ea-471ecef5b232"
   },
   "outputs": [
    {
     "name": "stdout",
     "output_type": "stream",
     "text": [
      "Train...\n",
      "Train on 25000 samples, validate on 25000 samples\n",
      "Epoch 1/3\n",
      "25000/25000 [==============================] - 118s 5ms/step - loss: 0.5038 - acc: 0.7544 - val_loss: 0.4184 - val_acc: 0.8128\n",
      "Epoch 2/3\n",
      "25000/25000 [==============================] - 118s 5ms/step - loss: 0.3325 - acc: 0.8652 - val_loss: 0.3900 - val_acc: 0.8292\n",
      "Epoch 3/3\n",
      "25000/25000 [==============================] - 120s 5ms/step - loss: 0.2699 - acc: 0.8941 - val_loss: 0.4205 - val_acc: 0.8242\n"
     ]
    }
   ],
   "source": [
    "t1 = time.time()\n",
    "\n",
    "print('Train...')\n",
    "model.fit(X_train, y_train,\n",
    "          batch_size=batch_size,\n",
    "          epochs=3,\n",
    "          validation_data=(X_test, y_test))\n",
    "\n",
    "t2 = time.time()\n",
    "\n",
    "#時間計測\n",
    "lstm_time = t2 - t1"
   ]
  },
  {
   "cell_type": "code",
   "execution_count": 90,
   "metadata": {
    "colab": {
     "base_uri": "https://localhost:8080/",
     "height": 34
    },
    "colab_type": "code",
    "id": "sThmIm5Q65gG",
    "outputId": "5ce7ea21-4a72-40d7-957e-ded7ac1560aa"
   },
   "outputs": [
    {
     "name": "stdout",
     "output_type": "stream",
     "text": [
      "実行時間 :  357.09967851638794 秒\n"
     ]
    }
   ],
   "source": [
    "print('実行時間 : ', lstm_time, '秒')"
   ]
  },
  {
   "cell_type": "code",
   "execution_count": 15,
   "metadata": {
    "colab": {
     "base_uri": "https://localhost:8080/",
     "height": 68
    },
    "colab_type": "code",
    "id": "BK1VC5sgbhHD",
    "outputId": "2dc07729-6333-447d-b3d9-ed3841b804c7"
   },
   "outputs": [
    {
     "name": "stdout",
     "output_type": "stream",
     "text": [
      "25000/25000 [==============================] - 22s 865us/step\n",
      "Test score: 0.4204504882621765\n",
      "Test accuracy: 0.82424\n"
     ]
    }
   ],
   "source": [
    "score, lstm_acc = model.evaluate(X_test, y_test,\n",
    "                            batch_size=batch_size)\n",
    "print('Test score:', score)\n",
    "print('Test accuracy:', lstm_acc)"
   ]
  },
  {
   "cell_type": "markdown",
   "metadata": {
    "colab_type": "text",
    "id": "YEXox2NNbhHR"
   },
   "source": [
    "### RNN + SimpleRNNCell"
   ]
  },
  {
   "cell_type": "code",
   "execution_count": 21,
   "metadata": {
    "colab": {
     "base_uri": "https://localhost:8080/",
     "height": 34
    },
    "colab_type": "code",
    "id": "-y0k_ibVbhHR",
    "outputId": "e3c7faaf-8fed-436b-c43c-d8f927b2309d"
   },
   "outputs": [
    {
     "name": "stdout",
     "output_type": "stream",
     "text": [
      "Build model...\n"
     ]
    }
   ],
   "source": [
    "cell = SimpleRNNCell(16, dropout=0.2, recurrent_dropout=0.2)\n",
    "\n",
    "print('Build model...')\n",
    "K.clear_session()\n",
    "model = Sequential()\n",
    "model.add(Embedding(max_features, 16))\n",
    "model.add(RNN(cell))\n",
    "model.add(Dense(1, activation='sigmoid'))"
   ]
  },
  {
   "cell_type": "code",
   "execution_count": 0,
   "metadata": {
    "colab": {},
    "colab_type": "code",
    "id": "nwcqYeqrbhHU"
   },
   "outputs": [],
   "source": [
    "# try using different optimizers and different optimizer configs\n",
    "model.compile(loss='binary_crossentropy',\n",
    "              optimizer='adam',\n",
    "              metrics=['accuracy'])"
   ]
  },
  {
   "cell_type": "code",
   "execution_count": 23,
   "metadata": {
    "colab": {
     "base_uri": "https://localhost:8080/",
     "height": 153
    },
    "colab_type": "code",
    "id": "50odF8IPbhHV",
    "outputId": "6dc185ab-0538-4ec4-8517-27c0c5581962"
   },
   "outputs": [
    {
     "name": "stdout",
     "output_type": "stream",
     "text": [
      "Train...\n",
      "Train on 25000 samples, validate on 25000 samples\n",
      "Epoch 1/3\n",
      "25000/25000 [==============================] - 34s 1ms/step - loss: 0.7005 - acc: 0.5208 - val_loss: 0.6766 - val_acc: 0.5795\n",
      "Epoch 2/3\n",
      "25000/25000 [==============================] - 32s 1ms/step - loss: 0.6583 - acc: 0.5967 - val_loss: 0.6201 - val_acc: 0.6541\n",
      "Epoch 3/3\n",
      "25000/25000 [==============================] - 32s 1ms/step - loss: 0.5329 - acc: 0.7373 - val_loss: 0.5293 - val_acc: 0.7317\n"
     ]
    }
   ],
   "source": [
    "t1 = time.time()\n",
    "\n",
    "print('Train...')\n",
    "model.fit(X_train, y_train,\n",
    "          batch_size=batch_size,\n",
    "          epochs=3,\n",
    "          validation_data=(X_test, y_test))\n",
    "\n",
    "t2 = time.time()\n",
    "\n",
    "#時間計測\n",
    "rcell_time = t2 - t1"
   ]
  },
  {
   "cell_type": "code",
   "execution_count": 91,
   "metadata": {
    "colab": {
     "base_uri": "https://localhost:8080/",
     "height": 34
    },
    "colab_type": "code",
    "id": "4Sre5fCr6_0g",
    "outputId": "488d5ea7-9fb5-4ad0-c300-8df3170f0689"
   },
   "outputs": [
    {
     "name": "stdout",
     "output_type": "stream",
     "text": [
      "実行時間 :  98.04528546333313 秒\n"
     ]
    }
   ],
   "source": [
    "print('実行時間 : ', rcell_time, '秒')"
   ]
  },
  {
   "cell_type": "code",
   "execution_count": 24,
   "metadata": {
    "colab": {
     "base_uri": "https://localhost:8080/",
     "height": 68
    },
    "colab_type": "code",
    "id": "gTW5_g44bhHY",
    "outputId": "13b813b0-cec8-47e8-e52f-b03f74cfadd0"
   },
   "outputs": [
    {
     "name": "stdout",
     "output_type": "stream",
     "text": [
      "25000/25000 [==============================] - 6s 235us/step\n",
      "Test score: 0.5292722756958008\n",
      "Test accuracy: 0.73172\n"
     ]
    }
   ],
   "source": [
    "score, rcell_acc = model.evaluate(X_test, y_test,\n",
    "                            batch_size=batch_size)\n",
    "print('Test score:', score)\n",
    "print('Test accuracy:', rcell_acc)"
   ]
  },
  {
   "cell_type": "markdown",
   "metadata": {
    "colab_type": "text",
    "id": "L7CUQR-KbhHa"
   },
   "source": [
    "### RNN + GRUCell"
   ]
  },
  {
   "cell_type": "code",
   "execution_count": 25,
   "metadata": {
    "colab": {
     "base_uri": "https://localhost:8080/",
     "height": 34
    },
    "colab_type": "code",
    "id": "XrCR2phQbhHb",
    "outputId": "9d40c7be-c7e7-4d86-c932-a70d37b167fe"
   },
   "outputs": [
    {
     "name": "stdout",
     "output_type": "stream",
     "text": [
      "Build model...\n"
     ]
    }
   ],
   "source": [
    "cell = GRUCell(16, dropout=0.2, recurrent_dropout=0.2)\n",
    "\n",
    "print('Build model...')\n",
    "K.clear_session()\n",
    "model = Sequential()\n",
    "model.add(Embedding(max_features, 16))\n",
    "model.add(RNN(cell))\n",
    "model.add(Dense(1, activation='sigmoid'))"
   ]
  },
  {
   "cell_type": "code",
   "execution_count": 0,
   "metadata": {
    "colab": {},
    "colab_type": "code",
    "id": "LKnUHul-bhHg"
   },
   "outputs": [],
   "source": [
    "# try using different optimizers and different optimizer configs\n",
    "model.compile(loss='binary_crossentropy',\n",
    "              optimizer='adam',\n",
    "              metrics=['accuracy'])"
   ]
  },
  {
   "cell_type": "code",
   "execution_count": 27,
   "metadata": {
    "colab": {
     "base_uri": "https://localhost:8080/",
     "height": 153
    },
    "colab_type": "code",
    "id": "EhZPWNR_bhHi",
    "outputId": "ae7acf5c-8c27-4a80-de3d-3b872fff7482"
   },
   "outputs": [
    {
     "name": "stdout",
     "output_type": "stream",
     "text": [
      "Train...\n",
      "Train on 25000 samples, validate on 25000 samples\n",
      "Epoch 1/3\n",
      "25000/25000 [==============================] - 96s 4ms/step - loss: 0.5320 - acc: 0.7271 - val_loss: 0.4396 - val_acc: 0.7976\n",
      "Epoch 2/3\n",
      "25000/25000 [==============================] - 95s 4ms/step - loss: 0.3669 - acc: 0.8450 - val_loss: 0.4044 - val_acc: 0.8154\n",
      "Epoch 3/3\n",
      "25000/25000 [==============================] - 95s 4ms/step - loss: 0.2906 - acc: 0.8840 - val_loss: 0.4048 - val_acc: 0.8228\n"
     ]
    }
   ],
   "source": [
    "t1 = time.time()\n",
    "\n",
    "print('Train...')\n",
    "model.fit(X_train, y_train,\n",
    "          batch_size=batch_size,\n",
    "          epochs=3,\n",
    "          validation_data=(X_test, y_test))\n",
    "\n",
    "t2 = time.time()\n",
    "\n",
    "#時間計測\n",
    "gcell_time = t2 - t1"
   ]
  },
  {
   "cell_type": "code",
   "execution_count": 92,
   "metadata": {
    "colab": {
     "base_uri": "https://localhost:8080/",
     "height": 34
    },
    "colab_type": "code",
    "id": "latNTGx_7D4K",
    "outputId": "8b035cff-56d9-472a-e248-2b9bc88ca79b"
   },
   "outputs": [
    {
     "name": "stdout",
     "output_type": "stream",
     "text": [
      "実行時間 :  287.24110436439514 秒\n"
     ]
    }
   ],
   "source": [
    "print('実行時間 : ', gcell_time, '秒')"
   ]
  },
  {
   "cell_type": "code",
   "execution_count": 28,
   "metadata": {
    "colab": {
     "base_uri": "https://localhost:8080/",
     "height": 68
    },
    "colab_type": "code",
    "id": "LmDsNcoGbhHk",
    "outputId": "1d36bc27-2589-46b7-8acf-69d6a1d85c3f"
   },
   "outputs": [
    {
     "name": "stdout",
     "output_type": "stream",
     "text": [
      "25000/25000 [==============================] - 17s 669us/step\n",
      "Test score: 0.404796282491684\n",
      "Test accuracy: 0.82276\n"
     ]
    }
   ],
   "source": [
    "score, gcell_acc = model.evaluate(X_test, y_test,\n",
    "                            batch_size=batch_size)\n",
    "print('Test score:', score)\n",
    "print('Test accuracy:', gcell_acc)"
   ]
  },
  {
   "cell_type": "markdown",
   "metadata": {
    "colab_type": "text",
    "id": "5XD1bNHcbhHn"
   },
   "source": [
    "### RNN + LSTMCell"
   ]
  },
  {
   "cell_type": "code",
   "execution_count": 29,
   "metadata": {
    "colab": {
     "base_uri": "https://localhost:8080/",
     "height": 34
    },
    "colab_type": "code",
    "id": "4-70eFtmbhHn",
    "outputId": "d35e1bb5-2ad5-4d10-f15c-db11e6c8aa59"
   },
   "outputs": [
    {
     "name": "stdout",
     "output_type": "stream",
     "text": [
      "Build model...\n"
     ]
    }
   ],
   "source": [
    "cell = LSTMCell(16, dropout=0.2, recurrent_dropout=0.2)\n",
    "\n",
    "print('Build model...')\n",
    "K.clear_session()\n",
    "model = Sequential()\n",
    "model.add(Embedding(max_features, 16))\n",
    "model.add(RNN(cell))\n",
    "model.add(Dense(1, activation='sigmoid'))"
   ]
  },
  {
   "cell_type": "code",
   "execution_count": 0,
   "metadata": {
    "colab": {},
    "colab_type": "code",
    "id": "M-8dx9DibhHw"
   },
   "outputs": [],
   "source": [
    "# try using different optimizers and different optimizer configs\n",
    "model.compile(loss='binary_crossentropy',\n",
    "              optimizer='adam',\n",
    "              metrics=['accuracy'])"
   ]
  },
  {
   "cell_type": "code",
   "execution_count": 31,
   "metadata": {
    "colab": {
     "base_uri": "https://localhost:8080/",
     "height": 153
    },
    "colab_type": "code",
    "id": "52NWpSymbhH0",
    "outputId": "d612442e-5817-4692-a244-c170fdc61b98"
   },
   "outputs": [
    {
     "name": "stdout",
     "output_type": "stream",
     "text": [
      "Train...\n",
      "Train on 25000 samples, validate on 25000 samples\n",
      "Epoch 1/3\n",
      "25000/25000 [==============================] - 118s 5ms/step - loss: 0.5113 - acc: 0.7430 - val_loss: 0.4015 - val_acc: 0.8204\n",
      "Epoch 2/3\n",
      "25000/25000 [==============================] - 114s 5ms/step - loss: 0.3374 - acc: 0.8588 - val_loss: 0.3878 - val_acc: 0.8267\n",
      "Epoch 3/3\n",
      "25000/25000 [==============================] - 114s 5ms/step - loss: 0.2711 - acc: 0.8928 - val_loss: 0.4008 - val_acc: 0.8275\n"
     ]
    }
   ],
   "source": [
    "t1 = time.time()\n",
    "\n",
    "print('Train...')\n",
    "model.fit(X_train, y_train,\n",
    "          batch_size=batch_size,\n",
    "          epochs=3,\n",
    "          validation_data=(X_test, y_test))\n",
    "\n",
    "t2 = time.time()\n",
    "\n",
    "#時間計測\n",
    "lcell_time = t2 - t1"
   ]
  },
  {
   "cell_type": "code",
   "execution_count": 93,
   "metadata": {
    "colab": {
     "base_uri": "https://localhost:8080/",
     "height": 34
    },
    "colab_type": "code",
    "id": "IVB3kBqc7Hxh",
    "outputId": "589368da-45e6-4fa8-dbbd-2017a75f171b"
   },
   "outputs": [
    {
     "name": "stdout",
     "output_type": "stream",
     "text": [
      "実行時間 :  347.67757773399353 秒\n"
     ]
    }
   ],
   "source": [
    "print('実行時間 : ', lcell_time, '秒')"
   ]
  },
  {
   "cell_type": "code",
   "execution_count": 32,
   "metadata": {
    "colab": {
     "base_uri": "https://localhost:8080/",
     "height": 68
    },
    "colab_type": "code",
    "id": "ftQgOjqYbhH3",
    "outputId": "40553865-1233-4f0e-a8df-40e9a1eebb5e"
   },
   "outputs": [
    {
     "name": "stdout",
     "output_type": "stream",
     "text": [
      "25000/25000 [==============================] - 21s 837us/step\n",
      "Test score: 0.4007869109725952\n",
      "Test accuracy: 0.82752\n"
     ]
    }
   ],
   "source": [
    "score, lcell_acc = model.evaluate(X_test, y_test,\n",
    "                            batch_size=batch_size)\n",
    "print('Test score:', score)\n",
    "print('Test accuracy:', lcell_acc)"
   ]
  },
  {
   "cell_type": "markdown",
   "metadata": {
    "colab_type": "text",
    "id": "VRZiSBWmbhH6"
   },
   "source": [
    "### StackedRNNCells + SimpleRNN"
   ]
  },
  {
   "cell_type": "code",
   "execution_count": 33,
   "metadata": {
    "colab": {
     "base_uri": "https://localhost:8080/",
     "height": 34
    },
    "colab_type": "code",
    "id": "hX0HwEMCbhH7",
    "outputId": "273fe3f5-c763-4787-ba83-ca936f399c34"
   },
   "outputs": [
    {
     "name": "stdout",
     "output_type": "stream",
     "text": [
      "Build model...\n"
     ]
    }
   ],
   "source": [
    "cells = [SimpleRNNCell(16, dropout=0.2, recurrent_dropout=0.2)]\n",
    "\n",
    "print('Build model...')\n",
    "K.clear_session()\n",
    "model = Sequential()\n",
    "model.add(Embedding(max_features, 16))\n",
    "model.add(RNN(StackedRNNCells(cells)))\n",
    "model.add(Dense(1, activation='sigmoid'))"
   ]
  },
  {
   "cell_type": "code",
   "execution_count": 0,
   "metadata": {
    "colab": {},
    "colab_type": "code",
    "id": "8jHEOpgGbhH9"
   },
   "outputs": [],
   "source": [
    "# try using different optimizers and different optimizer configs\n",
    "model.compile(loss='binary_crossentropy',\n",
    "              optimizer='adam',\n",
    "              metrics=['accuracy'])"
   ]
  },
  {
   "cell_type": "code",
   "execution_count": 35,
   "metadata": {
    "colab": {
     "base_uri": "https://localhost:8080/",
     "height": 153
    },
    "colab_type": "code",
    "id": "3lDlK7F1bhIA",
    "outputId": "0fe9a562-dd42-4a94-e181-41a24ffb4ace"
   },
   "outputs": [
    {
     "name": "stdout",
     "output_type": "stream",
     "text": [
      "Train...\n",
      "Train on 25000 samples, validate on 25000 samples\n",
      "Epoch 1/3\n",
      "25000/25000 [==============================] - 32s 1ms/step - loss: 0.6962 - acc: 0.5306 - val_loss: 0.6726 - val_acc: 0.6114\n",
      "Epoch 2/3\n",
      "25000/25000 [==============================] - 31s 1ms/step - loss: 0.6361 - acc: 0.6371 - val_loss: 0.5653 - val_acc: 0.7330\n",
      "Epoch 3/3\n",
      "25000/25000 [==============================] - 31s 1ms/step - loss: 0.5225 - acc: 0.7433 - val_loss: 0.5008 - val_acc: 0.7576\n"
     ]
    }
   ],
   "source": [
    "t1 = time.time()\n",
    "\n",
    "print('Train...')\n",
    "model.fit(X_train, y_train,\n",
    "          batch_size=batch_size,\n",
    "          epochs=3,\n",
    "          validation_data=(X_test, y_test))\n",
    "\n",
    "t2 = time.time()\n",
    "\n",
    "#時間計測\n",
    "srs_time = t2 - t1"
   ]
  },
  {
   "cell_type": "code",
   "execution_count": 94,
   "metadata": {
    "colab": {
     "base_uri": "https://localhost:8080/",
     "height": 34
    },
    "colab_type": "code",
    "id": "54EjIugt7L6o",
    "outputId": "92483fd1-8108-4ed8-f4d4-8af1cc39516c"
   },
   "outputs": [
    {
     "name": "stdout",
     "output_type": "stream",
     "text": [
      "実行時間 :  94.65914869308472 秒\n"
     ]
    }
   ],
   "source": [
    "print('実行時間 : ',srs_time, '秒')"
   ]
  },
  {
   "cell_type": "code",
   "execution_count": 36,
   "metadata": {
    "colab": {
     "base_uri": "https://localhost:8080/",
     "height": 68
    },
    "colab_type": "code",
    "id": "C2g7xAdUbhID",
    "outputId": "826492f3-008a-46ff-8650-99cd577770f5"
   },
   "outputs": [
    {
     "name": "stdout",
     "output_type": "stream",
     "text": [
      "25000/25000 [==============================] - 6s 231us/step\n",
      "Test score: 0.5008476150512695\n",
      "Test accuracy: 0.75756\n"
     ]
    }
   ],
   "source": [
    "score, srs_acc = model.evaluate(X_test, y_test,\n",
    "                            batch_size=batch_size)\n",
    "print('Test score:', score)\n",
    "print('Test accuracy:', srs_acc)"
   ]
  },
  {
   "cell_type": "markdown",
   "metadata": {
    "colab_type": "text",
    "id": "E2R94bwhpbPA"
   },
   "source": [
    "### StackedRNNCells + GRU"
   ]
  },
  {
   "cell_type": "code",
   "execution_count": 37,
   "metadata": {
    "colab": {
     "base_uri": "https://localhost:8080/",
     "height": 34
    },
    "colab_type": "code",
    "id": "yqIWyeR2pcTS",
    "outputId": "3b3b1b6e-2aaa-49b6-aa69-1a1231ae91bf"
   },
   "outputs": [
    {
     "name": "stdout",
     "output_type": "stream",
     "text": [
      "Build model...\n"
     ]
    }
   ],
   "source": [
    "cells = [GRUCell(16, dropout=0.2, recurrent_dropout=0.2)]\n",
    "\n",
    "print('Build model...')\n",
    "K.clear_session()\n",
    "model = Sequential()\n",
    "model.add(Embedding(max_features, 16))\n",
    "model.add(RNN(StackedRNNCells(cells)))\n",
    "model.add(Dense(1, activation='sigmoid'))"
   ]
  },
  {
   "cell_type": "code",
   "execution_count": 0,
   "metadata": {
    "colab": {},
    "colab_type": "code",
    "id": "R8W5vLucpcIJ"
   },
   "outputs": [],
   "source": [
    "# try using different optimizers and different optimizer configs\n",
    "model.compile(loss='binary_crossentropy',\n",
    "              optimizer='adam',\n",
    "              metrics=['accuracy'])"
   ]
  },
  {
   "cell_type": "code",
   "execution_count": 39,
   "metadata": {
    "colab": {
     "base_uri": "https://localhost:8080/",
     "height": 153
    },
    "colab_type": "code",
    "id": "aGp00dzLpb8N",
    "outputId": "d325aa88-b1a6-4c59-fb90-48138f602ea7"
   },
   "outputs": [
    {
     "name": "stdout",
     "output_type": "stream",
     "text": [
      "Train...\n",
      "Train on 25000 samples, validate on 25000 samples\n",
      "Epoch 1/3\n",
      "25000/25000 [==============================] - 93s 4ms/step - loss: 0.5362 - acc: 0.7205 - val_loss: 0.4567 - val_acc: 0.7840\n",
      "Epoch 2/3\n",
      "25000/25000 [==============================] - 92s 4ms/step - loss: 0.3723 - acc: 0.8426 - val_loss: 0.4157 - val_acc: 0.8092\n",
      "Epoch 3/3\n",
      "25000/25000 [==============================] - 92s 4ms/step - loss: 0.2873 - acc: 0.8861 - val_loss: 0.4017 - val_acc: 0.8210\n"
     ]
    }
   ],
   "source": [
    "t1 = time.time()\n",
    "\n",
    "print('Train...')\n",
    "model.fit(X_train, y_train,\n",
    "          batch_size=batch_size,\n",
    "          epochs=3,\n",
    "          validation_data=(X_test, y_test))\n",
    "\n",
    "t2 = time.time()\n",
    "\n",
    "#時間計測\n",
    "srg_time = t2 - t1"
   ]
  },
  {
   "cell_type": "code",
   "execution_count": 95,
   "metadata": {
    "colab": {
     "base_uri": "https://localhost:8080/",
     "height": 34
    },
    "colab_type": "code",
    "id": "XE3p12ru7PQq",
    "outputId": "2e710730-d79c-48ae-b921-f0526a03ae89"
   },
   "outputs": [
    {
     "name": "stdout",
     "output_type": "stream",
     "text": [
      "実行時間 :  277.652676820755 秒\n"
     ]
    }
   ],
   "source": [
    "print('実行時間 : ', srg_time, '秒')"
   ]
  },
  {
   "cell_type": "code",
   "execution_count": 40,
   "metadata": {
    "colab": {
     "base_uri": "https://localhost:8080/",
     "height": 68
    },
    "colab_type": "code",
    "id": "P-xhkuTku7uG",
    "outputId": "eaec16fe-53dc-4af6-c0e2-71cc0b2e1303"
   },
   "outputs": [
    {
     "name": "stdout",
     "output_type": "stream",
     "text": [
      "25000/25000 [==============================] - 16s 653us/step\n",
      "Test score: 0.4017338687896729\n",
      "Test accuracy: 0.82104\n"
     ]
    }
   ],
   "source": [
    "score, srg_acc = model.evaluate(X_test, y_test,\n",
    "                            batch_size=batch_size)\n",
    "print('Test score:', score)\n",
    "print('Test accuracy:', srg_acc)"
   ]
  },
  {
   "cell_type": "markdown",
   "metadata": {
    "colab_type": "text",
    "id": "Dcroe9agpdCS"
   },
   "source": [
    "### StackedRNNCells + LSTM"
   ]
  },
  {
   "cell_type": "code",
   "execution_count": 41,
   "metadata": {
    "colab": {
     "base_uri": "https://localhost:8080/",
     "height": 34
    },
    "colab_type": "code",
    "id": "SkJaYmztpuav",
    "outputId": "13859d13-8209-4237-89c8-7486fd036202"
   },
   "outputs": [
    {
     "name": "stdout",
     "output_type": "stream",
     "text": [
      "Build model...\n"
     ]
    }
   ],
   "source": [
    "cells = [LSTMCell(16, dropout=0.2, recurrent_dropout=0.2)]\n",
    "\n",
    "print('Build model...')\n",
    "K.clear_session()\n",
    "model = Sequential()\n",
    "model.add(Embedding(max_features, 16))\n",
    "model.add(RNN(StackedRNNCells(cells)))\n",
    "model.add(Dense(1, activation='sigmoid'))"
   ]
  },
  {
   "cell_type": "code",
   "execution_count": 0,
   "metadata": {
    "colab": {},
    "colab_type": "code",
    "id": "AErrCPIlpt6y"
   },
   "outputs": [],
   "source": [
    "# try using different optimizers and different optimizer configs\n",
    "model.compile(loss='binary_crossentropy',\n",
    "              optimizer='adam',\n",
    "              metrics=['accuracy'])"
   ]
  },
  {
   "cell_type": "code",
   "execution_count": 43,
   "metadata": {
    "colab": {
     "base_uri": "https://localhost:8080/",
     "height": 153
    },
    "colab_type": "code",
    "id": "Y5kqYMKiptuO",
    "outputId": "ed7d4f57-443b-492c-c0c6-91936fd7d8b4"
   },
   "outputs": [
    {
     "name": "stdout",
     "output_type": "stream",
     "text": [
      "Train...\n",
      "Train on 25000 samples, validate on 25000 samples\n",
      "Epoch 1/3\n",
      "25000/25000 [==============================] - 115s 5ms/step - loss: 0.5090 - acc: 0.7467 - val_loss: 0.3981 - val_acc: 0.8260\n",
      "Epoch 2/3\n",
      "25000/25000 [==============================] - 113s 5ms/step - loss: 0.3452 - acc: 0.8572 - val_loss: 0.3953 - val_acc: 0.8237\n",
      "Epoch 3/3\n",
      "25000/25000 [==============================] - 114s 5ms/step - loss: 0.2712 - acc: 0.8934 - val_loss: 0.4062 - val_acc: 0.8230\n"
     ]
    }
   ],
   "source": [
    "t1 = time.time()\n",
    "\n",
    "print('Train...')\n",
    "model.fit(X_train, y_train,\n",
    "          batch_size=batch_size,\n",
    "          epochs=3,\n",
    "          validation_data=(X_test, y_test))\n",
    "\n",
    "t2 = time.time()\n",
    "\n",
    "#時間計測\n",
    "srl_time = t2 - t1"
   ]
  },
  {
   "cell_type": "code",
   "execution_count": 96,
   "metadata": {
    "colab": {
     "base_uri": "https://localhost:8080/",
     "height": 34
    },
    "colab_type": "code",
    "id": "VzIA1DVw7Sb7",
    "outputId": "237fb70e-d2de-4501-9e01-311470414958"
   },
   "outputs": [
    {
     "name": "stdout",
     "output_type": "stream",
     "text": [
      "実行時間 :  342.6183822154999 秒\n"
     ]
    }
   ],
   "source": [
    "print('実行時間 : ', srl_time, '秒')"
   ]
  },
  {
   "cell_type": "code",
   "execution_count": 44,
   "metadata": {
    "colab": {
     "base_uri": "https://localhost:8080/",
     "height": 68
    },
    "colab_type": "code",
    "id": "bzAm-AwFu8iN",
    "outputId": "956796d4-14f0-4f6a-e545-16b26e091701"
   },
   "outputs": [
    {
     "name": "stdout",
     "output_type": "stream",
     "text": [
      "25000/25000 [==============================] - 21s 834us/step\n",
      "Test score: 0.40618413860321045\n",
      "Test accuracy: 0.82296\n"
     ]
    }
   ],
   "source": [
    "score, srl_acc = model.evaluate(X_test, y_test,\n",
    "                            batch_size=batch_size)\n",
    "print('Test score:', score)\n",
    "print('Test accuracy:', srl_acc)"
   ]
  },
  {
   "cell_type": "markdown",
   "metadata": {
    "colab_type": "text",
    "id": "1ypc03hybhIF"
   },
   "source": [
    "### CuDNNGRU"
   ]
  },
  {
   "cell_type": "code",
   "execution_count": 45,
   "metadata": {
    "colab": {
     "base_uri": "https://localhost:8080/",
     "height": 34
    },
    "colab_type": "code",
    "id": "t9J2Qd-XbhIG",
    "outputId": "ba275fc4-a3ec-400d-bdb9-a077d81d6248"
   },
   "outputs": [
    {
     "name": "stdout",
     "output_type": "stream",
     "text": [
      "Build model...\n"
     ]
    }
   ],
   "source": [
    "print('Build model...')\n",
    "K.clear_session()\n",
    "model = Sequential()\n",
    "model.add(Embedding(max_features, 16))\n",
    "model.add(CuDNNGRU(16))\n",
    "model.add(Dense(1, activation='sigmoid'))"
   ]
  },
  {
   "cell_type": "code",
   "execution_count": 0,
   "metadata": {
    "colab": {},
    "colab_type": "code",
    "id": "LveapKEPbhII"
   },
   "outputs": [],
   "source": [
    "# try using different optimizers and different optimizer configs\n",
    "model.compile(loss='binary_crossentropy',\n",
    "              optimizer='adam',\n",
    "              metrics=['accuracy'])"
   ]
  },
  {
   "cell_type": "code",
   "execution_count": 47,
   "metadata": {
    "colab": {
     "base_uri": "https://localhost:8080/",
     "height": 153
    },
    "colab_type": "code",
    "id": "-L9QoP0ibhIP",
    "outputId": "4483cfa2-6db1-4e97-93de-5982048b9e79"
   },
   "outputs": [
    {
     "name": "stdout",
     "output_type": "stream",
     "text": [
      "Train...\n",
      "Train on 25000 samples, validate on 25000 samples\n",
      "Epoch 1/3\n",
      "25000/25000 [==============================] - 8s 318us/step - loss: 0.4576 - acc: 0.7694 - val_loss: 0.3683 - val_acc: 0.8373\n",
      "Epoch 2/3\n",
      "25000/25000 [==============================] - 8s 302us/step - loss: 0.2698 - acc: 0.8911 - val_loss: 0.4106 - val_acc: 0.8269\n",
      "Epoch 3/3\n",
      "25000/25000 [==============================] - 7s 300us/step - loss: 0.1946 - acc: 0.9261 - val_loss: 0.4381 - val_acc: 0.8258\n"
     ]
    }
   ],
   "source": [
    "t1 = time.time()\n",
    "\n",
    "print('Train...')\n",
    "model.fit(X_train, y_train,\n",
    "          batch_size=batch_size,\n",
    "          epochs=3,\n",
    "          validation_data=(X_test, y_test))\n",
    "\n",
    "t2 = time.time()\n",
    "\n",
    "#時間計測\n",
    "cg_time = t2 - t1"
   ]
  },
  {
   "cell_type": "code",
   "execution_count": 97,
   "metadata": {
    "colab": {
     "base_uri": "https://localhost:8080/",
     "height": 34
    },
    "colab_type": "code",
    "id": "Zx0ebTrP7aPP",
    "outputId": "a8c46e3a-f239-457f-bd1b-2f8f09dea477"
   },
   "outputs": [
    {
     "name": "stdout",
     "output_type": "stream",
     "text": [
      "実行時間 :  23.415815830230713 秒\n"
     ]
    }
   ],
   "source": [
    "print('実行時間 : ', cg_time, '秒')"
   ]
  },
  {
   "cell_type": "code",
   "execution_count": 48,
   "metadata": {
    "colab": {
     "base_uri": "https://localhost:8080/",
     "height": 68
    },
    "colab_type": "code",
    "id": "UF7DdiAEbhIY",
    "outputId": "6c385fb8-d53a-4787-bea0-cad8cf0222eb"
   },
   "outputs": [
    {
     "name": "stdout",
     "output_type": "stream",
     "text": [
      "25000/25000 [==============================] - 2s 90us/step\n",
      "Test score: 0.4380616089582443\n",
      "Test accuracy: 0.8258\n"
     ]
    }
   ],
   "source": [
    "score, cg_acc = model.evaluate(X_test, y_test,\n",
    "                            batch_size=batch_size)\n",
    "print('Test score:', score)\n",
    "print('Test accuracy:', cg_acc)"
   ]
  },
  {
   "cell_type": "markdown",
   "metadata": {
    "colab_type": "text",
    "id": "NPf3o9lsbhIa"
   },
   "source": [
    "### CuDNNLSTM"
   ]
  },
  {
   "cell_type": "code",
   "execution_count": 49,
   "metadata": {
    "colab": {
     "base_uri": "https://localhost:8080/",
     "height": 34
    },
    "colab_type": "code",
    "id": "E7k3_8G1bhIb",
    "outputId": "f86e932d-2b9d-4304-eedd-e67cc1c7b7cd"
   },
   "outputs": [
    {
     "name": "stdout",
     "output_type": "stream",
     "text": [
      "Build model...\n"
     ]
    }
   ],
   "source": [
    "print('Build model...')\n",
    "K.clear_session()\n",
    "model = Sequential()\n",
    "model.add(Embedding(max_features, 16))\n",
    "model.add(CuDNNLSTM(16))\n",
    "model.add(Dense(1, activation='sigmoid'))"
   ]
  },
  {
   "cell_type": "code",
   "execution_count": 0,
   "metadata": {
    "colab": {},
    "colab_type": "code",
    "id": "fYKrKq0_bhIg"
   },
   "outputs": [],
   "source": [
    "# try using different optimizers and different optimizer configs\n",
    "model.compile(loss='binary_crossentropy',\n",
    "              optimizer='adam',\n",
    "              metrics=['accuracy'])"
   ]
  },
  {
   "cell_type": "code",
   "execution_count": 51,
   "metadata": {
    "colab": {
     "base_uri": "https://localhost:8080/",
     "height": 153
    },
    "colab_type": "code",
    "id": "NMVy7wh9bhIl",
    "outputId": "5a76b62f-6a17-4b78-94b6-164f5c7bcc8a"
   },
   "outputs": [
    {
     "name": "stdout",
     "output_type": "stream",
     "text": [
      "Train...\n",
      "Train on 25000 samples, validate on 25000 samples\n",
      "Epoch 1/3\n",
      "25000/25000 [==============================] - 8s 316us/step - loss: 0.4443 - acc: 0.7836 - val_loss: 0.3576 - val_acc: 0.8412\n",
      "Epoch 2/3\n",
      "25000/25000 [==============================] - 7s 298us/step - loss: 0.2627 - acc: 0.8961 - val_loss: 0.3689 - val_acc: 0.8380\n",
      "Epoch 3/3\n",
      "25000/25000 [==============================] - 7s 299us/step - loss: 0.1878 - acc: 0.9298 - val_loss: 0.4789 - val_acc: 0.8232\n"
     ]
    }
   ],
   "source": [
    "t1 = time.time()\n",
    "\n",
    "print('Train...')\n",
    "model.fit(X_train, y_train,\n",
    "          batch_size=batch_size,\n",
    "          epochs=3,\n",
    "          validation_data=(X_test, y_test))\n",
    "\n",
    "t2 = time.time()\n",
    "\n",
    "#時間計測\n",
    "cl_time = t2 - t1"
   ]
  },
  {
   "cell_type": "code",
   "execution_count": 98,
   "metadata": {
    "colab": {
     "base_uri": "https://localhost:8080/",
     "height": 34
    },
    "colab_type": "code",
    "id": "K9eYm-qr7dZL",
    "outputId": "ab66756d-6afd-4b25-8a85-8c0f811dce4d"
   },
   "outputs": [
    {
     "name": "stdout",
     "output_type": "stream",
     "text": [
      "実行時間 :  23.239107370376587 秒\n"
     ]
    }
   ],
   "source": [
    "print('実行時間 : ', cl_time, '秒')"
   ]
  },
  {
   "cell_type": "code",
   "execution_count": 52,
   "metadata": {
    "colab": {
     "base_uri": "https://localhost:8080/",
     "height": 68
    },
    "colab_type": "code",
    "id": "aYn2jPu7bhIn",
    "outputId": "0eb3b10b-2533-479d-f1fa-a7731aad835d"
   },
   "outputs": [
    {
     "name": "stdout",
     "output_type": "stream",
     "text": [
      "25000/25000 [==============================] - 2s 92us/step\n",
      "Test score: 0.47887956453323366\n",
      "Test accuracy: 0.82324\n"
     ]
    }
   ],
   "source": [
    "score, cl_acc = model.evaluate(X_test, y_test,\n",
    "                            batch_size=batch_size)\n",
    "print('Test score:', score)\n",
    "print('Test accuracy:', cl_acc)"
   ]
  },
  {
   "cell_type": "code",
   "execution_count": 108,
   "metadata": {
    "colab": {
     "base_uri": "https://localhost:8080/",
     "height": 281
    },
    "colab_type": "code",
    "id": "UltDYH0dvoNW",
    "outputId": "be1fcc9d-d963-49e6-ee78-e2ac5ee8a418"
   },
   "outputs": [
    {
     "data": {
      "image/png": "[encoded data removed]",
      "text/plain": [
       "<Figure size 432x288 with 1 Axes>"
      ]
     },
     "metadata": {
      "tags": []
     },
     "output_type": "display_data"
    }
   ],
   "source": [
    "#各手法のAccuracyリスト\n",
    "simplernn = [simplernn_acc, rcell_acc, srs_acc, 0]  \n",
    "gru = [gru_acc, gcell_acc, srg_acc, cg_acc]\n",
    "lstm = [lstm_acc, lcell_acc, srl_acc, cl_acc]\n",
    " \n",
    "#numpyで横軸を設定\n",
    "left = np.arange(4)\n",
    "\n",
    "#ラベル\n",
    "labels = ['Simple Layer', 'RNN', 'StackedRNNCells', 'CuDNN']\n",
    "idx = ['SimpleRNN', 'GRU', 'LSTM']\n",
    " \n",
    "#幅\n",
    "width = 0.2\n",
    "\n",
    "#棒グラフの出力\n",
    "p1 = plt.bar(left, simplernn, color='r', width=width, align='center')\n",
    "p2 = plt.bar(left+width, gru, color='b', width=width, align='center')\n",
    "p3 = plt.bar(left+width+width, lstm, color='g', width=width, align='center')\n",
    "plt.legend([p1, p2, p3], idx, bbox_to_anchor=(1.05, 1))\n",
    "plt.xticks(left + width, labels)\n",
    "plt.title('Accuracy')\n",
    "plt.show()"
   ]
  },
  {
   "cell_type": "code",
   "execution_count": 109,
   "metadata": {
    "colab": {
     "base_uri": "https://localhost:8080/",
     "height": 142
    },
    "colab_type": "code",
    "id": "_4eKZKlE7wIQ",
    "outputId": "349a5591-3173-4593-a546-0a1ec134e4aa"
   },
   "outputs": [
    {
     "data": {
      "text/html": [
       "<div>\n",
       "<style scoped>\n",
       "    .dataframe tbody tr th:only-of-type {\n",
       "        vertical-align: middle;\n",
       "    }\n",
       "\n",
       "    .dataframe tbody tr th {\n",
       "        vertical-align: top;\n",
       "    }\n",
       "\n",
       "    .dataframe thead th {\n",
       "        text-align: right;\n",
       "    }\n",
       "</style>\n",
       "<table border=\"1\" class=\"dataframe\">\n",
       "  <thead>\n",
       "    <tr style=\"text-align: right;\">\n",
       "      <th></th>\n",
       "      <th>Simple Layer</th>\n",
       "      <th>RNN</th>\n",
       "      <th>StackedRNNCells</th>\n",
       "      <th>CuDNN</th>\n",
       "    </tr>\n",
       "  </thead>\n",
       "  <tbody>\n",
       "    <tr>\n",
       "      <th>SimpleRNN</th>\n",
       "      <td>0.74340</td>\n",
       "      <td>0.73172</td>\n",
       "      <td>0.75756</td>\n",
       "      <td>0.00000</td>\n",
       "    </tr>\n",
       "    <tr>\n",
       "      <th>GRU</th>\n",
       "      <td>0.82196</td>\n",
       "      <td>0.82276</td>\n",
       "      <td>0.82104</td>\n",
       "      <td>0.82580</td>\n",
       "    </tr>\n",
       "    <tr>\n",
       "      <th>LSTM</th>\n",
       "      <td>0.82424</td>\n",
       "      <td>0.82752</td>\n",
       "      <td>0.82296</td>\n",
       "      <td>0.82324</td>\n",
       "    </tr>\n",
       "  </tbody>\n",
       "</table>\n",
       "</div>"
      ],
      "text/plain": [
       "           Simple Layer      RNN  StackedRNNCells    CuDNN\n",
       "SimpleRNN       0.74340  0.73172          0.75756  0.00000\n",
       "GRU             0.82196  0.82276          0.82104  0.82580\n",
       "LSTM            0.82424  0.82752          0.82296  0.82324"
      ]
     },
     "execution_count": 109,
     "metadata": {
      "tags": []
     },
     "output_type": "execute_result"
    }
   ],
   "source": [
    "import pandas as pd\n",
    "\n",
    "#Accuracyの表\n",
    "df_acc = pd.DataFrame([simplernn, gru, lstm], index=idx, columns=labels)\n",
    "df_acc"
   ]
  },
  {
   "cell_type": "code",
   "execution_count": 110,
   "metadata": {
    "colab": {
     "base_uri": "https://localhost:8080/",
     "height": 281
    },
    "colab_type": "code",
    "id": "iYVwRuYBvn-V",
    "outputId": "5a89fdf4-b841-46df-8884-117bd4c61528"
   },
   "outputs": [
    {
     "data": {
      "image/png": "[encoded data removed]",
      "text/plain": [
       "<Figure size 432x288 with 1 Axes>"
      ]
     },
     "metadata": {
      "tags": []
     },
     "output_type": "display_data"
    }
   ],
   "source": [
    "#各手法のTimeリスト\n",
    "simplernn = [simplernn_time, rcell_time, srs_time, 0]  \n",
    "gru = [gru_time, gcell_time, srg_time, cg_time]\n",
    "lstm = [lstm_time, lcell_time, srl_time, cl_time]\n",
    " \n",
    "#numpyで横軸を設定\n",
    "left = np.arange(4)\n",
    "\n",
    "#ラベル\n",
    "labels = ['Simple Layer', 'RNN', 'StackedRNNCells', 'CuDNN']\n",
    "idx = ['SimpleRNN', 'GRU', 'LSTM']\n",
    " \n",
    "#幅\n",
    "width = 0.2\n",
    "\n",
    "#棒グラフの出力\n",
    "plt.bar(left, simplernn, color='r', width=width, align='center')\n",
    "plt.bar(left+width, gru, color='b', width=width, align='center')\n",
    "plt.bar(left+width+width, lstm, color='g', width=width, align='center')\n",
    "plt.legend([p1, p2, p3], idx)\n",
    "plt.title('Time(sec)')\n",
    "plt.xticks(left + width, labels)\n",
    "plt.show()"
   ]
  },
  {
   "cell_type": "code",
   "execution_count": 111,
   "metadata": {
    "colab": {
     "base_uri": "https://localhost:8080/",
     "height": 142
    },
    "colab_type": "code",
    "id": "0gGuvr1k84vY",
    "outputId": "e9ec49f7-728a-49c4-d383-c037ba55d8fd"
   },
   "outputs": [
    {
     "data": {
      "text/html": [
       "<div>\n",
       "<style scoped>\n",
       "    .dataframe tbody tr th:only-of-type {\n",
       "        vertical-align: middle;\n",
       "    }\n",
       "\n",
       "    .dataframe tbody tr th {\n",
       "        vertical-align: top;\n",
       "    }\n",
       "\n",
       "    .dataframe thead th {\n",
       "        text-align: right;\n",
       "    }\n",
       "</style>\n",
       "<table border=\"1\" class=\"dataframe\">\n",
       "  <thead>\n",
       "    <tr style=\"text-align: right;\">\n",
       "      <th></th>\n",
       "      <th>Simple Layer</th>\n",
       "      <th>RNN</th>\n",
       "      <th>StackedRNNCells</th>\n",
       "      <th>CuDNN</th>\n",
       "    </tr>\n",
       "  </thead>\n",
       "  <tbody>\n",
       "    <tr>\n",
       "      <th>SimpleRNN</th>\n",
       "      <td>97.962968</td>\n",
       "      <td>98.045285</td>\n",
       "      <td>94.659149</td>\n",
       "      <td>0.000000</td>\n",
       "    </tr>\n",
       "    <tr>\n",
       "      <th>GRU</th>\n",
       "      <td>284.917903</td>\n",
       "      <td>287.241104</td>\n",
       "      <td>277.652677</td>\n",
       "      <td>23.415816</td>\n",
       "    </tr>\n",
       "    <tr>\n",
       "      <th>LSTM</th>\n",
       "      <td>357.099679</td>\n",
       "      <td>347.677578</td>\n",
       "      <td>342.618382</td>\n",
       "      <td>23.239107</td>\n",
       "    </tr>\n",
       "  </tbody>\n",
       "</table>\n",
       "</div>"
      ],
      "text/plain": [
       "           Simple Layer         RNN  StackedRNNCells      CuDNN\n",
       "SimpleRNN     97.962968   98.045285        94.659149   0.000000\n",
       "GRU          284.917903  287.241104       277.652677  23.415816\n",
       "LSTM         357.099679  347.677578       342.618382  23.239107"
      ]
     },
     "execution_count": 111,
     "metadata": {
      "tags": []
     },
     "output_type": "execute_result"
    }
   ],
   "source": [
    "#時間の表\n",
    "df_time = pd.DataFrame([simplernn, gru, lstm], index=idx, columns=labels)\n",
    "df_time"
   ]
  },
  {
   "cell_type": "markdown",
   "metadata": {},
   "source": [
    "今回の比較は、SimpleRNN、GRU、 LSTMの比較と、Layer単独、RNN、 StackedRNNCells、CuDNNの比較をAccuracy、実行時間で行なった。また、今回は1レイヤーのみ、エポック数3、バッチサイズ32、中間層のユニット数16で固定した。\n",
    "\n",
    "Accuracyに関して、LSTMとGRUはほぼ同じで、SimpleRNNが他の2つに比べると少し精度が落ちていた。また、Layer単独の場合と、RNN、StackedRNNCells、CuDNNでの比較では差はあまりみられなかった。\n",
    "\n",
    "実行時間では、CuDNN以外では、LSTM、 GRU、SimpleRNNの順で短くなっており、CuDNNではLSTMとGRUに差はあまりなかった。また、StackedRNNCellsを用いた場合、Layer単独の場合とRNNクラスを用いた場合と比較するとわずかに短かった。しかし、GPU環境下でのみ実行できるCuDNNが圧倒的に速かった。"
   ]
  },
  {
   "cell_type": "markdown",
   "metadata": {
    "colab_type": "text",
    "id": "db6QlsyAbhHG"
   },
   "source": [
    "### ConvLSTM2D"
   ]
  },
  {
   "cell_type": "code",
   "execution_count": 0,
   "metadata": {
    "colab": {},
    "colab_type": "code",
    "id": "t22TyoVYbhHH"
   },
   "outputs": [],
   "source": [
    "# We create a layer which take as input movies of shape\n",
    "# (n_frames, width, height, channels) and returns a movie\n",
    "# of identical shape.\n",
    "\n",
    "#モデル\n",
    "K.clear_session()\n",
    "seq = Sequential()\n",
    "seq.add(ConvLSTM2D(filters=40, kernel_size=(3, 3),\n",
    "                   input_shape=(None, 40, 40, 1),\n",
    "                   padding='same', return_sequences=True))\n",
    "seq.add(BatchNormalization())\n",
    "\n",
    "seq.add(ConvLSTM2D(filters=40, kernel_size=(3, 3),\n",
    "                   padding='same', return_sequences=True))\n",
    "seq.add(BatchNormalization())\n",
    "\n",
    "seq.add(ConvLSTM2D(filters=40, kernel_size=(3, 3),\n",
    "                   padding='same', return_sequences=True))\n",
    "seq.add(BatchNormalization())\n",
    "\n",
    "seq.add(ConvLSTM2D(filters=40, kernel_size=(3, 3),\n",
    "                   padding='same', return_sequences=True))\n",
    "seq.add(BatchNormalization())\n",
    "\n",
    "seq.add(Conv3D(filters=1, kernel_size=(3, 3, 3),\n",
    "               activation='sigmoid',\n",
    "               padding='same', data_format='channels_last'))\n",
    "\n",
    "#コンパイル\n",
    "seq.compile(loss='binary_crossentropy', optimizer='adadelta')"
   ]
  },
  {
   "cell_type": "code",
   "execution_count": 0,
   "metadata": {
    "colab": {},
    "colab_type": "code",
    "id": "vQ1ND4H5bhHK"
   },
   "outputs": [],
   "source": [
    "# Artificial data generation:\n",
    "# Generate movies with 3 to 7 moving squares inside.\n",
    "# The squares are of shape 1x1 or 2x2 pixels,\n",
    "# which move linearly over time.\n",
    "# For convenience we first create movies with bigger width and height (80x80)\n",
    "# and at the end we select a 40x40 window.\n",
    "\n",
    "#ムービーを作成する関数\n",
    "def generate_movies(n_samples=1200, n_frames=15):\n",
    "    row = 80\n",
    "    col = 80\n",
    "    noisy_movies = np.zeros((n_samples, n_frames, row, col, 1), dtype=np.float)\n",
    "    shifted_movies = np.zeros((n_samples, n_frames, row, col, 1),\n",
    "                              dtype=np.float)\n",
    "\n",
    "    for i in range(n_samples):\n",
    "        # Add 3 to 7 moving squares\n",
    "        n = np.random.randint(3, 8)\n",
    "\n",
    "        for j in range(n):\n",
    "            # Initial position\n",
    "            xstart = np.random.randint(20, 60)\n",
    "            ystart = np.random.randint(20, 60)\n",
    "            # Direction of motion\n",
    "            directionx = np.random.randint(0, 3) - 1\n",
    "            directiony = np.random.randint(0, 3) - 1\n",
    "\n",
    "            # Size of the square\n",
    "            w = np.random.randint(2, 4)\n",
    "\n",
    "            for t in range(n_frames):\n",
    "                x_shift = xstart + directionx * t\n",
    "                y_shift = ystart + directiony * t\n",
    "                noisy_movies[i, t, x_shift - w: x_shift + w,\n",
    "                             y_shift - w: y_shift + w, 0] += 1\n",
    "\n",
    "                # Make it more robust by adding noise.\n",
    "                # The idea is that if during inference,\n",
    "                # the value of the pixel is not exactly one,\n",
    "                # we need to train the network to be robust and still\n",
    "                # consider it as a pixel belonging to a square.\n",
    "                if np.random.randint(0, 2):\n",
    "                    noise_f = (-1)**np.random.randint(0, 2)\n",
    "                    noisy_movies[i, t,\n",
    "                                 x_shift - w - 1: x_shift + w + 1,\n",
    "                                 y_shift - w - 1: y_shift + w + 1,\n",
    "                                 0] += noise_f * 0.1\n",
    "\n",
    "                # Shift the ground truth by 1\n",
    "                x_shift = xstart + directionx * (t + 1)\n",
    "                y_shift = ystart + directiony * (t + 1)\n",
    "                shifted_movies[i, t, x_shift - w: x_shift + w,\n",
    "                               y_shift - w: y_shift + w, 0] += 1\n",
    "\n",
    "    # Cut to a 40x40 window\n",
    "    noisy_movies = noisy_movies[::, ::, 20:60, 20:60, ::]\n",
    "    shifted_movies = shifted_movies[::, ::, 20:60, 20:60, ::]\n",
    "    noisy_movies[noisy_movies >= 1] = 1\n",
    "    shifted_movies[shifted_movies >= 1] = 1\n",
    "    return noisy_movies, shifted_movies"
   ]
  },
  {
   "cell_type": "code",
   "execution_count": 18,
   "metadata": {
    "colab": {
     "base_uri": "https://localhost:8080/",
     "height": 153
    },
    "colab_type": "code",
    "id": "hvCeCEjcbhHN",
    "outputId": "14e41307-cd46-461b-94f2-af6391716465"
   },
   "outputs": [
    {
     "name": "stdout",
     "output_type": "stream",
     "text": [
      "Train on 950 samples, validate on 50 samples\n",
      "Epoch 1/3\n",
      "950/950 [==============================] - 56s 59ms/step - loss: 0.2564 - val_loss: 0.0625\n",
      "Epoch 2/3\n",
      "950/950 [==============================] - 48s 51ms/step - loss: 0.0217 - val_loss: 0.0110\n",
      "Epoch 3/3\n",
      "950/950 [==============================] - 48s 51ms/step - loss: 0.0035 - val_loss: 0.0027\n"
     ]
    },
    {
     "data": {
      "text/plain": [
       "<keras.callbacks.History at 0x7f7208733160>"
      ]
     },
     "execution_count": 18,
     "metadata": {
      "tags": []
     },
     "output_type": "execute_result"
    }
   ],
   "source": [
    "#ムービーを作成\n",
    "noisy_movies, shifted_movies = generate_movies(n_samples=1200)\n",
    "\n",
    "#学習\n",
    "seq.fit(noisy_movies[:1000], shifted_movies[:1000], batch_size=10,\n",
    "        epochs=3, validation_split=0.05)"
   ]
  },
  {
   "cell_type": "code",
   "execution_count": 0,
   "metadata": {
    "colab": {},
    "colab_type": "code",
    "id": "iDlc15qXcTZ_"
   },
   "outputs": [],
   "source": [
    "#7番目まで四角形の位置を渡し、それ以降予測\n",
    "which = 1004\n",
    "track = noisy_movies[which][:7, ::, ::, ::]\n",
    "\n",
    "for j in range(16):\n",
    "    new_pos = seq.predict(track[np.newaxis, ::, ::, ::, ::])\n",
    "    new = new_pos[::, -1, ::, ::, ::]\n",
    "    track = np.concatenate((track, new), axis=0)"
   ]
  },
  {
   "cell_type": "code",
   "execution_count": 20,
   "metadata": {
    "colab": {
     "base_uri": "https://localhost:8080/",
     "height": 1000
    },
    "colab_type": "code",
    "id": "YM1EsfnOcVlv",
    "outputId": "55c18a19-5732-4083-c8dd-bff2f3ca07f6",
    "scrolled": false
   },
   "outputs": [
    {
     "data": {
      "image/png": "[encoded data removed]",
      "text/plain": [
       "<Figure size 720x360 with 2 Axes>"
      ]
     },
     "metadata": {
      "tags": []
     },
     "output_type": "display_data"
    },
    {
     "data": {
      "image/png": "[encoded data removed]",
      "text/plain": [
       "<Figure size 720x360 with 2 Axes>"
      ]
     },
     "metadata": {
      "tags": []
     },
     "output_type": "display_data"
    },
    {
     "data": {
      "image/png": "[encoded data removed]",
      "text/plain": [
       "<Figure size 720x360 with 2 Axes>"
      ]
     },
     "metadata": {
      "tags": []
     },
     "output_type": "display_data"
    },
    {
     "data": {
      "image/png": "[encoded data removed]",
      "text/plain": [
       "<Figure size 720x360 with 2 Axes>"
      ]
     },
     "metadata": {
      "tags": []
     },
     "output_type": "display_data"
    },
    {
     "data": {
      "image/png": "[encoded data removed]",
      "text/plain": [
       "<Figure size 720x360 with 2 Axes>"
      ]
     },
     "metadata": {
      "tags": []
     },
     "output_type": "display_data"
    },
    {
     "data": {
      "image/png": "[encoded data removed]",
      "text/plain": [
       "<Figure size 720x360 with 2 Axes>"
      ]
     },
     "metadata": {
      "tags": []
     },
     "output_type": "display_data"
    },
    {
     "data": {
      "image/png": "[encoded data removed]",
      "text/plain": [
       "<Figure size 720x360 with 2 Axes>"
      ]
     },
     "metadata": {
      "tags": []
     },
     "output_type": "display_data"
    },
    {
     "data": {
      "image/png": "[encoded data removed]",
      "text/plain": [
       "<Figure size 720x360 with 2 Axes>"
      ]
     },
     "metadata": {
      "tags": []
     },
     "output_type": "display_data"
    },
    {
     "data": {
      "image/png": "[encoded data removed]",
      "text/plain": [
       "<Figure size 720x360 with 2 Axes>"
      ]
     },
     "metadata": {
      "tags": []
     },
     "output_type": "display_data"
    },
    {
     "data": {
      "image/png": "[encoded data removed]",
      "text/plain": [
       "<Figure size 720x360 with 2 Axes>"
      ]
     },
     "metadata": {
      "tags": []
     },
     "output_type": "display_data"
    },
    {
     "data": {
      "image/png": "[encoded data removed]",
      "text/plain": [
       "<Figure size 720x360 with 2 Axes>"
      ]
     },
     "metadata": {
      "tags": []
     },
     "output_type": "display_data"
    },
    {
     "data": {
      "image/png": "[encoded data removed]",
      "text/plain": [
       "<Figure size 720x360 with 2 Axes>"
      ]
     },
     "metadata": {
      "tags": []
     },
     "output_type": "display_data"
    },
    {
     "data": {
      "image/png": "[encoded data removed]",
      "text/plain": [
       "<Figure size 720x360 with 2 Axes>"
      ]
     },
     "metadata": {
      "tags": []
     },
     "output_type": "display_data"
    },
    {
     "data": {
      "image/png": "[encoded data removed]",
      "text/plain": [
       "<Figure size 720x360 with 2 Axes>"
      ]
     },
     "metadata": {
      "tags": []
     },
     "output_type": "display_data"
    },
    {
     "data": {
      "image/png": "[encoded data removed]",
      "text/plain": [
       "<Figure size 720x360 with 2 Axes>"
      ]
     },
     "metadata": {
      "tags": []
     },
     "output_type": "display_data"
    }
   ],
   "source": [
    "#結果を出力\n",
    "track2 = noisy_movies[which][::, ::, ::, ::]\n",
    "for i in range(15):\n",
    "    fig = plt.figure(figsize=(10, 5))\n",
    "\n",
    "    ax = fig.add_subplot(121)\n",
    "\n",
    "    if i >= 7:\n",
    "        ax.text(1, 3, 'Predictions !', fontsize=20, color='w')\n",
    "    else:\n",
    "        ax.text(1, 3, 'Initial trajectory', fontsize=20)\n",
    "\n",
    "    toplot = track[i, ::, ::, 0]\n",
    "\n",
    "    plt.imshow(toplot)\n",
    "    ax = fig.add_subplot(122)\n",
    "    plt.text(1, 3, 'Ground truth', fontsize=20)\n",
    "\n",
    "    toplot = track2[i, ::, ::, 0]\n",
    "    if i >= 2:\n",
    "        toplot = shifted_movies[which][i - 1, ::, ::, 0]\n",
    "\n",
    "    plt.imshow(toplot)\n",
    "    plt.savefig('%i_animate.png' % (i + 1))"
   ]
  },
  {
   "cell_type": "markdown",
   "metadata": {},
   "source": [
    "左が予測した結果で、右が正解のムービーである。"
   ]
  },
  {
   "cell_type": "markdown",
   "metadata": {
    "colab_type": "text",
    "id": "09bky_LNbhIq"
   },
   "source": [
    "### RNN\n",
    "\n",
    "Recurrentレイヤーに対する基底クラス。引数のcellにcellクラス(LSTMCellなど)を入れて用いる。\n",
    "\n",
    "**引数**\n",
    "- cell: RNN cellインスタンス．RNN cellは以下の属性を持つクラス．\n",
    "  - call(input_at_t, states_at_t)メソッド，これは(output_at_t, states_at_t_plus_1)を返す． cellのメソッド呼び出しはオプションの引数constantsも使える.\n",
    "  - state_size属性． これは1つの整数（1つの状態）でもよく，その場合はrecurrent stateのサイズになる（これはcellの出力のサイズと同じである必要がある）． （1つ状態につき1つのサイズが対応するように）整数やリストやタプルもとれる． この場合は最初のエントリ(state_size\\[0\\])がcellの出力のサイズと同じである必要がある．  cellをRNN cellインスタンスのリストとすることも可能． この場合，cellはRNNの中で他のcellの後にスタックされていれば，効率的なstacked RNNが実現される．\n",
    "- return_sequences: 真理値．出力系列の最後の出力を返すか，完全な系列を返すか．\n",
    "- return_state: 真理値．出力とともに，最後の状態を返すかどうか．\n",
    "- go_backwards: 真理値．Trueなら，入力系列を逆向きから処理し，逆順の系列を返す．\n",
    "- stateful: 真理値．Trueなら，バッチ内のインデックスiの各サンプル に対する最後の状態が次のバッチ内のインデックスiのサンプルに対する初期状態として使われる．\n",
    "- unroll: 真理値．Trueなら，ネットワークは展開され， そうでなければシンボリックループが使われる． 展開はよりメモリ集中傾向になるが，RNNをスピードアップできる． 展開は短い系列にのみ適している．\n",
    "- input_dim: 入力の次元（整数）． この引数（または代わりのキーワード引数input_shape）は， このレイヤーをモデルの最初のレイヤーとして利用するときに必要．\n",
    "- input_length: 入力系列の長さ． この引数はこのレイヤーの後にFlattenからDenseレイヤーへ接続する際に必要 (これがないと，denseの出力のshapeを計算できない）． Recurrentレイヤーがモデルの最初のレイヤーでなければ， 最初のレイヤーのレベルで入力系列の長さを指定する必要がある （例えばinput_shape引数を通じて）．\n"
   ]
  },
  {
   "cell_type": "markdown",
   "metadata": {
    "colab_type": "text",
    "id": "qres033AbhIr"
   },
   "source": [
    "### SimpleRNN\n",
    "\n",
    "1つ前の出力が入力にフィードバックされる全結合RNN。時系列データ、前後のデータに意味のあるデータに対して、その特徴を学習できる。\n",
    "\n",
    "**引数**\n",
    "\n",
    "- units: 正の整数値，出力の次元数．\n",
    "- activation: 活性化関数．  Noneを渡すと活性化関数は適用されない (例．\"linear\" activation: a(x) = x)．\n",
    "- use_bias: 真理値，biasベクトルを使うかどうか．\n",
    "- kernel_initializer: 入力の線形変換に使われるkernelの重み行列のためのInitializer．\n",
    "- recurrent_initializer: 再帰の線形変換に使われるrecurrent_kernelの重み行列のInitializer．\n",
    "- bias_initializer: biasベクトルのInitializer．\n",
    "- kernel_regularizer: kernelの重み行列に適用するRegularizer関数．\n",
    "- recurrent_regularizer: recurrent_kernelの重み行列に適用するRegularizer関数．\n",
    "- bias_regularizer: biasベクトルに適用するRegularizer関数．\n",
    "- activity_regularizer: 出力 (そのactivation) に適用するRegularizer関数．\n",
    "- kernel_constraint: kernelの重み行列に適用するConstraint関数．\n",
    "- recurrent_constraint: recurrent_kernelの重み行列に適用するConstraint関数．\n",
    "- bias_constraint: biasベクトルに適用するConstraint関数．\n",
    "- dropout: 0から1の間の浮動小数点数．入力の線形変換においてdropするユニットの割合．\n",
    "- recurrent_dropout: 0から1の間の浮動小数点数．再帰の線形変換においてdropするユニットの割合．\n",
    "- return_sequences: 真理値．出力系列の最後の出力を返すか，完全な系列を返すか．\n",
    "- return_state: 真理値．出力とともに，最後の状態を返すかどうか．\n",
    "- go_backwards: 真理値．Trueなら，入力系列の後ろから処理し，逆順の系列を返します．\n",
    "- stateful: 真理値．Trueなら，バッチ内のインデックスiの各サンプル に対する最後の状態が次のバッチ内のインデックスiのサンプルに対する初期状態として使われる．\n",
    "- unroll: 真理値．Trueなら，ネットワークは展開され， そうでなければシンボリックループが使われます． 展開はよりメモリ集中傾向になりますが，RNNをスピードアップできます． 展開は短い系列にのみ適している．\n"
   ]
  },
  {
   "cell_type": "markdown",
   "metadata": {
    "colab_type": "text",
    "id": "X3b-2a6PbhIs"
   },
   "source": [
    "### GRU\n",
    "\n",
    "ゲート付き回帰型ユニット。LSTMより構造は少しシンプルで、input gateとforget gateが同じになっている。\n",
    "\n",
    "**引数**\n",
    "\n",
    "- units: 正の整数値，出力の次元数．\n",
    "- activation: 活性化関数．  Noneを渡すと活性化関数は適用されない(例．\"linear\" activation: a(x) = x)．\n",
    "- recurrent_activation: 再帰計算時に使う活性化関数．\n",
    "- use_bias: 真理値，biasベクトルを使うかどうか．\n",
    "- kernel_initializer: 入力の線形変換に使われるkernelの重み行列のためのInitializer．\n",
    "- recurrent_initializer: 再帰の線形変換に使われるrecurrent_kernelの重み行列のInitializer．\n",
    "- bias_initializer: biasベクトルのInitializer．\n",
    "- kernel_regularizer: kernelの重み行列に適用するRegularizer関数．\n",
    "- recurrent_regularizer: recurrent_kernelの重み行列に適用するRegularizer関数．\n",
    "- bias_regularizer: biasベクトルに適用するRegularizer関数．\n",
    "- activity_regularizer: 出力 (そのactivation) に適用するRegularizer関数．\n",
    "- kernel_constraint: kernelの重み行列に適用するConstraint関数．\n",
    "- recurrent_constraint: recurrent_kernelの重み行列に適用するConstraint関数．\n",
    "- bias_constraint: biasベクトルに適用するConstraint関数．\n",
    "- dropout: 0から1の間の浮動小数点数．入力の線形変換においてdropするユニットの割合．\n",
    "- recurrent_dropout: 0から1の間の浮動小数点数．再帰の線形変換においてdropするユニットの割合．\n",
    "- implementation: 実装モードで，1か2．モード1は小さなドット積や加算処理を多数行う構造である一方，モード2は少数の大きな操作をバッチ処理する． これらのモードはハードウェアやアプリケーションによって異なるパフォーマンスプロファイルとなるだろう．\n",
    "- return_sequences: 真理値．出力系列の最後の出力を返すか，完全な系列を返すか．\n",
    "- return_state: 真理値．出力とともに，最後の状態を返すかどうか．\n",
    "- go_backwards: 真理値．Trueなら，入力系列の後ろから処理し，逆順の系列を返す．\n",
    "- stateful: 真理値．Trueなら，バッチ内のインデックスiの各サンプル に対する最後の状態が次のバッチ内のインデックスiのサンプルに対する初期状態として使われる．\n",
    "- unroll: 真理値．Trueなら，ネットワークは展開され， そうでなければシンボリックループが使われる． 展開はよりメモリ集中傾向になるが，RNNをスピードアップできる． 展開は短い系列にのみ適している．\n",
    "- reset_after: GRUの慣習（行列の乗算の前後のどちらでリセットゲートの適用を行うか）．False = \"before\" (デフォルト), True = \"after\" (CuDNN互換).\n"
   ]
  },
  {
   "cell_type": "markdown",
   "metadata": {
    "colab_type": "text",
    "id": "BapjdZP0bhIs"
   },
   "source": [
    "### LSTM\n",
    "\n",
    "長短期記憶ユニット。RNNより長期のデータの特徴を学習できる。\n",
    "\n",
    "**引数**\n",
    "\n",
    "- units: 正の整数値，出力の次元数．\n",
    "- activation: 活性化関数．  Noneを渡すと活性化関数は適用されない (例．\"linear\" activation: a(x) = x)．\n",
    "- recurrent_activation: 再帰計算時に使う活性化関数．  Noneを渡すと活性化関数は適用されない (例．\"linear\" activation: a(x) = x)．\n",
    "- use_bias: 真理値，biasベクトルを使うかどうか．\n",
    "- kernel_initializer: 入力の線形変換に使われるkernelの重み行列のためのInitializer．\n",
    "- recurrent_initializer: 再帰の線形変換に使われるrecurrent_kernelの重み行列のInitializer．\n",
    "- bias_initializer: biasベクトルのInitializer．\n",
    "- unit_forget_bias: 真理値．Trueなら，初期化時に忘却ゲートのbiasに1加算．また，trueの場合は強制的にbias_initializer=\"zeros\"になる.\n",
    "- kernel_regularizer: kernelの重み行列に適用するRegularizer関数．\n",
    "- recurrent_regularizer: recurrent_kernelの重み行列に適用するRegularizer関数．\n",
    "- bias_regularizer: biasベクトルに適用するRegularizer関数．\n",
    "- activity_regularizer: 出力（そのactivation）に適用するRegularizer関数．\n",
    "- kernel_constraint: kernelの重み行列に適用するConstraint関数．\n",
    "- recurrent_constraint: recurrent_kernelの重み行列に適用するConstraint関数．\n",
    "- bias_constraint: biasベクトルに適用するConstraint関数．\n",
    "- dropout: 0から1の間の浮動小数点数．入力の線形変換においてdropするユニットの割合．\n",
    "- recurrent_dropout: 0から1の間の浮動小数点数．再帰の線形変換においてdropするユニットの割合．\n",
    "- implementation: 実装モードで，1か2．モード1は小さなドット積や加算処理を多数行う構造である一方，モード2は少数の大きな操作をバッチ処理する． これらのモードはハードウェアやアプリケーションによって異なるパフォーマンスプロファイルとなるだろう．\n",
    "- return_sequences: 真理値．出力系列の最後の出力を返すか，完全な系列を返すか．\n",
    "- return_state: 真理値．出力とともに，最後の状態を返すかどうか．\n",
    "- go_backwards: 真理値．Trueなら，入力系列の後ろから処理し，逆順の系列を返す．\n",
    "- stateful: 真理値．Trueなら，バッチ内のインデックスiの各サンプル に対する最後の状態が次のバッチ内のインデックスiのサンプルに対する初期状態として使われる．\n",
    "- unroll: 真理値．Trueなら，ネットワークは展開され， そうでなければシンボリックループが使われる． 展開はよりメモリ集中傾向になるが，RNNをスピードアップできる． 展開は短い系列にのみ適している．\n"
   ]
  },
  {
   "cell_type": "markdown",
   "metadata": {
    "colab_type": "text",
    "id": "Anwj4EcYbhIv"
   },
   "source": [
    "### ConvLSTM2D\n",
    "\n",
    "LSTMの入力の変換とリカレントの変換が畳み込みになったもの。\n",
    "\n",
    "**引数**\n",
    "\n",
    "- filters: 整数，出力空間の次元（つまり畳み込みにおける出力フィルタの数）．\n",
    "- kernel_size: 整数かn個の整数からなるタプル/リストで，n次元の畳み込みウィンドウを指定する．\n",
    "- strides: 整数かn個の整数からなるタプル/リストで，畳み込みのストライドをそれぞれ指定できる．\n",
    "- padding: \"valid\"か\"same\"のどちらかを指定する．\n",
    "- data_format: 文字列，channels_lastかchannels_firstのどちらかを指定する． これは入力における次元の順序である．  \"channels_last\"の場合，入力のshapeは(batch, time, ..., channels)となり，\"channels_first\"の場合は(batch, time, channels, ...)となる． \n",
    "- dilation_rate: 整数かn個の整数からなるタプル/リストで，dilated convolutionで使われる膨張率を指定する．\n",
    "- activation: 使用する活性化関数の名前， 何も指定しなければ，活性化は一切適用されない（つまり\"線形\"活性a(x) = x）．\n",
    "- recurrent_activation: recurrentステップで適用される活性化関数．\n",
    "- use_bias: 真理値，レイヤーがバイアスベクトルを使うかどうか．\n",
    "- kernel_initializer: kernelの重み行列の初期値を指定する．入力の線形変換に使われる．\n",
    "- recurrent_initializer: recurrent_kernelの重み行列の初期値を指定する． recurrent stateの線形変換に使われます．\n",
    "- bias_initializer: バイアスベクトルの初期値を指定する．\n",
    "- unit_forget_bias: 真理値．Trueなら，初期化時に忘却ゲートのバイアスに1を加える． bias_initializer=\"zeros\"とともに用いられる． \n",
    "- kernel_regularizer: kernelの重み行列に適用させるRegularizerを指定する．\n",
    "- recurrent_regularizer: recurrent_kernelの重み行列に適用させるRegularizerを指定する．\n",
    "- bias_regularizer: バイアスベクトルに適用させるRegularizerを指定する．\n",
    "- activity_regularizer: 出力テンソルに適用させるRegularizerを指定する．\n",
    "- kernel_constraint: kernelの重み行列に適用させるConstraintを指定する．\n",
    "- recurrent_constraint: recurrent_kernelの重み行列に適用させるConstraintを指定する．\n",
    "- bias_constraint: バイアスベクトルに適用させるConstraintを指定する．\n",
    "- return_sequences: 真理値．出力系列の最後の出力を返すか，完全な系列を返すか．\n",
    "- go_backwards: 真理値．Trueなら，入力系列の後ろから処理し，逆順の系列を返す．\n",
    "- stateful: 真理値．Trueなら，バッチ内のインデックスiの各サンプル に対する最後の状態が次のバッチ内のインデックスiのサンプルに対する初期状態として使われる．\n",
    "- dropout: 0から1の間の浮動小数点数．入力の線形変換においてdropするユニットの割合．\n",
    "- recurrent_dropout: 0から1の間の浮動小数点数．再帰の線形変換においてdropするユニットの割合．\n",
    "\n",
    "**Input shape**\n",
    "\n",
    "- data_format='channels_first'の場合は次の5次元shape：(samples,time, channels, rows, cols)\n",
    "- data_format='channels_last'の場合は次の5次元shape：(samples,time, rows, cols, channels)\n",
    "\n",
    "**Output shape**\n",
    "\n",
    "- return_sequencesの場合\n",
    "    - data_format='channels_first'なら次の５次元shape： (samples, time, filters, output_row, output_col)\n",
    "    - data_format='channels_last'なら次の5次元shape： (samples, time, output_row, output_col, filters)\n",
    "- それ以外の場合\n",
    "    - data_format='channels_first'なら次の4次元shape： (samples, filters, output_row, output_col)\n",
    "    - data_format='channels_last'なら次の4次元shape： (samples, output_row, output_col, filters) o_rowsとo_colsはフィルタのshapeやパディングに依存する．"
   ]
  },
  {
   "cell_type": "markdown",
   "metadata": {
    "colab_type": "text",
    "id": "0o08E7XdbhIw"
   },
   "source": [
    "### SimpleRNNCell\n",
    "\n",
    "SimpleRNNのCellクラス。RNN()の引数に入れる。\n",
    "\n",
    "**引数**\n",
    "\n",
    "- units: 正の整数値，出力の次元数．\n",
    "- activation: 活性化関数．  Noneを渡すと活性化関数は適用されない（つまり\"線形\"活性: a(x) = x）．\n",
    "- use_bias: 真理値，レイヤーがバイアスベクトルを使うかどうか．\n",
    "- kernel_initializer: 入力の線形変換に使われるkernelの重み行列のためのInitializer．\n",
    "- recurrent_initializer: 再帰の線形変換に使われるrecurrent_kernelの重み行列のInitializer．\n",
    "- bias_initializer: バイアスベクトルのInitializer．\n",
    "- kernel_regularizer: kernelの重み行列に適用するRegularizer関数．\n",
    "- recurrent_regularizer: recurrent_kernelの重み行列に適用するRegularizer関数．\n",
    "- bias_regularizer: biasベクトルに適用するRegularizer関数．\n",
    "- kernel_constraint: kernelの重み行列に適用するConstraint関数．\n",
    "- recurrent_constraint: recurrent_kernelの重み行列に適用するConstraint関数．\n",
    "- bias_constraint: biasベクトルに適用するConstraint関数．\n",
    "- dropout: 0から1の間の浮動小数点数．入力の線形変換においてdropするユニットの割合．\n",
    "- recurrent_dropout: 0から1の間の浮動小数点数．再帰の線形変換においてdropするユニットの割合．"
   ]
  },
  {
   "cell_type": "markdown",
   "metadata": {
    "colab_type": "text",
    "id": "6Q2ZrmJJbhIy"
   },
   "source": [
    "### GRUCell\n",
    "\n",
    "GRUレイヤーのためのCellクラス。RNN ()の引数に入れる。\n",
    "\n",
    "**引数**\n",
    "\n",
    "- units: 正の整数値，出力の次元数．\n",
    "- activation: 活性化関数．  Noneを渡すと活性化関数は適用されない（つまり\"線形\"活性: a(x) = x）．\n",
    "- recurrent_activation: 再帰計算時に使う活性化関数．\n",
    "- use_bias: 真理値，レイヤーがバイアスベクトルを使うかどうか．\n",
    "- kernel_initializer: 入力の線形変換に使われるkernelの重み行列のためのInitializer．\n",
    "- recurrent_initializer: 再帰の線形変換に使われるrecurrent_kernelの重み行列のInitializer．\n",
    "- bias_initializer: biasベクトルのInitializer．\n",
    "- kernel_regularizer: kernelの重み行列に適用するRegularizer関数．\n",
    "- recurrent_regularizer: recurrent_kernelの重み行列に適用するRegularizer関数．\n",
    "- bias_regularizer: biasベクトルに適用するRegularizer関数．\n",
    "- kernel_constraint: kernelの重み行列に適用するConstraint関数．\n",
    "- recurrent_constraint: recurrent_kernelの重み行列に適用するConstraint関数．\n",
    "- bias_constraint: biasベクトルに適用するConstraint関数．\n",
    "- dropout: 0から1の間の浮動小数点数．入力の線形変換においてdropするユニットの割合．\n",
    "- recurrent_dropout: 0から1の間の浮動小数点数．再帰の線形変換においてdropするユニットの割合．\n",
    "- implementation: 実装モードで，1か2．モード1は小さなドット積や加算処理を多数行う構造である一方，モード2は少数の大きな操作をバッチ処理する． これらのモードはハードウェアやアプリケーションによって異なるパフォーマンスプロファイルとなるだろう．\n",
    "- reset_after: GRUの慣習（行列の乗算の前後のどちらでリセットゲートの適用を行うか）．False = \"before\" (デフォルト), True = \"after\" (CuDNN互換)."
   ]
  },
  {
   "cell_type": "markdown",
   "metadata": {
    "colab_type": "text",
    "id": "q0zJvcoqbhIz"
   },
   "source": [
    "### LSTMCell\n",
    "\n",
    "LSTMレイヤーのためのcellクラス。RNN ()の引数に入れる。\n",
    "\n",
    "**引数**\n",
    "\n",
    "- units: 正の整数値，出力の次元数．\n",
    "- activation: 活性化関数．Noneを渡すと活性化関数は適用されない（つまり\"線形\"活性: a(x) = x）．\n",
    "- use_bias: 真理値，biasベクトルを使うかどうか．\n",
    "- kernel_initializer: 入力の線形変換に使われるkernelの重み行列のためのInitializer．\n",
    "- recurrent_initializer: 再帰の線形変換に使われるrecurrent_kernelの重み行列のInitializer．\n",
    "- bias_initializer: biasベクトルのInitializer．\n",
    "- unit_forget_bias: 真理値．Trueなら，初期化時に忘却ゲートのバイアスに1を加える． bias_initializer=\"zeros\"とともに用いられる.\n",
    "- kernel_regularizer: kernelの重み行列に適用するRegularizer関数．\n",
    "- recurrent_regularizer: recurrent_kernelの重み行列に適用するRegularizer関数．\n",
    "- bias_regularizer: biasベクトルに適用するRegularizer関数．\n",
    "- kernel_constraint: kernelの重み行列に適用するConstraint関数．\n",
    "- recurrent_constraint: recurrent_kernelの重み行列に適用するConstraint関数．\n",
    "- bias_constraint: biasベクトルに適用するConstraint関数．\n",
    "- dropout: 0から1の間の浮動小数点数．入力の線形変換においてdropするユニットの割合．\n",
    "- recurrent_dropout: 0から1の間の浮動小数点数．再帰の線形変換においてdropするユニットの割合．\n",
    "- implementation: 実装モードで，1か2．モード1は小さなドット積や加算処理を多数行う構造である一方，モード2は少数の大きな操作をバッチ処理する． これらのモードはハードウェアやアプリケーションによって異なるパフォーマンスプロファイルとなるだろう．"
   ]
  },
  {
   "cell_type": "markdown",
   "metadata": {
    "colab_type": "text",
    "id": "NNO8A4s5bhI0"
   },
   "source": [
    "### StackedRNNCells\n",
    "\n",
    "RNN cellのスタックの振る舞いを単一のcellのようにするためのラッパー。効率的なstacked RNNを実装するために使われる。RNN()の引数にStackedRNNCells()を入れ、StackedRNNCells()の引数にcellのリストを入れる。\n",
    "\n",
    "**引数**\n",
    "\n",
    "cells: RNN cellインスタンスのリスト．"
   ]
  },
  {
   "cell_type": "markdown",
   "metadata": {
    "colab_type": "text",
    "id": "exOB5x58bhI1"
   },
   "source": [
    "### CuDNNGRU\n",
    "\n",
    "CuDNNを用いて、GRUを高速化している。TensorFlowバックエンドでGPU上でのみ動作する。\n",
    "\n",
    "**引数**\n",
    "\n",
    "- units: 正の整数値，出力の次元数．\n",
    "- kernel_initializer: 入力の線形変換に使われるkernelの重み行列のためのInitializer．\n",
    "- recurrent_initializer: 再帰の線形変換に使われるrecurrent_kernelの重み行列のInitializer．\n",
    "- bias_initializer: biasベクトルのInitializer．\n",
    "- kernel_regularizer: kernelの重み行列に適用するRegularizer関数．\n",
    "- recurrent_regularizer: recurrent_kernelの重み行列に適用するRegularizer関数．\n",
    "- bias_regularizer: biasベクトルに適用するRegularizer関数．\n",
    "- activity_regularizer: 出力 (そのactivation) に適用するRegularizer関数．\n",
    "- kernel_constraint: kernelの重み行列に適用するConstraint関数．\n",
    "- recurrent_constraint: recurrent_kernelの重み行列に適用するConstraint関数．\n",
    "- bias_constraint: biasベクトルに適用するConstraint関数．\n",
    "- return_sequences: 真理値．出力系列の最後の出力を返すか，完全な系列を返すか．\n",
    "- return_state: 真理値．出力とともに，最後の状態を返すかどうか．\n",
    "- stateful: 真理値．Trueなら，バッチ内のインデックスiの各サンプルに対する最後の状態が次のバッチ内のインデックスiのサンプルに対する初期状態として使われる．"
   ]
  },
  {
   "cell_type": "markdown",
   "metadata": {
    "colab_type": "text",
    "id": "CDFTHV9_bhI2"
   },
   "source": [
    "### CuDNNLSTM\n",
    "\n",
    "CuDNNを用いて、LSTMを高速化している。TensorFlowバックエンドでGPU上でのみ動作する。\n",
    "\n",
    "**引数**\n",
    "\n",
    "- units: 正の整数値，出力の次元数．\n",
    "- kernel_initializer: 入力の線形変換に使われるkernelの重み行列のためのInitializer．\n",
    "- unit_forget_bias: 真理値．Trueなら，初期化時に忘却ゲートのバイアスに1を加える． bias_initializer=\"zeros\"とともに用いられる．\n",
    "- recurrent_initializer: 再帰の線形変換に使われるrecurrent_kernelの重み行列のInitializer．\n",
    "- bias_initializer: biasベクトルのInitializer．\n",
    "- kernel_regularizer: kernelの重み行列に適用するRegularizer関数．\n",
    "- recurrent_regularizer: recurrent_kernelの重み行列に適用するRegularizer関数．\n",
    "- bias_regularizer: biasベクトルに適用するRegularizer関数．\n",
    "- activity_regularizer: 出力 (そのactivation) に適用するRegularizer関数．\n",
    "- kernel_constraint: kernelの重み行列に適用するConstraint関数．\n",
    "- recurrent_constraint: recurrent_kernelの重み行列に適用するConstraint関数．\n",
    "- bias_constraint: biasベクトルに適用するConstraint関数．\n",
    "- return_sequences: 真理値．出力系列の最後の出力を返すか，完全な系列を返すか．\n",
    "- return_state: 真理値．出力とともに，最後の状態を返すかどうか．\n",
    "- stateful: 真理値．Trueなら，バッチ内のインデックスiの各サンプルに対する最後の状態が次のバッチ内のインデックスiのサンプルに対する初期状態として使われる．\n"
   ]
  },
  {
   "cell_type": "markdown",
   "metadata": {
    "colab_type": "text",
    "id": "R05Ph1EPbhI8"
   },
   "source": [
    "## 【問題3】（アドバンス課題）複数のデータセット間での比較\n",
    "\n",
    "単一のデータセットでの実験に留めず、他のデータセットでも実験してみます。\n",
    "\n",
    "[データセット - Keras Documentation](https://keras.io/ja/datasets/#_5)\n",
    "\n",
    "Kerasで簡単に利用できる自然言語データセットとしてロイターのニュースワイヤー トピックス分類があります。IMDBは2値分類であったが、こちらは46値分類の問題です。"
   ]
  }
 ],
 "metadata": {
  "accelerator": "GPU",
  "colab": {
   "collapsed_sections": [
    "09bky_LNbhIq",
    "qres033AbhIr",
    "X3b-2a6PbhIs",
    "BapjdZP0bhIs",
    "Anwj4EcYbhIv",
    "0o08E7XdbhIw",
    "6Q2ZrmJJbhIy",
    "q0zJvcoqbhIz",
    "NNO8A4s5bhI0",
    "exOB5x58bhI1",
    "CDFTHV9_bhI2"
   ],
   "name": "sprint24_lstm.ipynb",
   "provenance": [],
   "version": "0.3.2"
  },
  "kernelspec": {
   "display_name": "Python 3",
   "language": "python",
   "name": "python3"
  },
  "language_info": {
   "codemirror_mode": {
    "name": "ipython",
    "version": 3
   },
   "file_extension": ".py",
   "mimetype": "text/x-python",
   "name": "python",
   "nbconvert_exporter": "python",
   "pygments_lexer": "ipython3",
   "version": "3.7.2"
  },
  "varInspector": {
   "cols": {
    "lenName": 16,
    "lenType": 16,
    "lenVar": 40
   },
   "kernels_config": {
    "python": {
     "delete_cmd_postfix": "",
     "delete_cmd_prefix": "del ",
     "library": "var_list.py",
     "varRefreshCmd": "print(var_dic_list())"
    },
    "r": {
     "delete_cmd_postfix": ") ",
     "delete_cmd_prefix": "rm(",
     "library": "var_list.r",
     "varRefreshCmd": "cat(var_dic_list()) "
    }
   },
   "types_to_exclude": [
    "module",
    "function",
    "builtin_function_or_method",
    "instance",
    "_Feature"
   ],
   "window_display": false
  }
 },
 "nbformat": 4,
 "nbformat_minor": 1
}
