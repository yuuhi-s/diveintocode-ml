{
 "cells": [
  {
   "cell_type": "markdown",
   "metadata": {},
   "source": [
    "# Sprint10課題 深層学習スクラッチニューラルネットワーク"
   ]
  },
  {
   "cell_type": "markdown",
   "metadata": {},
   "source": [
    "## この課題の目的\n",
    "\n",
    "- スクラッチを通してニューラルネットワークの基礎を理解する\n",
    "- 画像データの簡単な扱い方を知る"
   ]
  },
  {
   "cell_type": "markdown",
   "metadata": {},
   "source": [
    "## スクラッチによる実装\n",
    "\n",
    "NumPyなど最低限のライブラリのみを使いアルゴリズムを実装していきます。\n",
    "\n",
    "今回は多クラス分類を行う3層のニューラルネットワークを作成します。層の数などは固定した上でニューラルネットワークの基本を確認しましょう。次のSprintで層を自由に変えられる設計にしていきます。"
   ]
  },
  {
   "cell_type": "markdown",
   "metadata": {},
   "source": [
    "### データセットの用意\n",
    "\n",
    "MNISTデータセットを使用します。以下のコードを実行すればKerasによりデータセットをダウンロードし、展開まで行えます。\n",
    "\n",
    "MNISTとは？\n",
    "\n",
    "画像分類のための定番データセットで、手書き数字認識を行います。このデータセットには学習用6万枚、テスト用1万枚の28×28ピクセルの白黒画像、およびそれらが0〜9のどの数字であるかが含まれています。\n",
    "\n",
    "画像データとは？\n",
    "\n",
    "デジタル画像は点の集合で、これをピクセルと呼びます。一般的に白黒画像であればピクセルには0〜255の値が含まれます。一方、カラー画像であればR（赤）、G（緑）、B（青）それぞれに対応する0〜255の値が含まれます。機械学習をする上では、この0〜255の値一つひとつが特徴量として扱われます。0〜255は符号なしの8ビット整数で表せる範囲になるため、NumPyであれば「uint8」型の変数として保持できます。"
   ]
  },
  {
   "cell_type": "code",
   "execution_count": 1,
   "metadata": {},
   "outputs": [
    {
     "name": "stderr",
     "output_type": "stream",
     "text": [
      "Using TensorFlow backend.\n"
     ]
    }
   ],
   "source": [
    "from keras.datasets import mnist\n",
    "import matplotlib.pyplot as plt\n",
    "%matplotlib inline\n",
    "import numpy as np\n",
    "from sklearn.preprocessing import OneHotEncoder\n",
    "from sklearn.model_selection import train_test_split\n",
    "from sklearn.metrics import accuracy_score, precision_score, recall_score, f1_score"
   ]
  },
  {
   "cell_type": "code",
   "execution_count": 2,
   "metadata": {},
   "outputs": [],
   "source": [
    "(X_train, y_train), (X_test, y_test) = mnist.load_data()"
   ]
  },
  {
   "cell_type": "markdown",
   "metadata": {},
   "source": [
    "### データセットの確認\n",
    "\n",
    "まず、どういったデータなのかを見てみます。\n",
    "\n",
    "各データは28×28ピクセルの白黒画像です。"
   ]
  },
  {
   "cell_type": "code",
   "execution_count": 3,
   "metadata": {},
   "outputs": [
    {
     "name": "stdout",
     "output_type": "stream",
     "text": [
      "(60000, 28, 28)\n",
      "(10000, 28, 28)\n",
      "uint8\n",
      "[[  0   0   0   0   0   0   0   0   0   0   0   0   0   0   0   0   0   0\n",
      "    0   0   0   0   0   0   0   0   0   0]\n",
      " [  0   0   0   0   0   0   0   0   0   0   0   0   0   0   0   0   0   0\n",
      "    0   0   0   0   0   0   0   0   0   0]\n",
      " [  0   0   0   0   0   0   0   0   0   0   0   0   0   0   0   0   0   0\n",
      "    0   0   0   0   0   0   0   0   0   0]\n",
      " [  0   0   0   0   0   0   0   0   0   0   0   0   0   0   0   0   0   0\n",
      "    0   0   0   0   0   0   0   0   0   0]\n",
      " [  0   0   0   0   0   0   0   0   0   0   0   0   0   0   0   0   0   0\n",
      "    0   0   0   0   0   0   0   0   0   0]\n",
      " [  0   0   0   0   0   0   0   0   0   0   0   0   3  18  18  18 126 136\n",
      "  175  26 166 255 247 127   0   0   0   0]\n",
      " [  0   0   0   0   0   0   0   0  30  36  94 154 170 253 253 253 253 253\n",
      "  225 172 253 242 195  64   0   0   0   0]\n",
      " [  0   0   0   0   0   0   0  49 238 253 253 253 253 253 253 253 253 251\n",
      "   93  82  82  56  39   0   0   0   0   0]\n",
      " [  0   0   0   0   0   0   0  18 219 253 253 253 253 253 198 182 247 241\n",
      "    0   0   0   0   0   0   0   0   0   0]\n",
      " [  0   0   0   0   0   0   0   0  80 156 107 253 253 205  11   0  43 154\n",
      "    0   0   0   0   0   0   0   0   0   0]\n",
      " [  0   0   0   0   0   0   0   0   0  14   1 154 253  90   0   0   0   0\n",
      "    0   0   0   0   0   0   0   0   0   0]\n",
      " [  0   0   0   0   0   0   0   0   0   0   0 139 253 190   2   0   0   0\n",
      "    0   0   0   0   0   0   0   0   0   0]\n",
      " [  0   0   0   0   0   0   0   0   0   0   0  11 190 253  70   0   0   0\n",
      "    0   0   0   0   0   0   0   0   0   0]\n",
      " [  0   0   0   0   0   0   0   0   0   0   0   0  35 241 225 160 108   1\n",
      "    0   0   0   0   0   0   0   0   0   0]\n",
      " [  0   0   0   0   0   0   0   0   0   0   0   0   0  81 240 253 253 119\n",
      "   25   0   0   0   0   0   0   0   0   0]\n",
      " [  0   0   0   0   0   0   0   0   0   0   0   0   0   0  45 186 253 253\n",
      "  150  27   0   0   0   0   0   0   0   0]\n",
      " [  0   0   0   0   0   0   0   0   0   0   0   0   0   0   0  16  93 252\n",
      "  253 187   0   0   0   0   0   0   0   0]\n",
      " [  0   0   0   0   0   0   0   0   0   0   0   0   0   0   0   0   0 249\n",
      "  253 249  64   0   0   0   0   0   0   0]\n",
      " [  0   0   0   0   0   0   0   0   0   0   0   0   0   0  46 130 183 253\n",
      "  253 207   2   0   0   0   0   0   0   0]\n",
      " [  0   0   0   0   0   0   0   0   0   0   0   0  39 148 229 253 253 253\n",
      "  250 182   0   0   0   0   0   0   0   0]\n",
      " [  0   0   0   0   0   0   0   0   0   0  24 114 221 253 253 253 253 201\n",
      "   78   0   0   0   0   0   0   0   0   0]\n",
      " [  0   0   0   0   0   0   0   0  23  66 213 253 253 253 253 198  81   2\n",
      "    0   0   0   0   0   0   0   0   0   0]\n",
      " [  0   0   0   0   0   0  18 171 219 253 253 253 253 195  80   9   0   0\n",
      "    0   0   0   0   0   0   0   0   0   0]\n",
      " [  0   0   0   0  55 172 226 253 253 253 253 244 133  11   0   0   0   0\n",
      "    0   0   0   0   0   0   0   0   0   0]\n",
      " [  0   0   0   0 136 253 253 253 212 135 132  16   0   0   0   0   0   0\n",
      "    0   0   0   0   0   0   0   0   0   0]\n",
      " [  0   0   0   0   0   0   0   0   0   0   0   0   0   0   0   0   0   0\n",
      "    0   0   0   0   0   0   0   0   0   0]\n",
      " [  0   0   0   0   0   0   0   0   0   0   0   0   0   0   0   0   0   0\n",
      "    0   0   0   0   0   0   0   0   0   0]\n",
      " [  0   0   0   0   0   0   0   0   0   0   0   0   0   0   0   0   0   0\n",
      "    0   0   0   0   0   0   0   0   0   0]]\n"
     ]
    }
   ],
   "source": [
    "print(X_train.shape) # (60000, 28, 28)\n",
    "print(X_test.shape) # (10000, 28, 28)\n",
    "print(X_train[0].dtype) # uint8\n",
    "print(X_train[0])"
   ]
  },
  {
   "cell_type": "markdown",
   "metadata": {},
   "source": [
    "## 平滑化\n",
    "\n",
    "(1, 28, 28)の各画像を、(1, 784)に変換します。これまで学んできた機械学習手法や、今回扱う全結合層のみのニューラルネットワークではこの形で扱います。全てのピクセルが一列になっていることを、平滑化（flatten）してあるという風に表現します。\n",
    "\n",
    "補足\n",
    "\n",
    "ここまで機械学習を学んでくる中で、特徴量の数を「次元」と呼んできました。その視点ではMNISTは784次元のデータです。一方で、NumPyのshapeが(784,)の状態を1次元配列とも呼びます。画像としての縦横の情報を持つ（28, 28)の状態であれば、2次元配列です。この視点では2次元のデータです。さらに、もしもカラー画像であれば(28, 28, 3)ということになり、3次元配列です。先ほどの視点では3次元のデータになります。しかし、白黒でもカラーでも平面画像であり、立体データではないという視点で、2次元のデータです。画像データを扱う際にはこのように「次元」という言葉が複数の意味合いで使われることに注意してください。"
   ]
  },
  {
   "cell_type": "code",
   "execution_count": 4,
   "metadata": {},
   "outputs": [],
   "source": [
    "X_train = X_train.reshape(-1, 784)\n",
    "X_test = X_test.reshape(-1, 784)"
   ]
  },
  {
   "cell_type": "markdown",
   "metadata": {},
   "source": [
    "### 画像データの可視化\n",
    "\n",
    "画像データを可視化します。plt.imshowに渡します。\n",
    "\n",
    "[numpy.reshape — NumPy v1.15 Manual](https://docs.scipy.org/doc/numpy-1.15.1/reference/generated/numpy.reshape.html)\n",
    "\n",
    "[matplotlib.pyplot.imshow — Matplotlib 3.0.2 documentation](https://matplotlib.org/api/_as_gen/matplotlib.pyplot.imshow.html)"
   ]
  },
  {
   "cell_type": "code",
   "execution_count": 5,
   "metadata": {},
   "outputs": [
    {
     "data": {
      "image/png": "[encoded data removed]",
      "text/plain": [
       "<Figure size 432x288 with 1 Axes>"
      ]
     },
     "metadata": {
      "needs_background": "light"
     },
     "output_type": "display_data"
    }
   ],
   "source": [
    "index = 0\n",
    "image = X_train[index].reshape(28,28)\n",
    "# X_train[index]: (784,)\n",
    "# image: (28, 28)\n",
    "plt.imshow(image, 'gray')\n",
    "plt.title('label : {}'.format(y_train[index]))\n",
    "plt.show()"
   ]
  },
  {
   "cell_type": "markdown",
   "metadata": {},
   "source": [
    "発展的話題\n",
    "\n",
    "画像データは符号なし8ビット整数のuint8型で保持されることが一般的ですが、plt.imshowはより自由な配列を画像として表示することが可能です。例えば、以下のようにマイナスの値を持ったfloat64型の浮動小数点であってもエラーにはならないし、先ほどと全く同じ風に表示されます。"
   ]
  },
  {
   "cell_type": "code",
   "execution_count": 6,
   "metadata": {
    "scrolled": false
   },
   "outputs": [
    {
     "data": {
      "image/png": "[encoded data removed]",
      "text/plain": [
       "<Figure size 432x288 with 1 Axes>"
      ]
     },
     "metadata": {
      "needs_background": "light"
     },
     "output_type": "display_data"
    },
    {
     "name": "stdout",
     "output_type": "stream",
     "text": [
      "[[-105.35 -105.35 -105.35 -105.35 -105.35 -105.35 -105.35 -105.35 -105.35\n",
      "  -105.35 -105.35 -105.35 -105.35 -105.35 -105.35 -105.35 -105.35 -105.35\n",
      "  -105.35 -105.35 -105.35 -105.35 -105.35 -105.35 -105.35 -105.35 -105.35\n",
      "  -105.35]\n",
      " [-105.35 -105.35 -105.35 -105.35 -105.35 -105.35 -105.35 -105.35 -105.35\n",
      "  -105.35 -105.35 -105.35 -105.35 -105.35 -105.35 -105.35 -105.35 -105.35\n",
      "  -105.35 -105.35 -105.35 -105.35 -105.35 -105.35 -105.35 -105.35 -105.35\n",
      "  -105.35]\n",
      " [-105.35 -105.35 -105.35 -105.35 -105.35 -105.35 -105.35 -105.35 -105.35\n",
      "  -105.35 -105.35 -105.35 -105.35 -105.35 -105.35 -105.35 -105.35 -105.35\n",
      "  -105.35 -105.35 -105.35 -105.35 -105.35 -105.35 -105.35 -105.35 -105.35\n",
      "  -105.35]\n",
      " [-105.35 -105.35 -105.35 -105.35 -105.35 -105.35 -105.35 -105.35 -105.35\n",
      "  -105.35 -105.35 -105.35 -105.35 -105.35 -105.35 -105.35 -105.35 -105.35\n",
      "  -105.35 -105.35 -105.35 -105.35 -105.35 -105.35 -105.35 -105.35 -105.35\n",
      "  -105.35]\n",
      " [-105.35 -105.35 -105.35 -105.35 -105.35 -105.35 -105.35 -105.35 -105.35\n",
      "  -105.35 -105.35 -105.35 -105.35 -105.35 -105.35 -105.35 -105.35 -105.35\n",
      "  -105.35 -105.35 -105.35 -105.35 -105.35 -105.35 -105.35 -105.35 -105.35\n",
      "  -105.35]\n",
      " [-105.35 -105.35 -105.35 -105.35 -105.35 -105.35 -105.35 -105.35 -105.35\n",
      "  -105.35 -105.35 -105.35 -102.35  -87.35  -87.35  -87.35   20.65   30.65\n",
      "    69.65  -79.35   60.65  149.65  141.65   21.65 -105.35 -105.35 -105.35\n",
      "  -105.35]\n",
      " [-105.35 -105.35 -105.35 -105.35 -105.35 -105.35 -105.35 -105.35  -75.35\n",
      "   -69.35  -11.35   48.65   64.65  147.65  147.65  147.65  147.65  147.65\n",
      "   119.65   66.65  147.65  136.65   89.65  -41.35 -105.35 -105.35 -105.35\n",
      "  -105.35]\n",
      " [-105.35 -105.35 -105.35 -105.35 -105.35 -105.35 -105.35  -56.35  132.65\n",
      "   147.65  147.65  147.65  147.65  147.65  147.65  147.65  147.65  145.65\n",
      "   -12.35  -23.35  -23.35  -49.35  -66.35 -105.35 -105.35 -105.35 -105.35\n",
      "  -105.35]\n",
      " [-105.35 -105.35 -105.35 -105.35 -105.35 -105.35 -105.35  -87.35  113.65\n",
      "   147.65  147.65  147.65  147.65  147.65   92.65   76.65  141.65  135.65\n",
      "  -105.35 -105.35 -105.35 -105.35 -105.35 -105.35 -105.35 -105.35 -105.35\n",
      "  -105.35]\n",
      " [-105.35 -105.35 -105.35 -105.35 -105.35 -105.35 -105.35 -105.35  -25.35\n",
      "    50.65    1.65  147.65  147.65   99.65  -94.35 -105.35  -62.35   48.65\n",
      "  -105.35 -105.35 -105.35 -105.35 -105.35 -105.35 -105.35 -105.35 -105.35\n",
      "  -105.35]\n",
      " [-105.35 -105.35 -105.35 -105.35 -105.35 -105.35 -105.35 -105.35 -105.35\n",
      "   -91.35 -104.35   48.65  147.65  -15.35 -105.35 -105.35 -105.35 -105.35\n",
      "  -105.35 -105.35 -105.35 -105.35 -105.35 -105.35 -105.35 -105.35 -105.35\n",
      "  -105.35]\n",
      " [-105.35 -105.35 -105.35 -105.35 -105.35 -105.35 -105.35 -105.35 -105.35\n",
      "  -105.35 -105.35   33.65  147.65   84.65 -103.35 -105.35 -105.35 -105.35\n",
      "  -105.35 -105.35 -105.35 -105.35 -105.35 -105.35 -105.35 -105.35 -105.35\n",
      "  -105.35]\n",
      " [-105.35 -105.35 -105.35 -105.35 -105.35 -105.35 -105.35 -105.35 -105.35\n",
      "  -105.35 -105.35  -94.35   84.65  147.65  -35.35 -105.35 -105.35 -105.35\n",
      "  -105.35 -105.35 -105.35 -105.35 -105.35 -105.35 -105.35 -105.35 -105.35\n",
      "  -105.35]\n",
      " [-105.35 -105.35 -105.35 -105.35 -105.35 -105.35 -105.35 -105.35 -105.35\n",
      "  -105.35 -105.35 -105.35  -70.35  135.65  119.65   54.65    2.65 -104.35\n",
      "  -105.35 -105.35 -105.35 -105.35 -105.35 -105.35 -105.35 -105.35 -105.35\n",
      "  -105.35]\n",
      " [-105.35 -105.35 -105.35 -105.35 -105.35 -105.35 -105.35 -105.35 -105.35\n",
      "  -105.35 -105.35 -105.35 -105.35  -24.35  134.65  147.65  147.65   13.65\n",
      "   -80.35 -105.35 -105.35 -105.35 -105.35 -105.35 -105.35 -105.35 -105.35\n",
      "  -105.35]\n",
      " [-105.35 -105.35 -105.35 -105.35 -105.35 -105.35 -105.35 -105.35 -105.35\n",
      "  -105.35 -105.35 -105.35 -105.35 -105.35  -60.35   80.65  147.65  147.65\n",
      "    44.65  -78.35 -105.35 -105.35 -105.35 -105.35 -105.35 -105.35 -105.35\n",
      "  -105.35]\n",
      " [-105.35 -105.35 -105.35 -105.35 -105.35 -105.35 -105.35 -105.35 -105.35\n",
      "  -105.35 -105.35 -105.35 -105.35 -105.35 -105.35  -89.35  -12.35  146.65\n",
      "   147.65   81.65 -105.35 -105.35 -105.35 -105.35 -105.35 -105.35 -105.35\n",
      "  -105.35]\n",
      " [-105.35 -105.35 -105.35 -105.35 -105.35 -105.35 -105.35 -105.35 -105.35\n",
      "  -105.35 -105.35 -105.35 -105.35 -105.35 -105.35 -105.35 -105.35  143.65\n",
      "   147.65  143.65  -41.35 -105.35 -105.35 -105.35 -105.35 -105.35 -105.35\n",
      "  -105.35]\n",
      " [-105.35 -105.35 -105.35 -105.35 -105.35 -105.35 -105.35 -105.35 -105.35\n",
      "  -105.35 -105.35 -105.35 -105.35 -105.35  -59.35   24.65   77.65  147.65\n",
      "   147.65  101.65 -103.35 -105.35 -105.35 -105.35 -105.35 -105.35 -105.35\n",
      "  -105.35]\n",
      " [-105.35 -105.35 -105.35 -105.35 -105.35 -105.35 -105.35 -105.35 -105.35\n",
      "  -105.35 -105.35 -105.35  -66.35   42.65  123.65  147.65  147.65  147.65\n",
      "   144.65   76.65 -105.35 -105.35 -105.35 -105.35 -105.35 -105.35 -105.35\n",
      "  -105.35]\n",
      " [-105.35 -105.35 -105.35 -105.35 -105.35 -105.35 -105.35 -105.35 -105.35\n",
      "  -105.35  -81.35    8.65  115.65  147.65  147.65  147.65  147.65   95.65\n",
      "   -27.35 -105.35 -105.35 -105.35 -105.35 -105.35 -105.35 -105.35 -105.35\n",
      "  -105.35]\n",
      " [-105.35 -105.35 -105.35 -105.35 -105.35 -105.35 -105.35 -105.35  -82.35\n",
      "   -39.35  107.65  147.65  147.65  147.65  147.65   92.65  -24.35 -103.35\n",
      "  -105.35 -105.35 -105.35 -105.35 -105.35 -105.35 -105.35 -105.35 -105.35\n",
      "  -105.35]\n",
      " [-105.35 -105.35 -105.35 -105.35 -105.35 -105.35  -87.35   65.65  113.65\n",
      "   147.65  147.65  147.65  147.65   89.65  -25.35  -96.35 -105.35 -105.35\n",
      "  -105.35 -105.35 -105.35 -105.35 -105.35 -105.35 -105.35 -105.35 -105.35\n",
      "  -105.35]\n",
      " [-105.35 -105.35 -105.35 -105.35  -50.35   66.65  120.65  147.65  147.65\n",
      "   147.65  147.65  138.65   27.65  -94.35 -105.35 -105.35 -105.35 -105.35\n",
      "  -105.35 -105.35 -105.35 -105.35 -105.35 -105.35 -105.35 -105.35 -105.35\n",
      "  -105.35]\n",
      " [-105.35 -105.35 -105.35 -105.35   30.65  147.65  147.65  147.65  106.65\n",
      "    29.65   26.65  -89.35 -105.35 -105.35 -105.35 -105.35 -105.35 -105.35\n",
      "  -105.35 -105.35 -105.35 -105.35 -105.35 -105.35 -105.35 -105.35 -105.35\n",
      "  -105.35]\n",
      " [-105.35 -105.35 -105.35 -105.35 -105.35 -105.35 -105.35 -105.35 -105.35\n",
      "  -105.35 -105.35 -105.35 -105.35 -105.35 -105.35 -105.35 -105.35 -105.35\n",
      "  -105.35 -105.35 -105.35 -105.35 -105.35 -105.35 -105.35 -105.35 -105.35\n",
      "  -105.35]\n",
      " [-105.35 -105.35 -105.35 -105.35 -105.35 -105.35 -105.35 -105.35 -105.35\n",
      "  -105.35 -105.35 -105.35 -105.35 -105.35 -105.35 -105.35 -105.35 -105.35\n",
      "  -105.35 -105.35 -105.35 -105.35 -105.35 -105.35 -105.35 -105.35 -105.35\n",
      "  -105.35]\n",
      " [-105.35 -105.35 -105.35 -105.35 -105.35 -105.35 -105.35 -105.35 -105.35\n",
      "  -105.35 -105.35 -105.35 -105.35 -105.35 -105.35 -105.35 -105.35 -105.35\n",
      "  -105.35 -105.35 -105.35 -105.35 -105.35 -105.35 -105.35 -105.35 -105.35\n",
      "  -105.35]]\n"
     ]
    }
   ],
   "source": [
    "index = 0\n",
    "image = X_train[index].reshape(28,28)\n",
    "image = image.astype(np.float) # float型に変換\n",
    "image -= 105.35 # 意図的に負の小数値を作り出してみる\n",
    "plt.imshow(image, 'gray')\n",
    "plt.title('label : {}'.format(y_train[index]))\n",
    "plt.show()\n",
    "print(image) # 値を確認"
   ]
  },
  {
   "cell_type": "markdown",
   "metadata": {},
   "source": [
    "これは、自動的に値を0〜255の整数に変換して処理するように作られているからです。uint8型であっても最小値が0、最大値が255でない場合には色合いがおかしくなります。それを防ぐためには次のように引数を入れてください。\n",
    "\n",
    "`\n",
    "plt.imshow(image, 'gray', vmin = 0, vmax = 255)\n",
    "`"
   ]
  },
  {
   "cell_type": "code",
   "execution_count": 7,
   "metadata": {
    "scrolled": false
   },
   "outputs": [
    {
     "data": {
      "image/png": "[encoded data removed]",
      "text/plain": [
       "<Figure size 432x288 with 1 Axes>"
      ]
     },
     "metadata": {
      "needs_background": "light"
     },
     "output_type": "display_data"
    },
    {
     "name": "stdout",
     "output_type": "stream",
     "text": [
      "[[-105.35 -105.35 -105.35 -105.35 -105.35 -105.35 -105.35 -105.35 -105.35\n",
      "  -105.35 -105.35 -105.35 -105.35 -105.35 -105.35 -105.35 -105.35 -105.35\n",
      "  -105.35 -105.35 -105.35 -105.35 -105.35 -105.35 -105.35 -105.35 -105.35\n",
      "  -105.35]\n",
      " [-105.35 -105.35 -105.35 -105.35 -105.35 -105.35 -105.35 -105.35 -105.35\n",
      "  -105.35 -105.35 -105.35 -105.35 -105.35 -105.35 -105.35 -105.35 -105.35\n",
      "  -105.35 -105.35 -105.35 -105.35 -105.35 -105.35 -105.35 -105.35 -105.35\n",
      "  -105.35]\n",
      " [-105.35 -105.35 -105.35 -105.35 -105.35 -105.35 -105.35 -105.35 -105.35\n",
      "  -105.35 -105.35 -105.35 -105.35 -105.35 -105.35 -105.35 -105.35 -105.35\n",
      "  -105.35 -105.35 -105.35 -105.35 -105.35 -105.35 -105.35 -105.35 -105.35\n",
      "  -105.35]\n",
      " [-105.35 -105.35 -105.35 -105.35 -105.35 -105.35 -105.35 -105.35 -105.35\n",
      "  -105.35 -105.35 -105.35 -105.35 -105.35 -105.35 -105.35 -105.35 -105.35\n",
      "  -105.35 -105.35 -105.35 -105.35 -105.35 -105.35 -105.35 -105.35 -105.35\n",
      "  -105.35]\n",
      " [-105.35 -105.35 -105.35 -105.35 -105.35 -105.35 -105.35 -105.35 -105.35\n",
      "  -105.35 -105.35 -105.35 -105.35 -105.35 -105.35 -105.35 -105.35 -105.35\n",
      "  -105.35 -105.35 -105.35 -105.35 -105.35 -105.35 -105.35 -105.35 -105.35\n",
      "  -105.35]\n",
      " [-105.35 -105.35 -105.35 -105.35 -105.35 -105.35 -105.35 -105.35 -105.35\n",
      "  -105.35 -105.35 -105.35 -102.35  -87.35  -87.35  -87.35   20.65   30.65\n",
      "    69.65  -79.35   60.65  149.65  141.65   21.65 -105.35 -105.35 -105.35\n",
      "  -105.35]\n",
      " [-105.35 -105.35 -105.35 -105.35 -105.35 -105.35 -105.35 -105.35  -75.35\n",
      "   -69.35  -11.35   48.65   64.65  147.65  147.65  147.65  147.65  147.65\n",
      "   119.65   66.65  147.65  136.65   89.65  -41.35 -105.35 -105.35 -105.35\n",
      "  -105.35]\n",
      " [-105.35 -105.35 -105.35 -105.35 -105.35 -105.35 -105.35  -56.35  132.65\n",
      "   147.65  147.65  147.65  147.65  147.65  147.65  147.65  147.65  145.65\n",
      "   -12.35  -23.35  -23.35  -49.35  -66.35 -105.35 -105.35 -105.35 -105.35\n",
      "  -105.35]\n",
      " [-105.35 -105.35 -105.35 -105.35 -105.35 -105.35 -105.35  -87.35  113.65\n",
      "   147.65  147.65  147.65  147.65  147.65   92.65   76.65  141.65  135.65\n",
      "  -105.35 -105.35 -105.35 -105.35 -105.35 -105.35 -105.35 -105.35 -105.35\n",
      "  -105.35]\n",
      " [-105.35 -105.35 -105.35 -105.35 -105.35 -105.35 -105.35 -105.35  -25.35\n",
      "    50.65    1.65  147.65  147.65   99.65  -94.35 -105.35  -62.35   48.65\n",
      "  -105.35 -105.35 -105.35 -105.35 -105.35 -105.35 -105.35 -105.35 -105.35\n",
      "  -105.35]\n",
      " [-105.35 -105.35 -105.35 -105.35 -105.35 -105.35 -105.35 -105.35 -105.35\n",
      "   -91.35 -104.35   48.65  147.65  -15.35 -105.35 -105.35 -105.35 -105.35\n",
      "  -105.35 -105.35 -105.35 -105.35 -105.35 -105.35 -105.35 -105.35 -105.35\n",
      "  -105.35]\n",
      " [-105.35 -105.35 -105.35 -105.35 -105.35 -105.35 -105.35 -105.35 -105.35\n",
      "  -105.35 -105.35   33.65  147.65   84.65 -103.35 -105.35 -105.35 -105.35\n",
      "  -105.35 -105.35 -105.35 -105.35 -105.35 -105.35 -105.35 -105.35 -105.35\n",
      "  -105.35]\n",
      " [-105.35 -105.35 -105.35 -105.35 -105.35 -105.35 -105.35 -105.35 -105.35\n",
      "  -105.35 -105.35  -94.35   84.65  147.65  -35.35 -105.35 -105.35 -105.35\n",
      "  -105.35 -105.35 -105.35 -105.35 -105.35 -105.35 -105.35 -105.35 -105.35\n",
      "  -105.35]\n",
      " [-105.35 -105.35 -105.35 -105.35 -105.35 -105.35 -105.35 -105.35 -105.35\n",
      "  -105.35 -105.35 -105.35  -70.35  135.65  119.65   54.65    2.65 -104.35\n",
      "  -105.35 -105.35 -105.35 -105.35 -105.35 -105.35 -105.35 -105.35 -105.35\n",
      "  -105.35]\n",
      " [-105.35 -105.35 -105.35 -105.35 -105.35 -105.35 -105.35 -105.35 -105.35\n",
      "  -105.35 -105.35 -105.35 -105.35  -24.35  134.65  147.65  147.65   13.65\n",
      "   -80.35 -105.35 -105.35 -105.35 -105.35 -105.35 -105.35 -105.35 -105.35\n",
      "  -105.35]\n",
      " [-105.35 -105.35 -105.35 -105.35 -105.35 -105.35 -105.35 -105.35 -105.35\n",
      "  -105.35 -105.35 -105.35 -105.35 -105.35  -60.35   80.65  147.65  147.65\n",
      "    44.65  -78.35 -105.35 -105.35 -105.35 -105.35 -105.35 -105.35 -105.35\n",
      "  -105.35]\n",
      " [-105.35 -105.35 -105.35 -105.35 -105.35 -105.35 -105.35 -105.35 -105.35\n",
      "  -105.35 -105.35 -105.35 -105.35 -105.35 -105.35  -89.35  -12.35  146.65\n",
      "   147.65   81.65 -105.35 -105.35 -105.35 -105.35 -105.35 -105.35 -105.35\n",
      "  -105.35]\n",
      " [-105.35 -105.35 -105.35 -105.35 -105.35 -105.35 -105.35 -105.35 -105.35\n",
      "  -105.35 -105.35 -105.35 -105.35 -105.35 -105.35 -105.35 -105.35  143.65\n",
      "   147.65  143.65  -41.35 -105.35 -105.35 -105.35 -105.35 -105.35 -105.35\n",
      "  -105.35]\n",
      " [-105.35 -105.35 -105.35 -105.35 -105.35 -105.35 -105.35 -105.35 -105.35\n",
      "  -105.35 -105.35 -105.35 -105.35 -105.35  -59.35   24.65   77.65  147.65\n",
      "   147.65  101.65 -103.35 -105.35 -105.35 -105.35 -105.35 -105.35 -105.35\n",
      "  -105.35]\n",
      " [-105.35 -105.35 -105.35 -105.35 -105.35 -105.35 -105.35 -105.35 -105.35\n",
      "  -105.35 -105.35 -105.35  -66.35   42.65  123.65  147.65  147.65  147.65\n",
      "   144.65   76.65 -105.35 -105.35 -105.35 -105.35 -105.35 -105.35 -105.35\n",
      "  -105.35]\n",
      " [-105.35 -105.35 -105.35 -105.35 -105.35 -105.35 -105.35 -105.35 -105.35\n",
      "  -105.35  -81.35    8.65  115.65  147.65  147.65  147.65  147.65   95.65\n",
      "   -27.35 -105.35 -105.35 -105.35 -105.35 -105.35 -105.35 -105.35 -105.35\n",
      "  -105.35]\n",
      " [-105.35 -105.35 -105.35 -105.35 -105.35 -105.35 -105.35 -105.35  -82.35\n",
      "   -39.35  107.65  147.65  147.65  147.65  147.65   92.65  -24.35 -103.35\n",
      "  -105.35 -105.35 -105.35 -105.35 -105.35 -105.35 -105.35 -105.35 -105.35\n",
      "  -105.35]\n",
      " [-105.35 -105.35 -105.35 -105.35 -105.35 -105.35  -87.35   65.65  113.65\n",
      "   147.65  147.65  147.65  147.65   89.65  -25.35  -96.35 -105.35 -105.35\n",
      "  -105.35 -105.35 -105.35 -105.35 -105.35 -105.35 -105.35 -105.35 -105.35\n",
      "  -105.35]\n",
      " [-105.35 -105.35 -105.35 -105.35  -50.35   66.65  120.65  147.65  147.65\n",
      "   147.65  147.65  138.65   27.65  -94.35 -105.35 -105.35 -105.35 -105.35\n",
      "  -105.35 -105.35 -105.35 -105.35 -105.35 -105.35 -105.35 -105.35 -105.35\n",
      "  -105.35]\n",
      " [-105.35 -105.35 -105.35 -105.35   30.65  147.65  147.65  147.65  106.65\n",
      "    29.65   26.65  -89.35 -105.35 -105.35 -105.35 -105.35 -105.35 -105.35\n",
      "  -105.35 -105.35 -105.35 -105.35 -105.35 -105.35 -105.35 -105.35 -105.35\n",
      "  -105.35]\n",
      " [-105.35 -105.35 -105.35 -105.35 -105.35 -105.35 -105.35 -105.35 -105.35\n",
      "  -105.35 -105.35 -105.35 -105.35 -105.35 -105.35 -105.35 -105.35 -105.35\n",
      "  -105.35 -105.35 -105.35 -105.35 -105.35 -105.35 -105.35 -105.35 -105.35\n",
      "  -105.35]\n",
      " [-105.35 -105.35 -105.35 -105.35 -105.35 -105.35 -105.35 -105.35 -105.35\n",
      "  -105.35 -105.35 -105.35 -105.35 -105.35 -105.35 -105.35 -105.35 -105.35\n",
      "  -105.35 -105.35 -105.35 -105.35 -105.35 -105.35 -105.35 -105.35 -105.35\n",
      "  -105.35]\n",
      " [-105.35 -105.35 -105.35 -105.35 -105.35 -105.35 -105.35 -105.35 -105.35\n",
      "  -105.35 -105.35 -105.35 -105.35 -105.35 -105.35 -105.35 -105.35 -105.35\n",
      "  -105.35 -105.35 -105.35 -105.35 -105.35 -105.35 -105.35 -105.35 -105.35\n",
      "  -105.35]]\n"
     ]
    }
   ],
   "source": [
    "index = 0\n",
    "image = X_train[index].reshape(28,28)\n",
    "image = image.astype(np.float) # float型に変換\n",
    "image -= 105.35 # 意図的に負の小数値を作り出してみる\n",
    "plt.imshow(image, 'gray', vmin = 0, vmax = 255)\n",
    "plt.title('label : {}'.format(y_train[index]))\n",
    "plt.show()\n",
    "print(image) # 値を確認"
   ]
  },
  {
   "cell_type": "markdown",
   "metadata": {},
   "source": [
    "画像関係のライブラリではこの自動的なスケーリングが思わぬ結果を生むことがあるので、新しいメソッドを使うときには確認しておきましょう。"
   ]
  },
  {
   "cell_type": "markdown",
   "metadata": {},
   "source": [
    "### 前処理\n",
    "\n",
    "画像は0から255のuint8型で表されますが、機械学習をする上では0から1のfloat型で扱うことになります。色は理想的には連続値であり、それを特徴量とするからです。以下のコードで変換可能です。"
   ]
  },
  {
   "cell_type": "code",
   "execution_count": 8,
   "metadata": {},
   "outputs": [
    {
     "name": "stdout",
     "output_type": "stream",
     "text": [
      "1.0\n",
      "0.0\n"
     ]
    }
   ],
   "source": [
    "X_train = X_train.astype(np.float)\n",
    "X_test = X_test.astype(np.float)\n",
    "X_train /= 255\n",
    "X_test /= 255\n",
    "print(X_train.max()) # 1.0\n",
    "print(X_train.min()) # 0.0"
   ]
  },
  {
   "cell_type": "markdown",
   "metadata": {},
   "source": [
    "また、正解ラベルは0から9の整数ですが、ニューラルネットワークで多クラス分類を行う際にはone-hot表現に変換します。scikit-learnのOneHotEncoderを使用したコードが以下です。このone-hot表現による値はそのラベルである確率を示していることになるため、float型で扱います。"
   ]
  },
  {
   "cell_type": "code",
   "execution_count": 9,
   "metadata": {},
   "outputs": [
    {
     "name": "stdout",
     "output_type": "stream",
     "text": [
      "(60000,)\n",
      "(60000, 10)\n",
      "float64\n"
     ]
    }
   ],
   "source": [
    "enc = OneHotEncoder(handle_unknown='ignore', sparse=False)\n",
    "y_train_one_hot = enc.fit_transform(y_train[:, np.newaxis])\n",
    "y_test_one_hot = enc.transform(y_test[:, np.newaxis])\n",
    "print(y_train.shape) # (60000,)\n",
    "print(y_train_one_hot.shape) # (60000, 10)\n",
    "print(y_train_one_hot.dtype) # float64"
   ]
  },
  {
   "cell_type": "markdown",
   "metadata": {},
   "source": [
    "[sklearn.preprocessing.OneHotEncoder — scikit-learn 0.20.0 documentation](https://scikit-learn.org/stable/modules/generated/sklearn.preprocessing.OneHotEncoder.html)\n",
    "\n",
    "さらに、学習用データ6万枚の内2割を検証用データとして分割してください。学習用データが48000枚、検証用データが12000枚となります。"
   ]
  },
  {
   "cell_type": "code",
   "execution_count": 10,
   "metadata": {},
   "outputs": [
    {
     "name": "stdout",
     "output_type": "stream",
     "text": [
      "(48000, 784)\n",
      "(12000, 784)\n"
     ]
    }
   ],
   "source": [
    "X_train, X_val, y_train, y_val = train_test_split(X_train, y_train, test_size=0.2)\n",
    "print(X_train.shape) # (48000, 784)\n",
    "print(X_val.shape) # (12000, 784)"
   ]
  },
  {
   "cell_type": "markdown",
   "metadata": {},
   "source": [
    "## 【問題1】ニューラルネットワーク分類器のクラスを作成"
   ]
  },
  {
   "cell_type": "markdown",
   "metadata": {},
   "source": [
    "ニューラルネットワーク分類器のクラス<ScratchSimpleNeuralNetrowkClassifierを作成してください。\n",
    "\n",
    "以下が雛形です。基本的な構成は機械学習編の線形回帰やロジスティック回帰などと同様です。"
   ]
  },
  {
   "cell_type": "markdown",
   "metadata": {},
   "source": [
    "### ミニバッチ処理\n",
    "\n",
    "これまでの機械学習スクラッチでは、全てのサンプルを一度に計算していました。しかし、ニューラルネットワークではデータを分割して入力する確率的勾配降下法が一般的です。分割した際のひとかたまりをミニバッチ、そのサンプル数をバッチサイズと呼びます。\n",
    "\n",
    "今回はバッチサイズを10とします。今回使う学習用データは48000枚ですから、4800回の更新を繰り返すことになります。ニューラルネットワークではこれを4800回イテレーション（iteration）すると呼びます。学習データを一度全て見ると1回のエポック（epoch）が終わったことになります。このエポックを複数回繰り返し、学習が完了します。\n",
    "\n",
    "これを実現するための簡素なイテレータを用意しました。for文で呼び出すと、ミニバッチを取得できます。\n",
    "\n",
    "このクラスをニューラルネットワークのクラス内でインスタンス化し、for文を使うことでミニバッチが取り出せます。\n",
    "\n",
    "\\_\\_getitem\\_\\_や\\_\\_next\\_\\_は\\_\\_init\\_\\_などと同じ特殊メソッドの一種です。"
   ]
  },
  {
   "cell_type": "markdown",
   "metadata": {},
   "source": [
    "### フォワードプロパゲーション\n",
    "\n",
    "三層のニューラルネットワークのフォワードプロパゲーションを作成します。以下の説明ではノード数は1層目は400、2層目は200としますが、変更しても構いません。\n",
    "\n",
    "各層の数式を以下に示します。今回はそれぞれの記号が表す配列が、実装上どのようなndarrayのshapeになるかを併記してあります。"
   ]
  },
  {
   "cell_type": "markdown",
   "metadata": {},
   "source": [
    "**「1層目」**\n",
    "\n",
    "$$ A_1 = X \\cdot W_1 + B_1 $$\n",
    "\n",
    "$X$ : 特徴量ベクトル (batch_size, n_features)\n",
    "\n",
    "$W_1$ : 1層目の重み (n_features, n_nodes1)\n",
    "\n",
    "$B_1$ : 1層目のバイアス (n_nodes1,)\n",
    "\n",
    "$A_1$ : 出力 (batch_size, n_nodes1)"
   ]
  },
  {
   "cell_type": "markdown",
   "metadata": {},
   "source": [
    "**「1層目の活性化関数」**\n",
    "\n",
    "$$ Z_1 = f(A_1) $$\n",
    "\n",
    "$f()$ : 活性化関数\n",
    "\n",
    "$Z_1$ 出力 (batch_size, n_nodes1)"
   ]
  },
  {
   "cell_type": "markdown",
   "metadata": {},
   "source": [
    "**「2層目」**\n",
    "\n",
    "$$ A_2 = Z_1 \\cdot W_2 + B_2 $$\n",
    "\n",
    "$W_2$ : 2層目の重み (n_nodes1, n_nodes2)\n",
    "\n",
    "$B_2$ : 2層目のバイアス (n_nodes2,)\n",
    "\n",
    "$A_2$ : 出力 (batch_size, n_nodes2)"
   ]
  },
  {
   "cell_type": "markdown",
   "metadata": {},
   "source": [
    "**「2層目の活性化関数」**\n",
    "\n",
    "$$ Z_2 = f(A_2) $$\n",
    "\n",
    "$f()$ : 活性化関数\n",
    "\n",
    "$Z_2$ 出力 (batch_size, n_nodes2)"
   ]
  },
  {
   "cell_type": "markdown",
   "metadata": {},
   "source": [
    "**「3層目（出力層）」**\n",
    "\n",
    "$$ A_3 = Z_2 \\cdot W_3 + B_3 $$\n",
    "\n",
    "$W_3$  : 3層目の重み (n_nodes2, n_output)\n",
    "\n",
    "$B_3$ : 3層目のバイアス (n_output,)\n",
    "\n",
    "$A_3$ : 出力 (batch_size, n_output)"
   ]
  },
  {
   "cell_type": "markdown",
   "metadata": {},
   "source": [
    "**「3層目の活性化関数」**\n",
    "\n",
    "$$ Z_3 = softmax(A_3) $$\n",
    "\n",
    "$ softmax()$  : ソフトマックス関数\n",
    "\n",
    "$Z_3$ 出力 (batch_size, n_output)\n",
    "\n",
    "$Z_3$ は各ラベル（0〜9）に対する確率の配列である。"
   ]
  },
  {
   "cell_type": "markdown",
   "metadata": {},
   "source": [
    "### 重みの初期値\n",
    "\n",
    "ニューラルネットワークにおいては重みの初期値は重要な要素です。様々な方法が提案されていますが、今回はガウス分布による単純な初期化を行います。バイアスに関しても同様です。\n",
    "\n",
    "以下のコードを参考にしてください。標準偏差の値sigmaはハイパーパラメータです。発展的な重みの初期化方法については次のSprintで扱います。\n",
    "\n",
    "[numpy.random.randn — NumPy v1.15 Manua](https://docs.scipy.org/doc/numpy-1.15.0/reference/generated/numpy.random.randn.html)"
   ]
  },
  {
   "cell_type": "code",
   "execution_count": 11,
   "metadata": {},
   "outputs": [],
   "source": [
    "n_features = 784\n",
    "n_nodes1 = 400\n",
    "sigma = 0.01 # ガウス分布の標準偏差\n",
    "W1 = sigma * np.random.randn(n_features, n_nodes1)\n",
    "# W1: (784, 400)"
   ]
  },
  {
   "cell_type": "markdown",
   "metadata": {},
   "source": [
    "### 活性化関数（フォワードプロバゲーション）\n",
    "\n",
    "活性化関数を作成し、フォワードプロパゲーションの中で使用します。切り替えられるように実装することを推奨しますが、片方でも構いません。\n",
    "\n",
    "**「シグモイド関数」**\n",
    "\n",
    "$$ f(Z) = sigmoid(A) = \\frac{1}{1+exp(-A)} $$\n",
    "\n",
    "指数関数 $exp(-A)$ の計算はnp.expを使用してください。\n",
    "\n",
    "[numpy.exp — NumPy v1.15 Manual](https://docs.scipy.org/doc/numpy-1.15.1/reference/generated/numpy.exp.html)"
   ]
  },
  {
   "cell_type": "code",
   "execution_count": 12,
   "metadata": {},
   "outputs": [],
   "source": [
    "def _sigmoid(X):\n",
    "    '''\n",
    "    シグモイド関数を計算する関数\n",
    "        \n",
    "    Parameters\n",
    "    ---------------\n",
    "    X : 次の形のndarray, shape (n_samples, n_features)\n",
    "        学習用データの特徴量\n",
    "            \n",
    "    Returns\n",
    "    ----------\n",
    "    次の形のndarray, shape (n_samples, n_features)\n",
    "        シグモイド関数の計算結果\n",
    "    '''\n",
    "    return 1 / (1 + np.exp(-X))     "
   ]
  },
  {
   "cell_type": "markdown",
   "metadata": {},
   "source": [
    "**「ハイパボリックタンジェント関数」**\n",
    "\n",
    "次の数式で表されますが、np.tanhひとつで実現できます。\n",
    "\n",
    "$$ f(Z) = tanh(A) = \\frac{exp(A) - exp(-A)}{exp(A) + exp(-A)} $$\n",
    "\n",
    "[numpy.tanh — NumPy v1.15 Manual](https://docs.scipy.org/doc/numpy-1.15.1/reference/generated/numpy.tanh.html)\n",
    "\n",
    "＊現在ではこれらの代わりにReLUと呼ばれる活性化関数が一般的です。次のSprintで扱います。"
   ]
  },
  {
   "cell_type": "markdown",
   "metadata": {},
   "source": [
    "### ソフトマックス関数\n",
    "\n",
    "ソフトマックス関数を作成し、フォワードプロパゲーションの中で使用します。これも活性化関数の一種ですが、多クラス分類の出力層で使われる特性上、区別して扱われることが多いです。\n",
    "\n",
    "次の数式です。\n",
    "\n",
    "$$ Z_{3\\_k} = \\frac{exp(A_{3\\_k})}{\\sum_{i=1}^{n}exp(A_{3\\_i})} $$\n",
    "\n",
    "$Z_{3k}$ : $k$ 番目のクラスの確率ベクトル (batch_size,)\n",
    "\n",
    "$A_{3k}$ : $k$ 番目のクラスにあたる前の層からのベクトル (batch_size,)\n",
    "\n",
    "$n$ : クラスの数、n_output。今回のMNISTでは10。\n",
    "\n",
    "分母は全てのクラスに相当する値を指数関数に通した上で足し合わせたものです。その中で、分子に $k$ 番目のクラスを持ってくることで、 $k$ 番目のクラスである確率が求まります。\n",
    "\n",
    "これを10クラス分計算し、合わせたものが $Z_3$ です。"
   ]
  },
  {
   "cell_type": "code",
   "execution_count": 13,
   "metadata": {},
   "outputs": [],
   "source": [
    "def _softmax(X):\n",
    "    '''\n",
    "    ソフトマックス関数を計算する関数\n",
    "        \n",
    "    Parameters\n",
    "    ---------------\n",
    "    X : 次の形のndarray, shape (n_samples, n_features)\n",
    "        学習用データの特徴量\n",
    "            \n",
    "    Returns\n",
    "    ----------\n",
    "    次の形のndarray, shape (n_samples, n_features)\n",
    "        ソフトマックス関数の計算結果\n",
    "    '''\n",
    "    #オーバーフロー対策\n",
    "    c = np.max(X)\n",
    "    exp_X = np.exp(X - c)\n",
    "        \n",
    "    #分母\n",
    "    sum_exp_X = np.sum(exp_X, axis=1).reshape(-1, 1)\n",
    "\n",
    "    return exp_X / sum_exp_X"
   ]
  },
  {
   "cell_type": "markdown",
   "metadata": {},
   "source": [
    "### シグモイド関数"
   ]
  },
  {
   "cell_type": "code",
   "execution_count": 14,
   "metadata": {},
   "outputs": [],
   "source": [
    "# 1層目データセット用意\n",
    "X = np.array([[1, 2], [3, 4]])\n",
    "W1 = np.array([[0.02, 0.04], [0.05, 0.08]])\n",
    "B1 = 0.01"
   ]
  },
  {
   "cell_type": "code",
   "execution_count": 15,
   "metadata": {},
   "outputs": [],
   "source": [
    "#1層目\n",
    "A1s = np.dot(X, W1) + B1\n",
    "Z1s = _sigmoid(A1s)"
   ]
  },
  {
   "cell_type": "code",
   "execution_count": 16,
   "metadata": {},
   "outputs": [],
   "source": [
    "# 2層目データセット用意\n",
    "W2 = np.array([[0.1, 0.2], [0.2, 0.1]])\n",
    "B2 = 0.01"
   ]
  },
  {
   "cell_type": "code",
   "execution_count": 17,
   "metadata": {},
   "outputs": [],
   "source": [
    "#2層目\n",
    "A2s = np.dot(Z1s, W2) + B2\n",
    "Z2s = _sigmoid(A2s)"
   ]
  },
  {
   "cell_type": "code",
   "execution_count": 18,
   "metadata": {},
   "outputs": [],
   "source": [
    "# 3層目データセット用意\n",
    "W3 = np.array([[0.3, 0.4], [0.1, 0.4]])\n",
    "B3 = 0.01"
   ]
  },
  {
   "cell_type": "code",
   "execution_count": 19,
   "metadata": {},
   "outputs": [
    {
     "data": {
      "text/plain": [
       "array([[0.44591757, 0.55408243],\n",
       "       [0.4455903 , 0.5544097 ]])"
      ]
     },
     "execution_count": 19,
     "metadata": {},
     "output_type": "execute_result"
    }
   ],
   "source": [
    "#3層目\n",
    "A3s = np.dot(Z2s, W3) + B3\n",
    "Z3s = _softmax(A3s)\n",
    "Z3s"
   ]
  },
  {
   "cell_type": "markdown",
   "metadata": {},
   "source": [
    "### ハイパボリックタンジェント関数"
   ]
  },
  {
   "cell_type": "code",
   "execution_count": 20,
   "metadata": {},
   "outputs": [],
   "source": [
    "#1層目\n",
    "A1h = np.dot(X, W1) + B1\n",
    "Z1h = np.tanh(A1h)"
   ]
  },
  {
   "cell_type": "code",
   "execution_count": 21,
   "metadata": {},
   "outputs": [],
   "source": [
    "#2層目\n",
    "A2h = np.dot(Z1h, W2) + B2\n",
    "Z2h = np.tanh(A2h)"
   ]
  },
  {
   "cell_type": "code",
   "execution_count": 22,
   "metadata": {},
   "outputs": [
    {
     "data": {
      "text/plain": [
       "array([[0.49415764, 0.50584236],\n",
       "       [0.48915786, 0.51084214]])"
      ]
     },
     "execution_count": 22,
     "metadata": {},
     "output_type": "execute_result"
    }
   ],
   "source": [
    "#3層目\n",
    "A3h = np.dot(Z2h, W3) + B3\n",
    "Z3h = _softmax(A3h)\n",
    "Z3h"
   ]
  },
  {
   "cell_type": "markdown",
   "metadata": {},
   "source": [
    "### 交差エントロピー誤差\n",
    "\n",
    "目的関数（損失関数）を作成します。\n",
    "\n",
    "多クラス分類の目的関数である交差エントロピー誤差 $L$ は次の数式です。\n",
    "\n",
    "$$ L = - \\sum_{i}^{n}Y_i log(Z_{3\\_i}) $$\n",
    "\n",
    "$Y_i$ : $i$番目のクラスの正解ラベル（one-hot表現で0か1）"
   ]
  },
  {
   "cell_type": "markdown",
   "metadata": {},
   "source": [
    "### バックプロパゲーション\n",
    "\n",
    "三層のニューラルネットワークのバックプロパゲーションを作成します。確率的勾配降下法を行う部分です。\n",
    "\n",
    "数式を以下に示します。\n",
    "\n",
    "まず、$i$層目の重みとバイアスの更新式です。 $W_i$ と $B_i$ に対し、更新後の $W_i^{\\prime}$ と $B_i^{\\prime}$ は次の数式で求められます。"
   ]
  },
  {
   "cell_type": "markdown",
   "metadata": {},
   "source": [
    "$$ W_i^{\\prime} = W_i - \\alpha E(\\frac{\\partial L}{\\partial W_i}) $$"
   ]
  },
  {
   "cell_type": "markdown",
   "metadata": {},
   "source": [
    "$$ B_i^{\\prime} = B_i - \\alpha E(\\frac{\\partial L}{\\partial B_i}) $$"
   ]
  },
  {
   "cell_type": "markdown",
   "metadata": {},
   "source": [
    "$\\alpha$ : 学習率（層ごとに変えることも可能だが、基本的には全て同じとする）\n",
    "\n",
    "$\\frac{\\partial L}{\\partial W_i}$ : $W_i$ に関する損失 $L$ の勾配\n",
    "\n",
    "$\\frac{\\partial L}{\\partial B_i}$ : $B_i$ に関する損失 $L$ の勾配\n",
    "\n",
    "$E()$ : ミニバッチ方向にベクトルの平均を計算\n",
    "\n",
    "この更新方法はSprint3線形回帰やsprint4ロジスティック回帰における最急降下法と同様です。より効果的な更新方法が知られており、それは次のSprintで扱います。\n",
    "\n",
    "勾配$\\frac{\\partial L}{\\partial W_i}$や$\\frac{\\partial L}{\\partial B_i}$を求めるために、バックプロパゲーションを行います。以下の数式です。ハイパボリックタンジェント関数を使用した例を載せました。シグモイド関数の場合の数式はその後ろにあります。"
   ]
  },
  {
   "cell_type": "markdown",
   "metadata": {},
   "source": [
    "**「3層目」**\n",
    "\n",
    "$$ \\frac{\\partial L}{\\partial A_3} = Z_3 - Y $$"
   ]
  },
  {
   "cell_type": "markdown",
   "metadata": {},
   "source": [
    "$$ \\frac{\\partial L}{\\partial B_3} = \\frac{\\partial L}{\\partial A_3} $$"
   ]
  },
  {
   "cell_type": "markdown",
   "metadata": {},
   "source": [
    "$$ \\frac{\\partial L}{\\partial W_3} = Z_2^T \\cdot \\frac{\\partial L}{\\partial A_3} $$"
   ]
  },
  {
   "cell_type": "markdown",
   "metadata": {},
   "source": [
    "$$ \\frac{\\partial L}{\\partial Z_2} = \\frac{\\partial L}{\\partial A_3} \\cdot W_3^T $$"
   ]
  },
  {
   "cell_type": "markdown",
   "metadata": {},
   "source": [
    "$\\frac{\\partial L}{\\partial A_3}$ : $A_3$ に関する損失 $L$ の勾配 (batch_size, n_output)\n",
    "\n",
    "$\\frac{\\partial L}{\\partial B_3}$ : $B_3$ に関する損失 $L$ の勾配 (batch_size, n_output)\n",
    "\n",
    "$\\frac{\\partial L}{\\partial W_3}$ : $W_3$ に関する損失 $L$ の勾配 (n_nodes2, n_output)\n",
    "\n",
    "$\\frac{\\partial L}{\\partial Z_2}$ : $Z_2$ に関する損失 $L$ の勾配 (batch_size, n_nodes2)\n",
    "\n",
    "$Z_3$ フォワードプロパゲーションの出力 (batch_size, n_output)\n",
    "\n",
    "$Y$ : 正解ラベルのベクトル (batch_size, n_output)\n",
    "\n",
    "$Z^{T}_{2}$ 転置した2層目の出力 (n_nodes2, batch_size)\n",
    "\n",
    "$W^{T}_{3}$ 転置した3層目の重み (n_output, n_nodes2)"
   ]
  },
  {
   "cell_type": "markdown",
   "metadata": {},
   "source": [
    "**「2層目」**\n",
    "\n",
    "$$ \\frac{\\partial L}{\\partial A_2} = \\frac{\\partial L}{\\partial Z_2} \\times \\{1-tanh^2(A_2)\\} $$"
   ]
  },
  {
   "cell_type": "markdown",
   "metadata": {},
   "source": [
    "$$ \\frac{\\partial L}{\\partial B_2} = \\frac{\\partial L}{\\partial A_2} $$"
   ]
  },
  {
   "cell_type": "markdown",
   "metadata": {},
   "source": [
    "$$ \\frac{\\partial L}{\\partial W_2} = Z_1^T \\cdot \\frac{\\partial L}{\\partial A_2} $$"
   ]
  },
  {
   "cell_type": "markdown",
   "metadata": {},
   "source": [
    "$$ \\frac{\\partial L}{\\partial Z_1} = \\frac{\\partial L}{\\partial A_2} \\cdot W_2^T $$"
   ]
  },
  {
   "cell_type": "markdown",
   "metadata": {},
   "source": [
    "$\\frac{\\partial L}{\\partial A_2}$ : $A_2$ に関する損失 $L$ の勾配 (batch_size, n_nodes2)\n",
    "\n",
    "$\\frac{\\partial L}{\\partial B_2}$ : $B_2$ に関する損失 $L$ の勾配 (batch_size, n_nodes2)\n",
    "\n",
    "$\\frac{\\partial L}{\\partial W_2}$ : $W_2$ に関する損失 $L$ の勾配 (n_nodes1, n_nodes2)\n",
    "\n",
    "$\\frac{\\partial L}{\\partial Z_2}$ : $Z_2$ に関する損失 $L$ の勾配 (batch_size, n_nodes1)\n",
    "\n",
    "$A_2$ フォワードプロパゲーション2層目の出力 (batch_size, n_nodes2)\n",
    "\n",
    "$Z^{T}_{1}$ 転置した1層目の出力 (n_nodes1, batch_size)\n",
    "\n",
    "$W^{T}_{2}$ 転置した2層目の重み (n_nodes2, n_nodes1)"
   ]
  },
  {
   "cell_type": "markdown",
   "metadata": {},
   "source": [
    "**「1層目」**\n",
    "\n",
    "$$ \\frac{\\partial L}{\\partial A_1} = \\frac{\\partial L}{\\partial Z_1} \\times \\{1-tanh^2(A_1)\\} $$"
   ]
  },
  {
   "cell_type": "markdown",
   "metadata": {},
   "source": [
    "$$\\frac{\\partial L}{\\partial B_1} = \\frac{\\partial L}{\\partial A_1} $$"
   ]
  },
  {
   "cell_type": "markdown",
   "metadata": {},
   "source": [
    "$$ \\frac{\\partial L}{\\partial W_1} = X^T \\cdot \\frac{\\partial L}{\\partial A_1} $$"
   ]
  },
  {
   "cell_type": "markdown",
   "metadata": {},
   "source": [
    "$\\frac{\\partial L}{\\partial A_1}$ : $A_1$ に関する損失 $L$ の勾配 (batch_size, n_nodes1)\n",
    "\n",
    "$\\frac{\\partial L}{\\partial B_1}$ : $B_1$ に関する損失 $L$ の勾配 (batch_size, n_nodes1)\n",
    "\n",
    "$\\frac{\\partial L}{\\partial W_1}$ : $W_1$ に関する損失 $L$ の勾配 (n_features, n_nodes1)\n",
    "\n",
    "$A_1$ フォワードプロパゲーション1層目の出力 (batch_size, n_nodes1)\n",
    "\n",
    "$Z^T$ 転置した特徴量ベクトル (n_features, batch_size)\n",
    "\n",
    "$W^{T}_{1}$ 転置した1層目の重み (n_nodes1, n_features)"
   ]
  },
  {
   "cell_type": "markdown",
   "metadata": {},
   "source": [
    "<u>補足</u>\n",
    "\n",
    "活性化関数にシグモイド関数を使用した場合は、次のようになります。\n",
    "\n",
    "$$\n",
    "\\frac{\\partial L}{\\partial A_2} = \\frac{\\partial L}{\\partial Z_2} \\times \\{1-sigmoid(A_2)\\}sigmoid(A_2)\n",
    "$$"
   ]
  },
  {
   "cell_type": "markdown",
   "metadata": {},
   "source": [
    "$$\n",
    "\\frac{\\partial L}{\\partial A_1} = \\frac{\\partial L}{\\partial Z_1} \\times \\{1-sigmoid(A_1)\\}sigmoid(A_1)\n",
    "$$"
   ]
  },
  {
   "cell_type": "markdown",
   "metadata": {},
   "source": [
    "### シグモイド関数"
   ]
  },
  {
   "cell_type": "code",
   "execution_count": 23,
   "metadata": {},
   "outputs": [
    {
     "data": {
      "text/plain": [
       "array([[0.1, 0.6],\n",
       "       [0.7, 0.3]])"
      ]
     },
     "execution_count": 23,
     "metadata": {},
     "output_type": "execute_result"
    }
   ],
   "source": [
    "# loss データセット用意\n",
    "\n",
    "da3s = np.array([[0.1, 0.6], [0.7, 0.3]])\n",
    "da3s"
   ]
  },
  {
   "cell_type": "code",
   "execution_count": 24,
   "metadata": {},
   "outputs": [],
   "source": [
    "#3層目\n",
    "db3s = da3s\n",
    "\n",
    "dw3s = np.dot(Z2s.T, da3s)\n",
    "\n",
    "dz2s = np.dot(da3s, W3.T)"
   ]
  },
  {
   "cell_type": "code",
   "execution_count": 25,
   "metadata": {},
   "outputs": [],
   "source": [
    "#2層目\n",
    "da2s = dz2s * (1 - Z2s) * Z2s\n",
    "\n",
    "db2s = da2s\n",
    "\n",
    "dw2s = np.dot(Z1s.T, da2s)\n",
    "\n",
    "dz1s = np.dot(da2s, W2.T)"
   ]
  },
  {
   "cell_type": "code",
   "execution_count": 26,
   "metadata": {},
   "outputs": [],
   "source": [
    "#1層目\n",
    "da1s = dz1s * (1 - Z1s) * Z1s\n",
    "\n",
    "db1s = da1s\n",
    "\n",
    "dw1s = np.dot(X.T, da1s)"
   ]
  },
  {
   "cell_type": "code",
   "execution_count": 27,
   "metadata": {},
   "outputs": [
    {
     "data": {
      "text/plain": [
       "array([[0.00475678, 0.00484707],\n",
       "       [0.00431992, 0.00500806]])"
      ]
     },
     "execution_count": 27,
     "metadata": {},
     "output_type": "execute_result"
    }
   ],
   "source": [
    "#1層目のAに関する損失Lの勾配\n",
    "da1s"
   ]
  },
  {
   "cell_type": "code",
   "execution_count": 28,
   "metadata": {},
   "outputs": [
    {
     "data": {
      "text/plain": [
       "array([[0.01771654, 0.01987124],\n",
       "       [0.02679324, 0.02972637]])"
      ]
     },
     "execution_count": 28,
     "metadata": {},
     "output_type": "execute_result"
    }
   ],
   "source": [
    "#1層目のWに関する損失Lの勾配\n",
    "dw1s"
   ]
  },
  {
   "cell_type": "markdown",
   "metadata": {},
   "source": [
    "### ハイパボリックタンジェント関数"
   ]
  },
  {
   "cell_type": "code",
   "execution_count": 29,
   "metadata": {},
   "outputs": [
    {
     "data": {
      "text/plain": [
       "array([[0.1, 0.6],\n",
       "       [0.7, 0.3]])"
      ]
     },
     "execution_count": 29,
     "metadata": {},
     "output_type": "execute_result"
    }
   ],
   "source": [
    "# loss データセット用意\n",
    "\n",
    "da3h = np.array([[0.1, 0.6], [0.7, 0.3]])\n",
    "da3h"
   ]
  },
  {
   "cell_type": "code",
   "execution_count": 30,
   "metadata": {},
   "outputs": [],
   "source": [
    "#3層目\n",
    "db3h = da3h\n",
    "\n",
    "dw3h = np.dot(Z2h.T, da3h)\n",
    "\n",
    "dz2h = np.dot(da3h, W3.T)"
   ]
  },
  {
   "cell_type": "code",
   "execution_count": 31,
   "metadata": {},
   "outputs": [],
   "source": [
    "#2層目\n",
    "da2h = dz2h * (1 - Z2h**2)\n",
    "\n",
    "db2h = da2h\n",
    "\n",
    "dw2h = np.dot(Z1h.T, da2h)\n",
    "\n",
    "dz1h = np.dot(da2h, W2.T)"
   ]
  },
  {
   "cell_type": "code",
   "execution_count": 32,
   "metadata": {},
   "outputs": [],
   "source": [
    "#1層目\n",
    "da1h = dz1h * (1 - Z1h**2)\n",
    "\n",
    "db1h = da1h\n",
    "\n",
    "dw1h = np.dot(X.T, da1h)"
   ]
  },
  {
   "cell_type": "code",
   "execution_count": 33,
   "metadata": {},
   "outputs": [
    {
     "data": {
      "text/plain": [
       "array([[0.07544679, 0.07532641],\n",
       "       [0.06523593, 0.06891615]])"
      ]
     },
     "execution_count": 33,
     "metadata": {},
     "output_type": "execute_result"
    }
   ],
   "source": [
    "#1層目のAに関する損失Lの勾配\n",
    "da1h"
   ]
  },
  {
   "cell_type": "code",
   "execution_count": 34,
   "metadata": {},
   "outputs": [
    {
     "data": {
      "text/plain": [
       "array([[0.27115458, 0.28207486],\n",
       "       [0.4118373 , 0.42631742]])"
      ]
     },
     "execution_count": 34,
     "metadata": {},
     "output_type": "execute_result"
    }
   ],
   "source": [
    "#1層目のWに関する損失Lの勾配\n",
    "dw1h"
   ]
  },
  {
   "cell_type": "markdown",
   "metadata": {},
   "source": [
    "### 推定\n",
    "\n",
    "推定を行うメソッドを作成します。\n",
    "\n",
    "フォワードプロパゲーションによって出力された10個の確率の中で、最も高いものはどれかを判定します。\n",
    "\n",
    "[numpy.argmax — NumPy v1.15 Manual](https://docs.scipy.org/doc/numpy-1.15.1/reference/generated/numpy.argmax.html)"
   ]
  },
  {
   "cell_type": "code",
   "execution_count": 35,
   "metadata": {},
   "outputs": [],
   "source": [
    "import numpy as np\n",
    "\n",
    "class ScratchSimpleNeuralNetrowkClassifier():\n",
    "    \"\"\"\n",
    "    シンプルな三層ニューラルネットワーク分類器\n",
    "\n",
    "    Parameters\n",
    "    --------------\n",
    "    epoc : int\n",
    "        エポック数\n",
    "    activaiton : {'sigmoid', 'tanh'}\n",
    "        活性化関数の種類\n",
    "    alpha : float\n",
    "        学習率\n",
    "    sigma : float\n",
    "        重みパラメータ(ガウス分布の標準偏差)\n",
    "    batch_size : int\n",
    "        バッチサイズ\n",
    "    n_nodes1 : int\n",
    "        1層目の数\n",
    "    n_nodes2 : int\n",
    "        2層目の数\n",
    "    n_output : int\n",
    "        出力層の数\n",
    "    verbose : bool\n",
    "        学習過程の出力の有無\n",
    "        \n",
    "    Attributes\n",
    "    -------------\n",
    "    loss_list : list\n",
    "        学習用データのエポックごとの損失を記録するリスト\n",
    "     mini_loss_list : list\n",
    "        学習用データのイテレーションごとの損失を記録するリスト   \n",
    "    val_loss_list : list\n",
    "        検証用データのエポックごとの損失を記録するリスト\n",
    "    mini_val_loss_list : list\n",
    "        検証用データのイテレーションごとの損失を記録するリスト\n",
    "    params : dict\n",
    "        重みとバイアスを記録する辞書\n",
    "    \"\"\"\n",
    "    \n",
    "    def __init__(self, epoc=30, activation='sigmoid', alpha=0.01, sigma=0.01, \n",
    "                 batch_size=10, n_nodes1=200, n_nodes2=100, verbose=True,):\n",
    "        #ハイパーパラメータ \n",
    "        self.epoc            = epoc              #エポック数\n",
    "        self.activation   = activation     #活性化関数\n",
    "        self.alpha           = alpha             #学習率\n",
    "        self.sigma          = sigma            #重みパラメータ\n",
    "        self.batch_size = batch_size   #バッチサイズ\n",
    "        self.n_nodes1   = n_nodes1    #1層目のノード数\n",
    "        self.n_nodes2   = n_nodes2    #2層目のノード数\n",
    "        self.verbose      = verbose        #学習過程の出力\n",
    "        \n",
    "        #インスタンス変数\n",
    "        self.loss_list                  = None    #学習用データのエポックごとの損失を記録する配列\n",
    "        self.mini_loss_list         = None    #学習用データのイテレーションごとの損失を記録する配列\n",
    "        self.val_loss_list           = None    #検証用データのエポックごとの損失を記録する配列\n",
    "        self.mini_val_loss_list  = None   #検証用データのイテレーションごとの損失を記録する配列\n",
    "        self.params                    = None   #重みを記録する辞書\n",
    "            \n",
    "    \n",
    "    def fit(self, X, y, X_val=None, y_val=None):\n",
    "        \"\"\"\n",
    "        ニューラルネットワーク分類器を学習する。\n",
    "\n",
    "        Parameters\n",
    "        ----------\n",
    "        X : 次の形のndarray, shape (n_samples, n_features)\n",
    "            学習用データの特徴量\n",
    "        y : 次の形のndarray, shape (n_samples, )\n",
    "            学習用データの正解値\n",
    "        X_val : 次の形のndarray, shape (n_samples, n_features)\n",
    "            検証用データの特徴量\n",
    "        y_val : 次の形のndarray, shape (n_samples, )\n",
    "            検証用データの正解値\n",
    "        \"\"\"\n",
    "        #1次元なら2次元にする\n",
    "        if X.ndim == 1:\n",
    "            X = X[:, np.newaxis]\n",
    "        if y.ndim == 1:\n",
    "            y = y[:, np.newaxis]\n",
    "        \n",
    "        #one_hotエンコーディング\n",
    "        n_output = np.unique(y).shape[0]\n",
    "        y_onehot = self._one_hot(y, n_output)\n",
    "        \n",
    "        #ミニバッチを取得するクラスをインスタンス化\n",
    "        get_mini_batch = GetMiniBatch(X, y_onehot, self.batch_size)\n",
    "        \n",
    "\n",
    "         #valがあるとき\n",
    "        if X_val is not None and y_val is not None:\n",
    "            \n",
    "            #1次元なら2次元にする\n",
    "            if X.ndim == 1:\n",
    "                X_val = X_val[:, np.newaxis]\n",
    "            if y_val.ndim == 1:\n",
    "                y_val = y_val[:, np.newaxis]\n",
    "            y_val_onehot = self._one_hot(y_val, n_output) #one-hotエンコーディング\n",
    "            test_mini_batch = GetMiniBatch(X_val, y_val_onehot) #インスタンス化\n",
    "        \n",
    "        \n",
    "        #重みの初期化\n",
    "        self.params = {}\n",
    "        self.params['w1'] =  self.sigma * np.random.randn(X.shape[1], self.n_nodes1) #(n_features, n_nodes1)\n",
    "        self.params['b1'] = np.zeros(self.n_nodes1)#(n_nodes1,)\n",
    "        self.params['w2'] =  self.sigma * np.random.randn(self.n_nodes1, self.n_nodes2) #(n_nodes1, n_nodes2)\n",
    "        self.params['b2'] = np.zeros(self.n_nodes2) #(n_nodes2,)\n",
    "        self.params['w3'] =  self.sigma * np.random.randn(self.n_nodes2, y_onehot.shape[1]) #(n_nodes2, n_output)\n",
    "        self.params['b3'] = np.zeros(y_onehot.shape[1]) #(n_output,)       \n",
    "\n",
    "        #損失を記録するリスト(エポック)\n",
    "        self.loss_list = []        #学習用\n",
    "        self.val_loss_list= []  #検証用\n",
    "        \n",
    "        #エポック数だけ繰り返す\n",
    "        for i in range(self.epoc):\n",
    "            \n",
    "            #損失を記録するリスト(イテレーション)\n",
    "            self.mini_loss_list = []\n",
    "            \n",
    "            #イテレーション数実行\n",
    "            for mini_X_train, mini_y_train in get_mini_batch:\n",
    "\n",
    "                #フォワードプロバケーション\n",
    "                Z1, Z2, Z3 = self._forward(mini_X_train)\n",
    "                \n",
    "                #バックプロバケーション\n",
    "                w1, w2, w3, b1, b2, b3 = self._back(mini_X_train, mini_y_train, Z1, Z2, Z3)\n",
    "                \n",
    "                #重みの更新\n",
    "                self.params['w1'] -= self.alpha * w1 / b1.shape[0]  #(n_features, n_nodes1)\n",
    "                self.params['w2'] -= self.alpha * w2 / b2.shape[0]  #(n_nodes1, n_nodes2)\n",
    "                self.params['w3'] -= self.alpha * w3 / b3.shape[0]  #(n_nodes2, n_output)\n",
    "                self.params['b1'] -= self.alpha * b1.mean(axis=0)   #(n_nodes1,)\n",
    "                self.params['b2'] -= self.alpha * b2.mean(axis=0)   #(n_nodes2,)\n",
    "                self.params['b3'] -= self.alpha * b3.mean(axis=0)   #(n_output,)      \n",
    "                \n",
    "                #イテレーションごとの損失をリストに格納\n",
    "                mini_loss = self._cross_entropy(mini_y_train, Z3)\n",
    "                self.mini_loss_list.append(mini_loss)\n",
    "\n",
    "            #1エポックの損失の平均をリストに格納\n",
    "            loss = np.mean(self.mini_loss_list)\n",
    "            self.loss_list.append(loss)\n",
    "            \n",
    "            \n",
    "            #valがあるときもイテレーション数実行\n",
    "            if X_val is not None and y_val is not None:\n",
    "                \n",
    "                #損失を記録するリスト(イテレーション)\n",
    "                self.mini_val_loss_list = []\n",
    "                \n",
    "                #イテレーション数実行\n",
    "                for mini_X_val, mini_y_val in test_mini_batch:\n",
    "                \n",
    "                    #確率を予測\n",
    "                    _, _, Z3_val = self._forward(mini_X_val)\n",
    "                \n",
    "                    #イテレーションごとの損失をリストに格納\n",
    "                    mini_val_loss = self._cross_entropy(mini_y_val, Z3_val)\n",
    "                    self.mini_val_loss_list.append(mini_val_loss)\n",
    "                    \n",
    "                #1エポックの損失の平均をリストに格納\n",
    "                val_loss = np.mean(self.mini_val_loss_list)\n",
    "                self.val_loss_list.append(val_loss) \n",
    "                \n",
    "                \n",
    "            #学習過程を出力する場合\n",
    "            if self.verbose == True:\n",
    "                print('学習用データの学習過程' + str(i + 1) + 'epoc目 : ' + str(self.loss_list[i]))\n",
    "\n",
    "                #検証用データあり\n",
    "                if X_val is not None or y_val is not None:\n",
    "                    print('検証用データの学習過程' + str(i + 1) + 'epoc目 : ' + str(self.val_loss_list[i]))\n",
    "\n",
    "\n",
    "    def predict(self, X):\n",
    "        \"\"\"\n",
    "        ニューラルネットワーク分類器を使い推定する。\n",
    "\n",
    "        Parameters\n",
    "        ----------\n",
    "        X : 次の形のndarray, shape (n_samples, n_features)\n",
    "            サンプル\n",
    "\n",
    "        Returns\n",
    "        -------\n",
    "        次の形のndarray, shape (n_samples, 1)\n",
    "            推定結果\n",
    "        \"\"\"\n",
    "        #1次元なら2次元にする\n",
    "        if X.ndim == 1:\n",
    "            X = X[:, np.newaxis]\n",
    "        \n",
    "        #推定\n",
    "        _, _, y = self._forward(X)\n",
    "        \n",
    "        return np.argmax(y, axis=1)\n",
    "            \n",
    "\n",
    "    def _forward(self, X):\n",
    "        '''\n",
    "        フォワードプロバケーションの関数\n",
    "        \n",
    "        Parameters\n",
    "        --------------\n",
    "        X : 次の形のndarray, shape (batch_size, n_features)\n",
    "            特徴量ベクトル\n",
    "            \n",
    "        Returns\n",
    "        Z1 : 次の形のndarray, shape (batch_size, n_nodes1)\n",
    "            1層目の出力\n",
    "        Z2 : 次の形のndarray, shape (batch_size, n_nodes2)\n",
    "            2層目の出力\n",
    "        Z3 : 次の形のndarray, shape (batch_size, n_output)\n",
    "            各ラベルに対する確率の配列\n",
    "        '''\n",
    "        #活性化関数がシグモイド関数の時\n",
    "        if self.activation == 'sigmoid':\n",
    "            #1層目\n",
    "            A1 = np.dot(X, self.params['w1']) + self.params['b1'] #(batch_size, n_nodes1)\n",
    "            Z1 = self._sigmoid(A1) #(batch_size, n_nodes1)\n",
    "            \n",
    "            #2層目\n",
    "            A2 = np.dot(Z1, self.params['w2']) + self.params['b2'] #(batch_size, n_nodes2)\n",
    "            Z2 = self._sigmoid(A2) #(batch_size, n_nodes2)\n",
    "\n",
    "            #3層目\n",
    "            A3 = np.dot(Z2, self.params['w3']) + self.params['b3'] #(batch_size, n_nodes2)\n",
    "            Z3 = self._softmax(A3) #(batch_size, n_nodes2)\n",
    "\n",
    "        #活性化関数がハイパボリックタンジェント関数の時\n",
    "        else:\n",
    "            #1層目\n",
    "            A1 = np.dot(X, self.params['w1']) + self.params['b1'] #(batch_size, n_nodes1)\n",
    "            Z1 = np.tanh(A1) #(batch_size, n_nodes1)\n",
    "\n",
    "            #2層目\n",
    "            A2 = np.dot(Z1, self.params['w2']) + self.params['b2'] #(batch_size, n_nodes2)\n",
    "            Z2 = np.tanh(A2) #(batch_size, n_nodes2)\n",
    "\n",
    "            #3層目\n",
    "            A3 = np.dot(Z2, self.params['w3']) + self.params['b3'] #(batch_size, n_output)\n",
    "            Z3 = self._softmax(A3) #(batch_size, n_output)\n",
    "            \n",
    "        return Z1, Z2, Z3\n",
    "\n",
    "        \n",
    "    def _back(self, X, y, Z1, Z2, Z3):\n",
    "        '''\n",
    "        バックプロバケーションの関数\n",
    "        \n",
    "        Parameters\n",
    "        --------------\n",
    "        X : 次の形のndarray, shape (batch_size, n_features)\n",
    "            特徴量ベクトル\n",
    "        y : 次の形のndarray, shape (batch_size, n_output)\n",
    "            正解ラベルのベクトル\n",
    "        Z1 : 次の形のndarray, shape (batch_size, n_nodes1)\n",
    "            1層目の出力\n",
    "        Z2 : 次の形のndarray, shape (batch_size, n_nodes2)\n",
    "            2層目の出力\n",
    "        Z3 : 次の形のndarray, shape (batch_size, n_output)\n",
    "            各ラベルに対する確率の配列\n",
    "            \n",
    "        Returns\n",
    "        dw1: 次の形のndarray, shape (n_features, n_nodes1)\n",
    "            更新した1層目の重み\n",
    "        dw2: 次の形のndarray, shape (n_nodes1, n_nodes2)\n",
    "            更新した2層目の重み\n",
    "        dw3: 次の形のndarray, shape (n_nodes2, n_output)\n",
    "            更新した3層目の重み\n",
    "        db1: 次の形のndarray, shape (batch_size, n_nodes1)\n",
    "            更新した1層目のバイアス\n",
    "        db2: 次の形のndarray, shape (batch_size, n_nodes2)\n",
    "            更新した2層目のバイアス\n",
    "        db3: 次の形のndarray, shape (batch_size, n_output)\n",
    "            更新した3層目のバイアス\n",
    "        '''\n",
    "        if y.ndim == 1:\n",
    "            y = y.reshape(-1, 1)\n",
    "        \n",
    "        #シグモイド関数のとき\n",
    "        if self.activation == 'sigmoid':\n",
    "            #3層目\n",
    "            da3 = Z3 - y #(batch_size, n_output)\n",
    "            db3 = da3 #(batch_size, n_output)\n",
    "            dw3 = np.dot(Z2.T, da3) #(n_nodes2, n_output)\n",
    "            dz2 = np.dot(da3, self.params['w3'].T) #(batch_size, n_nodes2)\n",
    "            \n",
    "            #2層目\n",
    "            da2 = dz2 * (1 - Z2) * Z2 #(batch_size, n_nodes2)\n",
    "            db2 = da2 #(batch_size, n_nodes2)\n",
    "            dw2 = np.dot(Z1.T, da2) #(n_nodes1, n_nodes2)\n",
    "            dz1 = np.dot(da2, self.params['w2'].T) #(batch_size, n_nodes1)\n",
    "\n",
    "            #1層目\n",
    "            da1 = dz1 * (1 - Z1) * Z1 #(batch_size, n_nodes1)\n",
    "            db1 = da1 #(batch_size, n_nodes1)\n",
    "            dw1 = np.dot(X.T, da1) #(n_features, n_nodes1)  \n",
    "\n",
    "        #ハイパボリックタンジェント関数の時\n",
    "        else:\n",
    "            #3層目\n",
    "            da3 = Z3 - y #(n_nodes2, n_output)\n",
    "            db3 = da3 #(n_nodes2, n_output)\n",
    "            dw3 = np.dot(Z2.T, da3) #(n_nodes2, n_output)\n",
    "            dz2 = np.dot(da3, self.params['w3'].T) #(batch_size, n_nodes2)\n",
    "            \n",
    "            #2層目\n",
    "            da2 = dz2 * (1 - Z2**2) #(batch_size, n_nodes2)\n",
    "            db2 = da2 #(batch_size, n_nodes2)\n",
    "            dw2 = np.dot(Z1.T, da2) #(n_nodes1, n_nodes2)\n",
    "            dz1 = np.dot(da2, self.params['w2'].T) #(batch_size, n_nodes1)\n",
    "\n",
    "            #1層目\n",
    "            da1 = dz1 * (1 - Z1**2) #(batch_size, n_nodes1)\n",
    "            db1 = da1 #(batch_size, n_nodes1)\n",
    "            dw1 = np.dot(X.T, da1) #(n_features, n_nodes1)  \n",
    "        \n",
    "        return dw1, dw2, dw3, db1, db2, db3\n",
    "\n",
    "    \n",
    "    def _one_hot(self, y, n_output):\n",
    "        '''\n",
    "        one-hotエンコーディングを行う関数\n",
    "       \n",
    "       Parameters\n",
    "        ---------------\n",
    "        y : 次の形のndarray, shape (n_features, 1)\n",
    "            正解ラベルのベクトル\n",
    "        n_output : int\n",
    "            正解ラベルのユニーク値\n",
    "            \n",
    "        Returns\n",
    "        ----------\n",
    "        one_hot.T : 次の形のndarray, shape (n_features, n_output)\n",
    "        '''\n",
    "        #0配列を用意\n",
    "        one_hot = np.zeros((n_output, y.shape[0]))\n",
    "        \n",
    "        #0配列の該当する位置に1を挿入\n",
    "        for idx, val in enumerate(y.astype(int)):\n",
    "            one_hot[val, idx] = 1\n",
    "\n",
    "        return one_hot.T\n",
    "        \n",
    "    \n",
    "    def _sigmoid(self, X):\n",
    "        '''\n",
    "        シグモイド関数を計算する関数\n",
    "        \n",
    "        Parameters\n",
    "        ---------------\n",
    "        X : 次の形のndarray, shape (n_samples, n_features)\n",
    "            学習用データの特徴量\n",
    "            \n",
    "        Returns\n",
    "        ----------\n",
    "        次の形のndarray, shape (n_samples, n_features)\n",
    "            シグモイド関数の計算結果\n",
    "        '''\n",
    "        return 1 / (1 + np.exp(-X))     \n",
    "        \n",
    "\n",
    "    def _softmax(self, X):\n",
    "        '''\n",
    "        ソフトマックス関数を計算する関数\n",
    "        \n",
    "        Parameters\n",
    "        ---------------\n",
    "        X : 次の形のndarray, shape (n_samples, n_features)\n",
    "            学習用データの特徴量\n",
    "            \n",
    "        Returns\n",
    "        ----------\n",
    "        次の形のndarray, shape (n_samples, n_features)\n",
    "            ソフトマックス関数の計算結果\n",
    "        '''\n",
    "        #オーバーフロー対策\n",
    "        c = np.max(X)\n",
    "        exp_X = np.exp(X - c)\n",
    "        \n",
    "        #分母\n",
    "        sum_exp_X = np.sum(exp_X, axis=1).reshape(-1, 1)\n",
    "\n",
    "        return exp_X / sum_exp_X\n",
    "\n",
    "    \n",
    "    def _cross_entropy(self, y, z):\n",
    "        '''\n",
    "        交差エントロピー誤差を求める関数\n",
    "        \n",
    "        Parameters\n",
    "        --------------\n",
    "        y : 次の形のndarray, shape (batch_size, n_output)\n",
    "            正解ラベルのベクトル\n",
    "        Z3 : 次の形のndarray, shape (batch_size, n_nodes3)\n",
    "            3層目の出力\n",
    "       \n",
    "        Returns\n",
    "        ----------\n",
    "        float\n",
    "            交差エントロピー誤差\n",
    "        '''\n",
    "        loss = np.sum(y * np.log(z), axis=1)\n",
    "        \n",
    "        return -np.mean(loss)"
   ]
  },
  {
   "cell_type": "code",
   "execution_count": 36,
   "metadata": {},
   "outputs": [],
   "source": [
    "class GetMiniBatch:\n",
    "    \"\"\"\n",
    "    ミニバッチを取得するイテレータ\n",
    "\n",
    "    Parameters\n",
    "    ----------\n",
    "    X : 次の形のndarray, shape (n_samples, n_features)\n",
    "      学習データ\n",
    "    y : 次の形のndarray, shape (n_samples, 1)\n",
    "      正解値\n",
    "    batch_size : int\n",
    "      バッチサイズ\n",
    "    seed : int\n",
    "      NumPyの乱数のシード\n",
    "    \"\"\"\n",
    "    def __init__(self, X, y, batch_size = 10, seed=0):\n",
    "        self.batch_size = batch_size\n",
    "        np.random.seed(seed)\n",
    "        shuffle_index = np.random.permutation(np.arange(X.shape[0]))\n",
    "        self.X = X[shuffle_index]\n",
    "        self.y = y[shuffle_index]\n",
    "        self._stop = np.ceil(X.shape[0]/self.batch_size).astype(np.int)\n",
    "\n",
    "    def __len__(self):\n",
    "        return self._stop\n",
    "\n",
    "    def __getitem__(self,item):\n",
    "        p0 = item*self.batch_size\n",
    "        p1 = item*self.batch_size + self.batch_size\n",
    "        return self.X[p0:p1], self.y[p0:p1]        \n",
    "\n",
    "    def __iter__(self):\n",
    "        self._counter = 0\n",
    "        return self\n",
    "\n",
    "    def __next__(self):\n",
    "        if self._counter >= self._stop:\n",
    "            raise StopIteration()\n",
    "        p0 = self._counter*self.batch_size\n",
    "        p1 = self._counter*self.batch_size + self.batch_size\n",
    "        self._counter += 1\n",
    "        return self.X[p0:p1], self.y[p0:p1]"
   ]
  },
  {
   "cell_type": "markdown",
   "metadata": {},
   "source": [
    "#### ・学習"
   ]
  },
  {
   "cell_type": "code",
   "execution_count": 37,
   "metadata": {
    "scrolled": false
   },
   "outputs": [
    {
     "name": "stdout",
     "output_type": "stream",
     "text": [
      "学習用データの学習過程1epoc目 : 2.306924296436266\n",
      "検証用データの学習過程1epoc目 : 2.3045677627289622\n",
      "学習用データの学習過程2epoc目 : 2.3060384040416375\n",
      "検証用データの学習過程2epoc目 : 2.3038535972519982\n",
      "学習用データの学習過程3epoc目 : 2.305018710972174\n",
      "検証用データの学習過程3epoc目 : 2.3028308355933467\n",
      "学習用データの学習過程4epoc目 : 2.3030243547014364\n",
      "検証用データの学習過程4epoc目 : 2.2993722082072607\n",
      "学習用データの学習過程5epoc目 : 2.282610952349011\n",
      "検証用データの学習過程5epoc目 : 2.215936062311888\n",
      "学習用データの学習過程6epoc目 : 1.9110587489534718\n",
      "検証用データの学習過程6epoc目 : 1.6929662611779144\n",
      "学習用データの学習過程7epoc目 : 1.5014646100303246\n",
      "検証用データの学習過程7epoc目 : 1.28868636049583\n",
      "学習用データの学習過程8epoc目 : 1.138661040095173\n",
      "検証用データの学習過程8epoc目 : 1.016331577103713\n",
      "学習用データの学習過程9epoc目 : 0.8753787905373022\n",
      "検証用データの学習過程9epoc目 : 0.7821399289934923\n",
      "学習用データの学習過程10epoc目 : 0.7239586231575946\n",
      "検証用データの学習過程10epoc目 : 0.6871992469956489\n",
      "学習用データの学習過程11epoc目 : 0.6451380375406386\n",
      "検証用データの学習過程11epoc目 : 0.6169128872251431\n",
      "学習用データの学習過程12epoc目 : 0.5790886021496768\n",
      "検証用データの学習過程12epoc目 : 0.5555843060087287\n",
      "学習用データの学習過程13epoc目 : 0.5233469748384262\n",
      "検証用データの学習過程13epoc目 : 0.5064905170124336\n",
      "学習用データの学習過程14epoc目 : 0.4794894662335988\n",
      "検証用データの学習過程14epoc目 : 0.4681039854588773\n",
      "学習用データの学習過程15epoc目 : 0.4438871434521318\n",
      "検証用データの学習過程15epoc目 : 0.4352699299407643\n",
      "学習用データの学習過程16epoc目 : 0.4121020680975265\n",
      "検証用データの学習過程16epoc目 : 0.40462872705449765\n",
      "学習用データの学習過程17epoc目 : 0.3821809338672382\n",
      "検証用データの学習過程17epoc目 : 0.37576970056709813\n",
      "学習用データの学習過程18epoc目 : 0.35473640045381843\n",
      "検証用データの学習過程18epoc目 : 0.35020344294582195\n",
      "学習用データの学習過程19epoc目 : 0.331160568291533\n",
      "検証用データの学習過程19epoc目 : 0.3290131015050149\n",
      "学習用データの学習過程20epoc目 : 0.3117092500507105\n",
      "検証用データの学習過程20epoc目 : 0.3117318422081046\n",
      "学習用データの学習過程21epoc目 : 0.29555513230785735\n",
      "検証用データの学習過程21epoc目 : 0.2972633951446179\n",
      "学習用データの学習過程22epoc目 : 0.2817008634961973\n",
      "検証用データの学習過程22epoc目 : 0.2846812844423119\n",
      "学習用データの学習過程23epoc目 : 0.2693966325697958\n",
      "検証用データの学習過程23epoc目 : 0.2733807303213433\n",
      "学習用データの学習過程24epoc目 : 0.25816454656618476\n",
      "検証用データの学習過程24epoc目 : 0.2630034529343036\n",
      "学習用データの学習過程25epoc目 : 0.24772084477809814\n",
      "検証用データの学習過程25epoc目 : 0.25334563939486116\n",
      "学習用データの学習過程26epoc目 : 0.23790060300900293\n",
      "検証用データの学習過程26epoc目 : 0.24429273599282708\n",
      "学習用データの学習過程27epoc目 : 0.22860778293793724\n",
      "検証用データの学習過程27epoc目 : 0.2357796559098736\n",
      "学習用データの学習過程28epoc目 : 0.21978681363147903\n",
      "検証用データの学習過程28epoc目 : 0.22776797021209386\n",
      "学習用データの学習過程29epoc目 : 0.21140620197724916\n",
      "検証用データの学習過程29epoc目 : 0.22023300012487368\n",
      "学習用データの学習過程30epoc目 : 0.2034481872764493\n",
      "検証用データの学習過程30epoc目 : 0.21315645707156966\n"
     ]
    }
   ],
   "source": [
    "#シグモイド関数\n",
    "nls = ScratchSimpleNeuralNetrowkClassifier(activation='sigmoid')\n",
    "nls.fit(X_train, y_train, X_val, y_val)"
   ]
  },
  {
   "cell_type": "code",
   "execution_count": 38,
   "metadata": {
    "scrolled": false
   },
   "outputs": [
    {
     "name": "stdout",
     "output_type": "stream",
     "text": [
      "学習用データの学習過程1epoc目 : 1.3273592177015332\n",
      "検証用データの学習過程1epoc目 : 0.5193593847475476\n",
      "学習用データの学習過程2epoc目 : 0.4048732594598143\n",
      "検証用データの学習過程2epoc目 : 0.34431373845758567\n",
      "学習用データの学習過程3epoc目 : 0.3101899627530701\n",
      "検証用データの学習過程3epoc目 : 0.2863157338368238\n",
      "学習用データの学習過程4epoc目 : 0.2571502321708731\n",
      "検証用データの学習過程4epoc目 : 0.24160576660715966\n",
      "学習用データの学習過程5epoc目 : 0.21469052699535524\n",
      "検証用データの学習過程5epoc目 : 0.207627902293515\n",
      "学習用データの学習過程6epoc目 : 0.18254646361267496\n",
      "検証用データの学習過程6epoc目 : 0.18327052092209453\n",
      "学習用データの学習過程7epoc目 : 0.15832251062137292\n",
      "検証用データの学習過程7epoc目 : 0.16591480463526115\n",
      "学習用データの学習過程8epoc目 : 0.13941761057142307\n",
      "検証用データの学習過程8epoc目 : 0.15298124200742638\n",
      "学習用データの学習過程9epoc目 : 0.12415644214436648\n",
      "検証用データの学習過程9epoc目 : 0.14284209414766388\n",
      "学習用データの学習過程10epoc目 : 0.11151543535865438\n",
      "検証用データの学習過程10epoc目 : 0.13471459222524396\n",
      "学習用データの学習過程11epoc目 : 0.10082242888483768\n",
      "検証用データの学習過程11epoc目 : 0.12812392872183428\n",
      "学習用データの学習過程12epoc目 : 0.09160266138535454\n",
      "検証用データの学習過程12epoc目 : 0.12268540740826074\n",
      "学習用データの学習過程13epoc目 : 0.08352107431559229\n",
      "検証用データの学習過程13epoc目 : 0.11809911957298586\n",
      "学習用データの学習過程14epoc目 : 0.07634651678105535\n",
      "検証用データの学習過程14epoc目 : 0.11416445433857789\n",
      "学習用データの学習過程15epoc目 : 0.06991435172374992\n",
      "検証用データの学習過程15epoc目 : 0.11075320104108163\n",
      "学習用データの学習過程16epoc目 : 0.06410294605947563\n",
      "検証用データの学習過程16epoc目 : 0.10777506699685942\n",
      "学習用データの学習過程17epoc目 : 0.0588206109130624\n",
      "検証用データの学習過程17epoc目 : 0.1051598109463827\n",
      "学習用データの学習過程18epoc目 : 0.05399559151900481\n",
      "検証用データの学習過程18epoc目 : 0.10285340441939776\n",
      "学習用データの学習過程19epoc目 : 0.04956961835656352\n",
      "検証用データの学習過程19epoc目 : 0.10081338770267027\n",
      "学習用データの学習過程20epoc目 : 0.04549592732143882\n",
      "検証用データの学習過程20epoc目 : 0.09900064429981743\n",
      "学習用データの学習過程21epoc目 : 0.04173861748448677\n",
      "検証用データの学習過程21epoc目 : 0.09737520531610949\n",
      "学習用データの学習過程22epoc目 : 0.03826948787792285\n",
      "検証用データの学習過程22epoc目 : 0.0959020338373479\n",
      "学習用データの学習過程23epoc目 : 0.035064187284260286\n",
      "検証用データの学習過程23epoc目 : 0.09456336342154231\n",
      "学習用データの学習過程24epoc目 : 0.03210080217209795\n",
      "検証用データの学習過程24epoc目 : 0.09336693622331708\n",
      "学習用データの学習過程25epoc目 : 0.02936091732183198\n",
      "検証用データの学習過程25epoc目 : 0.09233561767192389\n",
      "学習用データの学習過程26epoc目 : 0.02683107393468538\n",
      "検証用データの学習過程26epoc目 : 0.09148565498494028\n",
      "学習用データの学習過程27epoc目 : 0.02449984586080203\n",
      "検証用データの学習過程27epoc目 : 0.09081554698960012\n",
      "学習用データの学習過程28epoc目 : 0.02235559226782805\n",
      "検証用データの学習過程28epoc目 : 0.09030747900522856\n",
      "学習用データの学習過程29epoc目 : 0.020388420832472366\n",
      "検証用データの学習過程29epoc目 : 0.08993556059665973\n",
      "学習用データの学習過程30epoc目 : 0.018589103822388323\n",
      "検証用データの学習過程30epoc目 : 0.0896748968842689\n"
     ]
    }
   ],
   "source": [
    "#Tanh関数\n",
    "nlt = ScratchSimpleNeuralNetrowkClassifier(activation='tanh')\n",
    "nlt.fit(X_train, y_train, X_val, y_val)"
   ]
  },
  {
   "cell_type": "markdown",
   "metadata": {},
   "source": [
    "#### ・検証用データの推定"
   ]
  },
  {
   "cell_type": "code",
   "execution_count": 39,
   "metadata": {},
   "outputs": [
    {
     "data": {
      "text/plain": [
       "array([0, 4, 4, ..., 1, 5, 5])"
      ]
     },
     "execution_count": 39,
     "metadata": {},
     "output_type": "execute_result"
    }
   ],
   "source": [
    "#検証用データの推定(シグモイド)\n",
    "y_pred_s_val = nls.predict(X_val)\n",
    "y_pred_s_val"
   ]
  },
  {
   "cell_type": "code",
   "execution_count": 40,
   "metadata": {},
   "outputs": [
    {
     "data": {
      "text/plain": [
       "array([0, 4, 4, ..., 1, 5, 5])"
      ]
     },
     "execution_count": 40,
     "metadata": {},
     "output_type": "execute_result"
    }
   ],
   "source": [
    "#検証用データの推定(Tanh)\n",
    "y_pred_t_val = nlt.predict(X_val)\n",
    "y_pred_t_val"
   ]
  },
  {
   "cell_type": "markdown",
   "metadata": {},
   "source": [
    "#### ・未知データの推定"
   ]
  },
  {
   "cell_type": "code",
   "execution_count": 41,
   "metadata": {},
   "outputs": [
    {
     "data": {
      "text/plain": [
       "array([7, 2, 1, ..., 4, 5, 6])"
      ]
     },
     "execution_count": 41,
     "metadata": {},
     "output_type": "execute_result"
    }
   ],
   "source": [
    "#　未知データの推定(シグモイド)\n",
    "y_pred_s = nls.predict(X_test)\n",
    "y_pred_s"
   ]
  },
  {
   "cell_type": "code",
   "execution_count": 42,
   "metadata": {},
   "outputs": [
    {
     "data": {
      "text/plain": [
       "array([7, 2, 1, ..., 4, 5, 6])"
      ]
     },
     "execution_count": 42,
     "metadata": {},
     "output_type": "execute_result"
    }
   ],
   "source": [
    "#　未知データの推定(Tanh)\n",
    "y_pred_t = nlt.predict(X_test)\n",
    "y_pred_t"
   ]
  },
  {
   "cell_type": "markdown",
   "metadata": {},
   "source": [
    "## 検証\n",
    "## 【問題2】学習曲線のプロット\n",
    "\n",
    "学習曲線をプロットしてください。\n",
    "\n",
    "ニューラルネットワークは過学習が発生しやすいため、学習曲線の確認が重要です。trainデータとvalデータに対するエポックごとの損失（交差エントロピー誤差）を記録できるようにする必要があります。"
   ]
  },
  {
   "cell_type": "code",
   "execution_count": 43,
   "metadata": {},
   "outputs": [
    {
     "data": {
      "image/png": "[encoded data removed]",
      "text/plain": [
       "<Figure size 432x288 with 1 Axes>"
      ]
     },
     "metadata": {
      "needs_background": "light"
     },
     "output_type": "display_data"
    }
   ],
   "source": [
    "#学習曲線(シグモイド)\n",
    "plt.plot(nls.loss_list, label='loss')\n",
    "plt.plot(nls.val_loss_list, label='val_loss')\n",
    "plt.xlabel('Epochs')\n",
    "plt.ylabel('Cost')\n",
    "plt.title('Cost curve (Sigmoid)')\n",
    "plt.legend()\n",
    "plt.show()"
   ]
  },
  {
   "cell_type": "code",
   "execution_count": 44,
   "metadata": {},
   "outputs": [
    {
     "data": {
      "image/png": "[encoded data removed]",
      "text/plain": [
       "<Figure size 432x288 with 1 Axes>"
      ]
     },
     "metadata": {
      "needs_background": "light"
     },
     "output_type": "display_data"
    }
   ],
   "source": [
    "#学習曲線(Tanh)\n",
    "plt.plot(nlt.loss_list, label='loss')\n",
    "plt.plot(nlt.val_loss_list, label='val_loss')\n",
    "plt.xlabel('Epochs')\n",
    "plt.ylabel('Cost')\n",
    "plt.title('Cost curve (Tanh)')\n",
    "plt.legend()\n",
    "plt.show()"
   ]
  },
  {
   "cell_type": "markdown",
   "metadata": {},
   "source": [
    "## 【問題3】指標値の算出\n",
    "\n",
    "分類に関する指標値で精度を確認してください。"
   ]
  },
  {
   "cell_type": "code",
   "execution_count": 45,
   "metadata": {},
   "outputs": [],
   "source": [
    "def evalution(y_test, y_pred):\n",
    "    '''\n",
    "     分類問題の指標値を出力する関数\n",
    " \n",
    "     Paraeters\n",
    "     -------------\n",
    "    y_test : 次の形のndarray, shape (n_samples, )\n",
    "        正解値\n",
    "    y_pred : 次の形のndarray, shape (n_samples, )\n",
    "        予測したラベル\n",
    "    '''\n",
    "    #accuracy\n",
    "    accuracy = accuracy_score(y_test, y_pred)\n",
    "    print('accuracy :', accuracy)\n",
    "\n",
    "    #precision\n",
    "    precision = precision_score(y_test, y_pred, average='macro')\n",
    "    print('precision :', precision)\n",
    "\n",
    "    #recall\n",
    "    recall = recall_score(y_test, y_pred, average='macro')\n",
    "    print('recall :', recall)\n",
    "\n",
    "    #f1\n",
    "    f1 = f1_score(y_test, y_pred, average='macro')\n",
    "    print('f1 :', f1)"
   ]
  },
  {
   "cell_type": "markdown",
   "metadata": {},
   "source": [
    "#### ・検証用データ"
   ]
  },
  {
   "cell_type": "code",
   "execution_count": 46,
   "metadata": {},
   "outputs": [
    {
     "name": "stdout",
     "output_type": "stream",
     "text": [
      "accuracy : 0.9404166666666667\n",
      "precision : 0.939896308536083\n",
      "recall : 0.9399573086558082\n",
      "f1 : 0.9398238042068199\n"
     ]
    }
   ],
   "source": [
    "#検証用データの指標値の出力(シグモイド)\n",
    "evalution(y_val, y_pred_s_val)"
   ]
  },
  {
   "cell_type": "code",
   "execution_count": 47,
   "metadata": {},
   "outputs": [
    {
     "name": "stdout",
     "output_type": "stream",
     "text": [
      "accuracy : 0.9743333333333334\n",
      "precision : 0.9741009914797821\n",
      "recall : 0.9740988125456467\n",
      "f1 : 0.9740602886075067\n"
     ]
    }
   ],
   "source": [
    "#検証用データの指標値の出力(Tanh)\n",
    "evalution(y_val, y_pred_t_val)"
   ]
  },
  {
   "cell_type": "markdown",
   "metadata": {},
   "source": [
    "#### ・未知データ"
   ]
  },
  {
   "cell_type": "code",
   "execution_count": 48,
   "metadata": {},
   "outputs": [
    {
     "name": "stdout",
     "output_type": "stream",
     "text": [
      "accuracy : 0.9412\n",
      "precision : 0.9405297299614601\n",
      "recall : 0.9404247557716798\n",
      "f1 : 0.9403679749564798\n"
     ]
    }
   ],
   "source": [
    "#未知データの指標値の出力(シグモイド)\n",
    "evalution(y_test, y_pred_s)"
   ]
  },
  {
   "cell_type": "code",
   "execution_count": 49,
   "metadata": {},
   "outputs": [
    {
     "name": "stdout",
     "output_type": "stream",
     "text": [
      "accuracy : 0.9756\n",
      "precision : 0.9754063081008768\n",
      "recall : 0.9753475833065535\n",
      "f1 : 0.975316482852711\n"
     ]
    }
   ],
   "source": [
    "#未知データの指標値の出力(Tanh)\n",
    "evalution(y_test, y_pred_t)"
   ]
  },
  {
   "cell_type": "markdown",
   "metadata": {},
   "source": [
    "活性化関数がシグモイド関数の場合とハイパポリックタンジェント関数の場合で学習曲線と精度を出力した。学習曲線は、どちらの活性化関数でも学習用と検証用の曲線は同じように下がった。しかし、最終的なlossはシグモイド関数が学習用、検証用ともにハイパポリックタンジェント関数より大きかった。\n",
    "また。検証用データと未知データの精度は、どちらもシグモイド関数よりハイパポリックタンジェント関数のほうがどの指標でも良かった。"
   ]
  },
  {
   "cell_type": "markdown",
   "metadata": {},
   "source": [
    "## （オプション）誤分類の確認\n",
    "\n",
    "誤分類した画像はどのようなものだったかを見てみましょう。推定値を用意し、以下のコードを実行してください。"
   ]
  },
  {
   "cell_type": "markdown",
   "metadata": {},
   "source": [
    "#### ・シグモイド関数"
   ]
  },
  {
   "cell_type": "code",
   "execution_count": 50,
   "metadata": {},
   "outputs": [
    {
     "data": {
      "image/png": "[encoded data removed]",
      "text/plain": [
       "<Figure size 432x432 with 36 Axes>"
      ]
     },
     "metadata": {},
     "output_type": "display_data"
    }
   ],
   "source": [
    "#シグモイド関数\n",
    "\"\"\"\n",
    "語分類結果を並べて表示する。画像の上の表示は「推定結果/正解」である。\n",
    "\n",
    "Parameters:\n",
    "----------\n",
    "y_pred : 推定値のndarray (n_samples,)\n",
    "y_val : 検証用データの正解ラベル(n_samples,)\n",
    "X_val : 検証用データの特徴量（n_samples, n_features)\n",
    "\"\"\"\n",
    "num = 36 # いくつ表示するか\n",
    "\n",
    "true_false = y_pred_s_val==y_val\n",
    "false_list = np.where(true_false==False)[0].astype(np.int)\n",
    "\n",
    "if false_list.shape[0] < num:\n",
    "    num = false_list.shape[0]\n",
    "fig = plt.figure(figsize=(6, 6))\n",
    "fig.subplots_adjust(left=0, right=0.8,  bottom=0, top=0.8, hspace=1, wspace=0.5)\n",
    "for i in range(num):\n",
    "    ax = fig.add_subplot(6, 6, i + 1, xticks=[], yticks=[])\n",
    "    ax.set_title(\"{} / {}\".format(y_pred_s_val[false_list[i]],y_val[false_list[i]]))\n",
    "    ax.imshow(X_val.reshape(-1,28,28)[false_list[i]], cmap='gray')"
   ]
  },
  {
   "cell_type": "markdown",
   "metadata": {},
   "source": [
    "#### ・ハイパポリックタンジェント関数"
   ]
  },
  {
   "cell_type": "code",
   "execution_count": 51,
   "metadata": {},
   "outputs": [
    {
     "data": {
      "image/png": "[encoded data removed]",
      "text/plain": [
       "<Figure size 432x432 with 36 Axes>"
      ]
     },
     "metadata": {},
     "output_type": "display_data"
    }
   ],
   "source": [
    "#ハイパポリックタンジェント関数\n",
    "\"\"\"\n",
    "語分類結果を並べて表示する。画像の上の表示は「推定結果/正解」である。\n",
    "\n",
    "Parameters:\n",
    "----------\n",
    "y_pred : 推定値のndarray (n_samples,)\n",
    "y_val : 検証用データの正解ラベル(n_samples,)\n",
    "X_val : 検証用データの特徴量（n_samples, n_features)\n",
    "\"\"\"\n",
    "num = 36 # いくつ表示するか\n",
    "\n",
    "true_false = y_pred_t_val==y_val\n",
    "false_list = np.where(true_false==False)[0].astype(np.int)\n",
    "\n",
    "if false_list.shape[0] < num:\n",
    "    num = false_list.shape[0]\n",
    "fig = plt.figure(figsize=(6, 6))\n",
    "fig.subplots_adjust(left=0, right=0.8,  bottom=0, top=0.8, hspace=1, wspace=0.5)\n",
    "for i in range(num):\n",
    "    ax = fig.add_subplot(6, 6, i + 1, xticks=[], yticks=[])\n",
    "    ax.set_title(\"{} / {}\".format(y_pred_t_val[false_list[i]],y_val[false_list[i]]))\n",
    "    ax.imshow(X_val.reshape(-1,28,28)[false_list[i]], cmap='gray')"
   ]
  },
  {
   "cell_type": "markdown",
   "metadata": {},
   "source": [
    "シグモイド関数とハイパポリックタンジェント関数で、36ずつ誤分類したものを出力した。あくまで個人的な印象としては、シグモイド関数で誤分類したものより、ハイパポリックタンジェント関数で誤分類したものの方が読みづらい数字が多いと感じた。精度はハイパポリックタンジェント関数の方が良かったので、比較的読みやすい数字はシグモイド関数より分類できているのではないかと思う。"
   ]
  }
 ],
 "metadata": {
  "kernelspec": {
   "display_name": "Python 3",
   "language": "python",
   "name": "python3"
  },
  "language_info": {
   "codemirror_mode": {
    "name": "ipython",
    "version": 3
   },
   "file_extension": ".py",
   "mimetype": "text/x-python",
   "name": "python",
   "nbconvert_exporter": "python",
   "pygments_lexer": "ipython3",
   "version": "3.7.2"
  },
  "varInspector": {
   "cols": {
    "lenName": 16,
    "lenType": 16,
    "lenVar": 40
   },
   "kernels_config": {
    "python": {
     "delete_cmd_postfix": "",
     "delete_cmd_prefix": "del ",
     "library": "var_list.py",
     "varRefreshCmd": "print(var_dic_list())"
    },
    "r": {
     "delete_cmd_postfix": ") ",
     "delete_cmd_prefix": "rm(",
     "library": "var_list.r",
     "varRefreshCmd": "cat(var_dic_list()) "
    }
   },
   "types_to_exclude": [
    "module",
    "function",
    "builtin_function_or_method",
    "instance",
    "_Feature"
   ],
   "window_display": false
  }
 },
 "nbformat": 4,
 "nbformat_minor": 2
}
