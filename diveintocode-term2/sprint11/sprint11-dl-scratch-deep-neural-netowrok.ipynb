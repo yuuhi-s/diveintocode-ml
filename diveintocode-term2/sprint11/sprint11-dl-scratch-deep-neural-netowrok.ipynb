{
 "cells": [
  {
   "cell_type": "markdown",
   "metadata": {},
   "source": [
    "# Sprint11課題 深層学習スクラッチディープニューラルネットワーク"
   ]
  },
  {
   "cell_type": "markdown",
   "metadata": {},
   "source": [
    "## この課題の目的\n",
    "\n",
    "- スクラッチを通してニューラルネットワークの発展的内容を理解する"
   ]
  },
  {
   "cell_type": "markdown",
   "metadata": {},
   "source": [
    "## スクラッチによる実装\n",
    "\n",
    "NumPyなど最低限のライブラリのみを使いアルゴリズムを実装していきます。\n",
    "\n",
    "前回作成した3層のニューラルネットワークを、クラスを活用することで、任意の構成に拡張しやすいコードに書き換えていきます。その上で、活性化関数や初期値、最適化手法について発展的なものを扱えるようにしていきます。\n",
    "\n",
    "このようなスクラッチを行うことで、今後各種フレームワークを利用していくにあたり、内部の動きが想像できることを目指します。"
   ]
  },
  {
   "cell_type": "markdown",
   "metadata": {},
   "source": [
    "### 新たなニューラルネットワーク分類器のクラスを作成する\n",
    "\n",
    "Sprint9で作成したものとは別に、ニューラルネットワーク分類器のクラスScratchDeepNeuralNetrowkClassifierを作成してください。"
   ]
  },
  {
   "cell_type": "markdown",
   "metadata": {},
   "source": [
    "### 層などのクラス化\n",
    "\n",
    "コーディング\n",
    "\n",
    "クラスにまとめて行くことで、構成を変更しやすい実装にしていきます。\n",
    "\n",
    "手を加える箇所\n",
    "\n",
    "- 層の数\n",
    "- 層の種類（今後は畳み込み層など他のタイプの層が登場する）\n",
    "- 活性化関数の種類\n",
    "- 重みやバイアスの初期化方法\n",
    "- 最適化手法\n",
    "\n",
    "そのために、全結合層、各種活性化関数、重みやバイアスの初期化、最適化手法それぞれのクラスを作成します。\n",
    "\n",
    "実装方法は自由ですが、簡単な例を紹介します。サンプルコード1のように全結合層と活性化関数のインスタンスを作成し、サンプルコード2,3のようにして使用する。それぞれのクラスについてはこのあと解説します。"
   ]
  },
  {
   "cell_type": "code",
   "execution_count": 1,
   "metadata": {},
   "outputs": [
    {
     "name": "stderr",
     "output_type": "stream",
     "text": [
      "Using TensorFlow backend.\n"
     ]
    }
   ],
   "source": [
    "from keras.datasets import mnist\n",
    "import matplotlib.pyplot as plt\n",
    "%matplotlib inline\n",
    "import numpy as np\n",
    "from sklearn.preprocessing import OneHotEncoder\n",
    "from sklearn.model_selection import train_test_split\n",
    "from sklearn.metrics import accuracy_score, precision_score, recall_score, f1_score"
   ]
  },
  {
   "cell_type": "code",
   "execution_count": 2,
   "metadata": {},
   "outputs": [],
   "source": [
    "(X_train, y_train), (X_test, y_test) = mnist.load_data()"
   ]
  },
  {
   "cell_type": "code",
   "execution_count": 3,
   "metadata": {},
   "outputs": [],
   "source": [
    "X_train = X_train.reshape(-1, 784)\n",
    "X_test = X_test.reshape(-1, 784)"
   ]
  },
  {
   "cell_type": "code",
   "execution_count": 4,
   "metadata": {},
   "outputs": [
    {
     "name": "stdout",
     "output_type": "stream",
     "text": [
      "1.0\n",
      "0.0\n"
     ]
    }
   ],
   "source": [
    "X_train = X_train.astype(np.float)\n",
    "X_test = X_test.astype(np.float)\n",
    "X_train /= 255\n",
    "X_test /= 255\n",
    "print(X_train.max()) # 1.0\n",
    "print(X_train.min()) # 0.0"
   ]
  },
  {
   "cell_type": "code",
   "execution_count": 5,
   "metadata": {},
   "outputs": [
    {
     "name": "stdout",
     "output_type": "stream",
     "text": [
      "(48000, 784)\n",
      "(12000, 784)\n"
     ]
    }
   ],
   "source": [
    "X_train, X_val, y_train, y_val = train_test_split(X_train, y_train, test_size=0.2)\n",
    "print(X_train.shape) # (48000, 784)\n",
    "print(X_val.shape) # (12000, 784)"
   ]
  },
  {
   "cell_type": "markdown",
   "metadata": {},
   "source": [
    "## 【問題1】全結合層のクラス化\n",
    "\n",
    "コーディング\n",
    "\n",
    "全結合層のクラスの雛形を載せました。コンストラクタで重みやバイアスの初期化をして、あとはフォワードとバックワードのメソッドを用意します。\n",
    "\n",
    "重みW、バイアスB、およびフォワード時の入力Xをインスタンス変数として保持しておくことで、煩雑な入出力は不要になります。\n",
    "\n",
    "なお、インスタンスも引数として渡すことができます。そのため、初期化方法のインスタンスinitializerをコンストラクタで受け取れば、それにより初期化が行われます。渡すインスタンスを変えれば、初期化方法が変えられます。\n",
    "\n",
    "また、引数として自身のインスタンスselfを渡すこともできます。これを利用してself = self.optimizer.update(self)という風に層の重みの更新が可能です。更新に必要な値は複数ありますが、全て全結合層が持つインスタンス変数にすることができます。\n",
    "\n",
    "初期化方法と最適化手法のクラスについては後述します。"
   ]
  },
  {
   "cell_type": "code",
   "execution_count": 6,
   "metadata": {},
   "outputs": [],
   "source": [
    "class FC:\n",
    "    \"\"\"\n",
    "    ノード数n_nodes1からn_nodes2への全結合層\n",
    "    Parameters\n",
    "    ----------\n",
    "    n_nodes1 : int\n",
    "      前の層のノード数\n",
    "    n_nodes2 : int\n",
    "      後の層のノード数\n",
    "    initializer : インスタンス\n",
    "        初期化方法のインスタンス\n",
    "    optimizer : インスタンス\n",
    "        最適化手法のインスタンス\n",
    "    \"\"\"\n",
    "    def __init__(self, n_nodes1, n_nodes2, initializer, optimizer):\n",
    "        self.optimizer = optimizer #最適化手法\n",
    "        \n",
    "        # 初期化\n",
    "        # initializerのメソッドを使い、self.Wとself.Bを初期化する\n",
    "        self.W = initializer.W(n_nodes1, n_nodes2)\n",
    "        self.B = initializer.B(n_nodes2)\n",
    "\n",
    "    \n",
    "    def forward(self, Z1):\n",
    "        \"\"\"\n",
    "        フォワードプロバケーション\n",
    "        Parameters\n",
    "        ----------\n",
    "        Z1 : 次の形のndarray, shape (batch_size, n_nodes1)\n",
    "            入力\n",
    "            \n",
    "        Returns\n",
    "        ----------\n",
    "        Z2 : 次の形のndarray, shape (batch_size, n_nodes2)\n",
    "            出力\n",
    "        \"\"\"\n",
    "        self.Z = Z1.copy()\n",
    "        #バイアスと重みを結合\n",
    "        Z2 = np.dot(Z1, self.W) + self.B\n",
    "        \n",
    "        return Z2\n",
    "    \n",
    "    \n",
    "    def backward(self, dA):\n",
    "        \"\"\"\n",
    "        バックプロバケーション\n",
    "        Parameters\n",
    "        ----------\n",
    "        dA : 次の形のndarray, shape(batch_size, n_nodes2)\n",
    "            後ろから流れてきた勾配\n",
    "            \n",
    "        Returns\n",
    "        ----------\n",
    "        dZ : 次の形のndarray, shape (batch_size, n_nodes1)\n",
    "            前に流す勾配\n",
    "        \"\"\"\n",
    "        #Zに関する損失の勾配を計算\n",
    "        self.dB = dA \n",
    "        self.dW = np.dot(self.Z.T, dA) \n",
    "        dZ = np.dot(dA, self.W.T) \n",
    "        \n",
    "        # 重み、バイアスの更新\n",
    "        self = self.optimizer.update(self)\n",
    "        \n",
    "        return dZ"
   ]
  },
  {
   "cell_type": "markdown",
   "metadata": {},
   "source": [
    "## 【問題2】初期化方法のクラス化\n",
    "\n",
    "前述のように、全結合層のコンストラクタに初期化方法のインスタンスを渡せるようにします。雛形に必要なコードを書き加えていってください。標準偏差の値（sigma）はコンストラクタで受け取るようにすることで、全結合層のクラス内にこの値（sigma）を渡さなくてすむようになります。\n",
    "\n",
    "これまで扱ってきた初期化方法はSimpleInitializerクラスと名付けることにします。"
   ]
  },
  {
   "cell_type": "code",
   "execution_count": 7,
   "metadata": {},
   "outputs": [],
   "source": [
    "class SimpleInitializer:\n",
    "    \"\"\"\n",
    "    ガウス分布によるシンプルな初期化\n",
    "    Parameters\n",
    "    ----------\n",
    "    sigma : float\n",
    "      ガウス分布の標準偏差\n",
    "    \"\"\"\n",
    "    def __init__(self, sigma):\n",
    "        self.sigma = sigma #重みパラメータ\n",
    "        \n",
    "\n",
    "    def W(self, n_nodes1, n_nodes2):\n",
    "        \"\"\"\n",
    "        重みの初期化\n",
    "        Parameters\n",
    "        ----------\n",
    "        n_nodes1 : int\n",
    "          前の層のノード数\n",
    "        n_nodes2 : int\n",
    "          後の層のノード数\n",
    "\n",
    "        Returns\n",
    "        ----------\n",
    "        W : 次の形のndarray, shape (n_nodes1, n_nodes2)\n",
    "            重み\n",
    "        \"\"\"\n",
    "        W =  self.sigma * np.random.randn(n_nodes1, n_nodes2) \n",
    "    \n",
    "        return W\n",
    "    \n",
    "    \n",
    "    def B(self, n_nodes2):\n",
    "        \"\"\"\n",
    "        バイアスの初期化\n",
    "        Parameters\n",
    "        ----------\n",
    "        n_nodes2 : int\n",
    "          後の層のノード数\n",
    "\n",
    "        Returns\n",
    "        ----------\n",
    "        B :次の形のndarray, shape (n_nodes2)\n",
    "            バイアス\n",
    "        \"\"\"\n",
    "        B = np.zeros(n_nodes2)\n",
    "        \n",
    "        return B"
   ]
  },
  {
   "cell_type": "markdown",
   "metadata": {},
   "source": [
    "## 【問題3】最適化手法のクラス化\n",
    "\n",
    "最適化手法に関しても初期化方法同様に全結合層にインスタンスとして渡します。バックワードのときにself = self.optimizer.update(self)のように更新できるようにします。こちらも雛形を用意しましたので、必要なコードを書き加えていってください。\n",
    "\n",
    "これまで扱ってきた最適化手法はSGDクラス（Stochastic Gradient Descent、確率的勾配降下法）として作成します。"
   ]
  },
  {
   "cell_type": "code",
   "execution_count": 8,
   "metadata": {},
   "outputs": [],
   "source": [
    "class SGD:\n",
    "    \"\"\"\n",
    "    確率的勾配降下法\n",
    "    Parameters\n",
    "    ----------\n",
    "    alpha : float\n",
    "        学習率\n",
    "    \"\"\"\n",
    "    def __init__(self, alpha):\n",
    "        self.alpha = alpha #学習率\n",
    "        \n",
    "\n",
    "    def update(self, layer):\n",
    "        \"\"\"\n",
    "        ある層の重みやバイアスの更新\n",
    "        Parameters\n",
    "        ----------\n",
    "        layer : インスタンス\n",
    "            更新前の層のインスタンス\n",
    "\n",
    "        Returns\n",
    "        ----------\n",
    "        layer : インスタンス\n",
    "            更新後の層のインスタンス\n",
    "        \"\"\"\n",
    "        #バッチサイズで割る\n",
    "        layer.W -= self.alpha* layer.dW / layer.dB.shape[0] #(n_nodes1, n_nodes2)\n",
    "        layer.B -= self.alpha* layer.dB.mean(axis=0) #(n_nodes2)\n",
    "        \n",
    "        return layer"
   ]
  },
  {
   "cell_type": "markdown",
   "metadata": {},
   "source": [
    "## 【問題4】活性化関数のクラス化\n",
    "\n",
    "活性化関数もクラス化を行なってください。\n",
    "\n",
    "上記サンプルコード3ではソフトマックス関数のバックプロパゲーションに交差エントロピー誤差の計算も含む実装を想定しています。"
   ]
  },
  {
   "cell_type": "code",
   "execution_count": 9,
   "metadata": {},
   "outputs": [],
   "source": [
    "class Sigmoid:\n",
    "    '''\n",
    "    シグモイド関数のクラス\n",
    "    Attributes\n",
    "    --------------\n",
    "    Z : ndarray\n",
    "        活性化関数を計算した配列\n",
    "    '''\n",
    "    def __init__(self):\n",
    "        self.Z = None #活性化関数の配列\n",
    "    \n",
    "\n",
    "    def forward(self, A):\n",
    "        '''\n",
    "        フォワードプロバケーション\n",
    "        Parameters\n",
    "        --------------\n",
    "        A : 次の形のndarray, shape (batch_size, n_nodes1)\n",
    "            特徴量ベクトルと重みとバイアスを計算したもの\n",
    "        \n",
    "        Returns\n",
    "        ---------\n",
    "        Z : 次の形のndarray, shape (batch_size, n_nodes1)\n",
    "            活性化関数を計算したもの\n",
    "        '''\n",
    "        self.Z = 1 / (1 + np.exp(-A)) \n",
    "        \n",
    "        return self.Z\n",
    "    \n",
    "    \n",
    "    def backward(self, dZ):\n",
    "        '''\n",
    "        バックプロバケーション\n",
    "        Parameters\n",
    "        --------------\n",
    "        dZ : 次の形のndarray, shape (batch_size, n_nodes1)\n",
    "            Zに関する損失Lの勾配\n",
    "        \n",
    "        Returns\n",
    "        ---------\n",
    "        dA : 次の形のndarray, shape (batch_size, n_nodes1)  \n",
    "           Aに関する損失Lの勾配 \n",
    "        '''\n",
    "        dA = dZ * (1 - self.Z) * self.Z\n",
    "        \n",
    "        return dA"
   ]
  },
  {
   "cell_type": "code",
   "execution_count": 10,
   "metadata": {},
   "outputs": [],
   "source": [
    "class Tanh:\n",
    "    '''\n",
    "    ハイパポリックタンジェント関数のクラス\n",
    "    Attributes\n",
    "    --------------\n",
    "    Z : ndarray\n",
    "        活性化関数を計算した配列\n",
    "    '''\n",
    "    def __init__(self):\n",
    "        self.Z = None #活性化関数の配列\n",
    "\n",
    "    \n",
    "    def forward(self, A):\n",
    "        '''\n",
    "        フォワードプロバケーション\n",
    "        Parameters\n",
    "        --------------\n",
    "        A : 次の形のndarray, shape (batch_size, n_nodes1)\n",
    "            特徴量ベクトルと重みとバイアスを計算したもの\n",
    "        \n",
    "        Returns\n",
    "        ---------\n",
    "        Z : 次の形のndarray, shape (batch_size, n_nodes1)\n",
    "            活性化関数を計算したもの\n",
    "        '''\n",
    "        self.Z =  np.tanh(A)\n",
    "        \n",
    "        return  self.Z\n",
    "    \n",
    "    \n",
    "    def backward(self, dZ):\n",
    "        '''\n",
    "        バックプロバケーション\n",
    "        Parameters\n",
    "        --------------\n",
    "        dZ : 次の形のndarray, shape (batch_size, n_nodes1)\n",
    "            Zに関する損失Lの勾配\n",
    "        \n",
    "        Returns\n",
    "        ---------\n",
    "        dA : 次の形のndarray, shape (batch_size, n_nodes1)  \n",
    "           Aに関する損失Lの勾配 \n",
    "        '''\n",
    "        dA = dZ * (1 - self.Z**2)\n",
    "        \n",
    "        return dA"
   ]
  },
  {
   "cell_type": "code",
   "execution_count": 11,
   "metadata": {},
   "outputs": [],
   "source": [
    "class Softmax:\n",
    "    '''\n",
    "    ソフトマックス関数のクラス\n",
    "    Attributes\n",
    "    --------------\n",
    "    Z : ndarray\n",
    "        活性化関数を計算した配列\n",
    "    '''\n",
    "    def __init__(self):\n",
    "        self.Z = None #活性化関数の配列\n",
    "    \n",
    "    \n",
    "    def forward(self, A):\n",
    "        '''\n",
    "        フォワードプロバケーション\n",
    "        Parameters\n",
    "        --------------\n",
    "        A : 次の形のndarray, shape (batch_size, n_output)\n",
    "            特徴量ベクトルと重みとバイアスを計算したもの\n",
    "        \n",
    "        Returns\n",
    "        ---------\n",
    "        Z : 次の形のndarray, shape (batch_size, n_output)\n",
    "            ソフトマックス関数の計算結果\n",
    "        '''\n",
    "        #オーバーフロー対策\n",
    "        c = np.max(A)\n",
    "        exp_A = np.exp(A - c)\n",
    "        \n",
    "        #分母\n",
    "        sum_exp_A = np.sum(exp_A, axis=1).reshape(-1, 1)\n",
    "\n",
    "        self.Z = exp_A / sum_exp_A\n",
    "        \n",
    "        return self.Z\n",
    "\n",
    "    \n",
    "    def backward(self, y):\n",
    "        '''\n",
    "        バックプロバケーション\n",
    "        Parameters\n",
    "        --------------\n",
    "        y : 次の形のndarray, shape (batch_size, n_output)\n",
    "            正解ラベルのベクトル\n",
    "        Z : 次の形のndarray, shape (batch_size, n_output)\n",
    "            フォワードプロバケーションの出力\n",
    "        \n",
    "        Returns\n",
    "        ---------\n",
    "        dA : 次の形のndarray, shape (batch_size, n_nodes1)  \n",
    "           Aに関する損失Lの勾配 \n",
    "        '''\n",
    "        #交差エントロピー誤差の計算\n",
    "        loss_sum = np.sum(y * np.log(self.Z), axis=1)\n",
    "        loss = -np.mean(loss_sum)\n",
    "        \n",
    "        #勾配の計算\n",
    "        dA = self.Z - y\n",
    "        \n",
    "        return dA, loss"
   ]
  },
  {
   "cell_type": "markdown",
   "metadata": {},
   "source": [
    "## 【問題5】ReLUクラスの作成\n",
    "\n",
    "現在一般的に使われている活性化関数であるReLU（Rectified Linear Unit）をReLUクラスとして実装します。\n",
    "\n",
    "ReLUは以下の数式です。\n",
    "\n",
    "$$\n",
    "% <![CDATA[\n",
    "f(x) = ReLU(x) = \\begin{cases}\n",
    "x  & \\text{if $x>0$,}\\\\\n",
    "0 & \\text{if $x\\leqq0$.}\n",
    "\\end{cases} %]]>\n",
    "$$"
   ]
  },
  {
   "cell_type": "markdown",
   "metadata": {},
   "source": [
    "$x$ : ある特徴量。スカラー\n",
    "\n",
    "実装上はnp.maximumを使い配列に対してまとめて計算が可能です。\n",
    "\n",
    "[numpy.maximum — NumPy v1.15 Manual](https://docs.scipy.org/doc/numpy-1.15.0/reference/generated/numpy.maximum.html)\n",
    "\n",
    "一方、バックプロパゲーションのための $x$ に関する $f(x)$ の微分は以下のようになります。\n",
    "\n",
    "$$\n",
    "% <![CDATA[\n",
    "\\frac{\\partial f(x)}{\\partial x} = \\begin{cases}\n",
    "1  & \\text{if $x>0$,}\\\\\n",
    "0 & \\text{if $x\\leqq0$.}\n",
    "\\end{cases} %]]>\n",
    "$$\n",
    "\n",
    "数学的には微分可能ではないですが、 $x=0$ のとき $0$ とすることで対応しています。\n",
    "\n",
    "フォワード時の $x$ の正負により、勾配を逆伝播するかどうかが決まるということになります。"
   ]
  },
  {
   "cell_type": "code",
   "execution_count": 12,
   "metadata": {},
   "outputs": [],
   "source": [
    "class Relu:\n",
    "    '''\n",
    "    ReLU関数のクラス\n",
    "    Attributes\n",
    "    --------------\n",
    "    X : ndarray\n",
    "        特徴量ベクトルと重みとバイアスを計算した配列\n",
    "    '''\n",
    "    def __init__(self):\n",
    "        self.X = None #特徴量ベクトルと重みとバイアスを計算した配列\n",
    "\n",
    "    \n",
    "    def forward(self, A):\n",
    "        '''\n",
    "        フォワードプロバケーション\n",
    "        Parameters\n",
    "        --------------\n",
    "        A : 次の形のndarray, shape (batch_size, n_nodes1)\n",
    "            特徴量ベクトルと重みとバイアスを計算したもの\n",
    "        \n",
    "        Returns\n",
    "        ---------\n",
    "        Z : 次の形のndarray, shape (batch_size, n_nodes1)\n",
    "            活性化関数を計算したもの\n",
    "        '''\n",
    "        self.X = A.copy()\n",
    "        \n",
    "        #Aが0以下なら0にする\n",
    "        Z = np.maximum(0, A)\n",
    "        \n",
    "        return Z\n",
    "    \n",
    "    \n",
    "    def backward(self, dZ):\n",
    "        '''\n",
    "        バックプロバケーション\n",
    "        Parameters\n",
    "        --------------\n",
    "        dZ : 次の形のndarray, shape (batch_size, n_nodes1)\n",
    "            Zに関する損失Lの勾配\n",
    "        \n",
    "        Returns\n",
    "        ---------\n",
    "        dA : 次の形のndarray, shape (batch_size, n_nodes1)  \n",
    "           Aに関する損失Lの勾配 \n",
    "        '''\n",
    "        #forwardで0以下の部分を0にする\n",
    "        dA = np.where(self.X > 0, dZ, 0)\n",
    "\n",
    "        return dA"
   ]
  },
  {
   "cell_type": "markdown",
   "metadata": {},
   "source": [
    "## 【問題6】重みの初期値\n",
    "\n",
    "ここまでは重みやバイアスの初期値は単純にガウス分布で、標準偏差をハイパーパラメータとして扱ってきました。しかし、一般的に良い初期値の取り方が知られています。\n",
    "\n",
    "シグモイド関数やハイパボリックタンジェント関数のときはXavierの初期値（またはGlorotの初期値）、ReLUのときはHeの初期値が使われます。\n",
    "\n",
    "XavierInitializerクラスと、HeInitializerクラスを作成します。\n",
    "\n",
    "それぞれの初期化方法における $\\sigma$ は次の式で求められます。\n",
    "\n",
    "「Xavierの初期値」\n",
    "\n",
    "$$\n",
    "\\sigma = \\frac{1}{\\sqrt{n}}\n",
    "$$\n",
    "\n",
    "$n$ : 前の層のノード数\n",
    "\n",
    "（論文）\n",
    "\n",
    "[Glorot, X., & Bengio, Y. (n.d.). Understanding the difficulty of training deep feedforward neural networks.](http://proceedings.mlr.press/v9/glorot10a/glorot10a.pdf)"
   ]
  },
  {
   "cell_type": "code",
   "execution_count": 13,
   "metadata": {},
   "outputs": [],
   "source": [
    "class XavierInitializer:\n",
    "    \"\"\"\n",
    "    Xavierの初期値のクラス\n",
    "    \"\"\"\n",
    "    def __init__(self):\n",
    "        pass\n",
    "        \n",
    "\n",
    "    def W(self, n_nodes1, n_nodes2):\n",
    "        \"\"\"\n",
    "        重みの初期化\n",
    "        Parameters\n",
    "        ----------\n",
    "        n_nodes1 : int\n",
    "          前の層のノード数\n",
    "        n_nodes2 : int\n",
    "          後の層のノード数\n",
    "\n",
    "        Returns\n",
    "        ----------\n",
    "        W : 次の形のndarray, shape (n_nodes1, n_nodes2)\n",
    "            重み\n",
    "        \"\"\"\n",
    "        W = np.random.randn(n_nodes1, n_nodes2) / np.sqrt(n_nodes1) #(n_nodes1, n_nodes2)\n",
    "    \n",
    "        return W\n",
    "    \n",
    "    \n",
    "    def B(self, n_nodes2):\n",
    "        \"\"\"\n",
    "        バイアスの初期化\n",
    "        Parameters\n",
    "        ----------\n",
    "        n_nodes2 : int\n",
    "          後の層のノード数\n",
    "\n",
    "        Returns\n",
    "        ----------\n",
    "        B : 次の形のndarray, shape (n_nodes2, )\n",
    "            バイアス\n",
    "        \"\"\"\n",
    "        B = np.zeros(n_nodes2) #(n_nodes2)\n",
    "        \n",
    "        return B"
   ]
  },
  {
   "cell_type": "markdown",
   "metadata": {},
   "source": [
    "「Heの初期値」\n",
    "\n",
    "$$\n",
    "\\sigma = \\sqrt{\\frac{2}{n}}\n",
    "$$\n",
    "\n",
    "$n$ : 前の層のノード数\n",
    "\n",
    "（論文）\n",
    "\n",
    "[He, K., Zhang, X., Ren, S., & Sun, J. (2015). Delving Deep into Rectifiers: Surpassing Human-Level Performance on ImageNet Classification.](https://arxiv.org/pdf/1502.01852.pdf)"
   ]
  },
  {
   "cell_type": "code",
   "execution_count": 14,
   "metadata": {},
   "outputs": [],
   "source": [
    "class HeInitializer:\n",
    "    \"\"\"\n",
    "    Heの初期値のクラス\n",
    "    \"\"\"\n",
    "    def __init__(self):\n",
    "        pass\n",
    "        \n",
    "\n",
    "    def W(self, n_nodes1, n_nodes2):\n",
    "        \"\"\"\n",
    "        重みの初期化\n",
    "        Parameters\n",
    "        ----------\n",
    "        n_nodes1 : int\n",
    "          前の層のノード数\n",
    "        n_nodes2 : int\n",
    "          後の層のノード数\n",
    "\n",
    "        Returns\n",
    "        ----------\n",
    "        W : 次の形のndarray, shape (n_nodes1, n_nodes2)\n",
    "            重み\n",
    "        \"\"\"\n",
    "        W = np.random.randn(n_nodes1, n_nodes2) * np.sqrt(2 / n_nodes1)\n",
    "    \n",
    "        return W\n",
    "    \n",
    "    \n",
    "    def B(self, n_nodes2):\n",
    "        \"\"\"\n",
    "        バイアスの初期化\n",
    "        Parameters\n",
    "        ----------\n",
    "        n_nodes2 : int\n",
    "          後の層のノード数\n",
    "\n",
    "        Returns\n",
    "        ----------\n",
    "        B : 次の形のndarray, shape (n_nodes2, )\n",
    "            バイアス\n",
    "        \"\"\"\n",
    "        B = np.zeros(n_nodes2) \n",
    "        \n",
    "        return B"
   ]
  },
  {
   "cell_type": "markdown",
   "metadata": {},
   "source": [
    "## 【問題7】最適化手法\n",
    "\n",
    "コーディング\n",
    "\n",
    "学習率は学習の良し悪しにとって重要なハイパーパラメータであり、これを学習過程で変化させていく方法が現在では一般的です。様々な手法が提案されていますが、今回はその中でも基本的な、AdaGradを実装します。\n",
    "\n",
    "まず、これまで使ってきたSGDを確認します。\n",
    "\n",
    "$$\n",
    "W_i^{\\prime} = W_i - \\alpha E(\\frac{\\partial L}{\\partial W_i}) \n",
    "$$"
   ]
  },
  {
   "cell_type": "markdown",
   "metadata": {},
   "source": [
    "$$\n",
    "B_i^{\\prime} = B_i - \\alpha E(\\frac{\\partial L}{\\partial B_i})\n",
    "$$\n",
    "\n",
    "$\\alpha$ : 学習率（層ごとに変えることも可能だが、基本的には全て同じとする）\n",
    "\n",
    "$\\frac{\\partial L}{\\partial W_i}$ : $W_i$ に関する損失 $L$ の勾配\n",
    "\n",
    "$\\frac{\\partial L}{\\partial B_i}$ : $B_i$ に関する損失 $L$ の勾配\n",
    "\n",
    "$E()$ : ミニバッチ方向にベクトルの平均を計算\n",
    "\n",
    "続いて、AdaGradです。バイアスの数式は省略しますが、重みと同様のことをします。\n",
    "\n",
    "更新された分だけその重みに対する学習率を徐々に下げていきます。イテレーションごとの勾配の二乗和 $H$ を保存しておき、その分だけ学習率を小さくします。\n",
    "\n",
    "学習率は重み一つひとつに対して異なることになります。"
   ]
  },
  {
   "cell_type": "markdown",
   "metadata": {},
   "source": [
    "$$\n",
    "H_i^{\\prime}  = H_i+E(\\frac{\\partial L}{\\partial W_i})×E(\\frac{\\partial L}{\\partial W_i})\n",
    "$$"
   ]
  },
  {
   "cell_type": "markdown",
   "metadata": {},
   "source": [
    "$$\n",
    "W_i^{\\prime} = W_i - \\alpha \\frac{1}{\\sqrt{H_i^{\\prime} }} E(\\frac{\\partial L}{\\partial W_i}) \n",
    "$$\n",
    "\n",
    "$H_i$  : $i$層目に関して、前のイテレーションまでの勾配の二乗和（初期値は0）\n",
    "\n",
    "$H_i^{\\prime}$ : 更新した $H_i$\n",
    "\n",
    "AdaGradクラスを作成し、上記の数式にもとづいて実装してください。\n",
    "\n",
    "（論文）\n",
    "\n",
    "[Duchi JDUCHI, J., & Singer, Y. (2011). Adaptive Subgradient Methods for Online Learning and Stochastic Optimization * Elad Hazan. Journal of Machine Learning Research (Vol. 12).](http://www.jmlr.org/papers/volume12/duchi11a/duchi11a.pdf)"
   ]
  },
  {
   "cell_type": "code",
   "execution_count": 15,
   "metadata": {},
   "outputs": [],
   "source": [
    "class AdaGrad:\n",
    "    \"\"\"\n",
    "    AdaGradの最適化のクラス\n",
    "    Parameters\n",
    "    ----------\n",
    "    alpha : 学習率\n",
    "    \n",
    "    Attributes\n",
    "    -------------\n",
    "    H_W : ndarray\n",
    "        前のイテレーションまでの重みの勾配の二乗和\n",
    "    H_B : ndarray\n",
    "        前のイテレーションまでのバイアスの勾配の二乗和\n",
    "    \"\"\"\n",
    "    def __init__(self, alpha):\n",
    "        #ハイパーパラメータ\n",
    "        self.alpha = alpha #学習率\n",
    "        \n",
    "        #インスタンス変数\n",
    "        self.H_W= None #重みの勾配の二乗和の配列\n",
    "        self.H_B = None #バイアスの勾配の二乗和の配列\n",
    "        \n",
    "\n",
    "    def update(self, layer):\n",
    "        \"\"\"\n",
    "        ある層の重みやバイアスの更新\n",
    "        Parameters\n",
    "        ----------\n",
    "        layer : インスタンス\n",
    "            更新前の層のインスタンス\n",
    "\n",
    "        Returns\n",
    "        ----------\n",
    "        layer : インスタンス\n",
    "            更新後の層のインスタンス\n",
    "        \"\"\"\n",
    "        #self.Hの初期化\n",
    "        if self.H_W is None:\n",
    "            self.H_W = np.zeros(layer.W.shape)\n",
    "        if self.H_B is None:\n",
    "            self.H_B = np.zeros(layer.B.shape)\n",
    "        \n",
    "        #更新    \n",
    "        self.H_W += (layer.dW / layer.dB.shape[0]) ** 2 #重みの勾配の二乗和\n",
    "        self.H_B += (layer.dB.mean(axis=0)) ** 2 #バイアスの二乗和\n",
    "        layer.W -= self.alpha / np.sqrt(self.H_W + 1e-7) * layer.dW / layer.dB.shape[0] #重み\n",
    "        layer.B -= self.alpha / np.sqrt(self.H_B + 1e-7) * layer.dB.mean(axis=0) #バイアス \n",
    "        \n",
    "        return layer"
   ]
  },
  {
   "cell_type": "markdown",
   "metadata": {},
   "source": [
    "### クラスの結合"
   ]
  },
  {
   "cell_type": "code",
   "execution_count": 16,
   "metadata": {},
   "outputs": [],
   "source": [
    "import numpy as np\n",
    "\n",
    "class ScratchDeepNeuralNetrowkClassifier():\n",
    "    \"\"\"\n",
    "    ニューラルネットワーク分類器\n",
    "\n",
    "    Parameters\n",
    "    --------------\n",
    "    epoc : int\n",
    "        エポック数\n",
    "    activaiton : {'sigmoid', 'tanh', 'relu'} default 'relu'\n",
    "        活性化関数の種類\n",
    "    solver :  {'sgd', 'adagrad'}, default 'adam'\n",
    "        最適化手法の種類\n",
    "    alpha : float\n",
    "        学習率\n",
    "    batch_size : int\n",
    "        バッチサイズ\n",
    "    initial : {'simple', 'xavier', 'he'} default 'he'\n",
    "        重みの初期化方法\n",
    "    sigma : float\n",
    "        重みパラメータ(ガウス分布の標準偏差)\n",
    "    n_nodes1 : int\n",
    "        1層目の数\n",
    "    n_nodes2 : int\n",
    "        2層目の数\n",
    "    n_output : int\n",
    "        出力層の数\n",
    "    verbose : bool\n",
    "        学習過程の出力の有無\n",
    "        \n",
    "    Attributes\n",
    "    -------------\n",
    "    FC1 :  インスタンス\n",
    "        結合層のインスタンス\n",
    "    FC2 :   インスタンス\n",
    "        結合層のインスタンス\n",
    "    FC3 :   インスタンス\n",
    "        結合層のインスタンス\n",
    "    activation1 : インスタンス\n",
    "        活性化関数のインスタンス\n",
    "    activation2 : インスタンス\n",
    "        活性化関数のインスタンス\n",
    "    activation3 : インスタンス\n",
    "        活性化関数のインスタンス\n",
    "    loss_list : list\n",
    "        学習用データの損失を記録するリスト\n",
    "    val_loss_list : list\n",
    "        検証用データの損失を記録するリスト\n",
    "    \"\"\"\n",
    "    def __init__(self, epoc=20, activation='relu', solver='adagrad', alpha=0.005,\n",
    "                             batch_size=10, initial='he', sigma=0.01, n_nodes1=400, \n",
    "                             n_nodes2=200, verbose=True):\n",
    "        #ハイパーパラメータ \n",
    "        self.epoc            = epoc              #エポック数\n",
    "        self.activation   = activation     #活性化関数\n",
    "        self.solver          = solver            #最適化の手法\n",
    "        self.alpha           = alpha             #学習率\n",
    "        self.batch_size = batch_size   #バッチサイズ\n",
    "        self.initial           = initial             #重みの初期化方法\n",
    "        self.sigma          = sigma            #重みパラメータ\n",
    "        self.n_nodes1   = n_nodes1    #1層目のノード数\n",
    "        self.n_nodes2   = n_nodes2    #2層目のノード数\n",
    "        self.verbose      = verbose        #学習過程の出力(True : 有, False : 無)\n",
    "        \n",
    "        #インスタンス変数\n",
    "        self.FC1                = None #結合層のインスタンス\n",
    "        self.FC2                = None #結合層のインスタンス\n",
    "        self.FC3                = None #結合層のインスタンス\n",
    "        self.activation1   = None #活性化関数のインスタンス\n",
    "        self.activation2   = None #活性化関数のインスタンス\n",
    "        self.activation3   = None #活性化関数のインスタンス\n",
    "        self.loss_list        = None　#学習用データの損失を記録する配列\n",
    "        self.val_loss_list = None　#検証用データの損失を記録する配列\n",
    "            \n",
    "    \n",
    "    def fit(self, X, y, X_val=None, y_val=None):\n",
    "        \"\"\"\n",
    "        ニューラルネットワーク分類器を学習する。\n",
    "\n",
    "        Parameters\n",
    "        ----------\n",
    "        X : 次の形のndarray, shape (n_samples, n_features)\n",
    "            学習用データの特徴量\n",
    "        y : 次の形のndarray, shape (n_samples, )\n",
    "            学習用データの正解値\n",
    "        X_val : 次の形のndarray, shape (n_samples, n_features)\n",
    "            検証用データの特徴量\n",
    "        y_val : 次の形のndarray, shape (n_samples, )\n",
    "            検証用データの正解値\n",
    "        \"\"\"\n",
    "        #1次元なら2次元にする\n",
    "        if X.ndim == 1:\n",
    "            X = X[:, np.newaxis]\n",
    "        if y.ndim == 1:\n",
    "            y = y[:, np.newaxis]\n",
    "            \n",
    "        #one_hotエンコーディング\n",
    "        n_output = np.unique(y).shape[0]\n",
    "        y_onehot = self._one_hot(y, n_output)\n",
    "        \n",
    "        #ミニバッチを取得するクラスをインスタンス化\n",
    "        train_mini_batch = GetMiniBatch(X, y_onehot, self.batch_size)\n",
    "        \n",
    "        #valがあるとき\n",
    "        if X_val is not None and y_val is not None:\n",
    "            \n",
    "            #1次元なら2次元にする\n",
    "            if X.ndim == 1:\n",
    "                X_val = X_val[:, np.newaxis]\n",
    "            if y_val.ndim == 1:\n",
    "                y_val = y_val[:, np.newaxis]\n",
    "            \n",
    "            #one-hotエンコーディング\n",
    "            y_val_onehot = self._one_hot(y_val, n_output) \n",
    "            \n",
    "            #インスタンス化\n",
    "            test_mini_batch = GetMiniBatch(X_val, y_val_onehot)\n",
    "        \n",
    "        \n",
    "        #活性化関数の選択\n",
    "        if self.activation == 'sigmoid':\n",
    "            activate1 = Sigmoid()\n",
    "            activate2 = Sigmoid()\n",
    "        elif self.activation == 'tanh':\n",
    "            activate1 = Tanh()\n",
    "            activate2 = Tanh()\n",
    "        elif self.activation == 'relu':\n",
    "            activate1 = Relu()\n",
    "            activate2 = Relu()\n",
    "        \n",
    "        #最適化手法の選択\n",
    "        if self.solver == 'sgd':\n",
    "            optimizer1 = SGD(self.alpha)\n",
    "            optimizer2 = SGD(self.alpha)\n",
    "            optimizer3 = SGD(self.alpha) \n",
    "        elif self.solver == 'adagrad':\n",
    "            optimizer1 = AdaGrad(self.alpha)\n",
    "            optimizer2 = AdaGrad(self.alpha)\n",
    "            optimizer3 = AdaGrad(self.alpha)\n",
    "            \n",
    "        #重みの初期化方法の選択\n",
    "        if self.initial == 'simple':\n",
    "            initializer1 = SimpleInitializer(self.sigma)\n",
    "            initializer2 = SimpleInitializer(self.sigma)\n",
    "            initializer3 = SimpleInitializer(self.sigma)\n",
    "        elif self.initial == 'xavier':\n",
    "            initializer1 = XavierInitializer()\n",
    "            initializer2 = XavierInitializer()\n",
    "            initializer3 = XavierInitializer()\n",
    "        elif self.initial == 'he':\n",
    "            initializer1 = HeInitializer()\n",
    "            initializer2 = HeInitializer()\n",
    "            initializer3 = HeInitializer()\n",
    "        \n",
    "        #結合層および活性化関数クラスのインスタンス化\n",
    "        self.FC1 = FC(X.shape[1], self.n_nodes1, initializer1, optimizer1) #第1層\n",
    "        self.activation1 = activate1\n",
    "        self.FC2 = FC(self.n_nodes1, self.n_nodes2, initializer2, optimizer2) #第2層\n",
    "        self.activation2 = activate2\n",
    "        self.FC3 = FC(self.n_nodes2, y_onehot.shape[1], initializer3, optimizer3) #第3層\n",
    "        self.activation3 = Softmax()\n",
    "\n",
    "        #損失を記録するリスト(エポックごと)\n",
    "        self.loss_list = []\n",
    "        self.val_loss_list= []\n",
    "        \n",
    "        #エポック数だけ繰り返す\n",
    "        for i in range(self.epoc):\n",
    "            \n",
    "            #イテレーション数実行\n",
    "            for mini_X_train, mini_y_train in train_mini_batch:\n",
    "                \n",
    "                #フォワードプロバケーション\n",
    "                A1 = self.FC1.forward(mini_X_train) #1層目\n",
    "                Z1 = self.activation1.forward(A1)      #1層目\n",
    "                A2 = self.FC2.forward(Z1)                   #2層目\n",
    "                Z2 = self.activation2.forward(A2)      #2層目\n",
    "                A3 = self.FC3.forward(Z2)                  #3層目\n",
    "                Z3 = self.activation3.forward(A3)     #3層目\n",
    "\n",
    "                #バックプロバケーション\n",
    "                dA3, loss = self.activation3.backward(mini_y_train) #3層目\n",
    "                dZ2 = self.FC3.backward(dA3)              #3層目\n",
    "                dA2 = self.activation2.backward(dZ2) #2層目\n",
    "                dZ1 = self.FC2.backward(dA2)              #2層目\n",
    "                dA1 = self.activation1.backward(dZ1) #1層目\n",
    "                dZ0 = self.FC1.backward(dA1)              #1層目\n",
    "                \n",
    "            #1エポックの損失をリストに格納\n",
    "            self.loss_list.append(loss)\n",
    "\n",
    "            #valがあるときもイテレーション数実行\n",
    "            if X_val is not None and y_val is not None:\n",
    "                for mini_X_val, mini_y_val in test_mini_batch:\n",
    "\n",
    "                    #確率を予測\n",
    "                    A1 = self.FC1.forward(mini_X_val)\n",
    "                    Z1 = self.activation1.forward(A1)\n",
    "                    A2 = self.FC2.forward(Z1)\n",
    "                    Z2 = self.activation2.forward(A2)\n",
    "                    A3 = self.FC3.forward(Z2)\n",
    "                    Z3 = self.activation3.forward(A3)\n",
    "                    \n",
    "                    #損失を計算\n",
    "                    dA3, val_loss = self.activation3.backward(mini_y_val) \n",
    "\n",
    "                #1エポックの損失をリストに格納\n",
    "                self.val_loss_list.append(val_loss)\n",
    "\n",
    "            #学習過程を出力する場合\n",
    "            if self.verbose == True:\n",
    "                print('学習用データの学習過程' + str(i + 1) + 'epoc目 : ' + str(self.loss_list[i]))\n",
    "\n",
    "                #検証用データあり\n",
    "                if X_val is not None or y_val is not None:\n",
    "                    print('検証用データの学習過程' + str(i + 1) + 'epoc目 : ' + str(self.val_loss_list[i]))\n",
    "                    \n",
    "                \n",
    "    def predict(self, X):\n",
    "        \"\"\"\n",
    "        ニューラルネットワーク分類器を使い推定する。\n",
    "\n",
    "        Parameters\n",
    "        ----------\n",
    "        X : 次の形のndarray, shape (n_samples, n_features)\n",
    "            サンプル\n",
    "\n",
    "        Returns\n",
    "        -------\n",
    "        次の形のndarray, shape (n_samples, 1)\n",
    "            推定結果\n",
    "        \"\"\"\n",
    "        #推定\n",
    "        A1 = self.FC1.forward(X)\n",
    "        Z1 = self.activation1.forward(A1)\n",
    "        A2 = self.FC2.forward(Z1)\n",
    "        Z2 = self.activation2.forward(A2)\n",
    "        A3 = self.FC3.forward(Z2)\n",
    "        y_pred = self.activation3.forward(A3)\n",
    "        \n",
    "        return np.argmax(y_pred, axis=1)\n",
    "            \n",
    "\n",
    "    def _one_hot(self, y, n_output):\n",
    "        '''\n",
    "        one-hotエンコーディングを行う関数\n",
    "       \n",
    "       Parameters\n",
    "        ---------------\n",
    "        y : 次の形のndarray, shape (n_features, 1)\n",
    "            正解ラベルのベクトル\n",
    "        n_output : int\n",
    "            正解ラベルのユニーク値\n",
    "            \n",
    "        Returns\n",
    "        ----------\n",
    "        one_hot.T : 次の形のndarray, shape (n_features, n_output)\n",
    "        '''\n",
    "        #0配列を用意\n",
    "        one_hot = np.zeros((n_output, y.shape[0]))\n",
    "        \n",
    "        #0配列の該当する位置に1を挿入\n",
    "        for idx, val in enumerate(y.astype(int)):\n",
    "            one_hot[val, idx] = 1\n",
    "\n",
    "        return one_hot.T"
   ]
  },
  {
   "cell_type": "code",
   "execution_count": 17,
   "metadata": {},
   "outputs": [],
   "source": [
    "class GetMiniBatch:\n",
    "    \"\"\"\n",
    "    ミニバッチを取得するイテレータ\n",
    "\n",
    "    Parameters\n",
    "    ----------\n",
    "    X : 次の形のndarray, shape (n_samples, n_features)\n",
    "      学習データ\n",
    "    y : 次の形のndarray, shape (n_samples, 1)\n",
    "      正解値\n",
    "    batch_size : int\n",
    "      バッチサイズ\n",
    "    seed : int\n",
    "      NumPyの乱数のシード\n",
    "    \"\"\"\n",
    "    def __init__(self, X, y, batch_size = 10, seed=0):\n",
    "        self.batch_size = batch_size\n",
    "        np.random.seed(seed)\n",
    "        shuffle_index = np.random.permutation(np.arange(X.shape[0]))\n",
    "        self.X = X[shuffle_index]\n",
    "        self.y = y[shuffle_index]\n",
    "        self._stop = np.ceil(X.shape[0]/self.batch_size).astype(np.int)\n",
    "\n",
    "    def __len__(self):\n",
    "        return self._stop\n",
    "\n",
    "    def __getitem__(self,item):\n",
    "        p0 = item*self.batch_size\n",
    "        p1 = item*self.batch_size + self.batch_size\n",
    "        return self.X[p0:p1], self.y[p0:p1]        \n",
    "\n",
    "    def __iter__(self):\n",
    "        self._counter = 0\n",
    "        return self\n",
    "\n",
    "    def __next__(self):\n",
    "        if self._counter >= self._stop:\n",
    "            raise StopIteration()\n",
    "        p0 = self._counter*self.batch_size\n",
    "        p1 = self._counter*self.batch_size + self.batch_size\n",
    "        self._counter += 1\n",
    "        return self.X[p0:p1], self.y[p0:p1]"
   ]
  },
  {
   "cell_type": "markdown",
   "metadata": {},
   "source": [
    "### 検証1\n",
    "- 活性化関数 : シグモイド\n",
    "- 最適化手法 : AdaGrad\n",
    "- 重みの初期値 : Xavier"
   ]
  },
  {
   "cell_type": "code",
   "execution_count": 18,
   "metadata": {
    "scrolled": false
   },
   "outputs": [
    {
     "name": "stdout",
     "output_type": "stream",
     "text": [
      "学習用データの学習過程1epoc目 : 0.2995401941640431\n",
      "検証用データの学習過程1epoc目 : 0.12252554373211619\n",
      "学習用データの学習過程2epoc目 : 0.2501265793978796\n",
      "検証用データの学習過程2epoc目 : 0.10282500502274394\n",
      "学習用データの学習過程3epoc目 : 0.22587559633598814\n",
      "検証用データの学習過程3epoc目 : 0.09307102544917259\n",
      "学習用データの学習過程4epoc目 : 0.21037407359245403\n",
      "検証用データの学習過程4epoc目 : 0.08542246642597061\n",
      "学習用データの学習過程5epoc目 : 0.19927762904569787\n",
      "検証用データの学習過程5epoc目 : 0.07860115602154498\n",
      "学習用データの学習過程6epoc目 : 0.19081981340303605\n",
      "検証用データの学習過程6epoc目 : 0.07230498436643584\n",
      "学習用データの学習過程7epoc目 : 0.1841180753125506\n",
      "検証用データの学習過程7epoc目 : 0.06646314722441446\n",
      "学習用データの学習過程8epoc目 : 0.17867397575763172\n",
      "検証用データの学習過程8epoc目 : 0.06106896974380871\n",
      "学習用データの学習過程9epoc目 : 0.17417884298192185\n",
      "検証用データの学習過程9epoc目 : 0.056128943217030755\n",
      "学習用データの学習過程10epoc目 : 0.17042576898763456\n",
      "検証用データの学習過程10epoc目 : 0.05164379859185231\n",
      "学習用データの学習過程11epoc目 : 0.1672663381711564\n",
      "検証用データの学習過程11epoc目 : 0.047602421573324886\n",
      "学習用データの学習過程12epoc目 : 0.16458829646534218\n",
      "検証用データの学習過程12epoc目 : 0.04398218517560682\n",
      "学習用データの学習過程13epoc目 : 0.16230352353604743\n",
      "検証用データの学習過程13epoc目 : 0.04075210459245768\n",
      "学習用データの学習過程14epoc目 : 0.16034118248080906\n",
      "検証用データの学習過程14epoc目 : 0.037876580448454364\n",
      "学習用データの学習過程15epoc目 : 0.15864352429722914\n",
      "検証用データの学習過程15epoc目 : 0.03531860055549015\n",
      "学習用データの学習過程16epoc目 : 0.15716310180814286\n",
      "検証用データの学習過程16epoc目 : 0.033042033049326104\n",
      "学習用データの学習過程17epoc目 : 0.15586077480517863\n",
      "検証用データの学習過程17epoc目 : 0.031013047862053028\n",
      "学習用データの学習過程18epoc目 : 0.1547041949232104\n",
      "検証用データの学習過程18epoc目 : 0.029200856436181782\n",
      "学習用データの学習過程19epoc目 : 0.15366660854962466\n",
      "検証用データの学習過程19epoc目 : 0.027577979051739136\n",
      "学習用データの学習過程20epoc目 : 0.15272588897182424\n",
      "検証用データの学習過程20epoc目 : 0.026120214617159236\n"
     ]
    }
   ],
   "source": [
    "#予測\n",
    "sdn1 = ScratchDeepNeuralNetrowkClassifier(activation='sigmoid', solver='adagrad', initial='xavier')\n",
    "\n",
    "sdn1.fit(X_train, y_train, X_val, y_val)"
   ]
  },
  {
   "cell_type": "code",
   "execution_count": 19,
   "metadata": {},
   "outputs": [],
   "source": [
    "y_pred1 = sdn1.predict(X_test)"
   ]
  },
  {
   "cell_type": "code",
   "execution_count": 20,
   "metadata": {},
   "outputs": [],
   "source": [
    "def cost_curve(loss, val_loss):\n",
    "    plt.plot(loss)\n",
    "    plt.plot(val_loss)\n",
    "    plt.xlabel('Epochs')\n",
    "    plt.ylabel('Cost')\n",
    "    plt.title('Cost curve')\n",
    "    plt.show()"
   ]
  },
  {
   "cell_type": "code",
   "execution_count": 21,
   "metadata": {},
   "outputs": [
    {
     "data": {
      "image/png": "[encoded data removed]",
      "text/plain": [
       "<Figure size 432x288 with 1 Axes>"
      ]
     },
     "metadata": {
      "needs_background": "light"
     },
     "output_type": "display_data"
    }
   ],
   "source": [
    "cost_curve(sdn1.loss_list, sdn1.val_loss_list)"
   ]
  },
  {
   "cell_type": "code",
   "execution_count": 22,
   "metadata": {},
   "outputs": [],
   "source": [
    "def evalution(y_test, y_pred):\n",
    "    '''\n",
    "     分類問題の指標値を出力する関数\n",
    " \n",
    "     Paraeters\n",
    "     -------------\n",
    "    y_test : 次の形のndarray, shape (n_samples, )\n",
    "        正解値\n",
    "    y_pred : 次の形のndarray, shape (n_samples, )\n",
    "        予測したラベル\n",
    "    '''\n",
    "    #accuracy\n",
    "    accuracy = accuracy_score(y_test, y_pred)\n",
    "    print('accuracy :', accuracy)\n",
    "\n",
    "    #precision\n",
    "    precision = precision_score(y_test, y_pred, average='macro')\n",
    "    print('precision :', precision)\n",
    "\n",
    "    #recall\n",
    "    recall = recall_score(y_test, y_pred, average='macro')\n",
    "    print('recall :', recall)\n",
    "\n",
    "    #f1\n",
    "    f1 = f1_score(y_test, y_pred, average='macro')\n",
    "    print('f1 :', f1)"
   ]
  },
  {
   "cell_type": "code",
   "execution_count": 23,
   "metadata": {},
   "outputs": [
    {
     "name": "stdout",
     "output_type": "stream",
     "text": [
      "accuracy : 0.9528\n",
      "precision : 0.9523290700546623\n",
      "recall : 0.9522824255196817\n",
      "f1 : 0.952225427607053\n"
     ]
    }
   ],
   "source": [
    "evalution(y_test, y_pred1)"
   ]
  },
  {
   "cell_type": "markdown",
   "metadata": {},
   "source": [
    "### 検証2\n",
    "- 活性化関数 : シグモイド\n",
    "- 最適化手法 : AdaGrad\n",
    "- 重みの初期値 : He"
   ]
  },
  {
   "cell_type": "code",
   "execution_count": 24,
   "metadata": {
    "scrolled": false
   },
   "outputs": [
    {
     "name": "stdout",
     "output_type": "stream",
     "text": [
      "学習用データの学習過程1epoc目 : 0.30786657072621126\n",
      "検証用データの学習過程1epoc目 : 0.1257951688536055\n",
      "学習用データの学習過程2epoc目 : 0.2655282912695215\n",
      "検証用データの学習過程2epoc目 : 0.10707293019599917\n",
      "学習用データの学習過程3epoc目 : 0.24134200248202292\n",
      "検証用データの学習過程3epoc目 : 0.09472785547691026\n",
      "学習用データの学習過程4epoc目 : 0.22434226075092872\n",
      "検証用データの学習過程4epoc目 : 0.08478841037305344\n",
      "学習用データの学習過程5epoc目 : 0.21136000473584068\n",
      "検証用データの学習過程5epoc目 : 0.07635088701719477\n",
      "学習用データの学習過程6epoc目 : 0.20096823944517667\n",
      "検証用データの学習過程6epoc目 : 0.06905295899911892\n",
      "学習用データの学習過程7epoc目 : 0.19240262567826666\n",
      "検証用データの学習過程7epoc目 : 0.06269564288364819\n",
      "学習用データの学習過程8epoc目 : 0.18520522337927353\n",
      "検証用データの学習過程8epoc目 : 0.05714298387752672\n",
      "学習用データの学習過程9epoc目 : 0.1790757793060557\n",
      "検証用データの学習過程9epoc目 : 0.05228789094184154\n",
      "学習用データの学習過程10epoc目 : 0.17380253982026117\n",
      "検証用データの学習過程10epoc目 : 0.04803912643620384\n",
      "学習用データの学習過程11epoc目 : 0.16922763896864854\n",
      "検証用データの学習過程11epoc目 : 0.04431635590195188\n",
      "学習用データの学習過程12epoc目 : 0.1652286507029278\n",
      "検証用データの学習過程12epoc目 : 0.041048390716892785\n",
      "学習用データの学習過程13epoc目 : 0.16170809920838872\n",
      "検証用データの学習過程13epoc目 : 0.038172506917290745\n",
      "学習用データの学習過程14epoc目 : 0.1585870622269145\n",
      "検証用データの学習過程14epoc目 : 0.03563395910942106\n",
      "学習用データの学習過程15epoc目 : 0.15580097462707415\n",
      "検証用データの学習過程15epoc目 : 0.033385405540213374\n",
      "学習用データの学習過程16epoc目 : 0.15329667807242342\n",
      "検証用データの学習過程16epoc目 : 0.03138621405536382\n",
      "学習用データの学習過程17epoc目 : 0.15103022414550696\n",
      "検証用データの学習過程17epoc目 : 0.029601700425548123\n",
      "学習用データの学習過程18epoc目 : 0.14896516945260493\n",
      "検証用データの学習過程18epoc目 : 0.028002359613542\n",
      "学習用データの学習過程19epoc目 : 0.1470712176938153\n",
      "検証用データの学習過程19epoc目 : 0.026563135734611092\n",
      "学習用データの学習過程20epoc目 : 0.14532312244286483\n",
      "検証用データの学習過程20epoc目 : 0.02526275805660428\n"
     ]
    }
   ],
   "source": [
    "#予測\n",
    "sdn2 = ScratchDeepNeuralNetrowkClassifier(activation='sigmoid', solver='adagrad', initial='he')\n",
    "\n",
    "sdn2.fit(X_train, y_train, X_val, y_val)"
   ]
  },
  {
   "cell_type": "code",
   "execution_count": 25,
   "metadata": {},
   "outputs": [],
   "source": [
    "y_pred2 = sdn2.predict(X_test)"
   ]
  },
  {
   "cell_type": "code",
   "execution_count": 26,
   "metadata": {},
   "outputs": [
    {
     "data": {
      "image/png": "[encoded data removed]",
      "text/plain": [
       "<Figure size 432x288 with 1 Axes>"
      ]
     },
     "metadata": {
      "needs_background": "light"
     },
     "output_type": "display_data"
    }
   ],
   "source": [
    "cost_curve(sdn2.loss_list, sdn2.val_loss_list)"
   ]
  },
  {
   "cell_type": "code",
   "execution_count": 27,
   "metadata": {},
   "outputs": [
    {
     "name": "stdout",
     "output_type": "stream",
     "text": [
      "accuracy : 0.9516\n",
      "precision : 0.9511036876866307\n",
      "recall : 0.9510868137581033\n",
      "f1 : 0.951014955794788\n"
     ]
    }
   ],
   "source": [
    "evalution(y_test, y_pred2)"
   ]
  },
  {
   "cell_type": "markdown",
   "metadata": {},
   "source": [
    "### 検証3\n",
    "- 活性化関数 : Sigmoid\n",
    "- 最適化手法 : AdaGrad\n",
    "- 重みの初期値 : Simple(ガウス分布)"
   ]
  },
  {
   "cell_type": "code",
   "execution_count": 28,
   "metadata": {
    "scrolled": false
   },
   "outputs": [
    {
     "name": "stdout",
     "output_type": "stream",
     "text": [
      "学習用データの学習過程1epoc目 : 0.4759802737224835\n",
      "検証用データの学習過程1epoc目 : 0.42160989839259705\n",
      "学習用データの学習過程2epoc目 : 0.3072201143876371\n",
      "検証用データの学習過程2epoc目 : 0.22205401829853044\n",
      "学習用データの学習過程3epoc目 : 0.22996218177624667\n",
      "検証用データの学習過程3epoc目 : 0.18723325418507208\n",
      "学習用データの学習過程4epoc目 : 0.18721399557186127\n",
      "検証用データの学習過程4epoc目 : 0.1701473055804063\n",
      "学習用データの学習過程5epoc目 : 0.16211555421178994\n",
      "検証用データの学習過程5epoc目 : 0.15758993992688583\n",
      "学習用データの学習過程6epoc目 : 0.14627972383942828\n",
      "検証用データの学習過程6epoc目 : 0.14709852795700187\n",
      "学習用データの学習過程7epoc目 : 0.13553888426836164\n",
      "検証用データの学習過程7epoc目 : 0.1380212280171882\n",
      "学習用データの学習過程8epoc目 : 0.12783672732063905\n",
      "検証用データの学習過程8epoc目 : 0.13007165886410377\n",
      "学習用データの学習過程9epoc目 : 0.12207662402175179\n",
      "検証用データの学習過程9epoc目 : 0.12298594425922012\n",
      "学習用データの学習過程10epoc目 : 0.11763669949770698\n",
      "検証用データの学習過程10epoc目 : 0.11656503927521948\n",
      "学習用データの学習過程11epoc目 : 0.11413865468750639\n",
      "検証用データの学習過程11epoc目 : 0.11067393788469734\n",
      "学習用データの学習過程12epoc目 : 0.11133696337522772\n",
      "検証用データの学習過程12epoc目 : 0.10522072470980823\n",
      "学習用データの学習過程13epoc目 : 0.10906446078792362\n",
      "検証用データの学習過程13epoc目 : 0.1001405385153594\n",
      "学習用データの学習過程14epoc目 : 0.1072031511619769\n",
      "検証用データの学習過程14epoc目 : 0.09538631865188549\n",
      "学習用データの学習過程15epoc目 : 0.1056671040196421\n",
      "検証用データの学習過程15epoc目 : 0.09092393110296063\n",
      "学習用データの学習過程16epoc目 : 0.10439192912607323\n",
      "検証用データの学習過程16epoc目 : 0.08672866064737646\n",
      "学習用データの学習過程17epoc目 : 0.10332815347616427\n",
      "検証用データの学習過程17epoc目 : 0.08278181363585513\n",
      "学習用データの学習過程18epoc目 : 0.10243694177525593\n",
      "検証用データの学習過程18epoc目 : 0.07906793001468128\n",
      "学習用データの学習過程19epoc目 : 0.10168723658476649\n",
      "検証用データの学習過程19epoc目 : 0.0755730969840241\n",
      "学習用データの学習過程20epoc目 : 0.10105380138669702\n",
      "検証用データの学習過程20epoc目 : 0.07228417463624512\n"
     ]
    }
   ],
   "source": [
    "#予測\n",
    "sdn3 = ScratchDeepNeuralNetrowkClassifier(activation='sigmoid', solver='adagrad', initial='simple')\n",
    "\n",
    "sdn3.fit(X_train, y_train, X_val, y_val)"
   ]
  },
  {
   "cell_type": "code",
   "execution_count": 29,
   "metadata": {},
   "outputs": [],
   "source": [
    "y_pred3 = sdn3.predict(X_test)"
   ]
  },
  {
   "cell_type": "code",
   "execution_count": 30,
   "metadata": {},
   "outputs": [
    {
     "data": {
      "image/png": "[encoded data removed]",
      "text/plain": [
       "<Figure size 432x288 with 1 Axes>"
      ]
     },
     "metadata": {
      "needs_background": "light"
     },
     "output_type": "display_data"
    }
   ],
   "source": [
    "cost_curve(sdn3.loss_list, sdn3.val_loss_list)"
   ]
  },
  {
   "cell_type": "code",
   "execution_count": 31,
   "metadata": {},
   "outputs": [
    {
     "name": "stdout",
     "output_type": "stream",
     "text": [
      "accuracy : 0.9483\n",
      "precision : 0.947747176757165\n",
      "recall : 0.9476754892355735\n",
      "f1 : 0.9476279237604588\n"
     ]
    }
   ],
   "source": [
    "evalution(y_test, y_pred3)"
   ]
  },
  {
   "cell_type": "markdown",
   "metadata": {},
   "source": [
    "### 検証4\n",
    "- 活性化関数 : ReLu\n",
    "- 最適化手法 : SGD\n",
    "- 重みの初期値 : He"
   ]
  },
  {
   "cell_type": "code",
   "execution_count": 32,
   "metadata": {
    "scrolled": false
   },
   "outputs": [
    {
     "name": "stdout",
     "output_type": "stream",
     "text": [
      "学習用データの学習過程1epoc目 : 0.2029347712176369\n",
      "検証用データの学習過程1epoc目 : 0.07838306742046015\n",
      "学習用データの学習過程2epoc目 : 0.1608009063474029\n",
      "検証用データの学習過程2epoc目 : 0.0497751626087027\n",
      "学習用データの学習過程3epoc目 : 0.13379823974533447\n",
      "検証用データの学習過程3epoc目 : 0.03146155478171799\n",
      "学習用データの学習過程4epoc目 : 0.11270514431831188\n",
      "検証用データの学習過程4epoc目 : 0.02334327915325363\n",
      "学習用データの学習過程5epoc目 : 0.09709320565191457\n",
      "検証用データの学習過程5epoc目 : 0.018909312082414635\n",
      "学習用データの学習過程6epoc目 : 0.08137251518940776\n",
      "検証用データの学習過程6epoc目 : 0.015726853637736536\n",
      "学習用データの学習過程7epoc目 : 0.0681088371405658\n",
      "検証用データの学習過程7epoc目 : 0.01320608845289327\n",
      "学習用データの学習過程8epoc目 : 0.056681088093011964\n",
      "検証用データの学習過程8epoc目 : 0.01119027602266703\n",
      "学習用データの学習過程9epoc目 : 0.04679388330279309\n",
      "検証用データの学習過程9epoc目 : 0.009475280300705862\n",
      "学習用データの学習過程10epoc目 : 0.03877391692834156\n",
      "検証用データの学習過程10epoc目 : 0.00824719268872354\n",
      "学習用データの学習過程11epoc目 : 0.032607694977012894\n",
      "検証用データの学習過程11epoc目 : 0.007138609392358959\n",
      "学習用データの学習過程12epoc目 : 0.028484126831159983\n",
      "検証用データの学習過程12epoc目 : 0.006170751351894764\n",
      "学習用データの学習過程13epoc目 : 0.02593508470088608\n",
      "検証用データの学習過程13epoc目 : 0.005545941712610357\n",
      "学習用データの学習過程14epoc目 : 0.023514146439346777\n",
      "検証用データの学習過程14epoc目 : 0.005071397741868483\n",
      "学習用データの学習過程15epoc目 : 0.021741566515524106\n",
      "検証用データの学習過程15epoc目 : 0.004808574183389662\n",
      "学習用データの学習過程16epoc目 : 0.02067285606105884\n",
      "検証用データの学習過程16epoc目 : 0.004433288947003429\n",
      "学習用データの学習過程17epoc目 : 0.019465368422069956\n",
      "検証用データの学習過程17epoc目 : 0.004023841128459914\n",
      "学習用データの学習過程18epoc目 : 0.017849776161210935\n",
      "検証用データの学習過程18epoc目 : 0.0036128775882551317\n",
      "学習用データの学習過程19epoc目 : 0.01639442758534976\n",
      "検証用データの学習過程19epoc目 : 0.0032301354140965043\n",
      "学習用データの学習過程20epoc目 : 0.015705597245068387\n",
      "検証用データの学習過程20epoc目 : 0.0028751735314125203\n"
     ]
    }
   ],
   "source": [
    "#予測\n",
    "sdn4 = ScratchDeepNeuralNetrowkClassifier(activation='relu', solver='sgd', initial='he')\n",
    "\n",
    "sdn4.fit(X_train, y_train, X_val, y_val)"
   ]
  },
  {
   "cell_type": "code",
   "execution_count": 33,
   "metadata": {},
   "outputs": [],
   "source": [
    "y_pred4 = sdn4.predict(X_test)"
   ]
  },
  {
   "cell_type": "code",
   "execution_count": 34,
   "metadata": {},
   "outputs": [
    {
     "data": {
      "image/png": "[encoded data removed]",
      "text/plain": [
       "<Figure size 432x288 with 1 Axes>"
      ]
     },
     "metadata": {
      "needs_background": "light"
     },
     "output_type": "display_data"
    }
   ],
   "source": [
    "cost_curve(sdn4.loss_list, sdn4.val_loss_list)"
   ]
  },
  {
   "cell_type": "code",
   "execution_count": 35,
   "metadata": {},
   "outputs": [
    {
     "name": "stdout",
     "output_type": "stream",
     "text": [
      "accuracy : 0.9767\n",
      "precision : 0.976773737530564\n",
      "recall : 0.9764903198327909\n",
      "f1 : 0.9765551273665926\n"
     ]
    }
   ],
   "source": [
    "evalution(y_test, y_pred4)"
   ]
  },
  {
   "cell_type": "markdown",
   "metadata": {},
   "source": [
    "### 検証5\n",
    "- 活性化関数 : ReLu\n",
    "- 最適化手法 : AdaGrad\n",
    "- 重みの初期値 : He"
   ]
  },
  {
   "cell_type": "code",
   "execution_count": 36,
   "metadata": {
    "scrolled": false
   },
   "outputs": [
    {
     "name": "stdout",
     "output_type": "stream",
     "text": [
      "学習用データの学習過程1epoc目 : 0.0835425883905971\n",
      "検証用データの学習過程1epoc目 : 0.019671486781468288\n",
      "学習用データの学習過程2epoc目 : 0.06032580220151895\n",
      "検証用データの学習過程2epoc目 : 0.01051445190534195\n",
      "学習用データの学習過程3epoc目 : 0.04661917363425344\n",
      "検証用データの学習過程3epoc目 : 0.007046441033356525\n",
      "学習用データの学習過程4epoc目 : 0.03600717455389314\n",
      "検証用データの学習過程4epoc目 : 0.0051215366447871545\n",
      "学習用データの学習過程5epoc目 : 0.028664761241708636\n",
      "検証用データの学習過程5epoc目 : 0.004012517861915794\n",
      "学習用データの学習過程6epoc目 : 0.022807221086453888\n",
      "検証用データの学習過程6epoc目 : 0.0032584972620520658\n",
      "学習用データの学習過程7epoc目 : 0.018971522088466194\n",
      "検証用データの学習過程7epoc目 : 0.0026783230704805813\n",
      "学習用データの学習過程8epoc目 : 0.016211130044445667\n",
      "検証用データの学習過程8epoc目 : 0.002344437922691132\n",
      "学習用データの学習過程9epoc目 : 0.014030718835528738\n",
      "検証用データの学習過程9epoc目 : 0.002013639808713083\n",
      "学習用データの学習過程10epoc目 : 0.01248679998202146\n",
      "検証用データの学習過程10epoc目 : 0.0017623094758093094\n",
      "学習用データの学習過程11epoc目 : 0.010866675355343847\n",
      "検証用データの学習過程11epoc目 : 0.0015138166578051845\n",
      "学習用データの学習過程12epoc目 : 0.009803149372934852\n",
      "検証用データの学習過程12epoc目 : 0.0013248930707996374\n",
      "学習用データの学習過程13epoc目 : 0.008627285330365872\n",
      "検証用データの学習過程13epoc目 : 0.0011643768809321774\n",
      "学習用データの学習過程14epoc目 : 0.007787974532804995\n",
      "検証用データの学習過程14epoc目 : 0.0010113037704800342\n",
      "学習用データの学習過程15epoc目 : 0.00701018514407308\n",
      "検証用データの学習過程15epoc目 : 0.0009084108407478395\n",
      "学習用データの学習過程16epoc目 : 0.006583257816433737\n",
      "検証用データの学習過程16epoc目 : 0.0008075557803720138\n",
      "学習用データの学習過程17epoc目 : 0.006064419980256526\n",
      "検証用データの学習過程17epoc目 : 0.0007239381389387298\n",
      "学習用データの学習過程18epoc目 : 0.005563446251705307\n",
      "検証用データの学習過程18epoc目 : 0.0006382794389825449\n",
      "学習用データの学習過程19epoc目 : 0.005171246497080066\n",
      "検証用データの学習過程19epoc目 : 0.0005758334851504153\n",
      "学習用データの学習過程20epoc目 : 0.004837707865513622\n",
      "検証用データの学習過程20epoc目 : 0.0005238478587760098\n"
     ]
    }
   ],
   "source": [
    "#予測\n",
    "sdn5 = ScratchDeepNeuralNetrowkClassifier(activation='relu', solver='adagrad', initial='he')\n",
    "\n",
    "sdn5.fit(X_train, y_train, X_val, y_val)"
   ]
  },
  {
   "cell_type": "code",
   "execution_count": 37,
   "metadata": {},
   "outputs": [],
   "source": [
    "y_pred5 = sdn5.predict(X_test)"
   ]
  },
  {
   "cell_type": "code",
   "execution_count": 38,
   "metadata": {},
   "outputs": [
    {
     "data": {
      "image/png": "[encoded data removed]",
      "text/plain": [
       "<Figure size 432x288 with 1 Axes>"
      ]
     },
     "metadata": {
      "needs_background": "light"
     },
     "output_type": "display_data"
    }
   ],
   "source": [
    "cost_curve(sdn5.loss_list, sdn5.val_loss_list)"
   ]
  },
  {
   "cell_type": "code",
   "execution_count": 39,
   "metadata": {},
   "outputs": [
    {
     "name": "stdout",
     "output_type": "stream",
     "text": [
      "accuracy : 0.9799\n",
      "precision : 0.9797887030925786\n",
      "recall : 0.9796979034865579\n",
      "f1 : 0.9797339483258899\n"
     ]
    }
   ],
   "source": [
    "evalution(y_test, y_pred5)"
   ]
  },
  {
   "cell_type": "markdown",
   "metadata": {},
   "source": [
    "### 検証6\n",
    "- 活性化関数 : Tanh\n",
    "- 最適化手法 : AdaGrad\n",
    "- 重みの初期値 : Xavier"
   ]
  },
  {
   "cell_type": "code",
   "execution_count": 40,
   "metadata": {
    "scrolled": false
   },
   "outputs": [
    {
     "name": "stdout",
     "output_type": "stream",
     "text": [
      "学習用データの学習過程1epoc目 : 0.198595359465456\n",
      "検証用データの学習過程1epoc目 : 0.06329817728836988\n",
      "学習用データの学習過程2epoc目 : 0.16130339464534355\n",
      "検証用データの学習過程2epoc目 : 0.041520868512830086\n",
      "学習用データの学習過程3epoc目 : 0.14208422719456465\n",
      "検証用データの学習過程3epoc目 : 0.029221191182664686\n",
      "学習用データの学習過程4epoc目 : 0.12975815650902223\n",
      "検証用データの学習過程4epoc目 : 0.022152386269396845\n",
      "学習用データの学習過程5epoc目 : 0.12018617823299409\n",
      "検証用データの学習過程5epoc目 : 0.017776589210392112\n",
      "学習用データの学習過程6epoc目 : 0.11202628529136746\n",
      "検証用データの学習過程6epoc目 : 0.014841297930505268\n",
      "学習用データの学習過程7epoc目 : 0.10481995628187915\n",
      "検証用データの学習過程7epoc目 : 0.012731842727554052\n",
      "学習用データの学習過程8epoc目 : 0.09837857808916337\n",
      "検証用データの学習過程8epoc目 : 0.01114278128491125\n",
      "学習用データの学習過程9epoc目 : 0.09259369454373576\n",
      "検証用データの学習過程9epoc目 : 0.009908238742162496\n",
      "学習用データの学習過程10epoc目 : 0.08737553725015226\n",
      "検証用データの学習過程10epoc目 : 0.008926956942073457\n",
      "学習用データの学習過程11epoc目 : 0.08263967919902097\n",
      "検証用データの学習過程11epoc目 : 0.008131347555809673\n",
      "学習用データの学習過程12epoc目 : 0.07831096521635902\n",
      "検証用データの学習過程12epoc目 : 0.007473948117088879\n",
      "学習用データの学習過程13epoc目 : 0.07432828272835562\n",
      "検証用データの学習過程13epoc目 : 0.00692073188331298\n",
      "学習用データの学習過程14epoc目 : 0.07064506841176656\n",
      "検証用データの学習過程14epoc目 : 0.006447109145383071\n",
      "学習用データの学習過程15epoc目 : 0.06722667834624145\n",
      "検証用データの学習過程15epoc目 : 0.006035202915759458\n",
      "学習用データの学習過程16epoc目 : 0.06404681716851561\n",
      "検証用データの学習過程16epoc目 : 0.005671929934173783\n",
      "学習用データの学習過程17epoc目 : 0.0610843697983353\n",
      "検証用データの学習過程17epoc目 : 0.005347642804160229\n",
      "学習用データの学習過程18epoc目 : 0.058321132680456154\n",
      "検証用データの学習過程18epoc目 : 0.00505516659403729\n",
      "学習用データの学習過程19epoc目 : 0.05574046763624372\n",
      "検証用データの学習過程19epoc目 : 0.004789113762706052\n",
      "学習用データの学習過程20epoc目 : 0.05332669539909283\n",
      "検証用データの学習過程20epoc目 : 0.004545395580439702\n"
     ]
    }
   ],
   "source": [
    "#予測\n",
    "sdn6 = ScratchDeepNeuralNetrowkClassifier(activation='tanh', solver='adagrad', initial='xavier')\n",
    "\n",
    "sdn6.fit(X_train, y_train, X_val, y_val)"
   ]
  },
  {
   "cell_type": "code",
   "execution_count": 41,
   "metadata": {},
   "outputs": [],
   "source": [
    "y_pred6 = sdn6.predict(X_test)"
   ]
  },
  {
   "cell_type": "code",
   "execution_count": 42,
   "metadata": {},
   "outputs": [
    {
     "data": {
      "image/png": "[encoded data removed]",
      "text/plain": [
       "<Figure size 432x288 with 1 Axes>"
      ]
     },
     "metadata": {
      "needs_background": "light"
     },
     "output_type": "display_data"
    }
   ],
   "source": [
    "cost_curve(sdn6.loss_list, sdn6.val_loss_list)"
   ]
  },
  {
   "cell_type": "code",
   "execution_count": 43,
   "metadata": {},
   "outputs": [
    {
     "name": "stdout",
     "output_type": "stream",
     "text": [
      "accuracy : 0.9728\n",
      "precision : 0.9726489507438915\n",
      "recall : 0.9725872962459304\n",
      "f1 : 0.9725842357637777\n"
     ]
    }
   ],
   "source": [
    "evalution(y_test, y_pred6)"
   ]
  },
  {
   "cell_type": "markdown",
   "metadata": {},
   "source": [
    "重みの初期化方法は、シグモイド関数やハイパボリックタンジェント関数のときはXavier、ReLUのときはHeの初期値が推奨されている。シグモイド関数、ハイパポリックタンジェント関数でXavierの初期値を用いた場合、活性化関数後の出力データは、ガウス分布と比較して広がりをもった釣鐘型の形とため、より効率的に学習できる。一方、ReLU関数では負の領域が0となるため、より分布の広がりを持たせるHeの初期値を用いることで、効率よく学習できる。\n",
    "\n",
    "シグモイド関数で重みの初期化方法をXavier(検証1), He(検証2), ガウス分布(検証3)の3種類試し、一番精度が良かったのは推奨されているXavierを用いた場合であった。\n",
    "\n",
    "次に、活性化関数がReLU、重みの初期化方法をHeとして、最適化方法をSGD(検証4)、AdaGrad(検証5)の2種類を試し、精度がよかったのはAdaGradを用いた場合であった。AdaGradは学習を進めるにつれて学習率を小さくするため、SGDより効率的に誤差を最小にすることができる。\n",
    "\n",
    "検証1、5、6では最適化手法をAdaGradで、活性化関数と重みの初期化方法シグモイド、ハイパポリックタンジェント関数であればXavier、ReLUなら Heと、推奨されている組み合わせを試し、一番精度が良かったのが活性化関数にReLU関数を用いた組み合わせ(検証5)であった。"
   ]
  }
 ],
 "metadata": {
  "kernelspec": {
   "display_name": "Python 3",
   "language": "python",
   "name": "python3"
  },
  "language_info": {
   "codemirror_mode": {
    "name": "ipython",
    "version": 3
   },
   "file_extension": ".py",
   "mimetype": "text/x-python",
   "name": "python",
   "nbconvert_exporter": "python",
   "pygments_lexer": "ipython3",
   "version": "3.7.2"
  },
  "varInspector": {
   "cols": {
    "lenName": 16,
    "lenType": 16,
    "lenVar": 40
   },
   "kernels_config": {
    "python": {
     "delete_cmd_postfix": "",
     "delete_cmd_prefix": "del ",
     "library": "var_list.py",
     "varRefreshCmd": "print(var_dic_list())"
    },
    "r": {
     "delete_cmd_postfix": ") ",
     "delete_cmd_prefix": "rm(",
     "library": "var_list.r",
     "varRefreshCmd": "cat(var_dic_list()) "
    }
   },
   "types_to_exclude": [
    "module",
    "function",
    "builtin_function_or_method",
    "instance",
    "_Feature"
   ],
   "window_display": false
  }
 },
 "nbformat": 4,
 "nbformat_minor": 2
}
