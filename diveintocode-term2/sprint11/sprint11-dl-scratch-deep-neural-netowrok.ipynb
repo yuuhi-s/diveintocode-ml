{
 "cells": [
  {
   "cell_type": "markdown",
   "metadata": {},
   "source": [
    "# Sprint11課題 深層学習スクラッチディープニューラルネットワーク"
   ]
  },
  {
   "cell_type": "markdown",
   "metadata": {},
   "source": [
    "## この課題の目的\n",
    "\n",
    "- スクラッチを通してニューラルネットワークの発展的内容を理解する"
   ]
  },
  {
   "cell_type": "markdown",
   "metadata": {},
   "source": [
    "## スクラッチによる実装\n",
    "\n",
    "NumPyなど最低限のライブラリのみを使いアルゴリズムを実装していきます。\n",
    "\n",
    "前回作成した3層のニューラルネットワークを、クラスを活用することで、任意の構成に拡張しやすいコードに書き換えていきます。その上で、活性化関数や初期値、最適化手法について発展的なものを扱えるようにしていきます。\n",
    "\n",
    "このようなスクラッチを行うことで、今後各種フレームワークを利用していくにあたり、内部の動きが想像できることを目指します。"
   ]
  },
  {
   "cell_type": "markdown",
   "metadata": {},
   "source": [
    "### 新たなニューラルネットワーク分類器のクラスを作成する\n",
    "\n",
    "Sprint9で作成したものとは別に、ニューラルネットワーク分類器のクラスScratchDeepNeuralNetrowkClassifierを作成してください。"
   ]
  },
  {
   "cell_type": "markdown",
   "metadata": {},
   "source": [
    "### 層などのクラス化\n",
    "\n",
    "コーディング\n",
    "\n",
    "クラスにまとめて行くことで、構成を変更しやすい実装にしていきます。\n",
    "\n",
    "手を加える箇所\n",
    "\n",
    "- 層の数\n",
    "- 層の種類（今後は畳み込み層など他のタイプの層が登場する）\n",
    "- 活性化関数の種類\n",
    "- 重みやバイアスの初期化方法\n",
    "- 最適化手法\n",
    "\n",
    "そのために、全結合層、各種活性化関数、重みやバイアスの初期化、最適化手法それぞれのクラスを作成します。\n",
    "\n",
    "実装方法は自由ですが、簡単な例を紹介します。サンプルコード1のように全結合層と活性化関数のインスタンスを作成し、サンプルコード2,3のようにして使用する。それぞれのクラスについてはこのあと解説します。"
   ]
  },
  {
   "cell_type": "code",
   "execution_count": 1,
   "metadata": {},
   "outputs": [
    {
     "name": "stderr",
     "output_type": "stream",
     "text": [
      "Using TensorFlow backend.\n"
     ]
    }
   ],
   "source": [
    "from keras.datasets import mnist\n",
    "import matplotlib.pyplot as plt\n",
    "%matplotlib inline\n",
    "import numpy as np\n",
    "from sklearn.preprocessing import OneHotEncoder\n",
    "from sklearn.model_selection import train_test_split\n",
    "from sklearn.metrics import accuracy_score, precision_score, recall_score, f1_score"
   ]
  },
  {
   "cell_type": "code",
   "execution_count": 2,
   "metadata": {},
   "outputs": [],
   "source": [
    "(X_train, y_train), (X_test, y_test) = mnist.load_data()"
   ]
  },
  {
   "cell_type": "code",
   "execution_count": 3,
   "metadata": {},
   "outputs": [],
   "source": [
    "X_train = X_train.reshape(-1, 784)\n",
    "X_test = X_test.reshape(-1, 784)"
   ]
  },
  {
   "cell_type": "code",
   "execution_count": 4,
   "metadata": {},
   "outputs": [
    {
     "name": "stdout",
     "output_type": "stream",
     "text": [
      "1.0\n",
      "0.0\n"
     ]
    }
   ],
   "source": [
    "X_train = X_train.astype(np.float)\n",
    "X_test = X_test.astype(np.float)\n",
    "X_train /= 255\n",
    "X_test /= 255\n",
    "print(X_train.max()) # 1.0\n",
    "print(X_train.min()) # 0.0"
   ]
  },
  {
   "cell_type": "code",
   "execution_count": 5,
   "metadata": {},
   "outputs": [
    {
     "name": "stdout",
     "output_type": "stream",
     "text": [
      "(48000, 784)\n",
      "(12000, 784)\n"
     ]
    }
   ],
   "source": [
    "X_train, X_val, y_train, y_val = train_test_split(X_train, y_train, test_size=0.2)\n",
    "print(X_train.shape) # (48000, 784)\n",
    "print(X_val.shape) # (12000, 784)"
   ]
  },
  {
   "cell_type": "markdown",
   "metadata": {},
   "source": [
    "## 【問題1】全結合層のクラス化\n",
    "\n",
    "コーディング\n",
    "\n",
    "全結合層のクラスの雛形を載せました。コンストラクタで重みやバイアスの初期化をして、あとはフォワードとバックワードのメソッドを用意します。\n",
    "\n",
    "重みW、バイアスB、およびフォワード時の入力Xをインスタンス変数として保持しておくことで、煩雑な入出力は不要になります。\n",
    "\n",
    "なお、インスタンスも引数として渡すことができます。そのため、初期化方法のインスタンスinitializerをコンストラクタで受け取れば、それにより初期化が行われます。渡すインスタンスを変えれば、初期化方法が変えられます。\n",
    "\n",
    "また、引数として自身のインスタンスselfを渡すこともできます。これを利用してself = self.optimizer.update(self)という風に層の重みの更新が可能です。更新に必要な値は複数ありますが、全て全結合層が持つインスタンス変数にすることができます。\n",
    "\n",
    "初期化方法と最適化手法のクラスについては後述します。"
   ]
  },
  {
   "cell_type": "code",
   "execution_count": 6,
   "metadata": {},
   "outputs": [],
   "source": [
    "class FC:\n",
    "    \"\"\"\n",
    "    ノード数n_nodes1からn_nodes2への全結合層\n",
    "    Parameters\n",
    "    ----------\n",
    "    n_nodes1 : int\n",
    "      前の層のノード数\n",
    "    n_nodes2 : int\n",
    "      後の層のノード数\n",
    "    initializer : インスタンス\n",
    "        初期化方法のインスタンス\n",
    "    optimizer : インスタンス\n",
    "        最適化手法のインスタンス\n",
    "    \"\"\"\n",
    "    def __init__(self, n_nodes1, n_nodes2, initializer, optimizer):\n",
    "        self.optimizer = optimizer #最適化手法\n",
    "        \n",
    "        # 初期化\n",
    "        # initializerのメソッドを使い、self.Wとself.Bを初期化する\n",
    "        self.W = initializer.W(n_nodes1, n_nodes2)\n",
    "        self.B = initializer.B(n_nodes2)\n",
    "\n",
    "    \n",
    "    def forward(self, Z1):\n",
    "        \"\"\"\n",
    "        フォワードプロバケーション\n",
    "        Parameters\n",
    "        ----------\n",
    "        Z1 : 次の形のndarray, shape (batch_size, n_nodes1)\n",
    "            入力\n",
    "            \n",
    "        Returns\n",
    "        ----------\n",
    "        Z2 : 次の形のndarray, shape (batch_size, n_nodes2)\n",
    "            出力\n",
    "        \"\"\"\n",
    "        self.Z = Z1.copy()\n",
    "        #バイアスと重みを結合\n",
    "        Z2 = np.dot(Z1, self.W) + self.B\n",
    "        \n",
    "        return Z2\n",
    "    \n",
    "    \n",
    "    def backward(self, dA):\n",
    "        \"\"\"\n",
    "        バックプロバケーション\n",
    "        Parameters\n",
    "        ----------\n",
    "        dA : 次の形のndarray, shape(batch_size, n_nodes2)\n",
    "            後ろから流れてきた勾配\n",
    "            \n",
    "        Returns\n",
    "        ----------\n",
    "        dZ : 次の形のndarray, shape (batch_size, n_nodes1)\n",
    "            前に流す勾配\n",
    "        \"\"\"\n",
    "        #Zに関する損失の勾配を計算\n",
    "        self.dB = dA \n",
    "        self.dW = np.dot(self.Z.T, dA) \n",
    "        dZ = np.dot(dA, self.W.T) \n",
    "        \n",
    "        # 重み、バイアスの更新\n",
    "        self = self.optimizer.update(self)\n",
    "        \n",
    "        return dZ"
   ]
  },
  {
   "cell_type": "markdown",
   "metadata": {},
   "source": [
    "## 【問題2】初期化方法のクラス化\n",
    "\n",
    "前述のように、全結合層のコンストラクタに初期化方法のインスタンスを渡せるようにします。雛形に必要なコードを書き加えていってください。標準偏差の値（sigma）はコンストラクタで受け取るようにすることで、全結合層のクラス内にこの値（sigma）を渡さなくてすむようになります。\n",
    "\n",
    "これまで扱ってきた初期化方法はSimpleInitializerクラスと名付けることにします。"
   ]
  },
  {
   "cell_type": "code",
   "execution_count": 7,
   "metadata": {},
   "outputs": [],
   "source": [
    "class SimpleInitializer:\n",
    "    \"\"\"\n",
    "    ガウス分布によるシンプルな初期化\n",
    "    Parameters\n",
    "    ----------\n",
    "    sigma : float\n",
    "      ガウス分布の標準偏差\n",
    "    \"\"\"\n",
    "    def __init__(self, sigma):\n",
    "        self.sigma = sigma #重みパラメータ\n",
    "        \n",
    "\n",
    "    def W(self, n_nodes1, n_nodes2):\n",
    "        \"\"\"\n",
    "        重みの初期化\n",
    "        Parameters\n",
    "        ----------\n",
    "        n_nodes1 : int\n",
    "          前の層のノード数\n",
    "        n_nodes2 : int\n",
    "          後の層のノード数\n",
    "\n",
    "        Returns\n",
    "        ----------\n",
    "        W : 次の形のndarray, shape (n_nodes1, n_nodes2)\n",
    "            重み\n",
    "        \"\"\"\n",
    "        W =  self.sigma * np.random.randn(n_nodes1, n_nodes2) \n",
    "    \n",
    "        return W\n",
    "    \n",
    "    \n",
    "    def B(self, n_nodes2):\n",
    "        \"\"\"\n",
    "        バイアスの初期化\n",
    "        Parameters\n",
    "        ----------\n",
    "        n_nodes2 : int\n",
    "          後の層のノード数\n",
    "\n",
    "        Returns\n",
    "        ----------\n",
    "        B :次の形のndarray, shape (n_nodes2)\n",
    "            バイアス\n",
    "        \"\"\"\n",
    "        B = np.zeros(n_nodes2)\n",
    "        \n",
    "        return B"
   ]
  },
  {
   "cell_type": "markdown",
   "metadata": {},
   "source": [
    "## 【問題3】最適化手法のクラス化\n",
    "\n",
    "最適化手法に関しても初期化方法同様に全結合層にインスタンスとして渡します。バックワードのときにself = self.optimizer.update(self)のように更新できるようにします。こちらも雛形を用意しましたので、必要なコードを書き加えていってください。\n",
    "\n",
    "これまで扱ってきた最適化手法はSGDクラス（Stochastic Gradient Descent、確率的勾配降下法）として作成します。"
   ]
  },
  {
   "cell_type": "code",
   "execution_count": 8,
   "metadata": {},
   "outputs": [],
   "source": [
    "class SGD:\n",
    "    \"\"\"\n",
    "    確率的勾配降下法\n",
    "    Parameters\n",
    "    ----------\n",
    "    alpha : float\n",
    "        学習率\n",
    "    \"\"\"\n",
    "    def __init__(self, alpha):\n",
    "        self.alpha = alpha #学習率\n",
    "        \n",
    "\n",
    "    def update(self, layer):\n",
    "        \"\"\"\n",
    "        ある層の重みやバイアスの更新\n",
    "        Parameters\n",
    "        ----------\n",
    "        layer : インスタンス\n",
    "            更新前の層のインスタンス\n",
    "\n",
    "        Returns\n",
    "        ----------\n",
    "        layer : インスタンス\n",
    "            更新後の層のインスタンス\n",
    "        \"\"\"\n",
    "        #バッチサイズで割る\n",
    "        layer.W -= self.alpha* layer.dW / layer.dB.shape[0] #(n_nodes1, n_nodes2)\n",
    "        layer.B -= self.alpha* layer.dB.mean(axis=0) #(n_nodes2)\n",
    "        \n",
    "        return layer"
   ]
  },
  {
   "cell_type": "markdown",
   "metadata": {},
   "source": [
    "## 【問題4】活性化関数のクラス化\n",
    "\n",
    "活性化関数もクラス化を行なってください。\n",
    "\n",
    "上記サンプルコード3ではソフトマックス関数のバックプロパゲーションに交差エントロピー誤差の計算も含む実装を想定しています。"
   ]
  },
  {
   "cell_type": "code",
   "execution_count": 9,
   "metadata": {},
   "outputs": [],
   "source": [
    "class Sigmoid:\n",
    "    '''\n",
    "    シグモイド関数のクラス\n",
    "    Attributes\n",
    "    --------------\n",
    "    Z : ndarray\n",
    "        活性化関数を計算した配列\n",
    "    '''\n",
    "    def __init__(self):\n",
    "        self.Z = None #活性化関数の配列\n",
    "    \n",
    "\n",
    "    def forward(self, A):\n",
    "        '''\n",
    "        フォワードプロバケーション\n",
    "        Parameters\n",
    "        --------------\n",
    "        A : 次の形のndarray, shape (batch_size, n_nodes1)\n",
    "            特徴量ベクトルと重みとバイアスを計算したもの\n",
    "        \n",
    "        Returns\n",
    "        ---------\n",
    "        Z : 次の形のndarray, shape (batch_size, n_nodes1)\n",
    "            活性化関数を計算したもの\n",
    "        '''\n",
    "        self.Z = 1 / (1 + np.exp(-A)) \n",
    "        \n",
    "        return self.Z\n",
    "    \n",
    "    \n",
    "    def backward(self, dZ):\n",
    "        '''\n",
    "        バックプロバケーション\n",
    "        Parameters\n",
    "        --------------\n",
    "        dZ : 次の形のndarray, shape (batch_size, n_nodes1)\n",
    "            Zに関する損失Lの勾配\n",
    "        \n",
    "        Returns\n",
    "        ---------\n",
    "        dA : 次の形のndarray, shape (batch_size, n_nodes1)  \n",
    "           Aに関する損失Lの勾配 \n",
    "        '''\n",
    "        dA = dZ * (1 - self.Z) * self.Z\n",
    "        \n",
    "        return dA"
   ]
  },
  {
   "cell_type": "code",
   "execution_count": 10,
   "metadata": {},
   "outputs": [],
   "source": [
    "class Tanh:\n",
    "    '''\n",
    "    ハイパポリックタンジェント関数のクラス\n",
    "    Attributes\n",
    "    --------------\n",
    "    Z : ndarray\n",
    "        活性化関数を計算した配列\n",
    "    '''\n",
    "    def __init__(self):\n",
    "        self.Z = None #活性化関数の配列\n",
    "\n",
    "    \n",
    "    def forward(self, A):\n",
    "        '''\n",
    "        フォワードプロバケーション\n",
    "        Parameters\n",
    "        --------------\n",
    "        A : 次の形のndarray, shape (batch_size, n_nodes1)\n",
    "            特徴量ベクトルと重みとバイアスを計算したもの\n",
    "        \n",
    "        Returns\n",
    "        ---------\n",
    "        Z : 次の形のndarray, shape (batch_size, n_nodes1)\n",
    "            活性化関数を計算したもの\n",
    "        '''\n",
    "        self.Z =  np.tanh(A)\n",
    "        \n",
    "        return  self.Z\n",
    "    \n",
    "    \n",
    "    def backward(self, dZ):\n",
    "        '''\n",
    "        バックプロバケーション\n",
    "        Parameters\n",
    "        --------------\n",
    "        dZ : 次の形のndarray, shape (batch_size, n_nodes1)\n",
    "            Zに関する損失Lの勾配\n",
    "        \n",
    "        Returns\n",
    "        ---------\n",
    "        dA : 次の形のndarray, shape (batch_size, n_nodes1)  \n",
    "           Aに関する損失Lの勾配 \n",
    "        '''\n",
    "        dA = dZ * (1 - self.Z**2)\n",
    "        \n",
    "        return dA"
   ]
  },
  {
   "cell_type": "code",
   "execution_count": 11,
   "metadata": {},
   "outputs": [],
   "source": [
    "class Softmax:\n",
    "    '''\n",
    "    ソフトマックス関数のクラス\n",
    "    Attributes\n",
    "    --------------\n",
    "    Z : ndarray\n",
    "        活性化関数を計算した配列\n",
    "    '''\n",
    "    def __init__(self):\n",
    "        self.Z = None #活性化関数の配列\n",
    "    \n",
    "    \n",
    "    def forward(self, A):\n",
    "        '''\n",
    "        フォワードプロバケーション\n",
    "        Parameters\n",
    "        --------------\n",
    "        A : 次の形のndarray, shape (batch_size, n_output)\n",
    "            特徴量ベクトルと重みとバイアスを計算したもの\n",
    "        \n",
    "        Returns\n",
    "        ---------\n",
    "        Z : 次の形のndarray, shape (batch_size, n_output)\n",
    "            ソフトマックス関数の計算結果\n",
    "        '''\n",
    "        #オーバーフロー対策\n",
    "        c = np.max(A)\n",
    "        exp_A = np.exp(A - c)\n",
    "        \n",
    "        #分母\n",
    "        sum_exp_A = np.sum(exp_A, axis=1).reshape(-1, 1)\n",
    "\n",
    "        self.Z = exp_A / sum_exp_A\n",
    "        \n",
    "        return self.Z\n",
    "\n",
    "    \n",
    "    def backward(self, y):\n",
    "        '''\n",
    "        バックプロバケーション\n",
    "        Parameters\n",
    "        --------------\n",
    "        y : 次の形のndarray, shape (batch_size, n_output)\n",
    "            正解ラベルのベクトル\n",
    "        Z : 次の形のndarray, shape (batch_size, n_output)\n",
    "            フォワードプロバケーションの出力\n",
    "        \n",
    "        Returns\n",
    "        ---------\n",
    "        dA : 次の形のndarray, shape (batch_size, n_nodes1)  \n",
    "           Aに関する損失Lの勾配 \n",
    "        '''\n",
    "        #交差エントロピー誤差の計算\n",
    "        loss_sum = np.sum(y * np.log(self.Z), axis=1)\n",
    "        loss = -np.mean(loss_sum)\n",
    "        \n",
    "        #勾配の計算\n",
    "        dA = self.Z - y\n",
    "        \n",
    "        return dA, loss"
   ]
  },
  {
   "cell_type": "markdown",
   "metadata": {},
   "source": [
    "## 【問題5】ReLUクラスの作成\n",
    "\n",
    "現在一般的に使われている活性化関数であるReLU（Rectified Linear Unit）をReLUクラスとして実装します。\n",
    "\n",
    "ReLUは以下の数式です。\n",
    "\n",
    "$$\n",
    "f(x) = ReLU(x) = \n",
    "\\begin{cases}\n",
    "x  & \\text{if x}>0,\\\\\n",
    "0 & \\text{if x} \\geqq 0.\n",
    "\\end{cases}\n",
    "$$"
   ]
  },
  {
   "cell_type": "markdown",
   "metadata": {},
   "source": [
    "$x$ : ある特徴量。スカラー\n",
    "\n",
    "実装上はnp.maximumを使い配列に対してまとめて計算が可能です。\n",
    "\n",
    "[numpy.maximum — NumPy v1.15 Manual](https://docs.scipy.org/doc/numpy-1.15.0/reference/generated/numpy.maximum.html)\n",
    "\n",
    "一方、バックプロパゲーションのための $x$ に関する $f(x)$ の微分は以下のようになります。\n",
    "\n",
    "$$\n",
    "\\frac{\\partial f(x)}{\\partial x} = \n",
    "\\begin{cases}\n",
    "1  & \\text{if x}>0,\\\\\n",
    "0 & \\text{if x}\\leqq 0.\n",
    "\\end{cases}\n",
    "$$\n",
    "\n",
    "数学的には微分可能ではないですが、 $x=0$ のとき $0$ とすることで対応しています。\n",
    "\n",
    "フォワード時の $x$ の正負により、勾配を逆伝播するかどうかが決まるということになります。"
   ]
  },
  {
   "cell_type": "code",
   "execution_count": 12,
   "metadata": {},
   "outputs": [],
   "source": [
    "class Relu:\n",
    "    '''\n",
    "    ReLU関数のクラス\n",
    "    Attributes\n",
    "    --------------\n",
    "    X : ndarray\n",
    "        特徴量ベクトルと重みとバイアスを計算した配列\n",
    "    '''\n",
    "    def __init__(self):\n",
    "        self.X = None #特徴量ベクトルと重みとバイアスを計算した配列\n",
    "\n",
    "    \n",
    "    def forward(self, A):\n",
    "        '''\n",
    "        フォワードプロバケーション\n",
    "        Parameters\n",
    "        --------------\n",
    "        A : 次の形のndarray, shape (batch_size, n_nodes1)\n",
    "            特徴量ベクトルと重みとバイアスを計算したもの\n",
    "        \n",
    "        Returns\n",
    "        ---------\n",
    "        Z : 次の形のndarray, shape (batch_size, n_nodes1)\n",
    "            活性化関数を計算したもの\n",
    "        '''\n",
    "        self.X = A.copy()\n",
    "        \n",
    "        #Aが0以下なら0にする\n",
    "        Z = np.maximum(0, A)\n",
    "        \n",
    "        return Z\n",
    "    \n",
    "    \n",
    "    def backward(self, dZ):\n",
    "        '''\n",
    "        バックプロバケーション\n",
    "        Parameters\n",
    "        --------------\n",
    "        dZ : 次の形のndarray, shape (batch_size, n_nodes1)\n",
    "            Zに関する損失Lの勾配\n",
    "        \n",
    "        Returns\n",
    "        ---------\n",
    "        dA : 次の形のndarray, shape (batch_size, n_nodes1)  \n",
    "           Aに関する損失Lの勾配 \n",
    "        '''\n",
    "        #forwardで0以下の部分を0にする\n",
    "        dA = np.where(self.X > 0, dZ, 0)\n",
    "\n",
    "        return dA"
   ]
  },
  {
   "cell_type": "markdown",
   "metadata": {},
   "source": [
    "## 【問題6】重みの初期値\n",
    "\n",
    "ここまでは重みやバイアスの初期値は単純にガウス分布で、標準偏差をハイパーパラメータとして扱ってきました。しかし、一般的に良い初期値の取り方が知られています。\n",
    "\n",
    "シグモイド関数やハイパボリックタンジェント関数のときはXavierの初期値（またはGlorotの初期値）、ReLUのときはHeの初期値が使われます。\n",
    "\n",
    "XavierInitializerクラスと、HeInitializerクラスを作成します。\n",
    "\n",
    "それぞれの初期化方法における $\\sigma$ は次の式で求められます。\n",
    "\n",
    "「Xavierの初期値」\n",
    "\n",
    "$$\n",
    "\\sigma = \\frac{1}{\\sqrt{n}}\n",
    "$$\n",
    "\n",
    "$n$ : 前の層のノード数\n",
    "\n",
    "（論文）\n",
    "\n",
    "[Glorot, X., & Bengio, Y. (n.d.). Understanding the difficulty of training deep feedforward neural networks.](http://proceedings.mlr.press/v9/glorot10a/glorot10a.pdf)"
   ]
  },
  {
   "cell_type": "code",
   "execution_count": 13,
   "metadata": {},
   "outputs": [],
   "source": [
    "class XavierInitializer:\n",
    "    \"\"\"\n",
    "    Xavierの初期値のクラス\n",
    "    \"\"\"\n",
    "    def __init__(self):\n",
    "        pass\n",
    "        \n",
    "\n",
    "    def W(self, n_nodes1, n_nodes2):\n",
    "        \"\"\"\n",
    "        重みの初期化\n",
    "        Parameters\n",
    "        ----------\n",
    "        n_nodes1 : int\n",
    "          前の層のノード数\n",
    "        n_nodes2 : int\n",
    "          後の層のノード数\n",
    "\n",
    "        Returns\n",
    "        ----------\n",
    "        W : 次の形のndarray, shape (n_nodes1, n_nodes2)\n",
    "            重み\n",
    "        \"\"\"\n",
    "        W = np.random.randn(n_nodes1, n_nodes2) / np.sqrt(n_nodes1) #(n_nodes1, n_nodes2)\n",
    "    \n",
    "        return W\n",
    "    \n",
    "    \n",
    "    def B(self, n_nodes2):\n",
    "        \"\"\"\n",
    "        バイアスの初期化\n",
    "        Parameters\n",
    "        ----------\n",
    "        n_nodes2 : int\n",
    "          後の層のノード数\n",
    "\n",
    "        Returns\n",
    "        ----------\n",
    "        B : 次の形のndarray, shape (n_nodes2, )\n",
    "            バイアス\n",
    "        \"\"\"\n",
    "        B = np.zeros(n_nodes2) #(n_nodes2)\n",
    "        \n",
    "        return B"
   ]
  },
  {
   "cell_type": "markdown",
   "metadata": {},
   "source": [
    "「Heの初期値」\n",
    "\n",
    "$$\n",
    "\\sigma = \\sqrt{\\frac{2}{n}}\n",
    "$$\n",
    "\n",
    "$n$ : 前の層のノード数\n",
    "\n",
    "（論文）\n",
    "\n",
    "[He, K., Zhang, X., Ren, S., & Sun, J. (2015). Delving Deep into Rectifiers: Surpassing Human-Level Performance on ImageNet Classification.](https://arxiv.org/pdf/1502.01852.pdf)"
   ]
  },
  {
   "cell_type": "code",
   "execution_count": 14,
   "metadata": {},
   "outputs": [],
   "source": [
    "class HeInitializer:\n",
    "    \"\"\"\n",
    "    Heの初期値のクラス\n",
    "    \"\"\"\n",
    "    def __init__(self):\n",
    "        pass\n",
    "        \n",
    "\n",
    "    def W(self, n_nodes1, n_nodes2):\n",
    "        \"\"\"\n",
    "        重みの初期化\n",
    "        Parameters\n",
    "        ----------\n",
    "        n_nodes1 : int\n",
    "          前の層のノード数\n",
    "        n_nodes2 : int\n",
    "          後の層のノード数\n",
    "\n",
    "        Returns\n",
    "        ----------\n",
    "        W : 次の形のndarray, shape (n_nodes1, n_nodes2)\n",
    "            重み\n",
    "        \"\"\"\n",
    "        W = np.random.randn(n_nodes1, n_nodes2) * np.sqrt(2 / n_nodes1)\n",
    "    \n",
    "        return W\n",
    "    \n",
    "    \n",
    "    def B(self, n_nodes2):\n",
    "        \"\"\"\n",
    "        バイアスの初期化\n",
    "        Parameters\n",
    "        ----------\n",
    "        n_nodes2 : int\n",
    "          後の層のノード数\n",
    "\n",
    "        Returns\n",
    "        ----------\n",
    "        B : 次の形のndarray, shape (n_nodes2, )\n",
    "            バイアス\n",
    "        \"\"\"\n",
    "        B = np.zeros(n_nodes2) \n",
    "        \n",
    "        return B"
   ]
  },
  {
   "cell_type": "markdown",
   "metadata": {},
   "source": [
    "## 【問題7】最適化手法\n",
    "\n",
    "コーディング\n",
    "\n",
    "学習率は学習の良し悪しにとって重要なハイパーパラメータであり、これを学習過程で変化させていく方法が現在では一般的です。様々な手法が提案されていますが、今回はその中でも基本的な、AdaGradを実装します。\n",
    "\n",
    "まず、これまで使ってきたSGDを確認します。\n",
    "\n",
    "$$\n",
    "W_i^{\\prime} = W_i - \\alpha E(\\frac{\\partial L}{\\partial W_i}) \n",
    "$$"
   ]
  },
  {
   "cell_type": "markdown",
   "metadata": {},
   "source": [
    "$$\n",
    "B_i^{\\prime} = B_i - \\alpha E(\\frac{\\partial L}{\\partial B_i})\n",
    "$$\n",
    "\n",
    "$\\alpha$ : 学習率（層ごとに変えることも可能だが、基本的には全て同じとする）\n",
    "\n",
    "$\\frac{\\partial L}{\\partial W_i}$ : $W_i$ に関する損失 $L$ の勾配\n",
    "\n",
    "$\\frac{\\partial L}{\\partial B_i}$ : $B_i$ に関する損失 $L$ の勾配\n",
    "\n",
    "$E()$ : ミニバッチ方向にベクトルの平均を計算\n",
    "\n",
    "続いて、AdaGradです。バイアスの数式は省略しますが、重みと同様のことをします。\n",
    "\n",
    "更新された分だけその重みに対する学習率を徐々に下げていきます。イテレーションごとの勾配の二乗和 $H$ を保存しておき、その分だけ学習率を小さくします。\n",
    "\n",
    "学習率は重み一つひとつに対して異なることになります。"
   ]
  },
  {
   "cell_type": "markdown",
   "metadata": {},
   "source": [
    "$$\n",
    "H_i^{\\prime}  = H_i+E(\\frac{\\partial L}{\\partial W_i})\\times E(\\frac{\\partial L}{\\partial W_i})\n",
    "$$"
   ]
  },
  {
   "cell_type": "markdown",
   "metadata": {},
   "source": [
    "$$\n",
    "W_i^{\\prime} = W_i - \\alpha \\frac{1}{\\sqrt{H_i^{\\prime} }} E(\\frac{\\partial L}{\\partial W_i}) \n",
    "$$\n",
    "\n",
    "$H_i$  : $i$層目に関して、前のイテレーションまでの勾配の二乗和（初期値は0）\n",
    "\n",
    "$H_i^{\\prime}$ : 更新した $H_i$\n",
    "\n",
    "AdaGradクラスを作成し、上記の数式にもとづいて実装してください。\n",
    "\n",
    "（論文）\n",
    "\n",
    "[Duchi JDUCHI, J., & Singer, Y. (2011). Adaptive Subgradient Methods for Online Learning and Stochastic Optimization * Elad Hazan. Journal of Machine Learning Research (Vol. 12).](http://www.jmlr.org/papers/volume12/duchi11a/duchi11a.pdf)"
   ]
  },
  {
   "cell_type": "code",
   "execution_count": 15,
   "metadata": {},
   "outputs": [],
   "source": [
    "class AdaGrad:\n",
    "    \"\"\"\n",
    "    AdaGradの最適化のクラス\n",
    "    Parameters\n",
    "    ----------\n",
    "    alpha : 学習率\n",
    "    \n",
    "    Attributes\n",
    "    -------------\n",
    "    H_W : ndarray\n",
    "        前のイテレーションまでの重みの勾配の二乗和\n",
    "    H_B : ndarray\n",
    "        前のイテレーションまでのバイアスの勾配の二乗和\n",
    "    \"\"\"\n",
    "    def __init__(self, alpha):\n",
    "        #ハイパーパラメータ\n",
    "        self.alpha = alpha #学習率\n",
    "        \n",
    "        #インスタンス変数\n",
    "        self.H_W= None #重みの勾配の二乗和の配列\n",
    "        self.H_B = None #バイアスの勾配の二乗和の配列\n",
    "        \n",
    "\n",
    "    def update(self, layer):\n",
    "        \"\"\"\n",
    "        ある層の重みやバイアスの更新\n",
    "        Parameters\n",
    "        ----------\n",
    "        layer : インスタンス\n",
    "            更新前の層のインスタンス\n",
    "\n",
    "        Returns\n",
    "        ----------\n",
    "        layer : インスタンス\n",
    "            更新後の層のインスタンス\n",
    "        \"\"\"\n",
    "        #self.Hの初期化\n",
    "        if self.H_W is None:\n",
    "            self.H_W = np.zeros(layer.W.shape)\n",
    "        if self.H_B is None:\n",
    "            self.H_B = np.zeros(layer.B.shape)\n",
    "        \n",
    "        #更新    \n",
    "        self.H_W += (layer.dW / layer.dB.shape[0]) ** 2 #重みの勾配の二乗和\n",
    "        self.H_B += (layer.dB.mean(axis=0)) ** 2 #バイアスの二乗和\n",
    "        layer.W -= self.alpha / np.sqrt(self.H_W + 1e-7) * layer.dW / layer.dB.shape[0] #重み\n",
    "        layer.B -= self.alpha / np.sqrt(self.H_B + 1e-7) * layer.dB.mean(axis=0) #バイアス \n",
    "        \n",
    "        return layer"
   ]
  },
  {
   "cell_type": "markdown",
   "metadata": {},
   "source": [
    "### クラスの結合"
   ]
  },
  {
   "cell_type": "code",
   "execution_count": 16,
   "metadata": {},
   "outputs": [],
   "source": [
    "import numpy as np\n",
    "\n",
    "class ScratchDeepNeuralNetrowkClassifier():\n",
    "    \"\"\"\n",
    "    ニューラルネットワーク分類器\n",
    "\n",
    "    Parameters\n",
    "    --------------\n",
    "    epoc : int\n",
    "        エポック数\n",
    "    activaiton : {'sigmoid', 'tanh', 'relu'} default 'relu'\n",
    "        活性化関数の種類\n",
    "    solver :  {'sgd', 'adagrad'}, default 'adam'\n",
    "        最適化手法の種類\n",
    "    alpha : float\n",
    "        学習率\n",
    "    batch_size : int\n",
    "        バッチサイズ\n",
    "    initial : {'simple', 'xavier', 'he'} default 'he'\n",
    "        重みの初期化方法\n",
    "    sigma : float\n",
    "        重みパラメータ(ガウス分布の標準偏差)\n",
    "    n_nodes1 : int\n",
    "        1層目の数\n",
    "    n_nodes2 : int\n",
    "        2層目の数\n",
    "    n_output : int\n",
    "        出力層の数\n",
    "    verbose : bool\n",
    "        学習過程の出力の有無\n",
    "        \n",
    "    Attributes\n",
    "    -------------\n",
    "    FC1 :  インスタンス\n",
    "        結合層のインスタンス\n",
    "    FC2 :   インスタンス\n",
    "        結合層のインスタンス\n",
    "    FC3 :   インスタンス\n",
    "        結合層のインスタンス\n",
    "    activation1 : インスタンス\n",
    "        活性化関数のインスタンス\n",
    "    activation2 : インスタンス\n",
    "        活性化関数のインスタンス\n",
    "    activation3 : インスタンス\n",
    "        活性化関数のインスタンス\n",
    "    loss_list : list\n",
    "        学習用データのエポックごとの損失を記録するリスト\n",
    "     mini_loss_list : list\n",
    "        学習用データのイテレーションごとの損失を記録するリスト   \n",
    "    val_loss_list : list\n",
    "        検証用データのエポックごとの損失を記録するリスト\n",
    "    mini_val_loss_list : list\n",
    "        検証用データのイテレーションごとの損失を記録するリスト        \n",
    "    \"\"\"\n",
    "    def __init__(self, epoc=20, activation='relu', solver='adagrad', alpha=0.005,\n",
    "                             batch_size=10, initial='he', sigma=0.01, n_nodes1=400, \n",
    "                             n_nodes2=200, verbose=True):\n",
    "        #ハイパーパラメータ \n",
    "        self.epoc            = epoc              #エポック数\n",
    "        self.activation   = activation     #活性化関数\n",
    "        self.solver          = solver            #最適化の手法\n",
    "        self.alpha           = alpha             #学習率\n",
    "        self.batch_size = batch_size   #バッチサイズ\n",
    "        self.initial           = initial             #重みの初期化方法\n",
    "        self.sigma          = sigma            #重みパラメータ\n",
    "        self.n_nodes1   = n_nodes1    #1層目のノード数\n",
    "        self.n_nodes2   = n_nodes2    #2層目のノード数\n",
    "        self.verbose      = verbose        #学習過程の出力(True : 有, False : 無)\n",
    "        \n",
    "        #インスタンス変数\n",
    "        self.FC1                         = None #結合層のインスタンス\n",
    "        self.FC2                         = None #結合層のインスタンス\n",
    "        self.FC3                          = None #結合層のインスタンス\n",
    "        self.activation1             = None #活性化関数のインスタンス\n",
    "        self.activation2             = None #活性化関数のインスタンス\n",
    "        self.activation3             = None #活性化関数のインスタンス\n",
    "        self.loss_list                  = None #学習用データの損失を記録する配列\n",
    "        self.mini_loss_list         = None #学習用データのイテレーションごとの損失を記録する配列        \n",
    "        self.val_loss_list           = None #検証用データの損失を記録する配列\n",
    "        self.mini_val_loss_list  = None #検証用データのイテレーションごとの損失を記録する配列\n",
    "    \n",
    "    def fit(self, X, y, X_val=None, y_val=None):\n",
    "        \"\"\"\n",
    "        ニューラルネットワーク分類器を学習する。\n",
    "\n",
    "        Parameters\n",
    "        ----------\n",
    "        X : 次の形のndarray, shape (n_samples, n_features)\n",
    "            学習用データの特徴量\n",
    "        y : 次の形のndarray, shape (n_samples, )\n",
    "            学習用データの正解値\n",
    "        X_val : 次の形のndarray, shape (n_samples, n_features)\n",
    "            検証用データの特徴量\n",
    "        y_val : 次の形のndarray, shape (n_samples, )\n",
    "            検証用データの正解値\n",
    "        \"\"\"\n",
    "        #1次元なら2次元にする\n",
    "        if X.ndim == 1:\n",
    "            X = X[:, np.newaxis]\n",
    "        if y.ndim == 1:\n",
    "            y = y[:, np.newaxis]\n",
    "            \n",
    "        #one_hotエンコーディング\n",
    "        n_output = np.unique(y).shape[0]\n",
    "        y_onehot = self._one_hot(y, n_output)\n",
    "        \n",
    "        #ミニバッチを取得するクラスをインスタンス化\n",
    "        train_mini_batch = GetMiniBatch(X, y_onehot, self.batch_size)\n",
    "        \n",
    "        #valがあるとき\n",
    "        if X_val is not None and y_val is not None:\n",
    "            \n",
    "            #1次元なら2次元にする\n",
    "            if X.ndim == 1:\n",
    "                X_val = X_val[:, np.newaxis]\n",
    "            if y_val.ndim == 1:\n",
    "                y_val = y_val[:, np.newaxis]\n",
    "            \n",
    "            #one-hotエンコーディング\n",
    "            y_val_onehot = self._one_hot(y_val, n_output) \n",
    "            \n",
    "            #インスタンス化\n",
    "            test_mini_batch = GetMiniBatch(X_val, y_val_onehot)\n",
    "        \n",
    "        \n",
    "        #活性化関数の選択\n",
    "        if self.activation == 'sigmoid':\n",
    "            activate1 = Sigmoid()\n",
    "            activate2 = Sigmoid()\n",
    "        elif self.activation == 'tanh':\n",
    "            activate1 = Tanh()\n",
    "            activate2 = Tanh()\n",
    "        elif self.activation == 'relu':\n",
    "            activate1 = Relu()\n",
    "            activate2 = Relu()\n",
    "        \n",
    "        #最適化手法の選択\n",
    "        if self.solver == 'sgd':\n",
    "            optimizer1 = SGD(self.alpha)\n",
    "            optimizer2 = SGD(self.alpha)\n",
    "            optimizer3 = SGD(self.alpha) \n",
    "        elif self.solver == 'adagrad':\n",
    "            optimizer1 = AdaGrad(self.alpha)\n",
    "            optimizer2 = AdaGrad(self.alpha)\n",
    "            optimizer3 = AdaGrad(self.alpha)\n",
    "            \n",
    "        #重みの初期化方法の選択\n",
    "        if self.initial == 'simple':\n",
    "            initializer1 = SimpleInitializer(self.sigma)\n",
    "            initializer2 = SimpleInitializer(self.sigma)\n",
    "            initializer3 = SimpleInitializer(self.sigma)\n",
    "        elif self.initial == 'xavier':\n",
    "            initializer1 = XavierInitializer()\n",
    "            initializer2 = XavierInitializer()\n",
    "            initializer3 = XavierInitializer()\n",
    "        elif self.initial == 'he':\n",
    "            initializer1 = HeInitializer()\n",
    "            initializer2 = HeInitializer()\n",
    "            initializer3 = HeInitializer()\n",
    "        \n",
    "        #結合層および活性化関数クラスのインスタンス化\n",
    "        self.FC1 = FC(X.shape[1], self.n_nodes1, initializer1, optimizer1) #第1層\n",
    "        self.activation1 = activate1\n",
    "        self.FC2 = FC(self.n_nodes1, self.n_nodes2, initializer2, optimizer2) #第2層\n",
    "        self.activation2 = activate2\n",
    "        self.FC3 = FC(self.n_nodes2, y_onehot.shape[1], initializer3, optimizer3) #第3層\n",
    "        self.activation3 = Softmax()\n",
    "\n",
    "        #損失を記録するリスト(エポックごと)\n",
    "        self.loss_list = []       #学習用\n",
    "        self.val_loss_list= [] #検証用\n",
    "        \n",
    "        #エポック数だけ繰り返す\n",
    "        for i in range(self.epoc):\n",
    "            \n",
    "            #損失を記録するリスト(イテレーション)\n",
    "            self.mini_loss_list = []\n",
    "            \n",
    "            #イテレーション数実行\n",
    "            for mini_X_train, mini_y_train in train_mini_batch:\n",
    "                \n",
    "                #フォワードプロバケーション\n",
    "                A1 = self.FC1.forward(mini_X_train) #1層目\n",
    "                Z1 = self.activation1.forward(A1)      #1層目\n",
    "                A2 = self.FC2.forward(Z1)                   #2層目\n",
    "                Z2 = self.activation2.forward(A2)      #2層目\n",
    "                A3 = self.FC3.forward(Z2)                  #3層目\n",
    "                Z3 = self.activation3.forward(A3)     #3層目\n",
    "\n",
    "                #バックプロバケーション\n",
    "                dA3, mini_loss = self.activation3.backward(mini_y_train) #3層目\n",
    "                dZ2 = self.FC3.backward(dA3)              #3層目\n",
    "                dA2 = self.activation2.backward(dZ2) #2層目\n",
    "                dZ1 = self.FC2.backward(dA2)              #2層目\n",
    "                dA1 = self.activation1.backward(dZ1) #1層目\n",
    "                dZ0 = self.FC1.backward(dA1)              #1層目\n",
    "                \n",
    "                #イテレーションごとの損失をリストに格納\n",
    "                self.mini_loss_list.append(mini_loss)\n",
    "                \n",
    "            #1エポックの損失の平均をリストに格納\n",
    "            loss = np.mean(self.mini_loss_list)\n",
    "            self.loss_list.append(loss)\n",
    "\n",
    "            #valがあるときもイテレーション数実行\n",
    "            if X_val is not None and y_val is not None:\n",
    "                \n",
    "                #損失を記録するリスト(イテレーション)\n",
    "                self.mini_val_loss_list = []\n",
    "                for mini_X_val, mini_y_val in test_mini_batch:\n",
    "\n",
    "                    #確率を予測\n",
    "                    A1 = self.FC1.forward(mini_X_val)\n",
    "                    Z1 = self.activation1.forward(A1)\n",
    "                    A2 = self.FC2.forward(Z1)\n",
    "                    Z2 = self.activation2.forward(A2)\n",
    "                    A3 = self.FC3.forward(Z2)\n",
    "                    Z3 = self.activation3.forward(A3)\n",
    "                    \n",
    "                    #損失を計算\n",
    "                    dA3, mini_val_loss = self.activation3.backward(mini_y_val) \n",
    "                    \n",
    "                    #イテレーションごとの損失をリストに格納\n",
    "                    self.mini_val_loss_list.append(mini_val_loss)\n",
    "\n",
    "                #1エポックの損失の平均をリストに格納\n",
    "                val_loss = np.mean(self.mini_val_loss_list)\n",
    "                self.val_loss_list.append(val_loss) \n",
    "\n",
    "                \n",
    "            #学習過程を出力する場合\n",
    "            if self.verbose == True:\n",
    "                print('学習用データの学習過程' + str(i + 1) + 'epoc目 : ' + str(self.loss_list[i]))\n",
    "\n",
    "                #検証用データあり\n",
    "                if X_val is not None or y_val is not None:\n",
    "                    print('検証用データの学習過程' + str(i + 1) + 'epoc目 : ' + str(self.val_loss_list[i]))\n",
    "                    \n",
    "                \n",
    "    def predict(self, X):\n",
    "        \"\"\"\n",
    "        ニューラルネットワーク分類器を使い推定する。\n",
    "\n",
    "        Parameters\n",
    "        ----------\n",
    "        X : 次の形のndarray, shape (n_samples, n_features)\n",
    "            サンプル\n",
    "\n",
    "        Returns\n",
    "        -------\n",
    "        次の形のndarray, shape (n_samples, 1)\n",
    "            推定結果\n",
    "        \"\"\"\n",
    "        #推定\n",
    "        A1 = self.FC1.forward(X)\n",
    "        Z1 = self.activation1.forward(A1)\n",
    "        A2 = self.FC2.forward(Z1)\n",
    "        Z2 = self.activation2.forward(A2)\n",
    "        A3 = self.FC3.forward(Z2)\n",
    "        y_pred = self.activation3.forward(A3)\n",
    "        \n",
    "        return np.argmax(y_pred, axis=1)\n",
    "            \n",
    "\n",
    "    def _one_hot(self, y, n_output):\n",
    "        '''\n",
    "        one-hotエンコーディングを行う関数\n",
    "       \n",
    "       Parameters\n",
    "        ---------------\n",
    "        y : 次の形のndarray, shape (n_features, 1)\n",
    "            正解ラベルのベクトル\n",
    "        n_output : int\n",
    "            正解ラベルのユニーク値\n",
    "            \n",
    "        Returns\n",
    "        ----------\n",
    "        one_hot.T : 次の形のndarray, shape (n_features, n_output)\n",
    "        '''\n",
    "        #0配列を用意\n",
    "        one_hot = np.zeros((n_output, y.shape[0]))\n",
    "        \n",
    "        #0配列の該当する位置に1を挿入\n",
    "        for idx, val in enumerate(y.astype(int)):\n",
    "            one_hot[val, idx] = 1\n",
    "\n",
    "        return one_hot.T"
   ]
  },
  {
   "cell_type": "code",
   "execution_count": 17,
   "metadata": {},
   "outputs": [],
   "source": [
    "class GetMiniBatch:\n",
    "    \"\"\"\n",
    "    ミニバッチを取得するイテレータ\n",
    "\n",
    "    Parameters\n",
    "    ----------\n",
    "    X : 次の形のndarray, shape (n_samples, n_features)\n",
    "      学習データ\n",
    "    y : 次の形のndarray, shape (n_samples, 1)\n",
    "      正解値\n",
    "    batch_size : int\n",
    "      バッチサイズ\n",
    "    seed : int\n",
    "      NumPyの乱数のシード\n",
    "    \"\"\"\n",
    "    def __init__(self, X, y, batch_size = 10, seed=0):\n",
    "        self.batch_size = batch_size\n",
    "        np.random.seed(seed)\n",
    "        shuffle_index = np.random.permutation(np.arange(X.shape[0]))\n",
    "        self.X = X[shuffle_index]\n",
    "        self.y = y[shuffle_index]\n",
    "        self._stop = np.ceil(X.shape[0]/self.batch_size).astype(np.int)\n",
    "\n",
    "    def __len__(self):\n",
    "        return self._stop\n",
    "\n",
    "    def __getitem__(self,item):\n",
    "        p0 = item*self.batch_size\n",
    "        p1 = item*self.batch_size + self.batch_size\n",
    "        return self.X[p0:p1], self.y[p0:p1]        \n",
    "\n",
    "    def __iter__(self):\n",
    "        self._counter = 0\n",
    "        return self\n",
    "\n",
    "    def __next__(self):\n",
    "        if self._counter >= self._stop:\n",
    "            raise StopIteration()\n",
    "        p0 = self._counter*self.batch_size\n",
    "        p1 = self._counter*self.batch_size + self.batch_size\n",
    "        self._counter += 1\n",
    "        return self.X[p0:p1], self.y[p0:p1]"
   ]
  },
  {
   "cell_type": "markdown",
   "metadata": {},
   "source": [
    "### 検証1\n",
    "- 活性化関数 : シグモイド\n",
    "- 最適化手法 : AdaGrad\n",
    "- 重みの初期値 : Xavier"
   ]
  },
  {
   "cell_type": "code",
   "execution_count": 18,
   "metadata": {
    "scrolled": false
   },
   "outputs": [
    {
     "name": "stdout",
     "output_type": "stream",
     "text": [
      "学習用データの学習過程1epoc目 : 0.4723707512173176\n",
      "検証用データの学習過程1epoc目 : 0.32531447257689583\n",
      "学習用データの学習過程2epoc目 : 0.2903943552047994\n",
      "検証用データの学習過程2epoc目 : 0.27990061217551654\n",
      "学習用データの学習過程3epoc目 : 0.25882342808875525\n",
      "検証用データの学習過程3epoc目 : 0.2573984704847602\n",
      "学習用データの学習過程4epoc目 : 0.24003432452248868\n",
      "検証用データの学習過程4epoc目 : 0.24235803483863422\n",
      "学習用データの学習過程5epoc目 : 0.22639953048187886\n",
      "検証用データの学習過程5epoc目 : 0.23099581440789943\n",
      "学習用データの学習過程6epoc目 : 0.21560892246114552\n",
      "検証用データの学習過程6epoc目 : 0.22184141839970248\n",
      "学習用データの学習過程7epoc目 : 0.2066528209917836\n",
      "検証用データの学習過程7epoc目 : 0.21417442337725584\n",
      "学習用データの学習過程8epoc目 : 0.19899263314175641\n",
      "検証用データの学習過程8epoc目 : 0.20758505891353493\n",
      "学習用データの学習過程9epoc目 : 0.19230157513253568\n",
      "検証用データの学習過程9epoc目 : 0.20181489359479987\n",
      "学習用データの学習過程10epoc目 : 0.18636350624347642\n",
      "検証用データの学習過程10epoc目 : 0.1966887329459774\n",
      "学習用データの学習過程11epoc目 : 0.1810269048859391\n",
      "検証用データの学習過程11epoc目 : 0.19208161680887934\n",
      "学習用データの学習過程12epoc目 : 0.17618116312110332\n",
      "検証用データの学習過程12epoc目 : 0.1879010922885056\n",
      "学習用データの学習過程13epoc目 : 0.1717430885389545\n",
      "検証用データの学習過程13epoc目 : 0.18407685785979383\n",
      "学習用データの学習過程14epoc目 : 0.16764862406029665\n",
      "検証用データの学習過程14epoc目 : 0.18055429790265257\n",
      "学習用データの学習過程15epoc目 : 0.16384748922546563\n",
      "検証用データの学習過程15epoc目 : 0.1772902327977786\n",
      "学習用データの学習過程16epoc目 : 0.16029957098571535\n",
      "検証用データの学習過程16epoc目 : 0.17425001262113005\n",
      "学習用データの学習過程17epoc目 : 0.15697241548482144\n",
      "検証用データの学習過程17epoc目 : 0.17140546813715718\n",
      "学習用データの学習過程18epoc目 : 0.15383943990007873\n",
      "検証用データの学習過程18epoc目 : 0.16873343127527438\n",
      "学習用データの学習過程19epoc目 : 0.1508786300641041\n",
      "検証用データの学習過程19epoc目 : 0.1662146459729196\n",
      "学習用データの学習過程20epoc目 : 0.1480715743238279\n",
      "検証用データの学習過程20epoc目 : 0.16383295324357716\n"
     ]
    }
   ],
   "source": [
    "#予測\n",
    "sdn1 = ScratchDeepNeuralNetrowkClassifier(activation='sigmoid', solver='adagrad', initial='xavier')\n",
    "\n",
    "sdn1.fit(X_train, y_train, X_val, y_val)"
   ]
  },
  {
   "cell_type": "code",
   "execution_count": 19,
   "metadata": {},
   "outputs": [],
   "source": [
    "y_pred1 = sdn1.predict(X_test)"
   ]
  },
  {
   "cell_type": "code",
   "execution_count": 20,
   "metadata": {},
   "outputs": [],
   "source": [
    "def cost_curve(loss, val_loss):\n",
    "    plt.plot(loss)\n",
    "    plt.plot(val_loss)\n",
    "    plt.xlabel('Epochs')\n",
    "    plt.ylabel('Cost')\n",
    "    plt.title('Cost curve')\n",
    "    plt.show()"
   ]
  },
  {
   "cell_type": "code",
   "execution_count": 21,
   "metadata": {},
   "outputs": [
    {
     "data": {
      "image/png": "[encoded data removed]",
      "text/plain": [
       "<Figure size 432x288 with 1 Axes>"
      ]
     },
     "metadata": {
      "needs_background": "light"
     },
     "output_type": "display_data"
    }
   ],
   "source": [
    "cost_curve(sdn1.loss_list, sdn1.val_loss_list)"
   ]
  },
  {
   "cell_type": "code",
   "execution_count": 22,
   "metadata": {},
   "outputs": [],
   "source": [
    "def evalution(y_test, y_pred):\n",
    "    '''\n",
    "     分類問題の指標値を出力する関数\n",
    " \n",
    "     Paraeters\n",
    "     -------------\n",
    "    y_test : 次の形のndarray, shape (n_samples, )\n",
    "        正解値\n",
    "    y_pred : 次の形のndarray, shape (n_samples, )\n",
    "        予測したラベル\n",
    "    '''\n",
    "    #accuracy\n",
    "    accuracy = accuracy_score(y_test, y_pred)\n",
    "    print('accuracy :', accuracy)\n",
    "\n",
    "    #precision\n",
    "    precision = precision_score(y_test, y_pred, average='macro')\n",
    "    print('precision :', precision)\n",
    "\n",
    "    #recall\n",
    "    recall = recall_score(y_test, y_pred, average='macro')\n",
    "    print('recall :', recall)\n",
    "\n",
    "    #f1\n",
    "    f1 = f1_score(y_test, y_pred, average='macro')\n",
    "    print('f1 :', f1)"
   ]
  },
  {
   "cell_type": "code",
   "execution_count": 23,
   "metadata": {},
   "outputs": [
    {
     "name": "stdout",
     "output_type": "stream",
     "text": [
      "accuracy : 0.9534\n",
      "precision : 0.9529922700454169\n",
      "recall : 0.9528226949738405\n",
      "f1 : 0.952843310418455\n"
     ]
    }
   ],
   "source": [
    "evalution(y_test, y_pred1)"
   ]
  },
  {
   "cell_type": "markdown",
   "metadata": {},
   "source": [
    "### 検証2\n",
    "- 活性化関数 : シグモイド\n",
    "- 最適化手法 : AdaGrad\n",
    "- 重みの初期値 : He"
   ]
  },
  {
   "cell_type": "code",
   "execution_count": 24,
   "metadata": {
    "scrolled": false
   },
   "outputs": [
    {
     "name": "stdout",
     "output_type": "stream",
     "text": [
      "学習用データの学習過程1epoc目 : 0.44119989454303027\n",
      "検証用データの学習過程1epoc目 : 0.3191849236544275\n",
      "学習用データの学習過程2epoc目 : 0.2872947113848493\n",
      "検証用データの学習過程2epoc目 : 0.2787669251486233\n",
      "学習用データの学習過程3epoc目 : 0.25822150887487866\n",
      "検証用データの学習過程3epoc目 : 0.2579327394785994\n",
      "学習用データの学習過程4epoc目 : 0.2404206781958055\n",
      "検証用データの学習過程4epoc目 : 0.24369297603520929\n",
      "学習用データの学習過程5epoc目 : 0.22729098703481018\n",
      "検証用データの学習過程5epoc目 : 0.23276907802183455\n",
      "学習用データの学習過程6epoc目 : 0.21678196553848542\n",
      "検証用データの学習過程6epoc目 : 0.22386590102214293\n",
      "学習用データの学習過程7epoc目 : 0.20798586889866555\n",
      "検証用データの学習過程7epoc目 : 0.21634244039677242\n",
      "学習用データの学習過程8epoc目 : 0.20041357569808674\n",
      "検証用データの学習過程8epoc目 : 0.20983092404798356\n",
      "学習用データの学習過程9epoc目 : 0.1937653610005469\n",
      "検証用データの学習過程9epoc目 : 0.20409716900401226\n",
      "学習用データの学習過程10epoc目 : 0.18784114911860192\n",
      "検証用データの学習過程10epoc目 : 0.19898072837147776\n",
      "学習用データの学習過程11epoc目 : 0.1824995094052528\n",
      "検証用データの学習過程11epoc目 : 0.19436591511407408\n",
      "学習用データの学習過程12epoc目 : 0.17763639168511516\n",
      "検証用データの学習過程12epoc目 : 0.19016624461970458\n",
      "学習用データの学習過程13epoc目 : 0.17317295274389924\n",
      "検証用データの学習過程13epoc目 : 0.18631532542462878\n",
      "学習用データの学習過程14epoc目 : 0.16904806005297365\n",
      "検証用データの学習過程14epoc目 : 0.18276114118288106\n",
      "学習用データの学習過程15epoc目 : 0.1652134206261127\n",
      "検証用データの学習過程15epoc目 : 0.17946226221545183\n",
      "学習用データの学習過程16epoc目 : 0.1616302829918486\n",
      "検証用データの学習過程16epoc目 : 0.17638522986551408\n",
      "学習用データの学習過程17epoc目 : 0.15826713048366023\n",
      "検証用データの学習過程17epoc目 : 0.1735026930222715\n",
      "学習用データの学習過程18epoc目 : 0.15509802494596564\n",
      "検証用データの学習過程18epoc目 : 0.17079204816718166\n",
      "学習用データの学習過程19epoc目 : 0.1521013916416545\n",
      "検証用データの学習過程19epoc目 : 0.16823442807905545\n",
      "学習用データの学習過程20epoc目 : 0.14925911182885068\n",
      "検証用データの学習過程20epoc目 : 0.16581393843136852\n"
     ]
    }
   ],
   "source": [
    "#予測\n",
    "sdn2 = ScratchDeepNeuralNetrowkClassifier(activation='sigmoid', solver='adagrad', initial='he')\n",
    "\n",
    "sdn2.fit(X_train, y_train, X_val, y_val)"
   ]
  },
  {
   "cell_type": "code",
   "execution_count": 25,
   "metadata": {},
   "outputs": [],
   "source": [
    "y_pred2 = sdn2.predict(X_test)"
   ]
  },
  {
   "cell_type": "code",
   "execution_count": 26,
   "metadata": {},
   "outputs": [
    {
     "data": {
      "image/png": "[encoded data removed]",
      "text/plain": [
       "<Figure size 432x288 with 1 Axes>"
      ]
     },
     "metadata": {
      "needs_background": "light"
     },
     "output_type": "display_data"
    }
   ],
   "source": [
    "cost_curve(sdn2.loss_list, sdn2.val_loss_list)"
   ]
  },
  {
   "cell_type": "code",
   "execution_count": 27,
   "metadata": {},
   "outputs": [
    {
     "name": "stdout",
     "output_type": "stream",
     "text": [
      "accuracy : 0.9525\n",
      "precision : 0.9521294055799304\n",
      "recall : 0.9518870192735172\n",
      "f1 : 0.9519429961615128\n"
     ]
    }
   ],
   "source": [
    "evalution(y_test, y_pred2)"
   ]
  },
  {
   "cell_type": "markdown",
   "metadata": {},
   "source": [
    "### 検証3\n",
    "- 活性化関数 : Sigmoid\n",
    "- 最適化手法 : AdaGrad\n",
    "- 重みの初期値 : Simple(ガウス分布)"
   ]
  },
  {
   "cell_type": "code",
   "execution_count": 28,
   "metadata": {
    "scrolled": false
   },
   "outputs": [
    {
     "name": "stdout",
     "output_type": "stream",
     "text": [
      "学習用データの学習過程1epoc目 : 1.1269762766492961\n",
      "検証用データの学習過程1epoc目 : 0.5483257745269349\n",
      "学習用データの学習過程2epoc目 : 0.4173874251305708\n",
      "検証用データの学習過程2epoc目 : 0.3587749246224191\n",
      "学習用データの学習過程3epoc目 : 0.3244596028853096\n",
      "検証用データの学習過程3epoc目 : 0.3108860260897431\n",
      "学習用データの学習過程4epoc目 : 0.289620203696631\n",
      "検証用データの学習過程4epoc目 : 0.28501982065111864\n",
      "学習用データの学習過程5epoc目 : 0.2681909174948082\n",
      "検証用データの学習過程5epoc目 : 0.26734894659026837\n",
      "学習用データの学習過程6epoc目 : 0.2524787772870683\n",
      "検証用データの学習過程6epoc目 : 0.2538276387686304\n",
      "学習用データの学習過程7epoc目 : 0.23990501652785207\n",
      "検証用データの学習過程7epoc目 : 0.24281955634185035\n",
      "学習用データの学習過程8epoc目 : 0.22934328434060697\n",
      "検証用データの学習過程8epoc目 : 0.23352634143912734\n",
      "学習用データの学習過程9epoc目 : 0.22021022724792735\n",
      "検証用データの学習過程9epoc目 : 0.22549776909061606\n",
      "学習用データの学習過程10epoc目 : 0.21216316210067795\n",
      "検証用データの学習過程10epoc目 : 0.21845029039327143\n",
      "学習用データの学習過程11epoc目 : 0.20498024990786098\n",
      "検証用データの学習過程11epoc目 : 0.21219003056726451\n",
      "学習用データの学習過程12epoc目 : 0.19850679630730222\n",
      "検証用データの学習過程12epoc目 : 0.2065765052049298\n",
      "学習用データの学習過程13epoc目 : 0.19262852110228365\n",
      "検証用データの学習過程13epoc目 : 0.20150362409318168\n",
      "学習用データの学習過程14epoc目 : 0.18725709806921925\n",
      "検証用データの学習過程14epoc目 : 0.19688881553506918\n",
      "学習用データの学習過程15epoc目 : 0.18232189865481493\n",
      "検証用データの学習過程15epoc目 : 0.19266633574380249\n",
      "学習用データの学習過程16epoc目 : 0.17776508475910718\n",
      "検証用データの学習過程16epoc目 : 0.18878290982641693\n",
      "学習用データの学習過程17epoc目 : 0.1735385511022534\n",
      "検証用データの学習過程17epoc目 : 0.18519476472961435\n",
      "学習用データの学習過程18epoc目 : 0.16960189282256155\n",
      "検証用データの学習過程18epoc目 : 0.18186553723540375\n",
      "学習用データの学習過程19epoc目 : 0.16592095209557134\n",
      "検証用データの学習過程19epoc目 : 0.17876475118926946\n",
      "学習用データの学習過程20epoc目 : 0.1624667136257001\n",
      "検証用データの学習過程20epoc目 : 0.17586667626114907\n"
     ]
    }
   ],
   "source": [
    "#予測\n",
    "sdn3 = ScratchDeepNeuralNetrowkClassifier(activation='sigmoid', solver='adagrad', initial='simple')\n",
    "\n",
    "sdn3.fit(X_train, y_train, X_val, y_val)"
   ]
  },
  {
   "cell_type": "code",
   "execution_count": 29,
   "metadata": {},
   "outputs": [],
   "source": [
    "y_pred3 = sdn3.predict(X_test)"
   ]
  },
  {
   "cell_type": "code",
   "execution_count": 30,
   "metadata": {},
   "outputs": [
    {
     "data": {
      "image/png": "[encoded data removed]",
      "text/plain": [
       "<Figure size 432x288 with 1 Axes>"
      ]
     },
     "metadata": {
      "needs_background": "light"
     },
     "output_type": "display_data"
    }
   ],
   "source": [
    "cost_curve(sdn3.loss_list, sdn3.val_loss_list)"
   ]
  },
  {
   "cell_type": "code",
   "execution_count": 31,
   "metadata": {},
   "outputs": [
    {
     "name": "stdout",
     "output_type": "stream",
     "text": [
      "accuracy : 0.9501\n",
      "precision : 0.9496432355407276\n",
      "recall : 0.9495232988921\n",
      "f1 : 0.9495230771946988\n"
     ]
    }
   ],
   "source": [
    "evalution(y_test, y_pred3)"
   ]
  },
  {
   "cell_type": "markdown",
   "metadata": {},
   "source": [
    "### 検証4\n",
    "- 活性化関数 : ReLu\n",
    "- 最適化手法 : SGD\n",
    "- 重みの初期値 : He"
   ]
  },
  {
   "cell_type": "code",
   "execution_count": 32,
   "metadata": {
    "scrolled": false
   },
   "outputs": [
    {
     "name": "stdout",
     "output_type": "stream",
     "text": [
      "学習用データの学習過程1epoc目 : 0.50193422303541\n",
      "検証用データの学習過程1epoc目 : 0.28214929690646046\n",
      "学習用データの学習過程2epoc目 : 0.2429906414620343\n",
      "検証用データの学習過程2epoc目 : 0.21754613877795406\n",
      "学習用データの学習過程3epoc目 : 0.19058098200139087\n",
      "検証用データの学習過程3epoc目 : 0.18268007473724363\n",
      "学習用データの学習過程4epoc目 : 0.15780419439668622\n",
      "検証用データの学習過程4epoc目 : 0.15926503258964878\n",
      "学習用データの学習過程5epoc目 : 0.13452435554316403\n",
      "検証用データの学習過程5epoc目 : 0.14222899786447105\n",
      "学習用データの学習過程6epoc目 : 0.1168049647816629\n",
      "検証用データの学習過程6epoc目 : 0.12954565787934408\n",
      "学習用データの学習過程7epoc目 : 0.10273074434500974\n",
      "検証用データの学習過程7epoc目 : 0.11950629783020154\n",
      "学習用データの学習過程8epoc目 : 0.09108595584694636\n",
      "検証用データの学習過程8epoc目 : 0.11170840456856841\n",
      "学習用データの学習過程9epoc目 : 0.081274646158493\n",
      "検証用データの学習過程9epoc目 : 0.1053912201358356\n",
      "学習用データの学習過程10epoc目 : 0.07287849451285869\n",
      "検証用データの学習過程10epoc目 : 0.10021926034074675\n",
      "学習用データの学習過程11epoc目 : 0.06561541100424034\n",
      "検証用データの学習過程11epoc目 : 0.09586317745541213\n",
      "学習用データの学習過程12epoc目 : 0.05924514429826221\n",
      "検証用データの学習過程12epoc目 : 0.09231262291136673\n",
      "学習用データの学習過程13epoc目 : 0.053634788602095425\n",
      "検証用データの学習過程13epoc目 : 0.08923686545421601\n",
      "学習用データの学習過程14epoc目 : 0.04863603156493282\n",
      "検証用データの学習過程14epoc目 : 0.08651676141934364\n",
      "学習用データの学習過程15epoc目 : 0.04417205317257522\n",
      "検証用データの学習過程15epoc目 : 0.08424827977278024\n",
      "学習用データの学習過程16epoc目 : 0.040170945268297335\n",
      "検証用データの学習過程16epoc目 : 0.082383064367026\n",
      "学習用データの学習過程17epoc目 : 0.03657969390060845\n",
      "検証用データの学習過程17epoc目 : 0.08068121401130945\n",
      "学習用データの学習過程18epoc目 : 0.033286898526482755\n",
      "検証用データの学習過程18epoc目 : 0.0792858752396224\n",
      "学習用データの学習過程19epoc目 : 0.030349038797563777\n",
      "検証用データの学習過程19epoc目 : 0.07821918996549115\n",
      "学習用データの学習過程20epoc目 : 0.02770147143583695\n",
      "検証用データの学習過程20epoc目 : 0.07725185881138147\n"
     ]
    }
   ],
   "source": [
    "#予測\n",
    "sdn4 = ScratchDeepNeuralNetrowkClassifier(activation='relu', solver='sgd', initial='he')\n",
    "\n",
    "sdn4.fit(X_train, y_train, X_val, y_val)"
   ]
  },
  {
   "cell_type": "code",
   "execution_count": 33,
   "metadata": {},
   "outputs": [],
   "source": [
    "y_pred4 = sdn4.predict(X_test)"
   ]
  },
  {
   "cell_type": "code",
   "execution_count": 34,
   "metadata": {},
   "outputs": [
    {
     "data": {
      "image/png": "[encoded data removed]",
      "text/plain": [
       "<Figure size 432x288 with 1 Axes>"
      ]
     },
     "metadata": {
      "needs_background": "light"
     },
     "output_type": "display_data"
    }
   ],
   "source": [
    "cost_curve(sdn4.loss_list, sdn4.val_loss_list)"
   ]
  },
  {
   "cell_type": "code",
   "execution_count": 35,
   "metadata": {},
   "outputs": [
    {
     "name": "stdout",
     "output_type": "stream",
     "text": [
      "accuracy : 0.9773\n",
      "precision : 0.977369363999275\n",
      "recall : 0.9769586654861234\n",
      "f1 : 0.9771244632681707\n"
     ]
    }
   ],
   "source": [
    "evalution(y_test, y_pred4)"
   ]
  },
  {
   "cell_type": "markdown",
   "metadata": {},
   "source": [
    "### 検証5\n",
    "- 活性化関数 : ReLu\n",
    "- 最適化手法 : AdaGrad\n",
    "- 重みの初期値 : He"
   ]
  },
  {
   "cell_type": "code",
   "execution_count": 36,
   "metadata": {
    "scrolled": false
   },
   "outputs": [
    {
     "name": "stdout",
     "output_type": "stream",
     "text": [
      "学習用データの学習過程1epoc目 : 0.21144251933925615\n",
      "検証用データの学習過程1epoc目 : 0.14112638948349646\n",
      "学習用データの学習過程2epoc目 : 0.10992773659049253\n",
      "検証用データの学習過程2epoc目 : 0.11396218003164066\n",
      "学習用データの学習過程3epoc目 : 0.08432012656353545\n",
      "検証用データの学習過程3epoc目 : 0.10050871603056744\n",
      "学習用データの学習過程4epoc目 : 0.06927045048849036\n",
      "検証用データの学習過程4epoc目 : 0.09228633251899555\n",
      "学習用データの学習過程5epoc目 : 0.058738611004086325\n",
      "検証用データの学習過程5epoc目 : 0.08664395913192986\n",
      "学習用データの学習過程6epoc目 : 0.05083883618574647\n",
      "検証用データの学習過程6epoc目 : 0.0824939239979371\n",
      "学習用データの学習過程7epoc目 : 0.044638920970855304\n",
      "検証用データの学習過程7epoc目 : 0.07944809943357332\n",
      "学習用データの学習過程8epoc目 : 0.03962475057225752\n",
      "検証用データの学習過程8epoc目 : 0.07710410906887409\n",
      "学習用データの学習過程9epoc目 : 0.03546433173099914\n",
      "検証用データの学習過程9epoc目 : 0.07526930513552738\n",
      "学習用データの学習過程10epoc目 : 0.03194868132883898\n",
      "検証用データの学習過程10epoc目 : 0.07380236874738429\n",
      "学習用データの学習過程11epoc目 : 0.028933474116637492\n",
      "検証用データの学習過程11epoc目 : 0.07259873998930921\n",
      "学習用データの学習過程12epoc目 : 0.02633219225412071\n",
      "検証用データの学習過程12epoc目 : 0.07163689612796233\n",
      "学習用データの学習過程13epoc目 : 0.02406651677706908\n",
      "検証用データの学習過程13epoc目 : 0.07079532958317093\n",
      "学習用データの学習過程14epoc目 : 0.022075585849244652\n",
      "検証用データの学習過程14epoc目 : 0.07017873767697963\n",
      "学習用データの学習過程15epoc目 : 0.020325884330155634\n",
      "検証用データの学習過程15epoc目 : 0.06966024912604288\n",
      "学習用データの学習過程16epoc目 : 0.018773184231130096\n",
      "検証用データの学習過程16epoc目 : 0.06924392572991828\n",
      "学習用データの学習過程17epoc目 : 0.0173911950689879\n",
      "検証用データの学習過程17epoc目 : 0.06894023264429042\n",
      "学習用データの学習過程18epoc目 : 0.016152420250909117\n",
      "検証用データの学習過程18epoc目 : 0.0686719234858405\n",
      "学習用データの学習過程19epoc目 : 0.01503792925219441\n",
      "検証用データの学習過程19epoc目 : 0.06848820381804362\n",
      "学習用データの学習過程20epoc目 : 0.014039664217725045\n",
      "検証用データの学習過程20epoc目 : 0.0683403305368992\n"
     ]
    }
   ],
   "source": [
    "#予測\n",
    "sdn5 = ScratchDeepNeuralNetrowkClassifier(activation='relu', solver='adagrad', initial='he')\n",
    "\n",
    "sdn5.fit(X_train, y_train, X_val, y_val)"
   ]
  },
  {
   "cell_type": "code",
   "execution_count": 37,
   "metadata": {},
   "outputs": [],
   "source": [
    "y_pred5 = sdn5.predict(X_test)"
   ]
  },
  {
   "cell_type": "code",
   "execution_count": 38,
   "metadata": {},
   "outputs": [
    {
     "data": {
      "image/png": "[encoded data removed]",
      "text/plain": [
       "<Figure size 432x288 with 1 Axes>"
      ]
     },
     "metadata": {
      "needs_background": "light"
     },
     "output_type": "display_data"
    }
   ],
   "source": [
    "cost_curve(sdn5.loss_list, sdn5.val_loss_list)"
   ]
  },
  {
   "cell_type": "code",
   "execution_count": 39,
   "metadata": {},
   "outputs": [
    {
     "name": "stdout",
     "output_type": "stream",
     "text": [
      "accuracy : 0.9811\n",
      "precision : 0.9810572481919451\n",
      "recall : 0.9809063285036845\n",
      "f1 : 0.9809675669219227\n"
     ]
    }
   ],
   "source": [
    "evalution(y_test, y_pred5)"
   ]
  },
  {
   "cell_type": "markdown",
   "metadata": {},
   "source": [
    "### 検証6\n",
    "- 活性化関数 : Tanh\n",
    "- 最適化手法 : AdaGrad\n",
    "- 重みの初期値 : Xavier"
   ]
  },
  {
   "cell_type": "code",
   "execution_count": 40,
   "metadata": {
    "scrolled": false
   },
   "outputs": [
    {
     "name": "stdout",
     "output_type": "stream",
     "text": [
      "学習用データの学習過程1epoc目 : 0.28102099402185254\n",
      "検証用データの学習過程1epoc目 : 0.2192397295802787\n",
      "学習用データの学習過程2epoc目 : 0.1887854936206203\n",
      "検証用データの学習過程2epoc目 : 0.18495782531194913\n",
      "学習用データの学習過程3epoc目 : 0.15995350882474804\n",
      "検証用データの学習過程3epoc目 : 0.16604669935381355\n",
      "学習用データの学習過程4epoc目 : 0.14186198350295542\n",
      "検証用データの学習過程4epoc目 : 0.15323563550153638\n",
      "学習用データの学習過程5epoc目 : 0.1287132335117439\n",
      "検証用データの学習過程5epoc目 : 0.14367532896164784\n",
      "学習用データの学習過程6epoc目 : 0.11842976354545443\n",
      "検証用データの学習過程6epoc目 : 0.13614635100504985\n",
      "学習用データの学習過程7epoc目 : 0.11002510031287799\n",
      "検証用データの学習過程7epoc目 : 0.130008305975003\n",
      "学習用データの学習過程8epoc目 : 0.10294956652085675\n",
      "検証用データの学習過程8epoc目 : 0.12487913274459113\n",
      "学習用データの学習過程9epoc目 : 0.09686286903786498\n",
      "検証用データの学習過程9epoc目 : 0.12051124474856671\n",
      "学習用データの学習過程10epoc目 : 0.09153893290935895\n",
      "検証用データの学習過程10epoc目 : 0.11673482452336875\n",
      "学習用データの学習過程11epoc目 : 0.08682005340806993\n",
      "検証用データの学習過程11epoc目 : 0.11342873504353318\n",
      "学習用データの学習過程12epoc目 : 0.0825920976123461\n",
      "検証用データの学習過程12epoc目 : 0.11050404899627499\n",
      "学習用データの学習過程13epoc目 : 0.07876996249452711\n",
      "検証用データの学習過程13epoc目 : 0.10789395067743487\n",
      "学習用データの学習過程14epoc目 : 0.07528860353437314\n",
      "検証用データの学習過程14epoc目 : 0.10554721281563702\n",
      "学習用データの学習過程15epoc目 : 0.07209727378374367\n",
      "検証用データの学習過程15epoc目 : 0.10342383462075726\n",
      "学習用データの学習過程16epoc目 : 0.06915567702087377\n",
      "検証用データの学習過程16epoc目 : 0.101492047518638\n",
      "学習用データの学習過程17epoc目 : 0.06643131028887549\n",
      "検証用データの学習過程17epoc目 : 0.09972621655951708\n",
      "学習用データの学習過程18epoc目 : 0.06389758196142932\n",
      "検証用データの学習過程18epoc目 : 0.09810535130777817\n",
      "学習用データの学習過程19epoc目 : 0.06153245773338803\n",
      "検証用データの学習過程19epoc目 : 0.09661204276998607\n",
      "学習用データの学習過程20epoc目 : 0.05931747603930546\n",
      "検証用データの学習過程20epoc目 : 0.09523169574286393\n"
     ]
    }
   ],
   "source": [
    "#予測\n",
    "sdn6 = ScratchDeepNeuralNetrowkClassifier(activation='tanh', solver='adagrad', initial='xavier')\n",
    "\n",
    "sdn6.fit(X_train, y_train, X_val, y_val)"
   ]
  },
  {
   "cell_type": "code",
   "execution_count": 41,
   "metadata": {},
   "outputs": [],
   "source": [
    "y_pred6 = sdn6.predict(X_test)"
   ]
  },
  {
   "cell_type": "code",
   "execution_count": 42,
   "metadata": {},
   "outputs": [
    {
     "data": {
      "image/png": "[encoded data removed]",
      "text/plain": [
       "<Figure size 432x288 with 1 Axes>"
      ]
     },
     "metadata": {
      "needs_background": "light"
     },
     "output_type": "display_data"
    }
   ],
   "source": [
    "cost_curve(sdn6.loss_list, sdn6.val_loss_list)"
   ]
  },
  {
   "cell_type": "code",
   "execution_count": 43,
   "metadata": {},
   "outputs": [
    {
     "name": "stdout",
     "output_type": "stream",
     "text": [
      "accuracy : 0.9722\n",
      "precision : 0.9721911565571713\n",
      "recall : 0.9719121938924846\n",
      "f1 : 0.9720208862606391\n"
     ]
    }
   ],
   "source": [
    "evalution(y_test, y_pred6)"
   ]
  },
  {
   "cell_type": "markdown",
   "metadata": {},
   "source": [
    "重みの初期化方法は、シグモイド関数やハイパボリックタンジェント関数のときはXavier、ReLUのときはHeの初期値が推奨されている。シグモイド関数、ハイパポリックタンジェント関数でXavierの初期値を用いた場合、活性化関数後の出力データは、ガウス分布と比較して広がりをもった釣鐘型の形とため、より効率的に学習できる。一方、ReLU関数では負の領域が0となるため、より分布の広がりを持たせるHeの初期値を用いることで、効率よく学習できる。\n",
    "\n",
    "シグモイド関数で重みの初期化方法をXavier(検証1), He(検証2), ガウス分布(検証3)の3種類試し、一番精度が良かったのは推奨されているXavierを用いた場合であった。\n",
    "\n",
    "次に、活性化関数がReLU、重みの初期化方法をHeとして、最適化方法をSGD(検証4)、AdaGrad(検証5)の2種類を試し、精度がよかったのはAdaGradを用いた場合であった。AdaGradは学習を進めるにつれて学習率を小さくするため、SGDより効率的に誤差を最小にすることができる。\n",
    "\n",
    "検証1、5、6では最適化手法をAdaGradで、活性化関数と重みの初期化方法シグモイド、ハイパポリックタンジェント関数であればXavier、ReLUなら Heと、推奨されている組み合わせを試し、一番精度が良かったのが活性化関数にReLU関数を用いた組み合わせ(検証5)であった。"
   ]
  }
 ],
 "metadata": {
  "kernelspec": {
   "display_name": "Python 3",
   "language": "python",
   "name": "python3"
  },
  "language_info": {
   "codemirror_mode": {
    "name": "ipython",
    "version": 3
   },
   "file_extension": ".py",
   "mimetype": "text/x-python",
   "name": "python",
   "nbconvert_exporter": "python",
   "pygments_lexer": "ipython3",
   "version": "3.7.2"
  },
  "varInspector": {
   "cols": {
    "lenName": 16,
    "lenType": 16,
    "lenVar": 40
   },
   "kernels_config": {
    "python": {
     "delete_cmd_postfix": "",
     "delete_cmd_prefix": "del ",
     "library": "var_list.py",
     "varRefreshCmd": "print(var_dic_list())"
    },
    "r": {
     "delete_cmd_postfix": ") ",
     "delete_cmd_prefix": "rm(",
     "library": "var_list.r",
     "varRefreshCmd": "cat(var_dic_list()) "
    }
   },
   "types_to_exclude": [
    "module",
    "function",
    "builtin_function_or_method",
    "instance",
    "_Feature"
   ],
   "window_display": false
  }
 },
 "nbformat": 4,
 "nbformat_minor": 2
}
