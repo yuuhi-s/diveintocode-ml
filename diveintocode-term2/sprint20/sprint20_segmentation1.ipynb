{
 "cells": [
  {
   "cell_type": "markdown",
   "metadata": {
    "colab_type": "text",
    "id": "UL9UBqefRJKd"
   },
   "source": [
    "# Sprint20課題 セグメンテーション"
   ]
  },
  {
   "cell_type": "markdown",
   "metadata": {
    "colab_type": "text",
    "id": "D6E5dunZRI6s"
   },
   "source": [
    "## この課題の目的\n",
    "\n",
    "- セグメンテーションを行う\n",
    "\n"
   ]
  },
  {
   "cell_type": "markdown",
   "metadata": {
    "colab_type": "text",
    "id": "_ciHHS_GRI1b"
   },
   "source": [
    "## セグメンテーション\n",
    "\n",
    "医療データに対するセグメンテーションを行います。KaggleのTGS Salt Identification Challengeのデータセットを使用します。\n",
    "\n",
    "[TGS Salt Identification Challenge | Kaggle](https://www.kaggle.com/c/tgs-salt-identification-challenge)\n",
    "\n",
    "セグメンテーション手法としてU-Net\\[1\\]を使います。\n",
    "\n",
    "\\[1\\]O.Ronneberger, P.Fischer, T.Brox. U-Net: Convolutional Networks for Biomedical Image Segmentation. Medical Image Computing and Computer-Assisted Intervention (MICCAI), Springer, LNCS, Vol.9351: 234–241, 2015\n",
    "\n",
    "[https://arxiv.org/pdf/1505.04597.pdf](https://arxiv.org/pdf/1505.04597.pdf)"
   ]
  },
  {
   "cell_type": "markdown",
   "metadata": {
    "colab_type": "text",
    "id": "r1Zx7Cz5RP0h"
   },
   "source": [
    "## 【問題1】学習・推定\n",
    "\n",
    "以下のKeras実装を使用して学習・推定を行ってください。\n",
    "\n",
    "[zhixuhao/unet: unet for image segmentation](https://github.com/zhixuhao/unet)\n",
    "\n",
    "GPU環境での学習\n",
    "\n",
    "大規模なデータセット、大きなモデルになるため、GPUを使用する必要があります。\n",
    "\n",
    "新たなデータセットの適用\n",
    "\n",
    "Sprint18,19と同様に実装で用意されたものとは異なるデータセットを入力します。"
   ]
  },
  {
   "cell_type": "code",
   "execution_count": 1,
   "metadata": {
    "colab": {
     "base_uri": "https://localhost:8080/",
     "height": 34
    },
    "colab_type": "code",
    "executionInfo": {
     "elapsed": 1991,
     "status": "ok",
     "timestamp": 1561193769625,
     "user": {
      "displayName": "Yuhi Soejima",
      "photoUrl": "",
      "userId": "10660385064496019405"
     },
     "user_tz": -540
    },
    "id": "5_bKD8B-QmIX",
    "outputId": "8572c70c-2499-4ec2-ca79-807a4c9c52b2"
   },
   "outputs": [
    {
     "name": "stderr",
     "output_type": "stream",
     "text": [
      "Using TensorFlow backend.\n"
     ]
    }
   ],
   "source": [
    "import pandas as pd\n",
    "import numpy as np\n",
    "import matplotlib.pyplot as plt\n",
    "%matplotlib inline\n",
    "from keras.preprocessing.image import load_img"
   ]
  },
  {
   "cell_type": "code",
   "execution_count": 2,
   "metadata": {
    "colab": {
     "base_uri": "https://localhost:8080/",
     "height": 88,
     "resources": {
      "http://localhost:8080/nbextensions/google.colab/files.js": {
       "data": "Ly8gQ29weXJpZ2h0IDIwMTcgR29vZ2xlIExMQwovLwovLyBMaWNlbnNlZCB1bmRlciB0aGUgQXBhY2hlIExpY2Vuc2UsIFZlcnNpb24gMi4wICh0aGUgIkxpY2Vuc2UiKTsKLy8geW91IG1heSBub3QgdXNlIHRoaXMgZmlsZSBleGNlcHQgaW4gY29tcGxpYW5jZSB3aXRoIHRoZSBMaWNlbnNlLgovLyBZb3UgbWF5IG9idGFpbiBhIGNvcHkgb2YgdGhlIExpY2Vuc2UgYXQKLy8KLy8gICAgICBodHRwOi8vd3d3LmFwYWNoZS5vcmcvbGljZW5zZXMvTElDRU5TRS0yLjAKLy8KLy8gVW5sZXNzIHJlcXVpcmVkIGJ5IGFwcGxpY2FibGUgbGF3IG9yIGFncmVlZCB0byBpbiB3cml0aW5nLCBzb2Z0d2FyZQovLyBkaXN0cmlidXRlZCB1bmRlciB0aGUgTGljZW5zZSBpcyBkaXN0cmlidXRlZCBvbiBhbiAiQVMgSVMiIEJBU0lTLAovLyBXSVRIT1VUIFdBUlJBTlRJRVMgT1IgQ09ORElUSU9OUyBPRiBBTlkgS0lORCwgZWl0aGVyIGV4cHJlc3Mgb3IgaW1wbGllZC4KLy8gU2VlIHRoZSBMaWNlbnNlIGZvciB0aGUgc3BlY2lmaWMgbGFuZ3VhZ2UgZ292ZXJuaW5nIHBlcm1pc3Npb25zIGFuZAovLyBsaW1pdGF0aW9ucyB1bmRlciB0aGUgTGljZW5zZS4KCi8qKgogKiBAZmlsZW92ZXJ2aWV3IEhlbHBlcnMgZm9yIGdvb2dsZS5jb2xhYiBQeXRob24gbW9kdWxlLgogKi8KKGZ1bmN0aW9uKHNjb3BlKSB7CmZ1bmN0aW9uIHNwYW4odGV4dCwgc3R5bGVBdHRyaWJ1dGVzID0ge30pIHsKICBjb25zdCBlbGVtZW50ID0gZG9jdW1lbnQuY3JlYXRlRWxlbWVudCgnc3BhbicpOwogIGVsZW1lbnQudGV4dENvbnRlbnQgPSB0ZXh0OwogIGZvciAoY29uc3Qga2V5IG9mIE9iamVjdC5rZXlzKHN0eWxlQXR0cmlidXRlcykpIHsKICAgIGVsZW1lbnQuc3R5bGVba2V5XSA9IHN0eWxlQXR0cmlidXRlc1trZXldOwogIH0KICByZXR1cm4gZWxlbWVudDsKfQoKLy8gTWF4IG51bWJlciBvZiBieXRlcyB3aGljaCB3aWxsIGJlIHVwbG9hZGVkIGF0IGEgdGltZS4KY29uc3QgTUFYX1BBWUxPQURfU0laRSA9IDEwMCAqIDEwMjQ7Ci8vIE1heCBhbW91bnQgb2YgdGltZSB0byBibG9jayB3YWl0aW5nIGZvciB0aGUgdXNlci4KY29uc3QgRklMRV9DSEFOR0VfVElNRU9VVF9NUyA9IDMwICogMTAwMDsKCmZ1bmN0aW9uIF91cGxvYWRGaWxlcyhpbnB1dElkLCBvdXRwdXRJZCkgewogIGNvbnN0IHN0ZXBzID0gdXBsb2FkRmlsZXNTdGVwKGlucHV0SWQsIG91dHB1dElkKTsKICBjb25zdCBvdXRwdXRFbGVtZW50ID0gZG9jdW1lbnQuZ2V0RWxlbWVudEJ5SWQob3V0cHV0SWQpOwogIC8vIENhY2hlIHN0ZXBzIG9uIHRoZSBvdXRwdXRFbGVtZW50IHRvIG1ha2UgaXQgYXZhaWxhYmxlIGZvciB0aGUgbmV4dCBjYWxsCiAgLy8gdG8gdXBsb2FkRmlsZXNDb250aW51ZSBmcm9tIFB5dGhvbi4KICBvdXRwdXRFbGVtZW50LnN0ZXBzID0gc3RlcHM7CgogIHJldHVybiBfdXBsb2FkRmlsZXNDb250aW51ZShvdXRwdXRJZCk7Cn0KCi8vIFRoaXMgaXMgcm91Z2hseSBhbiBhc3luYyBnZW5lcmF0b3IgKG5vdCBzdXBwb3J0ZWQgaW4gdGhlIGJyb3dzZXIgeWV0KSwKLy8gd2hlcmUgdGhlcmUgYXJlIG11bHRpcGxlIGFzeW5jaHJvbm91cyBzdGVwcyBhbmQgdGhlIFB5dGhvbiBzaWRlIGlzIGdvaW5nCi8vIHRvIHBvbGwgZm9yIGNvbXBsZXRpb24gb2YgZWFjaCBzdGVwLgovLyBUaGlzIHVzZXMgYSBQcm9taXNlIHRvIGJsb2NrIHRoZSBweXRob24gc2lkZSBvbiBjb21wbGV0aW9uIG9mIGVhY2ggc3RlcCwKLy8gdGhlbiBwYXNzZXMgdGhlIHJlc3VsdCBvZiB0aGUgcHJldmlvdXMgc3RlcCBhcyB0aGUgaW5wdXQgdG8gdGhlIG5leHQgc3RlcC4KZnVuY3Rpb24gX3VwbG9hZEZpbGVzQ29udGludWUob3V0cHV0SWQpIHsKICBjb25zdCBvdXRwdXRFbGVtZW50ID0gZG9jdW1lbnQuZ2V0RWxlbWVudEJ5SWQob3V0cHV0SWQpOwogIGNvbnN0IHN0ZXBzID0gb3V0cHV0RWxlbWVudC5zdGVwczsKCiAgY29uc3QgbmV4dCA9IHN0ZXBzLm5leHQob3V0cHV0RWxlbWVudC5sYXN0UHJvbWlzZVZhbHVlKTsKICByZXR1cm4gUHJvbWlzZS5yZXNvbHZlKG5leHQudmFsdWUucHJvbWlzZSkudGhlbigodmFsdWUpID0+IHsKICAgIC8vIENhY2hlIHRoZSBsYXN0IHByb21pc2UgdmFsdWUgdG8gbWFrZSBpdCBhdmFpbGFibGUgdG8gdGhlIG5leHQKICAgIC8vIHN0ZXAgb2YgdGhlIGdlbmVyYXRvci4KICAgIG91dHB1dEVsZW1lbnQubGFzdFByb21pc2VWYWx1ZSA9IHZhbHVlOwogICAgcmV0dXJuIG5leHQudmFsdWUucmVzcG9uc2U7CiAgfSk7Cn0KCi8qKgogKiBHZW5lcmF0b3IgZnVuY3Rpb24gd2hpY2ggaXMgY2FsbGVkIGJldHdlZW4gZWFjaCBhc3luYyBzdGVwIG9mIHRoZSB1cGxvYWQKICogcHJvY2Vzcy4KICogQHBhcmFtIHtzdHJpbmd9IGlucHV0SWQgRWxlbWVudCBJRCBvZiB0aGUgaW5wdXQgZmlsZSBwaWNrZXIgZWxlbWVudC4KICogQHBhcmFtIHtzdHJpbmd9IG91dHB1dElkIEVsZW1lbnQgSUQgb2YgdGhlIG91dHB1dCBkaXNwbGF5LgogKiBAcmV0dXJuIHshSXRlcmFibGU8IU9iamVjdD59IEl0ZXJhYmxlIG9mIG5leHQgc3RlcHMuCiAqLwpmdW5jdGlvbiogdXBsb2FkRmlsZXNTdGVwKGlucHV0SWQsIG91dHB1dElkKSB7CiAgY29uc3QgaW5wdXRFbGVtZW50ID0gZG9jdW1lbnQuZ2V0RWxlbWVudEJ5SWQoaW5wdXRJZCk7CiAgaW5wdXRFbGVtZW50LmRpc2FibGVkID0gZmFsc2U7CgogIGNvbnN0IG91dHB1dEVsZW1lbnQgPSBkb2N1bWVudC5nZXRFbGVtZW50QnlJZChvdXRwdXRJZCk7CiAgb3V0cHV0RWxlbWVudC5pbm5lckhUTUwgPSAnJzsKCiAgY29uc3QgcGlja2VkUHJvbWlzZSA9IG5ldyBQcm9taXNlKChyZXNvbHZlKSA9PiB7CiAgICBpbnB1dEVsZW1lbnQuYWRkRXZlbnRMaXN0ZW5lcignY2hhbmdlJywgKGUpID0+IHsKICAgICAgcmVzb2x2ZShlLnRhcmdldC5maWxlcyk7CiAgICB9KTsKICB9KTsKCiAgY29uc3QgY2FuY2VsID0gZG9jdW1lbnQuY3JlYXRlRWxlbWVudCgnYnV0dG9uJyk7CiAgaW5wdXRFbGVtZW50LnBhcmVudEVsZW1lbnQuYXBwZW5kQ2hpbGQoY2FuY2VsKTsKICBjYW5jZWwudGV4dENvbnRlbnQgPSAnQ2FuY2VsIHVwbG9hZCc7CiAgY29uc3QgY2FuY2VsUHJvbWlzZSA9IG5ldyBQcm9taXNlKChyZXNvbHZlKSA9PiB7CiAgICBjYW5jZWwub25jbGljayA9ICgpID0+IHsKICAgICAgcmVzb2x2ZShudWxsKTsKICAgIH07CiAgfSk7CgogIC8vIENhbmNlbCB1cGxvYWQgaWYgdXNlciBoYXNuJ3QgcGlja2VkIGFueXRoaW5nIGluIHRpbWVvdXQuCiAgY29uc3QgdGltZW91dFByb21pc2UgPSBuZXcgUHJvbWlzZSgocmVzb2x2ZSkgPT4gewogICAgc2V0VGltZW91dCgoKSA9PiB7CiAgICAgIHJlc29sdmUobnVsbCk7CiAgICB9LCBGSUxFX0NIQU5HRV9USU1FT1VUX01TKTsKICB9KTsKCiAgLy8gV2FpdCBmb3IgdGhlIHVzZXIgdG8gcGljayB0aGUgZmlsZXMuCiAgY29uc3QgZmlsZXMgPSB5aWVsZCB7CiAgICBwcm9taXNlOiBQcm9taXNlLnJhY2UoW3BpY2tlZFByb21pc2UsIHRpbWVvdXRQcm9taXNlLCBjYW5jZWxQcm9taXNlXSksCiAgICByZXNwb25zZTogewogICAgICBhY3Rpb246ICdzdGFydGluZycsCiAgICB9CiAgfTsKCiAgaWYgKCFmaWxlcykgewogICAgcmV0dXJuIHsKICAgICAgcmVzcG9uc2U6IHsKICAgICAgICBhY3Rpb246ICdjb21wbGV0ZScsCiAgICAgIH0KICAgIH07CiAgfQoKICBjYW5jZWwucmVtb3ZlKCk7CgogIC8vIERpc2FibGUgdGhlIGlucHV0IGVsZW1lbnQgc2luY2UgZnVydGhlciBwaWNrcyBhcmUgbm90IGFsbG93ZWQuCiAgaW5wdXRFbGVtZW50LmRpc2FibGVkID0gdHJ1ZTsKCiAgZm9yIChjb25zdCBmaWxlIG9mIGZpbGVzKSB7CiAgICBjb25zdCBsaSA9IGRvY3VtZW50LmNyZWF0ZUVsZW1lbnQoJ2xpJyk7CiAgICBsaS5hcHBlbmQoc3BhbihmaWxlLm5hbWUsIHtmb250V2VpZ2h0OiAnYm9sZCd9KSk7CiAgICBsaS5hcHBlbmQoc3BhbigKICAgICAgICBgKCR7ZmlsZS50eXBlIHx8ICduL2EnfSkgLSAke2ZpbGUuc2l6ZX0gYnl0ZXMsIGAgKwogICAgICAgIGBsYXN0IG1vZGlmaWVkOiAkewogICAgICAgICAgICBmaWxlLmxhc3RNb2RpZmllZERhdGUgPyBmaWxlLmxhc3RNb2RpZmllZERhdGUudG9Mb2NhbGVEYXRlU3RyaW5nKCkgOgogICAgICAgICAgICAgICAgICAgICAgICAgICAgICAgICAgICAnbi9hJ30gLSBgKSk7CiAgICBjb25zdCBwZXJjZW50ID0gc3BhbignMCUgZG9uZScpOwogICAgbGkuYXBwZW5kQ2hpbGQocGVyY2VudCk7CgogICAgb3V0cHV0RWxlbWVudC5hcHBlbmRDaGlsZChsaSk7CgogICAgY29uc3QgZmlsZURhdGFQcm9taXNlID0gbmV3IFByb21pc2UoKHJlc29sdmUpID0+IHsKICAgICAgY29uc3QgcmVhZGVyID0gbmV3IEZpbGVSZWFkZXIoKTsKICAgICAgcmVhZGVyLm9ubG9hZCA9IChlKSA9PiB7CiAgICAgICAgcmVzb2x2ZShlLnRhcmdldC5yZXN1bHQpOwogICAgICB9OwogICAgICByZWFkZXIucmVhZEFzQXJyYXlCdWZmZXIoZmlsZSk7CiAgICB9KTsKICAgIC8vIFdhaXQgZm9yIHRoZSBkYXRhIHRvIGJlIHJlYWR5LgogICAgbGV0IGZpbGVEYXRhID0geWllbGQgewogICAgICBwcm9taXNlOiBmaWxlRGF0YVByb21pc2UsCiAgICAgIHJlc3BvbnNlOiB7CiAgICAgICAgYWN0aW9uOiAnY29udGludWUnLAogICAgICB9CiAgICB9OwoKICAgIC8vIFVzZSBhIGNodW5rZWQgc2VuZGluZyB0byBhdm9pZCBtZXNzYWdlIHNpemUgbGltaXRzLiBTZWUgYi82MjExNTY2MC4KICAgIGxldCBwb3NpdGlvbiA9IDA7CiAgICB3aGlsZSAocG9zaXRpb24gPCBmaWxlRGF0YS5ieXRlTGVuZ3RoKSB7CiAgICAgIGNvbnN0IGxlbmd0aCA9IE1hdGgubWluKGZpbGVEYXRhLmJ5dGVMZW5ndGggLSBwb3NpdGlvbiwgTUFYX1BBWUxPQURfU0laRSk7CiAgICAgIGNvbnN0IGNodW5rID0gbmV3IFVpbnQ4QXJyYXkoZmlsZURhdGEsIHBvc2l0aW9uLCBsZW5ndGgpOwogICAgICBwb3NpdGlvbiArPSBsZW5ndGg7CgogICAgICBjb25zdCBiYXNlNjQgPSBidG9hKFN0cmluZy5mcm9tQ2hhckNvZGUuYXBwbHkobnVsbCwgY2h1bmspKTsKICAgICAgeWllbGQgewogICAgICAgIHJlc3BvbnNlOiB7CiAgICAgICAgICBhY3Rpb246ICdhcHBlbmQnLAogICAgICAgICAgZmlsZTogZmlsZS5uYW1lLAogICAgICAgICAgZGF0YTogYmFzZTY0LAogICAgICAgIH0sCiAgICAgIH07CiAgICAgIHBlcmNlbnQudGV4dENvbnRlbnQgPQogICAgICAgICAgYCR7TWF0aC5yb3VuZCgocG9zaXRpb24gLyBmaWxlRGF0YS5ieXRlTGVuZ3RoKSAqIDEwMCl9JSBkb25lYDsKICAgIH0KICB9CgogIC8vIEFsbCBkb25lLgogIHlpZWxkIHsKICAgIHJlc3BvbnNlOiB7CiAgICAgIGFjdGlvbjogJ2NvbXBsZXRlJywKICAgIH0KICB9Owp9CgpzY29wZS5nb29nbGUgPSBzY29wZS5nb29nbGUgfHwge307CnNjb3BlLmdvb2dsZS5jb2xhYiA9IHNjb3BlLmdvb2dsZS5jb2xhYiB8fCB7fTsKc2NvcGUuZ29vZ2xlLmNvbGFiLl9maWxlcyA9IHsKICBfdXBsb2FkRmlsZXMsCiAgX3VwbG9hZEZpbGVzQ29udGludWUsCn07Cn0pKHNlbGYpOwo=",
       "headers": [
        [
         "content-type",
         "application/javascript"
        ]
       ],
       "ok": true,
       "status": 200,
       "status_text": ""
      }
     }
    },
    "colab_type": "code",
    "executionInfo": {
     "elapsed": 13463,
     "status": "ok",
     "timestamp": 1561193784372,
     "user": {
      "displayName": "Yuhi Soejima",
      "photoUrl": "",
      "userId": "10660385064496019405"
     },
     "user_tz": -540
    },
    "id": "TJmfkKu4Qtwy",
    "outputId": "2aaf35f3-84b9-4639-967b-bd56365f5892"
   },
   "outputs": [
    {
     "data": {
      "text/html": [
       "\n",
       "     <input type=\"file\" id=\"files-c68b8a9d-f690-4db4-a506-c0fa22232239\" name=\"files[]\" multiple disabled />\n",
       "     <output id=\"result-c68b8a9d-f690-4db4-a506-c0fa22232239\">\n",
       "      Upload widget is only available when the cell has been executed in the\n",
       "      current browser session. Please rerun this cell to enable.\n",
       "      </output>\n",
       "      <script src=\"/nbextensions/google.colab/files.js\"></script> "
      ],
      "text/plain": [
       "<IPython.core.display.HTML object>"
      ]
     },
     "metadata": {
      "tags": []
     },
     "output_type": "display_data"
    },
    {
     "name": "stdout",
     "output_type": "stream",
     "text": [
      "Saving kaggle.json to kaggle.json\n"
     ]
    },
    {
     "data": {
      "text/plain": [
       "{'kaggle.json': b'{\"username\":\"yuhisoejima\",\"key\":\"2634857713af1415f450cf49bef0ce5f\"}'}"
      ]
     },
     "execution_count": 2,
     "metadata": {
      "tags": []
     },
     "output_type": "execute_result"
    }
   ],
   "source": [
    "#ファイルをアップロード\n",
    "from google.colab import files\n",
    "files.upload()"
   ]
  },
  {
   "cell_type": "code",
   "execution_count": 0,
   "metadata": {
    "colab": {},
    "colab_type": "code",
    "id": "fyPXzj_4Qu5T"
   },
   "outputs": [],
   "source": [
    "#kaggleフォルダを作成し、そこにjsonをコピーする\n",
    "!mkdir -p ~/.kaggle\n",
    "!cp kaggle.json ~/.kaggle/"
   ]
  },
  {
   "cell_type": "code",
   "execution_count": 0,
   "metadata": {
    "colab": {},
    "colab_type": "code",
    "id": "hqWKfw8rQyCC"
   },
   "outputs": [],
   "source": [
    "#アクセスパーミッション\n",
    "!chmod 600 /root/.kaggle/kaggle.json"
   ]
  },
  {
   "cell_type": "code",
   "execution_count": 5,
   "metadata": {
    "colab": {
     "base_uri": "https://localhost:8080/",
     "height": 272
    },
    "colab_type": "code",
    "executionInfo": {
     "elapsed": 6890,
     "status": "ok",
     "timestamp": 1561193797227,
     "user": {
      "displayName": "Yuhi Soejima",
      "photoUrl": "",
      "userId": "10660385064496019405"
     },
     "user_tz": -540
    },
    "id": "io13eYB9Qy0t",
    "outputId": "3e456b01-f2e2-4121-bafa-d27fb6a54d04"
   },
   "outputs": [
    {
     "name": "stdout",
     "output_type": "stream",
     "text": [
      "Downloading depths.csv to /content\n",
      "\r",
      "  0% 0.00/322k [00:00<?, ?B/s]\n",
      "100% 322k/322k [00:00<00:00, 73.7MB/s]\n",
      "Downloading sample_submission.csv to /content\n",
      "  0% 0.00/264k [00:00<?, ?B/s]\n",
      "100% 264k/264k [00:00<00:00, 65.4MB/s]\n",
      "Downloading train.csv to /content\n",
      "  0% 0.00/922k [00:00<?, ?B/s]\n",
      "100% 922k/922k [00:00<00:00, 60.6MB/s]\n",
      "Downloading test.zip to /content\n",
      " 93% 152M/163M [00:00<00:00, 180MB/s]\n",
      "100% 163M/163M [00:00<00:00, 194MB/s]\n",
      "Downloading train.zip to /content\n",
      " 87% 33.0M/37.9M [00:00<00:00, 109MB/s] \n",
      "100% 37.9M/37.9M [00:00<00:00, 150MB/s]\n"
     ]
    }
   ],
   "source": [
    "#kaggleデータの読み込み\n",
    "!kaggle competitions download -c tgs-salt-identification-challenge"
   ]
  },
  {
   "cell_type": "code",
   "execution_count": 0,
   "metadata": {
    "colab": {},
    "colab_type": "code",
    "id": "asCvDkh1Qy3G"
   },
   "outputs": [],
   "source": [
    "#学習データの解凍\n",
    "!unzip train.zip -d train"
   ]
  },
  {
   "cell_type": "code",
   "execution_count": 0,
   "metadata": {
    "colab": {},
    "colab_type": "code",
    "id": "z1lDmsasQy5W"
   },
   "outputs": [],
   "source": [
    "#テストデータの解凍\n",
    "!unzip test.zip -d test"
   ]
  },
  {
   "cell_type": "code",
   "execution_count": 0,
   "metadata": {
    "colab": {},
    "colab_type": "code",
    "id": "KuMwTdDjpk1E"
   },
   "outputs": [],
   "source": [
    "#推定した画像を保存するディレクトリ\n",
    "!mkdir 'test/results'"
   ]
  },
  {
   "cell_type": "code",
   "execution_count": 0,
   "metadata": {
    "colab": {},
    "colab_type": "code",
    "id": "Zl3XdUSooEup"
   },
   "outputs": [],
   "source": [
    "#unetモデルの解凍\n",
    "!unzip unet.zip"
   ]
  },
  {
   "cell_type": "markdown",
   "metadata": {
    "colab_type": "text",
    "id": "xuwTsE0sRTsC"
   },
   "source": [
    "### データの確認"
   ]
  },
  {
   "cell_type": "code",
   "execution_count": 10,
   "metadata": {
    "colab": {
     "base_uri": "https://localhost:8080/",
     "height": 130
    },
    "colab_type": "code",
    "executionInfo": {
     "elapsed": 1615,
     "status": "ok",
     "timestamp": 1561193816033,
     "user": {
      "displayName": "Yuhi Soejima",
      "photoUrl": "",
      "userId": "10660385064496019405"
     },
     "user_tz": -540
    },
    "id": "uH1AMJAYQy-D",
    "outputId": "4e57b1f0-0e2f-4376-ab2f-6fee2a0099d1"
   },
   "outputs": [
    {
     "data": {
      "image/png": "[encoded data removed]",
      "text/plain": [
       "<Figure size 1440x720 with 10 Axes>"
      ]
     },
     "metadata": {
      "tags": []
     },
     "output_type": "display_data"
    }
   ],
   "source": [
    "#適当なidのリスト\n",
    "ids= ['000e218f21','13483cd62a','00441f1cf2','28a1187a4e','5a02df7676']\n",
    "\n",
    "#imagesとmasks画像を表示\n",
    "plt.figure(figsize=(20,10))\n",
    "for j, img_name in enumerate(ids):\n",
    "    q = j+1\n",
    "    img = load_img('./train/images/' + img_name + '.png') #imagesの画像\n",
    "    img_mask = load_img('./train/masks/' + img_name + '.png') #masksの画像\n",
    "    \n",
    "    plt.subplot(1,2*(1+len(ids)),q*2-1)\n",
    "    plt.imshow(img)\n",
    "    plt.subplot(1,2*(1+len(ids)),q*2)\n",
    "    plt.imshow(img_mask)\n",
    "plt.show()"
   ]
  },
  {
   "cell_type": "markdown",
   "metadata": {
    "colab_type": "text",
    "id": "LwevNf2LXov-"
   },
   "source": [
    "学習用画像について、左から、あるIDのimagesの画像、masksの画像の順に並んでいる。"
   ]
  },
  {
   "cell_type": "markdown",
   "metadata": {
    "colab_type": "text",
    "id": "tdMUO05OWrp2"
   },
   "source": [
    "### 学習, 推定"
   ]
  },
  {
   "cell_type": "code",
   "execution_count": 11,
   "metadata": {
    "colab": {
     "base_uri": "https://localhost:8080/",
     "height": 2740
    },
    "colab_type": "code",
    "executionInfo": {
     "elapsed": 923166,
     "status": "ok",
     "timestamp": 1561194742260,
     "user": {
      "displayName": "Yuhi Soejima",
      "photoUrl": "",
      "userId": "10660385064496019405"
     },
     "user_tz": -540
    },
    "id": "KecTGvYkBkcc",
    "outputId": "6395d600-46ab-4ad3-bfa4-76e4335798c3",
    "scrolled": false
   },
   "outputs": [
    {
     "name": "stderr",
     "output_type": "stream",
     "text": [
      "WARNING: Logging before flag parsing goes to stderr.\n",
      "W0622 08:57:01.843465 139793632630656 deprecation_wrapper.py:119] From /usr/local/lib/python3.6/dist-packages/keras/backend/tensorflow_backend.py:74: The name tf.get_default_graph is deprecated. Please use tf.compat.v1.get_default_graph instead.\n",
      "\n",
      "W0622 08:57:01.877020 139793632630656 deprecation_wrapper.py:119] From /usr/local/lib/python3.6/dist-packages/keras/backend/tensorflow_backend.py:517: The name tf.placeholder is deprecated. Please use tf.compat.v1.placeholder instead.\n",
      "\n",
      "W0622 08:57:01.883755 139793632630656 deprecation_wrapper.py:119] From /usr/local/lib/python3.6/dist-packages/keras/backend/tensorflow_backend.py:4185: The name tf.truncated_normal is deprecated. Please use tf.random.truncated_normal instead.\n",
      "\n",
      "W0622 08:57:01.918435 139793632630656 deprecation_wrapper.py:119] From /usr/local/lib/python3.6/dist-packages/keras/backend/tensorflow_backend.py:3976: The name tf.nn.max_pool is deprecated. Please use tf.nn.max_pool2d instead.\n",
      "\n",
      "W0622 08:57:01.984604 139793632630656 deprecation_wrapper.py:119] From /usr/local/lib/python3.6/dist-packages/keras/backend/tensorflow_backend.py:133: The name tf.placeholder_with_default is deprecated. Please use tf.compat.v1.placeholder_with_default instead.\n",
      "\n",
      "W0622 08:57:01.993220 139793632630656 deprecation.py:506] From /usr/local/lib/python3.6/dist-packages/keras/backend/tensorflow_backend.py:3445: calling dropout (from tensorflow.python.ops.nn_ops) with keep_prob is deprecated and will be removed in a future version.\n",
      "Instructions for updating:\n",
      "Please use `rate` instead of `keep_prob`. Rate should be set to `rate = 1 - keep_prob`.\n",
      "W0622 08:57:02.049039 139793632630656 deprecation_wrapper.py:119] From /usr/local/lib/python3.6/dist-packages/keras/backend/tensorflow_backend.py:2018: The name tf.image.resize_nearest_neighbor is deprecated. Please use tf.compat.v1.image.resize_nearest_neighbor instead.\n",
      "\n",
      "W0622 08:57:02.203817 139793632630656 deprecation_wrapper.py:119] From /usr/local/lib/python3.6/dist-packages/keras/backend/tensorflow_backend.py:4138: The name tf.random_uniform is deprecated. Please use tf.random.uniform instead.\n",
      "\n",
      "/content/unet/model.py:55: UserWarning: Update your `Model` call to the Keras 2 API: `Model(inputs=Tensor(\"in..., outputs=Tensor(\"co...)`\n",
      "  model = Model(input = inputs, output = conv10)\n",
      "W0622 08:57:02.230873 139793632630656 deprecation_wrapper.py:119] From /usr/local/lib/python3.6/dist-packages/keras/optimizers.py:790: The name tf.train.Optimizer is deprecated. Please use tf.compat.v1.train.Optimizer instead.\n",
      "\n",
      "W0622 08:57:02.240340 139793632630656 deprecation.py:323] From /usr/local/lib/python3.6/dist-packages/tensorflow/python/ops/nn_impl.py:180: add_dispatch_support.<locals>.wrapper (from tensorflow.python.ops.array_ops) is deprecated and will be removed in a future version.\n",
      "Instructions for updating:\n",
      "Use tf.where in 2.0, which has the same broadcast rule as np.where\n"
     ]
    },
    {
     "name": "stdout",
     "output_type": "stream",
     "text": [
      "Epoch 1/10\n",
      "Found 4000 images belonging to 1 classes.\n",
      "Found 4000 images belonging to 1 classes.\n",
      "500/500 [==============================] - 96s 192ms/step - loss: 0.6888 - acc: 0.7505\n",
      "\n",
      "Epoch 00001: loss improved from inf to 0.68880, saving model to unet_membrane.hdf5\n",
      "Epoch 2/10\n",
      "500/500 [==============================] - 88s 175ms/step - loss: 0.6797 - acc: 0.7502\n",
      "\n",
      "Epoch 00002: loss improved from 0.68880 to 0.67969, saving model to unet_membrane.hdf5\n",
      "Epoch 3/10\n",
      "500/500 [==============================] - 89s 179ms/step - loss: 0.6718 - acc: 0.7472\n",
      "\n",
      "Epoch 00003: loss improved from 0.67969 to 0.67180, saving model to unet_membrane.hdf5\n",
      "Epoch 4/10\n",
      "500/500 [==============================] - 89s 179ms/step - loss: 0.6627 - acc: 0.7591\n",
      "\n",
      "Epoch 00004: loss improved from 0.67180 to 0.66268, saving model to unet_membrane.hdf5\n",
      "Epoch 5/10\n",
      "500/500 [==============================] - 90s 179ms/step - loss: 0.6557 - acc: 0.7548\n",
      "\n",
      "Epoch 00005: loss improved from 0.66268 to 0.65568, saving model to unet_membrane.hdf5\n",
      "Epoch 6/10\n",
      "500/500 [==============================] - 90s 179ms/step - loss: 0.6517 - acc: 0.7401\n",
      "\n",
      "Epoch 00006: loss improved from 0.65568 to 0.65173, saving model to unet_membrane.hdf5\n",
      "Epoch 7/10\n",
      "500/500 [==============================] - 89s 179ms/step - loss: 0.6421 - acc: 0.7571\n",
      "\n",
      "Epoch 00007: loss improved from 0.65173 to 0.64206, saving model to unet_membrane.hdf5\n",
      "Epoch 8/10\n",
      "500/500 [==============================] - 90s 179ms/step - loss: 0.6362 - acc: 0.7555\n",
      "\n",
      "Epoch 00008: loss improved from 0.64206 to 0.63622, saving model to unet_membrane.hdf5\n",
      "Epoch 9/10\n",
      "500/500 [==============================] - 90s 180ms/step - loss: 0.6311 - acc: 0.7533\n",
      "\n",
      "Epoch 00009: loss improved from 0.63622 to 0.63105, saving model to unet_membrane.hdf5\n",
      "Epoch 10/10\n",
      "500/500 [==============================] - 90s 179ms/step - loss: 0.6263 - acc: 0.7517\n",
      "\n",
      "Epoch 00010: loss improved from 0.63105 to 0.62625, saving model to unet_membrane.hdf5\n",
      "30/30 [==============================] - 3s 114ms/step\n"
     ]
    },
    {
     "name": "stderr",
     "output_type": "stream",
     "text": [
      "/usr/local/lib/python3.6/dist-packages/skimage/io/_io.py:141: UserWarning: test/results/b2afc5f0b4.png is a low contrast image\n",
      "  warn('%s is a low contrast image' % fname)\n",
      "W0622 09:12:23.022027 139793632630656 util.py:61] Lossy conversion from float32 to uint8. Range [0, 1]. Convert image to uint8 prior to saving to suppress this warning.\n",
      "/usr/local/lib/python3.6/dist-packages/skimage/io/_io.py:141: UserWarning: test/results/7c3c2d6b19.png is a low contrast image\n",
      "  warn('%s is a low contrast image' % fname)\n",
      "W0622 09:12:23.028984 139793632630656 util.py:61] Lossy conversion from float32 to uint8. Range [0, 1]. Convert image to uint8 prior to saving to suppress this warning.\n",
      "/usr/local/lib/python3.6/dist-packages/skimage/io/_io.py:141: UserWarning: test/results/15117177f0.png is a low contrast image\n",
      "  warn('%s is a low contrast image' % fname)\n",
      "W0622 09:12:23.034812 139793632630656 util.py:61] Lossy conversion from float32 to uint8. Range [0, 1]. Convert image to uint8 prior to saving to suppress this warning.\n",
      "/usr/local/lib/python3.6/dist-packages/skimage/io/_io.py:141: UserWarning: test/results/a65ba359fa.png is a low contrast image\n",
      "  warn('%s is a low contrast image' % fname)\n",
      "W0622 09:12:23.051177 139793632630656 util.py:61] Lossy conversion from float32 to uint8. Range [0, 1]. Convert image to uint8 prior to saving to suppress this warning.\n",
      "/usr/local/lib/python3.6/dist-packages/skimage/io/_io.py:141: UserWarning: test/results/b983d50fa3.png is a low contrast image\n",
      "  warn('%s is a low contrast image' % fname)\n",
      "W0622 09:12:23.057954 139793632630656 util.py:61] Lossy conversion from float32 to uint8. Range [0, 1]. Convert image to uint8 prior to saving to suppress this warning.\n",
      "/usr/local/lib/python3.6/dist-packages/skimage/io/_io.py:141: UserWarning: test/results/279f39950a.png is a low contrast image\n",
      "  warn('%s is a low contrast image' % fname)\n",
      "W0622 09:12:23.065144 139793632630656 util.py:61] Lossy conversion from float32 to uint8. Range [0, 1]. Convert image to uint8 prior to saving to suppress this warning.\n",
      "/usr/local/lib/python3.6/dist-packages/skimage/io/_io.py:141: UserWarning: test/results/5be0000be2.png is a low contrast image\n",
      "  warn('%s is a low contrast image' % fname)\n",
      "W0622 09:12:23.070883 139793632630656 util.py:61] Lossy conversion from float32 to uint8. Range [0, 1]. Convert image to uint8 prior to saving to suppress this warning.\n",
      "/usr/local/lib/python3.6/dist-packages/skimage/io/_io.py:141: UserWarning: test/results/4e0acb57df.png is a low contrast image\n",
      "  warn('%s is a low contrast image' % fname)\n",
      "W0622 09:12:23.077618 139793632630656 util.py:61] Lossy conversion from float32 to uint8. Range [0, 1]. Convert image to uint8 prior to saving to suppress this warning.\n",
      "/usr/local/lib/python3.6/dist-packages/skimage/io/_io.py:141: UserWarning: test/results/051c0a2ddb.png is a low contrast image\n",
      "  warn('%s is a low contrast image' % fname)\n",
      "W0622 09:12:23.084040 139793632630656 util.py:61] Lossy conversion from float32 to uint8. Range [0, 1]. Convert image to uint8 prior to saving to suppress this warning.\n",
      "/usr/local/lib/python3.6/dist-packages/skimage/io/_io.py:141: UserWarning: test/results/60b26ed15e.png is a low contrast image\n",
      "  warn('%s is a low contrast image' % fname)\n",
      "W0622 09:12:23.090230 139793632630656 util.py:61] Lossy conversion from float32 to uint8. Range [0, 1]. Convert image to uint8 prior to saving to suppress this warning.\n",
      "/usr/local/lib/python3.6/dist-packages/skimage/io/_io.py:141: UserWarning: test/results/9061243d58.png is a low contrast image\n",
      "  warn('%s is a low contrast image' % fname)\n",
      "W0622 09:12:23.096491 139793632630656 util.py:61] Lossy conversion from float32 to uint8. Range [0, 1]. Convert image to uint8 prior to saving to suppress this warning.\n",
      "/usr/local/lib/python3.6/dist-packages/skimage/io/_io.py:141: UserWarning: test/results/196638fe77.png is a low contrast image\n",
      "  warn('%s is a low contrast image' % fname)\n",
      "W0622 09:12:23.102969 139793632630656 util.py:61] Lossy conversion from float32 to uint8. Range [0, 1]. Convert image to uint8 prior to saving to suppress this warning.\n",
      "/usr/local/lib/python3.6/dist-packages/skimage/io/_io.py:141: UserWarning: test/results/97e335754c.png is a low contrast image\n",
      "  warn('%s is a low contrast image' % fname)\n",
      "W0622 09:12:23.109381 139793632630656 util.py:61] Lossy conversion from float32 to uint8. Range [0, 1]. Convert image to uint8 prior to saving to suppress this warning.\n",
      "/usr/local/lib/python3.6/dist-packages/skimage/io/_io.py:141: UserWarning: test/results/6817506a91.png is a low contrast image\n",
      "  warn('%s is a low contrast image' % fname)\n",
      "W0622 09:12:23.114491 139793632630656 util.py:61] Lossy conversion from float32 to uint8. Range [0, 1]. Convert image to uint8 prior to saving to suppress this warning.\n",
      "/usr/local/lib/python3.6/dist-packages/skimage/io/_io.py:141: UserWarning: test/results/7173e8bb6c.png is a low contrast image\n",
      "  warn('%s is a low contrast image' % fname)\n",
      "W0622 09:12:23.118445 139793632630656 util.py:61] Lossy conversion from float32 to uint8. Range [0, 1]. Convert image to uint8 prior to saving to suppress this warning.\n",
      "/usr/local/lib/python3.6/dist-packages/skimage/io/_io.py:141: UserWarning: test/results/7370b31cd0.png is a low contrast image\n",
      "  warn('%s is a low contrast image' % fname)\n",
      "W0622 09:12:23.123045 139793632630656 util.py:61] Lossy conversion from float32 to uint8. Range [0, 1]. Convert image to uint8 prior to saving to suppress this warning.\n",
      "/usr/local/lib/python3.6/dist-packages/skimage/io/_io.py:141: UserWarning: test/results/d2aac3d56d.png is a low contrast image\n",
      "  warn('%s is a low contrast image' % fname)\n",
      "W0622 09:12:23.127466 139793632630656 util.py:61] Lossy conversion from float32 to uint8. Range [0, 1]. Convert image to uint8 prior to saving to suppress this warning.\n",
      "/usr/local/lib/python3.6/dist-packages/skimage/io/_io.py:141: UserWarning: test/results/492256412c.png is a low contrast image\n",
      "  warn('%s is a low contrast image' % fname)\n",
      "W0622 09:12:23.132439 139793632630656 util.py:61] Lossy conversion from float32 to uint8. Range [0, 1]. Convert image to uint8 prior to saving to suppress this warning.\n",
      "/usr/local/lib/python3.6/dist-packages/skimage/io/_io.py:141: UserWarning: test/results/eb8720bb47.png is a low contrast image\n",
      "  warn('%s is a low contrast image' % fname)\n",
      "W0622 09:12:23.137779 139793632630656 util.py:61] Lossy conversion from float32 to uint8. Range [0, 1]. Convert image to uint8 prior to saving to suppress this warning.\n",
      "/usr/local/lib/python3.6/dist-packages/skimage/io/_io.py:141: UserWarning: test/results/6677cfe3c6.png is a low contrast image\n",
      "  warn('%s is a low contrast image' % fname)\n",
      "W0622 09:12:23.142375 139793632630656 util.py:61] Lossy conversion from float32 to uint8. Range [0, 1]. Convert image to uint8 prior to saving to suppress this warning.\n",
      "/usr/local/lib/python3.6/dist-packages/skimage/io/_io.py:141: UserWarning: test/results/e83222698a.png is a low contrast image\n",
      "  warn('%s is a low contrast image' % fname)\n",
      "W0622 09:12:23.147426 139793632630656 util.py:61] Lossy conversion from float32 to uint8. Range [0, 1]. Convert image to uint8 prior to saving to suppress this warning.\n",
      "/usr/local/lib/python3.6/dist-packages/skimage/io/_io.py:141: UserWarning: test/results/3e6a6c3c9b.png is a low contrast image\n",
      "  warn('%s is a low contrast image' % fname)\n",
      "W0622 09:12:23.152476 139793632630656 util.py:61] Lossy conversion from float32 to uint8. Range [0, 1]. Convert image to uint8 prior to saving to suppress this warning.\n",
      "/usr/local/lib/python3.6/dist-packages/skimage/io/_io.py:141: UserWarning: test/results/3003a4c4c8.png is a low contrast image\n",
      "  warn('%s is a low contrast image' % fname)\n",
      "W0622 09:12:23.158015 139793632630656 util.py:61] Lossy conversion from float32 to uint8. Range [0, 1]. Convert image to uint8 prior to saving to suppress this warning.\n",
      "/usr/local/lib/python3.6/dist-packages/skimage/io/_io.py:141: UserWarning: test/results/2a701aa3e7.png is a low contrast image\n",
      "  warn('%s is a low contrast image' % fname)\n",
      "W0622 09:12:23.162704 139793632630656 util.py:61] Lossy conversion from float32 to uint8. Range [0, 1]. Convert image to uint8 prior to saving to suppress this warning.\n",
      "/usr/local/lib/python3.6/dist-packages/skimage/io/_io.py:141: UserWarning: test/results/e3ada5840a.png is a low contrast image\n",
      "  warn('%s is a low contrast image' % fname)\n",
      "W0622 09:12:23.167164 139793632630656 util.py:61] Lossy conversion from float32 to uint8. Range [0, 1]. Convert image to uint8 prior to saving to suppress this warning.\n",
      "/usr/local/lib/python3.6/dist-packages/skimage/io/_io.py:141: UserWarning: test/results/2fb819ab32.png is a low contrast image\n",
      "  warn('%s is a low contrast image' % fname)\n",
      "W0622 09:12:23.171496 139793632630656 util.py:61] Lossy conversion from float32 to uint8. Range [0, 1]. Convert image to uint8 prior to saving to suppress this warning.\n",
      "/usr/local/lib/python3.6/dist-packages/skimage/io/_io.py:141: UserWarning: test/results/ef44ece465.png is a low contrast image\n",
      "  warn('%s is a low contrast image' % fname)\n",
      "W0622 09:12:23.175507 139793632630656 util.py:61] Lossy conversion from float32 to uint8. Range [0, 1]. Convert image to uint8 prior to saving to suppress this warning.\n",
      "/usr/local/lib/python3.6/dist-packages/skimage/io/_io.py:141: UserWarning: test/results/fb3ffe5424.png is a low contrast image\n",
      "  warn('%s is a low contrast image' % fname)\n",
      "W0622 09:12:23.180051 139793632630656 util.py:61] Lossy conversion from float32 to uint8. Range [0, 1]. Convert image to uint8 prior to saving to suppress this warning.\n",
      "/usr/local/lib/python3.6/dist-packages/skimage/io/_io.py:141: UserWarning: test/results/273f74fadf.png is a low contrast image\n",
      "  warn('%s is a low contrast image' % fname)\n",
      "W0622 09:12:23.184554 139793632630656 util.py:61] Lossy conversion from float32 to uint8. Range [0, 1]. Convert image to uint8 prior to saving to suppress this warning.\n",
      "/usr/local/lib/python3.6/dist-packages/skimage/io/_io.py:141: UserWarning: test/results/05bb19ebcd.png is a low contrast image\n",
      "  warn('%s is a low contrast image' % fname)\n",
      "W0622 09:12:23.189065 139793632630656 util.py:61] Lossy conversion from float32 to uint8. Range [0, 1]. Convert image to uint8 prior to saving to suppress this warning.\n"
     ]
    },
    {
     "data": {
      "text/plain": [
       "<Figure size 432x288 with 0 Axes>"
      ]
     },
     "metadata": {
      "tags": []
     },
     "output_type": "display_data"
    }
   ],
   "source": [
    "%run unet/main.py"
   ]
  },
  {
   "cell_type": "code",
   "execution_count": 13,
   "metadata": {
    "colab": {
     "base_uri": "https://localhost:8080/",
     "height": 130
    },
    "colab_type": "code",
    "executionInfo": {
     "elapsed": 1555,
     "status": "ok",
     "timestamp": 1561194966995,
     "user": {
      "displayName": "Yuhi Soejima",
      "photoUrl": "",
      "userId": "10660385064496019405"
     },
     "user_tz": -540
    },
    "id": "e5aAZp6nMKHk",
    "outputId": "ac4fc7ea-cfee-42a7-b0ce-7a3d5d97cce5"
   },
   "outputs": [
    {
     "data": {
      "image/png": "[encoded data removed]",
      "text/plain": [
       "<Figure size 1440x720 with 10 Axes>"
      ]
     },
     "metadata": {
      "tags": []
     },
     "output_type": "display_data"
    }
   ],
   "source": [
    "#適当なidのリスト\n",
    "ids= ['051c0a2ddb', '05bb19ebcd', '15117177f0', '196638fe77', '3003a4c4c8']\n",
    "\n",
    "plt.figure(figsize=(20,10))\n",
    "\n",
    "#imagesとresults画像を表示\n",
    "for j, img_name in enumerate(ids):\n",
    "    q = j+1\n",
    "    img = load_img('./test/images/' + img_name + '.png') #imagesの画像\n",
    "    img_mask = load_img('./test/results/' + img_name + '.png') #resultsの画像\n",
    "    \n",
    "    plt.subplot(1,2*(1+len(ids)),q*2-1)\n",
    "    plt.imshow(img)\n",
    "    plt.subplot(1,2*(1+len(ids)),q*2)\n",
    "    plt.imshow(img_mask)\n",
    "plt.show()"
   ]
  },
  {
   "cell_type": "markdown",
   "metadata": {
    "colab_type": "text",
    "id": "UAdvsORdXowF"
   },
   "source": [
    "テスト画像について、左から、あるIDのimagesの画像、出力されたresults(結果)の画像の順に並んでいる。\n",
    "\n",
    "学習不足のため、推定画像はすべて灰色となっている。"
   ]
  },
  {
   "cell_type": "markdown",
   "metadata": {
    "colab_type": "text",
    "id": "O8DubTsoyB7f"
   },
   "source": [
    "## 【問題2】コードリーディング\n",
    "\n",
    "論文\\[1\\]に目を通した上で、上記実装のコードリーディングを行ってください。"
   ]
  },
  {
   "cell_type": "code",
   "execution_count": null,
   "metadata": {
    "colab_type": "text",
    "id": "l8RIOZu-3jXP"
   },
   "outputs": [],
   "source": [
    "### main.py\n",
    "\n",
    "from model import *\n",
    "from data import *\n",
    "\n",
    "#os.environ[\"CUDA_VISIBLE_DEVICES\"] = \"0\"\n",
    "\n",
    "#argmentation\n",
    "data_gen_args = dict(rotation_range=0.2,\n",
    "                    width_shift_range=0.05,\n",
    "                    height_shift_range=0.05,\n",
    "                    shear_range=0.05,\n",
    "                    zoom_range=0.05,\n",
    "                    horizontal_flip=True,\n",
    "                    fill_mode='nearest')\n",
    "                    \n",
    "#学習用画像を取得\n",
    "myGene = trainGenerator(2,'data/membrane/train','image','label',data_gen_args,save_to_dir = None)\n",
    "\n",
    "#モデルを作成\n",
    "model = unet()\n",
    "\n",
    "#チェックポイントを作成\n",
    "model_checkpoint = ModelCheckpoint('unet_membrane.hdf5', monitor='loss',verbose=1, save_best_only=True)\n",
    "\n",
    "#学習\n",
    "model.fit_generator(myGene,steps_per_epoch=300,epochs=1,callbacks=[model_checkpoint])\n",
    "\n",
    "#テスト画像を取得\n",
    "testGene = testGenerator(\"data/membrane/test\")\n",
    "\n",
    "#推定\n",
    "results = model.predict_generator(testGene,30,verbose=1)\n",
    "\n",
    "#推定した画像を保存\n",
    "saveResult(\"data/membrane/test\",results)\n"
   ]
  },
  {
   "cell_type": "code",
   "execution_count": null,
   "metadata": {
    "colab_type": "text",
    "id": "9HJGq3yC3jMm"
   },
   "outputs": [],
   "source": [
    "### data.py\n",
    "\n",
    "\n",
    "from __future__ import print_function\n",
    "from keras.preprocessing.image import ImageDataGenerator\n",
    "import numpy as np \n",
    "import os\n",
    "import glob\n",
    "import skimage.io as io\n",
    "import skimage.transform as trans\n",
    "\n",
    "Sky = [128,128,128]\n",
    "Building = [128,0,0]\n",
    "Pole = [192,192,128]\n",
    "Road = [128,64,128]\n",
    "Pavement = [60,40,222]\n",
    "Tree = [128,128,0]\n",
    "SignSymbol = [192,128,128]\n",
    "Fence = [64,64,128]\n",
    "Car = [64,0,128]\n",
    "Pedestrian = [64,64,0]\n",
    "Bicyclist = [0,128,192]\n",
    "Unlabelled = [0,0,0]\n",
    "\n",
    "COLOR_DICT = np.array([Sky, Building, Pole, Road, Pavement,\n",
    "                          Tree, SignSymbol, Fence, Car, Pedestrian, Bicyclist, Unlabelled])\n",
    "\n",
    "\n",
    "def adjustData(img,mask,flag_multi_class,num_class):\n",
    "    if(flag_multi_class):\n",
    "        img = img / 255\n",
    "        mask = mask[:,:,:,0] if(len(mask.shape) == 4) else mask[:,:,0]\n",
    "        new_mask = np.zeros(mask.shape + (num_class,))\n",
    "        for i in range(num_class):\n",
    "            #for one pixel in the image, find the class in mask and convert it into one-hot vector\n",
    "            #index = np.where(mask == i)\n",
    "            #index_mask = (index[0],index[1],index[2],np.zeros(len(index[0]),dtype = np.int64) + i) if (len(mask.shape) == 4) else (index[0],index[1],np.zeros(len(index[0]),dtype = np.int64) + i)\n",
    "            #new_mask[index_mask] = 1\n",
    "            new_mask[mask == i,i] = 1\n",
    "        new_mask = np.reshape(new_mask,(new_mask.shape[0],new_mask.shape[1]*new_mask.shape[2],new_mask.shape[3])) if flag_multi_class else np.reshape(new_mask,(new_mask.shape[0]*new_mask.shape[1],new_mask.shape[2]))\n",
    "        mask = new_mask\n",
    "        \n",
    "    elif(np.max(img) > 1):\n",
    "        img = img / 255\n",
    "        mask = mask /255\n",
    "        mask[mask > 0.5] = 1\n",
    "        mask[mask <= 0.5] = 0\n",
    "        \n",
    "    return (img,mask)\n",
    "\n",
    "\n",
    "def trainGenerator(batch_size,train_path,image_folder,mask_folder,aug_dict,image_color_mode = \"grayscale\",\n",
    "                    mask_color_mode = \"grayscale\",image_save_prefix  = \"image\",mask_save_prefix  = \"mask\",\n",
    "                    flag_multi_class = False,num_class = 2,save_to_dir = None,target_size = (256,256),seed = 1):\n",
    "    '''\n",
    "    can generate image and mask at the same time\n",
    "    use the same seed for image_datagen and mask_datagen to ensure the transformation for image and mask is the same\n",
    "    if you want to visualize the results of generator, set save_to_dir = \"your path\"\n",
    "    '''\n",
    "    image_datagen = ImageDataGenerator(**aug_dict)\n",
    "    mask_datagen = ImageDataGenerator(**aug_dict)\n",
    "    \n",
    "    image_generator = image_datagen.flow_from_directory(\n",
    "        train_path,\n",
    "        classes = [image_folder],\n",
    "        class_mode = None,\n",
    "        color_mode = image_color_mode,\n",
    "        target_size = target_size,\n",
    "        batch_size = batch_size,\n",
    "        save_to_dir = save_to_dir,\n",
    "        save_prefix  = image_save_prefix,\n",
    "        seed = seed)\n",
    "    mask_generator = mask_datagen.flow_from_directory(\n",
    "        train_path,\n",
    "        classes = [mask_folder],\n",
    "        class_mode = None,\n",
    "        color_mode = mask_color_mode,\n",
    "        target_size = target_size,\n",
    "        batch_size = batch_size,\n",
    "        save_to_dir = save_to_dir,\n",
    "        save_prefix  = mask_save_prefix,\n",
    "        seed = seed)\n",
    "    \n",
    "    train_generator = zip(image_generator, mask_generator)\n",
    "    for (img,mask) in train_generator:\n",
    "        img,mask = adjustData(img,mask,flag_multi_class,num_class)\n",
    "        yield (img,mask)\n",
    "\n",
    "\n",
    "def testGenerator(test_path,num_image = 30,target_size = (256,256),flag_multi_class = False,as_gray = True):\n",
    "    for i in range(num_image):\n",
    "        img = io.imread(os.path.join(test_path,\"%d.png\"%i),as_gray = as_gray)\n",
    "        img = img / 255\n",
    "        img = trans.resize(img,target_size)\n",
    "        img = np.reshape(img,img.shape+(1,)) if (not flag_multi_class) else img\n",
    "        img = np.reshape(img,(1,)+img.shape)\n",
    "        yield img\n",
    "\n",
    "\n",
    "def geneTrainNpy(image_path,mask_path,flag_multi_class = False,num_class = 2,image_prefix = \"image\",mask_prefix = \"mask\",image_as_gray = True,mask_as_gray = True):\n",
    "    image_name_arr = glob.glob(os.path.join(image_path,\"%s*.png\"%image_prefix))\n",
    "    image_arr = []\n",
    "    mask_arr = []\n",
    "    for index,item in enumerate(image_name_arr):\n",
    "        img = io.imread(item,as_gray = image_as_gray)\n",
    "        img = np.reshape(img,img.shape + (1,)) if image_as_gray else img\n",
    "        mask = io.imread(item.replace(image_path,mask_path).replace(image_prefix,mask_prefix),as_gray = mask_as_gray)\n",
    "        mask = np.reshape(mask,mask.shape + (1,)) if mask_as_gray else mask\n",
    "        img,mask = adjustData(img,mask,flag_multi_class,num_class)\n",
    "        image_arr.append(img)\n",
    "        mask_arr.append(mask)\n",
    "    image_arr = np.array(image_arr)\n",
    "    mask_arr = np.array(mask_arr)\n",
    "    return image_arr,mask_arr\n",
    "\n",
    "\n",
    "def labelVisualize(num_class,color_dict,img):\n",
    "    img = img[:,:,0] if len(img.shape) == 3 else img\n",
    "    img_out = np.zeros(img.shape + (3,))\n",
    "    for i in range(num_class):\n",
    "        img_out[img == i,:] = color_dict[i]\n",
    "\n",
    "    return img_out / 255\n",
    "\n",
    "\n",
    "def saveResult(save_path,npyfile,flag_multi_class = False,num_class = 2):\n",
    "    for i,item in enumerate(npyfile):\n",
    "        img = labelVisualize(num_class,COLOR_DICT,item) if flag_multi_class else item[:,:,0]\n",
    "        io.imsave(os.path.join(save_path,\"%d_predict.png\"%i),img)"
   ]
  },
  {
   "cell_type": "code",
   "execution_count": null,
   "metadata": {
    "colab_type": "text",
    "id": "x51FMh7pyIHg"
   },
   "outputs": [],
   "source": [
    "### model.py\n",
    "\n",
    "import numpy as np \n",
    "import os\n",
    "import skimage.io as io\n",
    "import skimage.transform as trans\n",
    "import numpy as np\n",
    "from keras.models import *\n",
    "from keras.layers import *\n",
    "from keras.optimizers import *\n",
    "from keras.callbacks import ModelCheckpoint, LearningRateScheduler\n",
    "from keras import backend as keras\n",
    "\n",
    "\n",
    "def unet(pretrained_weights = None,input_size = (256,256,1)):\n",
    "    '''\n",
    "    u-netのモデルを作成する関数\n",
    "    '''\n",
    "    #入力(Lv.4)\n",
    "    inputs = Input(input_size)\n",
    "    conv1 = Conv2D(64, 3, activation = 'relu', padding = 'same', kernel_initializer = 'he_normal')(inputs)\n",
    "    conv1 = Conv2D(64, 3, activation = 'relu', padding = 'same', kernel_initializer = 'he_normal')(conv1)\n",
    "    \n",
    "    #MaxPool\n",
    "    pool1 = MaxPooling2D(pool_size=(2, 2))(conv1)\n",
    "    \n",
    "    #Lv.3\n",
    "    conv2 = Conv2D(128, 3, activation = 'relu', padding = 'same', kernel_initializer = 'he_normal')(pool1)\n",
    "    conv2 = Conv2D(128, 3, activation = 'relu', padding = 'same', kernel_initializer = 'he_normal')(conv2)\n",
    "    \n",
    "    #MaxPool\n",
    "    pool2 = MaxPooling2D(pool_size=(2, 2))(conv2)\n",
    "    \n",
    "    #Lv.2\n",
    "    conv3 = Conv2D(256, 3, activation = 'relu', padding = 'same', kernel_initializer = 'he_normal')(pool2)\n",
    "    conv3 = Conv2D(256, 3, activation = 'relu', padding = 'same', kernel_initializer = 'he_normal')(conv3)\n",
    "    \n",
    "    #MaxPool\n",
    "    pool3 = MaxPooling2D(pool_size=(2, 2))(conv3)\n",
    "    \n",
    "    #Lv.1\n",
    "    conv4 = Conv2D(512, 3, activation = 'relu', padding = 'same', kernel_initializer = 'he_normal')(pool3)\n",
    "    conv4 = Conv2D(512, 3, activation = 'relu', padding = 'same', kernel_initializer = 'he_normal')(conv4)\n",
    "    drop4 = Dropout(0.5)(conv4)\n",
    "    \n",
    "    #MaxPool\n",
    "    pool4 = MaxPooling2D(pool_size=(2, 2))(drop4)\n",
    "    \n",
    "    #Lv.0\n",
    "    conv5 = Conv2D(1024, 3, activation = 'relu', padding = 'same', kernel_initializer = 'he_normal')(pool4)\n",
    "    conv5 = Conv2D(1024, 3, activation = 'relu', padding = 'same', kernel_initializer = 'he_normal')(conv5)\n",
    "    drop5 = Dropout(0.5)(conv5)\n",
    "    \n",
    "    #UpConv\n",
    "    up6 = Conv2D(512, 2, activation = 'relu', padding = 'same', kernel_initializer = 'he_normal')(UpSampling2D(size = (2,2))(drop5))\n",
    "    \n",
    "    #Lv.1\n",
    "    #情報を結合\n",
    "    merge6 = concatenate([drop4,up6], axis = 3)\n",
    "    conv6 = Conv2D(512, 3, activation = 'relu', padding = 'same', kernel_initializer = 'he_normal')(merge6)\n",
    "    conv6 = Conv2D(512, 3, activation = 'relu', padding = 'same', kernel_initializer = 'he_normal')(conv6)\n",
    "\n",
    "    #UpConv\n",
    "    up7 = Conv2D(256, 2, activation = 'relu', padding = 'same', kernel_initializer = 'he_normal')(UpSampling2D(size = (2,2))(conv6))\n",
    "        \n",
    "    #Lv.2\n",
    "    #情報を結合\n",
    "    merge7 = concatenate([conv3,up7], axis = 3)\n",
    "    conv7 = Conv2D(256, 3, activation = 'relu', padding = 'same', kernel_initializer = 'he_normal')(merge7)\n",
    "    conv7 = Conv2D(256, 3, activation = 'relu', padding = 'same', kernel_initializer = 'he_normal')(conv7)\n",
    "    \n",
    "    #UpConv\n",
    "    up8 = Conv2D(128, 2, activation = 'relu', padding = 'same', kernel_initializer = 'he_normal')(UpSampling2D(size = (2,2))(conv7))\n",
    "    \n",
    "    #Lv.3\n",
    "    #情報を結合\n",
    "    merge8 = concatenate([conv2,up8], axis = 3)\n",
    "    conv8 = Conv2D(128, 3, activation = 'relu', padding = 'same', kernel_initializer = 'he_normal')(merge8)\n",
    "    conv8 = Conv2D(128, 3, activation = 'relu', padding = 'same', kernel_initializer = 'he_normal')(conv8)\n",
    "    \n",
    "    #UpConv\n",
    "    up9 = Conv2D(64, 2, activation = 'relu', padding = 'same', kernel_initializer = 'he_normal')(UpSampling2D(size = (2,2))(conv8))\n",
    "    \n",
    "    #出力(Lv.4)\n",
    "    #情報を結合\n",
    "    merge9 = concatenate([conv1,up9], axis = 3)\n",
    "    conv9 = Conv2D(64, 3, activation = 'relu', padding = 'same', kernel_initializer = 'he_normal')(merge9)\n",
    "    conv9 = Conv2D(64, 3, activation = 'relu', padding = 'same', kernel_initializer = 'he_normal')(conv9)\n",
    "    conv9 = Conv2D(2, 3, activation = 'relu', padding = 'same', kernel_initializer = 'he_normal')(conv9)\n",
    "    conv10 = Conv2D(1, 1, activation = 'sigmoid')(conv9)\n",
    "    \n",
    "    #モデルを定義\n",
    "    model = Model(input = inputs, output = conv10)\n",
    "    \n",
    "    #コンパイル\n",
    "    model.compile(optimizer = Adam(lr = 1e-4), loss = 'binary_crossentropy', metrics = ['accuracy'])\n",
    "    \n",
    "    #model.summary()\n",
    "    \n",
    "    #重みがあればロード\n",
    "    if(pretrained_weights):\n",
    "        model.load_weights(pretrained_weights)\n",
    "\n",
    "    return model"
   ]
  },
  {
   "cell_type": "markdown",
   "metadata": {
    "colab_type": "text",
    "id": "GRzo-ZqDXowI"
   },
   "source": [
    "### U-Netの構成\n",
    "\n",
    "**model.py**\n",
    "- U-Net  \n",
    "入力部分(Conv + Conv + MaxPool)  \n",
    "↓  \n",
    "ダウンサンプリング(Conv + Conv + (Drop) + MaxPool) $\\times$ 3  \n",
    "↓  \n",
    "中間(Conv + Conv + Drop + UpConv)  \n",
    "↓  \n",
    "アップサンプリング(Concat + Conv + Conv + UpConv) $\\times$ 3  \n",
    "↓  \n",
    "出力(Concat + Conv + Conv + Conv + Conv)\n",
    "\n",
    "\n",
    "- モデル\n",
    "    - inputのshape  \n",
    "    デフォルト256 $\\times$ 256 $\\times$ 1\n",
    "    - Optimizer  \n",
    "     Adam(学習率1e-4)\n",
    "    - Loss  \n",
    "     binary_crossentropy\n",
    "    - metrics  \n",
    "     accuracy"
   ]
  },
  {
   "cell_type": "markdown",
   "metadata": {
    "colab_type": "text",
    "id": "aq_VaWdyXowI"
   },
   "source": [
    "### 画像の取得(学習用)\n",
    "\n",
    "**data.py**\n",
    "\n",
    "trainGenerator関数\n",
    "\n",
    "- KerasのImageDataGenerator()でAugmentation\n",
    "- image_folder,mask_folderでフォルダ名を、train_pathでpath名を取得、Kerasのpathflow_from_directory()で画像データのバッチを生成\n",
    "- AdjustData関数でimageは正規化、maskは0, 1に変換し、画像データをyield"
   ]
  },
  {
   "cell_type": "markdown",
   "metadata": {
    "colab_type": "text",
    "id": "GDaZ2JzvXowJ"
   },
   "source": [
    "### 画像の取得(テスト用)\n",
    "\n",
    "**data.py**\n",
    "\n",
    "testGenerator関数\n",
    "\n",
    "- test_pathでテスト画像のpath名を取得し、その画像データを取得\n",
    "- 255で割り正規化\n",
    "- 256 $\\times$ 256にresize\n",
    "- Kerasのpredict_generator()で処理できるようにreshapeし、画像データをyield"
   ]
  },
  {
   "cell_type": "markdown",
   "metadata": {
    "colab_type": "text",
    "id": "WF2WKpNZXowK"
   },
   "source": [
    "### 推定画像の保存\n",
    "\n",
    "**data.py**\n",
    "\n",
    "SaveResult関数\n",
    "\n",
    "- save_pathでテスト画像のpath名、npyfileで推定結果を取得\n",
    "- もしflag_multi_class==TrueならlabelVisualize関数へ、Falseならnpyfileの\\[:, :, 0\\]部分を取得(今回はFalse)\n",
    "- skimageのio.imsaveで画像データを保存"
   ]
  }
 ],
 "metadata": {
  "accelerator": "GPU",
  "colab": {
   "collapsed_sections": [],
   "name": "sprint20_segmentation1.ipynb",
   "provenance": [],
   "version": "0.3.2"
  },
  "kernelspec": {
   "display_name": "Python 3",
   "language": "python",
   "name": "python3"
  },
  "language_info": {
   "codemirror_mode": {
    "name": "ipython",
    "version": 3
   },
   "file_extension": ".py",
   "mimetype": "text/x-python",
   "name": "python",
   "nbconvert_exporter": "python",
   "pygments_lexer": "ipython3",
   "version": "3.7.2"
  },
  "varInspector": {
   "cols": {
    "lenName": 16,
    "lenType": 16,
    "lenVar": 40
   },
   "kernels_config": {
    "python": {
     "delete_cmd_postfix": "",
     "delete_cmd_prefix": "del ",
     "library": "var_list.py",
     "varRefreshCmd": "print(var_dic_list())"
    },
    "r": {
     "delete_cmd_postfix": ") ",
     "delete_cmd_prefix": "rm(",
     "library": "var_list.r",
     "varRefreshCmd": "cat(var_dic_list()) "
    }
   },
   "types_to_exclude": [
    "module",
    "function",
    "builtin_function_or_method",
    "instance",
    "_Feature"
   ],
   "window_display": false
  }
 },
 "nbformat": 4,
 "nbformat_minor": 1
}
