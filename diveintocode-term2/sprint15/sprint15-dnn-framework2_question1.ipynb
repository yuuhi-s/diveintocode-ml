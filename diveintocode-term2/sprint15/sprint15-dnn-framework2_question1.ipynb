{
  "nbformat": 4,
  "nbformat_minor": 0,
  "metadata": {
    "colab": {
      "name": "Sprint15課題 ディープラーニングフレームワーク2 問題1",
      "version": "0.3.2",
      "provenance": [],
      "collapsed_sections": []
    },
    "kernelspec": {
      "name": "python3",
      "display_name": "Python 3"
    }
  },
  "cells": [
    {
      "cell_type": "markdown",
      "metadata": {
        "id": "8u364DwmobjN",
        "colab_type": "text"
      },
      "source": [
        "# Sprint15課題 ディープラーニングフレームワーク2"
      ]
    },
    {
      "cell_type": "markdown",
      "metadata": {
        "id": "EsaRVES7VuFm",
        "colab_type": "text"
      },
      "source": [
        "## 【問題1】公式Exampleを分担して実行"
      ]
    },
    {
      "cell_type": "markdown",
      "metadata": {
        "id": "q9lTI7TOV4ec",
        "colab_type": "text"
      },
      "source": [
        "TensorFLowの公式Exampleを分担して実行してください。\n",
        "\n",
        "以下の中から1人ひとつ選び実行し、その結果を簡単に発表してください。\n",
        "\n",
        "research\n",
        "\n",
        "定番のモデルから最新のモデルまで多様なコードが公開されています。\n",
        "\n",
        "[models/research at master · tensorflow/models](https://github.com/tensorflow/models/tree/master/research)\n",
        "\n",
        "tutorials\n",
        "\n",
        "TensorFLowのチュートリアルとして用意された簡単なモデルが含まれています。\n",
        "\n",
        "[models/tutorials at master · tensorflow/models](https://github.com/tensorflow/models/tree/master/tutorials)"
      ]
    },
    {
      "cell_type": "markdown",
      "metadata": {
        "id": "l7nRPyPsplAC",
        "colab_type": "text"
      },
      "source": [
        "**前準備**"
      ]
    },
    {
      "cell_type": "code",
      "metadata": {
        "colab_type": "code",
        "id": "r8S3ublR7Ay8",
        "colab": {}
      },
      "source": [
        "from __future__ import absolute_import, division, print_function, unicode_literals"
      ],
      "execution_count": 0,
      "outputs": []
    },
    {
      "cell_type": "code",
      "metadata": {
        "colab_type": "code",
        "id": "74rHkS_DB3X2",
        "outputId": "8d3f5f8b-4ac8-4fdc-c32f-0a6a98020a0b",
        "colab": {
          "base_uri": "https://localhost:8080/",
          "height": 357
        }
      },
      "source": [
        "# Import TensorFlow\n",
        "!pip install tf-nightly-gpu\n",
        "import tensorflow as tf\n",
        "import tensorflow_datasets as tfds\n",
        "\n",
        "import os"
      ],
      "execution_count": 0,
      "outputs": [
        {
          "output_type": "stream",
          "text": [
            "Requirement already satisfied: tf-nightly-gpu in /usr/local/lib/python3.6/dist-packages (1.14.1.dev20190530)\n",
            "Requirement already satisfied: keras-preprocessing>=1.0.5 in /usr/local/lib/python3.6/dist-packages (from tf-nightly-gpu) (1.0.9)\n",
            "Requirement already satisfied: tb-nightly<1.15.0a0,>=1.14.0a0 in /usr/local/lib/python3.6/dist-packages (from tf-nightly-gpu) (1.14.0a20190530)\n",
            "Requirement already satisfied: keras-applications>=1.0.6 in /usr/local/lib/python3.6/dist-packages (from tf-nightly-gpu) (1.0.7)\n",
            "Requirement already satisfied: wheel>=0.26 in /usr/local/lib/python3.6/dist-packages (from tf-nightly-gpu) (0.33.4)\n",
            "Requirement already satisfied: wrapt>=1.11.1 in /usr/local/lib/python3.6/dist-packages (from tf-nightly-gpu) (1.11.1)\n",
            "Requirement already satisfied: tf-estimator-nightly in /usr/local/lib/python3.6/dist-packages (from tf-nightly-gpu) (1.14.0.dev2019052901)\n",
            "Requirement already satisfied: astor>=0.6.0 in /usr/local/lib/python3.6/dist-packages (from tf-nightly-gpu) (0.8.0)\n",
            "Requirement already satisfied: absl-py>=0.7.0 in /usr/local/lib/python3.6/dist-packages (from tf-nightly-gpu) (0.7.1)\n",
            "Requirement already satisfied: gast>=0.2.0 in /usr/local/lib/python3.6/dist-packages (from tf-nightly-gpu) (0.2.2)\n",
            "Requirement already satisfied: termcolor>=1.1.0 in /usr/local/lib/python3.6/dist-packages (from tf-nightly-gpu) (1.1.0)\n",
            "Requirement already satisfied: grpcio>=1.8.6 in /usr/local/lib/python3.6/dist-packages (from tf-nightly-gpu) (1.15.0)\n",
            "Requirement already satisfied: numpy<2.0,>=1.14.5 in /usr/local/lib/python3.6/dist-packages (from tf-nightly-gpu) (1.16.3)\n",
            "Requirement already satisfied: protobuf>=3.6.1 in /usr/local/lib/python3.6/dist-packages (from tf-nightly-gpu) (3.7.1)\n",
            "Requirement already satisfied: six>=1.10.0 in /usr/local/lib/python3.6/dist-packages (from tf-nightly-gpu) (1.12.0)\n",
            "Requirement already satisfied: google-pasta>=0.1.6 in /usr/local/lib/python3.6/dist-packages (from tf-nightly-gpu) (0.1.7)\n",
            "Requirement already satisfied: werkzeug>=0.11.15 in /usr/local/lib/python3.6/dist-packages (from tb-nightly<1.15.0a0,>=1.14.0a0->tf-nightly-gpu) (0.15.4)\n",
            "Requirement already satisfied: markdown>=2.6.8 in /usr/local/lib/python3.6/dist-packages (from tb-nightly<1.15.0a0,>=1.14.0a0->tf-nightly-gpu) (3.1.1)\n",
            "Requirement already satisfied: setuptools>=41.0.0 in /usr/local/lib/python3.6/dist-packages (from tb-nightly<1.15.0a0,>=1.14.0a0->tf-nightly-gpu) (41.0.1)\n",
            "Requirement already satisfied: h5py in /usr/local/lib/python3.6/dist-packages (from keras-applications>=1.0.6->tf-nightly-gpu) (2.8.0)\n"
          ],
          "name": "stdout"
        }
      ]
    },
    {
      "cell_type": "code",
      "metadata": {
        "colab_type": "code",
        "id": "iXMJ3G9NB3X6",
        "outputId": "7e5cfa16-4ed5-40d5-cbb8-88033ae5d270",
        "colab": {
          "base_uri": "https://localhost:8080/",
          "height": 105
        }
      },
      "source": [
        "#MNISTデータを読み込み\n",
        "datasets, ds_info = tfds.load(name='mnist', with_info=True, as_supervised=True)\n",
        "mnist_train, mnist_test = datasets['train'], datasets['test']"
      ],
      "execution_count": 0,
      "outputs": [
        {
          "output_type": "stream",
          "text": [
            "WARNING: Logging before flag parsing goes to stderr.\n",
            "W0531 10:05:47.202017 139959173076864 deprecation.py:323] From /usr/local/lib/python3.6/dist-packages/tensorflow_datasets/core/dataset_utils.py:252: DatasetV1.output_shapes (from tensorflow.python.data.ops.dataset_ops) is deprecated and will be removed in a future version.\n",
            "Instructions for updating:\n",
            "Use `tf.compat.v1.data.get_output_shapes(dataset)`.\n"
          ],
          "name": "stderr"
        }
      ]
    },
    {
      "cell_type": "code",
      "metadata": {
        "colab_type": "code",
        "id": "4j0tdf4YB3X9",
        "outputId": "b97e64d2-835f-43e4-9d91-9a05269b4e38",
        "colab": {
          "base_uri": "https://localhost:8080/",
          "height": 34
        }
      },
      "source": [
        "#レプリカの作成\n",
        "strategy = tf.distribute.MirroredStrategy()"
      ],
      "execution_count": 0,
      "outputs": [
        {
          "output_type": "stream",
          "text": [
            "W0531 10:08:55.921426 139959173076864 cross_device_ops.py:1168] There is non-GPU devices in `tf.distribute.Strategy`, not using nccl allreduce.\n"
          ],
          "name": "stderr"
        }
      ]
    },
    {
      "cell_type": "code",
      "metadata": {
        "colab_type": "code",
        "id": "cY3KA_h2iVfN",
        "outputId": "d7dee6da-50a5-486b-ae1e-6c80538729cb",
        "colab": {
          "base_uri": "https://localhost:8080/",
          "height": 34
        }
      },
      "source": [
        "#GPUデバイスの数\n",
        "print ('Number of devices: {}'.format(strategy.num_replicas_in_sync))"
      ],
      "execution_count": 0,
      "outputs": [
        {
          "output_type": "stream",
          "text": [
            "Number of devices: 1\n"
          ],
          "name": "stdout"
        }
      ]
    },
    {
      "cell_type": "code",
      "metadata": {
        "colab_type": "code",
        "id": "p1xWxKcnhar9",
        "colab": {}
      },
      "source": [
        "#学習用データと検証用データの合計\n",
        "num_train_examples = ds_info.splits['train'].num_examples\n",
        "num_test_examples = ds_info.splits['test'].num_examples\n",
        "\n",
        "BUFFER_SIZE = 10000\n",
        "\n",
        "BATCH_SIZE_PER_REPLICA = 64\n",
        "BATCH_SIZE = BATCH_SIZE_PER_REPLICA * strategy.num_replicas_in_sync"
      ],
      "execution_count": 0,
      "outputs": []
    },
    {
      "cell_type": "code",
      "metadata": {
        "colab_type": "code",
        "id": "Eo9a46ZeJCkm",
        "colab": {}
      },
      "source": [
        "def scale(image, label):\n",
        "  '''\n",
        "  0~255のピクセルを0~1に正規化する\n",
        "  '''\n",
        "  image = tf.cast(image, tf.float32)\n",
        "  image /= 255\n",
        "\n",
        "  return image, label"
      ],
      "execution_count": 0,
      "outputs": []
    },
    {
      "cell_type": "code",
      "metadata": {
        "colab_type": "code",
        "id": "gRZu2maChwdT",
        "colab": {}
      },
      "source": [
        "#正規化したデータをシャッフルし、バッチ数ごとに分ける\n",
        "train_dataset = mnist_train.map(scale).shuffle(BUFFER_SIZE).batch(BATCH_SIZE)\n",
        "eval_dataset = mnist_test.map(scale).batch(BATCH_SIZE)"
      ],
      "execution_count": 0,
      "outputs": []
    },
    {
      "cell_type": "code",
      "metadata": {
        "colab_type": "code",
        "id": "IexhL_vIB3YA",
        "colab": {}
      },
      "source": [
        "#モデルを作成\n",
        "with strategy.scope():\n",
        "  model = tf.keras.Sequential([\n",
        "      #畳み込み層(出力チャンネル数、フィルタサイズ, 活性化関数, 入力サイズ)\n",
        "      tf.keras.layers.Conv2D(32, 3, activation='relu', input_shape=(28, 28, 1)),\n",
        "      \n",
        "      #プーリング層\n",
        "      tf.keras.layers.MaxPooling2D(),\n",
        "      \n",
        "      #平滑化\n",
        "      tf.keras.layers.Flatten(),\n",
        "      \n",
        "      #全結合層\n",
        "      tf.keras.layers.Dense(64, activation='relu'),\n",
        "      tf.keras.layers.Dense(10, activation='softmax')\n",
        "  ])\n",
        "\n",
        "  #コンパイル\n",
        "  model.compile(loss='sparse_categorical_crossentropy',\n",
        "                optimizer=tf.keras.optimizers.Adam(),\n",
        "                metrics=['accuracy'])"
      ],
      "execution_count": 0,
      "outputs": []
    },
    {
      "cell_type": "markdown",
      "metadata": {
        "id": "5euFstK9T6PN",
        "colab_type": "text"
      },
      "source": [
        "**コールバックの定義**"
      ]
    },
    {
      "cell_type": "code",
      "metadata": {
        "colab_type": "code",
        "id": "A9bwLCcXzSgy",
        "colab": {}
      },
      "source": [
        "#チェックポイントのファイル名\n",
        "checkpoint_dir = './training_checkpoints'\n",
        "\n",
        "#チェックポイントのファイル名とパス名をくっつける\n",
        "checkpoint_prefix = os.path.join(checkpoint_dir, \"ckpt_{epoch}\")"
      ],
      "execution_count": 0,
      "outputs": []
    },
    {
      "cell_type": "code",
      "metadata": {
        "colab_type": "code",
        "id": "wpU-BEdzJDbK",
        "colab": {}
      },
      "source": [
        "def decay(epoch):\n",
        "  '''\n",
        "  学習率を下げる機能\n",
        "  '''\n",
        "  if epoch < 3:\n",
        "    return 1e-3\n",
        "  elif epoch >= 3 and epoch < 7:\n",
        "    return 1e-4\n",
        "  else:\n",
        "    return 1e-5"
      ],
      "execution_count": 0,
      "outputs": []
    },
    {
      "cell_type": "code",
      "metadata": {
        "colab_type": "code",
        "id": "jKhiMgXtKq2w",
        "colab": {}
      },
      "source": [
        "class PrintLR(tf.keras.callbacks.Callback):\n",
        "  '''\n",
        "  エポックごとに学習率を出力するクラス\n",
        "  '''\n",
        "  def on_epoch_end(self, epoch, logs=None):\n",
        "    print ('\\nLearning rate for epoch {} is {}'.format(\n",
        "        epoch + 1, tf.keras.backend.get_value(model.optimizer.lr)))"
      ],
      "execution_count": 0,
      "outputs": []
    },
    {
      "cell_type": "code",
      "metadata": {
        "colab_type": "code",
        "id": "YVqAbR6YyNQh",
        "colab": {}
      },
      "source": [
        "callbacks = [\n",
        "    #TensorfBoardによって解析されたログファイルを保存するディレクトリのパス\n",
        "    tf.keras.callbacks.TensorBoard(log_dir='./logs'),\n",
        "    \n",
        "    #エポックごとにモデルを保存\n",
        "    #fillpath : モデルファイルを保存するパス\n",
        "    #save_weights_only : モデルの重みを保存\n",
        "    tf.keras.callbacks.ModelCheckpoint(filepath=checkpoint_prefix,\n",
        "                                       save_weights_only=True),\n",
        "    \n",
        "    #学習率のスケジューラ(エポックのインデックスを入力とし，新しい学習率を返す)\n",
        "    tf.keras.callbacks.LearningRateScheduler(decay),\n",
        "    PrintLR()\n",
        "]"
      ],
      "execution_count": 0,
      "outputs": []
    },
    {
      "cell_type": "markdown",
      "metadata": {
        "id": "17TLHYIBpcxc",
        "colab_type": "text"
      },
      "source": [
        "**学習、推定**"
      ]
    },
    {
      "cell_type": "code",
      "metadata": {
        "colab_type": "code",
        "id": "7MVw_6CqB3YD",
        "outputId": "3cf4aa06-c55a-4f1b-e306-30f718c30d14",
        "colab": {
          "base_uri": "https://localhost:8080/",
          "height": 731
        }
      },
      "source": [
        "#学習\n",
        "model.fit(train_dataset, epochs=10, callbacks=callbacks)"
      ],
      "execution_count": 0,
      "outputs": [
        {
          "output_type": "stream",
          "text": [
            "Train on 938 steps\n",
            "Epoch 1/10\n",
            "937/938 [============================>.] - ETA: 0s - loss: 0.2019 - acc: 0.9414\n",
            "Learning rate for epoch 1 is 0.0010000000474974513\n",
            "938/938 [==============================] - 31s 33ms/step - loss: 0.2018 - acc: 0.9414\n",
            "Epoch 2/10\n",
            "936/938 [============================>.] - ETA: 0s - loss: 0.0683 - acc: 0.9804\n",
            "Learning rate for epoch 2 is 0.0010000000474974513\n",
            "938/938 [==============================] - 30s 32ms/step - loss: 0.0683 - acc: 0.9804\n",
            "Epoch 3/10\n",
            "937/938 [============================>.] - ETA: 0s - loss: 0.0486 - acc: 0.9856\n",
            "Learning rate for epoch 3 is 0.0010000000474974513\n",
            "938/938 [==============================] - 31s 33ms/step - loss: 0.0486 - acc: 0.9855\n",
            "Epoch 4/10\n",
            "937/938 [============================>.] - ETA: 0s - loss: 0.0271 - acc: 0.9923\n",
            "Learning rate for epoch 4 is 9.999999747378752e-05\n",
            "938/938 [==============================] - 31s 33ms/step - loss: 0.0271 - acc: 0.9923\n",
            "Epoch 5/10\n",
            "937/938 [============================>.] - ETA: 0s - loss: 0.0239 - acc: 0.9936\n",
            "Learning rate for epoch 5 is 9.999999747378752e-05\n",
            "938/938 [==============================] - 31s 33ms/step - loss: 0.0239 - acc: 0.9936\n",
            "Epoch 6/10\n",
            "936/938 [============================>.] - ETA: 0s - loss: 0.0221 - acc: 0.9940\n",
            "Learning rate for epoch 6 is 9.999999747378752e-05\n",
            "938/938 [==============================] - 30s 32ms/step - loss: 0.0220 - acc: 0.9941\n",
            "Epoch 7/10\n",
            "936/938 [============================>.] - ETA: 0s - loss: 0.0203 - acc: 0.9948\n",
            "Learning rate for epoch 7 is 9.999999747378752e-05\n",
            "938/938 [==============================] - 31s 33ms/step - loss: 0.0203 - acc: 0.9948\n",
            "Epoch 8/10\n",
            "937/938 [============================>.] - ETA: 0s - loss: 0.0178 - acc: 0.9958\n",
            "Learning rate for epoch 8 is 9.999999747378752e-06\n",
            "938/938 [==============================] - 30s 32ms/step - loss: 0.0177 - acc: 0.9958\n",
            "Epoch 9/10\n",
            "936/938 [============================>.] - ETA: 0s - loss: 0.0174 - acc: 0.9960\n",
            "Learning rate for epoch 9 is 9.999999747378752e-06\n",
            "938/938 [==============================] - 30s 32ms/step - loss: 0.0175 - acc: 0.9960\n",
            "Epoch 10/10\n",
            "937/938 [============================>.] - ETA: 0s - loss: 0.0172 - acc: 0.9959\n",
            "Learning rate for epoch 10 is 9.999999747378752e-06\n",
            "938/938 [==============================] - 30s 32ms/step - loss: 0.0173 - acc: 0.9959\n"
          ],
          "name": "stdout"
        },
        {
          "output_type": "execute_result",
          "data": {
            "text/plain": [
              "<tensorflow.python.keras.callbacks.History at 0x7f4a5a508588>"
            ]
          },
          "metadata": {
            "tags": []
          },
          "execution_count": 19
        }
      ]
    },
    {
      "cell_type": "code",
      "metadata": {
        "colab_type": "code",
        "id": "JQ4zeSTxKEhB",
        "outputId": "c3bb3472-9536-4db9-e882-c1c6964230c4",
        "colab": {
          "base_uri": "https://localhost:8080/",
          "height": 289
        }
      },
      "source": [
        "#チェックポイントのディレクトリ\n",
        "!ls {checkpoint_dir}"
      ],
      "execution_count": 0,
      "outputs": [
        {
          "output_type": "stream",
          "text": [
            "checkpoint\t\t     ckpt_5.data-00000-of-00002\n",
            "ckpt_10.data-00000-of-00002  ckpt_5.data-00001-of-00002\n",
            "ckpt_10.data-00001-of-00002  ckpt_5.index\n",
            "ckpt_10.index\t\t     ckpt_6.data-00000-of-00002\n",
            "ckpt_1.data-00000-of-00002   ckpt_6.data-00001-of-00002\n",
            "ckpt_1.data-00001-of-00002   ckpt_6.index\n",
            "ckpt_1.index\t\t     ckpt_7.data-00000-of-00002\n",
            "ckpt_2.data-00000-of-00002   ckpt_7.data-00001-of-00002\n",
            "ckpt_2.data-00001-of-00002   ckpt_7.index\n",
            "ckpt_2.index\t\t     ckpt_8.data-00000-of-00002\n",
            "ckpt_3.data-00000-of-00002   ckpt_8.data-00001-of-00002\n",
            "ckpt_3.data-00001-of-00002   ckpt_8.index\n",
            "ckpt_3.index\t\t     ckpt_9.data-00000-of-00002\n",
            "ckpt_4.data-00000-of-00002   ckpt_9.data-00001-of-00002\n",
            "ckpt_4.data-00001-of-00002   ckpt_9.index\n",
            "ckpt_4.index\n"
          ],
          "name": "stdout"
        }
      ]
    },
    {
      "cell_type": "code",
      "metadata": {
        "colab_type": "code",
        "id": "JtEwxiTgpQoP",
        "outputId": "adbd2853-8add-4f05-f4f8-956613b2c156",
        "colab": {
          "base_uri": "https://localhost:8080/",
          "height": 51
        }
      },
      "source": [
        "#最新のチェックポイントの重みを呼び出す\n",
        "model.load_weights(tf.train.latest_checkpoint(checkpoint_dir))\n",
        "\n",
        "#testデータの評価\n",
        "eval_loss, eval_acc = model.evaluate(eval_dataset)\n",
        "print ('Eval loss: {}, Eval Accuracy: {}'.format(eval_loss, eval_acc))"
      ],
      "execution_count": 0,
      "outputs": [
        {
          "output_type": "stream",
          "text": [
            "157/157 [==============================] - 2s 12ms/step - loss: 0.0368 - acc: 0.9878\n",
            "Eval loss: 0.03682094065926281, Eval Accuracy: 0.9878000020980835\n"
          ],
          "name": "stdout"
        }
      ]
    },
    {
      "cell_type": "markdown",
      "metadata": {
        "colab_type": "text",
        "id": "IIeF2RWfYu4N"
      },
      "source": [
        "ターミナルでTensorBoardのログを見る\n",
        "\n",
        "```\n",
        "$ tensorboard --logdir=path/to/log-directory\n",
        "```"
      ]
    },
    {
      "cell_type": "code",
      "metadata": {
        "colab_type": "code",
        "id": "LnyscOkvKKBR",
        "outputId": "c9918742-def9-4b4b-e8ee-4dc2f7d77dfc",
        "colab": {
          "base_uri": "https://localhost:8080/",
          "height": 119
        }
      },
      "source": [
        "#TensorBoardのログ\n",
        "!ls -sh ./logs"
      ],
      "execution_count": 0,
      "outputs": [
        {
          "output_type": "stream",
          "text": [
            "total 424M\n",
            "107M events.out.tfevents.1559289829.a5c9cce260bc\n",
            "4.0K events.out.tfevents.1559289831.a5c9cce260bc.profile-empty\n",
            "212M events.out.tfevents.1559291625.a5c9cce260bc\n",
            "107M events.out.tfevents.1559299757.a5c9cce260bc\n",
            "4.0K plugins\n"
          ],
          "name": "stdout"
        }
      ]
    },
    {
      "cell_type": "markdown",
      "metadata": {
        "id": "rBZ3V8NCLq4M",
        "colab_type": "text"
      },
      "source": [
        "**Modelを保存、エクスポート**"
      ]
    },
    {
      "cell_type": "code",
      "metadata": {
        "id": "u1cC87KQTe4Z",
        "colab_type": "code",
        "outputId": "e243429f-0e99-4f53-c96e-195b12a39329",
        "colab": {
          "base_uri": "https://localhost:8080/",
          "height": 34
        }
      },
      "source": [
        "#マウント\n",
        "from google.colab import drive\n",
        "drive.mount('./gdrive')"
      ],
      "execution_count": 0,
      "outputs": [
        {
          "output_type": "stream",
          "text": [
            "Drive already mounted at ./gdrive; to attempt to forcibly remount, call drive.mount(\"./gdrive\", force_remount=True).\n"
          ],
          "name": "stdout"
        }
      ]
    },
    {
      "cell_type": "code",
      "metadata": {
        "id": "nKNKIIklTyGf",
        "colab_type": "code",
        "outputId": "6ec41910-f629-47f8-d131-ad46c32087bc",
        "colab": {
          "base_uri": "https://localhost:8080/",
          "height": 34
        }
      },
      "source": [
        "!ls gdrive"
      ],
      "execution_count": 0,
      "outputs": [
        {
          "output_type": "stream",
          "text": [
            "'My Drive'\n"
          ],
          "name": "stdout"
        }
      ]
    },
    {
      "cell_type": "code",
      "metadata": {
        "colab_type": "code",
        "id": "h8Q4MKOLwG7K",
        "colab": {}
      },
      "source": [
        "path = './gdrive/My Drive/saved_model/'"
      ],
      "execution_count": 0,
      "outputs": []
    },
    {
      "cell_type": "code",
      "metadata": {
        "colab_type": "code",
        "id": "4HvcDmVsvQoa",
        "outputId": "eb30927f-b02d-4b66-9fcc-0eb7a1087654",
        "colab": {
          "base_uri": "https://localhost:8080/",
          "height": 224
        }
      },
      "source": [
        "#モデルをMyDriveに保存\n",
        "tf.keras.experimental.export_saved_model(model, path)"
      ],
      "execution_count": 0,
      "outputs": [
        {
          "output_type": "stream",
          "text": [
            "W0531 11:15:35.268236 139959173076864 deprecation.py:506] From /usr/local/lib/python3.6/dist-packages/tensorflow/python/ops/init_ops.py:97: calling GlorotUniform.__init__ (from tensorflow.python.ops.init_ops) with dtype is deprecated and will be removed in a future version.\n",
            "Instructions for updating:\n",
            "Call initializer instance with the dtype argument instead of passing it to the constructor\n",
            "W0531 11:15:35.270257 139959173076864 deprecation.py:506] From /usr/local/lib/python3.6/dist-packages/tensorflow/python/ops/init_ops.py:97: calling Zeros.__init__ (from tensorflow.python.ops.init_ops) with dtype is deprecated and will be removed in a future version.\n",
            "Instructions for updating:\n",
            "Call initializer instance with the dtype argument instead of passing it to the constructor\n",
            "W0531 11:15:36.181991 139959173076864 deprecation.py:323] From /usr/local/lib/python3.6/dist-packages/tensorflow/python/saved_model/signature_def_utils_impl.py:253: build_tensor_info (from tensorflow.python.saved_model.utils_impl) is deprecated and will be removed in a future version.\n",
            "Instructions for updating:\n",
            "This function will only be available through the v1 compatibility library as tf.compat.v1.saved_model.utils.build_tensor_info or tf.compat.v1.saved_model.build_tensor_info.\n",
            "W0531 11:15:36.183959 139959173076864 export_utils.py:182] Export includes no default signature!\n",
            "W0531 11:15:36.770638 139959173076864 export_utils.py:182] Export includes no default signature!\n"
          ],
          "name": "stderr"
        }
      ]
    },
    {
      "cell_type": "code",
      "metadata": {
        "colab_type": "code",
        "id": "T_gT0RbRvQ3o",
        "outputId": "439142ff-3339-496a-d64d-fc438b6672b8",
        "colab": {
          "base_uri": "https://localhost:8080/",
          "height": 51
        }
      },
      "source": [
        "#モデルをロード\n",
        "unreplicated_model = tf.keras.experimental.load_from_saved_model(path)\n",
        "\n",
        "#コンパイル\n",
        "unreplicated_model.compile(\n",
        "    loss='sparse_categorical_crossentropy',\n",
        "    optimizer=tf.keras.optimizers.Adam(),\n",
        "    metrics=['accuracy'])\n",
        "\n",
        "#評価\n",
        "eval_loss, eval_acc = unreplicated_model.evaluate(eval_dataset)\n",
        "print ('Eval loss: {}, Eval Accuracy: {}'.format(eval_loss, eval_acc))"
      ],
      "execution_count": 0,
      "outputs": [
        {
          "output_type": "stream",
          "text": [
            "157/157 [==============================] - 2s 15ms/step - loss: 0.0368 - acc: 0.9878\n",
            "Eval loss: 0.03682094065926281, Eval Accuracy: 0.9878000020980835\n"
          ],
          "name": "stdout"
        }
      ]
    }
  ]
}