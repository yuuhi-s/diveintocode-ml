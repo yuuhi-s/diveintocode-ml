{
 "cells": [
  {
   "cell_type": "markdown",
   "metadata": {},
   "source": [
    "# Sprint15課題 ディープラーニングフレームワーク2"
   ]
  },
  {
   "cell_type": "markdown",
   "metadata": {},
   "source": [
    "## この課題の目的\n",
    "\n",
    "- フレームワークのコードを読めるようにする\n",
    "- フレームワークを習得し続けられるようになる\n",
    "- 理論を知っている範囲をフレームワークで動かす"
   ]
  },
  {
   "cell_type": "markdown",
   "metadata": {},
   "source": [
    "## 公式Example\n",
    "\n",
    "深層学習フレームワークには公式に様々なモデルのExampleコードが公開されています。"
   ]
  },
  {
   "cell_type": "markdown",
   "metadata": {},
   "source": [
    "## 【問題1】公式Exampleを分担して実行\n",
    "\n",
    "TensorFLowの公式Exampleを分担して実行してください。\n",
    "\n",
    "以下の中から1人ひとつ選び実行し、その結果を簡単に発表してください。\n",
    "\n",
    "research\n",
    "\n",
    "定番のモデルから最新のモデルまで多様なコードが公開されています。\n",
    "\n",
    "[models/research at master · tensorflow/models](https://github.com/tensorflow/models/tree/master/research)\n",
    "\n",
    "tutorials\n",
    "\n",
    "TensorFLowのチュートリアルとして用意された簡単なモデルが含まれています。\n",
    "\n",
    "[models/tutorials at master · tensorflow/models](https://github.com/tensorflow/models/tree/master/tutorials)"
   ]
  },
  {
   "cell_type": "markdown",
   "metadata": {},
   "source": [
    "**GPU使用のため、GoogleCorabで実施。別ファイルで保管。**  \n",
    "[Sprint15 問題1のGithub](https://github.com/yuuhi-s/diveintocode-ml/blob/master/diveintocode-term2/sprint15/sprint15-dnn-framework2_question1.ipynb)"
   ]
  },
  {
   "cell_type": "markdown",
   "metadata": {},
   "source": [
    "## 異なるフレームワークへの書き換え\n",
    "\n",
    "Sprint14で作成した4種類のデータセットを扱うTensorFLowのコードを異なるフレームワークに変更していきます。\n",
    "\n",
    "- Iris（Iris-versicolorとIris-virginicaのみの2値分類）\n",
    "- Iris（3種類全ての目的変数を使用して多値分類）\n",
    "- House Prices\n",
    "- MNIST"
   ]
  },
  {
   "cell_type": "markdown",
   "metadata": {},
   "source": [
    "## Kerasへの書き換え\n",
    "\n",
    "KerasはTensorFLowに含まれるtf.kerasモジュールを使用してください。\n",
    "\n",
    "KerasにはSequentialモデルかFunctional APIかなど書き方に種類がありますが、これは指定しません。"
   ]
  },
  {
   "cell_type": "markdown",
   "metadata": {},
   "source": [
    "## 【問題2】Iris（2値分類）をKerasで学習\n",
    "\n",
    "Sprint14で作成したIrisデータセットに対する2値分類をKerasに書き換えてください。"
   ]
  },
  {
   "cell_type": "code",
   "execution_count": 1,
   "metadata": {},
   "outputs": [
    {
     "name": "stderr",
     "output_type": "stream",
     "text": [
      "Using TensorFlow backend.\n"
     ]
    }
   ],
   "source": [
    "import numpy as np\n",
    "import pandas as pd\n",
    "import tensorflow as tf\n",
    "from sklearn.model_selection import train_test_split\n",
    "from sklearn.preprocessing import OneHotEncoder\n",
    "from sklearn.metrics import r2_score\n",
    "from keras.datasets import mnist"
   ]
  },
  {
   "cell_type": "code",
   "execution_count": 2,
   "metadata": {},
   "outputs": [],
   "source": [
    "#データセットの読み込み\n",
    "dataset_path = 'Iris.csv'\n",
    "df = pd.read_csv(dataset_path)\n",
    "\n",
    "#データフレームから条件抽出\n",
    "df = df[(df['Species'] == 'Iris-versicolor') | (df['Species'] == 'Iris-virginica')]\n",
    "y = df['Species']\n",
    "X = df.loc[:, ['SepalLengthCm', 'SepalWidthCm', 'PetalLengthCm', 'PetalWidthCm']]\n",
    "y = np.array(y)\n",
    "X = np.array(X)\n",
    "\n",
    "#ラベルを数値に変換\n",
    "y[y == 'Iris-versicolor'] = 0\n",
    "y[y == 'Iris-virginica'] = 1\n",
    "\n",
    "#次元変換\n",
    "y = y.astype(np.int)[:, np.newaxis]\n",
    "\n",
    "#trainとtestに分割\n",
    "X_train, X_test, y_train, y_test = train_test_split(X, y, test_size=0.2, random_state=0)\n",
    "\n",
    "#さらにtrainとvalに分割\n",
    "X_train, X_val, y_train, y_val = train_test_split(X_train, y_train, test_size=0.2, random_state=0)"
   ]
  },
  {
   "cell_type": "code",
   "execution_count": 3,
   "metadata": {},
   "outputs": [
    {
     "name": "stdout",
     "output_type": "stream",
     "text": [
      "WARNING:tensorflow:From /Users/yuhisoejima/.pyenv/versions/anaconda3-5.3.1/lib/python3.7/site-packages/tensorflow/python/ops/resource_variable_ops.py:435: colocate_with (from tensorflow.python.framework.ops) is deprecated and will be removed in a future version.\n",
      "Instructions for updating:\n",
      "Colocations handled automatically by placer.\n"
     ]
    }
   ],
   "source": [
    "#入力層\n",
    "input_data = tf.keras.layers.Input(shape=(4,))\n",
    "\n",
    "#隠れ層\n",
    "x = tf.keras.layers.Dense(100, activation=tf.nn.relu, kernel_initializer='he_normal')(input_data)\n",
    "x = tf.keras.layers.Dense(50, activation=tf.nn.relu, kernel_initializer='he_normal')(x)\n",
    "\n",
    "#出力層\n",
    "output = tf.keras.layers.Dense(1, activation=tf.nn.sigmoid, kernel_initializer='he_normal')(x)\n",
    "\n",
    "#インスタンスを渡す\n",
    "model = tf.keras.Model(inputs=input_data, outputs=output)"
   ]
  },
  {
   "cell_type": "code",
   "execution_count": 4,
   "metadata": {},
   "outputs": [
    {
     "name": "stdout",
     "output_type": "stream",
     "text": [
      "_________________________________________________________________\n",
      "Layer (type)                 Output Shape              Param #   \n",
      "=================================================================\n",
      "input_1 (InputLayer)         (None, 4)                 0         \n",
      "_________________________________________________________________\n",
      "dense (Dense)                (None, 100)               500       \n",
      "_________________________________________________________________\n",
      "dense_1 (Dense)              (None, 50)                5050      \n",
      "_________________________________________________________________\n",
      "dense_2 (Dense)              (None, 1)                 51        \n",
      "=================================================================\n",
      "Total params: 5,601\n",
      "Trainable params: 5,601\n",
      "Non-trainable params: 0\n",
      "_________________________________________________________________\n"
     ]
    }
   ],
   "source": [
    "model.summary()"
   ]
  },
  {
   "cell_type": "code",
   "execution_count": 5,
   "metadata": {},
   "outputs": [],
   "source": [
    "#コンパイル\n",
    "model.compile(loss='binary_crossentropy', \n",
    "                           optimizer=tf.train.AdamOptimizer(learning_rate=0.01),\n",
    "                            metrics=['accuracy'])"
   ]
  },
  {
   "cell_type": "code",
   "execution_count": 6,
   "metadata": {},
   "outputs": [
    {
     "name": "stdout",
     "output_type": "stream",
     "text": [
      "Train on 64 samples, validate on 16 samples\n",
      "WARNING:tensorflow:From /Users/yuhisoejima/.pyenv/versions/anaconda3-5.3.1/lib/python3.7/site-packages/tensorflow/python/ops/math_ops.py:3066: to_int32 (from tensorflow.python.ops.math_ops) is deprecated and will be removed in a future version.\n",
      "Instructions for updating:\n",
      "Use tf.cast instead.\n",
      "Epoch 1/10\n",
      "64/64 [==============================] - 0s 3ms/sample - loss: 2.1479 - acc: 0.5938 - val_loss: 1.9799 - val_acc: 0.6250\n",
      "Epoch 2/10\n",
      "64/64 [==============================] - 0s 201us/sample - loss: 1.8757 - acc: 0.4844 - val_loss: 2.4349 - val_acc: 0.3750\n",
      "Epoch 3/10\n",
      "64/64 [==============================] - 0s 199us/sample - loss: 1.0580 - acc: 0.5625 - val_loss: 0.8446 - val_acc: 0.6250\n",
      "Epoch 4/10\n",
      "64/64 [==============================] - 0s 277us/sample - loss: 0.7911 - acc: 0.5156 - val_loss: 0.9182 - val_acc: 0.3750\n",
      "Epoch 5/10\n",
      "64/64 [==============================] - 0s 348us/sample - loss: 0.4888 - acc: 0.7344 - val_loss: 0.5319 - val_acc: 0.6875\n",
      "Epoch 6/10\n",
      "64/64 [==============================] - 0s 298us/sample - loss: 0.4088 - acc: 0.7969 - val_loss: 0.4636 - val_acc: 0.7500\n",
      "Epoch 7/10\n",
      "64/64 [==============================] - 0s 256us/sample - loss: 0.3253 - acc: 0.8906 - val_loss: 0.2755 - val_acc: 0.9375\n",
      "Epoch 8/10\n",
      "64/64 [==============================] - 0s 316us/sample - loss: 0.3108 - acc: 0.8594 - val_loss: 0.2492 - val_acc: 0.9375\n",
      "Epoch 9/10\n",
      "64/64 [==============================] - 0s 349us/sample - loss: 0.2346 - acc: 0.9375 - val_loss: 0.2412 - val_acc: 0.9375\n",
      "Epoch 10/10\n",
      "64/64 [==============================] - 0s 318us/sample - loss: 0.2440 - acc: 0.9062 - val_loss: 0.2197 - val_acc: 0.9375\n"
     ]
    }
   ],
   "source": [
    "#学習\n",
    "history = model.fit(X_train, y_train, batch_size=10, epochs=10, verbose=1, validation_data=(X_val, y_val))"
   ]
  },
  {
   "cell_type": "code",
   "execution_count": 7,
   "metadata": {},
   "outputs": [
    {
     "name": "stdout",
     "output_type": "stream",
     "text": [
      "y_pred_proba [0.05722302 0.94213897 0.05412406 0.9506238  0.7354522  0.94088006\n",
      " 0.40747905 0.4921059  0.9653951  0.62999886 0.92520547 0.92174923\n",
      " 0.9466534  0.23544744 0.03701541 0.05178449 0.41029733 0.02069745\n",
      " 0.7864569  0.03622207]\n",
      "y_pred [0 1 0 1 1 1 0 0 1 1 1 1 1 0 0 0 0 0 1 0]\n"
     ]
    }
   ],
   "source": [
    "#推定\n",
    "y_pred_proba = model.predict(X_test)[:, 0]\n",
    "y_pred = np.where(y_pred_proba > 0.5, 1, 0)\n",
    "\n",
    "print(\"y_pred_proba\", y_pred_proba)\n",
    "print(\"y_pred\", y_pred)"
   ]
  },
  {
   "cell_type": "code",
   "execution_count": 8,
   "metadata": {},
   "outputs": [
    {
     "name": "stdout",
     "output_type": "stream",
     "text": [
      "Test loss: 0.25129827857017517\n",
      "Test accuracy: 0.9\n"
     ]
    }
   ],
   "source": [
    "#評価\n",
    "score = model.evaluate(X_test, y_test, verbose=0)\n",
    "print('Test loss:', score[0])\n",
    "print('Test accuracy:', score[1])"
   ]
  },
  {
   "cell_type": "markdown",
   "metadata": {},
   "source": [
    "## 【問題3】Iris（多値分類）をKerasで学習\n",
    "\n",
    "Sprint14で作成したIrisデータセットに対する3値分類をKerasに書き換えてください。"
   ]
  },
  {
   "cell_type": "code",
   "execution_count": 9,
   "metadata": {},
   "outputs": [],
   "source": [
    "#データセットの読み込み\n",
    "dataset_path = 'Iris.csv'\n",
    "df = pd.read_csv(dataset_path)\n",
    "\n",
    "#nparrayに変換\n",
    "y = df['Species']\n",
    "X = df.loc[:, ['SepalLengthCm', 'SepalWidthCm', 'PetalLengthCm', 'PetalWidthCm']]\n",
    "y = np.array(y)\n",
    "X = np.array(X)\n",
    "\n",
    "#ラベルを数値に変換\n",
    "y[y == 'Iris-setosa'] = 0\n",
    "y[y == 'Iris-versicolor'] = 1\n",
    "y[y == 'Iris-virginica'] = 2\n",
    "\n",
    "#次元変換\n",
    "y = y.astype(np.int)[:, np.newaxis]\n",
    "\n",
    "#one-hotエンコーディング\n",
    "enc = OneHotEncoder(handle_unknown='ignore', sparse=False)\n",
    "y = enc.fit_transform(y)\n",
    "\n",
    "#trainとtestに分割\n",
    "X_train, X_test, y_train, y_test = train_test_split(X, y, test_size=0.2, random_state=0)\n",
    "\n",
    "#さらにtrainとvalに分割\n",
    "X_train, X_val, y_train, y_val = train_test_split(X_train, y_train, test_size=0.2, random_state=0)"
   ]
  },
  {
   "cell_type": "code",
   "execution_count": 10,
   "metadata": {
    "code_folding": []
   },
   "outputs": [],
   "source": [
    "#入力層\n",
    "input_data = tf.keras.layers.Input(shape=(4,))\n",
    "\n",
    "#隠れ層\n",
    "x = tf.keras.layers.Dense(100, activation=tf.nn.relu, kernel_initializer='he_normal')(input_data)\n",
    "x = tf.keras.layers.Dense(50, activation=tf.nn.relu, kernel_initializer='he_normal')(x)\n",
    "\n",
    "#出力層\n",
    "output = tf.keras.layers.Dense(3, activation=tf.nn.softmax, kernel_initializer='he_normal')(x)\n",
    "\n",
    "#インスタンスを渡す\n",
    "model = tf.keras.Model(inputs=input_data, outputs=output)"
   ]
  },
  {
   "cell_type": "code",
   "execution_count": 11,
   "metadata": {},
   "outputs": [
    {
     "name": "stdout",
     "output_type": "stream",
     "text": [
      "_________________________________________________________________\n",
      "Layer (type)                 Output Shape              Param #   \n",
      "=================================================================\n",
      "input_2 (InputLayer)         (None, 4)                 0         \n",
      "_________________________________________________________________\n",
      "dense_3 (Dense)              (None, 100)               500       \n",
      "_________________________________________________________________\n",
      "dense_4 (Dense)              (None, 50)                5050      \n",
      "_________________________________________________________________\n",
      "dense_5 (Dense)              (None, 3)                 153       \n",
      "=================================================================\n",
      "Total params: 5,703\n",
      "Trainable params: 5,703\n",
      "Non-trainable params: 0\n",
      "_________________________________________________________________\n"
     ]
    }
   ],
   "source": [
    "model.summary()"
   ]
  },
  {
   "cell_type": "code",
   "execution_count": 12,
   "metadata": {},
   "outputs": [],
   "source": [
    "#コンパイル\n",
    "model.compile(loss='categorical_crossentropy', \n",
    "                           optimizer=tf.train.AdamOptimizer(learning_rate=0.01),\n",
    "                            metrics=['accuracy'])"
   ]
  },
  {
   "cell_type": "code",
   "execution_count": 13,
   "metadata": {},
   "outputs": [
    {
     "name": "stdout",
     "output_type": "stream",
     "text": [
      "Train on 96 samples, validate on 24 samples\n",
      "Epoch 1/10\n",
      "96/96 [==============================] - 0s 2ms/sample - loss: 2.1779 - acc: 0.4792 - val_loss: 0.4547 - val_acc: 0.7083\n",
      "Epoch 2/10\n",
      "96/96 [==============================] - 0s 197us/sample - loss: 0.3605 - acc: 0.8229 - val_loss: 0.3304 - val_acc: 0.7917\n",
      "Epoch 3/10\n",
      "96/96 [==============================] - 0s 220us/sample - loss: 0.3284 - acc: 0.8750 - val_loss: 0.8398 - val_acc: 0.6250\n",
      "Epoch 4/10\n",
      "96/96 [==============================] - 0s 215us/sample - loss: 0.4449 - acc: 0.7708 - val_loss: 0.2646 - val_acc: 0.9167\n",
      "Epoch 5/10\n",
      "96/96 [==============================] - 0s 253us/sample - loss: 0.1732 - acc: 0.9167 - val_loss: 0.3531 - val_acc: 0.9167\n",
      "Epoch 6/10\n",
      "96/96 [==============================] - 0s 252us/sample - loss: 0.1240 - acc: 0.9583 - val_loss: 0.2379 - val_acc: 0.8333\n",
      "Epoch 7/10\n",
      "96/96 [==============================] - 0s 210us/sample - loss: 0.1470 - acc: 0.9479 - val_loss: 0.2384 - val_acc: 0.9167\n",
      "Epoch 8/10\n",
      "96/96 [==============================] - 0s 231us/sample - loss: 0.0960 - acc: 0.9688 - val_loss: 0.2358 - val_acc: 0.9167\n",
      "Epoch 9/10\n",
      "96/96 [==============================] - 0s 282us/sample - loss: 0.0860 - acc: 0.9583 - val_loss: 0.2316 - val_acc: 0.9167\n",
      "Epoch 10/10\n",
      "96/96 [==============================] - 0s 228us/sample - loss: 0.0861 - acc: 0.9688 - val_loss: 0.1909 - val_acc: 0.9583\n"
     ]
    }
   ],
   "source": [
    "#学習\n",
    "history = model.fit(X_train, y_train, batch_size=10, epochs=10, verbose=1, validation_data=(X_val, y_val))"
   ]
  },
  {
   "cell_type": "code",
   "execution_count": 14,
   "metadata": {},
   "outputs": [
    {
     "name": "stdout",
     "output_type": "stream",
     "text": [
      "y_pred_proba [[1.74333631e-10 2.35601421e-03 9.97644007e-01]\n",
      " [9.51593625e-04 9.96637464e-01 2.41102767e-03]\n",
      " [9.99867678e-01 1.32284447e-04 8.39121411e-11]\n",
      " [1.23960331e-09 6.68445304e-02 9.33155537e-01]\n",
      " [9.99254286e-01 7.45752535e-04 3.39551343e-09]\n",
      " [6.88471329e-12 7.95335043e-04 9.99204695e-01]\n",
      " [9.99468863e-01 5.31131634e-04 2.17699325e-09]\n",
      " [1.55048838e-04 9.96104240e-01 3.74066317e-03]\n",
      " [8.44952810e-05 9.94827211e-01 5.08832699e-03]\n",
      " [1.58672710e-03 9.96818662e-01 1.59457047e-03]\n",
      " [1.45725405e-08 7.76530653e-02 9.22346950e-01]\n",
      " [3.66350723e-04 9.96144295e-01 3.48929642e-03]\n",
      " [8.09532503e-05 9.83649611e-01 1.62695423e-02]\n",
      " [8.75574988e-05 9.88160372e-01 1.17521202e-02]\n",
      " [4.37615272e-05 9.58529890e-01 4.14263122e-02]\n",
      " [9.99029756e-01 9.70212626e-04 5.71235459e-09]\n",
      " [7.20438475e-05 9.57449079e-01 4.24788967e-02]\n",
      " [6.39596255e-05 9.19891655e-01 8.00444335e-02]\n",
      " [9.98539448e-01 1.46054302e-03 1.68144005e-08]\n",
      " [9.99753773e-01 2.46212643e-04 3.67579578e-10]\n",
      " [5.39855805e-09 1.39303263e-02 9.86069679e-01]\n",
      " [4.15615650e-05 8.45566750e-01 1.54391766e-01]\n",
      " [9.97741461e-01 2.25860602e-03 2.59199453e-08]\n",
      " [9.97715712e-01 2.28425441e-03 5.45955032e-08]\n",
      " [2.21388473e-06 5.20120144e-01 4.79877621e-01]\n",
      " [9.99630928e-01 3.69014859e-04 1.81072823e-09]\n",
      " [9.98457074e-01 1.54288369e-03 1.06062013e-08]\n",
      " [5.95856574e-04 9.96919990e-01 2.48420076e-03]\n",
      " [6.45746570e-03 9.90153730e-01 3.38879344e-03]\n",
      " [9.98651683e-01 1.34828640e-03 1.13184697e-08]]\n",
      "y_pred [2 1 0 2 0 2 0 1 1 1 2 1 1 1 1 0 1 1 0 0 2 1 0 0 1 0 0 1 1 0]\n"
     ]
    }
   ],
   "source": [
    "#推定\n",
    "y_pred_proba = model.predict(X_test)\n",
    "y_pred = np.argmax(y_pred_proba, axis=1)\n",
    "\n",
    "print(\"y_pred_proba\", y_pred_proba)\n",
    "print(\"y_pred\", y_pred)"
   ]
  },
  {
   "cell_type": "code",
   "execution_count": 15,
   "metadata": {},
   "outputs": [
    {
     "name": "stdout",
     "output_type": "stream",
     "text": [
      "Test loss: 0.043709684163331985\n",
      "Test accuracy: 0.96666664\n"
     ]
    }
   ],
   "source": [
    "#評価\n",
    "score = model.evaluate(X_test, y_test, verbose=0)\n",
    "print('Test loss:', score[0])\n",
    "print('Test accuracy:', score[1])"
   ]
  },
  {
   "cell_type": "markdown",
   "metadata": {},
   "source": [
    "## 【問題4】House PricesをKerasで学習\n",
    "\n",
    "Sprint14で作成したHouse Pricesデータセットに対する回帰をKerasに書き換えてください。"
   ]
  },
  {
   "cell_type": "code",
   "execution_count": 16,
   "metadata": {},
   "outputs": [],
   "source": [
    "#データセットの読み込み\n",
    "dataset_path = 'train.csv'\n",
    "df = pd.read_csv(dataset_path)\n",
    "\n",
    "#nparrayに変換\n",
    "y = df['SalePrice']\n",
    "X = df.loc[:, ['GrLivArea', 'YearBuilt']]\n",
    "y = np.array(y)\n",
    "X = np.array(X)\n",
    "\n",
    "#次元変換\n",
    "y = y[:, np.newaxis]\n",
    "\n",
    "#対数変換\n",
    "X = np.log(X)\n",
    "y = np.log(y)\n",
    "\n",
    "#trainとtestに分割\n",
    "X_train, X_test, y_train, y_test = train_test_split(X, y, test_size=0.2, random_state=0)\n",
    "\n",
    "#さらにtrainとvalに分割\n",
    "X_train, X_val, y_train, y_val = train_test_split(X_train, y_train, test_size=0.2, random_state=0)"
   ]
  },
  {
   "cell_type": "code",
   "execution_count": 17,
   "metadata": {},
   "outputs": [],
   "source": [
    "#入力層\n",
    "input_data = tf.keras.layers.Input(shape=(2,))\n",
    "\n",
    "#隠れ層\n",
    "x = tf.keras.layers.Dense(200, activation=tf.nn.relu, kernel_initializer='he_normal')(input_data)\n",
    "x = tf.keras.layers.Dense(100, activation=tf.nn.relu, kernel_initializer='he_normal')(x)\n",
    "\n",
    "#出力層\n",
    "output = tf.keras.layers.Dense(1, kernel_initializer='he_normal')(x)\n",
    "\n",
    "#インスタンスを渡す\n",
    "model = tf.keras.Model(inputs=input_data, outputs=output)"
   ]
  },
  {
   "cell_type": "code",
   "execution_count": 18,
   "metadata": {},
   "outputs": [
    {
     "name": "stdout",
     "output_type": "stream",
     "text": [
      "_________________________________________________________________\n",
      "Layer (type)                 Output Shape              Param #   \n",
      "=================================================================\n",
      "input_3 (InputLayer)         (None, 2)                 0         \n",
      "_________________________________________________________________\n",
      "dense_6 (Dense)              (None, 200)               600       \n",
      "_________________________________________________________________\n",
      "dense_7 (Dense)              (None, 100)               20100     \n",
      "_________________________________________________________________\n",
      "dense_8 (Dense)              (None, 1)                 101       \n",
      "=================================================================\n",
      "Total params: 20,801\n",
      "Trainable params: 20,801\n",
      "Non-trainable params: 0\n",
      "_________________________________________________________________\n"
     ]
    }
   ],
   "source": [
    "model.summary()"
   ]
  },
  {
   "cell_type": "code",
   "execution_count": 19,
   "metadata": {},
   "outputs": [
    {
     "name": "stdout",
     "output_type": "stream",
     "text": [
      "WARNING:tensorflow:From /Users/yuhisoejima/.pyenv/versions/anaconda3-5.3.1/lib/python3.7/site-packages/tensorflow/python/keras/utils/losses_utils.py:170: to_float (from tensorflow.python.ops.math_ops) is deprecated and will be removed in a future version.\n",
      "Instructions for updating:\n",
      "Use tf.cast instead.\n"
     ]
    }
   ],
   "source": [
    "#コンパイル\n",
    "model.compile(loss='mean_squared_error', \n",
    "                           optimizer=tf.train.AdamOptimizer(learning_rate=0.001))"
   ]
  },
  {
   "cell_type": "code",
   "execution_count": 20,
   "metadata": {},
   "outputs": [
    {
     "name": "stdout",
     "output_type": "stream",
     "text": [
      "Train on 934 samples, validate on 234 samples\n",
      "Epoch 1/15\n",
      "934/934 [==============================] - 0s 354us/sample - loss: 32.3107 - val_loss: 0.1121\n",
      "Epoch 2/15\n",
      "934/934 [==============================] - 0s 115us/sample - loss: 0.1016 - val_loss: 0.0898\n",
      "Epoch 3/15\n",
      "934/934 [==============================] - 0s 113us/sample - loss: 0.0848 - val_loss: 0.0754\n",
      "Epoch 4/15\n",
      "934/934 [==============================] - 0s 108us/sample - loss: 0.0792 - val_loss: 0.0714\n",
      "Epoch 5/15\n",
      "934/934 [==============================] - 0s 108us/sample - loss: 0.0805 - val_loss: 0.0703\n",
      "Epoch 6/15\n",
      "934/934 [==============================] - 0s 110us/sample - loss: 0.0831 - val_loss: 0.0701\n",
      "Epoch 7/15\n",
      "934/934 [==============================] - 0s 114us/sample - loss: 0.0772 - val_loss: 0.0946\n",
      "Epoch 8/15\n",
      "934/934 [==============================] - 0s 110us/sample - loss: 0.0782 - val_loss: 0.0729\n",
      "Epoch 9/15\n",
      "934/934 [==============================] - 0s 127us/sample - loss: 0.0905 - val_loss: 0.1114\n",
      "Epoch 10/15\n",
      "934/934 [==============================] - 0s 111us/sample - loss: 0.0838 - val_loss: 0.0771\n",
      "Epoch 11/15\n",
      "934/934 [==============================] - 0s 114us/sample - loss: 0.0786 - val_loss: 0.0785\n",
      "Epoch 12/15\n",
      "934/934 [==============================] - 0s 111us/sample - loss: 0.0791 - val_loss: 0.0801\n",
      "Epoch 13/15\n",
      "934/934 [==============================] - 0s 112us/sample - loss: 0.0942 - val_loss: 0.1225\n",
      "Epoch 14/15\n",
      "934/934 [==============================] - 0s 116us/sample - loss: 0.0944 - val_loss: 0.0712\n",
      "Epoch 15/15\n",
      "934/934 [==============================] - 0s 114us/sample - loss: 0.0845 - val_loss: 0.0727\n"
     ]
    }
   ],
   "source": [
    "#学習\n",
    "history = model.fit(X_train, y_train, batch_size=10, epochs=15, verbose=1, validation_data=(X_val, y_val))"
   ]
  },
  {
   "cell_type": "code",
   "execution_count": 21,
   "metadata": {
    "scrolled": false
   },
   "outputs": [
    {
     "name": "stdout",
     "output_type": "stream",
     "text": [
      "y_pred [[12.552007 ]\n",
      " [12.124228 ]\n",
      " [11.869594 ]\n",
      " [12.366162 ]\n",
      " [11.809992 ]\n",
      " [11.7346115]\n",
      " [12.074779 ]\n",
      " [11.991236 ]\n",
      " [12.975975 ]\n",
      " [11.83131  ]\n",
      " [11.998376 ]\n",
      " [12.195977 ]\n",
      " [12.3569355]\n",
      " [11.670026 ]\n",
      " [11.792945 ]\n",
      " [11.954691 ]\n",
      " [12.327058 ]\n",
      " [11.75028  ]\n",
      " [11.89304  ]\n",
      " [12.252234 ]\n",
      " [12.003289 ]\n",
      " [11.640494 ]\n",
      " [11.592439 ]\n",
      " [12.081495 ]\n",
      " [12.298425 ]\n",
      " [12.197667 ]\n",
      " [12.141098 ]\n",
      " [11.354317 ]\n",
      " [12.216508 ]\n",
      " [11.877198 ]\n",
      " [12.242801 ]\n",
      " [12.25414  ]\n",
      " [11.684465 ]\n",
      " [12.448808 ]\n",
      " [12.388022 ]\n",
      " [12.059301 ]\n",
      " [12.135438 ]\n",
      " [11.657858 ]\n",
      " [12.406813 ]\n",
      " [12.600335 ]\n",
      " [12.4139805]\n",
      " [11.986899 ]\n",
      " [11.967882 ]\n",
      " [12.289934 ]\n",
      " [12.650417 ]\n",
      " [12.218814 ]\n",
      " [11.598187 ]\n",
      " [11.669319 ]\n",
      " [12.198355 ]\n",
      " [11.683875 ]\n",
      " [12.61772  ]\n",
      " [11.794726 ]\n",
      " [11.975888 ]\n",
      " [11.554793 ]\n",
      " [12.17963  ]\n",
      " [11.649259 ]\n",
      " [12.020728 ]\n",
      " [12.271979 ]\n",
      " [11.825083 ]\n",
      " [11.558705 ]\n",
      " [11.7810545]\n",
      " [11.773788 ]\n",
      " [11.896198 ]\n",
      " [11.845025 ]\n",
      " [12.201434 ]\n",
      " [12.067108 ]\n",
      " [11.686911 ]\n",
      " [12.213786 ]\n",
      " [11.890805 ]\n",
      " [12.234686 ]\n",
      " [12.052661 ]\n",
      " [11.785503 ]\n",
      " [11.697296 ]\n",
      " [12.044938 ]\n",
      " [11.711131 ]\n",
      " [12.186448 ]\n",
      " [11.742313 ]\n",
      " [11.680341 ]\n",
      " [12.551466 ]\n",
      " [11.948295 ]\n",
      " [11.703923 ]\n",
      " [11.645428 ]\n",
      " [11.962241 ]\n",
      " [11.75028  ]\n",
      " [12.707187 ]\n",
      " [11.986718 ]\n",
      " [11.864611 ]\n",
      " [12.00929  ]\n",
      " [11.901508 ]\n",
      " [11.796191 ]\n",
      " [12.204471 ]\n",
      " [12.13368  ]\n",
      " [12.092735 ]\n",
      " [12.301584 ]\n",
      " [11.929497 ]\n",
      " [11.91027  ]\n",
      " [12.086754 ]\n",
      " [12.172752 ]\n",
      " [11.642197 ]\n",
      " [12.117416 ]\n",
      " [12.235898 ]\n",
      " [12.33062  ]\n",
      " [11.973418 ]\n",
      " [12.03963  ]\n",
      " [11.475356 ]\n",
      " [12.529947 ]\n",
      " [12.001098 ]\n",
      " [11.695232 ]\n",
      " [12.087087 ]\n",
      " [11.96929  ]\n",
      " [11.438939 ]\n",
      " [11.762996 ]\n",
      " [12.3511   ]\n",
      " [11.812196 ]\n",
      " [12.064258 ]\n",
      " [12.117759 ]\n",
      " [12.525096 ]\n",
      " [11.7715   ]\n",
      " [12.414079 ]\n",
      " [12.348662 ]\n",
      " [11.816905 ]\n",
      " [12.026574 ]\n",
      " [11.733947 ]\n",
      " [12.343269 ]\n",
      " [12.149837 ]\n",
      " [12.084538 ]\n",
      " [12.419297 ]\n",
      " [11.961622 ]\n",
      " [11.9170685]\n",
      " [12.102198 ]\n",
      " [11.989715 ]\n",
      " [11.9164915]\n",
      " [12.457925 ]\n",
      " [12.050312 ]\n",
      " [11.642197 ]\n",
      " [12.203335 ]\n",
      " [12.068396 ]\n",
      " [11.994262 ]\n",
      " [11.664903 ]\n",
      " [12.156491 ]\n",
      " [11.838644 ]\n",
      " [11.812037 ]\n",
      " [12.455766 ]\n",
      " [11.777839 ]\n",
      " [11.917121 ]\n",
      " [12.093983 ]\n",
      " [12.076084 ]\n",
      " [11.778558 ]\n",
      " [12.245769 ]\n",
      " [12.09118  ]\n",
      " [12.0345745]\n",
      " [12.219087 ]\n",
      " [12.272122 ]\n",
      " [12.412131 ]\n",
      " [12.170594 ]\n",
      " [12.640415 ]\n",
      " [11.819531 ]\n",
      " [12.082422 ]\n",
      " [11.844224 ]\n",
      " [12.081473 ]\n",
      " [11.642602 ]\n",
      " [11.8647375]\n",
      " [12.144909 ]\n",
      " [11.717491 ]\n",
      " [12.143693 ]\n",
      " [12.078968 ]\n",
      " [12.060044 ]\n",
      " [12.504517 ]\n",
      " [12.001947 ]\n",
      " [12.209669 ]\n",
      " [12.004613 ]\n",
      " [12.12893  ]\n",
      " [11.964956 ]\n",
      " [11.846049 ]\n",
      " [11.730757 ]\n",
      " [11.821023 ]\n",
      " [11.831956 ]\n",
      " [12.589465 ]\n",
      " [11.940472 ]\n",
      " [11.807508 ]\n",
      " [12.415469 ]\n",
      " [12.316811 ]\n",
      " [11.803411 ]\n",
      " [12.21988  ]\n",
      " [11.626045 ]\n",
      " [12.228394 ]\n",
      " [11.7373085]\n",
      " [11.904878 ]\n",
      " [12.033087 ]\n",
      " [11.640494 ]\n",
      " [11.75028  ]\n",
      " [11.986146 ]\n",
      " [12.119051 ]\n",
      " [11.694109 ]\n",
      " [11.891633 ]\n",
      " [11.7551155]\n",
      " [11.354317 ]\n",
      " [11.833561 ]\n",
      " [12.21151  ]\n",
      " [11.995823 ]\n",
      " [11.973044 ]\n",
      " [11.901504 ]\n",
      " [11.5439005]\n",
      " [11.778295 ]\n",
      " [12.300939 ]\n",
      " [12.593287 ]\n",
      " [11.910099 ]\n",
      " [12.430419 ]\n",
      " [12.263227 ]\n",
      " [11.616493 ]\n",
      " [11.83905  ]\n",
      " [12.187933 ]\n",
      " [11.765574 ]\n",
      " [11.543606 ]\n",
      " [12.284756 ]\n",
      " [12.506627 ]\n",
      " [12.029525 ]\n",
      " [12.628501 ]\n",
      " [12.192237 ]\n",
      " [11.3547535]\n",
      " [12.070985 ]\n",
      " [12.013534 ]\n",
      " [12.147445 ]\n",
      " [11.643005 ]\n",
      " [12.101151 ]\n",
      " [12.386198 ]\n",
      " [12.335978 ]\n",
      " [12.301128 ]\n",
      " [11.897553 ]\n",
      " [12.001003 ]\n",
      " [11.765116 ]\n",
      " [11.821596 ]\n",
      " [11.642602 ]\n",
      " [11.82535  ]\n",
      " [12.293386 ]\n",
      " [12.017301 ]\n",
      " [12.256776 ]\n",
      " [11.605701 ]\n",
      " [11.840929 ]\n",
      " [12.068127 ]\n",
      " [11.929208 ]\n",
      " [12.200818 ]\n",
      " [12.257696 ]\n",
      " [12.262695 ]\n",
      " [11.922517 ]\n",
      " [11.814127 ]\n",
      " [11.996685 ]\n",
      " [12.147877 ]\n",
      " [11.944515 ]\n",
      " [12.050333 ]\n",
      " [12.035903 ]\n",
      " [12.339542 ]\n",
      " [11.620215 ]\n",
      " [12.696188 ]\n",
      " [11.972118 ]\n",
      " [12.289934 ]\n",
      " [11.632479 ]\n",
      " [12.1409855]\n",
      " [12.778351 ]\n",
      " [13.121681 ]\n",
      " [12.23666  ]\n",
      " [12.081781 ]\n",
      " [12.25154  ]\n",
      " [11.920382 ]\n",
      " [12.404016 ]\n",
      " [12.254668 ]\n",
      " [12.615068 ]\n",
      " [11.105251 ]\n",
      " [12.366104 ]\n",
      " [12.214585 ]\n",
      " [12.05226  ]\n",
      " [12.372202 ]\n",
      " [12.078613 ]\n",
      " [12.141947 ]\n",
      " [12.428372 ]\n",
      " [12.402925 ]\n",
      " [12.240064 ]\n",
      " [12.217153 ]\n",
      " [12.34293  ]\n",
      " [11.957874 ]\n",
      " [11.667513 ]\n",
      " [12.357415 ]\n",
      " [12.072286 ]\n",
      " [12.113405 ]\n",
      " [11.956468 ]\n",
      " [12.405247 ]\n",
      " [11.888451 ]\n",
      " [12.223603 ]\n",
      " [12.530629 ]\n",
      " [12.537598 ]\n",
      " [11.466509 ]\n",
      " [11.798922 ]]\n"
     ]
    }
   ],
   "source": [
    "#推定\n",
    "y_pred = model.predict(X_test)\n",
    "\n",
    "print(\"y_pred\", y_pred)"
   ]
  },
  {
   "cell_type": "code",
   "execution_count": 22,
   "metadata": {},
   "outputs": [
    {
     "name": "stdout",
     "output_type": "stream",
     "text": [
      "Test mse: 0.06874046178713236\n",
      "Test R2: 0.5459674125185714\n"
     ]
    }
   ],
   "source": [
    "#評価\n",
    "#MSE\n",
    "score = model.evaluate(X_test, y_test, verbose=0)\n",
    "print('Test mse:', score)\n",
    "\n",
    "#R2\n",
    "r2 = r2_score(y_test, y_pred)\n",
    "print('Test R2:', r2)"
   ]
  },
  {
   "cell_type": "markdown",
   "metadata": {},
   "source": [
    "## 【問題5】MNISTをKerasで学習\n",
    "\n",
    "Sprint14で作成したMNISTデータセットによる画像の多値分類をKerasに書き換えてください。"
   ]
  },
  {
   "cell_type": "code",
   "execution_count": 23,
   "metadata": {},
   "outputs": [],
   "source": [
    "#データの読み込み\n",
    "(X_train, y_train), (X_test, y_test) = mnist.load_data()\n",
    "\n",
    "#次元変換\n",
    "y_train = y_train.astype(np.int)[:, np.newaxis]\n",
    "y_test = y_test.astype(np.int)[:, np.newaxis]\n",
    "\n",
    "#one-hotエンコーディング\n",
    "enc = OneHotEncoder(handle_unknown='ignore', sparse=False)\n",
    "y_train = enc.fit_transform(y_train)\n",
    "y_test = enc.fit_transform(y_test)\n",
    "\n",
    "#データの変換\n",
    "X_train = X_train.reshape(-1, 784)\n",
    "X_test = X_test.reshape(-1, 784)\n",
    "X_train = X_train.astype(np.float)\n",
    "X_test = X_test.astype(np.float)\n",
    "X_train /= 255\n",
    "X_test /= 255\n",
    "\n",
    "#分割\n",
    "X_train, X_val, y_train, y_val = train_test_split(X_train, y_train, test_size=0.2)"
   ]
  },
  {
   "cell_type": "code",
   "execution_count": 24,
   "metadata": {},
   "outputs": [],
   "source": [
    "#入力層\n",
    "input_data = tf.keras.layers.Input(shape=(784,))\n",
    "\n",
    "#隠れ層\n",
    "x = tf.keras.layers.Dense(100, activation=tf.nn.relu, kernel_initializer='he_normal')(input_data)\n",
    "x = tf.keras.layers.Dense(50, activation=tf.nn.relu, kernel_initializer='he_normal')(x)\n",
    "\n",
    "#出力層\n",
    "output = tf.keras.layers.Dense(10, activation=tf.nn.softmax, kernel_initializer='he_normal')(x)\n",
    "\n",
    "#インスタンスを渡す\n",
    "model = tf.keras.Model(inputs=input_data, outputs=output)"
   ]
  },
  {
   "cell_type": "code",
   "execution_count": 25,
   "metadata": {},
   "outputs": [
    {
     "name": "stdout",
     "output_type": "stream",
     "text": [
      "_________________________________________________________________\n",
      "Layer (type)                 Output Shape              Param #   \n",
      "=================================================================\n",
      "input_4 (InputLayer)         (None, 784)               0         \n",
      "_________________________________________________________________\n",
      "dense_9 (Dense)              (None, 100)               78500     \n",
      "_________________________________________________________________\n",
      "dense_10 (Dense)             (None, 50)                5050      \n",
      "_________________________________________________________________\n",
      "dense_11 (Dense)             (None, 10)                510       \n",
      "=================================================================\n",
      "Total params: 84,060\n",
      "Trainable params: 84,060\n",
      "Non-trainable params: 0\n",
      "_________________________________________________________________\n"
     ]
    }
   ],
   "source": [
    "model.summary()"
   ]
  },
  {
   "cell_type": "code",
   "execution_count": 26,
   "metadata": {},
   "outputs": [],
   "source": [
    "#コンパイル\n",
    "model.compile(loss='categorical_crossentropy', \n",
    "                           optimizer=tf.train.AdamOptimizer(learning_rate=0.01),\n",
    "                            metrics=['accuracy'])"
   ]
  },
  {
   "cell_type": "code",
   "execution_count": 27,
   "metadata": {},
   "outputs": [
    {
     "name": "stdout",
     "output_type": "stream",
     "text": [
      "Train on 48000 samples, validate on 12000 samples\n",
      "Epoch 1/10\n",
      "48000/48000 [==============================] - 7s 139us/sample - loss: 0.3582 - acc: 0.9004 - val_loss: 0.2424 - val_acc: 0.9358\n",
      "Epoch 2/10\n",
      "48000/48000 [==============================] - 6s 134us/sample - loss: 0.2721 - acc: 0.9327 - val_loss: 0.2988 - val_acc: 0.9318\n",
      "Epoch 3/10\n",
      "48000/48000 [==============================] - 6s 135us/sample - loss: 0.2363 - acc: 0.9429 - val_loss: 0.1980 - val_acc: 0.9527\n",
      "Epoch 4/10\n",
      "48000/48000 [==============================] - 7s 141us/sample - loss: 0.2254 - acc: 0.9468 - val_loss: 0.2507 - val_acc: 0.9494\n",
      "Epoch 5/10\n",
      "48000/48000 [==============================] - 8s 164us/sample - loss: 0.2210 - acc: 0.9486 - val_loss: 0.2068 - val_acc: 0.9535\n",
      "Epoch 6/10\n",
      "48000/48000 [==============================] - 7s 141us/sample - loss: 0.2234 - acc: 0.9509 - val_loss: 0.2378 - val_acc: 0.9456\n",
      "Epoch 7/10\n",
      "48000/48000 [==============================] - 7s 154us/sample - loss: 0.2224 - acc: 0.9520 - val_loss: 0.2748 - val_acc: 0.9359\n",
      "Epoch 8/10\n",
      "48000/48000 [==============================] - 7s 139us/sample - loss: 0.2227 - acc: 0.9503 - val_loss: 0.3041 - val_acc: 0.9302\n",
      "Epoch 9/10\n",
      "48000/48000 [==============================] - 7s 143us/sample - loss: 0.2402 - acc: 0.9453 - val_loss: 0.2861 - val_acc: 0.9374\n",
      "Epoch 10/10\n",
      "48000/48000 [==============================] - 7s 143us/sample - loss: 0.2326 - acc: 0.9479 - val_loss: 0.2694 - val_acc: 0.9452\n"
     ]
    }
   ],
   "source": [
    "#学習\n",
    "history = model.fit(X_train, y_train, batch_size=10, epochs=10, verbose=1, validation_data=(X_val, y_val))"
   ]
  },
  {
   "cell_type": "code",
   "execution_count": 28,
   "metadata": {},
   "outputs": [
    {
     "name": "stdout",
     "output_type": "stream",
     "text": [
      "y_pred_proba [[3.49033591e-34 3.16157802e-08 3.65171028e-13 ... 1.00000000e+00\n",
      "  7.72079122e-26 5.74775338e-09]\n",
      " [1.53312136e-17 1.96032506e-08 9.99561012e-01 ... 2.91927223e-04\n",
      "  5.91441562e-08 0.00000000e+00]\n",
      " [0.00000000e+00 9.99999762e-01 1.33244322e-14 ... 4.16143548e-17\n",
      "  2.34985350e-07 2.19536249e-28]\n",
      " ...\n",
      " [3.05605047e-28 7.24789880e-17 4.26016887e-25 ... 1.07663241e-13\n",
      "  1.07337176e-14 1.99388211e-07]\n",
      " [0.00000000e+00 0.00000000e+00 0.00000000e+00 ... 0.00000000e+00\n",
      "  0.00000000e+00 0.00000000e+00]\n",
      " [0.00000000e+00 0.00000000e+00 0.00000000e+00 ... 0.00000000e+00\n",
      "  0.00000000e+00 0.00000000e+00]]\n",
      "y_pred [7 2 1 ... 4 5 6]\n"
     ]
    }
   ],
   "source": [
    "#推定\n",
    "y_pred_proba = model.predict(X_test)\n",
    "\n",
    "y_pred = np.argmax(y_pred_proba, axis=1)\n",
    "\n",
    "print(\"y_pred_proba\", y_pred_proba)\n",
    "print(\"y_pred\", y_pred)"
   ]
  },
  {
   "cell_type": "code",
   "execution_count": 29,
   "metadata": {},
   "outputs": [
    {
     "name": "stdout",
     "output_type": "stream",
     "text": [
      "Test loss: 0.2697908725791796\n",
      "Test accuracy: 0.9465\n"
     ]
    }
   ],
   "source": [
    "#評価\n",
    "score = model.evaluate(X_test, y_test, verbose=0)\n",
    "print('Test loss:', score[0])\n",
    "print('Test accuracy:', score[1])"
   ]
  }
 ],
 "metadata": {
  "kernelspec": {
   "display_name": "Python 3",
   "language": "python",
   "name": "python3"
  },
  "language_info": {
   "codemirror_mode": {
    "name": "ipython",
    "version": 3
   },
   "file_extension": ".py",
   "mimetype": "text/x-python",
   "name": "python",
   "nbconvert_exporter": "python",
   "pygments_lexer": "ipython3",
   "version": "3.7.2"
  },
  "varInspector": {
   "cols": {
    "lenName": 16,
    "lenType": 16,
    "lenVar": 40
   },
   "kernels_config": {
    "python": {
     "delete_cmd_postfix": "",
     "delete_cmd_prefix": "del ",
     "library": "var_list.py",
     "varRefreshCmd": "print(var_dic_list())"
    },
    "r": {
     "delete_cmd_postfix": ") ",
     "delete_cmd_prefix": "rm(",
     "library": "var_list.r",
     "varRefreshCmd": "cat(var_dic_list()) "
    }
   },
   "types_to_exclude": [
    "module",
    "function",
    "builtin_function_or_method",
    "instance",
    "_Feature"
   ],
   "window_display": false
  }
 },
 "nbformat": 4,
 "nbformat_minor": 2
}
